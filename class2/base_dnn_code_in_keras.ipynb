{
  "nbformat": 4,
  "nbformat_minor": 0,
  "metadata": {
    "colab": {
      "name": "base_dnn_code_in_keras.ipynb",
      "provenance": [],
      "collapsed_sections": []
    },
    "kernelspec": {
      "name": "python3",
      "display_name": "Python 3"
    },
    "language_info": {
      "name": "python"
    }
  },
  "cells": [
    {
      "cell_type": "markdown",
      "metadata": {
        "id": "HJ5g4PQQAj4F"
      },
      "source": [
        "# Keras 코드의 기본 구조"
      ]
    },
    {
      "cell_type": "markdown",
      "metadata": {
        "id": "DIwxCjeeApC4"
      },
      "source": [
        "## 라이브러리 임포팅"
      ]
    },
    {
      "cell_type": "code",
      "metadata": {
        "id": "UKLT2_YY-_jU"
      },
      "source": [
        "import numpy as np\n",
        "import pandas as pd\n",
        "import matplotlib.pyplot as plt\n",
        "\n",
        "import tensorflow as tf\n",
        "\n",
        "from tensorflow import keras\n",
        "from tensorflow.keras import optimizers\n",
        "from tensorflow.keras.layers import Dense, Input"
      ],
      "execution_count": 14,
      "outputs": []
    },
    {
      "cell_type": "markdown",
      "metadata": {
        "id": "mLId1mL6AsGI"
      },
      "source": [
        "## 데이터 로딩"
      ]
    },
    {
      "cell_type": "code",
      "metadata": {
        "id": "3g_xjaE6A9ij"
      },
      "source": [
        "(train_x, train_y), (test_x, test_y) = tf.keras.datasets.boston_housing.load_data()"
      ],
      "execution_count": 15,
      "outputs": []
    },
    {
      "cell_type": "code",
      "metadata": {
        "colab": {
          "base_uri": "https://localhost:8080/"
        },
        "id": "n4CY3juG-4u8",
        "outputId": "534409f9-2096-4709-a4ae-fded80bdc85f"
      },
      "source": [
        "print(train_x.shape)\n",
        "print(train_y.shape)\n",
        "print(test_x.shape)\n",
        "print(test_y.shape)"
      ],
      "execution_count": 16,
      "outputs": [
        {
          "output_type": "stream",
          "name": "stdout",
          "text": [
            "(404, 13)\n",
            "(404,)\n",
            "(102, 13)\n",
            "(102,)\n"
          ]
        }
      ]
    },
    {
      "cell_type": "code",
      "metadata": {
        "colab": {
          "base_uri": "https://localhost:8080/"
        },
        "id": "_3Tvjpn5_Dta",
        "outputId": "6bb63601-f64e-42f1-84a9-9252fa6f4279"
      },
      "source": [
        "print(train_x[:5])\n",
        "print(train_y[:5])"
      ],
      "execution_count": 17,
      "outputs": [
        {
          "output_type": "stream",
          "name": "stdout",
          "text": [
            "[[1.23247e+00 0.00000e+00 8.14000e+00 0.00000e+00 5.38000e-01 6.14200e+00\n",
            "  9.17000e+01 3.97690e+00 4.00000e+00 3.07000e+02 2.10000e+01 3.96900e+02\n",
            "  1.87200e+01]\n",
            " [2.17700e-02 8.25000e+01 2.03000e+00 0.00000e+00 4.15000e-01 7.61000e+00\n",
            "  1.57000e+01 6.27000e+00 2.00000e+00 3.48000e+02 1.47000e+01 3.95380e+02\n",
            "  3.11000e+00]\n",
            " [4.89822e+00 0.00000e+00 1.81000e+01 0.00000e+00 6.31000e-01 4.97000e+00\n",
            "  1.00000e+02 1.33250e+00 2.40000e+01 6.66000e+02 2.02000e+01 3.75520e+02\n",
            "  3.26000e+00]\n",
            " [3.96100e-02 0.00000e+00 5.19000e+00 0.00000e+00 5.15000e-01 6.03700e+00\n",
            "  3.45000e+01 5.98530e+00 5.00000e+00 2.24000e+02 2.02000e+01 3.96900e+02\n",
            "  8.01000e+00]\n",
            " [3.69311e+00 0.00000e+00 1.81000e+01 0.00000e+00 7.13000e-01 6.37600e+00\n",
            "  8.84000e+01 2.56710e+00 2.40000e+01 6.66000e+02 2.02000e+01 3.91430e+02\n",
            "  1.46500e+01]]\n",
            "[15.2 42.3 50.  21.1 17.7]\n"
          ]
        }
      ]
    },
    {
      "cell_type": "markdown",
      "metadata": {
        "id": "ApmwMYtPBmpJ"
      },
      "source": [
        "## 모델 정의"
      ]
    },
    {
      "cell_type": "code",
      "metadata": {
        "id": "ys8DFaudBmU0"
      },
      "source": [
        "model = keras.Sequential()\n",
        "model.add(Input(13))\n",
        "model.add(Dense(10, activation='relu'))\n",
        "model.add(Dense(10, activation='relu'))\n",
        "model.add(Dense(1))"
      ],
      "execution_count": 18,
      "outputs": []
    },
    {
      "cell_type": "markdown",
      "metadata": {
        "id": "4m9jvYfzBruP"
      },
      "source": [
        "## 모델 컴파일\n",
        "\n",
        "학습에 필요한 loss, optimizer를 정의한다.\n",
        "\n",
        "또한 필요한 경우 지표를 설정한다."
      ]
    },
    {
      "cell_type": "code",
      "metadata": {
        "colab": {
          "base_uri": "https://localhost:8080/"
        },
        "id": "Xw5ysH_wBqzH",
        "outputId": "3b711053-56c7-4161-b31f-f15e03e4f48e"
      },
      "source": [
        "model.compile(optimizer=\"Adam\", loss=\"mse\", metrics=[\"mae\"])\n",
        "model.summary()"
      ],
      "execution_count": 19,
      "outputs": [
        {
          "output_type": "stream",
          "name": "stdout",
          "text": [
            "Model: \"sequential_1\"\n",
            "_________________________________________________________________\n",
            "Layer (type)                 Output Shape              Param #   \n",
            "=================================================================\n",
            "dense_3 (Dense)              (None, 10)                140       \n",
            "_________________________________________________________________\n",
            "dense_4 (Dense)              (None, 10)                110       \n",
            "_________________________________________________________________\n",
            "dense_5 (Dense)              (None, 1)                 11        \n",
            "=================================================================\n",
            "Total params: 261\n",
            "Trainable params: 261\n",
            "Non-trainable params: 0\n",
            "_________________________________________________________________\n"
          ]
        }
      ]
    },
    {
      "cell_type": "markdown",
      "metadata": {
        "id": "BksbioIZB6Mk"
      },
      "source": [
        "## 모델 학습"
      ]
    },
    {
      "cell_type": "code",
      "metadata": {
        "colab": {
          "base_uri": "https://localhost:8080/"
        },
        "id": "Wa7OoLm-B8OU",
        "outputId": "fda15bd0-6bb3-4623-9296-c755594950b9"
      },
      "source": [
        "history = model.fit(train_x, train_y, epochs=100, batch_size=32, validation_split=0.2)"
      ],
      "execution_count": 20,
      "outputs": [
        {
          "output_type": "stream",
          "name": "stdout",
          "text": [
            "Epoch 1/100\n",
            "11/11 [==============================] - 1s 15ms/step - loss: 618.2672 - mae: 21.6497 - val_loss: 490.2819 - val_mae: 20.0143\n",
            "Epoch 2/100\n",
            "11/11 [==============================] - 0s 4ms/step - loss: 396.5616 - mae: 17.3318 - val_loss: 345.2505 - val_mae: 16.0162\n",
            "Epoch 3/100\n",
            "11/11 [==============================] - 0s 4ms/step - loss: 255.6552 - mae: 13.3881 - val_loss: 212.5780 - val_mae: 12.3801\n",
            "Epoch 4/100\n",
            "11/11 [==============================] - 0s 3ms/step - loss: 176.5406 - mae: 10.9040 - val_loss: 161.3197 - val_mae: 10.5712\n",
            "Epoch 5/100\n",
            "11/11 [==============================] - 0s 4ms/step - loss: 141.5701 - mae: 9.5767 - val_loss: 137.6231 - val_mae: 9.5082\n",
            "Epoch 6/100\n",
            "11/11 [==============================] - 0s 4ms/step - loss: 119.3943 - mae: 8.5014 - val_loss: 124.9118 - val_mae: 8.7236\n",
            "Epoch 7/100\n",
            "11/11 [==============================] - 0s 4ms/step - loss: 104.0901 - mae: 7.8408 - val_loss: 104.6961 - val_mae: 7.9267\n",
            "Epoch 8/100\n",
            "11/11 [==============================] - 0s 4ms/step - loss: 97.3907 - mae: 7.7558 - val_loss: 96.0527 - val_mae: 7.4886\n",
            "Epoch 9/100\n",
            "11/11 [==============================] - 0s 5ms/step - loss: 92.0623 - mae: 7.4834 - val_loss: 99.1908 - val_mae: 7.3303\n",
            "Epoch 10/100\n",
            "11/11 [==============================] - 0s 4ms/step - loss: 89.4851 - mae: 7.2868 - val_loss: 95.4409 - val_mae: 7.1231\n",
            "Epoch 11/100\n",
            "11/11 [==============================] - 0s 4ms/step - loss: 87.6274 - mae: 7.2407 - val_loss: 92.8863 - val_mae: 6.9737\n",
            "Epoch 12/100\n",
            "11/11 [==============================] - 0s 4ms/step - loss: 85.8125 - mae: 7.1944 - val_loss: 91.3553 - val_mae: 6.8818\n",
            "Epoch 13/100\n",
            "11/11 [==============================] - 0s 3ms/step - loss: 84.1855 - mae: 7.1107 - val_loss: 89.9678 - val_mae: 6.8039\n",
            "Epoch 14/100\n",
            "11/11 [==============================] - 0s 6ms/step - loss: 82.7940 - mae: 7.0261 - val_loss: 89.9472 - val_mae: 6.7967\n",
            "Epoch 15/100\n",
            "11/11 [==============================] - 0s 4ms/step - loss: 81.1446 - mae: 6.9406 - val_loss: 89.0517 - val_mae: 6.7404\n",
            "Epoch 16/100\n",
            "11/11 [==============================] - 0s 4ms/step - loss: 80.0449 - mae: 6.8948 - val_loss: 87.5100 - val_mae: 6.6441\n",
            "Epoch 17/100\n",
            "11/11 [==============================] - 0s 4ms/step - loss: 79.9358 - mae: 6.7565 - val_loss: 92.6418 - val_mae: 6.7591\n",
            "Epoch 18/100\n",
            "11/11 [==============================] - 0s 4ms/step - loss: 77.9346 - mae: 6.7644 - val_loss: 84.1601 - val_mae: 6.5022\n",
            "Epoch 19/100\n",
            "11/11 [==============================] - 0s 4ms/step - loss: 76.3227 - mae: 6.7306 - val_loss: 86.9306 - val_mae: 6.5399\n",
            "Epoch 20/100\n",
            "11/11 [==============================] - 0s 4ms/step - loss: 75.7413 - mae: 6.5763 - val_loss: 87.8224 - val_mae: 6.5571\n",
            "Epoch 21/100\n",
            "11/11 [==============================] - 0s 4ms/step - loss: 74.3249 - mae: 6.5485 - val_loss: 84.9801 - val_mae: 6.4497\n",
            "Epoch 22/100\n",
            "11/11 [==============================] - 0s 4ms/step - loss: 73.1670 - mae: 6.5599 - val_loss: 82.8098 - val_mae: 6.3683\n",
            "Epoch 23/100\n",
            "11/11 [==============================] - 0s 4ms/step - loss: 72.2233 - mae: 6.5272 - val_loss: 83.2549 - val_mae: 6.3635\n",
            "Epoch 24/100\n",
            "11/11 [==============================] - 0s 4ms/step - loss: 71.6522 - mae: 6.3921 - val_loss: 83.2090 - val_mae: 6.3379\n",
            "Epoch 25/100\n",
            "11/11 [==============================] - 0s 4ms/step - loss: 71.5723 - mae: 6.5445 - val_loss: 79.9503 - val_mae: 6.2238\n",
            "Epoch 26/100\n",
            "11/11 [==============================] - 0s 4ms/step - loss: 69.0563 - mae: 6.3952 - val_loss: 86.3069 - val_mae: 6.3810\n",
            "Epoch 27/100\n",
            "11/11 [==============================] - 0s 4ms/step - loss: 69.2471 - mae: 6.1958 - val_loss: 81.9067 - val_mae: 6.2206\n",
            "Epoch 28/100\n",
            "11/11 [==============================] - 0s 4ms/step - loss: 69.0813 - mae: 6.4016 - val_loss: 79.1092 - val_mae: 6.1560\n",
            "Epoch 29/100\n",
            "11/11 [==============================] - 0s 4ms/step - loss: 70.0582 - mae: 6.1948 - val_loss: 86.9521 - val_mae: 6.3961\n",
            "Epoch 30/100\n",
            "11/11 [==============================] - 0s 4ms/step - loss: 66.7665 - mae: 6.1756 - val_loss: 78.2534 - val_mae: 6.1295\n",
            "Epoch 31/100\n",
            "11/11 [==============================] - 0s 4ms/step - loss: 67.6462 - mae: 6.3477 - val_loss: 78.8893 - val_mae: 6.0925\n",
            "Epoch 32/100\n",
            "11/11 [==============================] - 0s 4ms/step - loss: 66.3078 - mae: 6.0741 - val_loss: 82.1735 - val_mae: 6.1609\n",
            "Epoch 33/100\n",
            "11/11 [==============================] - 0s 4ms/step - loss: 65.1148 - mae: 6.0650 - val_loss: 78.5710 - val_mae: 6.0346\n",
            "Epoch 34/100\n",
            "11/11 [==============================] - 0s 4ms/step - loss: 64.9575 - mae: 6.1271 - val_loss: 78.2373 - val_mae: 6.0010\n",
            "Epoch 35/100\n",
            "11/11 [==============================] - 0s 4ms/step - loss: 64.5249 - mae: 6.1069 - val_loss: 76.9929 - val_mae: 5.9650\n",
            "Epoch 36/100\n",
            "11/11 [==============================] - 0s 4ms/step - loss: 64.4162 - mae: 6.1138 - val_loss: 77.6374 - val_mae: 6.0582\n",
            "Epoch 37/100\n",
            "11/11 [==============================] - 0s 4ms/step - loss: 63.3565 - mae: 5.9580 - val_loss: 79.6470 - val_mae: 6.1424\n",
            "Epoch 38/100\n",
            "11/11 [==============================] - 0s 4ms/step - loss: 62.7957 - mae: 5.8506 - val_loss: 79.9405 - val_mae: 6.1129\n",
            "Epoch 39/100\n",
            "11/11 [==============================] - 0s 4ms/step - loss: 62.0694 - mae: 5.8971 - val_loss: 76.7026 - val_mae: 5.9485\n",
            "Epoch 40/100\n",
            "11/11 [==============================] - 0s 4ms/step - loss: 61.8778 - mae: 5.9301 - val_loss: 77.7514 - val_mae: 5.9494\n",
            "Epoch 41/100\n",
            "11/11 [==============================] - 0s 4ms/step - loss: 61.3063 - mae: 5.8254 - val_loss: 78.3041 - val_mae: 5.9534\n",
            "Epoch 42/100\n",
            "11/11 [==============================] - 0s 4ms/step - loss: 61.3552 - mae: 5.7529 - val_loss: 79.1849 - val_mae: 5.9547\n",
            "Epoch 43/100\n",
            "11/11 [==============================] - 0s 4ms/step - loss: 60.8442 - mae: 5.6986 - val_loss: 77.6895 - val_mae: 5.9655\n",
            "Epoch 44/100\n",
            "11/11 [==============================] - 0s 4ms/step - loss: 60.1445 - mae: 5.7351 - val_loss: 76.8468 - val_mae: 5.9332\n",
            "Epoch 45/100\n",
            "11/11 [==============================] - 0s 5ms/step - loss: 59.6551 - mae: 5.7056 - val_loss: 74.1333 - val_mae: 5.8055\n",
            "Epoch 46/100\n",
            "11/11 [==============================] - 0s 4ms/step - loss: 60.5128 - mae: 5.9144 - val_loss: 73.9092 - val_mae: 5.9146\n",
            "Epoch 47/100\n",
            "11/11 [==============================] - 0s 4ms/step - loss: 59.4982 - mae: 5.6222 - val_loss: 82.2752 - val_mae: 6.1065\n",
            "Epoch 48/100\n",
            "11/11 [==============================] - 0s 4ms/step - loss: 59.5030 - mae: 5.5108 - val_loss: 75.2897 - val_mae: 5.8015\n",
            "Epoch 49/100\n",
            "11/11 [==============================] - 0s 4ms/step - loss: 59.0344 - mae: 5.7594 - val_loss: 72.7355 - val_mae: 5.7520\n",
            "Epoch 50/100\n",
            "11/11 [==============================] - 0s 4ms/step - loss: 58.4922 - mae: 5.5531 - val_loss: 78.3242 - val_mae: 5.8851\n",
            "Epoch 51/100\n",
            "11/11 [==============================] - 0s 4ms/step - loss: 57.8415 - mae: 5.4917 - val_loss: 74.5016 - val_mae: 5.7526\n",
            "Epoch 52/100\n",
            "11/11 [==============================] - 0s 4ms/step - loss: 57.1155 - mae: 5.5386 - val_loss: 73.9917 - val_mae: 5.7182\n",
            "Epoch 53/100\n",
            "11/11 [==============================] - 0s 4ms/step - loss: 57.1107 - mae: 5.6059 - val_loss: 73.2210 - val_mae: 5.7061\n",
            "Epoch 54/100\n",
            "11/11 [==============================] - 0s 4ms/step - loss: 57.3841 - mae: 5.4518 - val_loss: 75.4731 - val_mae: 5.7782\n",
            "Epoch 55/100\n",
            "11/11 [==============================] - 0s 5ms/step - loss: 58.3094 - mae: 5.6862 - val_loss: 71.4802 - val_mae: 5.6465\n",
            "Epoch 56/100\n",
            "11/11 [==============================] - 0s 4ms/step - loss: 55.5172 - mae: 5.4290 - val_loss: 77.8268 - val_mae: 5.7979\n",
            "Epoch 57/100\n",
            "11/11 [==============================] - 0s 4ms/step - loss: 58.7700 - mae: 5.4374 - val_loss: 73.6654 - val_mae: 5.6588\n",
            "Epoch 58/100\n",
            "11/11 [==============================] - 0s 4ms/step - loss: 56.9222 - mae: 5.6626 - val_loss: 69.5571 - val_mae: 5.6517\n",
            "Epoch 59/100\n",
            "11/11 [==============================] - 0s 4ms/step - loss: 54.7122 - mae: 5.3916 - val_loss: 75.3280 - val_mae: 5.7224\n",
            "Epoch 60/100\n",
            "11/11 [==============================] - 0s 4ms/step - loss: 55.4406 - mae: 5.4517 - val_loss: 69.8207 - val_mae: 5.5962\n",
            "Epoch 61/100\n",
            "11/11 [==============================] - 0s 3ms/step - loss: 54.9243 - mae: 5.4423 - val_loss: 71.7693 - val_mae: 5.6114\n",
            "Epoch 62/100\n",
            "11/11 [==============================] - 0s 4ms/step - loss: 54.8486 - mae: 5.2932 - val_loss: 72.5985 - val_mae: 5.6283\n",
            "Epoch 63/100\n",
            "11/11 [==============================] - 0s 3ms/step - loss: 54.1323 - mae: 5.3037 - val_loss: 70.5503 - val_mae: 5.5623\n",
            "Epoch 64/100\n",
            "11/11 [==============================] - 0s 3ms/step - loss: 53.8727 - mae: 5.3084 - val_loss: 71.7483 - val_mae: 5.5813\n",
            "Epoch 65/100\n",
            "11/11 [==============================] - 0s 3ms/step - loss: 53.7259 - mae: 5.2073 - val_loss: 72.8706 - val_mae: 5.5920\n",
            "Epoch 66/100\n",
            "11/11 [==============================] - 0s 4ms/step - loss: 53.7907 - mae: 5.3029 - val_loss: 69.7832 - val_mae: 5.5082\n",
            "Epoch 67/100\n",
            "11/11 [==============================] - 0s 4ms/step - loss: 53.0547 - mae: 5.2439 - val_loss: 70.0442 - val_mae: 5.5089\n",
            "Epoch 68/100\n",
            "11/11 [==============================] - 0s 4ms/step - loss: 53.0560 - mae: 5.1979 - val_loss: 69.9289 - val_mae: 5.4941\n",
            "Epoch 69/100\n",
            "11/11 [==============================] - 0s 4ms/step - loss: 53.2458 - mae: 5.2657 - val_loss: 72.7691 - val_mae: 5.5680\n",
            "Epoch 70/100\n",
            "11/11 [==============================] - 0s 4ms/step - loss: 53.4087 - mae: 5.1323 - val_loss: 72.7193 - val_mae: 5.5539\n",
            "Epoch 71/100\n",
            "11/11 [==============================] - 0s 4ms/step - loss: 53.6327 - mae: 5.3385 - val_loss: 68.2586 - val_mae: 5.4860\n",
            "Epoch 72/100\n",
            "11/11 [==============================] - 0s 4ms/step - loss: 53.3023 - mae: 5.1124 - val_loss: 72.4308 - val_mae: 5.5274\n",
            "Epoch 73/100\n",
            "11/11 [==============================] - 0s 4ms/step - loss: 53.0276 - mae: 5.3056 - val_loss: 67.3942 - val_mae: 5.4537\n",
            "Epoch 74/100\n",
            "11/11 [==============================] - 0s 4ms/step - loss: 51.9761 - mae: 5.1083 - val_loss: 71.7364 - val_mae: 5.5289\n",
            "Epoch 75/100\n",
            "11/11 [==============================] - 0s 4ms/step - loss: 51.5740 - mae: 5.1863 - val_loss: 66.5155 - val_mae: 5.4055\n",
            "Epoch 76/100\n",
            "11/11 [==============================] - 0s 4ms/step - loss: 51.1986 - mae: 5.1266 - val_loss: 70.2548 - val_mae: 5.4409\n",
            "Epoch 77/100\n",
            "11/11 [==============================] - 0s 4ms/step - loss: 51.3858 - mae: 5.1066 - val_loss: 67.7543 - val_mae: 5.3896\n",
            "Epoch 78/100\n",
            "11/11 [==============================] - 0s 5ms/step - loss: 52.3461 - mae: 5.0412 - val_loss: 70.8973 - val_mae: 5.4503\n",
            "Epoch 79/100\n",
            "11/11 [==============================] - 0s 4ms/step - loss: 50.9761 - mae: 5.1059 - val_loss: 66.2540 - val_mae: 5.3808\n",
            "Epoch 80/100\n",
            "11/11 [==============================] - 0s 4ms/step - loss: 50.4904 - mae: 5.0630 - val_loss: 68.5662 - val_mae: 5.3937\n",
            "Epoch 81/100\n",
            "11/11 [==============================] - 0s 4ms/step - loss: 51.5063 - mae: 4.9973 - val_loss: 67.9736 - val_mae: 5.3643\n",
            "Epoch 82/100\n",
            "11/11 [==============================] - 0s 4ms/step - loss: 50.8144 - mae: 5.1957 - val_loss: 64.5372 - val_mae: 5.3870\n",
            "Epoch 83/100\n",
            "11/11 [==============================] - 0s 4ms/step - loss: 50.2335 - mae: 5.0395 - val_loss: 68.9267 - val_mae: 5.3748\n",
            "Epoch 84/100\n",
            "11/11 [==============================] - 0s 4ms/step - loss: 50.3409 - mae: 5.0476 - val_loss: 66.0535 - val_mae: 5.3405\n",
            "Epoch 85/100\n",
            "11/11 [==============================] - 0s 4ms/step - loss: 49.4948 - mae: 4.9695 - val_loss: 68.1243 - val_mae: 5.3357\n",
            "Epoch 86/100\n",
            "11/11 [==============================] - 0s 4ms/step - loss: 49.5442 - mae: 5.0136 - val_loss: 65.5801 - val_mae: 5.3089\n",
            "Epoch 87/100\n",
            "11/11 [==============================] - 0s 4ms/step - loss: 49.8224 - mae: 4.9610 - val_loss: 66.0288 - val_mae: 5.2810\n",
            "Epoch 88/100\n",
            "11/11 [==============================] - 0s 4ms/step - loss: 49.9785 - mae: 5.1686 - val_loss: 62.9590 - val_mae: 5.2777\n",
            "Epoch 89/100\n",
            "11/11 [==============================] - 0s 5ms/step - loss: 49.2228 - mae: 4.9632 - val_loss: 67.2567 - val_mae: 5.2824\n",
            "Epoch 90/100\n",
            "11/11 [==============================] - 0s 4ms/step - loss: 48.1836 - mae: 4.9722 - val_loss: 62.0974 - val_mae: 5.3427\n",
            "Epoch 91/100\n",
            "11/11 [==============================] - 0s 4ms/step - loss: 48.8363 - mae: 5.0778 - val_loss: 64.3734 - val_mae: 5.2253\n",
            "Epoch 92/100\n",
            "11/11 [==============================] - 0s 4ms/step - loss: 48.0022 - mae: 4.9303 - val_loss: 63.6551 - val_mae: 5.2253\n",
            "Epoch 93/100\n",
            "11/11 [==============================] - 0s 4ms/step - loss: 48.0181 - mae: 4.9966 - val_loss: 63.1798 - val_mae: 5.2012\n",
            "Epoch 94/100\n",
            "11/11 [==============================] - 0s 4ms/step - loss: 47.5698 - mae: 4.9302 - val_loss: 64.2566 - val_mae: 5.1955\n",
            "Epoch 95/100\n",
            "11/11 [==============================] - 0s 5ms/step - loss: 47.7414 - mae: 4.8634 - val_loss: 64.1946 - val_mae: 5.1862\n",
            "Epoch 96/100\n",
            "11/11 [==============================] - 0s 4ms/step - loss: 47.4533 - mae: 4.8659 - val_loss: 62.5045 - val_mae: 5.1699\n",
            "Epoch 97/100\n",
            "11/11 [==============================] - 0s 4ms/step - loss: 47.1010 - mae: 4.9512 - val_loss: 62.2417 - val_mae: 5.1660\n",
            "Epoch 98/100\n",
            "11/11 [==============================] - 0s 4ms/step - loss: 46.9795 - mae: 4.8336 - val_loss: 65.3193 - val_mae: 5.1985\n",
            "Epoch 99/100\n",
            "11/11 [==============================] - 0s 4ms/step - loss: 47.1676 - mae: 4.7524 - val_loss: 64.6461 - val_mae: 5.1774\n",
            "Epoch 100/100\n",
            "11/11 [==============================] - 0s 6ms/step - loss: 47.7196 - mae: 4.8816 - val_loss: 62.3549 - val_mae: 5.2124\n"
          ]
        }
      ]
    },
    {
      "cell_type": "markdown",
      "metadata": {
        "id": "lgJvUUx6B-At"
      },
      "source": [
        "## 학습 로스 보기"
      ]
    },
    {
      "cell_type": "code",
      "metadata": {
        "colab": {
          "base_uri": "https://localhost:8080/",
          "height": 265
        },
        "id": "O0K5nM1oB9qB",
        "outputId": "8d2b80fa-fcdb-46dd-b462-0e49a9c94e96"
      },
      "source": [
        "plt.plot(history.history['loss'], label=\"loss\")\n",
        "plt.plot(history.history['val_loss'], label=\"val_loss\")\n",
        "plt.legend()\n",
        "plt.show()"
      ],
      "execution_count": 21,
      "outputs": [
        {
          "output_type": "display_data",
          "data": {
            "image/png": "[encoded data removed]",
            "text/plain": [
              "<Figure size 432x288 with 1 Axes>"
            ]
          },
          "metadata": {
            "needs_background": "light"
          }
        }
      ]
    },
    {
      "cell_type": "markdown",
      "metadata": {
        "id": "ewjRBSPVCBPY"
      },
      "source": [
        "## 평가"
      ]
    },
    {
      "cell_type": "code",
      "metadata": {
        "colab": {
          "base_uri": "https://localhost:8080/"
        },
        "id": "ReEQHyYQCAuc",
        "outputId": "753d79e0-259d-46bd-f56c-292d778a1b21"
      },
      "source": [
        "loss, mae = model.evaluate(test_x, test_y)\n",
        "print(\"loss=\", loss)\n",
        "print(\"mae=\", mae)"
      ],
      "execution_count": 22,
      "outputs": [
        {
          "output_type": "stream",
          "name": "stdout",
          "text": [
            "4/4 [==============================] - 0s 3ms/step - loss: 62.6965 - mae: 5.7967\n",
            "loss= 62.69647216796875\n",
            "mae= 5.796658515930176\n"
          ]
        }
      ]
    },
    {
      "cell_type": "markdown",
      "metadata": {
        "id": "mR_AWAE5CDyu"
      },
      "source": [
        "## 예측"
      ]
    },
    {
      "cell_type": "code",
      "metadata": {
        "id": "UdVRvKWqCEKi"
      },
      "source": [
        "y_ = model.predict(test_x)"
      ],
      "execution_count": 23,
      "outputs": []
    },
    {
      "cell_type": "markdown",
      "metadata": {
        "id": "znp7b1paCIAI"
      },
      "source": [
        "## 예측 결과 보기"
      ]
    },
    {
      "cell_type": "code",
      "metadata": {
        "id": "Jfi9lIa6CKN8",
        "colab": {
          "base_uri": "https://localhost:8080/",
          "height": 265
        },
        "outputId": "8d3f77d5-b2b4-453d-ecc2-f5e7097e4643"
      },
      "source": [
        "plt.scatter(test_y, y_)\n",
        "plt.show()"
      ],
      "execution_count": 24,
      "outputs": [
        {
          "output_type": "display_data",
          "data": {
            "image/png": "[encoded data removed]",
            "text/plain": [
              "<Figure size 432x288 with 1 Axes>"
            ]
          },
          "metadata": {
            "needs_background": "light"
          }
        }
      ]
    },
    {
      "cell_type": "markdown",
      "metadata": {
        "id": "FIn3K4NmCVYl"
      },
      "source": [
        "# Keras 코드 기본 구조 - 한눈에 보면"
      ]
    },
    {
      "cell_type": "code",
      "metadata": {
        "id": "aaV-o0hNC7lZ"
      },
      "source": [
        "import numpy as np\n",
        "import pandas as pd\n",
        "import matplotlib.pyplot as plt\n",
        "\n",
        "import tensorflow as tf\n",
        "\n",
        "from tensorflow import keras\n",
        "from tensorflow.keras import optimizers\n",
        "from tensorflow.keras.layers import Dense, Input"
      ],
      "execution_count": 25,
      "outputs": []
    },
    {
      "cell_type": "code",
      "metadata": {
        "id": "3znSAHx2C8IV"
      },
      "source": [
        "(train_x, train_y), (test_x, test_y) = tf.keras.datasets.boston_housing.load_data()"
      ],
      "execution_count": 26,
      "outputs": []
    },
    {
      "cell_type": "code",
      "metadata": {
        "id": "xfCCe4o4ATss",
        "colab": {
          "base_uri": "https://localhost:8080/",
          "height": 1000
        },
        "outputId": "ccceb073-dd8a-431b-a52b-df7c03481954"
      },
      "source": [
        "# 모델 정의\n",
        "model = keras.Sequential()\n",
        "model.add(Input(13))\n",
        "model.add(Dense(10, activation='relu'))\n",
        "model.add(Dense(10, activation='relu'))\n",
        "model.add(Dense(1))\n",
        "\n",
        "\n",
        "# 모델 컴파일\n",
        "model.compile(optimizer=\"Adam\", loss=\"mse\", metrics=[\"mae\"])\n",
        "model.summary()\n",
        "\n",
        "\n",
        "# 모델 학습\n",
        "history = model.fit(train_x, train_y, epochs=100, batch_size=32, validation_split=0.2)\n",
        "\n",
        "\n",
        "# 학습 로스 보기\n",
        "plt.plot(history.history['loss'], label=\"loss\")\n",
        "plt.plot(history.history['val_loss'], label=\"val_loss\")\n",
        "plt.legend()\n",
        "plt.show()\n",
        "\n",
        "\n",
        "# 평가\n",
        "loss, mae = model.evaluate(test_x, test_y)\n",
        "print(\"loss=\", loss)\n",
        "print(\"mae=\", mae)\n",
        "\n",
        "\n",
        "# 예측\n",
        "y_ = model.predict(test_x)\n",
        "\n",
        "\n",
        "# 예측 결과 보기\n",
        "plt.scatter(test_y, y_)\n",
        "plt.show()\n"
      ],
      "execution_count": 27,
      "outputs": [
        {
          "output_type": "stream",
          "name": "stdout",
          "text": [
            "Model: \"sequential_2\"\n",
            "_________________________________________________________________\n",
            "Layer (type)                 Output Shape              Param #   \n",
            "=================================================================\n",
            "dense_6 (Dense)              (None, 10)                140       \n",
            "_________________________________________________________________\n",
            "dense_7 (Dense)              (None, 10)                110       \n",
            "_________________________________________________________________\n",
            "dense_8 (Dense)              (None, 1)                 11        \n",
            "=================================================================\n",
            "Total params: 261\n",
            "Trainable params: 261\n",
            "Non-trainable params: 0\n",
            "_________________________________________________________________\n",
            "Epoch 1/100\n",
            "11/11 [==============================] - 1s 15ms/step - loss: 4583.3237 - mae: 52.2139 - val_loss: 2475.9958 - val_mae: 36.4661\n",
            "Epoch 2/100\n",
            "11/11 [==============================] - 0s 4ms/step - loss: 2163.6826 - mae: 35.3822 - val_loss: 1294.2384 - val_mae: 29.3895\n",
            "Epoch 3/100\n",
            "11/11 [==============================] - 0s 4ms/step - loss: 1117.2373 - mae: 28.3295 - val_loss: 768.1274 - val_mae: 24.0171\n",
            "Epoch 4/100\n",
            "11/11 [==============================] - 0s 3ms/step - loss: 649.3707 - mae: 22.2235 - val_loss: 473.5344 - val_mae: 19.1345\n",
            "Epoch 5/100\n",
            "11/11 [==============================] - 0s 4ms/step - loss: 389.1906 - mae: 17.1876 - val_loss: 302.2270 - val_mae: 15.2374\n",
            "Epoch 6/100\n",
            "11/11 [==============================] - 0s 4ms/step - loss: 236.0805 - mae: 12.9673 - val_loss: 181.6432 - val_mae: 11.4703\n",
            "Epoch 7/100\n",
            "11/11 [==============================] - 0s 6ms/step - loss: 135.1320 - mae: 9.1944 - val_loss: 107.2838 - val_mae: 8.2812\n",
            "Epoch 8/100\n",
            "11/11 [==============================] - 0s 3ms/step - loss: 84.2477 - mae: 6.9786 - val_loss: 73.9244 - val_mae: 6.4136\n",
            "Epoch 9/100\n",
            "11/11 [==============================] - 0s 4ms/step - loss: 67.7810 - mae: 6.4736 - val_loss: 67.3158 - val_mae: 5.7579\n",
            "Epoch 10/100\n",
            "11/11 [==============================] - 0s 4ms/step - loss: 61.8402 - mae: 6.0730 - val_loss: 67.6239 - val_mae: 5.5577\n",
            "Epoch 11/100\n",
            "11/11 [==============================] - 0s 4ms/step - loss: 59.8034 - mae: 5.8854 - val_loss: 68.2207 - val_mae: 5.4987\n",
            "Epoch 12/100\n",
            "11/11 [==============================] - 0s 3ms/step - loss: 57.7890 - mae: 5.7378 - val_loss: 66.3854 - val_mae: 5.3482\n",
            "Epoch 13/100\n",
            "11/11 [==============================] - 0s 5ms/step - loss: 56.7626 - mae: 5.5918 - val_loss: 67.5881 - val_mae: 5.4496\n",
            "Epoch 14/100\n",
            "11/11 [==============================] - 0s 4ms/step - loss: 54.5331 - mae: 5.4502 - val_loss: 64.3329 - val_mae: 5.2986\n",
            "Epoch 15/100\n",
            "11/11 [==============================] - 0s 3ms/step - loss: 53.5121 - mae: 5.4380 - val_loss: 64.1264 - val_mae: 5.2932\n",
            "Epoch 16/100\n",
            "11/11 [==============================] - 0s 5ms/step - loss: 52.8855 - mae: 5.3608 - val_loss: 64.4559 - val_mae: 5.3497\n",
            "Epoch 17/100\n",
            "11/11 [==============================] - 0s 4ms/step - loss: 52.1836 - mae: 5.2642 - val_loss: 65.1107 - val_mae: 5.3250\n",
            "Epoch 18/100\n",
            "11/11 [==============================] - 0s 4ms/step - loss: 51.4656 - mae: 5.2260 - val_loss: 64.4456 - val_mae: 5.2627\n",
            "Epoch 19/100\n",
            "11/11 [==============================] - 0s 5ms/step - loss: 50.9927 - mae: 5.1166 - val_loss: 66.7504 - val_mae: 5.2876\n",
            "Epoch 20/100\n",
            "11/11 [==============================] - 0s 4ms/step - loss: 49.8887 - mae: 5.0518 - val_loss: 63.5173 - val_mae: 5.1514\n",
            "Epoch 21/100\n",
            "11/11 [==============================] - 0s 5ms/step - loss: 51.1972 - mae: 5.3006 - val_loss: 61.8551 - val_mae: 5.1752\n",
            "Epoch 22/100\n",
            "11/11 [==============================] - 0s 3ms/step - loss: 49.6020 - mae: 5.0555 - val_loss: 65.6579 - val_mae: 5.2946\n",
            "Epoch 23/100\n",
            "11/11 [==============================] - 0s 4ms/step - loss: 49.3786 - mae: 5.0175 - val_loss: 62.5060 - val_mae: 5.1151\n",
            "Epoch 24/100\n",
            "11/11 [==============================] - 0s 4ms/step - loss: 48.8674 - mae: 4.9596 - val_loss: 64.0112 - val_mae: 5.1379\n",
            "Epoch 25/100\n",
            "11/11 [==============================] - 0s 4ms/step - loss: 48.2922 - mae: 4.9866 - val_loss: 61.9961 - val_mae: 5.0754\n",
            "Epoch 26/100\n",
            "11/11 [==============================] - 0s 4ms/step - loss: 48.2574 - mae: 4.9015 - val_loss: 65.4268 - val_mae: 5.1696\n",
            "Epoch 27/100\n",
            "11/11 [==============================] - 0s 4ms/step - loss: 48.1715 - mae: 4.8489 - val_loss: 62.2373 - val_mae: 5.0874\n",
            "Epoch 28/100\n",
            "11/11 [==============================] - 0s 4ms/step - loss: 47.4799 - mae: 4.9565 - val_loss: 59.8139 - val_mae: 5.1204\n",
            "Epoch 29/100\n",
            "11/11 [==============================] - 0s 4ms/step - loss: 48.3014 - mae: 5.1045 - val_loss: 60.5569 - val_mae: 5.0600\n",
            "Epoch 30/100\n",
            "11/11 [==============================] - 0s 4ms/step - loss: 46.8043 - mae: 4.8009 - val_loss: 64.7447 - val_mae: 5.2006\n",
            "Epoch 31/100\n",
            "11/11 [==============================] - 0s 4ms/step - loss: 47.2269 - mae: 4.7512 - val_loss: 61.2419 - val_mae: 5.0297\n",
            "Epoch 32/100\n",
            "11/11 [==============================] - 0s 4ms/step - loss: 47.1629 - mae: 4.9512 - val_loss: 59.5578 - val_mae: 5.0075\n",
            "Epoch 33/100\n",
            "11/11 [==============================] - 0s 4ms/step - loss: 46.2125 - mae: 4.7826 - val_loss: 61.7426 - val_mae: 5.0592\n",
            "Epoch 34/100\n",
            "11/11 [==============================] - 0s 4ms/step - loss: 46.7638 - mae: 4.7113 - val_loss: 61.8132 - val_mae: 5.0832\n",
            "Epoch 35/100\n",
            "11/11 [==============================] - 0s 4ms/step - loss: 45.6439 - mae: 4.7061 - val_loss: 59.9891 - val_mae: 4.9900\n",
            "Epoch 36/100\n",
            "11/11 [==============================] - 0s 4ms/step - loss: 45.7862 - mae: 4.7383 - val_loss: 60.1520 - val_mae: 4.9604\n",
            "Epoch 37/100\n",
            "11/11 [==============================] - 0s 4ms/step - loss: 45.7048 - mae: 4.8128 - val_loss: 58.4752 - val_mae: 4.9816\n",
            "Epoch 38/100\n",
            "11/11 [==============================] - 0s 4ms/step - loss: 44.7880 - mae: 4.6881 - val_loss: 61.4601 - val_mae: 5.0542\n",
            "Epoch 39/100\n",
            "11/11 [==============================] - 0s 4ms/step - loss: 45.0408 - mae: 4.6064 - val_loss: 59.7548 - val_mae: 5.0127\n",
            "Epoch 40/100\n",
            "11/11 [==============================] - 0s 4ms/step - loss: 44.7123 - mae: 4.6910 - val_loss: 58.8413 - val_mae: 5.0095\n",
            "Epoch 41/100\n",
            "11/11 [==============================] - 0s 4ms/step - loss: 44.5475 - mae: 4.5954 - val_loss: 60.1225 - val_mae: 5.0005\n",
            "Epoch 42/100\n",
            "11/11 [==============================] - 0s 4ms/step - loss: 44.3320 - mae: 4.5948 - val_loss: 58.8097 - val_mae: 4.9459\n",
            "Epoch 43/100\n",
            "11/11 [==============================] - 0s 4ms/step - loss: 44.0361 - mae: 4.6479 - val_loss: 58.5021 - val_mae: 4.9711\n",
            "Epoch 44/100\n",
            "11/11 [==============================] - 0s 4ms/step - loss: 44.1978 - mae: 4.5139 - val_loss: 60.7776 - val_mae: 4.9955\n",
            "Epoch 45/100\n",
            "11/11 [==============================] - 0s 4ms/step - loss: 43.3229 - mae: 4.5370 - val_loss: 57.3988 - val_mae: 4.9094\n",
            "Epoch 46/100\n",
            "11/11 [==============================] - 0s 4ms/step - loss: 43.4411 - mae: 4.5755 - val_loss: 58.2319 - val_mae: 4.9347\n",
            "Epoch 47/100\n",
            "11/11 [==============================] - 0s 5ms/step - loss: 43.4118 - mae: 4.4893 - val_loss: 57.6458 - val_mae: 4.9399\n",
            "Epoch 48/100\n",
            "11/11 [==============================] - 0s 5ms/step - loss: 43.0371 - mae: 4.5472 - val_loss: 57.1012 - val_mae: 4.8971\n",
            "Epoch 49/100\n",
            "11/11 [==============================] - 0s 4ms/step - loss: 43.7077 - mae: 4.4753 - val_loss: 57.5195 - val_mae: 4.8598\n",
            "Epoch 50/100\n",
            "11/11 [==============================] - 0s 4ms/step - loss: 43.9210 - mae: 4.8144 - val_loss: 55.4820 - val_mae: 4.9145\n",
            "Epoch 51/100\n",
            "11/11 [==============================] - 0s 4ms/step - loss: 42.6186 - mae: 4.5718 - val_loss: 59.5904 - val_mae: 4.9795\n",
            "Epoch 52/100\n",
            "11/11 [==============================] - 0s 6ms/step - loss: 42.9464 - mae: 4.4504 - val_loss: 55.9564 - val_mae: 4.8477\n",
            "Epoch 53/100\n",
            "11/11 [==============================] - 0s 4ms/step - loss: 42.4663 - mae: 4.6127 - val_loss: 56.5260 - val_mae: 4.8357\n",
            "Epoch 54/100\n",
            "11/11 [==============================] - 0s 4ms/step - loss: 41.7613 - mae: 4.3789 - val_loss: 58.7066 - val_mae: 4.9477\n",
            "Epoch 55/100\n",
            "11/11 [==============================] - 0s 4ms/step - loss: 42.5237 - mae: 4.3855 - val_loss: 55.0029 - val_mae: 4.9309\n",
            "Epoch 56/100\n",
            "11/11 [==============================] - 0s 4ms/step - loss: 42.1790 - mae: 4.6113 - val_loss: 54.1505 - val_mae: 4.9245\n",
            "Epoch 57/100\n",
            "11/11 [==============================] - 0s 4ms/step - loss: 41.5176 - mae: 4.5016 - val_loss: 55.8507 - val_mae: 4.8173\n",
            "Epoch 58/100\n",
            "11/11 [==============================] - 0s 4ms/step - loss: 41.4365 - mae: 4.4810 - val_loss: 54.3996 - val_mae: 4.7757\n",
            "Epoch 59/100\n",
            "11/11 [==============================] - 0s 3ms/step - loss: 41.5210 - mae: 4.4873 - val_loss: 55.3199 - val_mae: 4.7634\n",
            "Epoch 60/100\n",
            "11/11 [==============================] - 0s 4ms/step - loss: 41.2676 - mae: 4.5186 - val_loss: 53.7991 - val_mae: 4.8870\n",
            "Epoch 61/100\n",
            "11/11 [==============================] - 0s 4ms/step - loss: 40.9871 - mae: 4.4038 - val_loss: 55.4197 - val_mae: 4.8434\n",
            "Epoch 62/100\n",
            "11/11 [==============================] - 0s 6ms/step - loss: 41.2668 - mae: 4.3653 - val_loss: 54.0764 - val_mae: 4.7450\n",
            "Epoch 63/100\n",
            "11/11 [==============================] - 0s 4ms/step - loss: 42.6012 - mae: 4.7892 - val_loss: 52.9736 - val_mae: 4.7930\n",
            "Epoch 64/100\n",
            "11/11 [==============================] - 0s 5ms/step - loss: 40.5858 - mae: 4.3871 - val_loss: 54.3349 - val_mae: 4.7616\n",
            "Epoch 65/100\n",
            "11/11 [==============================] - 0s 4ms/step - loss: 41.4121 - mae: 4.6552 - val_loss: 52.4659 - val_mae: 4.7951\n",
            "Epoch 66/100\n",
            "11/11 [==============================] - 0s 4ms/step - loss: 40.3062 - mae: 4.4169 - val_loss: 55.4326 - val_mae: 4.8273\n",
            "Epoch 67/100\n",
            "11/11 [==============================] - 0s 4ms/step - loss: 40.4561 - mae: 4.3624 - val_loss: 52.5636 - val_mae: 4.8222\n",
            "Epoch 68/100\n",
            "11/11 [==============================] - 0s 4ms/step - loss: 40.2210 - mae: 4.5301 - val_loss: 52.8750 - val_mae: 4.7625\n",
            "Epoch 69/100\n",
            "11/11 [==============================] - 0s 4ms/step - loss: 39.7982 - mae: 4.3286 - val_loss: 54.2428 - val_mae: 4.7787\n",
            "Epoch 70/100\n",
            "11/11 [==============================] - 0s 4ms/step - loss: 39.6459 - mae: 4.3111 - val_loss: 52.3769 - val_mae: 4.8158\n",
            "Epoch 71/100\n",
            "11/11 [==============================] - 0s 4ms/step - loss: 39.5810 - mae: 4.3384 - val_loss: 53.4226 - val_mae: 4.8135\n",
            "Epoch 72/100\n",
            "11/11 [==============================] - 0s 6ms/step - loss: 39.3330 - mae: 4.3450 - val_loss: 52.9766 - val_mae: 4.7916\n",
            "Epoch 73/100\n",
            "11/11 [==============================] - 0s 4ms/step - loss: 39.3513 - mae: 4.2869 - val_loss: 52.3608 - val_mae: 4.7965\n",
            "Epoch 74/100\n",
            "11/11 [==============================] - 0s 4ms/step - loss: 39.0642 - mae: 4.3710 - val_loss: 52.1583 - val_mae: 4.7878\n",
            "Epoch 75/100\n",
            "11/11 [==============================] - 0s 4ms/step - loss: 39.0481 - mae: 4.2409 - val_loss: 53.5853 - val_mae: 4.7822\n",
            "Epoch 76/100\n",
            "11/11 [==============================] - 0s 5ms/step - loss: 38.6055 - mae: 4.2273 - val_loss: 51.4117 - val_mae: 4.8017\n",
            "Epoch 77/100\n",
            "11/11 [==============================] - 0s 5ms/step - loss: 38.6186 - mae: 4.2956 - val_loss: 51.4881 - val_mae: 4.8017\n",
            "Epoch 78/100\n",
            "11/11 [==============================] - 0s 4ms/step - loss: 39.2294 - mae: 4.4518 - val_loss: 51.2992 - val_mae: 4.8348\n",
            "Epoch 79/100\n",
            "11/11 [==============================] - 0s 4ms/step - loss: 39.4932 - mae: 4.2042 - val_loss: 52.7916 - val_mae: 4.6991\n",
            "Epoch 80/100\n",
            "11/11 [==============================] - 0s 4ms/step - loss: 38.5257 - mae: 4.3180 - val_loss: 50.5169 - val_mae: 4.7420\n",
            "Epoch 81/100\n",
            "11/11 [==============================] - 0s 4ms/step - loss: 38.6354 - mae: 4.3058 - val_loss: 51.2829 - val_mae: 4.7089\n",
            "Epoch 82/100\n",
            "11/11 [==============================] - 0s 4ms/step - loss: 38.2273 - mae: 4.2677 - val_loss: 51.2804 - val_mae: 4.7645\n",
            "Epoch 83/100\n",
            "11/11 [==============================] - 0s 4ms/step - loss: 37.9570 - mae: 4.1577 - val_loss: 51.2021 - val_mae: 4.7175\n",
            "Epoch 84/100\n",
            "11/11 [==============================] - 0s 4ms/step - loss: 37.8310 - mae: 4.2585 - val_loss: 50.2118 - val_mae: 4.7210\n",
            "Epoch 85/100\n",
            "11/11 [==============================] - 0s 4ms/step - loss: 37.5730 - mae: 4.2230 - val_loss: 51.6493 - val_mae: 4.6755\n",
            "Epoch 86/100\n",
            "11/11 [==============================] - 0s 4ms/step - loss: 37.5946 - mae: 4.1113 - val_loss: 51.2567 - val_mae: 4.6703\n",
            "Epoch 87/100\n",
            "11/11 [==============================] - 0s 4ms/step - loss: 37.8217 - mae: 4.0911 - val_loss: 51.4151 - val_mae: 4.6627\n",
            "Epoch 88/100\n",
            "11/11 [==============================] - 0s 4ms/step - loss: 37.4462 - mae: 4.1244 - val_loss: 50.4440 - val_mae: 4.7242\n",
            "Epoch 89/100\n",
            "11/11 [==============================] - 0s 4ms/step - loss: 37.4704 - mae: 4.1196 - val_loss: 49.4832 - val_mae: 4.7273\n",
            "Epoch 90/100\n",
            "11/11 [==============================] - 0s 6ms/step - loss: 37.3696 - mae: 4.3170 - val_loss: 49.9279 - val_mae: 4.7020\n",
            "Epoch 91/100\n",
            "11/11 [==============================] - 0s 4ms/step - loss: 36.9663 - mae: 4.0929 - val_loss: 51.9789 - val_mae: 4.6942\n",
            "Epoch 92/100\n",
            "11/11 [==============================] - 0s 6ms/step - loss: 37.1871 - mae: 4.0755 - val_loss: 49.3823 - val_mae: 4.6785\n",
            "Epoch 93/100\n",
            "11/11 [==============================] - 0s 4ms/step - loss: 36.9058 - mae: 4.1431 - val_loss: 48.9254 - val_mae: 4.6973\n",
            "Epoch 94/100\n",
            "11/11 [==============================] - 0s 4ms/step - loss: 37.3167 - mae: 4.3334 - val_loss: 49.0422 - val_mae: 4.6446\n",
            "Epoch 95/100\n",
            "11/11 [==============================] - 0s 4ms/step - loss: 36.4284 - mae: 4.1544 - val_loss: 48.9146 - val_mae: 4.6888\n",
            "Epoch 96/100\n",
            "11/11 [==============================] - 0s 4ms/step - loss: 37.4774 - mae: 4.3418 - val_loss: 48.6569 - val_mae: 4.8001\n",
            "Epoch 97/100\n",
            "11/11 [==============================] - 0s 4ms/step - loss: 37.5268 - mae: 4.2023 - val_loss: 49.7285 - val_mae: 4.6394\n",
            "Epoch 98/100\n",
            "11/11 [==============================] - 0s 4ms/step - loss: 36.3438 - mae: 4.0869 - val_loss: 48.9889 - val_mae: 4.6748\n",
            "Epoch 99/100\n",
            "11/11 [==============================] - 0s 4ms/step - loss: 36.0325 - mae: 4.1209 - val_loss: 48.5761 - val_mae: 4.6652\n",
            "Epoch 100/100\n",
            "11/11 [==============================] - 0s 4ms/step - loss: 36.9016 - mae: 4.0570 - val_loss: 48.3457 - val_mae: 4.6804\n"
          ]
        },
        {
          "output_type": "display_data",
          "data": {
            "image/png": "[encoded data removed]",
            "text/plain": [
              "<Figure size 432x288 with 1 Axes>"
            ]
          },
          "metadata": {
            "needs_background": "light"
          }
        },
        {
          "output_type": "stream",
          "name": "stdout",
          "text": [
            "4/4 [==============================] - 0s 4ms/step - loss: 44.2065 - mae: 4.7743\n",
            "loss= 44.206504821777344\n",
            "mae= 4.774331569671631\n"
          ]
        },
        {
          "output_type": "display_data",
          "data": {
            "image/png": "[encoded data removed]",
            "text/plain": [
              "<Figure size 432x288 with 1 Axes>"
            ]
          },
          "metadata": {
            "needs_background": "light"
          }
        }
      ]
    },
    {
      "cell_type": "markdown",
      "metadata": {
        "id": "PWHWq-9CDM74"
      },
      "source": [
        "# loss 설정\n",
        "\n",
        "- 회귀 문제일 때는 \"mse\"\n",
        "\n",
        "- 분류 문제일 때는 \"sparse_categorical_crossentropy\""
      ]
    },
    {
      "cell_type": "code",
      "metadata": {
        "id": "QpgPcHYUDYQ5"
      },
      "source": [
        "model.compile(optimizer=\"Adam\", loss=\"mse\")\n",
        "\n",
        "model.compile(optimizer=\"Adam\", loss=\"sparse_categorical_crossentropy\")"
      ],
      "execution_count": 28,
      "outputs": []
    },
    {
      "cell_type": "markdown",
      "metadata": {
        "id": "23vWdTCQDPKg"
      },
      "source": [
        "# optimizer 설정\n",
        "- \"Adam\"\n",
        "- tensorflow.keras.optimizers.Adam()\n",
        "- \"AdaDelta\"\n",
        "- tensorflow.keras.optimizers.AdaDelta()\n",
        "- \"Adagrad\"\n",
        "- tensorflow.keras.optimizers.Adagrad()\n",
        "- \"RMSProp\"\n",
        "- tensorflow.keras.optimizers.RMSProp()\n"
      ]
    },
    {
      "cell_type": "code",
      "metadata": {
        "id": "M1isBh92FQ5b"
      },
      "source": [
        "from tensorflow.keras.optimizers import Adam, Adagrad, Adadelta, RMSprop\n",
        "\n",
        "model.compile(optimizer=\"Adam\", loss=\"mse\")\n",
        "model.compile(optimizer=Adam(), loss=\"mse\")\n",
        "model.compile(optimizer=Adam(learning_rate=0.001), loss=\"mse\")\n",
        "\n",
        "model.compile(optimizer=\"Adagrad\", loss=\"mse\")\n",
        "model.compile(optimizer=Adagrad(), loss=\"mse\")\n",
        "model.compile(optimizer=Adagrad(learning_rate=0.001), loss=\"mse\")\n",
        "\n",
        "model.compile(optimizer=\"Adadelta\", loss=\"mse\")\n",
        "model.compile(optimizer=Adadelta(), loss=\"mse\")\n",
        "model.compile(optimizer=Adadelta(learning_rate=0.001), loss=\"mse\")\n",
        "\n",
        "model.compile(optimizer=\"RMSprop\", loss=\"mse\")\n",
        "model.compile(optimizer=RMSprop(), loss=\"mse\")\n",
        "model.compile(optimizer=RMSprop(learning_rate=0.001), loss=\"mse\")"
      ],
      "execution_count": 29,
      "outputs": []
    },
    {
      "cell_type": "markdown",
      "metadata": {
        "id": "y5pWvzXVKA5X"
      },
      "source": [
        "# 모델 저장과 로딩"
      ]
    },
    {
      "cell_type": "code",
      "metadata": {
        "id": "n_mI9k-jKEfN"
      },
      "source": [
        "import numpy as np\n",
        "import pandas as pd\n",
        "import matplotlib.pyplot as plt\n",
        "\n",
        "import tensorflow as tf\n",
        "\n",
        "from tensorflow import keras\n",
        "from tensorflow.keras import optimizers\n",
        "from tensorflow.keras.layers import Dense, Input"
      ],
      "execution_count": 30,
      "outputs": []
    },
    {
      "cell_type": "code",
      "metadata": {
        "id": "D2ighJacKGc-"
      },
      "source": [
        "(train_x, train_y), (test_x, test_y) = tf.keras.datasets.boston_housing.load_data()"
      ],
      "execution_count": 31,
      "outputs": []
    },
    {
      "cell_type": "code",
      "metadata": {
        "id": "1ZBkU23jDTqw",
        "colab": {
          "base_uri": "https://localhost:8080/",
          "height": 1000
        },
        "outputId": "2f391784-4426-4908-b530-96d4bee63dc5"
      },
      "source": [
        "# 모델 정의\n",
        "model = keras.Sequential()\n",
        "model.add(Input(13))\n",
        "model.add(Dense(10, activation='relu'))\n",
        "model.add(Dense(10, activation='relu'))\n",
        "model.add(Dense(1))\n",
        "\n",
        "\n",
        "# 모델 컴파일\n",
        "model.compile(optimizer=\"Adam\", loss=\"mse\")\n",
        "model.summary()\n",
        "\n",
        "\n",
        "# 모델 학습\n",
        "history = model.fit(train_x, train_y, epochs=100, batch_size=32, validation_split=0.2)\n",
        "\n",
        "\n",
        "\n",
        "# 학습 로스 보기\n",
        "plt.plot(history.history['loss'], label=\"loss\")\n",
        "plt.plot(history.history['val_loss'], label=\"val_loss\")\n",
        "plt.legend()\n",
        "plt.show()"
      ],
      "execution_count": 33,
      "outputs": [
        {
          "output_type": "stream",
          "name": "stdout",
          "text": [
            "Model: \"sequential_3\"\n",
            "_________________________________________________________________\n",
            "Layer (type)                 Output Shape              Param #   \n",
            "=================================================================\n",
            "dense_9 (Dense)              (None, 10)                140       \n",
            "_________________________________________________________________\n",
            "dense_10 (Dense)             (None, 10)                110       \n",
            "_________________________________________________________________\n",
            "dense_11 (Dense)             (None, 1)                 11        \n",
            "=================================================================\n",
            "Total params: 261\n",
            "Trainable params: 261\n",
            "Non-trainable params: 0\n",
            "_________________________________________________________________\n",
            "Epoch 1/100\n",
            "11/11 [==============================] - 1s 14ms/step - loss: 29394.2227 - val_loss: 18852.2637\n",
            "Epoch 2/100\n",
            "11/11 [==============================] - 0s 3ms/step - loss: 12374.8740 - val_loss: 6744.7671\n",
            "Epoch 3/100\n",
            "11/11 [==============================] - 0s 4ms/step - loss: 4405.2080 - val_loss: 2438.4858\n",
            "Epoch 4/100\n",
            "11/11 [==============================] - 0s 4ms/step - loss: 2271.6594 - val_loss: 1786.5710\n",
            "Epoch 5/100\n",
            "11/11 [==============================] - 0s 4ms/step - loss: 2119.7976 - val_loss: 1693.3518\n",
            "Epoch 6/100\n",
            "11/11 [==============================] - 0s 4ms/step - loss: 1962.1624 - val_loss: 1510.8881\n",
            "Epoch 7/100\n",
            "11/11 [==============================] - 0s 4ms/step - loss: 1691.1052 - val_loss: 1369.6479\n",
            "Epoch 8/100\n",
            "11/11 [==============================] - 0s 4ms/step - loss: 1503.4076 - val_loss: 1286.9950\n",
            "Epoch 9/100\n",
            "11/11 [==============================] - 0s 3ms/step - loss: 1365.9695 - val_loss: 1152.6997\n",
            "Epoch 10/100\n",
            "11/11 [==============================] - 0s 4ms/step - loss: 1220.9779 - val_loss: 1018.2600\n",
            "Epoch 11/100\n",
            "11/11 [==============================] - 0s 4ms/step - loss: 1098.0594 - val_loss: 922.1444\n",
            "Epoch 12/100\n",
            "11/11 [==============================] - 0s 3ms/step - loss: 999.8535 - val_loss: 852.5098\n",
            "Epoch 13/100\n",
            "11/11 [==============================] - 0s 4ms/step - loss: 902.5346 - val_loss: 765.9640\n",
            "Epoch 14/100\n",
            "11/11 [==============================] - 0s 4ms/step - loss: 812.7778 - val_loss: 703.4907\n",
            "Epoch 15/100\n",
            "11/11 [==============================] - 0s 3ms/step - loss: 734.7870 - val_loss: 635.9554\n",
            "Epoch 16/100\n",
            "11/11 [==============================] - 0s 3ms/step - loss: 665.3807 - val_loss: 569.7440\n",
            "Epoch 17/100\n",
            "11/11 [==============================] - 0s 3ms/step - loss: 600.4203 - val_loss: 515.7447\n",
            "Epoch 18/100\n",
            "11/11 [==============================] - 0s 4ms/step - loss: 542.2561 - val_loss: 475.6949\n",
            "Epoch 19/100\n",
            "11/11 [==============================] - 0s 5ms/step - loss: 491.1777 - val_loss: 431.3208\n",
            "Epoch 20/100\n",
            "11/11 [==============================] - 0s 4ms/step - loss: 442.3232 - val_loss: 379.8423\n",
            "Epoch 21/100\n",
            "11/11 [==============================] - 0s 4ms/step - loss: 400.1045 - val_loss: 337.0031\n",
            "Epoch 22/100\n",
            "11/11 [==============================] - 0s 4ms/step - loss: 355.0779 - val_loss: 303.0102\n",
            "Epoch 23/100\n",
            "11/11 [==============================] - 0s 4ms/step - loss: 319.5809 - val_loss: 277.6080\n",
            "Epoch 24/100\n",
            "11/11 [==============================] - 0s 4ms/step - loss: 290.3818 - val_loss: 250.8058\n",
            "Epoch 25/100\n",
            "11/11 [==============================] - 0s 4ms/step - loss: 267.6966 - val_loss: 230.4809\n",
            "Epoch 26/100\n",
            "11/11 [==============================] - 0s 4ms/step - loss: 248.3441 - val_loss: 213.9715\n",
            "Epoch 27/100\n",
            "11/11 [==============================] - 0s 4ms/step - loss: 229.1917 - val_loss: 195.8074\n",
            "Epoch 28/100\n",
            "11/11 [==============================] - 0s 4ms/step - loss: 213.3623 - val_loss: 182.4436\n",
            "Epoch 29/100\n",
            "11/11 [==============================] - 0s 3ms/step - loss: 200.2050 - val_loss: 171.8466\n",
            "Epoch 30/100\n",
            "11/11 [==============================] - 0s 4ms/step - loss: 189.1215 - val_loss: 163.8040\n",
            "Epoch 31/100\n",
            "11/11 [==============================] - 0s 4ms/step - loss: 180.8672 - val_loss: 156.4157\n",
            "Epoch 32/100\n",
            "11/11 [==============================] - 0s 4ms/step - loss: 171.4341 - val_loss: 148.0984\n",
            "Epoch 33/100\n",
            "11/11 [==============================] - 0s 3ms/step - loss: 164.9520 - val_loss: 142.9709\n",
            "Epoch 34/100\n",
            "11/11 [==============================] - 0s 4ms/step - loss: 159.1649 - val_loss: 139.5753\n",
            "Epoch 35/100\n",
            "11/11 [==============================] - 0s 4ms/step - loss: 155.3605 - val_loss: 136.9052\n",
            "Epoch 36/100\n",
            "11/11 [==============================] - 0s 4ms/step - loss: 150.3576 - val_loss: 131.2439\n",
            "Epoch 37/100\n",
            "11/11 [==============================] - 0s 4ms/step - loss: 145.4129 - val_loss: 128.1265\n",
            "Epoch 38/100\n",
            "11/11 [==============================] - 0s 4ms/step - loss: 142.0107 - val_loss: 125.8769\n",
            "Epoch 39/100\n",
            "11/11 [==============================] - 0s 4ms/step - loss: 140.0595 - val_loss: 125.4878\n",
            "Epoch 40/100\n",
            "11/11 [==============================] - 0s 4ms/step - loss: 135.4223 - val_loss: 120.4538\n",
            "Epoch 41/100\n",
            "11/11 [==============================] - 0s 5ms/step - loss: 132.7574 - val_loss: 118.5641\n",
            "Epoch 42/100\n",
            "11/11 [==============================] - 0s 4ms/step - loss: 129.2553 - val_loss: 116.9405\n",
            "Epoch 43/100\n",
            "11/11 [==============================] - 0s 4ms/step - loss: 126.8783 - val_loss: 114.5247\n",
            "Epoch 44/100\n",
            "11/11 [==============================] - 0s 5ms/step - loss: 124.9457 - val_loss: 112.0737\n",
            "Epoch 45/100\n",
            "11/11 [==============================] - 0s 4ms/step - loss: 122.5591 - val_loss: 110.4814\n",
            "Epoch 46/100\n",
            "11/11 [==============================] - 0s 4ms/step - loss: 118.8400 - val_loss: 108.6158\n",
            "Epoch 47/100\n",
            "11/11 [==============================] - 0s 4ms/step - loss: 116.5884 - val_loss: 106.7984\n",
            "Epoch 48/100\n",
            "11/11 [==============================] - 0s 4ms/step - loss: 115.2963 - val_loss: 105.4948\n",
            "Epoch 49/100\n",
            "11/11 [==============================] - 0s 4ms/step - loss: 112.9591 - val_loss: 104.0721\n",
            "Epoch 50/100\n",
            "11/11 [==============================] - 0s 4ms/step - loss: 109.5006 - val_loss: 104.9041\n",
            "Epoch 51/100\n",
            "11/11 [==============================] - 0s 4ms/step - loss: 107.7813 - val_loss: 101.0409\n",
            "Epoch 52/100\n",
            "11/11 [==============================] - 0s 4ms/step - loss: 106.5637 - val_loss: 99.5710\n",
            "Epoch 53/100\n",
            "11/11 [==============================] - 0s 5ms/step - loss: 104.7432 - val_loss: 100.0043\n",
            "Epoch 54/100\n",
            "11/11 [==============================] - 0s 4ms/step - loss: 102.7863 - val_loss: 98.4399\n",
            "Epoch 55/100\n",
            "11/11 [==============================] - 0s 4ms/step - loss: 102.5166 - val_loss: 96.3243\n",
            "Epoch 56/100\n",
            "11/11 [==============================] - 0s 4ms/step - loss: 99.9584 - val_loss: 100.9594\n",
            "Epoch 57/100\n",
            "11/11 [==============================] - 0s 4ms/step - loss: 98.6609 - val_loss: 94.3943\n",
            "Epoch 58/100\n",
            "11/11 [==============================] - 0s 6ms/step - loss: 100.5912 - val_loss: 93.7076\n",
            "Epoch 59/100\n",
            "11/11 [==============================] - 0s 4ms/step - loss: 95.0708 - val_loss: 98.2986\n",
            "Epoch 60/100\n",
            "11/11 [==============================] - 0s 4ms/step - loss: 94.1696 - val_loss: 92.4733\n",
            "Epoch 61/100\n",
            "11/11 [==============================] - 0s 4ms/step - loss: 93.9473 - val_loss: 93.8167\n",
            "Epoch 62/100\n",
            "11/11 [==============================] - 0s 4ms/step - loss: 91.4727 - val_loss: 91.6744\n",
            "Epoch 63/100\n",
            "11/11 [==============================] - 0s 4ms/step - loss: 90.5910 - val_loss: 90.3480\n",
            "Epoch 64/100\n",
            "11/11 [==============================] - 0s 4ms/step - loss: 89.2186 - val_loss: 90.6549\n",
            "Epoch 65/100\n",
            "11/11 [==============================] - 0s 4ms/step - loss: 90.7737 - val_loss: 92.2139\n",
            "Epoch 66/100\n",
            "11/11 [==============================] - 0s 4ms/step - loss: 87.2021 - val_loss: 87.5337\n",
            "Epoch 67/100\n",
            "11/11 [==============================] - 0s 4ms/step - loss: 86.4926 - val_loss: 88.9133\n",
            "Epoch 68/100\n",
            "11/11 [==============================] - 0s 4ms/step - loss: 87.3447 - val_loss: 86.4043\n",
            "Epoch 69/100\n",
            "11/11 [==============================] - 0s 3ms/step - loss: 84.2875 - val_loss: 90.5261\n",
            "Epoch 70/100\n",
            "11/11 [==============================] - 0s 4ms/step - loss: 84.3732 - val_loss: 86.3022\n",
            "Epoch 71/100\n",
            "11/11 [==============================] - 0s 4ms/step - loss: 82.4682 - val_loss: 86.8900\n",
            "Epoch 72/100\n",
            "11/11 [==============================] - 0s 4ms/step - loss: 83.2131 - val_loss: 84.2819\n",
            "Epoch 73/100\n",
            "11/11 [==============================] - 0s 4ms/step - loss: 83.1527 - val_loss: 87.3206\n",
            "Epoch 74/100\n",
            "11/11 [==============================] - 0s 4ms/step - loss: 81.1090 - val_loss: 84.6087\n",
            "Epoch 75/100\n",
            "11/11 [==============================] - 0s 4ms/step - loss: 80.1473 - val_loss: 83.0409\n",
            "Epoch 76/100\n",
            "11/11 [==============================] - 0s 4ms/step - loss: 78.8652 - val_loss: 84.5825\n",
            "Epoch 77/100\n",
            "11/11 [==============================] - 0s 4ms/step - loss: 78.2173 - val_loss: 82.1610\n",
            "Epoch 78/100\n",
            "11/11 [==============================] - 0s 4ms/step - loss: 78.4022 - val_loss: 85.1118\n",
            "Epoch 79/100\n",
            "11/11 [==============================] - 0s 4ms/step - loss: 77.1058 - val_loss: 82.0475\n",
            "Epoch 80/100\n",
            "11/11 [==============================] - 0s 4ms/step - loss: 76.4040 - val_loss: 84.2068\n",
            "Epoch 81/100\n",
            "11/11 [==============================] - 0s 4ms/step - loss: 76.0105 - val_loss: 80.7075\n",
            "Epoch 82/100\n",
            "11/11 [==============================] - 0s 3ms/step - loss: 75.2928 - val_loss: 81.9529\n",
            "Epoch 83/100\n",
            "11/11 [==============================] - 0s 3ms/step - loss: 75.0980 - val_loss: 80.1677\n",
            "Epoch 84/100\n",
            "11/11 [==============================] - 0s 4ms/step - loss: 75.1174 - val_loss: 81.1769\n",
            "Epoch 85/100\n",
            "11/11 [==============================] - 0s 4ms/step - loss: 74.3504 - val_loss: 81.5268\n",
            "Epoch 86/100\n",
            "11/11 [==============================] - 0s 6ms/step - loss: 73.7442 - val_loss: 80.3822\n",
            "Epoch 87/100\n",
            "11/11 [==============================] - 0s 4ms/step - loss: 72.8550 - val_loss: 79.7337\n",
            "Epoch 88/100\n",
            "11/11 [==============================] - 0s 4ms/step - loss: 73.2682 - val_loss: 79.1563\n",
            "Epoch 89/100\n",
            "11/11 [==============================] - 0s 4ms/step - loss: 72.1613 - val_loss: 78.9557\n",
            "Epoch 90/100\n",
            "11/11 [==============================] - 0s 3ms/step - loss: 71.9406 - val_loss: 80.1377\n",
            "Epoch 91/100\n",
            "11/11 [==============================] - 0s 4ms/step - loss: 73.7809 - val_loss: 80.4780\n",
            "Epoch 92/100\n",
            "11/11 [==============================] - 0s 3ms/step - loss: 71.5352 - val_loss: 78.1021\n",
            "Epoch 93/100\n",
            "11/11 [==============================] - 0s 4ms/step - loss: 71.9868 - val_loss: 82.5388\n",
            "Epoch 94/100\n",
            "11/11 [==============================] - 0s 3ms/step - loss: 70.9987 - val_loss: 78.3276\n",
            "Epoch 95/100\n",
            "11/11 [==============================] - 0s 4ms/step - loss: 70.5568 - val_loss: 78.4680\n",
            "Epoch 96/100\n",
            "11/11 [==============================] - 0s 4ms/step - loss: 70.2810 - val_loss: 79.4019\n",
            "Epoch 97/100\n",
            "11/11 [==============================] - 0s 4ms/step - loss: 69.7999 - val_loss: 79.1094\n",
            "Epoch 98/100\n",
            "11/11 [==============================] - 0s 4ms/step - loss: 69.5342 - val_loss: 79.1527\n",
            "Epoch 99/100\n",
            "11/11 [==============================] - 0s 4ms/step - loss: 69.2621 - val_loss: 78.2600\n",
            "Epoch 100/100\n",
            "11/11 [==============================] - 0s 3ms/step - loss: 69.1411 - val_loss: 78.4981\n"
          ]
        },
        {
          "output_type": "display_data",
          "data": {
            "image/png": "[encoded data removed]",
            "text/plain": [
              "<Figure size 432x288 with 1 Axes>"
            ]
          },
          "metadata": {
            "needs_background": "light"
          }
        }
      ]
    },
    {
      "cell_type": "markdown",
      "metadata": {
        "id": "o3TxHDwpKegD"
      },
      "source": [
        "## 모델 저장"
      ]
    },
    {
      "cell_type": "code",
      "metadata": {
        "id": "HLOf2oTrDQaK"
      },
      "source": [
        "model.save(\"my_model.h5\")"
      ],
      "execution_count": 35,
      "outputs": []
    },
    {
      "cell_type": "markdown",
      "metadata": {
        "id": "KS9rZtklKgh6"
      },
      "source": [
        "## 모델 로딩"
      ]
    },
    {
      "cell_type": "code",
      "metadata": {
        "id": "q0mtrnqvKOex",
        "colab": {
          "base_uri": "https://localhost:8080/",
          "height": 265
        },
        "outputId": "ec254839-8f93-4d14-ddad-32f6634eb1c3"
      },
      "source": [
        "import tensorflow as tf\n",
        "import matplotlib.pyplot as plt\n",
        "\n",
        "(train_x, train_y), (test_x, test_y) = tf.keras.datasets.boston_housing.load_data()\n",
        "\n",
        "loaded_model = tf.keras.models.load_model(\"my_model.h5\")\n",
        "\n",
        "\n",
        "# 예측\n",
        "y_ = loaded_model.predict(test_x)\n",
        "\n",
        "\n",
        "# 예측 결과 보기\n",
        "plt.scatter(test_y, y_)\n",
        "plt.show()"
      ],
      "execution_count": 36,
      "outputs": [
        {
          "output_type": "display_data",
          "data": {
            "image/png": "[encoded data removed]",
            "text/plain": [
              "<Figure size 432x288 with 1 Axes>"
            ]
          },
          "metadata": {
            "needs_background": "light"
          }
        }
      ]
    },
    {
      "cell_type": "code",
      "metadata": {
        "id": "EGJD3mCVKURr"
      },
      "source": [
        ""
      ],
      "execution_count": null,
      "outputs": []
    }
  ]
}