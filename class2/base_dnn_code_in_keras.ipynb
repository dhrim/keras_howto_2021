{
  "nbformat": 4,
  "nbformat_minor": 0,
  "metadata": {
    "colab": {
      "name": "base_dnn_code_in_keras.ipynb",
      "provenance": [],
      "collapsed_sections": []
    },
    "kernelspec": {
      "name": "python3",
      "display_name": "Python 3"
    },
    "language_info": {
      "name": "python"
    }
  },
  "cells": [
    {
      "cell_type": "markdown",
      "metadata": {
        "id": "HJ5g4PQQAj4F"
      },
      "source": [
        "# Keras 코드의 기본 구조"
      ]
    },
    {
      "cell_type": "markdown",
      "metadata": {
        "id": "yO4z2xKOlDpO"
      },
      "source": [
        "## 데이터 준비"
      ]
    },
    {
      "cell_type": "markdown",
      "metadata": {
        "id": "DIwxCjeeApC4"
      },
      "source": [
        "라이브러리 임포팅"
      ]
    },
    {
      "cell_type": "code",
      "metadata": {
        "id": "UKLT2_YY-_jU"
      },
      "source": [
        "import numpy as np\n",
        "import pandas as pd\n",
        "import matplotlib.pyplot as plt\n",
        "\n",
        "import tensorflow as tf\n",
        "\n",
        "from tensorflow import keras\n",
        "from tensorflow.keras import optimizers\n",
        "from tensorflow.keras.layers import Dense, Input"
      ],
      "execution_count": 1,
      "outputs": []
    },
    {
      "cell_type": "markdown",
      "metadata": {
        "id": "mLId1mL6AsGI"
      },
      "source": [
        "데이터 로딩"
      ]
    },
    {
      "cell_type": "code",
      "metadata": {
        "id": "3g_xjaE6A9ij",
        "colab": {
          "base_uri": "https://localhost:8080/"
        },
        "outputId": "5e930290-82e1-4d9b-bf53-0905e27bb6e1"
      },
      "source": [
        "(train_x, train_y), (test_x, test_y) = tf.keras.datasets.boston_housing.load_data()"
      ],
      "execution_count": 2,
      "outputs": [
        {
          "output_type": "stream",
          "name": "stdout",
          "text": [
            "Downloading data from https://storage.googleapis.com/tensorflow/tf-keras-datasets/boston_housing.npz\n",
            "57344/57026 [==============================] - 0s 0us/step\n",
            "65536/57026 [==================================] - 0s 0us/step\n"
          ]
        }
      ]
    },
    {
      "cell_type": "code",
      "metadata": {
        "colab": {
          "base_uri": "https://localhost:8080/"
        },
        "id": "n4CY3juG-4u8",
        "outputId": "d85d5c94-8a50-40b2-ac5a-0e436914e36d"
      },
      "source": [
        "print(train_x.shape)\n",
        "print(train_y.shape)\n",
        "print(test_x.shape)\n",
        "print(test_y.shape)"
      ],
      "execution_count": 3,
      "outputs": [
        {
          "output_type": "stream",
          "name": "stdout",
          "text": [
            "(404, 13)\n",
            "(404,)\n",
            "(102, 13)\n",
            "(102,)\n"
          ]
        }
      ]
    },
    {
      "cell_type": "code",
      "metadata": {
        "colab": {
          "base_uri": "https://localhost:8080/"
        },
        "id": "_3Tvjpn5_Dta",
        "outputId": "523a2995-381c-444b-a585-a99b0b04b2df"
      },
      "source": [
        "print(train_x[:5])\n",
        "print(train_y[:5])"
      ],
      "execution_count": 4,
      "outputs": [
        {
          "output_type": "stream",
          "name": "stdout",
          "text": [
            "[[1.23247e+00 0.00000e+00 8.14000e+00 0.00000e+00 5.38000e-01 6.14200e+00\n",
            "  9.17000e+01 3.97690e+00 4.00000e+00 3.07000e+02 2.10000e+01 3.96900e+02\n",
            "  1.87200e+01]\n",
            " [2.17700e-02 8.25000e+01 2.03000e+00 0.00000e+00 4.15000e-01 7.61000e+00\n",
            "  1.57000e+01 6.27000e+00 2.00000e+00 3.48000e+02 1.47000e+01 3.95380e+02\n",
            "  3.11000e+00]\n",
            " [4.89822e+00 0.00000e+00 1.81000e+01 0.00000e+00 6.31000e-01 4.97000e+00\n",
            "  1.00000e+02 1.33250e+00 2.40000e+01 6.66000e+02 2.02000e+01 3.75520e+02\n",
            "  3.26000e+00]\n",
            " [3.96100e-02 0.00000e+00 5.19000e+00 0.00000e+00 5.15000e-01 6.03700e+00\n",
            "  3.45000e+01 5.98530e+00 5.00000e+00 2.24000e+02 2.02000e+01 3.96900e+02\n",
            "  8.01000e+00]\n",
            " [3.69311e+00 0.00000e+00 1.81000e+01 0.00000e+00 7.13000e-01 6.37600e+00\n",
            "  8.84000e+01 2.56710e+00 2.40000e+01 6.66000e+02 2.02000e+01 3.91430e+02\n",
            "  1.46500e+01]]\n",
            "[15.2 42.3 50.  21.1 17.7]\n"
          ]
        }
      ]
    },
    {
      "cell_type": "markdown",
      "metadata": {
        "id": "QP-mrNSTlHpZ"
      },
      "source": [
        "## 모델 준비"
      ]
    },
    {
      "cell_type": "markdown",
      "metadata": {
        "id": "ApmwMYtPBmpJ"
      },
      "source": [
        "### 모델 구조 정의"
      ]
    },
    {
      "cell_type": "code",
      "metadata": {
        "id": "ys8DFaudBmU0"
      },
      "source": [
        "model = keras.Sequential()\n",
        "model.add(Input(13))\n",
        "model.add(Dense(10, activation='relu'))\n",
        "model.add(Dense(10, activation='relu'))\n",
        "model.add(Dense(1))"
      ],
      "execution_count": 6,
      "outputs": []
    },
    {
      "cell_type": "markdown",
      "metadata": {
        "id": "4m9jvYfzBruP"
      },
      "source": [
        "### loss, optimizer 정의\n",
        "\n",
        "학습에 필요한 loss, optimizer를 정의한다.\n",
        "\n",
        "또한 필요한 경우 지표를 설정한다."
      ]
    },
    {
      "cell_type": "code",
      "metadata": {
        "colab": {
          "base_uri": "https://localhost:8080/"
        },
        "id": "Xw5ysH_wBqzH",
        "outputId": "ac68c6c3-092a-4310-942b-5271d34ccbc4"
      },
      "source": [
        "model.compile(optimizer=\"Adam\", loss=\"mse\", metrics=[\"mae\"])\n",
        "model.summary()"
      ],
      "execution_count": 7,
      "outputs": [
        {
          "output_type": "stream",
          "name": "stdout",
          "text": [
            "Model: \"sequential\"\n",
            "_________________________________________________________________\n",
            "Layer (type)                 Output Shape              Param #   \n",
            "=================================================================\n",
            "dense (Dense)                (None, 10)                140       \n",
            "_________________________________________________________________\n",
            "dense_1 (Dense)              (None, 10)                110       \n",
            "_________________________________________________________________\n",
            "dense_2 (Dense)              (None, 1)                 11        \n",
            "=================================================================\n",
            "Total params: 261\n",
            "Trainable params: 261\n",
            "Non-trainable params: 0\n",
            "_________________________________________________________________\n"
          ]
        }
      ]
    },
    {
      "cell_type": "markdown",
      "metadata": {
        "id": "BksbioIZB6Mk"
      },
      "source": [
        "## 모델 학습"
      ]
    },
    {
      "cell_type": "code",
      "metadata": {
        "colab": {
          "base_uri": "https://localhost:8080/"
        },
        "id": "Wa7OoLm-B8OU",
        "outputId": "84de9d56-acc0-4afb-92b9-1e4876c72232"
      },
      "source": [
        "history = model.fit(train_x, train_y, epochs=100, batch_size=32, validation_split=0.2)"
      ],
      "execution_count": 8,
      "outputs": [
        {
          "output_type": "stream",
          "name": "stdout",
          "text": [
            "Epoch 1/100\n",
            "11/11 [==============================] - 1s 18ms/step - loss: 1089.1873 - mae: 30.4184 - val_loss: 985.6057 - val_mae: 29.3786\n",
            "Epoch 2/100\n",
            "11/11 [==============================] - 0s 3ms/step - loss: 794.7450 - mae: 25.5818 - val_loss: 777.2130 - val_mae: 25.6945\n",
            "Epoch 3/100\n",
            "11/11 [==============================] - 0s 4ms/step - loss: 642.0578 - mae: 22.5441 - val_loss: 669.1917 - val_mae: 23.3408\n",
            "Epoch 4/100\n",
            "11/11 [==============================] - 0s 4ms/step - loss: 563.1131 - mae: 20.6118 - val_loss: 598.4213 - val_mae: 21.4845\n",
            "Epoch 5/100\n",
            "11/11 [==============================] - 0s 4ms/step - loss: 484.4127 - mae: 18.7301 - val_loss: 456.0938 - val_mae: 18.2598\n",
            "Epoch 6/100\n",
            "11/11 [==============================] - 0s 4ms/step - loss: 345.2582 - mae: 15.8246 - val_loss: 308.2159 - val_mae: 15.2707\n",
            "Epoch 7/100\n",
            "11/11 [==============================] - 0s 3ms/step - loss: 247.1590 - mae: 13.1874 - val_loss: 218.1954 - val_mae: 12.5674\n",
            "Epoch 8/100\n",
            "11/11 [==============================] - 0s 3ms/step - loss: 182.7538 - mae: 10.7985 - val_loss: 161.7476 - val_mae: 10.3708\n",
            "Epoch 9/100\n",
            "11/11 [==============================] - 0s 4ms/step - loss: 136.4000 - mae: 8.9643 - val_loss: 133.7606 - val_mae: 8.9311\n",
            "Epoch 10/100\n",
            "11/11 [==============================] - 0s 5ms/step - loss: 110.3845 - mae: 7.7214 - val_loss: 113.3545 - val_mae: 7.7577\n",
            "Epoch 11/100\n",
            "11/11 [==============================] - 0s 4ms/step - loss: 90.3191 - mae: 6.5934 - val_loss: 96.4420 - val_mae: 6.9464\n",
            "Epoch 12/100\n",
            "11/11 [==============================] - 0s 4ms/step - loss: 77.9686 - mae: 5.9447 - val_loss: 86.6349 - val_mae: 6.5239\n",
            "Epoch 13/100\n",
            "11/11 [==============================] - 0s 4ms/step - loss: 71.7166 - mae: 5.7122 - val_loss: 81.6911 - val_mae: 6.2573\n",
            "Epoch 14/100\n",
            "11/11 [==============================] - 0s 4ms/step - loss: 68.4279 - mae: 5.4656 - val_loss: 82.2619 - val_mae: 5.9359\n",
            "Epoch 15/100\n",
            "11/11 [==============================] - 0s 4ms/step - loss: 64.9613 - mae: 5.3682 - val_loss: 77.9400 - val_mae: 5.9045\n",
            "Epoch 16/100\n",
            "11/11 [==============================] - 0s 4ms/step - loss: 63.2200 - mae: 5.4333 - val_loss: 77.3683 - val_mae: 5.8448\n",
            "Epoch 17/100\n",
            "11/11 [==============================] - 0s 4ms/step - loss: 62.2085 - mae: 5.3199 - val_loss: 77.8720 - val_mae: 5.7914\n",
            "Epoch 18/100\n",
            "11/11 [==============================] - 0s 4ms/step - loss: 61.5540 - mae: 5.3027 - val_loss: 77.0556 - val_mae: 5.8066\n",
            "Epoch 19/100\n",
            "11/11 [==============================] - 0s 3ms/step - loss: 61.3746 - mae: 5.2868 - val_loss: 77.1601 - val_mae: 5.7971\n",
            "Epoch 20/100\n",
            "11/11 [==============================] - 0s 3ms/step - loss: 60.8034 - mae: 5.3280 - val_loss: 75.2246 - val_mae: 5.8664\n",
            "Epoch 21/100\n",
            "11/11 [==============================] - 0s 4ms/step - loss: 60.4667 - mae: 5.3770 - val_loss: 75.8873 - val_mae: 5.8079\n",
            "Epoch 22/100\n",
            "11/11 [==============================] - 0s 4ms/step - loss: 60.3200 - mae: 5.3094 - val_loss: 75.1942 - val_mae: 5.8288\n",
            "Epoch 23/100\n",
            "11/11 [==============================] - 0s 4ms/step - loss: 60.1471 - mae: 5.3642 - val_loss: 75.0631 - val_mae: 5.8224\n",
            "Epoch 24/100\n",
            "11/11 [==============================] - 0s 4ms/step - loss: 60.3296 - mae: 5.2413 - val_loss: 76.3569 - val_mae: 5.7387\n",
            "Epoch 25/100\n",
            "11/11 [==============================] - 0s 3ms/step - loss: 59.8299 - mae: 5.3417 - val_loss: 73.0658 - val_mae: 5.9075\n",
            "Epoch 26/100\n",
            "11/11 [==============================] - 0s 4ms/step - loss: 59.3445 - mae: 5.3576 - val_loss: 74.4986 - val_mae: 5.7501\n",
            "Epoch 27/100\n",
            "11/11 [==============================] - 0s 4ms/step - loss: 59.1539 - mae: 5.2423 - val_loss: 73.8606 - val_mae: 5.7502\n",
            "Epoch 28/100\n",
            "11/11 [==============================] - 0s 4ms/step - loss: 58.8706 - mae: 5.2457 - val_loss: 73.6205 - val_mae: 5.7345\n",
            "Epoch 29/100\n",
            "11/11 [==============================] - 0s 4ms/step - loss: 58.7944 - mae: 5.1962 - val_loss: 73.7744 - val_mae: 5.7058\n",
            "Epoch 30/100\n",
            "11/11 [==============================] - 0s 4ms/step - loss: 58.5302 - mae: 5.2735 - val_loss: 71.6812 - val_mae: 5.7864\n",
            "Epoch 31/100\n",
            "11/11 [==============================] - 0s 4ms/step - loss: 58.4388 - mae: 5.3589 - val_loss: 71.2158 - val_mae: 5.7717\n",
            "Epoch 32/100\n",
            "11/11 [==============================] - 0s 4ms/step - loss: 57.7705 - mae: 5.2522 - val_loss: 72.6599 - val_mae: 5.6427\n",
            "Epoch 33/100\n",
            "11/11 [==============================] - 0s 4ms/step - loss: 57.6604 - mae: 5.0835 - val_loss: 72.9128 - val_mae: 5.6245\n",
            "Epoch 34/100\n",
            "11/11 [==============================] - 0s 4ms/step - loss: 57.4943 - mae: 5.1067 - val_loss: 71.7237 - val_mae: 5.6468\n",
            "Epoch 35/100\n",
            "11/11 [==============================] - 0s 4ms/step - loss: 57.4048 - mae: 5.0943 - val_loss: 69.9204 - val_mae: 5.7014\n",
            "Epoch 36/100\n",
            "11/11 [==============================] - 0s 4ms/step - loss: 58.6103 - mae: 5.5767 - val_loss: 67.9783 - val_mae: 5.9262\n",
            "Epoch 37/100\n",
            "11/11 [==============================] - 0s 3ms/step - loss: 56.5392 - mae: 5.1523 - val_loss: 71.3331 - val_mae: 5.5263\n",
            "Epoch 38/100\n",
            "11/11 [==============================] - 0s 4ms/step - loss: 56.3534 - mae: 5.1083 - val_loss: 68.0989 - val_mae: 5.6063\n",
            "Epoch 39/100\n",
            "11/11 [==============================] - 0s 3ms/step - loss: 55.8479 - mae: 5.0920 - val_loss: 68.2926 - val_mae: 5.5535\n",
            "Epoch 40/100\n",
            "11/11 [==============================] - 0s 4ms/step - loss: 55.3056 - mae: 5.0705 - val_loss: 68.2778 - val_mae: 5.5351\n",
            "Epoch 41/100\n",
            "11/11 [==============================] - 0s 3ms/step - loss: 55.2827 - mae: 5.0916 - val_loss: 67.7816 - val_mae: 5.5435\n",
            "Epoch 42/100\n",
            "11/11 [==============================] - 0s 4ms/step - loss: 55.0538 - mae: 4.9852 - val_loss: 67.7328 - val_mae: 5.5115\n",
            "Epoch 43/100\n",
            "11/11 [==============================] - 0s 4ms/step - loss: 54.9884 - mae: 5.2073 - val_loss: 66.1082 - val_mae: 5.6317\n",
            "Epoch 44/100\n",
            "11/11 [==============================] - 0s 5ms/step - loss: 55.1078 - mae: 4.9708 - val_loss: 69.2309 - val_mae: 5.4328\n",
            "Epoch 45/100\n",
            "11/11 [==============================] - 0s 4ms/step - loss: 54.6217 - mae: 4.9539 - val_loss: 65.7965 - val_mae: 5.5854\n",
            "Epoch 46/100\n",
            "11/11 [==============================] - 0s 4ms/step - loss: 53.8601 - mae: 5.0777 - val_loss: 66.7937 - val_mae: 5.4527\n",
            "Epoch 47/100\n",
            "11/11 [==============================] - 0s 4ms/step - loss: 53.5888 - mae: 4.9743 - val_loss: 66.1616 - val_mae: 5.4864\n",
            "Epoch 48/100\n",
            "11/11 [==============================] - 0s 5ms/step - loss: 53.7075 - mae: 4.9272 - val_loss: 67.0352 - val_mae: 5.4190\n",
            "Epoch 49/100\n",
            "11/11 [==============================] - 0s 5ms/step - loss: 53.1543 - mae: 4.9913 - val_loss: 64.9452 - val_mae: 5.5044\n",
            "Epoch 50/100\n",
            "11/11 [==============================] - 0s 4ms/step - loss: 52.7656 - mae: 4.9125 - val_loss: 66.9819 - val_mae: 5.3798\n",
            "Epoch 51/100\n",
            "11/11 [==============================] - 0s 4ms/step - loss: 53.3992 - mae: 4.8176 - val_loss: 66.6225 - val_mae: 5.3694\n",
            "Epoch 52/100\n",
            "11/11 [==============================] - 0s 4ms/step - loss: 52.4790 - mae: 4.8357 - val_loss: 64.2828 - val_mae: 5.4461\n",
            "Epoch 53/100\n",
            "11/11 [==============================] - 0s 4ms/step - loss: 52.0810 - mae: 4.8890 - val_loss: 64.3234 - val_mae: 5.3937\n",
            "Epoch 54/100\n",
            "11/11 [==============================] - 0s 4ms/step - loss: 52.0461 - mae: 4.8715 - val_loss: 63.3974 - val_mae: 5.4398\n",
            "Epoch 55/100\n",
            "11/11 [==============================] - 0s 4ms/step - loss: 52.4671 - mae: 5.1461 - val_loss: 62.4288 - val_mae: 5.5406\n",
            "Epoch 56/100\n",
            "11/11 [==============================] - 0s 4ms/step - loss: 52.1894 - mae: 5.1908 - val_loss: 62.9709 - val_mae: 5.4134\n",
            "Epoch 57/100\n",
            "11/11 [==============================] - 0s 4ms/step - loss: 51.7023 - mae: 5.0806 - val_loss: 63.1462 - val_mae: 5.4261\n",
            "Epoch 58/100\n",
            "11/11 [==============================] - 0s 4ms/step - loss: 51.1922 - mae: 4.8915 - val_loss: 63.2383 - val_mae: 5.3734\n",
            "Epoch 59/100\n",
            "11/11 [==============================] - 0s 5ms/step - loss: 51.0839 - mae: 5.1226 - val_loss: 61.0386 - val_mae: 5.5218\n",
            "Epoch 60/100\n",
            "11/11 [==============================] - 0s 4ms/step - loss: 50.8590 - mae: 4.9798 - val_loss: 62.3099 - val_mae: 5.3316\n",
            "Epoch 61/100\n",
            "11/11 [==============================] - 0s 5ms/step - loss: 50.4126 - mae: 4.8003 - val_loss: 62.1778 - val_mae: 5.3222\n",
            "Epoch 62/100\n",
            "11/11 [==============================] - 0s 4ms/step - loss: 49.8730 - mae: 4.8196 - val_loss: 61.1476 - val_mae: 5.3199\n",
            "Epoch 63/100\n",
            "11/11 [==============================] - 0s 4ms/step - loss: 49.7376 - mae: 4.9271 - val_loss: 60.3161 - val_mae: 5.2996\n",
            "Epoch 64/100\n",
            "11/11 [==============================] - 0s 4ms/step - loss: 49.2857 - mae: 4.8037 - val_loss: 61.1500 - val_mae: 5.2434\n",
            "Epoch 65/100\n",
            "11/11 [==============================] - 0s 3ms/step - loss: 49.3168 - mae: 4.7051 - val_loss: 60.8939 - val_mae: 5.2283\n",
            "Epoch 66/100\n",
            "11/11 [==============================] - 0s 4ms/step - loss: 49.4860 - mae: 4.6715 - val_loss: 60.4735 - val_mae: 5.2385\n",
            "Epoch 67/100\n",
            "11/11 [==============================] - 0s 4ms/step - loss: 48.6886 - mae: 4.7375 - val_loss: 59.9696 - val_mae: 5.2395\n",
            "Epoch 68/100\n",
            "11/11 [==============================] - 0s 4ms/step - loss: 48.3357 - mae: 4.7869 - val_loss: 59.3424 - val_mae: 5.2529\n",
            "Epoch 69/100\n",
            "11/11 [==============================] - 0s 4ms/step - loss: 48.2379 - mae: 4.7499 - val_loss: 59.0753 - val_mae: 5.2097\n",
            "Epoch 70/100\n",
            "11/11 [==============================] - 0s 4ms/step - loss: 48.1407 - mae: 4.7208 - val_loss: 59.9033 - val_mae: 5.1744\n",
            "Epoch 71/100\n",
            "11/11 [==============================] - 0s 4ms/step - loss: 48.3938 - mae: 4.6406 - val_loss: 58.6034 - val_mae: 5.2126\n",
            "Epoch 72/100\n",
            "11/11 [==============================] - 0s 4ms/step - loss: 48.1900 - mae: 4.6518 - val_loss: 58.4853 - val_mae: 5.1791\n",
            "Epoch 73/100\n",
            "11/11 [==============================] - 0s 4ms/step - loss: 47.2529 - mae: 4.7511 - val_loss: 56.8597 - val_mae: 5.2909\n",
            "Epoch 74/100\n",
            "11/11 [==============================] - 0s 4ms/step - loss: 47.2052 - mae: 4.8054 - val_loss: 57.5269 - val_mae: 5.1781\n",
            "Epoch 75/100\n",
            "11/11 [==============================] - 0s 5ms/step - loss: 46.7935 - mae: 4.7272 - val_loss: 57.9485 - val_mae: 5.1562\n",
            "Epoch 76/100\n",
            "11/11 [==============================] - 0s 4ms/step - loss: 46.8230 - mae: 4.5923 - val_loss: 56.8146 - val_mae: 5.1772\n",
            "Epoch 77/100\n",
            "11/11 [==============================] - 0s 4ms/step - loss: 46.4065 - mae: 4.6603 - val_loss: 56.4579 - val_mae: 5.1989\n",
            "Epoch 78/100\n",
            "11/11 [==============================] - 0s 4ms/step - loss: 46.7538 - mae: 4.8307 - val_loss: 56.4351 - val_mae: 5.1387\n",
            "Epoch 79/100\n",
            "11/11 [==============================] - 0s 4ms/step - loss: 46.0932 - mae: 4.5878 - val_loss: 56.1614 - val_mae: 5.1516\n",
            "Epoch 80/100\n",
            "11/11 [==============================] - 0s 4ms/step - loss: 47.2106 - mae: 4.8921 - val_loss: 57.0628 - val_mae: 5.1071\n",
            "Epoch 81/100\n",
            "11/11 [==============================] - 0s 4ms/step - loss: 46.2482 - mae: 4.4976 - val_loss: 55.8937 - val_mae: 5.1234\n",
            "Epoch 82/100\n",
            "11/11 [==============================] - 0s 4ms/step - loss: 47.0434 - mae: 5.0232 - val_loss: 54.3061 - val_mae: 5.2618\n",
            "Epoch 83/100\n",
            "11/11 [==============================] - 0s 4ms/step - loss: 45.4285 - mae: 4.6186 - val_loss: 57.1426 - val_mae: 5.0837\n",
            "Epoch 84/100\n",
            "11/11 [==============================] - 0s 4ms/step - loss: 44.8974 - mae: 4.6005 - val_loss: 54.3844 - val_mae: 5.1585\n",
            "Epoch 85/100\n",
            "11/11 [==============================] - 0s 4ms/step - loss: 44.5111 - mae: 4.6586 - val_loss: 55.1992 - val_mae: 5.0609\n",
            "Epoch 86/100\n",
            "11/11 [==============================] - 0s 4ms/step - loss: 44.6526 - mae: 4.5689 - val_loss: 54.1099 - val_mae: 5.0897\n",
            "Epoch 87/100\n",
            "11/11 [==============================] - 0s 5ms/step - loss: 44.3524 - mae: 4.6326 - val_loss: 54.1305 - val_mae: 5.0889\n",
            "Epoch 88/100\n",
            "11/11 [==============================] - 0s 4ms/step - loss: 43.7800 - mae: 4.4625 - val_loss: 55.0160 - val_mae: 5.0246\n",
            "Epoch 89/100\n",
            "11/11 [==============================] - 0s 4ms/step - loss: 43.8789 - mae: 4.5390 - val_loss: 53.5670 - val_mae: 5.0499\n",
            "Epoch 90/100\n",
            "11/11 [==============================] - 0s 4ms/step - loss: 43.6040 - mae: 4.4197 - val_loss: 53.3591 - val_mae: 5.0572\n",
            "Epoch 91/100\n",
            "11/11 [==============================] - 0s 4ms/step - loss: 43.6826 - mae: 4.5111 - val_loss: 52.7415 - val_mae: 5.0783\n",
            "Epoch 92/100\n",
            "11/11 [==============================] - 0s 4ms/step - loss: 43.0354 - mae: 4.4304 - val_loss: 52.3714 - val_mae: 5.0479\n",
            "Epoch 93/100\n",
            "11/11 [==============================] - 0s 4ms/step - loss: 43.2688 - mae: 4.6479 - val_loss: 51.5905 - val_mae: 5.0498\n",
            "Epoch 94/100\n",
            "11/11 [==============================] - 0s 4ms/step - loss: 42.8018 - mae: 4.5096 - val_loss: 52.8360 - val_mae: 4.9902\n",
            "Epoch 95/100\n",
            "11/11 [==============================] - 0s 4ms/step - loss: 42.3433 - mae: 4.4784 - val_loss: 51.4505 - val_mae: 5.0407\n",
            "Epoch 96/100\n",
            "11/11 [==============================] - 0s 4ms/step - loss: 42.3992 - mae: 4.5639 - val_loss: 51.3476 - val_mae: 5.0218\n",
            "Epoch 97/100\n",
            "11/11 [==============================] - 0s 4ms/step - loss: 41.9997 - mae: 4.5223 - val_loss: 51.2927 - val_mae: 4.9942\n",
            "Epoch 98/100\n",
            "11/11 [==============================] - 0s 3ms/step - loss: 41.9403 - mae: 4.3833 - val_loss: 50.7030 - val_mae: 4.9993\n",
            "Epoch 99/100\n",
            "11/11 [==============================] - 0s 4ms/step - loss: 41.5987 - mae: 4.3756 - val_loss: 49.9270 - val_mae: 5.0142\n",
            "Epoch 100/100\n",
            "11/11 [==============================] - 0s 6ms/step - loss: 42.0811 - mae: 4.6734 - val_loss: 49.4468 - val_mae: 5.0114\n"
          ]
        }
      ]
    },
    {
      "cell_type": "markdown",
      "metadata": {
        "id": "lgJvUUx6B-At"
      },
      "source": [
        "학습 로스 보기"
      ]
    },
    {
      "cell_type": "code",
      "metadata": {
        "colab": {
          "base_uri": "https://localhost:8080/",
          "height": 265
        },
        "id": "O0K5nM1oB9qB",
        "outputId": "e930921c-7bba-4ae8-f84c-c1230d507dff"
      },
      "source": [
        "plt.plot(history.history['loss'], label=\"loss\")\n",
        "plt.plot(history.history['val_loss'], label=\"val_loss\")\n",
        "plt.legend()\n",
        "plt.show()"
      ],
      "execution_count": 9,
      "outputs": [
        {
          "output_type": "display_data",
          "data": {
            "image/png": "[encoded data removed]",
            "text/plain": [
              "<Figure size 432x288 with 1 Axes>"
            ]
          },
          "metadata": {
            "needs_background": "light"
          }
        }
      ]
    },
    {
      "cell_type": "markdown",
      "metadata": {
        "id": "ewjRBSPVCBPY"
      },
      "source": [
        "## 모델 평가"
      ]
    },
    {
      "cell_type": "code",
      "metadata": {
        "colab": {
          "base_uri": "https://localhost:8080/"
        },
        "id": "ReEQHyYQCAuc",
        "outputId": "753d79e0-259d-46bd-f56c-292d778a1b21"
      },
      "source": [
        "loss, mae = model.evaluate(test_x, test_y)\n",
        "print(\"loss=\", loss)\n",
        "print(\"mae=\", mae)"
      ],
      "execution_count": null,
      "outputs": [
        {
          "output_type": "stream",
          "name": "stdout",
          "text": [
            "4/4 [==============================] - 0s 3ms/step - loss: 62.6965 - mae: 5.7967\n",
            "loss= 62.69647216796875\n",
            "mae= 5.796658515930176\n"
          ]
        }
      ]
    },
    {
      "cell_type": "markdown",
      "metadata": {
        "id": "mR_AWAE5CDyu"
      },
      "source": [
        "## 모델 예측"
      ]
    },
    {
      "cell_type": "code",
      "metadata": {
        "id": "UdVRvKWqCEKi"
      },
      "source": [
        "y_ = model.predict(test_x)"
      ],
      "execution_count": null,
      "outputs": []
    },
    {
      "cell_type": "markdown",
      "metadata": {
        "id": "znp7b1paCIAI"
      },
      "source": [
        "예측 결과 보기"
      ]
    },
    {
      "cell_type": "code",
      "metadata": {
        "id": "Jfi9lIa6CKN8",
        "colab": {
          "base_uri": "https://localhost:8080/",
          "height": 265
        },
        "outputId": "8d3f77d5-b2b4-453d-ecc2-f5e7097e4643"
      },
      "source": [
        "plt.scatter(test_y, y_)\n",
        "plt.show()"
      ],
      "execution_count": null,
      "outputs": [
        {
          "output_type": "display_data",
          "data": {
            "image/png": "[encoded data removed]",
            "text/plain": [
              "<Figure size 432x288 with 1 Axes>"
            ]
          },
          "metadata": {
            "needs_background": "light"
          }
        }
      ]
    },
    {
      "cell_type": "markdown",
      "metadata": {
        "id": "FIn3K4NmCVYl"
      },
      "source": [
        "# Keras 코드 기본 구조 - 한눈에 보면"
      ]
    },
    {
      "cell_type": "code",
      "metadata": {
        "id": "aaV-o0hNC7lZ"
      },
      "source": [
        "import numpy as np\n",
        "import pandas as pd\n",
        "import matplotlib.pyplot as plt\n",
        "\n",
        "import tensorflow as tf\n",
        "\n",
        "from tensorflow import keras\n",
        "from tensorflow.keras import optimizers\n",
        "from tensorflow.keras.layers import Dense, Input"
      ],
      "execution_count": null,
      "outputs": []
    },
    {
      "cell_type": "code",
      "metadata": {
        "id": "3znSAHx2C8IV"
      },
      "source": [
        "(train_x, train_y), (test_x, test_y) = tf.keras.datasets.boston_housing.load_data()"
      ],
      "execution_count": null,
      "outputs": []
    },
    {
      "cell_type": "code",
      "metadata": {
        "id": "xfCCe4o4ATss",
        "colab": {
          "base_uri": "https://localhost:8080/",
          "height": 1000
        },
        "outputId": "34548c27-e5b6-414c-94ea-79acec9454c9"
      },
      "source": [
        "# 모델 정의\n",
        "model = keras.Sequential()\n",
        "model.add(Input(13))\n",
        "model.add(Dense(10, activation='relu'))\n",
        "model.add(Dense(10, activation='relu'))\n",
        "model.add(Dense(1))\n",
        "\n",
        "\n",
        "# 모델 컴파일\n",
        "model.compile(optimizer=\"Adam\", loss=\"mse\", metrics=[\"mae\"])\n",
        "model.summary()\n",
        "\n",
        "\n",
        "# 모델 학습\n",
        "history = model.fit(train_x, train_y, epochs=10, batch_size=32, validation_split=0.2)\n",
        "\n",
        "\n",
        "# 학습 로스 보기\n",
        "plt.plot(history.history['loss'], label=\"loss\")\n",
        "plt.plot(history.history['val_loss'], label=\"val_loss\")\n",
        "plt.legend()\n",
        "plt.show()\n",
        "\n",
        "\n",
        "# 평가\n",
        "loss, mae = model.evaluate(test_x, test_y)\n",
        "print(\"loss=\", loss)\n",
        "print(\"mae=\", mae)\n",
        "\n",
        "\n",
        "# 예측\n",
        "y_ = model.predict(test_x)\n",
        "\n",
        "\n",
        "# 예측 결과 보기\n",
        "plt.scatter(test_y, y_)\n",
        "plt.show()\n"
      ],
      "execution_count": 12,
      "outputs": [
        {
          "output_type": "stream",
          "name": "stdout",
          "text": [
            "Model: \"sequential_1\"\n",
            "_________________________________________________________________\n",
            "Layer (type)                 Output Shape              Param #   \n",
            "=================================================================\n",
            "dense_3 (Dense)              (None, 10)                140       \n",
            "_________________________________________________________________\n",
            "dense_4 (Dense)              (None, 10)                110       \n",
            "_________________________________________________________________\n",
            "dense_5 (Dense)              (None, 1)                 11        \n",
            "=================================================================\n",
            "Total params: 261\n",
            "Trainable params: 261\n",
            "Non-trainable params: 0\n",
            "_________________________________________________________________\n",
            "Epoch 1/10\n",
            "11/11 [==============================] - 1s 16ms/step - loss: 539.1300 - mae: 20.2580 - val_loss: 79.6702 - val_mae: 7.2380\n",
            "Epoch 2/10\n",
            "11/11 [==============================] - 0s 4ms/step - loss: 84.6610 - mae: 6.7515 - val_loss: 143.5854 - val_mae: 9.2053\n",
            "Epoch 3/10\n",
            "11/11 [==============================] - 0s 4ms/step - loss: 105.0270 - mae: 7.2813 - val_loss: 81.1232 - val_mae: 6.2898\n",
            "Epoch 4/10\n",
            "11/11 [==============================] - 0s 4ms/step - loss: 62.1567 - mae: 5.7118 - val_loss: 62.8633 - val_mae: 5.6620\n",
            "Epoch 5/10\n",
            "11/11 [==============================] - 0s 4ms/step - loss: 64.0463 - mae: 6.0067 - val_loss: 62.9450 - val_mae: 5.5684\n",
            "Epoch 6/10\n",
            "11/11 [==============================] - 0s 4ms/step - loss: 58.5684 - mae: 5.4377 - val_loss: 63.7618 - val_mae: 5.5041\n",
            "Epoch 7/10\n",
            "11/11 [==============================] - 0s 4ms/step - loss: 57.1728 - mae: 5.2330 - val_loss: 64.6703 - val_mae: 5.4724\n",
            "Epoch 8/10\n",
            "11/11 [==============================] - 0s 3ms/step - loss: 56.5016 - mae: 5.3032 - val_loss: 61.5438 - val_mae: 5.3635\n",
            "Epoch 9/10\n",
            "11/11 [==============================] - 0s 3ms/step - loss: 55.2893 - mae: 5.2805 - val_loss: 59.8089 - val_mae: 5.3881\n",
            "Epoch 10/10\n",
            "11/11 [==============================] - 0s 3ms/step - loss: 55.7732 - mae: 5.4912 - val_loss: 59.5133 - val_mae: 5.3800\n"
          ]
        },
        {
          "output_type": "display_data",
          "data": {
            "image/png": "[encoded data removed]",
            "text/plain": [
              "<Figure size 432x288 with 1 Axes>"
            ]
          },
          "metadata": {
            "needs_background": "light"
          }
        },
        {
          "output_type": "stream",
          "name": "stdout",
          "text": [
            "4/4 [==============================] - 0s 4ms/step - loss: 64.1701 - mae: 6.0145\n",
            "loss= 64.17011260986328\n",
            "mae= 6.014543056488037\n"
          ]
        },
        {
          "output_type": "display_data",
          "data": {
            "image/png": "[encoded data removed]",
            "text/plain": [
              "<Figure size 432x288 with 1 Axes>"
            ]
          },
          "metadata": {
            "needs_background": "light"
          }
        }
      ]
    },
    {
      "cell_type": "markdown",
      "metadata": {
        "id": "PWHWq-9CDM74"
      },
      "source": [
        "# loss 설정\n",
        "\n",
        "- 회귀 문제일 때는 \"mse\"\n",
        "\n",
        "- 분류 문제일 때는 \"sparse_categorical_crossentropy\""
      ]
    },
    {
      "cell_type": "code",
      "metadata": {
        "id": "QpgPcHYUDYQ5"
      },
      "source": [
        "model.compile(optimizer=\"Adam\", loss=\"mse\")\n",
        "\n",
        "model.compile(optimizer=\"Adam\", loss=\"sparse_categorical_crossentropy\")"
      ],
      "execution_count": null,
      "outputs": []
    },
    {
      "cell_type": "markdown",
      "metadata": {
        "id": "23vWdTCQDPKg"
      },
      "source": [
        "# optimizer 설정\n",
        "- \"Adam\" / Adam()\n",
        "- \"Adadelta\" / Adadelta()\n",
        "- \"Adagrad\" / Adagrad()\n",
        "- \"RMSrop\" / RMSprop()\n"
      ]
    },
    {
      "cell_type": "code",
      "metadata": {
        "id": "M1isBh92FQ5b"
      },
      "source": [
        "from tensorflow.keras.optimizers import Adam, Adagrad, Adadelta, RMSprop\n",
        "\n",
        "model.compile(optimizer=\"Adam\", loss=\"mse\")\n",
        "model.compile(optimizer=Adam(), loss=\"mse\")\n",
        "model.compile(optimizer=Adam(learning_rate=0.001), loss=\"mse\")\n",
        "\n",
        "model.compile(optimizer=\"Adagrad\", loss=\"mse\")\n",
        "model.compile(optimizer=Adagrad(), loss=\"mse\")\n",
        "model.compile(optimizer=Adagrad(learning_rate=0.001), loss=\"mse\")\n",
        "\n",
        "model.compile(optimizer=\"Adadelta\", loss=\"mse\")\n",
        "model.compile(optimizer=Adadelta(), loss=\"mse\")\n",
        "model.compile(optimizer=Adadelta(learning_rate=0.001), loss=\"mse\")\n",
        "\n",
        "model.compile(optimizer=\"RMSprop\", loss=\"mse\")\n",
        "model.compile(optimizer=RMSprop(), loss=\"mse\")\n",
        "model.compile(optimizer=RMSprop(learning_rate=0.001), loss=\"mse\")"
      ],
      "execution_count": null,
      "outputs": []
    },
    {
      "cell_type": "markdown",
      "metadata": {
        "id": "y5pWvzXVKA5X"
      },
      "source": [
        "# 모델 저장과 로딩"
      ]
    },
    {
      "cell_type": "code",
      "metadata": {
        "id": "n_mI9k-jKEfN"
      },
      "source": [
        "import numpy as np\n",
        "import pandas as pd\n",
        "import matplotlib.pyplot as plt\n",
        "\n",
        "import tensorflow as tf\n",
        "\n",
        "from tensorflow import keras\n",
        "from tensorflow.keras import optimizers\n",
        "from tensorflow.keras.layers import Dense, Input"
      ],
      "execution_count": null,
      "outputs": []
    },
    {
      "cell_type": "code",
      "metadata": {
        "id": "D2ighJacKGc-"
      },
      "source": [
        "(train_x, train_y), (test_x, test_y) = tf.keras.datasets.boston_housing.load_data()"
      ],
      "execution_count": null,
      "outputs": []
    },
    {
      "cell_type": "code",
      "metadata": {
        "id": "1ZBkU23jDTqw",
        "colab": {
          "base_uri": "https://localhost:8080/",
          "height": 852
        },
        "outputId": "7f854a8e-df1f-4ca6-dc83-aa7d8ce3397b"
      },
      "source": [
        "# 모델 정의\n",
        "model = keras.Sequential()\n",
        "model.add(Input(13))\n",
        "model.add(Dense(10, activation='relu'))\n",
        "model.add(Dense(10, activation='relu'))\n",
        "model.add(Dense(1))\n",
        "\n",
        "\n",
        "# 모델 컴파일\n",
        "model.compile(optimizer=\"Adam\", loss=\"mse\")\n",
        "model.summary()\n",
        "\n",
        "\n",
        "# 모델 학습\n",
        "history = model.fit(train_x, train_y, epochs=10, batch_size=32, validation_split=0.2)\n",
        "\n",
        "\n",
        "# 학습 로스 보기\n",
        "plt.plot(history.history['loss'], label=\"loss\")\n",
        "plt.plot(history.history['val_loss'], label=\"val_loss\")\n",
        "plt.legend()\n",
        "plt.show()"
      ],
      "execution_count": 13,
      "outputs": [
        {
          "output_type": "stream",
          "name": "stdout",
          "text": [
            "Model: \"sequential_2\"\n",
            "_________________________________________________________________\n",
            "Layer (type)                 Output Shape              Param #   \n",
            "=================================================================\n",
            "dense_6 (Dense)              (None, 10)                140       \n",
            "_________________________________________________________________\n",
            "dense_7 (Dense)              (None, 10)                110       \n",
            "_________________________________________________________________\n",
            "dense_8 (Dense)              (None, 1)                 11        \n",
            "=================================================================\n",
            "Total params: 261\n",
            "Trainable params: 261\n",
            "Non-trainable params: 0\n",
            "_________________________________________________________________\n",
            "Epoch 1/10\n",
            "11/11 [==============================] - 0s 13ms/step - loss: 16334.5684 - val_loss: 8687.6562\n",
            "Epoch 2/10\n",
            "11/11 [==============================] - 0s 3ms/step - loss: 5926.9097 - val_loss: 2266.2378\n",
            "Epoch 3/10\n",
            "11/11 [==============================] - 0s 3ms/step - loss: 1473.4218 - val_loss: 489.3178\n",
            "Epoch 4/10\n",
            "11/11 [==============================] - 0s 3ms/step - loss: 538.0589 - val_loss: 403.6671\n",
            "Epoch 5/10\n",
            "11/11 [==============================] - 0s 3ms/step - loss: 475.9008 - val_loss: 378.7997\n",
            "Epoch 6/10\n",
            "11/11 [==============================] - 0s 3ms/step - loss: 385.1669 - val_loss: 255.3940\n",
            "Epoch 7/10\n",
            "11/11 [==============================] - 0s 4ms/step - loss: 262.6797 - val_loss: 178.8125\n",
            "Epoch 8/10\n",
            "11/11 [==============================] - 0s 4ms/step - loss: 198.5621 - val_loss: 148.5723\n",
            "Epoch 9/10\n",
            "11/11 [==============================] - 0s 4ms/step - loss: 170.0035 - val_loss: 131.9544\n",
            "Epoch 10/10\n",
            "11/11 [==============================] - 0s 4ms/step - loss: 143.3954 - val_loss: 117.1772\n"
          ]
        },
        {
          "output_type": "display_data",
          "data": {
            "image/png": "[encoded data removed]",
            "text/plain": [
              "<Figure size 432x288 with 1 Axes>"
            ]
          },
          "metadata": {
            "needs_background": "light"
          }
        }
      ]
    },
    {
      "cell_type": "markdown",
      "metadata": {
        "id": "o3TxHDwpKegD"
      },
      "source": [
        "## 모델 저장"
      ]
    },
    {
      "cell_type": "code",
      "metadata": {
        "id": "HLOf2oTrDQaK"
      },
      "source": [
        "model.save(\"my_model.h5\")"
      ],
      "execution_count": 14,
      "outputs": []
    },
    {
      "cell_type": "markdown",
      "metadata": {
        "id": "KS9rZtklKgh6"
      },
      "source": [
        "## 모델 로딩"
      ]
    },
    {
      "cell_type": "code",
      "metadata": {
        "id": "q0mtrnqvKOex",
        "colab": {
          "base_uri": "https://localhost:8080/",
          "height": 265
        },
        "outputId": "4910b6bc-3611-469f-b696-a1b7346e21ea"
      },
      "source": [
        "import tensorflow as tf\n",
        "import matplotlib.pyplot as plt\n",
        "\n",
        "(train_x, train_y), (test_x, test_y) = tf.keras.datasets.boston_housing.load_data()\n",
        "\n",
        "loaded_model = tf.keras.models.load_model(\"my_model.h5\")\n",
        "\n",
        "\n",
        "# 예측\n",
        "y_ = loaded_model.predict(test_x)\n",
        "\n",
        "\n",
        "# 예측 결과 보기\n",
        "plt.scatter(test_y, y_)\n",
        "plt.show()"
      ],
      "execution_count": 15,
      "outputs": [
        {
          "output_type": "display_data",
          "data": {
            "image/png": "[encoded data removed]",
            "text/plain": [
              "<Figure size 432x288 with 1 Axes>"
            ]
          },
          "metadata": {
            "needs_background": "light"
          }
        }
      ]
    },
    {
      "cell_type": "code",
      "metadata": {
        "id": "EGJD3mCVKURr"
      },
      "source": [
        ""
      ],
      "execution_count": null,
      "outputs": []
    }
  ]
}