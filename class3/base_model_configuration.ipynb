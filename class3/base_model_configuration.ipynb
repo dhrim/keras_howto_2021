{
  "nbformat": 4,
  "nbformat_minor": 0,
  "metadata": {
    "colab": {
      "name": "base_model_configuration.ipynb",
      "provenance": [],
      "collapsed_sections": []
    },
    "kernelspec": {
      "name": "python3",
      "display_name": "Python 3"
    },
    "language_info": {
      "name": "python"
    },
    "accelerator": "GPU"
  },
  "cells": [
    {
      "cell_type": "markdown",
      "metadata": {
        "id": "byU0eVWW47W9"
      },
      "source": [
        "# loss 설정\n",
        "\n",
        "- 회귀 작업일 경우 'mse'\n",
        "- 분류 작업일 경우 'sparse_categorical_crossentropy'\n",
        "- 2진 분류 작업일 경우 'binary_crossentropy'"
      ]
    },
    {
      "cell_type": "markdown",
      "metadata": {
        "id": "9DUGT67T5YfY"
      },
      "source": [
        "## 회귀 작업\n",
        "\n",
        "loss를 'mse'로 설정한다."
      ]
    },
    {
      "cell_type": "code",
      "metadata": {
        "id": "yRP-a2X46IEM"
      },
      "source": [
        "import numpy as np\n",
        "import pandas as pd\n",
        "import matplotlib.pyplot as plt\n",
        "\n",
        "import tensorflow as tf\n",
        "\n",
        "from tensorflow import keras\n",
        "from tensorflow.keras import optimizers\n",
        "from tensorflow.keras.layers import Dense, Input"
      ],
      "execution_count": 1,
      "outputs": []
    },
    {
      "cell_type": "code",
      "metadata": {
        "id": "cDeNgK6y502w",
        "outputId": "b74e7cd2-8849-4553-c50b-3141909dcbd4",
        "colab": {
          "base_uri": "https://localhost:8080/"
        }
      },
      "source": [
        "(train_x, train_y), (test_x, test_y) = tf.keras.datasets.boston_housing.load_data()"
      ],
      "execution_count": 2,
      "outputs": [
        {
          "output_type": "stream",
          "name": "stdout",
          "text": [
            "Downloading data from https://storage.googleapis.com/tensorflow/tf-keras-datasets/boston_housing.npz\n",
            "57344/57026 [==============================] - 0s 0us/step\n",
            "65536/57026 [==================================] - 0s 0us/step\n"
          ]
        }
      ]
    },
    {
      "cell_type": "code",
      "metadata": {
        "colab": {
          "base_uri": "https://localhost:8080/",
          "height": 1000
        },
        "id": "G7qz-VzI52v1",
        "outputId": "2fec9ecf-6a9f-4e26-d5d8-abf900001ddf"
      },
      "source": [
        "# 모델 정의\n",
        "model = keras.Sequential()\n",
        "model.add(Input(13))\n",
        "model.add(Dense(10, activation='relu'))\n",
        "model.add(Dense(10, activation='relu'))\n",
        "model.add(Dense(1))\n",
        "\n",
        "\n",
        "# 모델 컴파일\n",
        "model.compile(optimizer=\"Adam\", loss=\"mse\", metrics=[\"mae\"])\n",
        "model.summary()\n",
        "\n",
        "\n",
        "# 모델 학습\n",
        "history = model.fit(train_x, train_y, epochs=100, batch_size=32, validation_split=0.2)\n",
        "\n",
        "\n",
        "# 학습 로스 보기\n",
        "plt.plot(history.history['loss'], label=\"loss\")\n",
        "plt.plot(history.history['val_loss'], label=\"val_loss\")\n",
        "plt.legend()\n",
        "plt.show()\n",
        "\n",
        "\n",
        "# 평가\n",
        "loss, mae = model.evaluate(test_x, test_y)\n",
        "print(\"loss=\", loss)\n",
        "print(\"mae=\", mae)\n",
        "\n",
        "\n",
        "# 예측\n",
        "y_ = model.predict(test_x)\n",
        "\n",
        "\n",
        "# 예측 결과 보기\n",
        "plt.scatter(test_y, y_)\n",
        "plt.show()\n"
      ],
      "execution_count": 3,
      "outputs": [
        {
          "output_type": "stream",
          "name": "stdout",
          "text": [
            "Model: \"sequential\"\n",
            "_________________________________________________________________\n",
            "Layer (type)                 Output Shape              Param #   \n",
            "=================================================================\n",
            "dense (Dense)                (None, 10)                140       \n",
            "_________________________________________________________________\n",
            "dense_1 (Dense)              (None, 10)                110       \n",
            "_________________________________________________________________\n",
            "dense_2 (Dense)              (None, 1)                 11        \n",
            "=================================================================\n",
            "Total params: 261\n",
            "Trainable params: 261\n",
            "Non-trainable params: 0\n",
            "_________________________________________________________________\n",
            "Epoch 1/100\n",
            "11/11 [==============================] - 2s 15ms/step - loss: 4524.0327 - mae: 54.1266 - val_loss: 1649.0200 - val_mae: 27.9130\n",
            "Epoch 2/100\n",
            "11/11 [==============================] - 0s 4ms/step - loss: 1363.9792 - mae: 24.1006 - val_loss: 564.9267 - val_mae: 16.0018\n",
            "Epoch 3/100\n",
            "11/11 [==============================] - 0s 4ms/step - loss: 743.2388 - mae: 19.7340 - val_loss: 547.1990 - val_mae: 18.6165\n",
            "Epoch 4/100\n",
            "11/11 [==============================] - 0s 4ms/step - loss: 638.7703 - mae: 19.9356 - val_loss: 411.3221 - val_mae: 15.3763\n",
            "Epoch 5/100\n",
            "11/11 [==============================] - 0s 4ms/step - loss: 515.0051 - mae: 16.9488 - val_loss: 332.3141 - val_mae: 12.8828\n",
            "Epoch 6/100\n",
            "11/11 [==============================] - 0s 4ms/step - loss: 462.3726 - mae: 15.6339 - val_loss: 309.6856 - val_mae: 12.7645\n",
            "Epoch 7/100\n",
            "11/11 [==============================] - 0s 4ms/step - loss: 426.6726 - mae: 15.5205 - val_loss: 296.0647 - val_mae: 13.1358\n",
            "Epoch 8/100\n",
            "11/11 [==============================] - 0s 4ms/step - loss: 393.6121 - mae: 15.3788 - val_loss: 279.8175 - val_mae: 12.9344\n",
            "Epoch 9/100\n",
            "11/11 [==============================] - 0s 5ms/step - loss: 372.1877 - mae: 15.0765 - val_loss: 267.0918 - val_mae: 12.8269\n",
            "Epoch 10/100\n",
            "11/11 [==============================] - 0s 4ms/step - loss: 347.4982 - mae: 14.8279 - val_loss: 255.4137 - val_mae: 12.7010\n",
            "Epoch 11/100\n",
            "11/11 [==============================] - 0s 4ms/step - loss: 325.5412 - mae: 14.5296 - val_loss: 242.3866 - val_mae: 12.4463\n",
            "Epoch 12/100\n",
            "11/11 [==============================] - 0s 4ms/step - loss: 304.8684 - mae: 14.0669 - val_loss: 229.3998 - val_mae: 12.0366\n",
            "Epoch 13/100\n",
            "11/11 [==============================] - 0s 4ms/step - loss: 290.7800 - mae: 13.5860 - val_loss: 219.0685 - val_mae: 11.6428\n",
            "Epoch 14/100\n",
            "11/11 [==============================] - 0s 4ms/step - loss: 272.5871 - mae: 13.3706 - val_loss: 213.9319 - val_mae: 11.7778\n",
            "Epoch 15/100\n",
            "11/11 [==============================] - 0s 4ms/step - loss: 258.0963 - mae: 13.1818 - val_loss: 202.1612 - val_mae: 11.3766\n",
            "Epoch 16/100\n",
            "11/11 [==============================] - 0s 4ms/step - loss: 242.3900 - mae: 12.6873 - val_loss: 194.1509 - val_mae: 11.1274\n",
            "Epoch 17/100\n",
            "11/11 [==============================] - 0s 4ms/step - loss: 230.5049 - mae: 12.5206 - val_loss: 189.1095 - val_mae: 11.1336\n",
            "Epoch 18/100\n",
            "11/11 [==============================] - 0s 4ms/step - loss: 216.9603 - mae: 12.1913 - val_loss: 180.6706 - val_mae: 10.8229\n",
            "Epoch 19/100\n",
            "11/11 [==============================] - 0s 4ms/step - loss: 205.3350 - mae: 11.7798 - val_loss: 175.4407 - val_mae: 10.6528\n",
            "Epoch 20/100\n",
            "11/11 [==============================] - 0s 4ms/step - loss: 197.2785 - mae: 11.6217 - val_loss: 170.3240 - val_mae: 10.5086\n",
            "Epoch 21/100\n",
            "11/11 [==============================] - 0s 4ms/step - loss: 185.9580 - mae: 11.1718 - val_loss: 162.5939 - val_mae: 10.1052\n",
            "Epoch 22/100\n",
            "11/11 [==============================] - 0s 4ms/step - loss: 177.4914 - mae: 10.6985 - val_loss: 155.6348 - val_mae: 9.8743\n",
            "Epoch 23/100\n",
            "11/11 [==============================] - 0s 4ms/step - loss: 166.3185 - mae: 10.4876 - val_loss: 152.7545 - val_mae: 9.9271\n",
            "Epoch 24/100\n",
            "11/11 [==============================] - 0s 4ms/step - loss: 157.7057 - mae: 10.2463 - val_loss: 144.5307 - val_mae: 9.5273\n",
            "Epoch 25/100\n",
            "11/11 [==============================] - 0s 4ms/step - loss: 145.0328 - mae: 9.7066 - val_loss: 138.5951 - val_mae: 9.2390\n",
            "Epoch 26/100\n",
            "11/11 [==============================] - 0s 4ms/step - loss: 135.6586 - mae: 9.3006 - val_loss: 132.5939 - val_mae: 9.0473\n",
            "Epoch 27/100\n",
            "11/11 [==============================] - 0s 4ms/step - loss: 127.3086 - mae: 9.0487 - val_loss: 128.5771 - val_mae: 8.9174\n",
            "Epoch 28/100\n",
            "11/11 [==============================] - 0s 4ms/step - loss: 122.3626 - mae: 8.9643 - val_loss: 125.6153 - val_mae: 8.8332\n",
            "Epoch 29/100\n",
            "11/11 [==============================] - 0s 4ms/step - loss: 116.6005 - mae: 8.6540 - val_loss: 121.4616 - val_mae: 8.4829\n",
            "Epoch 30/100\n",
            "11/11 [==============================] - 0s 4ms/step - loss: 112.1197 - mae: 8.2829 - val_loss: 117.0653 - val_mae: 8.3204\n",
            "Epoch 31/100\n",
            "11/11 [==============================] - 0s 4ms/step - loss: 106.9543 - mae: 8.2241 - val_loss: 114.6160 - val_mae: 8.2773\n",
            "Epoch 32/100\n",
            "11/11 [==============================] - 0s 4ms/step - loss: 103.4336 - mae: 8.1008 - val_loss: 111.1197 - val_mae: 8.0351\n",
            "Epoch 33/100\n",
            "11/11 [==============================] - 0s 4ms/step - loss: 101.3354 - mae: 7.6573 - val_loss: 109.1194 - val_mae: 7.8245\n",
            "Epoch 34/100\n",
            "11/11 [==============================] - 0s 4ms/step - loss: 96.8565 - mae: 7.5994 - val_loss: 106.7503 - val_mae: 7.8545\n",
            "Epoch 35/100\n",
            "11/11 [==============================] - 0s 4ms/step - loss: 93.3905 - mae: 7.3833 - val_loss: 104.6443 - val_mae: 7.6014\n",
            "Epoch 36/100\n",
            "11/11 [==============================] - 0s 4ms/step - loss: 91.9756 - mae: 7.1348 - val_loss: 102.5886 - val_mae: 7.5454\n",
            "Epoch 37/100\n",
            "11/11 [==============================] - 0s 4ms/step - loss: 88.9863 - mae: 7.2293 - val_loss: 101.3523 - val_mae: 7.5805\n",
            "Epoch 38/100\n",
            "11/11 [==============================] - 0s 4ms/step - loss: 86.3050 - mae: 7.1212 - val_loss: 99.5357 - val_mae: 7.4561\n",
            "Epoch 39/100\n",
            "11/11 [==============================] - 0s 4ms/step - loss: 84.8307 - mae: 7.1071 - val_loss: 97.9510 - val_mae: 7.3046\n",
            "Epoch 40/100\n",
            "11/11 [==============================] - 0s 4ms/step - loss: 86.6560 - mae: 6.6553 - val_loss: 98.7015 - val_mae: 7.0536\n",
            "Epoch 41/100\n",
            "11/11 [==============================] - 0s 4ms/step - loss: 81.3638 - mae: 6.5073 - val_loss: 95.9640 - val_mae: 7.3119\n",
            "Epoch 42/100\n",
            "11/11 [==============================] - 0s 4ms/step - loss: 79.5354 - mae: 6.7282 - val_loss: 93.0338 - val_mae: 6.9135\n",
            "Epoch 43/100\n",
            "11/11 [==============================] - 0s 4ms/step - loss: 77.6387 - mae: 6.3337 - val_loss: 91.7775 - val_mae: 6.8173\n",
            "Epoch 44/100\n",
            "11/11 [==============================] - 0s 4ms/step - loss: 76.3153 - mae: 6.3475 - val_loss: 90.6875 - val_mae: 6.8110\n",
            "Epoch 45/100\n",
            "11/11 [==============================] - 0s 5ms/step - loss: 75.1126 - mae: 6.2392 - val_loss: 89.9184 - val_mae: 6.6737\n",
            "Epoch 46/100\n",
            "11/11 [==============================] - 0s 4ms/step - loss: 74.6258 - mae: 6.1944 - val_loss: 89.2328 - val_mae: 6.7083\n",
            "Epoch 47/100\n",
            "11/11 [==============================] - 0s 5ms/step - loss: 73.7482 - mae: 6.1394 - val_loss: 88.8280 - val_mae: 6.5725\n",
            "Epoch 48/100\n",
            "11/11 [==============================] - 0s 4ms/step - loss: 73.9594 - mae: 5.9635 - val_loss: 87.9217 - val_mae: 6.5547\n",
            "Epoch 49/100\n",
            "11/11 [==============================] - 0s 4ms/step - loss: 72.8790 - mae: 6.1601 - val_loss: 87.3479 - val_mae: 6.6134\n",
            "Epoch 50/100\n",
            "11/11 [==============================] - 0s 5ms/step - loss: 73.2673 - mae: 5.8674 - val_loss: 87.6254 - val_mae: 6.3813\n",
            "Epoch 51/100\n",
            "11/11 [==============================] - 0s 4ms/step - loss: 72.5283 - mae: 6.0006 - val_loss: 86.2313 - val_mae: 6.6412\n",
            "Epoch 52/100\n",
            "11/11 [==============================] - 0s 4ms/step - loss: 71.0843 - mae: 6.1003 - val_loss: 85.4513 - val_mae: 6.4221\n",
            "Epoch 53/100\n",
            "11/11 [==============================] - 0s 4ms/step - loss: 70.2376 - mae: 5.9037 - val_loss: 84.8103 - val_mae: 6.4026\n",
            "Epoch 54/100\n",
            "11/11 [==============================] - 0s 4ms/step - loss: 69.6380 - mae: 5.8328 - val_loss: 84.4573 - val_mae: 6.3315\n",
            "Epoch 55/100\n",
            "11/11 [==============================] - 0s 4ms/step - loss: 69.3076 - mae: 5.7709 - val_loss: 83.8181 - val_mae: 6.3855\n",
            "Epoch 56/100\n",
            "11/11 [==============================] - 0s 4ms/step - loss: 69.0812 - mae: 5.9304 - val_loss: 83.4945 - val_mae: 6.3255\n",
            "Epoch 57/100\n",
            "11/11 [==============================] - 0s 4ms/step - loss: 68.9576 - mae: 5.6694 - val_loss: 83.2719 - val_mae: 6.2518\n",
            "Epoch 58/100\n",
            "11/11 [==============================] - 0s 4ms/step - loss: 68.1152 - mae: 5.6519 - val_loss: 82.6568 - val_mae: 6.2916\n",
            "Epoch 59/100\n",
            "11/11 [==============================] - 0s 4ms/step - loss: 67.6249 - mae: 5.6966 - val_loss: 82.2423 - val_mae: 6.4086\n",
            "Epoch 60/100\n",
            "11/11 [==============================] - 0s 4ms/step - loss: 69.2190 - mae: 6.1908 - val_loss: 82.0147 - val_mae: 6.5209\n",
            "Epoch 61/100\n",
            "11/11 [==============================] - 0s 4ms/step - loss: 67.1473 - mae: 5.9032 - val_loss: 81.4922 - val_mae: 6.2236\n",
            "Epoch 62/100\n",
            "11/11 [==============================] - 0s 4ms/step - loss: 66.8216 - mae: 5.8006 - val_loss: 81.4387 - val_mae: 6.1726\n",
            "Epoch 63/100\n",
            "11/11 [==============================] - 0s 4ms/step - loss: 68.0253 - mae: 5.5147 - val_loss: 81.3666 - val_mae: 6.0799\n",
            "Epoch 64/100\n",
            "11/11 [==============================] - 0s 4ms/step - loss: 65.6269 - mae: 5.5943 - val_loss: 80.3499 - val_mae: 6.3115\n",
            "Epoch 65/100\n",
            "11/11 [==============================] - 0s 4ms/step - loss: 65.7328 - mae: 5.7445 - val_loss: 80.1520 - val_mae: 6.2415\n",
            "Epoch 66/100\n",
            "11/11 [==============================] - 0s 5ms/step - loss: 65.5058 - mae: 5.8229 - val_loss: 79.8485 - val_mae: 6.2584\n",
            "Epoch 67/100\n",
            "11/11 [==============================] - 0s 4ms/step - loss: 65.0144 - mae: 5.5884 - val_loss: 81.2356 - val_mae: 6.0202\n",
            "Epoch 68/100\n",
            "11/11 [==============================] - 0s 4ms/step - loss: 64.8474 - mae: 5.4714 - val_loss: 79.1375 - val_mae: 6.1847\n",
            "Epoch 69/100\n",
            "11/11 [==============================] - 0s 4ms/step - loss: 64.4024 - mae: 5.6881 - val_loss: 79.0674 - val_mae: 6.0544\n",
            "Epoch 70/100\n",
            "11/11 [==============================] - 0s 4ms/step - loss: 64.0451 - mae: 5.4551 - val_loss: 78.3864 - val_mae: 6.0815\n",
            "Epoch 71/100\n",
            "11/11 [==============================] - 0s 4ms/step - loss: 63.6046 - mae: 5.4686 - val_loss: 77.9783 - val_mae: 6.0836\n",
            "Epoch 72/100\n",
            "11/11 [==============================] - 0s 4ms/step - loss: 64.1545 - mae: 5.7216 - val_loss: 77.6672 - val_mae: 6.0397\n",
            "Epoch 73/100\n",
            "11/11 [==============================] - 0s 4ms/step - loss: 63.1988 - mae: 5.3915 - val_loss: 77.7321 - val_mae: 5.9504\n",
            "Epoch 74/100\n",
            "11/11 [==============================] - 0s 4ms/step - loss: 62.7050 - mae: 5.3496 - val_loss: 77.2585 - val_mae: 5.9609\n",
            "Epoch 75/100\n",
            "11/11 [==============================] - 0s 4ms/step - loss: 62.5553 - mae: 5.4711 - val_loss: 77.7720 - val_mae: 5.8353\n",
            "Epoch 76/100\n",
            "11/11 [==============================] - 0s 4ms/step - loss: 62.8396 - mae: 5.1931 - val_loss: 77.4475 - val_mae: 5.8217\n",
            "Epoch 77/100\n",
            "11/11 [==============================] - 0s 4ms/step - loss: 62.4463 - mae: 5.4852 - val_loss: 75.9194 - val_mae: 6.0030\n",
            "Epoch 78/100\n",
            "11/11 [==============================] - 0s 4ms/step - loss: 61.7665 - mae: 5.3348 - val_loss: 76.7071 - val_mae: 5.7969\n",
            "Epoch 79/100\n",
            "11/11 [==============================] - 0s 4ms/step - loss: 61.5373 - mae: 5.2676 - val_loss: 75.2278 - val_mae: 5.9563\n",
            "Epoch 80/100\n",
            "11/11 [==============================] - 0s 4ms/step - loss: 61.2452 - mae: 5.4146 - val_loss: 75.0808 - val_mae: 5.8932\n",
            "Epoch 81/100\n",
            "11/11 [==============================] - 0s 4ms/step - loss: 60.6585 - mae: 5.3365 - val_loss: 74.7584 - val_mae: 5.8661\n",
            "Epoch 82/100\n",
            "11/11 [==============================] - 0s 4ms/step - loss: 60.8504 - mae: 5.3035 - val_loss: 74.1510 - val_mae: 5.9857\n",
            "Epoch 83/100\n",
            "11/11 [==============================] - 0s 4ms/step - loss: 62.5259 - mae: 5.7607 - val_loss: 75.6679 - val_mae: 5.7020\n",
            "Epoch 84/100\n",
            "11/11 [==============================] - 0s 4ms/step - loss: 61.3738 - mae: 5.0655 - val_loss: 75.1874 - val_mae: 5.7070\n",
            "Epoch 85/100\n",
            "11/11 [==============================] - 0s 4ms/step - loss: 60.0839 - mae: 5.3074 - val_loss: 73.2887 - val_mae: 5.9110\n",
            "Epoch 86/100\n",
            "11/11 [==============================] - 0s 4ms/step - loss: 61.4509 - mae: 5.1389 - val_loss: 74.1270 - val_mae: 5.6946\n",
            "Epoch 87/100\n",
            "11/11 [==============================] - 0s 4ms/step - loss: 59.1124 - mae: 5.2166 - val_loss: 72.6679 - val_mae: 5.8669\n",
            "Epoch 88/100\n",
            "11/11 [==============================] - 0s 4ms/step - loss: 58.9905 - mae: 5.2155 - val_loss: 72.7371 - val_mae: 5.7442\n",
            "Epoch 89/100\n",
            "11/11 [==============================] - 0s 4ms/step - loss: 59.3245 - mae: 5.4171 - val_loss: 72.7375 - val_mae: 5.6862\n",
            "Epoch 90/100\n",
            "11/11 [==============================] - 0s 5ms/step - loss: 60.7373 - mae: 5.0729 - val_loss: 71.8037 - val_mae: 5.7956\n",
            "Epoch 91/100\n",
            "11/11 [==============================] - 0s 4ms/step - loss: 58.4460 - mae: 5.3993 - val_loss: 72.1594 - val_mae: 5.6654\n",
            "Epoch 92/100\n",
            "11/11 [==============================] - 0s 4ms/step - loss: 60.0665 - mae: 4.9687 - val_loss: 71.0584 - val_mae: 5.8393\n",
            "Epoch 93/100\n",
            "11/11 [==============================] - 0s 4ms/step - loss: 64.3649 - mae: 6.1711 - val_loss: 70.9184 - val_mae: 5.6954\n",
            "Epoch 94/100\n",
            "11/11 [==============================] - 0s 4ms/step - loss: 59.1837 - mae: 4.9484 - val_loss: 70.8899 - val_mae: 5.6184\n",
            "Epoch 95/100\n",
            "11/11 [==============================] - 0s 4ms/step - loss: 58.5759 - mae: 5.5263 - val_loss: 70.1064 - val_mae: 5.6782\n",
            "Epoch 96/100\n",
            "11/11 [==============================] - 0s 4ms/step - loss: 59.0411 - mae: 5.0068 - val_loss: 70.0902 - val_mae: 5.6253\n",
            "Epoch 97/100\n",
            "11/11 [==============================] - 0s 4ms/step - loss: 56.4223 - mae: 5.1892 - val_loss: 69.2978 - val_mae: 5.6397\n",
            "Epoch 98/100\n",
            "11/11 [==============================] - 0s 4ms/step - loss: 56.7267 - mae: 5.1617 - val_loss: 68.9483 - val_mae: 5.6333\n",
            "Epoch 99/100\n",
            "11/11 [==============================] - 0s 4ms/step - loss: 55.7651 - mae: 5.0706 - val_loss: 69.4321 - val_mae: 5.5249\n",
            "Epoch 100/100\n",
            "11/11 [==============================] - 0s 4ms/step - loss: 55.7347 - mae: 5.1406 - val_loss: 68.2491 - val_mae: 5.6134\n"
          ]
        },
        {
          "output_type": "display_data",
          "data": {
            "image/png": "[encoded data removed]",
            "text/plain": [
              "<Figure size 432x288 with 1 Axes>"
            ]
          },
          "metadata": {
            "needs_background": "light"
          }
        },
        {
          "output_type": "stream",
          "name": "stdout",
          "text": [
            "4/4 [==============================] - 0s 3ms/step - loss: 61.9868 - mae: 5.8369\n",
            "loss= 61.98681640625\n",
            "mae= 5.836866855621338\n"
          ]
        },
        {
          "output_type": "display_data",
          "data": {
            "image/png": "[encoded data removed]",
            "text/plain": [
              "<Figure size 432x288 with 1 Axes>"
            ]
          },
          "metadata": {
            "needs_background": "light"
          }
        }
      ]
    },
    {
      "cell_type": "markdown",
      "metadata": {
        "id": "UA-SF_o25YWJ"
      },
      "source": [
        "## 분류 작업\n",
        "\n",
        "loss를 'sparse_categorical_crossentropy'로 설정한다.\n",
        "\n",
        "<br>\n",
        "\n",
        "출력 데이터 y의 값은 category index 이어야 한다.\n",
        "\n",
        "아래의 예에서의 train_y 값은 다음과 같다.\n",
        "```\n",
        "[1 0 2 1 1 0 1 0 1 2]\n",
        "```\n",
        "\n",
        "<br>\n",
        "\n",
        "loss 이름 'sparse_categorical_crossentropy'에서<br> 'categorical'은 분류작업임을 의미하며,<br> 'sparse'는 y의 값이 category index임을 의미한다.\n",
        "\n"
      ]
    },
    {
      "cell_type": "code",
      "metadata": {
        "id": "MrFM_IGZ6KMp"
      },
      "source": [
        "import numpy as np\n",
        "import pandas as pd\n",
        "import matplotlib.pyplot as plt\n",
        "\n",
        "import tensorflow as tf\n",
        "\n",
        "from tensorflow import keras\n",
        "from tensorflow.keras import optimizers\n",
        "from tensorflow.keras.layers import Dense, Input"
      ],
      "execution_count": 4,
      "outputs": []
    },
    {
      "cell_type": "code",
      "metadata": {
        "id": "dG9eE6Zc6b32"
      },
      "source": [
        "def load_iris_data():\n",
        "\n",
        "  df = pd.read_csv(\"https://raw.githubusercontent.com/dhrim/keras_howto_2021/master/data/iris_with_category_index.csv\")\n",
        "  data = df.to_numpy()\n",
        "  np.random.shuffle(data)\n",
        "\n",
        "  x = data[:,:4]\n",
        "  y = data[:,4]\n",
        "\n",
        "  split_index = int(len(x)*0.8)\n",
        "  train_x, test_x = x[:split_index], x[split_index:]\n",
        "  train_y, test_y = y[:split_index], y[split_index:]\n",
        "\n",
        "  return (train_x, train_y), (test_x, test_y)\n"
      ],
      "execution_count": 5,
      "outputs": []
    },
    {
      "cell_type": "code",
      "metadata": {
        "id": "QCha9RTF6KFX"
      },
      "source": [
        "(train_x, train_y), (test_x, test_y) = load_iris_data()"
      ],
      "execution_count": 6,
      "outputs": []
    },
    {
      "cell_type": "code",
      "metadata": {
        "colab": {
          "base_uri": "https://localhost:8080/"
        },
        "id": "VeZvPn8d-CZE",
        "outputId": "dff2be90-d72c-4044-a097-8d7920b3760a"
      },
      "source": [
        "print(train_y[:10])"
      ],
      "execution_count": 7,
      "outputs": [
        {
          "output_type": "stream",
          "name": "stdout",
          "text": [
            "[2. 2. 0. 2. 0. 1. 0. 1. 1. 1.]\n"
          ]
        }
      ]
    },
    {
      "cell_type": "code",
      "metadata": {
        "colab": {
          "base_uri": "https://localhost:8080/",
          "height": 1000
        },
        "id": "sPCH4Txs6J8x",
        "outputId": "cb5c5568-2945-40dc-82bb-d1e8049ac08e"
      },
      "source": [
        "# 모델 정의\n",
        "model = keras.Sequential()\n",
        "model.add(Input(4))\n",
        "model.add(Dense(10, activation='relu'))\n",
        "model.add(Dense(10, activation='relu'))\n",
        "# model.add(Dense(1))\n",
        "model.add(Dense(3, activation=\"softmax\")) # 노드수는 카테고리 갯수 3, activation은 softmax\n",
        "\n",
        "\n",
        "# 모델 컴파일\n",
        "# model.compile(optimizer=\"Adam\", loss=\"mse\", metrics=[\"mae\"])\n",
        "model.compile(optimizer=\"Adam\", loss=\"sparse_categorical_crossentropy\", metrics=[\"acc\"])\n",
        "model.summary()\n",
        "\n",
        "\n",
        "# 모델 학습\n",
        "history = model.fit(train_x, train_y, epochs=100, batch_size=32, validation_split=0.2)\n",
        "\n",
        "\n",
        "# 학습 로스 보기\n",
        "plt.plot(history.history['loss'], label=\"loss\")\n",
        "plt.plot(history.history['val_loss'], label=\"val_loss\")\n",
        "plt.legend()\n",
        "plt.show()\n",
        "\n",
        "\n",
        "# 평가\n",
        "loss, acc = model.evaluate(test_x, test_y)\n",
        "print(\"loss=\", loss)\n",
        "print(\"acc=\", acc)\n",
        "\n",
        "\n",
        "# 예측\n",
        "y_ = model.predict(test_x)\n",
        "predicted = np.argmax(y_, axis=-1)\n",
        "\n",
        "\n",
        "# 예측 결과 보기\n",
        "plt.plot(test_y, \"o\")\n",
        "plt.plot(predicted, \".\")\n",
        "plt.show()\n"
      ],
      "execution_count": 8,
      "outputs": [
        {
          "output_type": "stream",
          "name": "stdout",
          "text": [
            "Model: \"sequential_1\"\n",
            "_________________________________________________________________\n",
            "Layer (type)                 Output Shape              Param #   \n",
            "=================================================================\n",
            "dense_3 (Dense)              (None, 10)                50        \n",
            "_________________________________________________________________\n",
            "dense_4 (Dense)              (None, 10)                110       \n",
            "_________________________________________________________________\n",
            "dense_5 (Dense)              (None, 3)                 33        \n",
            "=================================================================\n",
            "Total params: 193\n",
            "Trainable params: 193\n",
            "Non-trainable params: 0\n",
            "_________________________________________________________________\n",
            "Epoch 1/100\n",
            "3/3 [==============================] - 0s 58ms/step - loss: 2.2082 - acc: 0.3421 - val_loss: 2.3870 - val_acc: 0.3500\n",
            "Epoch 2/100\n",
            "3/3 [==============================] - 0s 10ms/step - loss: 2.1107 - acc: 0.3421 - val_loss: 2.2824 - val_acc: 0.3500\n",
            "Epoch 3/100\n",
            "3/3 [==============================] - 0s 10ms/step - loss: 2.0159 - acc: 0.3421 - val_loss: 2.1824 - val_acc: 0.3500\n",
            "Epoch 4/100\n",
            "3/3 [==============================] - 0s 9ms/step - loss: 1.9246 - acc: 0.3421 - val_loss: 2.0868 - val_acc: 0.3500\n",
            "Epoch 5/100\n",
            "3/3 [==============================] - 0s 11ms/step - loss: 1.8361 - acc: 0.3421 - val_loss: 1.9952 - val_acc: 0.3500\n",
            "Epoch 6/100\n",
            "3/3 [==============================] - 0s 10ms/step - loss: 1.7548 - acc: 0.3421 - val_loss: 1.9069 - val_acc: 0.3500\n",
            "Epoch 7/100\n",
            "3/3 [==============================] - 0s 10ms/step - loss: 1.6720 - acc: 0.3421 - val_loss: 1.8231 - val_acc: 0.3500\n",
            "Epoch 8/100\n",
            "3/3 [==============================] - 0s 10ms/step - loss: 1.5995 - acc: 0.3421 - val_loss: 1.7412 - val_acc: 0.3500\n",
            "Epoch 9/100\n",
            "3/3 [==============================] - 0s 10ms/step - loss: 1.5240 - acc: 0.3421 - val_loss: 1.6631 - val_acc: 0.3500\n",
            "Epoch 10/100\n",
            "3/3 [==============================] - 0s 10ms/step - loss: 1.4583 - acc: 0.3421 - val_loss: 1.5883 - val_acc: 0.3500\n",
            "Epoch 11/100\n",
            "3/3 [==============================] - 0s 12ms/step - loss: 1.3962 - acc: 0.3421 - val_loss: 1.5220 - val_acc: 0.3500\n",
            "Epoch 12/100\n",
            "3/3 [==============================] - 0s 10ms/step - loss: 1.3450 - acc: 0.3421 - val_loss: 1.4676 - val_acc: 0.3500\n",
            "Epoch 13/100\n",
            "3/3 [==============================] - 0s 10ms/step - loss: 1.3009 - acc: 0.3421 - val_loss: 1.4184 - val_acc: 0.3500\n",
            "Epoch 14/100\n",
            "3/3 [==============================] - 0s 11ms/step - loss: 1.2665 - acc: 0.3421 - val_loss: 1.3713 - val_acc: 0.3500\n",
            "Epoch 15/100\n",
            "3/3 [==============================] - 0s 11ms/step - loss: 1.2312 - acc: 0.3421 - val_loss: 1.3275 - val_acc: 0.3500\n",
            "Epoch 16/100\n",
            "3/3 [==============================] - 0s 10ms/step - loss: 1.1995 - acc: 0.3421 - val_loss: 1.2858 - val_acc: 0.3500\n",
            "Epoch 17/100\n",
            "3/3 [==============================] - 0s 11ms/step - loss: 1.1693 - acc: 0.3421 - val_loss: 1.2468 - val_acc: 0.3500\n",
            "Epoch 18/100\n",
            "3/3 [==============================] - 0s 11ms/step - loss: 1.1407 - acc: 0.3421 - val_loss: 1.2105 - val_acc: 0.3500\n",
            "Epoch 19/100\n",
            "3/3 [==============================] - 0s 10ms/step - loss: 1.1129 - acc: 0.3421 - val_loss: 1.1777 - val_acc: 0.3500\n",
            "Epoch 20/100\n",
            "3/3 [==============================] - 0s 10ms/step - loss: 1.0901 - acc: 0.3421 - val_loss: 1.1481 - val_acc: 0.3500\n",
            "Epoch 21/100\n",
            "3/3 [==============================] - 0s 11ms/step - loss: 1.0675 - acc: 0.3421 - val_loss: 1.1224 - val_acc: 0.3500\n",
            "Epoch 22/100\n",
            "3/3 [==============================] - 0s 10ms/step - loss: 1.0474 - acc: 0.3421 - val_loss: 1.0992 - val_acc: 0.3500\n",
            "Epoch 23/100\n",
            "3/3 [==============================] - 0s 10ms/step - loss: 1.0313 - acc: 0.3421 - val_loss: 1.0778 - val_acc: 0.3500\n",
            "Epoch 24/100\n",
            "3/3 [==============================] - 0s 10ms/step - loss: 1.0158 - acc: 0.3421 - val_loss: 1.0590 - val_acc: 0.3500\n",
            "Epoch 25/100\n",
            "3/3 [==============================] - 0s 11ms/step - loss: 1.0017 - acc: 0.3421 - val_loss: 1.0426 - val_acc: 0.3500\n",
            "Epoch 26/100\n",
            "3/3 [==============================] - 0s 19ms/step - loss: 0.9898 - acc: 0.3421 - val_loss: 1.0281 - val_acc: 0.3500\n",
            "Epoch 27/100\n",
            "3/3 [==============================] - 0s 12ms/step - loss: 0.9798 - acc: 0.3421 - val_loss: 1.0155 - val_acc: 0.3500\n",
            "Epoch 28/100\n",
            "3/3 [==============================] - 0s 12ms/step - loss: 0.9701 - acc: 0.3421 - val_loss: 1.0041 - val_acc: 0.3500\n",
            "Epoch 29/100\n",
            "3/3 [==============================] - 0s 10ms/step - loss: 0.9624 - acc: 0.3421 - val_loss: 0.9935 - val_acc: 0.3500\n",
            "Epoch 30/100\n",
            "3/3 [==============================] - 0s 11ms/step - loss: 0.9553 - acc: 0.3553 - val_loss: 0.9839 - val_acc: 0.3500\n",
            "Epoch 31/100\n",
            "3/3 [==============================] - 0s 10ms/step - loss: 0.9490 - acc: 0.3553 - val_loss: 0.9752 - val_acc: 0.3500\n",
            "Epoch 32/100\n",
            "3/3 [==============================] - 0s 10ms/step - loss: 0.9440 - acc: 0.3553 - val_loss: 0.9671 - val_acc: 0.3500\n",
            "Epoch 33/100\n",
            "3/3 [==============================] - 0s 10ms/step - loss: 0.9385 - acc: 0.3553 - val_loss: 0.9608 - val_acc: 0.3500\n",
            "Epoch 34/100\n",
            "3/3 [==============================] - 0s 10ms/step - loss: 0.9335 - acc: 0.3553 - val_loss: 0.9556 - val_acc: 0.3500\n",
            "Epoch 35/100\n",
            "3/3 [==============================] - 0s 11ms/step - loss: 0.9295 - acc: 0.3553 - val_loss: 0.9503 - val_acc: 0.3500\n",
            "Epoch 36/100\n",
            "3/3 [==============================] - 0s 11ms/step - loss: 0.9254 - acc: 0.3947 - val_loss: 0.9456 - val_acc: 0.3500\n",
            "Epoch 37/100\n",
            "3/3 [==============================] - 0s 11ms/step - loss: 0.9218 - acc: 0.3947 - val_loss: 0.9413 - val_acc: 0.3500\n",
            "Epoch 38/100\n",
            "3/3 [==============================] - 0s 14ms/step - loss: 0.9182 - acc: 0.4079 - val_loss: 0.9371 - val_acc: 0.3500\n",
            "Epoch 39/100\n",
            "3/3 [==============================] - 0s 12ms/step - loss: 0.9150 - acc: 0.4079 - val_loss: 0.9330 - val_acc: 0.3500\n",
            "Epoch 40/100\n",
            "3/3 [==============================] - 0s 10ms/step - loss: 0.9118 - acc: 0.4079 - val_loss: 0.9293 - val_acc: 0.3500\n",
            "Epoch 41/100\n",
            "3/3 [==============================] - 0s 10ms/step - loss: 0.9085 - acc: 0.4079 - val_loss: 0.9264 - val_acc: 0.3500\n",
            "Epoch 42/100\n",
            "3/3 [==============================] - 0s 11ms/step - loss: 0.9055 - acc: 0.4079 - val_loss: 0.9238 - val_acc: 0.3500\n",
            "Epoch 43/100\n",
            "3/3 [==============================] - 0s 10ms/step - loss: 0.9023 - acc: 0.4079 - val_loss: 0.9210 - val_acc: 0.3500\n",
            "Epoch 44/100\n",
            "3/3 [==============================] - 0s 10ms/step - loss: 0.8991 - acc: 0.4079 - val_loss: 0.9179 - val_acc: 0.3500\n",
            "Epoch 45/100\n",
            "3/3 [==============================] - 0s 11ms/step - loss: 0.8965 - acc: 0.4211 - val_loss: 0.9146 - val_acc: 0.3500\n",
            "Epoch 46/100\n",
            "3/3 [==============================] - 0s 10ms/step - loss: 0.8934 - acc: 0.4211 - val_loss: 0.9125 - val_acc: 0.3500\n",
            "Epoch 47/100\n",
            "3/3 [==============================] - 0s 10ms/step - loss: 0.8904 - acc: 0.4079 - val_loss: 0.9110 - val_acc: 0.3500\n",
            "Epoch 48/100\n",
            "3/3 [==============================] - 0s 10ms/step - loss: 0.8873 - acc: 0.4079 - val_loss: 0.9094 - val_acc: 0.3500\n",
            "Epoch 49/100\n",
            "3/3 [==============================] - 0s 10ms/step - loss: 0.8845 - acc: 0.4079 - val_loss: 0.9087 - val_acc: 0.3500\n",
            "Epoch 50/100\n",
            "3/3 [==============================] - 0s 12ms/step - loss: 0.8819 - acc: 0.4079 - val_loss: 0.9078 - val_acc: 0.3500\n",
            "Epoch 51/100\n",
            "3/3 [==============================] - 0s 10ms/step - loss: 0.8788 - acc: 0.4079 - val_loss: 0.9060 - val_acc: 0.3500\n",
            "Epoch 52/100\n",
            "3/3 [==============================] - 0s 11ms/step - loss: 0.8762 - acc: 0.4079 - val_loss: 0.9042 - val_acc: 0.3500\n",
            "Epoch 53/100\n",
            "3/3 [==============================] - 0s 19ms/step - loss: 0.8734 - acc: 0.3947 - val_loss: 0.9019 - val_acc: 0.3500\n",
            "Epoch 54/100\n",
            "3/3 [==============================] - 0s 10ms/step - loss: 0.8708 - acc: 0.4079 - val_loss: 0.8994 - val_acc: 0.3500\n",
            "Epoch 55/100\n",
            "3/3 [==============================] - 0s 10ms/step - loss: 0.8684 - acc: 0.4079 - val_loss: 0.8969 - val_acc: 0.3500\n",
            "Epoch 56/100\n",
            "3/3 [==============================] - 0s 10ms/step - loss: 0.8656 - acc: 0.4079 - val_loss: 0.8950 - val_acc: 0.3500\n",
            "Epoch 57/100\n",
            "3/3 [==============================] - 0s 12ms/step - loss: 0.8629 - acc: 0.4079 - val_loss: 0.8925 - val_acc: 0.3500\n",
            "Epoch 58/100\n",
            "3/3 [==============================] - 0s 10ms/step - loss: 0.8602 - acc: 0.4079 - val_loss: 0.8908 - val_acc: 0.3500\n",
            "Epoch 59/100\n",
            "3/3 [==============================] - 0s 14ms/step - loss: 0.8578 - acc: 0.4079 - val_loss: 0.8895 - val_acc: 0.3500\n",
            "Epoch 60/100\n",
            "3/3 [==============================] - 0s 13ms/step - loss: 0.8550 - acc: 0.4079 - val_loss: 0.8879 - val_acc: 0.3500\n",
            "Epoch 61/100\n",
            "3/3 [==============================] - 0s 13ms/step - loss: 0.8526 - acc: 0.4079 - val_loss: 0.8864 - val_acc: 0.3500\n",
            "Epoch 62/100\n",
            "3/3 [==============================] - 0s 11ms/step - loss: 0.8499 - acc: 0.3947 - val_loss: 0.8842 - val_acc: 0.3500\n",
            "Epoch 63/100\n",
            "3/3 [==============================] - 0s 12ms/step - loss: 0.8474 - acc: 0.4079 - val_loss: 0.8818 - val_acc: 0.3500\n",
            "Epoch 64/100\n",
            "3/3 [==============================] - 0s 11ms/step - loss: 0.8448 - acc: 0.4079 - val_loss: 0.8803 - val_acc: 0.3500\n",
            "Epoch 65/100\n",
            "3/3 [==============================] - 0s 11ms/step - loss: 0.8422 - acc: 0.4079 - val_loss: 0.8789 - val_acc: 0.3500\n",
            "Epoch 66/100\n",
            "3/3 [==============================] - 0s 11ms/step - loss: 0.8398 - acc: 0.3947 - val_loss: 0.8783 - val_acc: 0.3500\n",
            "Epoch 67/100\n",
            "3/3 [==============================] - 0s 10ms/step - loss: 0.8370 - acc: 0.3947 - val_loss: 0.8766 - val_acc: 0.3500\n",
            "Epoch 68/100\n",
            "3/3 [==============================] - 0s 12ms/step - loss: 0.8345 - acc: 0.3947 - val_loss: 0.8747 - val_acc: 0.3500\n",
            "Epoch 69/100\n",
            "3/3 [==============================] - 0s 11ms/step - loss: 0.8319 - acc: 0.3947 - val_loss: 0.8721 - val_acc: 0.3500\n",
            "Epoch 70/100\n",
            "3/3 [==============================] - 0s 11ms/step - loss: 0.8292 - acc: 0.3947 - val_loss: 0.8690 - val_acc: 0.3500\n",
            "Epoch 71/100\n",
            "3/3 [==============================] - 0s 10ms/step - loss: 0.8268 - acc: 0.4079 - val_loss: 0.8660 - val_acc: 0.3500\n",
            "Epoch 72/100\n",
            "3/3 [==============================] - 0s 11ms/step - loss: 0.8241 - acc: 0.4079 - val_loss: 0.8634 - val_acc: 0.3500\n",
            "Epoch 73/100\n",
            "3/3 [==============================] - 0s 10ms/step - loss: 0.8215 - acc: 0.4079 - val_loss: 0.8614 - val_acc: 0.3500\n",
            "Epoch 74/100\n",
            "3/3 [==============================] - 0s 13ms/step - loss: 0.8190 - acc: 0.4079 - val_loss: 0.8598 - val_acc: 0.3500\n",
            "Epoch 75/100\n",
            "3/3 [==============================] - 0s 11ms/step - loss: 0.8163 - acc: 0.4079 - val_loss: 0.8570 - val_acc: 0.3500\n",
            "Epoch 76/100\n",
            "3/3 [==============================] - 0s 10ms/step - loss: 0.8135 - acc: 0.4079 - val_loss: 0.8544 - val_acc: 0.3500\n",
            "Epoch 77/100\n",
            "3/3 [==============================] - 0s 10ms/step - loss: 0.8110 - acc: 0.4079 - val_loss: 0.8518 - val_acc: 0.3500\n",
            "Epoch 78/100\n",
            "3/3 [==============================] - 0s 10ms/step - loss: 0.8083 - acc: 0.4079 - val_loss: 0.8501 - val_acc: 0.3500\n",
            "Epoch 79/100\n",
            "3/3 [==============================] - 0s 10ms/step - loss: 0.8058 - acc: 0.4079 - val_loss: 0.8470 - val_acc: 0.3500\n",
            "Epoch 80/100\n",
            "3/3 [==============================] - 0s 10ms/step - loss: 0.8031 - acc: 0.4211 - val_loss: 0.8451 - val_acc: 0.3500\n",
            "Epoch 81/100\n",
            "3/3 [==============================] - 0s 11ms/step - loss: 0.8001 - acc: 0.4211 - val_loss: 0.8427 - val_acc: 0.3500\n",
            "Epoch 82/100\n",
            "3/3 [==============================] - 0s 11ms/step - loss: 0.7973 - acc: 0.4342 - val_loss: 0.8408 - val_acc: 0.3500\n",
            "Epoch 83/100\n",
            "3/3 [==============================] - 0s 10ms/step - loss: 0.7947 - acc: 0.4605 - val_loss: 0.8393 - val_acc: 0.3500\n",
            "Epoch 84/100\n",
            "3/3 [==============================] - 0s 11ms/step - loss: 0.7917 - acc: 0.5132 - val_loss: 0.8394 - val_acc: 0.4000\n",
            "Epoch 85/100\n",
            "3/3 [==============================] - 0s 11ms/step - loss: 0.7893 - acc: 0.5263 - val_loss: 0.8403 - val_acc: 0.4000\n",
            "Epoch 86/100\n",
            "3/3 [==============================] - 0s 10ms/step - loss: 0.7868 - acc: 0.5789 - val_loss: 0.8397 - val_acc: 0.4500\n",
            "Epoch 87/100\n",
            "3/3 [==============================] - 0s 10ms/step - loss: 0.7840 - acc: 0.6447 - val_loss: 0.8362 - val_acc: 0.4500\n",
            "Epoch 88/100\n",
            "3/3 [==============================] - 0s 10ms/step - loss: 0.7815 - acc: 0.6447 - val_loss: 0.8329 - val_acc: 0.4500\n",
            "Epoch 89/100\n",
            "3/3 [==============================] - 0s 10ms/step - loss: 0.7780 - acc: 0.6711 - val_loss: 0.8319 - val_acc: 0.5500\n",
            "Epoch 90/100\n",
            "3/3 [==============================] - 0s 15ms/step - loss: 0.7754 - acc: 0.6842 - val_loss: 0.8302 - val_acc: 0.5500\n",
            "Epoch 91/100\n",
            "3/3 [==============================] - 0s 20ms/step - loss: 0.7727 - acc: 0.6842 - val_loss: 0.8293 - val_acc: 0.6000\n",
            "Epoch 92/100\n",
            "3/3 [==============================] - 0s 11ms/step - loss: 0.7699 - acc: 0.7237 - val_loss: 0.8275 - val_acc: 0.6000\n",
            "Epoch 93/100\n",
            "3/3 [==============================] - 0s 20ms/step - loss: 0.7670 - acc: 0.7237 - val_loss: 0.8256 - val_acc: 0.6000\n",
            "Epoch 94/100\n",
            "3/3 [==============================] - 0s 11ms/step - loss: 0.7642 - acc: 0.7368 - val_loss: 0.8230 - val_acc: 0.6000\n",
            "Epoch 95/100\n",
            "3/3 [==============================] - 0s 11ms/step - loss: 0.7613 - acc: 0.7500 - val_loss: 0.8194 - val_acc: 0.6000\n",
            "Epoch 96/100\n",
            "3/3 [==============================] - 0s 10ms/step - loss: 0.7582 - acc: 0.7500 - val_loss: 0.8161 - val_acc: 0.6000\n",
            "Epoch 97/100\n",
            "3/3 [==============================] - 0s 10ms/step - loss: 0.7550 - acc: 0.7632 - val_loss: 0.8120 - val_acc: 0.6000\n",
            "Epoch 98/100\n",
            "3/3 [==============================] - 0s 12ms/step - loss: 0.7520 - acc: 0.7895 - val_loss: 0.8072 - val_acc: 0.6500\n",
            "Epoch 99/100\n",
            "3/3 [==============================] - 0s 11ms/step - loss: 0.7489 - acc: 0.7895 - val_loss: 0.8027 - val_acc: 0.6500\n",
            "Epoch 100/100\n",
            "3/3 [==============================] - 0s 12ms/step - loss: 0.7455 - acc: 0.7895 - val_loss: 0.7991 - val_acc: 0.6500\n"
          ]
        },
        {
          "output_type": "display_data",
          "data": {
            "image/png": "[encoded data removed]",
            "text/plain": [
              "<Figure size 432x288 with 1 Axes>"
            ]
          },
          "metadata": {
            "needs_background": "light"
          }
        },
        {
          "output_type": "stream",
          "name": "stdout",
          "text": [
            "1/1 [==============================] - 0s 16ms/step - loss: 0.8412 - acc: 0.7083\n",
            "loss= 0.8411985039710999\n",
            "acc= 0.7083333134651184\n"
          ]
        },
        {
          "output_type": "display_data",
          "data": {
            "image/png": "[encoded data removed]",
            "text/plain": [
              "<Figure size 432x288 with 1 Axes>"
            ]
          },
          "metadata": {
            "needs_background": "light"
          }
        }
      ]
    },
    {
      "cell_type": "code",
      "metadata": {
        "id": "E8Y4NIdsywSB"
      },
      "source": [
        ""
      ],
      "execution_count": null,
      "outputs": []
    },
    {
      "cell_type": "markdown",
      "metadata": {
        "id": "aqAvsgBHywm0"
      },
      "source": [
        "## 2진 분류 작업\n",
        "\n",
        "loss를 'binary_crossentropy'로 설정한다.\n",
        "\n",
        "<br>\n",
        "출력 데이터 y의 값은 category index 이어야 한다.\n",
        "\n",
        "2개 카테고리라서 category index값은 0,1 뿐이다.\n",
        "```\n",
        "[1 0 0 1 1 0 1 0 1 0]\n",
        "```"
      ]
    },
    {
      "cell_type": "code",
      "metadata": {
        "id": "94G9_98Aywm1"
      },
      "source": [
        "import numpy as np\n",
        "import pandas as pd\n",
        "import matplotlib.pyplot as plt\n",
        "\n",
        "import tensorflow as tf\n",
        "\n",
        "from tensorflow import keras\n",
        "from tensorflow.keras import optimizers\n",
        "from tensorflow.keras.layers import Dense, Input"
      ],
      "execution_count": 9,
      "outputs": []
    },
    {
      "cell_type": "code",
      "metadata": {
        "id": "RwYRS-Ckywm2"
      },
      "source": [
        "def load_sonar_data():\n",
        "\n",
        "  df = pd.read_csv(\"https://raw.githubusercontent.com/dhrim/keras_howto_2021/master/data/sonar.csv\")\n",
        "  data = df.to_numpy()\n",
        "  np.random.shuffle(data)\n",
        "\n",
        "  x = data[:,:60]\n",
        "  y = data[:,60]\n",
        "\n",
        "  split_index = int(len(x)*0.8)\n",
        "  train_x, test_x = x[:split_index], x[split_index:]\n",
        "  train_y, test_y = y[:split_index], y[split_index:]\n",
        "\n",
        "  return (train_x, train_y), (test_x, test_y)\n"
      ],
      "execution_count": 10,
      "outputs": []
    },
    {
      "cell_type": "code",
      "metadata": {
        "id": "yy1X42Qgywm2"
      },
      "source": [
        "(train_x, train_y), (test_x, test_y) = load_sonar_data()"
      ],
      "execution_count": 11,
      "outputs": []
    },
    {
      "cell_type": "code",
      "metadata": {
        "colab": {
          "base_uri": "https://localhost:8080/"
        },
        "id": "mlmqvuQpywm2",
        "outputId": "c26de3b7-e637-469a-b45e-83e5bf02f664"
      },
      "source": [
        "print(train_x.shape)\n",
        "print(train_y.shape)"
      ],
      "execution_count": 12,
      "outputs": [
        {
          "output_type": "stream",
          "name": "stdout",
          "text": [
            "(165, 60)\n",
            "(165,)\n"
          ]
        }
      ]
    },
    {
      "cell_type": "code",
      "metadata": {
        "colab": {
          "base_uri": "https://localhost:8080/"
        },
        "id": "j8yLcnQJywm3",
        "outputId": "164469a3-c35d-4972-9331-32bac934a3c2"
      },
      "source": [
        "print(train_y[:10])"
      ],
      "execution_count": 14,
      "outputs": [
        {
          "output_type": "stream",
          "name": "stdout",
          "text": [
            "[0. 1. 1. 0. 0. 0. 1. 0. 1. 0.]\n"
          ]
        }
      ]
    },
    {
      "cell_type": "code",
      "metadata": {
        "colab": {
          "base_uri": "https://localhost:8080/",
          "height": 1000
        },
        "id": "djYPRxpCywm3",
        "outputId": "f95fdc50-6370-49ea-bbfa-93fce753afb6"
      },
      "source": [
        "from tensorflow.keras.metrics import AUC, Precision, Recall\n",
        "\n",
        "# 모델 정의\n",
        "model = keras.Sequential()\n",
        "model.add(Input(60))\n",
        "model.add(Dense(10, activation='relu'))\n",
        "model.add(Dense(10, activation='relu'))\n",
        "# model.add(Dense(3, activation=\"softmax\"))\n",
        "model.add(Dense(1, activation=\"sigmoid\")) # 노드는 1개, activation은 \"sigmoid\"\n",
        "\n",
        "\n",
        "# 모델 컴파일\n",
        "# model.compile(optimizer=\"Adam\", loss=\"sparse_categorical_crossentropy\", metrics=[\"acc\"] )\n",
        "model.compile(optimizer=\"Adam\", loss=\"binary_crossentropy\", metrics=[\"acc\"])\n",
        "model.summary()\n",
        "\n",
        "\n",
        "# 모델 학습\n",
        "history = model.fit(train_x, train_y, epochs=100, batch_size=32, validation_split=0.2)\n",
        "\n",
        "\n",
        "# 학습 로스 보기\n",
        "plt.plot(history.history['loss'], label=\"loss\")\n",
        "plt.plot(history.history['val_loss'], label=\"val_loss\")\n",
        "plt.legend()\n",
        "plt.show()\n",
        "\n",
        "\n",
        "# 평가\n",
        "loss, acc = model.evaluate(test_x, test_y)\n",
        "print(\"loss=\", loss)\n",
        "print(\"acc=\", acc)\n",
        "\n",
        "\n",
        "# 예측\n",
        "y_ = model.predict(test_x)\n",
        "predicted = (y_>0.5).astype(np.int)\n",
        "\n",
        "\n",
        "# 예측 결과 보기\n",
        "plt.plot(test_y, \"o\")\n",
        "plt.plot(predicted, \".\")\n",
        "plt.show()\n"
      ],
      "execution_count": 16,
      "outputs": [
        {
          "output_type": "stream",
          "name": "stdout",
          "text": [
            "Model: \"sequential_3\"\n",
            "_________________________________________________________________\n",
            "Layer (type)                 Output Shape              Param #   \n",
            "=================================================================\n",
            "dense_9 (Dense)              (None, 10)                610       \n",
            "_________________________________________________________________\n",
            "dense_10 (Dense)             (None, 10)                110       \n",
            "_________________________________________________________________\n",
            "dense_11 (Dense)             (None, 1)                 11        \n",
            "=================================================================\n",
            "Total params: 731\n",
            "Trainable params: 731\n",
            "Non-trainable params: 0\n",
            "_________________________________________________________________\n",
            "Epoch 1/100\n",
            "5/5 [==============================] - 0s 34ms/step - loss: 0.7031 - acc: 0.4470 - val_loss: 0.6764 - val_acc: 0.6667\n",
            "Epoch 2/100\n",
            "5/5 [==============================] - 0s 11ms/step - loss: 0.6975 - acc: 0.4545 - val_loss: 0.6720 - val_acc: 0.6667\n",
            "Epoch 3/100\n",
            "5/5 [==============================] - 0s 9ms/step - loss: 0.6946 - acc: 0.4848 - val_loss: 0.6676 - val_acc: 0.6364\n",
            "Epoch 4/100\n",
            "5/5 [==============================] - 0s 6ms/step - loss: 0.6920 - acc: 0.5076 - val_loss: 0.6635 - val_acc: 0.6364\n",
            "Epoch 5/100\n",
            "5/5 [==============================] - 0s 6ms/step - loss: 0.6910 - acc: 0.5076 - val_loss: 0.6602 - val_acc: 0.6364\n",
            "Epoch 6/100\n",
            "5/5 [==============================] - 0s 7ms/step - loss: 0.6898 - acc: 0.5076 - val_loss: 0.6586 - val_acc: 0.6364\n",
            "Epoch 7/100\n",
            "5/5 [==============================] - 0s 7ms/step - loss: 0.6881 - acc: 0.5076 - val_loss: 0.6586 - val_acc: 0.6364\n",
            "Epoch 8/100\n",
            "5/5 [==============================] - 0s 7ms/step - loss: 0.6864 - acc: 0.5152 - val_loss: 0.6586 - val_acc: 0.6364\n",
            "Epoch 9/100\n",
            "5/5 [==============================] - 0s 7ms/step - loss: 0.6844 - acc: 0.5227 - val_loss: 0.6580 - val_acc: 0.6364\n",
            "Epoch 10/100\n",
            "5/5 [==============================] - 0s 7ms/step - loss: 0.6823 - acc: 0.5303 - val_loss: 0.6560 - val_acc: 0.6667\n",
            "Epoch 11/100\n",
            "5/5 [==============================] - 0s 8ms/step - loss: 0.6810 - acc: 0.5227 - val_loss: 0.6539 - val_acc: 0.6364\n",
            "Epoch 12/100\n",
            "5/5 [==============================] - 0s 7ms/step - loss: 0.6789 - acc: 0.5152 - val_loss: 0.6535 - val_acc: 0.6667\n",
            "Epoch 13/100\n",
            "5/5 [==============================] - 0s 6ms/step - loss: 0.6771 - acc: 0.5227 - val_loss: 0.6498 - val_acc: 0.6667\n",
            "Epoch 14/100\n",
            "5/5 [==============================] - 0s 11ms/step - loss: 0.6757 - acc: 0.5379 - val_loss: 0.6478 - val_acc: 0.6364\n",
            "Epoch 15/100\n",
            "5/5 [==============================] - 0s 7ms/step - loss: 0.6740 - acc: 0.5379 - val_loss: 0.6463 - val_acc: 0.6364\n",
            "Epoch 16/100\n",
            "5/5 [==============================] - 0s 11ms/step - loss: 0.6729 - acc: 0.5455 - val_loss: 0.6479 - val_acc: 0.6667\n",
            "Epoch 17/100\n",
            "5/5 [==============================] - 0s 7ms/step - loss: 0.6707 - acc: 0.5303 - val_loss: 0.6473 - val_acc: 0.6667\n",
            "Epoch 18/100\n",
            "5/5 [==============================] - 0s 6ms/step - loss: 0.6692 - acc: 0.5303 - val_loss: 0.6459 - val_acc: 0.6364\n",
            "Epoch 19/100\n",
            "5/5 [==============================] - 0s 6ms/step - loss: 0.6671 - acc: 0.5530 - val_loss: 0.6436 - val_acc: 0.6364\n",
            "Epoch 20/100\n",
            "5/5 [==============================] - 0s 6ms/step - loss: 0.6655 - acc: 0.5606 - val_loss: 0.6403 - val_acc: 0.6364\n",
            "Epoch 21/100\n",
            "5/5 [==============================] - 0s 6ms/step - loss: 0.6630 - acc: 0.5682 - val_loss: 0.6385 - val_acc: 0.6364\n",
            "Epoch 22/100\n",
            "5/5 [==============================] - 0s 7ms/step - loss: 0.6617 - acc: 0.5909 - val_loss: 0.6381 - val_acc: 0.6667\n",
            "Epoch 23/100\n",
            "5/5 [==============================] - 0s 7ms/step - loss: 0.6587 - acc: 0.6364 - val_loss: 0.6318 - val_acc: 0.6061\n",
            "Epoch 24/100\n",
            "5/5 [==============================] - 0s 7ms/step - loss: 0.6574 - acc: 0.5833 - val_loss: 0.6263 - val_acc: 0.6364\n",
            "Epoch 25/100\n",
            "5/5 [==============================] - 0s 6ms/step - loss: 0.6551 - acc: 0.5833 - val_loss: 0.6246 - val_acc: 0.6364\n",
            "Epoch 26/100\n",
            "5/5 [==============================] - 0s 8ms/step - loss: 0.6523 - acc: 0.6061 - val_loss: 0.6220 - val_acc: 0.6667\n",
            "Epoch 27/100\n",
            "5/5 [==============================] - 0s 9ms/step - loss: 0.6504 - acc: 0.6061 - val_loss: 0.6185 - val_acc: 0.6667\n",
            "Epoch 28/100\n",
            "5/5 [==============================] - 0s 7ms/step - loss: 0.6477 - acc: 0.6212 - val_loss: 0.6168 - val_acc: 0.6667\n",
            "Epoch 29/100\n",
            "5/5 [==============================] - 0s 7ms/step - loss: 0.6453 - acc: 0.6364 - val_loss: 0.6139 - val_acc: 0.6667\n",
            "Epoch 30/100\n",
            "5/5 [==============================] - 0s 7ms/step - loss: 0.6431 - acc: 0.6288 - val_loss: 0.6112 - val_acc: 0.6970\n",
            "Epoch 31/100\n",
            "5/5 [==============================] - 0s 6ms/step - loss: 0.6404 - acc: 0.6364 - val_loss: 0.6105 - val_acc: 0.6970\n",
            "Epoch 32/100\n",
            "5/5 [==============================] - 0s 7ms/step - loss: 0.6381 - acc: 0.6364 - val_loss: 0.6101 - val_acc: 0.7879\n",
            "Epoch 33/100\n",
            "5/5 [==============================] - 0s 6ms/step - loss: 0.6356 - acc: 0.6439 - val_loss: 0.6089 - val_acc: 0.8182\n",
            "Epoch 34/100\n",
            "5/5 [==============================] - 0s 7ms/step - loss: 0.6325 - acc: 0.6591 - val_loss: 0.6048 - val_acc: 0.8182\n",
            "Epoch 35/100\n",
            "5/5 [==============================] - 0s 7ms/step - loss: 0.6286 - acc: 0.6515 - val_loss: 0.5967 - val_acc: 0.7879\n",
            "Epoch 36/100\n",
            "5/5 [==============================] - 0s 6ms/step - loss: 0.6255 - acc: 0.6364 - val_loss: 0.5885 - val_acc: 0.7273\n",
            "Epoch 37/100\n",
            "5/5 [==============================] - 0s 6ms/step - loss: 0.6228 - acc: 0.6364 - val_loss: 0.5870 - val_acc: 0.7273\n",
            "Epoch 38/100\n",
            "5/5 [==============================] - 0s 7ms/step - loss: 0.6181 - acc: 0.6591 - val_loss: 0.5878 - val_acc: 0.8182\n",
            "Epoch 39/100\n",
            "5/5 [==============================] - 0s 6ms/step - loss: 0.6136 - acc: 0.6742 - val_loss: 0.5865 - val_acc: 0.8182\n",
            "Epoch 40/100\n",
            "5/5 [==============================] - 0s 6ms/step - loss: 0.6096 - acc: 0.7121 - val_loss: 0.5841 - val_acc: 0.7576\n",
            "Epoch 41/100\n",
            "5/5 [==============================] - 0s 7ms/step - loss: 0.6056 - acc: 0.7576 - val_loss: 0.5863 - val_acc: 0.7879\n",
            "Epoch 42/100\n",
            "5/5 [==============================] - 0s 7ms/step - loss: 0.6032 - acc: 0.7803 - val_loss: 0.5813 - val_acc: 0.7879\n",
            "Epoch 43/100\n",
            "5/5 [==============================] - 0s 7ms/step - loss: 0.5974 - acc: 0.7879 - val_loss: 0.5716 - val_acc: 0.7576\n",
            "Epoch 44/100\n",
            "5/5 [==============================] - 0s 6ms/step - loss: 0.5917 - acc: 0.7576 - val_loss: 0.5610 - val_acc: 0.7879\n",
            "Epoch 45/100\n",
            "5/5 [==============================] - 0s 11ms/step - loss: 0.5896 - acc: 0.7045 - val_loss: 0.5517 - val_acc: 0.7879\n",
            "Epoch 46/100\n",
            "5/5 [==============================] - 0s 8ms/step - loss: 0.5852 - acc: 0.7045 - val_loss: 0.5504 - val_acc: 0.7879\n",
            "Epoch 47/100\n",
            "5/5 [==============================] - 0s 7ms/step - loss: 0.5802 - acc: 0.7879 - val_loss: 0.5529 - val_acc: 0.7273\n",
            "Epoch 48/100\n",
            "5/5 [==============================] - 0s 7ms/step - loss: 0.5747 - acc: 0.7727 - val_loss: 0.5491 - val_acc: 0.7273\n",
            "Epoch 49/100\n",
            "5/5 [==============================] - 0s 6ms/step - loss: 0.5704 - acc: 0.7803 - val_loss: 0.5458 - val_acc: 0.7273\n",
            "Epoch 50/100\n",
            "5/5 [==============================] - 0s 7ms/step - loss: 0.5665 - acc: 0.7803 - val_loss: 0.5343 - val_acc: 0.7576\n",
            "Epoch 51/100\n",
            "5/5 [==============================] - 0s 7ms/step - loss: 0.5619 - acc: 0.7727 - val_loss: 0.5266 - val_acc: 0.8182\n",
            "Epoch 52/100\n",
            "5/5 [==============================] - 0s 6ms/step - loss: 0.5588 - acc: 0.7273 - val_loss: 0.5207 - val_acc: 0.8182\n",
            "Epoch 53/100\n",
            "5/5 [==============================] - 0s 6ms/step - loss: 0.5548 - acc: 0.7273 - val_loss: 0.5172 - val_acc: 0.8182\n",
            "Epoch 54/100\n",
            "5/5 [==============================] - 0s 6ms/step - loss: 0.5497 - acc: 0.7576 - val_loss: 0.5161 - val_acc: 0.7576\n",
            "Epoch 55/100\n",
            "5/5 [==============================] - 0s 6ms/step - loss: 0.5432 - acc: 0.8030 - val_loss: 0.5133 - val_acc: 0.7576\n",
            "Epoch 56/100\n",
            "5/5 [==============================] - 0s 6ms/step - loss: 0.5384 - acc: 0.7955 - val_loss: 0.5082 - val_acc: 0.7576\n",
            "Epoch 57/100\n",
            "5/5 [==============================] - 0s 6ms/step - loss: 0.5351 - acc: 0.7955 - val_loss: 0.5024 - val_acc: 0.8182\n",
            "Epoch 58/100\n",
            "5/5 [==============================] - 0s 7ms/step - loss: 0.5337 - acc: 0.7576 - val_loss: 0.4983 - val_acc: 0.8182\n",
            "Epoch 59/100\n",
            "5/5 [==============================] - 0s 6ms/step - loss: 0.5266 - acc: 0.7955 - val_loss: 0.4983 - val_acc: 0.7273\n",
            "Epoch 60/100\n",
            "5/5 [==============================] - 0s 11ms/step - loss: 0.5198 - acc: 0.8106 - val_loss: 0.5051 - val_acc: 0.7576\n",
            "Epoch 61/100\n",
            "5/5 [==============================] - 0s 7ms/step - loss: 0.5175 - acc: 0.8182 - val_loss: 0.4974 - val_acc: 0.7273\n",
            "Epoch 62/100\n",
            "5/5 [==============================] - 0s 8ms/step - loss: 0.5108 - acc: 0.8182 - val_loss: 0.4861 - val_acc: 0.7273\n",
            "Epoch 63/100\n",
            "5/5 [==============================] - 0s 7ms/step - loss: 0.5079 - acc: 0.7879 - val_loss: 0.4809 - val_acc: 0.7576\n",
            "Epoch 64/100\n",
            "5/5 [==============================] - 0s 7ms/step - loss: 0.5061 - acc: 0.8182 - val_loss: 0.4788 - val_acc: 0.7576\n",
            "Epoch 65/100\n",
            "5/5 [==============================] - 0s 7ms/step - loss: 0.5011 - acc: 0.8182 - val_loss: 0.4868 - val_acc: 0.7273\n",
            "Epoch 66/100\n",
            "5/5 [==============================] - 0s 7ms/step - loss: 0.4954 - acc: 0.8106 - val_loss: 0.4842 - val_acc: 0.7273\n",
            "Epoch 67/100\n",
            "5/5 [==============================] - 0s 6ms/step - loss: 0.4909 - acc: 0.8106 - val_loss: 0.4769 - val_acc: 0.7273\n",
            "Epoch 68/100\n",
            "5/5 [==============================] - 0s 7ms/step - loss: 0.4863 - acc: 0.8182 - val_loss: 0.4726 - val_acc: 0.7273\n",
            "Epoch 69/100\n",
            "5/5 [==============================] - 0s 6ms/step - loss: 0.4827 - acc: 0.8106 - val_loss: 0.4680 - val_acc: 0.7273\n",
            "Epoch 70/100\n",
            "5/5 [==============================] - 0s 7ms/step - loss: 0.4795 - acc: 0.8182 - val_loss: 0.4649 - val_acc: 0.7273\n",
            "Epoch 71/100\n",
            "5/5 [==============================] - 0s 7ms/step - loss: 0.4779 - acc: 0.8030 - val_loss: 0.4622 - val_acc: 0.7273\n",
            "Epoch 72/100\n",
            "5/5 [==============================] - 0s 7ms/step - loss: 0.4744 - acc: 0.8182 - val_loss: 0.4657 - val_acc: 0.7273\n",
            "Epoch 73/100\n",
            "5/5 [==============================] - 0s 11ms/step - loss: 0.4674 - acc: 0.8333 - val_loss: 0.4701 - val_acc: 0.7576\n",
            "Epoch 74/100\n",
            "5/5 [==============================] - 0s 11ms/step - loss: 0.4635 - acc: 0.8333 - val_loss: 0.4662 - val_acc: 0.7273\n",
            "Epoch 75/100\n",
            "5/5 [==============================] - 0s 7ms/step - loss: 0.4583 - acc: 0.8258 - val_loss: 0.4604 - val_acc: 0.7273\n",
            "Epoch 76/100\n",
            "5/5 [==============================] - 0s 6ms/step - loss: 0.4569 - acc: 0.8333 - val_loss: 0.4635 - val_acc: 0.7576\n",
            "Epoch 77/100\n",
            "5/5 [==============================] - 0s 7ms/step - loss: 0.4516 - acc: 0.8333 - val_loss: 0.4589 - val_acc: 0.7273\n",
            "Epoch 78/100\n",
            "5/5 [==============================] - 0s 6ms/step - loss: 0.4481 - acc: 0.8258 - val_loss: 0.4525 - val_acc: 0.7273\n",
            "Epoch 79/100\n",
            "5/5 [==============================] - 0s 9ms/step - loss: 0.4447 - acc: 0.8333 - val_loss: 0.4526 - val_acc: 0.7273\n",
            "Epoch 80/100\n",
            "5/5 [==============================] - 0s 7ms/step - loss: 0.4406 - acc: 0.8409 - val_loss: 0.4521 - val_acc: 0.7273\n",
            "Epoch 81/100\n",
            "5/5 [==============================] - 0s 7ms/step - loss: 0.4389 - acc: 0.8333 - val_loss: 0.4488 - val_acc: 0.7273\n",
            "Epoch 82/100\n",
            "5/5 [==============================] - 0s 7ms/step - loss: 0.4344 - acc: 0.8409 - val_loss: 0.4507 - val_acc: 0.7576\n",
            "Epoch 83/100\n",
            "5/5 [==============================] - 0s 7ms/step - loss: 0.4311 - acc: 0.8409 - val_loss: 0.4514 - val_acc: 0.7576\n",
            "Epoch 84/100\n",
            "5/5 [==============================] - 0s 12ms/step - loss: 0.4281 - acc: 0.8409 - val_loss: 0.4493 - val_acc: 0.7576\n",
            "Epoch 85/100\n",
            "5/5 [==============================] - 0s 7ms/step - loss: 0.4251 - acc: 0.8485 - val_loss: 0.4480 - val_acc: 0.7576\n",
            "Epoch 86/100\n",
            "5/5 [==============================] - 0s 7ms/step - loss: 0.4235 - acc: 0.8485 - val_loss: 0.4461 - val_acc: 0.7273\n",
            "Epoch 87/100\n",
            "5/5 [==============================] - 0s 7ms/step - loss: 0.4187 - acc: 0.8485 - val_loss: 0.4404 - val_acc: 0.7576\n",
            "Epoch 88/100\n",
            "5/5 [==============================] - 0s 7ms/step - loss: 0.4173 - acc: 0.8485 - val_loss: 0.4386 - val_acc: 0.7576\n",
            "Epoch 89/100\n",
            "5/5 [==============================] - 0s 6ms/step - loss: 0.4138 - acc: 0.8485 - val_loss: 0.4391 - val_acc: 0.7576\n",
            "Epoch 90/100\n",
            "5/5 [==============================] - 0s 13ms/step - loss: 0.4107 - acc: 0.8561 - val_loss: 0.4391 - val_acc: 0.7273\n",
            "Epoch 91/100\n",
            "5/5 [==============================] - 0s 7ms/step - loss: 0.4066 - acc: 0.8561 - val_loss: 0.4348 - val_acc: 0.7576\n",
            "Epoch 92/100\n",
            "5/5 [==============================] - 0s 7ms/step - loss: 0.4058 - acc: 0.8712 - val_loss: 0.4333 - val_acc: 0.7576\n",
            "Epoch 93/100\n",
            "5/5 [==============================] - 0s 7ms/step - loss: 0.4052 - acc: 0.8485 - val_loss: 0.4317 - val_acc: 0.7576\n",
            "Epoch 94/100\n",
            "5/5 [==============================] - 0s 7ms/step - loss: 0.3980 - acc: 0.8788 - val_loss: 0.4309 - val_acc: 0.7273\n",
            "Epoch 95/100\n",
            "5/5 [==============================] - 0s 7ms/step - loss: 0.3945 - acc: 0.8636 - val_loss: 0.4308 - val_acc: 0.7273\n",
            "Epoch 96/100\n",
            "5/5 [==============================] - 0s 6ms/step - loss: 0.3931 - acc: 0.8712 - val_loss: 0.4294 - val_acc: 0.7273\n",
            "Epoch 97/100\n",
            "5/5 [==============================] - 0s 7ms/step - loss: 0.3901 - acc: 0.8561 - val_loss: 0.4315 - val_acc: 0.7273\n",
            "Epoch 98/100\n",
            "5/5 [==============================] - 0s 7ms/step - loss: 0.3874 - acc: 0.8636 - val_loss: 0.4333 - val_acc: 0.7273\n",
            "Epoch 99/100\n",
            "5/5 [==============================] - 0s 12ms/step - loss: 0.3862 - acc: 0.8636 - val_loss: 0.4298 - val_acc: 0.7273\n",
            "Epoch 100/100\n",
            "5/5 [==============================] - 0s 7ms/step - loss: 0.3821 - acc: 0.8636 - val_loss: 0.4273 - val_acc: 0.7273\n"
          ]
        },
        {
          "output_type": "display_data",
          "data": {
            "image/png": "[encoded data removed]",
            "text/plain": [
              "<Figure size 432x288 with 1 Axes>"
            ]
          },
          "metadata": {
            "needs_background": "light"
          }
        },
        {
          "output_type": "stream",
          "name": "stdout",
          "text": [
            "2/2 [==============================] - 0s 6ms/step - loss: 0.5465 - acc: 0.7381\n",
            "loss= 0.5465498566627502\n",
            "acc= 0.738095223903656\n"
          ]
        },
        {
          "output_type": "display_data",
          "data": {
            "image/png": "[encoded data removed]",
            "text/plain": [
              "<Figure size 432x288 with 1 Axes>"
            ]
          },
          "metadata": {
            "needs_background": "light"
          }
        }
      ]
    },
    {
      "cell_type": "markdown",
      "metadata": {
        "id": "WCwdsoZC47PQ"
      },
      "source": [
        "# metric 설정"
      ]
    },
    {
      "cell_type": "markdown",
      "metadata": {
        "id": "AgYji31I5egu"
      },
      "source": [
        "## 회귀 작업\n",
        "\n",
        "\"mae\", \"mape\" 등을 설정할 수 있다.\n",
        "- 'mae' : mean absolute error\n",
        "- 'mape' : mean absolute percentage error"
      ]
    },
    {
      "cell_type": "code",
      "metadata": {
        "id": "-99ObHPL9cMv"
      },
      "source": [
        "import numpy as np\n",
        "import pandas as pd\n",
        "import matplotlib.pyplot as plt\n",
        "\n",
        "import tensorflow as tf\n",
        "\n",
        "from tensorflow import keras\n",
        "from tensorflow.keras import optimizers\n",
        "from tensorflow.keras.layers import Dense, Input"
      ],
      "execution_count": 17,
      "outputs": []
    },
    {
      "cell_type": "code",
      "metadata": {
        "id": "szI-a-nq9cMv"
      },
      "source": [
        "(train_x, train_y), (test_x, test_y) = tf.keras.datasets.boston_housing.load_data()"
      ],
      "execution_count": 18,
      "outputs": []
    },
    {
      "cell_type": "code",
      "metadata": {
        "colab": {
          "base_uri": "https://localhost:8080/",
          "height": 1000
        },
        "id": "mBm0twyZ9cMv",
        "outputId": "8223ca5d-fca4-446d-fca0-888a14f6c7aa"
      },
      "source": [
        "# 모델 정의\n",
        "model = keras.Sequential()\n",
        "model.add(Input(13))\n",
        "model.add(Dense(10, activation='relu'))\n",
        "model.add(Dense(10, activation='relu'))\n",
        "model.add(Dense(1))\n",
        "\n",
        "\n",
        "# 모델 컴파일\n",
        "model.compile(optimizer=\"Adam\", loss=\"mse\", metrics=[\"mae\", \"mape\"])\n",
        "model.summary()\n",
        "\n",
        "\n",
        "# 모델 학습\n",
        "history = model.fit(train_x, train_y, epochs=100, batch_size=32, validation_split=0.2)\n",
        "\n",
        "\n",
        "# 학습 로스 보기\n",
        "plt.plot(history.history['loss'], label=\"loss\")\n",
        "plt.plot(history.history['val_loss'], label=\"val_loss\")\n",
        "plt.legend()\n",
        "plt.show()\n",
        "\n",
        "\n",
        "# 평가\n",
        "loss, mae, mape = model.evaluate(test_x, test_y)\n",
        "print(\"loss=\", loss)\n",
        "print(\"mae=\", mae)\n",
        "print(\"mape=\", mape)\n",
        "\n",
        "\n",
        "# 예측\n",
        "y_ = model.predict(test_x)\n",
        "\n",
        "\n",
        "# 예측 결과 보기\n",
        "plt.scatter(test_y, y_)\n",
        "plt.show()\n"
      ],
      "execution_count": 19,
      "outputs": [
        {
          "output_type": "stream",
          "name": "stdout",
          "text": [
            "Model: \"sequential_4\"\n",
            "_________________________________________________________________\n",
            "Layer (type)                 Output Shape              Param #   \n",
            "=================================================================\n",
            "dense_12 (Dense)             (None, 10)                140       \n",
            "_________________________________________________________________\n",
            "dense_13 (Dense)             (None, 10)                110       \n",
            "_________________________________________________________________\n",
            "dense_14 (Dense)             (None, 1)                 11        \n",
            "=================================================================\n",
            "Total params: 261\n",
            "Trainable params: 261\n",
            "Non-trainable params: 0\n",
            "_________________________________________________________________\n",
            "Epoch 1/100\n",
            "11/11 [==============================] - 0s 17ms/step - loss: 3791.4612 - mae: 57.0069 - mape: 292.8765 - val_loss: 1228.9435 - val_mae: 32.1260 - val_mape: 147.5131\n",
            "Epoch 2/100\n",
            "11/11 [==============================] - 0s 4ms/step - loss: 419.9321 - mae: 16.4302 - mape: 85.5215 - val_loss: 197.7164 - val_mae: 10.6295 - val_mape: 54.7456\n",
            "Epoch 3/100\n",
            "11/11 [==============================] - 0s 4ms/step - loss: 331.1317 - mae: 14.7624 - mape: 89.9015 - val_loss: 256.1832 - val_mae: 13.1961 - val_mape: 70.2383\n",
            "Epoch 4/100\n",
            "11/11 [==============================] - 0s 4ms/step - loss: 261.0813 - mae: 12.8354 - mape: 77.8163 - val_loss: 162.2917 - val_mae: 9.3901 - val_mape: 46.2673\n",
            "Epoch 5/100\n",
            "11/11 [==============================] - 0s 4ms/step - loss: 155.3473 - mae: 9.6272 - mape: 53.6612 - val_loss: 180.9702 - val_mae: 10.0718 - val_mape: 47.3060\n",
            "Epoch 6/100\n",
            "11/11 [==============================] - 0s 6ms/step - loss: 149.3051 - mae: 9.5657 - mape: 50.5526 - val_loss: 166.8464 - val_mae: 9.6070 - val_mape: 44.6316\n",
            "Epoch 7/100\n",
            "11/11 [==============================] - 0s 4ms/step - loss: 132.6106 - mae: 9.0199 - mape: 48.6430 - val_loss: 136.3430 - val_mae: 8.5642 - val_mape: 40.1730\n",
            "Epoch 8/100\n",
            "11/11 [==============================] - 0s 4ms/step - loss: 122.8061 - mae: 8.7906 - mape: 48.6952 - val_loss: 127.5289 - val_mae: 8.2530 - val_mape: 38.0576\n",
            "Epoch 9/100\n",
            "11/11 [==============================] - 0s 4ms/step - loss: 110.8738 - mae: 8.3357 - mape: 43.7287 - val_loss: 133.0438 - val_mae: 8.3887 - val_mape: 37.3229\n",
            "Epoch 10/100\n",
            "11/11 [==============================] - 0s 5ms/step - loss: 101.4269 - mae: 7.9390 - mape: 41.3108 - val_loss: 112.4022 - val_mae: 7.6570 - val_mape: 34.2764\n",
            "Epoch 11/100\n",
            "11/11 [==============================] - 0s 5ms/step - loss: 92.7367 - mae: 7.6650 - mape: 40.4961 - val_loss: 108.5551 - val_mae: 7.4116 - val_mape: 32.5447\n",
            "Epoch 12/100\n",
            "11/11 [==============================] - 0s 5ms/step - loss: 86.3826 - mae: 7.3685 - mape: 38.8236 - val_loss: 101.8478 - val_mae: 7.1345 - val_mape: 31.0381\n",
            "Epoch 13/100\n",
            "11/11 [==============================] - 0s 5ms/step - loss: 80.4087 - mae: 7.0120 - mape: 36.1892 - val_loss: 103.6422 - val_mae: 7.0354 - val_mape: 29.6479\n",
            "Epoch 14/100\n",
            "11/11 [==============================] - 0s 4ms/step - loss: 78.2448 - mae: 6.7376 - mape: 33.4264 - val_loss: 98.7678 - val_mae: 6.8441 - val_mape: 28.5983\n",
            "Epoch 15/100\n",
            "11/11 [==============================] - 0s 4ms/step - loss: 74.1021 - mae: 6.6971 - mape: 34.4779 - val_loss: 89.2204 - val_mae: 6.5963 - val_mape: 28.3296\n",
            "Epoch 16/100\n",
            "11/11 [==============================] - 0s 5ms/step - loss: 71.3789 - mae: 6.5042 - mape: 33.3537 - val_loss: 92.8669 - val_mae: 6.5603 - val_mape: 27.0075\n",
            "Epoch 17/100\n",
            "11/11 [==============================] - 0s 4ms/step - loss: 70.0247 - mae: 6.2533 - mape: 30.8123 - val_loss: 86.9145 - val_mae: 6.3590 - val_mape: 26.2905\n",
            "Epoch 18/100\n",
            "11/11 [==============================] - 0s 4ms/step - loss: 68.1032 - mae: 6.3735 - mape: 33.5332 - val_loss: 80.9933 - val_mae: 6.2938 - val_mape: 26.7961\n",
            "Epoch 19/100\n",
            "11/11 [==============================] - 0s 4ms/step - loss: 66.7190 - mae: 6.2686 - mape: 32.1523 - val_loss: 82.0556 - val_mae: 6.1784 - val_mape: 25.2965\n",
            "Epoch 20/100\n",
            "11/11 [==============================] - 0s 4ms/step - loss: 65.4466 - mae: 6.0327 - mape: 29.9023 - val_loss: 81.7549 - val_mae: 6.1312 - val_mape: 25.0726\n",
            "Epoch 21/100\n",
            "11/11 [==============================] - 0s 4ms/step - loss: 63.6748 - mae: 6.0719 - mape: 31.3329 - val_loss: 78.3711 - val_mae: 6.0878 - val_mape: 25.5028\n",
            "Epoch 22/100\n",
            "11/11 [==============================] - 0s 4ms/step - loss: 62.7324 - mae: 5.8976 - mape: 29.5474 - val_loss: 81.0152 - val_mae: 6.0224 - val_mape: 24.0329\n",
            "Epoch 23/100\n",
            "11/11 [==============================] - 0s 4ms/step - loss: 63.3153 - mae: 5.9916 - mape: 30.3695 - val_loss: 76.3558 - val_mae: 5.9527 - val_mape: 24.5955\n",
            "Epoch 24/100\n",
            "11/11 [==============================] - 0s 4ms/step - loss: 60.6563 - mae: 5.7894 - mape: 29.2227 - val_loss: 79.5284 - val_mae: 5.9641 - val_mape: 23.7398\n",
            "Epoch 25/100\n",
            "11/11 [==============================] - 0s 5ms/step - loss: 60.7008 - mae: 5.7410 - mape: 28.8239 - val_loss: 75.9679 - val_mae: 5.8894 - val_mape: 23.9674\n",
            "Epoch 26/100\n",
            "11/11 [==============================] - 0s 4ms/step - loss: 60.1897 - mae: 5.6867 - mape: 28.1095 - val_loss: 74.6003 - val_mae: 5.8160 - val_mape: 23.5141\n",
            "Epoch 27/100\n",
            "11/11 [==============================] - 0s 4ms/step - loss: 59.0159 - mae: 5.7993 - mape: 29.5143 - val_loss: 70.4948 - val_mae: 5.8178 - val_mape: 24.2443\n",
            "Epoch 28/100\n",
            "11/11 [==============================] - 0s 5ms/step - loss: 59.2692 - mae: 5.8377 - mape: 29.8700 - val_loss: 71.7894 - val_mae: 5.7160 - val_mape: 23.0320\n",
            "Epoch 29/100\n",
            "11/11 [==============================] - 0s 4ms/step - loss: 57.9930 - mae: 5.6102 - mape: 27.9417 - val_loss: 72.0213 - val_mae: 5.7517 - val_mape: 23.3407\n",
            "Epoch 30/100\n",
            "11/11 [==============================] - 0s 4ms/step - loss: 57.1556 - mae: 5.5847 - mape: 28.1449 - val_loss: 71.2140 - val_mae: 5.7621 - val_mape: 23.6684\n",
            "Epoch 31/100\n",
            "11/11 [==============================] - 0s 4ms/step - loss: 58.4698 - mae: 5.8957 - mape: 31.6654 - val_loss: 71.0212 - val_mae: 5.9087 - val_mape: 25.0891\n",
            "Epoch 32/100\n",
            "11/11 [==============================] - 0s 5ms/step - loss: 56.8381 - mae: 5.5552 - mape: 28.6485 - val_loss: 73.0361 - val_mae: 5.7865 - val_mape: 23.0852\n",
            "Epoch 33/100\n",
            "11/11 [==============================] - 0s 4ms/step - loss: 56.0400 - mae: 5.4364 - mape: 26.7843 - val_loss: 67.8171 - val_mae: 5.6734 - val_mape: 23.4156\n",
            "Epoch 34/100\n",
            "11/11 [==============================] - 0s 4ms/step - loss: 59.9019 - mae: 6.1608 - mape: 33.7710 - val_loss: 67.6403 - val_mae: 5.7312 - val_mape: 23.8997\n",
            "Epoch 35/100\n",
            "11/11 [==============================] - 0s 4ms/step - loss: 58.4587 - mae: 5.4092 - mape: 25.6693 - val_loss: 74.8290 - val_mae: 5.8057 - val_mape: 22.1730\n",
            "Epoch 36/100\n",
            "11/11 [==============================] - 0s 4ms/step - loss: 55.2888 - mae: 5.5976 - mape: 28.0903 - val_loss: 65.2979 - val_mae: 5.7341 - val_mape: 24.4096\n",
            "Epoch 37/100\n",
            "11/11 [==============================] - 0s 4ms/step - loss: 53.7355 - mae: 5.5205 - mape: 28.4156 - val_loss: 72.2831 - val_mae: 5.7283 - val_mape: 22.1587\n",
            "Epoch 38/100\n",
            "11/11 [==============================] - 0s 4ms/step - loss: 54.4472 - mae: 5.2228 - mape: 25.1237 - val_loss: 67.5043 - val_mae: 5.6493 - val_mape: 22.9411\n",
            "Epoch 39/100\n",
            "11/11 [==============================] - 0s 4ms/step - loss: 53.6161 - mae: 5.4609 - mape: 28.2324 - val_loss: 67.2744 - val_mae: 5.6660 - val_mape: 23.0953\n",
            "Epoch 40/100\n",
            "11/11 [==============================] - 0s 4ms/step - loss: 54.0888 - mae: 5.2334 - mape: 25.8176 - val_loss: 66.7199 - val_mae: 5.5882 - val_mape: 22.4833\n",
            "Epoch 41/100\n",
            "11/11 [==============================] - 0s 5ms/step - loss: 53.7820 - mae: 5.6126 - mape: 29.3009 - val_loss: 64.4513 - val_mae: 5.5202 - val_mape: 22.3569\n",
            "Epoch 42/100\n",
            "11/11 [==============================] - 0s 4ms/step - loss: 53.5100 - mae: 5.1992 - mape: 24.8735 - val_loss: 65.9356 - val_mae: 5.4830 - val_mape: 21.5628\n",
            "Epoch 43/100\n",
            "11/11 [==============================] - 0s 4ms/step - loss: 52.5374 - mae: 5.4818 - mape: 28.0411 - val_loss: 62.1401 - val_mae: 5.5362 - val_mape: 23.0580\n",
            "Epoch 44/100\n",
            "11/11 [==============================] - 0s 5ms/step - loss: 52.6422 - mae: 5.4634 - mape: 27.7526 - val_loss: 62.7996 - val_mae: 5.4127 - val_mape: 21.6735\n",
            "Epoch 45/100\n",
            "11/11 [==============================] - 0s 4ms/step - loss: 52.4293 - mae: 5.4496 - mape: 27.4978 - val_loss: 61.5132 - val_mae: 5.3773 - val_mape: 21.7115\n",
            "Epoch 46/100\n",
            "11/11 [==============================] - 0s 5ms/step - loss: 52.1651 - mae: 5.4919 - mape: 28.2796 - val_loss: 63.2735 - val_mae: 5.4535 - val_mape: 21.8664\n",
            "Epoch 47/100\n",
            "11/11 [==============================] - 0s 4ms/step - loss: 51.0679 - mae: 5.2521 - mape: 26.3527 - val_loss: 62.0645 - val_mae: 5.4357 - val_mape: 22.0442\n",
            "Epoch 48/100\n",
            "11/11 [==============================] - 0s 4ms/step - loss: 50.9521 - mae: 5.3845 - mape: 27.7157 - val_loss: 60.8006 - val_mae: 5.3394 - val_mape: 21.3727\n",
            "Epoch 49/100\n",
            "11/11 [==============================] - 0s 4ms/step - loss: 51.3253 - mae: 5.1233 - mape: 24.6924 - val_loss: 60.7053 - val_mae: 5.3663 - val_mape: 21.5631\n",
            "Epoch 50/100\n",
            "11/11 [==============================] - 0s 4ms/step - loss: 52.2291 - mae: 5.5987 - mape: 29.7581 - val_loss: 61.3243 - val_mae: 5.4721 - val_mape: 22.2125\n",
            "Epoch 51/100\n",
            "11/11 [==============================] - 0s 4ms/step - loss: 49.9160 - mae: 5.0709 - mape: 24.8224 - val_loss: 65.3565 - val_mae: 5.4777 - val_mape: 21.0500\n",
            "Epoch 52/100\n",
            "11/11 [==============================] - 0s 5ms/step - loss: 50.1452 - mae: 5.1424 - mape: 25.0810 - val_loss: 58.7679 - val_mae: 5.4202 - val_mape: 22.4318\n",
            "Epoch 53/100\n",
            "11/11 [==============================] - 0s 4ms/step - loss: 50.7051 - mae: 5.4205 - mape: 28.0348 - val_loss: 62.1749 - val_mae: 5.3082 - val_mape: 20.5801\n",
            "Epoch 54/100\n",
            "11/11 [==============================] - 0s 4ms/step - loss: 52.7815 - mae: 5.0685 - mape: 23.0134 - val_loss: 61.3490 - val_mae: 5.3109 - val_mape: 20.6463\n",
            "Epoch 55/100\n",
            "11/11 [==============================] - 0s 4ms/step - loss: 51.3789 - mae: 5.4405 - mape: 28.5172 - val_loss: 60.1672 - val_mae: 5.3030 - val_mape: 20.9258\n",
            "Epoch 56/100\n",
            "11/11 [==============================] - 0s 4ms/step - loss: 48.8334 - mae: 4.9648 - mape: 23.8131 - val_loss: 63.7018 - val_mae: 5.3564 - val_mape: 20.3948\n",
            "Epoch 57/100\n",
            "11/11 [==============================] - 0s 4ms/step - loss: 49.5497 - mae: 5.1330 - mape: 25.4514 - val_loss: 58.7106 - val_mae: 5.2777 - val_mape: 21.0431\n",
            "Epoch 58/100\n",
            "11/11 [==============================] - 0s 4ms/step - loss: 49.0168 - mae: 5.0566 - mape: 24.7799 - val_loss: 59.8711 - val_mae: 5.2356 - val_mape: 20.3961\n",
            "Epoch 59/100\n",
            "11/11 [==============================] - 0s 4ms/step - loss: 48.2097 - mae: 5.0108 - mape: 24.5895 - val_loss: 57.0661 - val_mae: 5.3065 - val_mape: 21.6756\n",
            "Epoch 60/100\n",
            "11/11 [==============================] - 0s 4ms/step - loss: 49.2544 - mae: 5.3696 - mape: 27.8615 - val_loss: 56.8564 - val_mae: 5.2016 - val_mape: 20.8036\n",
            "Epoch 61/100\n",
            "11/11 [==============================] - 0s 4ms/step - loss: 48.4508 - mae: 5.1249 - mape: 25.4903 - val_loss: 59.8144 - val_mae: 5.2040 - val_mape: 20.2318\n",
            "Epoch 62/100\n",
            "11/11 [==============================] - 0s 4ms/step - loss: 48.2451 - mae: 4.9005 - mape: 23.1665 - val_loss: 57.9697 - val_mae: 5.2468 - val_mape: 20.8587\n",
            "Epoch 63/100\n",
            "11/11 [==============================] - 0s 5ms/step - loss: 47.6714 - mae: 5.0628 - mape: 25.4936 - val_loss: 61.1140 - val_mae: 5.3446 - val_mape: 20.7732\n",
            "Epoch 64/100\n",
            "11/11 [==============================] - 0s 4ms/step - loss: 48.0107 - mae: 4.8772 - mape: 23.3952 - val_loss: 57.8022 - val_mae: 5.2806 - val_mape: 21.1985\n",
            "Epoch 65/100\n",
            "11/11 [==============================] - 0s 4ms/step - loss: 49.5242 - mae: 5.3121 - mape: 27.2338 - val_loss: 61.7987 - val_mae: 5.2906 - val_mape: 20.4282\n",
            "Epoch 66/100\n",
            "11/11 [==============================] - 0s 4ms/step - loss: 48.7917 - mae: 4.8154 - mape: 22.0360 - val_loss: 57.0765 - val_mae: 5.2202 - val_mape: 20.8495\n",
            "Epoch 67/100\n",
            "11/11 [==============================] - 0s 4ms/step - loss: 47.4415 - mae: 4.9636 - mape: 24.2228 - val_loss: 59.2359 - val_mae: 5.2302 - val_mape: 20.3846\n",
            "Epoch 68/100\n",
            "11/11 [==============================] - 0s 4ms/step - loss: 47.0131 - mae: 4.8553 - mape: 23.1370 - val_loss: 57.7944 - val_mae: 5.2214 - val_mape: 20.6252\n",
            "Epoch 69/100\n",
            "11/11 [==============================] - 0s 4ms/step - loss: 47.0323 - mae: 4.9972 - mape: 24.7764 - val_loss: 59.2744 - val_mae: 5.2188 - val_mape: 20.2800\n",
            "Epoch 70/100\n",
            "11/11 [==============================] - 0s 4ms/step - loss: 47.2133 - mae: 4.8195 - mape: 22.5434 - val_loss: 55.9109 - val_mae: 5.1863 - val_mape: 20.8092\n",
            "Epoch 71/100\n",
            "11/11 [==============================] - 0s 5ms/step - loss: 47.2336 - mae: 5.1101 - mape: 25.5636 - val_loss: 58.5473 - val_mae: 5.1923 - val_mape: 20.1987\n",
            "Epoch 72/100\n",
            "11/11 [==============================] - 0s 4ms/step - loss: 46.4809 - mae: 4.9604 - mape: 24.5515 - val_loss: 57.2795 - val_mae: 5.1976 - val_mape: 20.5114\n",
            "Epoch 73/100\n",
            "11/11 [==============================] - 0s 5ms/step - loss: 46.2731 - mae: 4.7904 - mape: 22.7633 - val_loss: 58.0925 - val_mae: 5.2216 - val_mape: 20.4775\n",
            "Epoch 74/100\n",
            "11/11 [==============================] - 0s 5ms/step - loss: 46.2597 - mae: 4.8555 - mape: 23.4960 - val_loss: 56.6481 - val_mae: 5.2029 - val_mape: 20.6751\n",
            "Epoch 75/100\n",
            "11/11 [==============================] - 0s 4ms/step - loss: 46.9972 - mae: 4.7739 - mape: 22.4207 - val_loss: 56.0981 - val_mae: 5.2354 - val_mape: 21.0375\n",
            "Epoch 76/100\n",
            "11/11 [==============================] - 0s 4ms/step - loss: 46.4542 - mae: 5.1255 - mape: 26.1173 - val_loss: 58.9019 - val_mae: 5.2250 - val_mape: 20.3548\n",
            "Epoch 77/100\n",
            "11/11 [==============================] - 0s 4ms/step - loss: 49.0334 - mae: 4.7750 - mape: 21.4547 - val_loss: 55.0538 - val_mae: 5.2912 - val_mape: 21.7223\n",
            "Epoch 78/100\n",
            "11/11 [==============================] - 0s 4ms/step - loss: 46.0097 - mae: 5.0633 - mape: 25.7369 - val_loss: 60.3890 - val_mae: 5.2901 - val_mape: 20.5851\n",
            "Epoch 79/100\n",
            "11/11 [==============================] - 0s 4ms/step - loss: 46.8352 - mae: 4.8139 - mape: 22.3328 - val_loss: 53.8843 - val_mae: 5.1737 - val_mape: 21.1173\n",
            "Epoch 80/100\n",
            "11/11 [==============================] - 0s 4ms/step - loss: 46.3969 - mae: 4.9287 - mape: 23.9925 - val_loss: 55.4289 - val_mae: 5.1526 - val_mape: 20.5101\n",
            "Epoch 81/100\n",
            "11/11 [==============================] - 0s 4ms/step - loss: 48.4644 - mae: 5.3969 - mape: 28.5637 - val_loss: 58.4515 - val_mae: 5.3042 - val_mape: 20.8934\n",
            "Epoch 82/100\n",
            "11/11 [==============================] - 0s 5ms/step - loss: 45.6482 - mae: 4.6760 - mape: 21.8764 - val_loss: 56.4039 - val_mae: 5.2212 - val_mape: 20.7551\n",
            "Epoch 83/100\n",
            "11/11 [==============================] - 0s 4ms/step - loss: 44.8804 - mae: 4.8109 - mape: 23.3686 - val_loss: 53.5649 - val_mae: 5.1640 - val_mape: 21.0351\n",
            "Epoch 84/100\n",
            "11/11 [==============================] - 0s 5ms/step - loss: 44.4431 - mae: 4.7726 - mape: 23.2257 - val_loss: 58.6461 - val_mae: 5.2276 - val_mape: 20.3392\n",
            "Epoch 85/100\n",
            "11/11 [==============================] - 0s 4ms/step - loss: 44.8612 - mae: 4.6872 - mape: 21.9644 - val_loss: 52.1786 - val_mae: 5.2673 - val_mape: 22.1633\n",
            "Epoch 86/100\n",
            "11/11 [==============================] - 0s 4ms/step - loss: 46.1693 - mae: 5.1750 - mape: 26.5065 - val_loss: 59.6230 - val_mae: 5.2314 - val_mape: 20.3464\n",
            "Epoch 87/100\n",
            "11/11 [==============================] - 0s 4ms/step - loss: 47.0767 - mae: 4.8056 - mape: 22.4935 - val_loss: 51.8509 - val_mae: 5.0721 - val_mape: 20.7820\n",
            "Epoch 88/100\n",
            "11/11 [==============================] - 0s 4ms/step - loss: 43.6666 - mae: 4.6944 - mape: 22.4269 - val_loss: 58.9393 - val_mae: 5.2108 - val_mape: 20.1173\n",
            "Epoch 89/100\n",
            "11/11 [==============================] - 0s 4ms/step - loss: 45.2270 - mae: 4.6834 - mape: 22.1769 - val_loss: 52.9492 - val_mae: 5.1757 - val_mape: 21.1360\n",
            "Epoch 90/100\n",
            "11/11 [==============================] - 0s 6ms/step - loss: 43.7932 - mae: 4.8779 - mape: 24.3468 - val_loss: 55.2512 - val_mae: 5.1157 - val_mape: 20.2923\n",
            "Epoch 91/100\n",
            "11/11 [==============================] - 0s 4ms/step - loss: 44.7714 - mae: 4.5681 - mape: 20.7489 - val_loss: 50.9876 - val_mae: 5.2544 - val_mape: 22.2920\n",
            "Epoch 92/100\n",
            "11/11 [==============================] - 0s 4ms/step - loss: 44.9861 - mae: 5.0078 - mape: 25.2723 - val_loss: 54.1994 - val_mae: 5.1176 - val_mape: 20.4258\n",
            "Epoch 93/100\n",
            "11/11 [==============================] - 0s 5ms/step - loss: 43.5900 - mae: 4.7159 - mape: 22.8265 - val_loss: 51.3963 - val_mae: 5.0941 - val_mape: 20.9439\n",
            "Epoch 94/100\n",
            "11/11 [==============================] - 0s 4ms/step - loss: 44.9556 - mae: 5.0284 - mape: 25.6681 - val_loss: 55.3996 - val_mae: 5.1418 - val_mape: 20.2677\n",
            "Epoch 95/100\n",
            "11/11 [==============================] - 0s 4ms/step - loss: 43.4093 - mae: 4.6834 - mape: 22.6701 - val_loss: 52.3342 - val_mae: 5.0746 - val_mape: 20.4999\n",
            "Epoch 96/100\n",
            "11/11 [==============================] - 0s 4ms/step - loss: 42.9627 - mae: 4.7616 - mape: 23.4505 - val_loss: 51.1982 - val_mae: 5.0322 - val_mape: 20.5226\n",
            "Epoch 97/100\n",
            "11/11 [==============================] - 0s 4ms/step - loss: 43.2367 - mae: 4.7235 - mape: 22.7723 - val_loss: 51.9605 - val_mae: 5.0060 - val_mape: 20.2246\n",
            "Epoch 98/100\n",
            "11/11 [==============================] - 0s 4ms/step - loss: 43.5913 - mae: 4.8193 - mape: 23.8625 - val_loss: 53.4507 - val_mae: 5.0304 - val_mape: 20.0286\n",
            "Epoch 99/100\n",
            "11/11 [==============================] - 0s 4ms/step - loss: 42.9915 - mae: 4.6840 - mape: 22.4322 - val_loss: 51.4666 - val_mae: 5.0019 - val_mape: 20.2166\n",
            "Epoch 100/100\n",
            "11/11 [==============================] - 0s 6ms/step - loss: 42.6142 - mae: 4.6510 - mape: 22.2917 - val_loss: 52.0354 - val_mae: 5.0296 - val_mape: 20.2493\n"
          ]
        },
        {
          "output_type": "display_data",
          "data": {
            "image/png": "[encoded data removed]",
            "text/plain": [
              "<Figure size 432x288 with 1 Axes>"
            ]
          },
          "metadata": {
            "needs_background": "light"
          }
        },
        {
          "output_type": "stream",
          "name": "stdout",
          "text": [
            "4/4 [==============================] - 0s 3ms/step - loss: 56.1388 - mae: 5.4040 - mape: 24.8815\n",
            "loss= 56.13876724243164\n",
            "mae= 5.404036521911621\n",
            "mape= 24.881546020507812\n"
          ]
        },
        {
          "output_type": "display_data",
          "data": {
            "image/png": "[encoded data removed]",
            "text/plain": [
              "<Figure size 432x288 with 1 Axes>"
            ]
          },
          "metadata": {
            "needs_background": "light"
          }
        }
      ]
    },
    {
      "cell_type": "markdown",
      "metadata": {
        "id": "E3WqrBF85f6m"
      },
      "source": [
        "## 분류 작업\n",
        "일반적으로 정확도를 지표로 사용한다.\n",
        "- 'acc' : accuracy, 정확도. 예측한 것 중 정확히 예측한 비율.\n"
      ]
    },
    {
      "cell_type": "code",
      "metadata": {
        "id": "wgYuro2G9iUo"
      },
      "source": [
        "import numpy as np\n",
        "import pandas as pd\n",
        "import matplotlib.pyplot as plt\n",
        "\n",
        "import tensorflow as tf\n",
        "\n",
        "from tensorflow import keras\n",
        "from tensorflow.keras import optimizers\n",
        "from tensorflow.keras.layers import Dense, Input"
      ],
      "execution_count": 20,
      "outputs": []
    },
    {
      "cell_type": "code",
      "metadata": {
        "id": "l0AU0mVz9iUp"
      },
      "source": [
        "def load_iris_data():\n",
        "\n",
        "  df = pd.read_csv(\"https://raw.githubusercontent.com/dhrim/keras_howto_2021/master/data/iris_with_category_index.csv\")\n",
        "  data = df.to_numpy()\n",
        "  np.random.shuffle(data)\n",
        "\n",
        "  x = data[:,:4]\n",
        "  y = data[:,4]\n",
        "\n",
        "  split_index = int(len(x)*0.8)\n",
        "  train_x, test_x = x[:split_index], x[split_index:]\n",
        "  train_y, test_y = y[:split_index], y[split_index:]\n",
        "\n",
        "  return (train_x, train_y), (test_x, test_y)\n"
      ],
      "execution_count": 21,
      "outputs": []
    },
    {
      "cell_type": "code",
      "metadata": {
        "id": "H_NAbe7m9iUq"
      },
      "source": [
        "(train_x, train_y), (test_x, test_y) = load_iris_data()"
      ],
      "execution_count": 22,
      "outputs": []
    },
    {
      "cell_type": "code",
      "metadata": {
        "colab": {
          "base_uri": "https://localhost:8080/",
          "height": 1000
        },
        "id": "ERNAPqfH9iUq",
        "outputId": "dd707074-f8d0-4cc7-dbd9-fe894d6920b2"
      },
      "source": [
        "# 모델 정의\n",
        "model = keras.Sequential()\n",
        "model.add(Input(4))\n",
        "model.add(Dense(10, activation='relu'))\n",
        "model.add(Dense(10, activation='relu'))\n",
        "model.add(Dense(3, activation=\"softmax\"))\n",
        "\n",
        "\n",
        "# 모델 컴파일\n",
        "model.compile(optimizer=\"Adam\", loss=\"sparse_categorical_crossentropy\", metrics=[\"acc\"])\n",
        "model.summary()\n",
        "\n",
        "\n",
        "# 모델 학습\n",
        "history = model.fit(train_x, train_y, epochs=100, batch_size=32, validation_split=0.2)\n",
        "\n",
        "\n",
        "# 학습 로스 보기\n",
        "plt.plot(history.history['loss'], label=\"loss\")\n",
        "plt.plot(history.history['val_loss'], label=\"val_loss\")\n",
        "plt.legend()\n",
        "plt.show()\n",
        "\n",
        "\n",
        "# 평가\n",
        "loss, acc = model.evaluate(test_x, test_y)\n",
        "print(\"loss=\", loss)\n",
        "print(\"acc=\", acc)\n",
        "\n",
        "\n",
        "# 예측\n",
        "y_ = model.predict(test_x)\n",
        "predicted = np.argmax(y_, axis=-1)\n",
        "\n",
        "\n",
        "# 예측 결과 보기\n",
        "plt.plot(test_y, \"o\")\n",
        "plt.plot(predicted, \".\")\n",
        "plt.show()\n"
      ],
      "execution_count": 23,
      "outputs": [
        {
          "output_type": "stream",
          "name": "stdout",
          "text": [
            "Model: \"sequential_5\"\n",
            "_________________________________________________________________\n",
            "Layer (type)                 Output Shape              Param #   \n",
            "=================================================================\n",
            "dense_15 (Dense)             (None, 10)                50        \n",
            "_________________________________________________________________\n",
            "dense_16 (Dense)             (None, 10)                110       \n",
            "_________________________________________________________________\n",
            "dense_17 (Dense)             (None, 3)                 33        \n",
            "=================================================================\n",
            "Total params: 193\n",
            "Trainable params: 193\n",
            "Non-trainable params: 0\n",
            "_________________________________________________________________\n",
            "Epoch 1/100\n",
            "3/3 [==============================] - 0s 66ms/step - loss: 1.5188 - acc: 0.4211 - val_loss: 2.2677 - val_acc: 0.1500\n",
            "Epoch 2/100\n",
            "3/3 [==============================] - 0s 10ms/step - loss: 1.4304 - acc: 0.4211 - val_loss: 2.1016 - val_acc: 0.1500\n",
            "Epoch 3/100\n",
            "3/3 [==============================] - 0s 10ms/step - loss: 1.3464 - acc: 0.4211 - val_loss: 1.9535 - val_acc: 0.1500\n",
            "Epoch 4/100\n",
            "3/3 [==============================] - 0s 9ms/step - loss: 1.2734 - acc: 0.4211 - val_loss: 1.8166 - val_acc: 0.1500\n",
            "Epoch 5/100\n",
            "3/3 [==============================] - 0s 10ms/step - loss: 1.2131 - acc: 0.4211 - val_loss: 1.6905 - val_acc: 0.1500\n",
            "Epoch 6/100\n",
            "3/3 [==============================] - 0s 10ms/step - loss: 1.1640 - acc: 0.4211 - val_loss: 1.5728 - val_acc: 0.1500\n",
            "Epoch 7/100\n",
            "3/3 [==============================] - 0s 10ms/step - loss: 1.1155 - acc: 0.4211 - val_loss: 1.4655 - val_acc: 0.1500\n",
            "Epoch 8/100\n",
            "3/3 [==============================] - 0s 10ms/step - loss: 1.0783 - acc: 0.4211 - val_loss: 1.3683 - val_acc: 0.1500\n",
            "Epoch 9/100\n",
            "3/3 [==============================] - 0s 20ms/step - loss: 1.0442 - acc: 0.4211 - val_loss: 1.2832 - val_acc: 0.1500\n",
            "Epoch 10/100\n",
            "3/3 [==============================] - 0s 11ms/step - loss: 1.0155 - acc: 0.4211 - val_loss: 1.2114 - val_acc: 0.1500\n",
            "Epoch 11/100\n",
            "3/3 [==============================] - 0s 10ms/step - loss: 0.9974 - acc: 0.4211 - val_loss: 1.1486 - val_acc: 0.1500\n",
            "Epoch 12/100\n",
            "3/3 [==============================] - 0s 19ms/step - loss: 0.9769 - acc: 0.4211 - val_loss: 1.0999 - val_acc: 0.1500\n",
            "Epoch 13/100\n",
            "3/3 [==============================] - 0s 10ms/step - loss: 0.9631 - acc: 0.4211 - val_loss: 1.0586 - val_acc: 0.1500\n",
            "Epoch 14/100\n",
            "3/3 [==============================] - 0s 11ms/step - loss: 0.9537 - acc: 0.4211 - val_loss: 1.0228 - val_acc: 0.1500\n",
            "Epoch 15/100\n",
            "3/3 [==============================] - 0s 10ms/step - loss: 0.9412 - acc: 0.4211 - val_loss: 0.9945 - val_acc: 0.1500\n",
            "Epoch 16/100\n",
            "3/3 [==============================] - 0s 11ms/step - loss: 0.9326 - acc: 0.4211 - val_loss: 0.9696 - val_acc: 0.1500\n",
            "Epoch 17/100\n",
            "3/3 [==============================] - 0s 11ms/step - loss: 0.9231 - acc: 0.4211 - val_loss: 0.9505 - val_acc: 0.1500\n",
            "Epoch 18/100\n",
            "3/3 [==============================] - 0s 13ms/step - loss: 0.9144 - acc: 0.4342 - val_loss: 0.9338 - val_acc: 0.2000\n",
            "Epoch 19/100\n",
            "3/3 [==============================] - 0s 11ms/step - loss: 0.9047 - acc: 0.4342 - val_loss: 0.9195 - val_acc: 0.2000\n",
            "Epoch 20/100\n",
            "3/3 [==============================] - 0s 10ms/step - loss: 0.8949 - acc: 0.4474 - val_loss: 0.9084 - val_acc: 0.2000\n",
            "Epoch 21/100\n",
            "3/3 [==============================] - 0s 10ms/step - loss: 0.8846 - acc: 0.4474 - val_loss: 0.8984 - val_acc: 0.3000\n",
            "Epoch 22/100\n",
            "3/3 [==============================] - 0s 10ms/step - loss: 0.8736 - acc: 0.4474 - val_loss: 0.8900 - val_acc: 0.3500\n",
            "Epoch 23/100\n",
            "3/3 [==============================] - 0s 19ms/step - loss: 0.8630 - acc: 0.6184 - val_loss: 0.8821 - val_acc: 0.5500\n",
            "Epoch 24/100\n",
            "3/3 [==============================] - 0s 20ms/step - loss: 0.8523 - acc: 0.7500 - val_loss: 0.8750 - val_acc: 0.5500\n",
            "Epoch 25/100\n",
            "3/3 [==============================] - 0s 10ms/step - loss: 0.8412 - acc: 0.7500 - val_loss: 0.8674 - val_acc: 0.5000\n",
            "Epoch 26/100\n",
            "3/3 [==============================] - 0s 10ms/step - loss: 0.8302 - acc: 0.7500 - val_loss: 0.8604 - val_acc: 0.5000\n",
            "Epoch 27/100\n",
            "3/3 [==============================] - 0s 10ms/step - loss: 0.8191 - acc: 0.7500 - val_loss: 0.8530 - val_acc: 0.5000\n",
            "Epoch 28/100\n",
            "3/3 [==============================] - 0s 20ms/step - loss: 0.8086 - acc: 0.7500 - val_loss: 0.8429 - val_acc: 0.5000\n",
            "Epoch 29/100\n",
            "3/3 [==============================] - 0s 10ms/step - loss: 0.7978 - acc: 0.7500 - val_loss: 0.8296 - val_acc: 0.5000\n",
            "Epoch 30/100\n",
            "3/3 [==============================] - 0s 13ms/step - loss: 0.7871 - acc: 0.7500 - val_loss: 0.8161 - val_acc: 0.5000\n",
            "Epoch 31/100\n",
            "3/3 [==============================] - 0s 21ms/step - loss: 0.7768 - acc: 0.7500 - val_loss: 0.8048 - val_acc: 0.5000\n",
            "Epoch 32/100\n",
            "3/3 [==============================] - 0s 10ms/step - loss: 0.7665 - acc: 0.7500 - val_loss: 0.7955 - val_acc: 0.5000\n",
            "Epoch 33/100\n",
            "3/3 [==============================] - 0s 10ms/step - loss: 0.7564 - acc: 0.7500 - val_loss: 0.7872 - val_acc: 0.5000\n",
            "Epoch 34/100\n",
            "3/3 [==============================] - 0s 10ms/step - loss: 0.7467 - acc: 0.7500 - val_loss: 0.7740 - val_acc: 0.5000\n",
            "Epoch 35/100\n",
            "3/3 [==============================] - 0s 10ms/step - loss: 0.7372 - acc: 0.7500 - val_loss: 0.7642 - val_acc: 0.5500\n",
            "Epoch 36/100\n",
            "3/3 [==============================] - 0s 11ms/step - loss: 0.7278 - acc: 0.7500 - val_loss: 0.7590 - val_acc: 0.5000\n",
            "Epoch 37/100\n",
            "3/3 [==============================] - 0s 11ms/step - loss: 0.7191 - acc: 0.7500 - val_loss: 0.7510 - val_acc: 0.5000\n",
            "Epoch 38/100\n",
            "3/3 [==============================] - 0s 10ms/step - loss: 0.7105 - acc: 0.7500 - val_loss: 0.7404 - val_acc: 0.5500\n",
            "Epoch 39/100\n",
            "3/3 [==============================] - 0s 11ms/step - loss: 0.7021 - acc: 0.7500 - val_loss: 0.7271 - val_acc: 0.5500\n",
            "Epoch 40/100\n",
            "3/3 [==============================] - 0s 10ms/step - loss: 0.6940 - acc: 0.7763 - val_loss: 0.7083 - val_acc: 0.5500\n",
            "Epoch 41/100\n",
            "3/3 [==============================] - 0s 10ms/step - loss: 0.6875 - acc: 0.8026 - val_loss: 0.6918 - val_acc: 0.5500\n",
            "Epoch 42/100\n",
            "3/3 [==============================] - 0s 21ms/step - loss: 0.6796 - acc: 0.8421 - val_loss: 0.6841 - val_acc: 0.5500\n",
            "Epoch 43/100\n",
            "3/3 [==============================] - 0s 20ms/step - loss: 0.6715 - acc: 0.8421 - val_loss: 0.6852 - val_acc: 0.5500\n",
            "Epoch 44/100\n",
            "3/3 [==============================] - 0s 14ms/step - loss: 0.6636 - acc: 0.7895 - val_loss: 0.6848 - val_acc: 0.5500\n",
            "Epoch 45/100\n",
            "3/3 [==============================] - 0s 11ms/step - loss: 0.6562 - acc: 0.7763 - val_loss: 0.6821 - val_acc: 0.5500\n",
            "Epoch 46/100\n",
            "3/3 [==============================] - 0s 11ms/step - loss: 0.6487 - acc: 0.7763 - val_loss: 0.6740 - val_acc: 0.5500\n",
            "Epoch 47/100\n",
            "3/3 [==============================] - 0s 10ms/step - loss: 0.6416 - acc: 0.7763 - val_loss: 0.6675 - val_acc: 0.5500\n",
            "Epoch 48/100\n",
            "3/3 [==============================] - 0s 13ms/step - loss: 0.6339 - acc: 0.7763 - val_loss: 0.6652 - val_acc: 0.5500\n",
            "Epoch 49/100\n",
            "3/3 [==============================] - 0s 10ms/step - loss: 0.6269 - acc: 0.7632 - val_loss: 0.6644 - val_acc: 0.5500\n",
            "Epoch 50/100\n",
            "3/3 [==============================] - 0s 10ms/step - loss: 0.6201 - acc: 0.7632 - val_loss: 0.6583 - val_acc: 0.5500\n",
            "Epoch 51/100\n",
            "3/3 [==============================] - 0s 10ms/step - loss: 0.6135 - acc: 0.7632 - val_loss: 0.6555 - val_acc: 0.5500\n",
            "Epoch 52/100\n",
            "3/3 [==============================] - 0s 16ms/step - loss: 0.6066 - acc: 0.7632 - val_loss: 0.6460 - val_acc: 0.5500\n",
            "Epoch 53/100\n",
            "3/3 [==============================] - 0s 11ms/step - loss: 0.5992 - acc: 0.7632 - val_loss: 0.6284 - val_acc: 0.5500\n",
            "Epoch 54/100\n",
            "3/3 [==============================] - 0s 10ms/step - loss: 0.5929 - acc: 0.7763 - val_loss: 0.6104 - val_acc: 0.5500\n",
            "Epoch 55/100\n",
            "3/3 [==============================] - 0s 22ms/step - loss: 0.5875 - acc: 0.8553 - val_loss: 0.5938 - val_acc: 0.6000\n",
            "Epoch 56/100\n",
            "3/3 [==============================] - 0s 10ms/step - loss: 0.5821 - acc: 0.8684 - val_loss: 0.5855 - val_acc: 0.6000\n",
            "Epoch 57/100\n",
            "3/3 [==============================] - 0s 11ms/step - loss: 0.5760 - acc: 0.8684 - val_loss: 0.5846 - val_acc: 0.5500\n",
            "Epoch 58/100\n",
            "3/3 [==============================] - 0s 10ms/step - loss: 0.5699 - acc: 0.8684 - val_loss: 0.5858 - val_acc: 0.5500\n",
            "Epoch 59/100\n",
            "3/3 [==============================] - 0s 11ms/step - loss: 0.5637 - acc: 0.8421 - val_loss: 0.5897 - val_acc: 0.5500\n",
            "Epoch 60/100\n",
            "3/3 [==============================] - 0s 10ms/step - loss: 0.5580 - acc: 0.8289 - val_loss: 0.5923 - val_acc: 0.5500\n",
            "Epoch 61/100\n",
            "3/3 [==============================] - 0s 10ms/step - loss: 0.5524 - acc: 0.7763 - val_loss: 0.5954 - val_acc: 0.5500\n",
            "Epoch 62/100\n",
            "3/3 [==============================] - 0s 10ms/step - loss: 0.5473 - acc: 0.7632 - val_loss: 0.5959 - val_acc: 0.5500\n",
            "Epoch 63/100\n",
            "3/3 [==============================] - 0s 10ms/step - loss: 0.5418 - acc: 0.7632 - val_loss: 0.5924 - val_acc: 0.5500\n",
            "Epoch 64/100\n",
            "3/3 [==============================] - 0s 19ms/step - loss: 0.5367 - acc: 0.7632 - val_loss: 0.5875 - val_acc: 0.5500\n",
            "Epoch 65/100\n",
            "3/3 [==============================] - 0s 11ms/step - loss: 0.5317 - acc: 0.7632 - val_loss: 0.5791 - val_acc: 0.5500\n",
            "Epoch 66/100\n",
            "3/3 [==============================] - 0s 11ms/step - loss: 0.5266 - acc: 0.7632 - val_loss: 0.5739 - val_acc: 0.5500\n",
            "Epoch 67/100\n",
            "3/3 [==============================] - 0s 11ms/step - loss: 0.5218 - acc: 0.7632 - val_loss: 0.5742 - val_acc: 0.5500\n",
            "Epoch 68/100\n",
            "3/3 [==============================] - 0s 12ms/step - loss: 0.5170 - acc: 0.7632 - val_loss: 0.5730 - val_acc: 0.5500\n",
            "Epoch 69/100\n",
            "3/3 [==============================] - 0s 10ms/step - loss: 0.5126 - acc: 0.7632 - val_loss: 0.5710 - val_acc: 0.5500\n",
            "Epoch 70/100\n",
            "3/3 [==============================] - 0s 20ms/step - loss: 0.5083 - acc: 0.7632 - val_loss: 0.5678 - val_acc: 0.5500\n",
            "Epoch 71/100\n",
            "3/3 [==============================] - 0s 11ms/step - loss: 0.5039 - acc: 0.7632 - val_loss: 0.5607 - val_acc: 0.5500\n",
            "Epoch 72/100\n",
            "3/3 [==============================] - 0s 11ms/step - loss: 0.5003 - acc: 0.7763 - val_loss: 0.5501 - val_acc: 0.5500\n",
            "Epoch 73/100\n",
            "3/3 [==============================] - 0s 12ms/step - loss: 0.4953 - acc: 0.8158 - val_loss: 0.5513 - val_acc: 0.5500\n",
            "Epoch 74/100\n",
            "3/3 [==============================] - 0s 17ms/step - loss: 0.4910 - acc: 0.7632 - val_loss: 0.5574 - val_acc: 0.5500\n",
            "Epoch 75/100\n",
            "3/3 [==============================] - 0s 20ms/step - loss: 0.4880 - acc: 0.7632 - val_loss: 0.5644 - val_acc: 0.5500\n",
            "Epoch 76/100\n",
            "3/3 [==============================] - 0s 10ms/step - loss: 0.4847 - acc: 0.7632 - val_loss: 0.5590 - val_acc: 0.5500\n",
            "Epoch 77/100\n",
            "3/3 [==============================] - 0s 10ms/step - loss: 0.4811 - acc: 0.7632 - val_loss: 0.5408 - val_acc: 0.5500\n",
            "Epoch 78/100\n",
            "3/3 [==============================] - 0s 19ms/step - loss: 0.4761 - acc: 0.8158 - val_loss: 0.5280 - val_acc: 0.5500\n",
            "Epoch 79/100\n",
            "3/3 [==============================] - 0s 11ms/step - loss: 0.4720 - acc: 0.8158 - val_loss: 0.5166 - val_acc: 0.5500\n",
            "Epoch 80/100\n",
            "3/3 [==============================] - 0s 10ms/step - loss: 0.4687 - acc: 0.8553 - val_loss: 0.4970 - val_acc: 0.6000\n",
            "Epoch 81/100\n",
            "3/3 [==============================] - 0s 10ms/step - loss: 0.4656 - acc: 0.8684 - val_loss: 0.4821 - val_acc: 0.8000\n",
            "Epoch 82/100\n",
            "3/3 [==============================] - 0s 10ms/step - loss: 0.4623 - acc: 0.9079 - val_loss: 0.4726 - val_acc: 0.8500\n",
            "Epoch 83/100\n",
            "3/3 [==============================] - 0s 19ms/step - loss: 0.4594 - acc: 0.9079 - val_loss: 0.4665 - val_acc: 0.9000\n",
            "Epoch 84/100\n",
            "3/3 [==============================] - 0s 12ms/step - loss: 0.4563 - acc: 0.9079 - val_loss: 0.4648 - val_acc: 0.9000\n",
            "Epoch 85/100\n",
            "3/3 [==============================] - 0s 11ms/step - loss: 0.4532 - acc: 0.9079 - val_loss: 0.4662 - val_acc: 0.8500\n",
            "Epoch 86/100\n",
            "3/3 [==============================] - 0s 10ms/step - loss: 0.4494 - acc: 0.9079 - val_loss: 0.4666 - val_acc: 0.8000\n",
            "Epoch 87/100\n",
            "3/3 [==============================] - 0s 11ms/step - loss: 0.4474 - acc: 0.9079 - val_loss: 0.4707 - val_acc: 0.7500\n",
            "Epoch 88/100\n",
            "3/3 [==============================] - 0s 10ms/step - loss: 0.4429 - acc: 0.9079 - val_loss: 0.4628 - val_acc: 0.8000\n",
            "Epoch 89/100\n",
            "3/3 [==============================] - 0s 10ms/step - loss: 0.4406 - acc: 0.9079 - val_loss: 0.4484 - val_acc: 0.9500\n",
            "Epoch 90/100\n",
            "3/3 [==============================] - 0s 10ms/step - loss: 0.4379 - acc: 0.8947 - val_loss: 0.4454 - val_acc: 0.9500\n",
            "Epoch 91/100\n",
            "3/3 [==============================] - 0s 10ms/step - loss: 0.4354 - acc: 0.8947 - val_loss: 0.4465 - val_acc: 0.9500\n",
            "Epoch 92/100\n",
            "3/3 [==============================] - 0s 10ms/step - loss: 0.4322 - acc: 0.8947 - val_loss: 0.4434 - val_acc: 0.9500\n",
            "Epoch 93/100\n",
            "3/3 [==============================] - 0s 12ms/step - loss: 0.4287 - acc: 0.9079 - val_loss: 0.4506 - val_acc: 0.8500\n",
            "Epoch 94/100\n",
            "3/3 [==============================] - 0s 11ms/step - loss: 0.4263 - acc: 0.8947 - val_loss: 0.4620 - val_acc: 0.7000\n",
            "Epoch 95/100\n",
            "3/3 [==============================] - 0s 12ms/step - loss: 0.4224 - acc: 0.8684 - val_loss: 0.4691 - val_acc: 0.6000\n",
            "Epoch 96/100\n",
            "3/3 [==============================] - 0s 12ms/step - loss: 0.4199 - acc: 0.8684 - val_loss: 0.4769 - val_acc: 0.5500\n",
            "Epoch 97/100\n",
            "3/3 [==============================] - 0s 21ms/step - loss: 0.4181 - acc: 0.8684 - val_loss: 0.4876 - val_acc: 0.5500\n",
            "Epoch 98/100\n",
            "3/3 [==============================] - 0s 11ms/step - loss: 0.4155 - acc: 0.8553 - val_loss: 0.4939 - val_acc: 0.5500\n",
            "Epoch 99/100\n",
            "3/3 [==============================] - 0s 20ms/step - loss: 0.4140 - acc: 0.8158 - val_loss: 0.4973 - val_acc: 0.5500\n",
            "Epoch 100/100\n",
            "3/3 [==============================] - 0s 10ms/step - loss: 0.4119 - acc: 0.8289 - val_loss: 0.4868 - val_acc: 0.5500\n"
          ]
        },
        {
          "output_type": "display_data",
          "data": {
            "image/png": "[encoded data removed]",
            "text/plain": [
              "<Figure size 432x288 with 1 Axes>"
            ]
          },
          "metadata": {
            "needs_background": "light"
          }
        },
        {
          "output_type": "stream",
          "name": "stdout",
          "text": [
            "1/1 [==============================] - 0s 15ms/step - loss: 0.4626 - acc: 0.6667\n",
            "loss= 0.46256980299949646\n",
            "acc= 0.6666666865348816\n",
            "WARNING:tensorflow:5 out of the last 12 calls to <function Model.make_predict_function.<locals>.predict_function at 0x7fcb82189680> triggered tf.function retracing. Tracing is expensive and the excessive number of tracings could be due to (1) creating @tf.function repeatedly in a loop, (2) passing tensors with different shapes, (3) passing Python objects instead of tensors. For (1), please define your @tf.function outside of the loop. For (2), @tf.function has experimental_relax_shapes=True option that relaxes argument shapes that can avoid unnecessary retracing. For (3), please refer to https://www.tensorflow.org/guide/function#controlling_retracing and https://www.tensorflow.org/api_docs/python/tf/function for  more details.\n"
          ]
        },
        {
          "output_type": "display_data",
          "data": {
            "image/png": "[encoded data removed]",
            "text/plain": [
              "<Figure size 432x288 with 1 Axes>"
            ]
          },
          "metadata": {
            "needs_background": "light"
          }
        }
      ]
    },
    {
      "cell_type": "markdown",
      "metadata": {
        "id": "kW3KaX4KYy2n"
      },
      "source": [
        "## 2진 분류 작업\n",
        "\n",
        "만약 카테고리가 2개 이면 다음 지표를 설정할 수 있다.\n",
        "- 'AUC', or AUC() : area under curve, ROC 그래프의 곡선 아래 면적\n",
        "- Precision() : 정밀도. 긍정이랴 예측한 것중 정확히 예측한 비율\n",
        "- Recall() : 회수율. 긍정 정답 중에 찾아낸 비율\n"
      ]
    },
    {
      "cell_type": "code",
      "metadata": {
        "id": "xpW7fz0HY11x"
      },
      "source": [
        "import numpy as np\n",
        "import pandas as pd\n",
        "import matplotlib.pyplot as plt\n",
        "\n",
        "import tensorflow as tf\n",
        "\n",
        "from tensorflow import keras\n",
        "from tensorflow.keras import optimizers\n",
        "from tensorflow.keras.layers import Dense, Input"
      ],
      "execution_count": null,
      "outputs": []
    },
    {
      "cell_type": "code",
      "metadata": {
        "id": "fPWpuAlwY11y"
      },
      "source": [
        "def load_sonar_data():\n",
        "\n",
        "  df = pd.read_csv(\"https://raw.githubusercontent.com/dhrim/keras_howto_2021/master/data/sonar.csv\")\n",
        "  data = df.to_numpy()\n",
        "  np.random.shuffle(data)\n",
        "\n",
        "  x = data[:,:60]\n",
        "  y = data[:,60]\n",
        "\n",
        "  split_index = int(len(x)*0.8)\n",
        "  train_x, test_x = x[:split_index], x[split_index:]\n",
        "  train_y, test_y = y[:split_index], y[split_index:]\n",
        "\n",
        "  return (train_x, train_y), (test_x, test_y)\n"
      ],
      "execution_count": 24,
      "outputs": []
    },
    {
      "cell_type": "code",
      "metadata": {
        "id": "try-cpkgY11z"
      },
      "source": [
        "(train_x, train_y), (test_x, test_y) = load_sonar_data()"
      ],
      "execution_count": 25,
      "outputs": []
    },
    {
      "cell_type": "code",
      "metadata": {
        "colab": {
          "base_uri": "https://localhost:8080/"
        },
        "id": "lCOtjJcnaDwm",
        "outputId": "f430edaf-c065-4b39-b760-57a7b1d118ea"
      },
      "source": [
        "print(train_x.shape)\n",
        "print(train_y.shape)"
      ],
      "execution_count": 26,
      "outputs": [
        {
          "output_type": "stream",
          "name": "stdout",
          "text": [
            "(165, 60)\n",
            "(165,)\n"
          ]
        }
      ]
    },
    {
      "cell_type": "code",
      "metadata": {
        "colab": {
          "base_uri": "https://localhost:8080/"
        },
        "id": "Q8-llvKhaH9z",
        "outputId": "29071a9a-22bc-46b8-c187-3e33ced1ca1d"
      },
      "source": [
        "print(train_x[0])\n",
        "print(train_y[:10])"
      ],
      "execution_count": 27,
      "outputs": [
        {
          "output_type": "stream",
          "name": "stdout",
          "text": [
            "[0.0072 0.0027 0.0089 0.0061 0.042  0.0865 0.1182 0.0999 0.1976 0.2318\n",
            " 0.2472 0.288  0.2126 0.0708 0.1194 0.2808 0.4221 0.5279 0.5857 0.6153\n",
            " 0.6753 0.7873 0.8974 0.9828 1.     0.846  0.6055 0.3036 0.0144 0.2526\n",
            " 0.4335 0.4918 0.5409 0.5961 0.5248 0.3777 0.2369 0.172  0.1878 0.325\n",
            " 0.2575 0.2423 0.2706 0.2323 0.1724 0.1457 0.1175 0.0868 0.0392 0.0131\n",
            " 0.0092 0.0078 0.0071 0.0081 0.0034 0.0064 0.0037 0.0036 0.0012 0.0037]\n",
            "[1. 1. 1. 1. 1. 1. 1. 1. 0. 1.]\n"
          ]
        }
      ]
    },
    {
      "cell_type": "code",
      "metadata": {
        "colab": {
          "base_uri": "https://localhost:8080/",
          "height": 1000
        },
        "id": "mvfcIQNZY110",
        "outputId": "bc0c5337-72b2-4445-9b51-94b1399ea6d6"
      },
      "source": [
        "from tensorflow.keras.metrics import AUC, Precision, Recall\n",
        "\n",
        "# 모델 정의\n",
        "model = keras.Sequential()\n",
        "model.add(Input(60))\n",
        "model.add(Dense(10, activation='relu'))\n",
        "model.add(Dense(10, activation='relu'))\n",
        "model.add(Dense(1, activation=\"sigmoid\"))\n",
        "\n",
        "\n",
        "# 모델 컴파일\n",
        "model.compile(optimizer=\"Adam\", loss=\"binary_crossentropy\", metrics=[\"acc\", \"AUC\", Precision(), Recall()])\n",
        "model.summary()\n",
        "\n",
        "\n",
        "# 모델 학습\n",
        "history = model.fit(train_x, train_y, epochs=100, batch_size=32, validation_split=0.2)\n",
        "\n",
        "\n",
        "# 학습 로스 보기\n",
        "plt.plot(history.history['loss'], label=\"loss\")\n",
        "plt.plot(history.history['val_loss'], label=\"val_loss\")\n",
        "plt.legend()\n",
        "plt.show()\n",
        "\n",
        "\n",
        "# 평가\n",
        "loss, acc, auc, precision, recall = model.evaluate(test_x, test_y)\n",
        "print(\"loss=\", loss)\n",
        "print(\"acc=\", acc)\n",
        "print(\"auc=\", auc)\n",
        "print(\"precision=\", precision)\n",
        "print(\"recall=\", recall)\n",
        "\n",
        "\n",
        "# 예측\n",
        "y_ = model.predict(test_x)\n",
        "predicted = (y_>0.5).astype(np.int)\n",
        "\n",
        "\n",
        "# 예측 결과 보기\n",
        "plt.plot(test_y, \"o\")\n",
        "plt.plot(predicted, \".\")\n",
        "plt.show()\n"
      ],
      "execution_count": 28,
      "outputs": [
        {
          "output_type": "stream",
          "name": "stdout",
          "text": [
            "Model: \"sequential_6\"\n",
            "_________________________________________________________________\n",
            "Layer (type)                 Output Shape              Param #   \n",
            "=================================================================\n",
            "dense_18 (Dense)             (None, 10)                610       \n",
            "_________________________________________________________________\n",
            "dense_19 (Dense)             (None, 10)                110       \n",
            "_________________________________________________________________\n",
            "dense_20 (Dense)             (None, 1)                 11        \n",
            "=================================================================\n",
            "Total params: 731\n",
            "Trainable params: 731\n",
            "Non-trainable params: 0\n",
            "_________________________________________________________________\n",
            "Epoch 1/100\n",
            "5/5 [==============================] - 1s 96ms/step - loss: 0.6764 - acc: 0.5530 - auc: 0.6940 - precision: 0.5462 - recall: 1.0000 - val_loss: 0.6266 - val_acc: 0.6667 - val_auc: 0.6880 - val_precision: 0.6667 - val_recall: 1.0000\n",
            "Epoch 2/100\n",
            "5/5 [==============================] - 0s 9ms/step - loss: 0.6710 - acc: 0.5606 - auc: 0.6988 - precision: 0.5504 - recall: 1.0000 - val_loss: 0.6289 - val_acc: 0.6667 - val_auc: 0.6901 - val_precision: 0.6774 - val_recall: 0.9545\n",
            "Epoch 3/100\n",
            "5/5 [==============================] - 0s 9ms/step - loss: 0.6662 - acc: 0.5758 - auc: 0.7221 - precision: 0.5591 - recall: 1.0000 - val_loss: 0.6265 - val_acc: 0.6667 - val_auc: 0.7211 - val_precision: 0.6774 - val_recall: 0.9545\n",
            "Epoch 4/100\n",
            "5/5 [==============================] - 0s 9ms/step - loss: 0.6631 - acc: 0.5758 - auc: 0.7318 - precision: 0.5591 - recall: 1.0000 - val_loss: 0.6233 - val_acc: 0.6667 - val_auc: 0.7397 - val_precision: 0.6774 - val_recall: 0.9545\n",
            "Epoch 5/100\n",
            "5/5 [==============================] - 0s 9ms/step - loss: 0.6605 - acc: 0.5758 - auc: 0.7369 - precision: 0.5591 - recall: 1.0000 - val_loss: 0.6236 - val_acc: 0.6364 - val_auc: 0.7459 - val_precision: 0.6667 - val_recall: 0.9091\n",
            "Epoch 6/100\n",
            "5/5 [==============================] - 0s 9ms/step - loss: 0.6572 - acc: 0.5682 - auc: 0.7438 - precision: 0.5574 - recall: 0.9577 - val_loss: 0.6250 - val_acc: 0.6364 - val_auc: 0.7562 - val_precision: 0.6667 - val_recall: 0.9091\n",
            "Epoch 7/100\n",
            "5/5 [==============================] - 0s 9ms/step - loss: 0.6549 - acc: 0.5985 - auc: 0.7449 - precision: 0.5789 - recall: 0.9296 - val_loss: 0.6254 - val_acc: 0.6364 - val_auc: 0.7624 - val_precision: 0.6667 - val_recall: 0.9091\n",
            "Epoch 8/100\n",
            "5/5 [==============================] - 0s 9ms/step - loss: 0.6526 - acc: 0.6212 - auc: 0.7486 - precision: 0.6000 - recall: 0.8873 - val_loss: 0.6246 - val_acc: 0.6364 - val_auc: 0.7748 - val_precision: 0.6667 - val_recall: 0.9091\n",
            "Epoch 9/100\n",
            "5/5 [==============================] - 0s 9ms/step - loss: 0.6503 - acc: 0.6212 - auc: 0.7494 - precision: 0.6019 - recall: 0.8732 - val_loss: 0.6210 - val_acc: 0.6970 - val_auc: 0.7789 - val_precision: 0.7143 - val_recall: 0.9091\n",
            "Epoch 10/100\n",
            "5/5 [==============================] - 0s 9ms/step - loss: 0.6466 - acc: 0.6136 - auc: 0.7577 - precision: 0.5962 - recall: 0.8732 - val_loss: 0.6145 - val_acc: 0.6364 - val_auc: 0.7789 - val_precision: 0.6667 - val_recall: 0.9091\n",
            "Epoch 11/100\n",
            "5/5 [==============================] - 0s 10ms/step - loss: 0.6443 - acc: 0.6136 - auc: 0.7628 - precision: 0.5893 - recall: 0.9296 - val_loss: 0.6079 - val_acc: 0.6364 - val_auc: 0.7727 - val_precision: 0.6667 - val_recall: 0.9091\n",
            "Epoch 12/100\n",
            "5/5 [==============================] - 0s 9ms/step - loss: 0.6406 - acc: 0.6212 - auc: 0.7755 - precision: 0.5897 - recall: 0.9718 - val_loss: 0.6014 - val_acc: 0.6364 - val_auc: 0.7789 - val_precision: 0.6667 - val_recall: 0.9091\n",
            "Epoch 13/100\n",
            "5/5 [==============================] - 0s 9ms/step - loss: 0.6402 - acc: 0.6061 - auc: 0.7792 - precision: 0.5772 - recall: 1.0000 - val_loss: 0.5946 - val_acc: 0.6667 - val_auc: 0.7810 - val_precision: 0.6774 - val_recall: 0.9545\n",
            "Epoch 14/100\n",
            "5/5 [==============================] - 0s 12ms/step - loss: 0.6387 - acc: 0.5909 - auc: 0.7872 - precision: 0.5680 - recall: 1.0000 - val_loss: 0.5898 - val_acc: 0.6667 - val_auc: 0.7913 - val_precision: 0.6774 - val_recall: 0.9545\n",
            "Epoch 15/100\n",
            "5/5 [==============================] - 0s 9ms/step - loss: 0.6364 - acc: 0.5909 - auc: 0.7893 - precision: 0.5680 - recall: 1.0000 - val_loss: 0.5872 - val_acc: 0.6667 - val_auc: 0.7955 - val_precision: 0.6774 - val_recall: 0.9545\n",
            "Epoch 16/100\n",
            "5/5 [==============================] - 0s 11ms/step - loss: 0.6313 - acc: 0.6212 - auc: 0.7965 - precision: 0.5868 - recall: 1.0000 - val_loss: 0.5864 - val_acc: 0.6667 - val_auc: 0.7934 - val_precision: 0.6774 - val_recall: 0.9545\n",
            "Epoch 17/100\n",
            "5/5 [==============================] - 0s 11ms/step - loss: 0.6253 - acc: 0.6364 - auc: 0.8051 - precision: 0.5966 - recall: 1.0000 - val_loss: 0.5869 - val_acc: 0.6667 - val_auc: 0.7913 - val_precision: 0.6897 - val_recall: 0.9091\n",
            "Epoch 18/100\n",
            "5/5 [==============================] - 0s 9ms/step - loss: 0.6194 - acc: 0.6591 - auc: 0.8067 - precision: 0.6161 - recall: 0.9718 - val_loss: 0.5911 - val_acc: 0.6970 - val_auc: 0.7975 - val_precision: 0.7143 - val_recall: 0.9091\n",
            "Epoch 19/100\n",
            "5/5 [==============================] - 0s 9ms/step - loss: 0.6144 - acc: 0.6742 - auc: 0.8139 - precision: 0.6346 - recall: 0.9296 - val_loss: 0.5884 - val_acc: 0.7273 - val_auc: 0.8058 - val_precision: 0.7407 - val_recall: 0.9091\n",
            "Epoch 20/100\n",
            "5/5 [==============================] - 0s 13ms/step - loss: 0.6104 - acc: 0.6894 - auc: 0.8229 - precision: 0.6442 - recall: 0.9437 - val_loss: 0.5878 - val_acc: 0.7576 - val_auc: 0.8099 - val_precision: 0.7692 - val_recall: 0.9091\n",
            "Epoch 21/100\n",
            "5/5 [==============================] - 0s 9ms/step - loss: 0.6058 - acc: 0.6894 - auc: 0.8248 - precision: 0.6415 - recall: 0.9577 - val_loss: 0.5827 - val_acc: 0.7576 - val_auc: 0.8140 - val_precision: 0.7692 - val_recall: 0.9091\n",
            "Epoch 22/100\n",
            "5/5 [==============================] - 0s 9ms/step - loss: 0.6016 - acc: 0.6970 - auc: 0.8362 - precision: 0.6505 - recall: 0.9437 - val_loss: 0.5899 - val_acc: 0.7576 - val_auc: 0.8140 - val_precision: 0.7692 - val_recall: 0.9091\n",
            "Epoch 23/100\n",
            "5/5 [==============================] - 0s 9ms/step - loss: 0.5993 - acc: 0.7121 - auc: 0.8383 - precision: 0.6737 - recall: 0.9014 - val_loss: 0.5939 - val_acc: 0.7879 - val_auc: 0.8161 - val_precision: 0.8000 - val_recall: 0.9091\n",
            "Epoch 24/100\n",
            "5/5 [==============================] - 0s 10ms/step - loss: 0.5964 - acc: 0.7273 - auc: 0.8445 - precision: 0.6966 - recall: 0.8732 - val_loss: 0.5929 - val_acc: 0.7576 - val_auc: 0.8120 - val_precision: 0.7917 - val_recall: 0.8636\n",
            "Epoch 25/100\n",
            "5/5 [==============================] - 0s 10ms/step - loss: 0.5926 - acc: 0.7273 - auc: 0.8515 - precision: 0.6966 - recall: 0.8732 - val_loss: 0.5862 - val_acc: 0.7576 - val_auc: 0.8182 - val_precision: 0.7692 - val_recall: 0.9091\n",
            "Epoch 26/100\n",
            "5/5 [==============================] - 0s 10ms/step - loss: 0.5875 - acc: 0.7348 - auc: 0.8562 - precision: 0.6875 - recall: 0.9296 - val_loss: 0.5732 - val_acc: 0.7576 - val_auc: 0.8285 - val_precision: 0.7692 - val_recall: 0.9091\n",
            "Epoch 27/100\n",
            "5/5 [==============================] - 0s 10ms/step - loss: 0.5834 - acc: 0.7273 - auc: 0.8642 - precision: 0.6667 - recall: 0.9859 - val_loss: 0.5604 - val_acc: 0.7273 - val_auc: 0.8326 - val_precision: 0.7407 - val_recall: 0.9091\n",
            "Epoch 28/100\n",
            "5/5 [==============================] - 0s 11ms/step - loss: 0.5826 - acc: 0.7045 - auc: 0.8660 - precision: 0.6455 - recall: 1.0000 - val_loss: 0.5519 - val_acc: 0.7576 - val_auc: 0.8347 - val_precision: 0.7500 - val_recall: 0.9545\n",
            "Epoch 29/100\n",
            "5/5 [==============================] - 0s 9ms/step - loss: 0.5785 - acc: 0.7045 - auc: 0.8713 - precision: 0.6455 - recall: 1.0000 - val_loss: 0.5521 - val_acc: 0.7273 - val_auc: 0.8388 - val_precision: 0.7407 - val_recall: 0.9091\n",
            "Epoch 30/100\n",
            "5/5 [==============================] - 0s 9ms/step - loss: 0.5737 - acc: 0.7121 - auc: 0.8781 - precision: 0.6514 - recall: 1.0000 - val_loss: 0.5484 - val_acc: 0.7576 - val_auc: 0.8450 - val_precision: 0.7500 - val_recall: 0.9545\n",
            "Epoch 31/100\n",
            "5/5 [==============================] - 0s 9ms/step - loss: 0.5710 - acc: 0.7121 - auc: 0.8820 - precision: 0.6514 - recall: 1.0000 - val_loss: 0.5461 - val_acc: 0.7576 - val_auc: 0.8492 - val_precision: 0.7500 - val_recall: 0.9545\n",
            "Epoch 32/100\n",
            "5/5 [==============================] - 0s 9ms/step - loss: 0.5655 - acc: 0.7197 - auc: 0.8855 - precision: 0.6574 - recall: 1.0000 - val_loss: 0.5509 - val_acc: 0.7576 - val_auc: 0.8533 - val_precision: 0.7692 - val_recall: 0.9091\n",
            "Epoch 33/100\n",
            "5/5 [==============================] - 0s 9ms/step - loss: 0.5605 - acc: 0.7273 - auc: 0.8855 - precision: 0.6699 - recall: 0.9718 - val_loss: 0.5526 - val_acc: 0.7576 - val_auc: 0.8554 - val_precision: 0.7692 - val_recall: 0.9091\n",
            "Epoch 34/100\n",
            "5/5 [==============================] - 0s 9ms/step - loss: 0.5570 - acc: 0.7500 - auc: 0.8864 - precision: 0.6900 - recall: 0.9718 - val_loss: 0.5538 - val_acc: 0.7576 - val_auc: 0.8533 - val_precision: 0.7692 - val_recall: 0.9091\n",
            "Epoch 35/100\n",
            "5/5 [==============================] - 0s 10ms/step - loss: 0.5524 - acc: 0.7576 - auc: 0.8895 - precision: 0.7053 - recall: 0.9437 - val_loss: 0.5497 - val_acc: 0.7576 - val_auc: 0.8595 - val_precision: 0.7692 - val_recall: 0.9091\n",
            "Epoch 36/100\n",
            "5/5 [==============================] - 0s 11ms/step - loss: 0.5499 - acc: 0.7348 - auc: 0.8870 - precision: 0.6800 - recall: 0.9577 - val_loss: 0.5412 - val_acc: 0.7576 - val_auc: 0.8616 - val_precision: 0.7692 - val_recall: 0.9091\n",
            "Epoch 37/100\n",
            "5/5 [==============================] - 0s 9ms/step - loss: 0.5441 - acc: 0.7652 - auc: 0.8958 - precision: 0.7041 - recall: 0.9718 - val_loss: 0.5448 - val_acc: 0.7576 - val_auc: 0.8595 - val_precision: 0.7692 - val_recall: 0.9091\n",
            "Epoch 38/100\n",
            "5/5 [==============================] - 0s 10ms/step - loss: 0.5414 - acc: 0.7803 - auc: 0.8944 - precision: 0.7283 - recall: 0.9437 - val_loss: 0.5453 - val_acc: 0.7576 - val_auc: 0.8554 - val_precision: 0.7692 - val_recall: 0.9091\n",
            "Epoch 39/100\n",
            "5/5 [==============================] - 0s 14ms/step - loss: 0.5371 - acc: 0.7803 - auc: 0.8981 - precision: 0.7234 - recall: 0.9577 - val_loss: 0.5359 - val_acc: 0.7576 - val_auc: 0.8595 - val_precision: 0.7692 - val_recall: 0.9091\n",
            "Epoch 40/100\n",
            "5/5 [==============================] - 0s 10ms/step - loss: 0.5327 - acc: 0.7803 - auc: 0.9001 - precision: 0.7188 - recall: 0.9718 - val_loss: 0.5290 - val_acc: 0.7879 - val_auc: 0.8616 - val_precision: 0.7778 - val_recall: 0.9545\n",
            "Epoch 41/100\n",
            "5/5 [==============================] - 0s 9ms/step - loss: 0.5307 - acc: 0.7500 - auc: 0.9024 - precision: 0.6900 - recall: 0.9718 - val_loss: 0.5272 - val_acc: 0.7879 - val_auc: 0.8595 - val_precision: 0.7778 - val_recall: 0.9545\n",
            "Epoch 42/100\n",
            "5/5 [==============================] - 0s 10ms/step - loss: 0.5251 - acc: 0.7803 - auc: 0.9066 - precision: 0.7234 - recall: 0.9577 - val_loss: 0.5417 - val_acc: 0.7576 - val_auc: 0.8574 - val_precision: 0.7692 - val_recall: 0.9091\n",
            "Epoch 43/100\n",
            "5/5 [==============================] - 0s 9ms/step - loss: 0.5202 - acc: 0.8106 - auc: 0.9120 - precision: 0.7738 - recall: 0.9155 - val_loss: 0.5543 - val_acc: 0.8182 - val_auc: 0.8450 - val_precision: 0.8333 - val_recall: 0.9091\n",
            "Epoch 44/100\n",
            "5/5 [==============================] - 0s 9ms/step - loss: 0.5195 - acc: 0.8258 - auc: 0.9096 - precision: 0.8000 - recall: 0.9014 - val_loss: 0.5601 - val_acc: 0.8182 - val_auc: 0.8492 - val_precision: 0.8333 - val_recall: 0.9091\n",
            "Epoch 45/100\n",
            "5/5 [==============================] - 0s 9ms/step - loss: 0.5175 - acc: 0.8485 - auc: 0.9115 - precision: 0.8493 - recall: 0.8732 - val_loss: 0.5711 - val_acc: 0.8485 - val_auc: 0.8471 - val_precision: 0.9048 - val_recall: 0.8636\n",
            "Epoch 46/100\n",
            "5/5 [==============================] - 0s 10ms/step - loss: 0.5168 - acc: 0.8561 - auc: 0.9131 - precision: 0.8611 - recall: 0.8732 - val_loss: 0.5651 - val_acc: 0.8182 - val_auc: 0.8512 - val_precision: 0.8636 - val_recall: 0.8636\n",
            "Epoch 47/100\n",
            "5/5 [==============================] - 0s 10ms/step - loss: 0.5090 - acc: 0.8636 - auc: 0.9170 - precision: 0.8533 - recall: 0.9014 - val_loss: 0.5402 - val_acc: 0.8182 - val_auc: 0.8595 - val_precision: 0.8333 - val_recall: 0.9091\n",
            "Epoch 48/100\n",
            "5/5 [==============================] - 0s 10ms/step - loss: 0.5027 - acc: 0.8258 - auc: 0.9203 - precision: 0.7857 - recall: 0.9296 - val_loss: 0.5229 - val_acc: 0.7879 - val_auc: 0.8657 - val_precision: 0.7778 - val_recall: 0.9545\n",
            "Epoch 49/100\n",
            "5/5 [==============================] - 0s 10ms/step - loss: 0.5001 - acc: 0.8106 - auc: 0.9206 - precision: 0.7614 - recall: 0.9437 - val_loss: 0.5157 - val_acc: 0.7879 - val_auc: 0.8678 - val_precision: 0.7778 - val_recall: 0.9545\n",
            "Epoch 50/100\n",
            "5/5 [==============================] - 0s 10ms/step - loss: 0.4984 - acc: 0.7879 - auc: 0.9188 - precision: 0.7363 - recall: 0.9437 - val_loss: 0.5109 - val_acc: 0.7879 - val_auc: 0.8657 - val_precision: 0.7778 - val_recall: 0.9545\n",
            "Epoch 51/100\n",
            "5/5 [==============================] - 0s 10ms/step - loss: 0.4935 - acc: 0.7803 - auc: 0.9220 - precision: 0.7283 - recall: 0.9437 - val_loss: 0.5102 - val_acc: 0.7879 - val_auc: 0.8698 - val_precision: 0.7778 - val_recall: 0.9545\n",
            "Epoch 52/100\n",
            "5/5 [==============================] - 0s 11ms/step - loss: 0.4894 - acc: 0.8030 - auc: 0.9207 - precision: 0.7586 - recall: 0.9296 - val_loss: 0.5112 - val_acc: 0.7879 - val_auc: 0.8657 - val_precision: 0.7778 - val_recall: 0.9545\n",
            "Epoch 53/100\n",
            "5/5 [==============================] - 0s 10ms/step - loss: 0.4851 - acc: 0.8106 - auc: 0.9201 - precision: 0.7674 - recall: 0.9296 - val_loss: 0.5163 - val_acc: 0.8182 - val_auc: 0.8678 - val_precision: 0.8077 - val_recall: 0.9545\n",
            "Epoch 54/100\n",
            "5/5 [==============================] - 0s 9ms/step - loss: 0.4811 - acc: 0.8258 - auc: 0.9191 - precision: 0.7857 - recall: 0.9296 - val_loss: 0.5160 - val_acc: 0.8182 - val_auc: 0.8595 - val_precision: 0.8333 - val_recall: 0.9091\n",
            "Epoch 55/100\n",
            "5/5 [==============================] - 0s 14ms/step - loss: 0.4774 - acc: 0.8409 - auc: 0.9205 - precision: 0.8125 - recall: 0.9155 - val_loss: 0.5212 - val_acc: 0.8182 - val_auc: 0.8636 - val_precision: 0.8333 - val_recall: 0.9091\n",
            "Epoch 56/100\n",
            "5/5 [==============================] - 0s 9ms/step - loss: 0.4748 - acc: 0.8561 - auc: 0.9199 - precision: 0.8421 - recall: 0.9014 - val_loss: 0.5231 - val_acc: 0.8182 - val_auc: 0.8595 - val_precision: 0.8333 - val_recall: 0.9091\n",
            "Epoch 57/100\n",
            "5/5 [==============================] - 0s 9ms/step - loss: 0.4721 - acc: 0.8485 - auc: 0.9191 - precision: 0.8312 - recall: 0.9014 - val_loss: 0.5192 - val_acc: 0.8182 - val_auc: 0.8657 - val_precision: 0.8333 - val_recall: 0.9091\n",
            "Epoch 58/100\n",
            "5/5 [==============================] - 0s 10ms/step - loss: 0.4683 - acc: 0.8636 - auc: 0.9220 - precision: 0.8533 - recall: 0.9014 - val_loss: 0.5268 - val_acc: 0.7879 - val_auc: 0.8636 - val_precision: 0.8261 - val_recall: 0.8636\n",
            "Epoch 59/100\n",
            "5/5 [==============================] - 0s 11ms/step - loss: 0.4684 - acc: 0.8636 - auc: 0.9209 - precision: 0.8630 - recall: 0.8873 - val_loss: 0.5369 - val_acc: 0.8182 - val_auc: 0.8636 - val_precision: 0.8636 - val_recall: 0.8636\n",
            "Epoch 60/100\n",
            "5/5 [==============================] - 0s 9ms/step - loss: 0.4646 - acc: 0.8561 - auc: 0.9215 - precision: 0.8611 - recall: 0.8732 - val_loss: 0.5225 - val_acc: 0.7879 - val_auc: 0.8657 - val_precision: 0.8261 - val_recall: 0.8636\n",
            "Epoch 61/100\n",
            "5/5 [==============================] - 0s 9ms/step - loss: 0.4562 - acc: 0.8712 - auc: 0.9247 - precision: 0.8649 - recall: 0.9014 - val_loss: 0.5051 - val_acc: 0.7879 - val_auc: 0.8740 - val_precision: 0.8261 - val_recall: 0.8636\n",
            "Epoch 62/100\n",
            "5/5 [==============================] - 0s 10ms/step - loss: 0.4535 - acc: 0.8561 - auc: 0.9233 - precision: 0.8421 - recall: 0.9014 - val_loss: 0.5004 - val_acc: 0.8182 - val_auc: 0.8740 - val_precision: 0.8333 - val_recall: 0.9091\n",
            "Epoch 63/100\n",
            "5/5 [==============================] - 0s 10ms/step - loss: 0.4501 - acc: 0.8636 - auc: 0.9240 - precision: 0.8442 - recall: 0.9155 - val_loss: 0.5048 - val_acc: 0.7879 - val_auc: 0.8698 - val_precision: 0.8261 - val_recall: 0.8636\n",
            "Epoch 64/100\n",
            "5/5 [==============================] - 0s 10ms/step - loss: 0.4491 - acc: 0.8712 - auc: 0.9222 - precision: 0.8649 - recall: 0.9014 - val_loss: 0.5163 - val_acc: 0.7879 - val_auc: 0.8636 - val_precision: 0.8261 - val_recall: 0.8636\n",
            "Epoch 65/100\n",
            "5/5 [==============================] - 0s 10ms/step - loss: 0.4452 - acc: 0.8636 - auc: 0.9245 - precision: 0.8630 - recall: 0.8873 - val_loss: 0.4974 - val_acc: 0.8182 - val_auc: 0.8678 - val_precision: 0.8333 - val_recall: 0.9091\n",
            "Epoch 66/100\n",
            "5/5 [==============================] - 0s 10ms/step - loss: 0.4395 - acc: 0.8485 - auc: 0.9289 - precision: 0.8228 - recall: 0.9155 - val_loss: 0.4738 - val_acc: 0.7879 - val_auc: 0.8781 - val_precision: 0.7778 - val_recall: 0.9545\n",
            "Epoch 67/100\n",
            "5/5 [==============================] - 0s 10ms/step - loss: 0.4444 - acc: 0.8030 - auc: 0.9255 - precision: 0.7473 - recall: 0.9577 - val_loss: 0.4616 - val_acc: 0.7576 - val_auc: 0.8864 - val_precision: 0.7500 - val_recall: 0.9545\n",
            "Epoch 68/100\n",
            "5/5 [==============================] - 0s 9ms/step - loss: 0.4448 - acc: 0.7879 - auc: 0.9259 - precision: 0.7312 - recall: 0.9577 - val_loss: 0.4619 - val_acc: 0.7879 - val_auc: 0.8822 - val_precision: 0.7778 - val_recall: 0.9545\n",
            "Epoch 69/100\n",
            "5/5 [==============================] - 0s 9ms/step - loss: 0.4368 - acc: 0.8106 - auc: 0.9250 - precision: 0.7674 - recall: 0.9296 - val_loss: 0.4753 - val_acc: 0.7879 - val_auc: 0.8760 - val_precision: 0.7778 - val_recall: 0.9545\n",
            "Epoch 70/100\n",
            "5/5 [==============================] - 0s 9ms/step - loss: 0.4327 - acc: 0.8485 - auc: 0.9242 - precision: 0.8312 - recall: 0.9014 - val_loss: 0.4990 - val_acc: 0.7879 - val_auc: 0.8616 - val_precision: 0.8261 - val_recall: 0.8636\n",
            "Epoch 71/100\n",
            "5/5 [==============================] - 0s 9ms/step - loss: 0.4286 - acc: 0.8712 - auc: 0.9250 - precision: 0.8649 - recall: 0.9014 - val_loss: 0.4970 - val_acc: 0.7879 - val_auc: 0.8616 - val_precision: 0.8261 - val_recall: 0.8636\n",
            "Epoch 72/100\n",
            "5/5 [==============================] - 0s 10ms/step - loss: 0.4264 - acc: 0.8712 - auc: 0.9252 - precision: 0.8649 - recall: 0.9014 - val_loss: 0.4991 - val_acc: 0.7879 - val_auc: 0.8616 - val_precision: 0.8261 - val_recall: 0.8636\n",
            "Epoch 73/100\n",
            "5/5 [==============================] - 0s 10ms/step - loss: 0.4240 - acc: 0.8636 - auc: 0.9255 - precision: 0.8630 - recall: 0.8873 - val_loss: 0.4995 - val_acc: 0.7879 - val_auc: 0.8636 - val_precision: 0.8261 - val_recall: 0.8636\n",
            "Epoch 74/100\n",
            "5/5 [==============================] - 0s 13ms/step - loss: 0.4221 - acc: 0.8636 - auc: 0.9253 - precision: 0.8630 - recall: 0.8873 - val_loss: 0.4993 - val_acc: 0.7879 - val_auc: 0.8616 - val_precision: 0.8261 - val_recall: 0.8636\n",
            "Epoch 75/100\n",
            "5/5 [==============================] - 0s 10ms/step - loss: 0.4198 - acc: 0.8712 - auc: 0.9247 - precision: 0.8750 - recall: 0.8873 - val_loss: 0.4893 - val_acc: 0.7879 - val_auc: 0.8657 - val_precision: 0.8261 - val_recall: 0.8636\n",
            "Epoch 76/100\n",
            "5/5 [==============================] - 0s 10ms/step - loss: 0.4133 - acc: 0.8636 - auc: 0.9265 - precision: 0.8630 - recall: 0.8873 - val_loss: 0.4678 - val_acc: 0.8182 - val_auc: 0.8678 - val_precision: 0.8333 - val_recall: 0.9091\n",
            "Epoch 77/100\n",
            "5/5 [==============================] - 0s 9ms/step - loss: 0.4177 - acc: 0.8409 - auc: 0.9236 - precision: 0.8125 - recall: 0.9155 - val_loss: 0.4528 - val_acc: 0.7879 - val_auc: 0.8698 - val_precision: 0.7778 - val_recall: 0.9545\n",
            "Epoch 78/100\n",
            "5/5 [==============================] - 0s 10ms/step - loss: 0.4137 - acc: 0.8333 - auc: 0.9257 - precision: 0.7952 - recall: 0.9296 - val_loss: 0.4555 - val_acc: 0.7879 - val_auc: 0.8740 - val_precision: 0.8000 - val_recall: 0.9091\n",
            "Epoch 79/100\n",
            "5/5 [==============================] - 0s 9ms/step - loss: 0.4089 - acc: 0.8485 - auc: 0.9259 - precision: 0.8228 - recall: 0.9155 - val_loss: 0.4637 - val_acc: 0.8182 - val_auc: 0.8678 - val_precision: 0.8333 - val_recall: 0.9091\n",
            "Epoch 80/100\n",
            "5/5 [==============================] - 0s 10ms/step - loss: 0.4048 - acc: 0.8636 - auc: 0.9270 - precision: 0.8442 - recall: 0.9155 - val_loss: 0.4808 - val_acc: 0.8182 - val_auc: 0.8636 - val_precision: 0.8333 - val_recall: 0.9091\n",
            "Epoch 81/100\n",
            "5/5 [==============================] - 0s 10ms/step - loss: 0.4053 - acc: 0.8636 - auc: 0.9272 - precision: 0.8841 - recall: 0.8592 - val_loss: 0.5231 - val_acc: 0.7879 - val_auc: 0.8636 - val_precision: 0.9412 - val_recall: 0.7273\n",
            "Epoch 82/100\n",
            "5/5 [==============================] - 0s 10ms/step - loss: 0.4165 - acc: 0.8333 - auc: 0.9245 - precision: 0.9016 - recall: 0.7746 - val_loss: 0.5297 - val_acc: 0.7879 - val_auc: 0.8595 - val_precision: 0.9412 - val_recall: 0.7273\n",
            "Epoch 83/100\n",
            "5/5 [==============================] - 0s 9ms/step - loss: 0.4136 - acc: 0.8333 - auc: 0.9246 - precision: 0.9016 - recall: 0.7746 - val_loss: 0.4974 - val_acc: 0.8485 - val_auc: 0.8616 - val_precision: 0.9048 - val_recall: 0.8636\n",
            "Epoch 84/100\n",
            "5/5 [==============================] - 0s 10ms/step - loss: 0.4032 - acc: 0.8561 - auc: 0.9230 - precision: 0.8611 - recall: 0.8732 - val_loss: 0.4578 - val_acc: 0.8182 - val_auc: 0.8678 - val_precision: 0.8333 - val_recall: 0.9091\n",
            "Epoch 85/100\n",
            "5/5 [==============================] - 0s 10ms/step - loss: 0.3981 - acc: 0.8636 - auc: 0.9255 - precision: 0.8442 - recall: 0.9155 - val_loss: 0.4488 - val_acc: 0.7879 - val_auc: 0.8781 - val_precision: 0.8000 - val_recall: 0.9091\n",
            "Epoch 86/100\n",
            "5/5 [==============================] - 0s 10ms/step - loss: 0.3980 - acc: 0.8636 - auc: 0.9261 - precision: 0.8442 - recall: 0.9155 - val_loss: 0.4447 - val_acc: 0.7879 - val_auc: 0.8760 - val_precision: 0.8000 - val_recall: 0.9091\n",
            "Epoch 87/100\n",
            "5/5 [==============================] - 0s 10ms/step - loss: 0.3937 - acc: 0.8636 - auc: 0.9274 - precision: 0.8442 - recall: 0.9155 - val_loss: 0.4604 - val_acc: 0.8182 - val_auc: 0.8760 - val_precision: 0.8333 - val_recall: 0.9091\n",
            "Epoch 88/100\n",
            "5/5 [==============================] - 0s 9ms/step - loss: 0.3922 - acc: 0.8712 - auc: 0.9280 - precision: 0.8750 - recall: 0.8873 - val_loss: 0.4819 - val_acc: 0.8485 - val_auc: 0.8698 - val_precision: 0.9048 - val_recall: 0.8636\n",
            "Epoch 89/100\n",
            "5/5 [==============================] - 0s 10ms/step - loss: 0.3950 - acc: 0.8561 - auc: 0.9260 - precision: 0.8714 - recall: 0.8592 - val_loss: 0.4875 - val_acc: 0.8485 - val_auc: 0.8740 - val_precision: 0.9048 - val_recall: 0.8636\n",
            "Epoch 90/100\n",
            "5/5 [==============================] - 0s 10ms/step - loss: 0.3931 - acc: 0.8636 - auc: 0.9275 - precision: 0.8841 - recall: 0.8592 - val_loss: 0.4741 - val_acc: 0.8788 - val_auc: 0.8740 - val_precision: 0.9091 - val_recall: 0.9091\n",
            "Epoch 91/100\n",
            "5/5 [==============================] - 0s 10ms/step - loss: 0.3896 - acc: 0.8561 - auc: 0.9275 - precision: 0.8714 - recall: 0.8592 - val_loss: 0.4488 - val_acc: 0.8182 - val_auc: 0.8802 - val_precision: 0.8333 - val_recall: 0.9091\n",
            "Epoch 92/100\n",
            "5/5 [==============================] - 0s 10ms/step - loss: 0.3881 - acc: 0.8712 - auc: 0.9275 - precision: 0.8553 - recall: 0.9155 - val_loss: 0.4395 - val_acc: 0.7879 - val_auc: 0.8822 - val_precision: 0.8000 - val_recall: 0.9091\n",
            "Epoch 93/100\n",
            "5/5 [==============================] - 0s 10ms/step - loss: 0.3866 - acc: 0.8788 - auc: 0.9275 - precision: 0.8667 - recall: 0.9155 - val_loss: 0.4555 - val_acc: 0.8182 - val_auc: 0.8781 - val_precision: 0.8333 - val_recall: 0.9091\n",
            "Epoch 94/100\n",
            "5/5 [==============================] - 0s 9ms/step - loss: 0.3828 - acc: 0.8712 - auc: 0.9287 - precision: 0.8750 - recall: 0.8873 - val_loss: 0.4622 - val_acc: 0.8182 - val_auc: 0.8781 - val_precision: 0.8333 - val_recall: 0.9091\n",
            "Epoch 95/100\n",
            "5/5 [==============================] - 0s 9ms/step - loss: 0.3823 - acc: 0.8636 - auc: 0.9287 - precision: 0.8732 - recall: 0.8732 - val_loss: 0.4572 - val_acc: 0.8182 - val_auc: 0.8760 - val_precision: 0.8333 - val_recall: 0.9091\n",
            "Epoch 96/100\n",
            "5/5 [==============================] - 0s 10ms/step - loss: 0.3815 - acc: 0.8636 - auc: 0.9270 - precision: 0.8630 - recall: 0.8873 - val_loss: 0.4454 - val_acc: 0.8182 - val_auc: 0.8781 - val_precision: 0.8333 - val_recall: 0.9091\n",
            "Epoch 97/100\n",
            "5/5 [==============================] - 0s 10ms/step - loss: 0.3789 - acc: 0.8788 - auc: 0.9283 - precision: 0.8667 - recall: 0.9155 - val_loss: 0.4552 - val_acc: 0.8182 - val_auc: 0.8781 - val_precision: 0.8333 - val_recall: 0.9091\n",
            "Epoch 98/100\n",
            "5/5 [==============================] - 0s 9ms/step - loss: 0.3771 - acc: 0.8788 - auc: 0.9287 - precision: 0.8767 - recall: 0.9014 - val_loss: 0.4487 - val_acc: 0.8182 - val_auc: 0.8760 - val_precision: 0.8333 - val_recall: 0.9091\n",
            "Epoch 99/100\n",
            "5/5 [==============================] - 0s 10ms/step - loss: 0.3754 - acc: 0.8712 - auc: 0.9278 - precision: 0.8750 - recall: 0.8873 - val_loss: 0.4632 - val_acc: 0.8788 - val_auc: 0.8740 - val_precision: 0.9091 - val_recall: 0.9091\n",
            "Epoch 100/100\n",
            "5/5 [==============================] - 0s 10ms/step - loss: 0.3766 - acc: 0.8636 - auc: 0.9293 - precision: 0.8841 - recall: 0.8592 - val_loss: 0.4742 - val_acc: 0.8485 - val_auc: 0.8719 - val_precision: 0.9048 - val_recall: 0.8636\n"
          ]
        },
        {
          "output_type": "display_data",
          "data": {
            "image/png": "[encoded data removed]",
            "text/plain": [
              "<Figure size 432x288 with 1 Axes>"
            ]
          },
          "metadata": {
            "needs_background": "light"
          }
        },
        {
          "output_type": "stream",
          "name": "stdout",
          "text": [
            "2/2 [==============================] - 0s 5ms/step - loss: 0.6079 - acc: 0.6429 - auc: 0.7303 - precision: 0.5789 - recall: 0.6111\n",
            "loss= 0.6079331636428833\n",
            "acc= 0.6428571343421936\n",
            "auc= 0.7303240299224854\n",
            "precision= 0.5789473652839661\n",
            "recall= 0.6111111044883728\n",
            "WARNING:tensorflow:6 out of the last 13 calls to <function Model.make_predict_function.<locals>.predict_function at 0x7fcb802cba70> triggered tf.function retracing. Tracing is expensive and the excessive number of tracings could be due to (1) creating @tf.function repeatedly in a loop, (2) passing tensors with different shapes, (3) passing Python objects instead of tensors. For (1), please define your @tf.function outside of the loop. For (2), @tf.function has experimental_relax_shapes=True option that relaxes argument shapes that can avoid unnecessary retracing. For (3), please refer to https://www.tensorflow.org/guide/function#controlling_retracing and https://www.tensorflow.org/api_docs/python/tf/function for  more details.\n"
          ]
        },
        {
          "output_type": "display_data",
          "data": {
            "image/png": "[encoded data removed]",
            "text/plain": [
              "<Figure size 432x288 with 1 Axes>"
            ]
          },
          "metadata": {
            "needs_background": "light"
          }
        }
      ]
    },
    {
      "cell_type": "markdown",
      "metadata": {
        "id": "d4Jwyvmh47I2"
      },
      "source": [
        "# batch size 결정 방법\n",
        "\n",
        "model.fit() 호출 시 batch_size 파라매터로 설정한다.\n",
        "\n",
        "2의 지수승의 값으로 하나씩 증가하면서 1 step의 처리 시간이 증가하기 바로 전의 batch size 값을 찾아낸다."
      ]
    },
    {
      "cell_type": "code",
      "metadata": {
        "id": "C8KPvkNabRk8"
      },
      "source": [
        "import numpy as np\n",
        "import pandas as pd\n",
        "import matplotlib.pyplot as plt\n",
        "\n",
        "import tensorflow as tf\n",
        "\n",
        "from tensorflow import keras\n",
        "from tensorflow.keras import optimizers\n",
        "from tensorflow.keras.layers import Dense, Input, Flatten"
      ],
      "execution_count": 29,
      "outputs": []
    },
    {
      "cell_type": "code",
      "metadata": {
        "id": "kgdnXw0NbULv",
        "outputId": "9b6ff834-f152-4267-9871-5cf332aa0c4c",
        "colab": {
          "base_uri": "https://localhost:8080/"
        }
      },
      "source": [
        "(train_x, train_y), (test_x, test_y) = tf.keras.datasets.cifar100.load_data()"
      ],
      "execution_count": 30,
      "outputs": [
        {
          "output_type": "stream",
          "name": "stdout",
          "text": [
            "Downloading data from https://www.cs.toronto.edu/~kriz/cifar-100-python.tar.gz\n",
            "169009152/169001437 [==============================] - 4s 0us/step\n",
            "169017344/169001437 [==============================] - 4s 0us/step\n"
          ]
        }
      ]
    },
    {
      "cell_type": "code",
      "metadata": {
        "colab": {
          "base_uri": "https://localhost:8080/"
        },
        "id": "RkaJ3scwhvft",
        "outputId": "aeadf838-c3e2-43bd-83ed-7395f6663d89"
      },
      "source": [
        "print(train_x.shape)"
      ],
      "execution_count": 31,
      "outputs": [
        {
          "output_type": "stream",
          "name": "stdout",
          "text": [
            "(50000, 32, 32, 3)\n"
          ]
        }
      ]
    },
    {
      "cell_type": "code",
      "metadata": {
        "id": "XHusjyjqbaSj"
      },
      "source": [
        "# 모델 정의\n",
        "model = keras.Sequential()\n",
        "model.add(Input((32,32,3)))\n",
        "model.add(Flatten())\n",
        "model.add(Dense(1280, activation='relu'))\n",
        "model.add(Dense(32, activation='relu'))\n",
        "model.add(Dense(100, activation=\"softmax\"))\n",
        "\n",
        "\n",
        "# 모델 컴파일\n",
        "model.compile(optimizer=\"Adam\", loss=\"sparse_categorical_crossentropy\", metrics=[\"acc\"])"
      ],
      "execution_count": 32,
      "outputs": []
    },
    {
      "cell_type": "code",
      "metadata": {
        "colab": {
          "base_uri": "https://localhost:8080/"
        },
        "id": "4X4AZIE7c-Gw",
        "outputId": "903e2291-8ed6-4f05-9a56-52aec1d2a8b6"
      },
      "source": [
        "model.fit(train_x, train_y, epochs=3, batch_size=8, validation_split=0.2)"
      ],
      "execution_count": 33,
      "outputs": [
        {
          "output_type": "stream",
          "name": "stdout",
          "text": [
            "Epoch 1/3\n",
            "5000/5000 [==============================] - 14s 3ms/step - loss: 5.0961 - acc: 0.0089 - val_loss: 4.6073 - val_acc: 0.0085\n",
            "Epoch 2/3\n",
            "5000/5000 [==============================] - 12s 2ms/step - loss: 4.6063 - acc: 0.0083 - val_loss: 4.6075 - val_acc: 0.0087\n",
            "Epoch 3/3\n",
            "5000/5000 [==============================] - 12s 2ms/step - loss: 4.6064 - acc: 0.0091 - val_loss: 4.6079 - val_acc: 0.0077\n"
          ]
        },
        {
          "output_type": "execute_result",
          "data": {
            "text/plain": [
              "<keras.callbacks.History at 0x7fcb8205d910>"
            ]
          },
          "metadata": {},
          "execution_count": 33
        }
      ]
    },
    {
      "cell_type": "code",
      "metadata": {
        "colab": {
          "base_uri": "https://localhost:8080/"
        },
        "id": "F26ADeM5c8Ls",
        "outputId": "00d402a5-7edc-4fa7-d89e-076d483bea5e"
      },
      "source": [
        "model.fit(train_x, train_y, epochs=3, batch_size=16, validation_split=0.2)"
      ],
      "execution_count": 34,
      "outputs": [
        {
          "output_type": "stream",
          "name": "stdout",
          "text": [
            "Epoch 1/3\n",
            "2500/2500 [==============================] - 8s 3ms/step - loss: 4.6058 - acc: 0.0098 - val_loss: 4.6080 - val_acc: 0.0077\n",
            "Epoch 2/3\n",
            "2500/2500 [==============================] - 8s 3ms/step - loss: 4.6060 - acc: 0.0098 - val_loss: 4.6081 - val_acc: 0.0077\n",
            "Epoch 3/3\n",
            "2500/2500 [==============================] - 7s 3ms/step - loss: 4.6060 - acc: 0.0098 - val_loss: 4.6080 - val_acc: 0.0077\n"
          ]
        },
        {
          "output_type": "execute_result",
          "data": {
            "text/plain": [
              "<keras.callbacks.History at 0x7fcc0064bc50>"
            ]
          },
          "metadata": {},
          "execution_count": 34
        }
      ]
    },
    {
      "cell_type": "code",
      "metadata": {
        "colab": {
          "base_uri": "https://localhost:8080/"
        },
        "id": "XT3VnxQ7c8E3",
        "outputId": "9914afbc-86b8-44b6-e8a3-a9f767f6a926"
      },
      "source": [
        "model.fit(train_x, train_y, epochs=3, batch_size=32, validation_split=0.2)"
      ],
      "execution_count": 35,
      "outputs": [
        {
          "output_type": "stream",
          "name": "stdout",
          "text": [
            "Epoch 1/3\n",
            "1250/1250 [==============================] - 5s 4ms/step - loss: 4.6055 - acc: 0.0100 - val_loss: 4.6080 - val_acc: 0.0077\n",
            "Epoch 2/3\n",
            "1250/1250 [==============================] - 4s 4ms/step - loss: 4.6056 - acc: 0.0096 - val_loss: 4.6080 - val_acc: 0.0077\n",
            "Epoch 3/3\n",
            "1250/1250 [==============================] - 4s 4ms/step - loss: 4.6056 - acc: 0.0096 - val_loss: 4.6079 - val_acc: 0.0077\n"
          ]
        },
        {
          "output_type": "execute_result",
          "data": {
            "text/plain": [
              "<keras.callbacks.History at 0x7fcb83642a10>"
            ]
          },
          "metadata": {},
          "execution_count": 35
        }
      ]
    },
    {
      "cell_type": "code",
      "metadata": {
        "colab": {
          "base_uri": "https://localhost:8080/"
        },
        "id": "beCLN2Wzc7-a",
        "outputId": "2c2c40a0-4478-45e7-aba0-6d5053cf3ed0"
      },
      "source": [
        "model.fit(train_x, train_y, epochs=3, batch_size=64, validation_split=0.2)"
      ],
      "execution_count": 36,
      "outputs": [
        {
          "output_type": "stream",
          "name": "stdout",
          "text": [
            "Epoch 1/3\n",
            "625/625 [==============================] - 2s 4ms/step - loss: 4.6053 - acc: 0.0092 - val_loss: 4.6079 - val_acc: 0.0077\n",
            "Epoch 2/3\n",
            "625/625 [==============================] - 2s 4ms/step - loss: 4.6053 - acc: 0.0103 - val_loss: 4.6079 - val_acc: 0.0077\n",
            "Epoch 3/3\n",
            "625/625 [==============================] - 2s 4ms/step - loss: 4.6053 - acc: 0.0100 - val_loss: 4.6079 - val_acc: 0.0077\n"
          ]
        },
        {
          "output_type": "execute_result",
          "data": {
            "text/plain": [
              "<keras.callbacks.History at 0x7fcb83533e10>"
            ]
          },
          "metadata": {},
          "execution_count": 36
        }
      ]
    },
    {
      "cell_type": "code",
      "metadata": {
        "colab": {
          "base_uri": "https://localhost:8080/"
        },
        "id": "GQI6NEu4c74D",
        "outputId": "533ee00e-ac47-4401-f3c0-493e1cd7786d"
      },
      "source": [
        "model.fit(train_x, train_y, epochs=3, batch_size=128, validation_split=0.2)"
      ],
      "execution_count": 37,
      "outputs": [
        {
          "output_type": "stream",
          "name": "stdout",
          "text": [
            "Epoch 1/3\n",
            "313/313 [==============================] - 1s 4ms/step - loss: 4.6051 - acc: 0.0106 - val_loss: 4.6079 - val_acc: 0.0077\n",
            "Epoch 2/3\n",
            "313/313 [==============================] - 1s 4ms/step - loss: 4.6051 - acc: 0.0106 - val_loss: 4.6079 - val_acc: 0.0077\n",
            "Epoch 3/3\n",
            "313/313 [==============================] - 1s 4ms/step - loss: 4.6052 - acc: 0.0106 - val_loss: 4.6079 - val_acc: 0.0077\n"
          ]
        },
        {
          "output_type": "execute_result",
          "data": {
            "text/plain": [
              "<keras.callbacks.History at 0x7fcb80329990>"
            ]
          },
          "metadata": {},
          "execution_count": 37
        }
      ]
    },
    {
      "cell_type": "code",
      "metadata": {
        "colab": {
          "base_uri": "https://localhost:8080/"
        },
        "id": "hgsJgbFBc7ww",
        "outputId": "1e08b0d9-8231-4cf9-d2e4-20c785c4448d"
      },
      "source": [
        "model.fit(train_x, train_y, epochs=3, batch_size=256, validation_split=0.2)"
      ],
      "execution_count": 38,
      "outputs": [
        {
          "output_type": "stream",
          "name": "stdout",
          "text": [
            "Epoch 1/3\n",
            "157/157 [==============================] - 1s 6ms/step - loss: 4.6050 - acc: 0.0106 - val_loss: 4.6079 - val_acc: 0.0077\n",
            "Epoch 2/3\n",
            "157/157 [==============================] - 1s 5ms/step - loss: 4.6050 - acc: 0.0106 - val_loss: 4.6079 - val_acc: 0.0077\n",
            "Epoch 3/3\n",
            "157/157 [==============================] - 1s 5ms/step - loss: 4.6050 - acc: 0.0106 - val_loss: 4.6079 - val_acc: 0.0077\n"
          ]
        },
        {
          "output_type": "execute_result",
          "data": {
            "text/plain": [
              "<keras.callbacks.History at 0x7fcb835ecf50>"
            ]
          },
          "metadata": {},
          "execution_count": 38
        }
      ]
    },
    {
      "cell_type": "code",
      "metadata": {
        "colab": {
          "base_uri": "https://localhost:8080/"
        },
        "id": "u-uYbWSNnLAl",
        "outputId": "683f67d8-05ed-4ba2-aacd-4b67905dace8"
      },
      "source": [
        "model.fit(train_x, train_y, epochs=3, batch_size=512, validation_split=0.2)"
      ],
      "execution_count": 39,
      "outputs": [
        {
          "output_type": "stream",
          "name": "stdout",
          "text": [
            "Epoch 1/3\n",
            "79/79 [==============================] - 1s 7ms/step - loss: 4.6049 - acc: 0.0106 - val_loss: 4.6079 - val_acc: 0.0077\n",
            "Epoch 2/3\n",
            "79/79 [==============================] - 0s 6ms/step - loss: 4.6049 - acc: 0.0106 - val_loss: 4.6079 - val_acc: 0.0077\n",
            "Epoch 3/3\n",
            "79/79 [==============================] - 0s 5ms/step - loss: 4.6049 - acc: 0.0106 - val_loss: 4.6079 - val_acc: 0.0077\n"
          ]
        },
        {
          "output_type": "execute_result",
          "data": {
            "text/plain": [
              "<keras.callbacks.History at 0x7fcb82181410>"
            ]
          },
          "metadata": {},
          "execution_count": 39
        }
      ]
    },
    {
      "cell_type": "markdown",
      "metadata": {
        "id": "M3Dnupm-5EBv"
      },
      "source": [
        "# 기타 설정/방법"
      ]
    },
    {
      "cell_type": "markdown",
      "metadata": {
        "id": "PWkZXLXx5FhC"
      },
      "source": [
        "## verbose 설정"
      ]
    },
    {
      "cell_type": "code",
      "metadata": {
        "id": "-nHIQQSGocVu"
      },
      "source": [
        "import numpy as np\n",
        "import pandas as pd\n",
        "import matplotlib.pyplot as plt\n",
        "\n",
        "import tensorflow as tf\n",
        "\n",
        "from tensorflow import keras\n",
        "from tensorflow.keras import optimizers\n",
        "from tensorflow.keras.layers import Dense, Input, Flatten"
      ],
      "execution_count": 40,
      "outputs": []
    },
    {
      "cell_type": "code",
      "metadata": {
        "id": "3xMNk85SocVu",
        "outputId": "70a3f1e0-3f9a-4f3c-b53a-2c679e39a258",
        "colab": {
          "base_uri": "https://localhost:8080/"
        }
      },
      "source": [
        "(train_x, train_y), (test_x, test_y) = tf.keras.datasets.mnist.load_data()"
      ],
      "execution_count": 41,
      "outputs": [
        {
          "output_type": "stream",
          "name": "stdout",
          "text": [
            "Downloading data from https://storage.googleapis.com/tensorflow/tf-keras-datasets/mnist.npz\n",
            "11493376/11490434 [==============================] - 0s 0us/step\n",
            "11501568/11490434 [==============================] - 0s 0us/step\n"
          ]
        }
      ]
    },
    {
      "cell_type": "code",
      "metadata": {
        "id": "k8LU0yCrocVu"
      },
      "source": [
        "# 모델 정의\n",
        "model = keras.Sequential()\n",
        "model.add(Input((28,28)))\n",
        "model.add(Flatten())\n",
        "model.add(Dense(10, activation='relu'))\n",
        "model.add(Dense(10, activation='relu'))\n",
        "model.add(Dense(10, activation=\"softmax\"))\n",
        "\n",
        "\n",
        "# 모델 컴파일\n",
        "model.compile(optimizer=\"Adam\", loss=\"sparse_categorical_crossentropy\", metrics=[\"acc\"])"
      ],
      "execution_count": 42,
      "outputs": []
    },
    {
      "cell_type": "code",
      "metadata": {
        "colab": {
          "base_uri": "https://localhost:8080/"
        },
        "id": "AAPmCl3Zo_AY",
        "outputId": "d0ae66ce-ee19-4273-9847-ba376593ab52"
      },
      "source": [
        "model.fit(train_x, train_y, epochs=5, batch_size=32, validation_split=0.2)"
      ],
      "execution_count": 43,
      "outputs": [
        {
          "output_type": "stream",
          "name": "stdout",
          "text": [
            "Epoch 1/5\n",
            "1500/1500 [==============================] - 4s 2ms/step - loss: 2.6272 - acc: 0.2094 - val_loss: 1.9368 - val_acc: 0.2744\n",
            "Epoch 2/5\n",
            "1500/1500 [==============================] - 3s 2ms/step - loss: 1.9190 - acc: 0.2764 - val_loss: 1.8290 - val_acc: 0.3029\n",
            "Epoch 3/5\n",
            "1500/1500 [==============================] - 3s 2ms/step - loss: 1.6478 - acc: 0.3939 - val_loss: 1.4101 - val_acc: 0.4888\n",
            "Epoch 4/5\n",
            "1500/1500 [==============================] - 3s 2ms/step - loss: 1.2173 - acc: 0.5876 - val_loss: 1.0673 - val_acc: 0.6304\n",
            "Epoch 5/5\n",
            "1500/1500 [==============================] - 3s 2ms/step - loss: 0.9940 - acc: 0.6766 - val_loss: 0.8958 - val_acc: 0.7142\n"
          ]
        },
        {
          "output_type": "execute_result",
          "data": {
            "text/plain": [
              "<keras.callbacks.History at 0x7fcc0048a950>"
            ]
          },
          "metadata": {},
          "execution_count": 43
        }
      ]
    },
    {
      "cell_type": "code",
      "metadata": {
        "colab": {
          "base_uri": "https://localhost:8080/"
        },
        "id": "MSApzyPJo_bB",
        "outputId": "f1641662-a667-4ab1-ff94-2146c79887dc"
      },
      "source": [
        "model.fit(train_x, train_y, epochs=5, batch_size=32, verbose=0, validation_split=0.2)"
      ],
      "execution_count": 44,
      "outputs": [
        {
          "output_type": "execute_result",
          "data": {
            "text/plain": [
              "<keras.callbacks.History at 0x7fcb8228f190>"
            ]
          },
          "metadata": {},
          "execution_count": 44
        }
      ]
    },
    {
      "cell_type": "code",
      "metadata": {
        "colab": {
          "base_uri": "https://localhost:8080/"
        },
        "id": "g7RU6RmNpDq3",
        "outputId": "327ce029-0b69-40fe-bc10-325e745f6938"
      },
      "source": [
        "model.fit(train_x, train_y, epochs=5, batch_size=32, verbose=1, validation_split=0.2)"
      ],
      "execution_count": 45,
      "outputs": [
        {
          "output_type": "stream",
          "name": "stdout",
          "text": [
            "Epoch 1/5\n",
            "1500/1500 [==============================] - 3s 2ms/step - loss: 0.4581 - acc: 0.8768 - val_loss: 0.4342 - val_acc: 0.8952\n",
            "Epoch 2/5\n",
            "1500/1500 [==============================] - 3s 2ms/step - loss: 0.4133 - acc: 0.8896 - val_loss: 0.4224 - val_acc: 0.8925\n",
            "Epoch 3/5\n",
            "1500/1500 [==============================] - 3s 2ms/step - loss: 0.3851 - acc: 0.8946 - val_loss: 0.4074 - val_acc: 0.8997\n",
            "Epoch 4/5\n",
            "1500/1500 [==============================] - 3s 2ms/step - loss: 0.3699 - acc: 0.8989 - val_loss: 0.3838 - val_acc: 0.9062\n",
            "Epoch 5/5\n",
            "1500/1500 [==============================] - 3s 2ms/step - loss: 0.3584 - acc: 0.9032 - val_loss: 0.3778 - val_acc: 0.8980\n"
          ]
        },
        {
          "output_type": "execute_result",
          "data": {
            "text/plain": [
              "<keras.callbacks.History at 0x7fcc00353e90>"
            ]
          },
          "metadata": {},
          "execution_count": 45
        }
      ]
    },
    {
      "cell_type": "code",
      "metadata": {
        "colab": {
          "base_uri": "https://localhost:8080/"
        },
        "id": "ljzxv6-FpECz",
        "outputId": "d59fe49f-d249-40c1-f66c-6529a3d81e44"
      },
      "source": [
        "model.fit(train_x, train_y, epochs=5, batch_size=32, verbose=2, validation_split=0.2)"
      ],
      "execution_count": 46,
      "outputs": [
        {
          "output_type": "stream",
          "name": "stdout",
          "text": [
            "Epoch 1/5\n",
            "1500/1500 - 2s - loss: 0.3441 - acc: 0.9061 - val_loss: 0.4163 - val_acc: 0.8917\n",
            "Epoch 2/5\n",
            "1500/1500 - 2s - loss: 0.3371 - acc: 0.9080 - val_loss: 0.3906 - val_acc: 0.9013\n",
            "Epoch 3/5\n",
            "1500/1500 - 2s - loss: 0.3255 - acc: 0.9110 - val_loss: 0.3609 - val_acc: 0.9088\n",
            "Epoch 4/5\n",
            "1500/1500 - 2s - loss: 0.3215 - acc: 0.9120 - val_loss: 0.4124 - val_acc: 0.8978\n",
            "Epoch 5/5\n",
            "1500/1500 - 2s - loss: 0.3188 - acc: 0.9136 - val_loss: 0.3582 - val_acc: 0.9119\n"
          ]
        },
        {
          "output_type": "execute_result",
          "data": {
            "text/plain": [
              "<keras.callbacks.History at 0x7fcb8228a650>"
            ]
          },
          "metadata": {},
          "execution_count": 46
        }
      ]
    },
    {
      "cell_type": "markdown",
      "metadata": {
        "id": "uXMPW1wK5IWV"
      },
      "source": [
        "## loss, 성능지표 그리기"
      ]
    },
    {
      "cell_type": "code",
      "metadata": {
        "id": "Tcs2tLmppzn8"
      },
      "source": [
        "import numpy as np\n",
        "import pandas as pd\n",
        "import matplotlib.pyplot as plt\n",
        "\n",
        "import tensorflow as tf\n",
        "\n",
        "from tensorflow import keras\n",
        "from tensorflow.keras import optimizers\n",
        "from tensorflow.keras.layers import Dense, Input, Flatten"
      ],
      "execution_count": 47,
      "outputs": []
    },
    {
      "cell_type": "code",
      "metadata": {
        "id": "wYCOu9GGpzn8"
      },
      "source": [
        "(train_x, train_y), (test_x, test_y) = tf.keras.datasets.mnist.load_data()"
      ],
      "execution_count": 48,
      "outputs": []
    },
    {
      "cell_type": "code",
      "metadata": {
        "colab": {
          "base_uri": "https://localhost:8080/"
        },
        "id": "VgHSv7LVp1o2",
        "outputId": "b6150bb3-157b-499a-fadd-eb7b44a945c6"
      },
      "source": [
        "# 모델 정의\n",
        "model = keras.Sequential()\n",
        "model.add(Input((28,28)))\n",
        "model.add(Flatten())\n",
        "model.add(Dense(10, activation='relu'))\n",
        "model.add(Dense(10, activation='relu'))\n",
        "model.add(Dense(10, activation=\"softmax\"))\n",
        "\n",
        "\n",
        "# 모델 컴파일\n",
        "model.compile(optimizer=\"Adam\", loss=\"sparse_categorical_crossentropy\", metrics=[\"acc\"])\n",
        "model.summary()\n",
        "\n",
        "\n",
        "# 모델 학습\n",
        "history = model.fit(train_x, train_y, epochs=50, batch_size=256, validation_split=0.2)\n"
      ],
      "execution_count": 49,
      "outputs": [
        {
          "output_type": "stream",
          "name": "stdout",
          "text": [
            "Model: \"sequential_9\"\n",
            "_________________________________________________________________\n",
            "Layer (type)                 Output Shape              Param #   \n",
            "=================================================================\n",
            "flatten_2 (Flatten)          (None, 784)               0         \n",
            "_________________________________________________________________\n",
            "dense_27 (Dense)             (None, 10)                7850      \n",
            "_________________________________________________________________\n",
            "dense_28 (Dense)             (None, 10)                110       \n",
            "_________________________________________________________________\n",
            "dense_29 (Dense)             (None, 10)                110       \n",
            "=================================================================\n",
            "Total params: 8,070\n",
            "Trainable params: 8,070\n",
            "Non-trainable params: 0\n",
            "_________________________________________________________________\n",
            "Epoch 1/50\n",
            "188/188 [==============================] - 1s 3ms/step - loss: 3.4577 - acc: 0.1132 - val_loss: 2.2706 - val_acc: 0.1084\n",
            "Epoch 2/50\n",
            "188/188 [==============================] - 0s 3ms/step - loss: 2.2192 - acc: 0.1506 - val_loss: 2.1453 - val_acc: 0.1931\n",
            "Epoch 3/50\n",
            "188/188 [==============================] - 1s 3ms/step - loss: 2.0622 - acc: 0.2296 - val_loss: 1.9384 - val_acc: 0.2787\n",
            "Epoch 4/50\n",
            "188/188 [==============================] - 0s 3ms/step - loss: 1.8866 - acc: 0.2932 - val_loss: 1.8256 - val_acc: 0.3084\n",
            "Epoch 5/50\n",
            "188/188 [==============================] - 0s 2ms/step - loss: 1.7945 - acc: 0.3191 - val_loss: 1.7605 - val_acc: 0.3397\n",
            "Epoch 6/50\n",
            "188/188 [==============================] - 0s 3ms/step - loss: 1.7213 - acc: 0.3389 - val_loss: 1.6906 - val_acc: 0.3478\n",
            "Epoch 7/50\n",
            "188/188 [==============================] - 0s 2ms/step - loss: 1.6689 - acc: 0.3511 - val_loss: 1.6858 - val_acc: 0.3321\n",
            "Epoch 8/50\n",
            "188/188 [==============================] - 0s 2ms/step - loss: 1.6121 - acc: 0.3631 - val_loss: 1.5914 - val_acc: 0.3590\n",
            "Epoch 9/50\n",
            "188/188 [==============================] - 0s 2ms/step - loss: 1.4661 - acc: 0.4326 - val_loss: 1.3982 - val_acc: 0.4648\n",
            "Epoch 10/50\n",
            "188/188 [==============================] - 0s 3ms/step - loss: 1.3370 - acc: 0.4821 - val_loss: 1.2674 - val_acc: 0.5219\n",
            "Epoch 11/50\n",
            "188/188 [==============================] - 0s 2ms/step - loss: 1.2130 - acc: 0.5470 - val_loss: 1.1576 - val_acc: 0.5683\n",
            "Epoch 12/50\n",
            "188/188 [==============================] - 0s 2ms/step - loss: 1.0788 - acc: 0.6165 - val_loss: 1.0147 - val_acc: 0.6637\n",
            "Epoch 13/50\n",
            "188/188 [==============================] - 0s 2ms/step - loss: 0.9570 - acc: 0.6687 - val_loss: 0.9286 - val_acc: 0.6986\n",
            "Epoch 14/50\n",
            "188/188 [==============================] - 0s 2ms/step - loss: 0.8802 - acc: 0.6970 - val_loss: 0.8651 - val_acc: 0.7207\n",
            "Epoch 15/50\n",
            "188/188 [==============================] - 0s 3ms/step - loss: 0.8021 - acc: 0.7262 - val_loss: 0.7503 - val_acc: 0.7451\n",
            "Epoch 16/50\n",
            "188/188 [==============================] - 0s 2ms/step - loss: 0.6676 - acc: 0.8008 - val_loss: 0.6707 - val_acc: 0.8282\n",
            "Epoch 17/50\n",
            "188/188 [==============================] - 0s 2ms/step - loss: 0.6018 - acc: 0.8336 - val_loss: 0.6080 - val_acc: 0.8401\n",
            "Epoch 18/50\n",
            "188/188 [==============================] - 0s 2ms/step - loss: 0.5532 - acc: 0.8460 - val_loss: 0.5634 - val_acc: 0.8444\n",
            "Epoch 19/50\n",
            "188/188 [==============================] - 0s 2ms/step - loss: 0.5100 - acc: 0.8585 - val_loss: 0.5226 - val_acc: 0.8710\n",
            "Epoch 20/50\n",
            "188/188 [==============================] - 0s 2ms/step - loss: 0.4696 - acc: 0.8749 - val_loss: 0.4908 - val_acc: 0.8810\n",
            "Epoch 21/50\n",
            "188/188 [==============================] - 0s 3ms/step - loss: 0.4406 - acc: 0.8819 - val_loss: 0.4603 - val_acc: 0.8852\n",
            "Epoch 22/50\n",
            "188/188 [==============================] - 0s 2ms/step - loss: 0.4105 - acc: 0.8894 - val_loss: 0.4250 - val_acc: 0.8956\n",
            "Epoch 23/50\n",
            "188/188 [==============================] - 0s 2ms/step - loss: 0.3920 - acc: 0.8951 - val_loss: 0.4077 - val_acc: 0.8974\n",
            "Epoch 24/50\n",
            "188/188 [==============================] - 0s 2ms/step - loss: 0.3703 - acc: 0.8982 - val_loss: 0.3849 - val_acc: 0.8995\n",
            "Epoch 25/50\n",
            "188/188 [==============================] - 0s 2ms/step - loss: 0.3521 - acc: 0.9032 - val_loss: 0.3714 - val_acc: 0.9036\n",
            "Epoch 26/50\n",
            "188/188 [==============================] - 0s 2ms/step - loss: 0.3447 - acc: 0.9044 - val_loss: 0.3675 - val_acc: 0.9016\n",
            "Epoch 27/50\n",
            "188/188 [==============================] - 0s 2ms/step - loss: 0.3306 - acc: 0.9090 - val_loss: 0.3522 - val_acc: 0.9040\n",
            "Epoch 28/50\n",
            "188/188 [==============================] - 0s 2ms/step - loss: 0.3210 - acc: 0.9116 - val_loss: 0.3486 - val_acc: 0.9093\n",
            "Epoch 29/50\n",
            "188/188 [==============================] - 0s 2ms/step - loss: 0.3173 - acc: 0.9128 - val_loss: 0.3413 - val_acc: 0.9086\n",
            "Epoch 30/50\n",
            "188/188 [==============================] - 0s 2ms/step - loss: 0.3110 - acc: 0.9140 - val_loss: 0.3451 - val_acc: 0.9061\n",
            "Epoch 31/50\n",
            "188/188 [==============================] - 0s 2ms/step - loss: 0.3078 - acc: 0.9145 - val_loss: 0.3380 - val_acc: 0.9090\n",
            "Epoch 32/50\n",
            "188/188 [==============================] - 1s 3ms/step - loss: 0.3012 - acc: 0.9164 - val_loss: 0.3377 - val_acc: 0.9085\n",
            "Epoch 33/50\n",
            "188/188 [==============================] - 0s 2ms/step - loss: 0.2989 - acc: 0.9168 - val_loss: 0.3329 - val_acc: 0.9087\n",
            "Epoch 34/50\n",
            "188/188 [==============================] - 0s 3ms/step - loss: 0.2967 - acc: 0.9172 - val_loss: 0.3412 - val_acc: 0.9073\n",
            "Epoch 35/50\n",
            "188/188 [==============================] - 1s 3ms/step - loss: 0.2949 - acc: 0.9172 - val_loss: 0.3330 - val_acc: 0.9057\n",
            "Epoch 36/50\n",
            "188/188 [==============================] - 1s 3ms/step - loss: 0.2943 - acc: 0.9171 - val_loss: 0.3338 - val_acc: 0.9112\n",
            "Epoch 37/50\n",
            "188/188 [==============================] - 0s 2ms/step - loss: 0.2871 - acc: 0.9189 - val_loss: 0.3254 - val_acc: 0.9109\n",
            "Epoch 38/50\n",
            "188/188 [==============================] - 0s 3ms/step - loss: 0.2861 - acc: 0.9196 - val_loss: 0.3334 - val_acc: 0.9078\n",
            "Epoch 39/50\n",
            "188/188 [==============================] - 0s 2ms/step - loss: 0.2847 - acc: 0.9201 - val_loss: 0.3315 - val_acc: 0.9080\n",
            "Epoch 40/50\n",
            "188/188 [==============================] - 0s 2ms/step - loss: 0.2814 - acc: 0.9206 - val_loss: 0.3278 - val_acc: 0.9099\n",
            "Epoch 41/50\n",
            "188/188 [==============================] - 0s 2ms/step - loss: 0.2819 - acc: 0.9192 - val_loss: 0.3222 - val_acc: 0.9123\n",
            "Epoch 42/50\n",
            "188/188 [==============================] - 0s 3ms/step - loss: 0.2777 - acc: 0.9220 - val_loss: 0.3175 - val_acc: 0.9132\n",
            "Epoch 43/50\n",
            "188/188 [==============================] - 0s 2ms/step - loss: 0.2748 - acc: 0.9214 - val_loss: 0.3151 - val_acc: 0.9152\n",
            "Epoch 44/50\n",
            "188/188 [==============================] - 0s 2ms/step - loss: 0.2728 - acc: 0.9224 - val_loss: 0.3193 - val_acc: 0.9137\n",
            "Epoch 45/50\n",
            "188/188 [==============================] - 0s 2ms/step - loss: 0.2704 - acc: 0.9226 - val_loss: 0.3090 - val_acc: 0.9166\n",
            "Epoch 46/50\n",
            "188/188 [==============================] - 1s 3ms/step - loss: 0.2661 - acc: 0.9249 - val_loss: 0.3188 - val_acc: 0.9142\n",
            "Epoch 47/50\n",
            "188/188 [==============================] - 0s 2ms/step - loss: 0.2686 - acc: 0.9233 - val_loss: 0.3161 - val_acc: 0.9141\n",
            "Epoch 48/50\n",
            "188/188 [==============================] - 1s 3ms/step - loss: 0.2623 - acc: 0.9249 - val_loss: 0.3174 - val_acc: 0.9153\n",
            "Epoch 49/50\n",
            "188/188 [==============================] - 0s 2ms/step - loss: 0.2592 - acc: 0.9271 - val_loss: 0.3142 - val_acc: 0.9134\n",
            "Epoch 50/50\n",
            "188/188 [==============================] - 0s 2ms/step - loss: 0.2567 - acc: 0.9255 - val_loss: 0.3125 - val_acc: 0.9140\n"
          ]
        }
      ]
    },
    {
      "cell_type": "code",
      "metadata": {
        "colab": {
          "base_uri": "https://localhost:8080/",
          "height": 513
        },
        "id": "rvR2feuaqCbk",
        "outputId": "acf6cb6f-feca-4878-eb05-8ed68f87a067"
      },
      "source": [
        "# 학습 로스 보기\n",
        "plt.plot(history.history['loss'], label=\"loss\")\n",
        "plt.plot(history.history['val_loss'], label=\"val_loss\")\n",
        "plt.legend()\n",
        "plt.show()\n",
        "\n",
        "# 학습 로스 보기\n",
        "plt.plot(history.history['acc'], label=\"acc\")\n",
        "plt.plot(history.history['val_acc'], label=\"val_acc\")\n",
        "plt.legend()\n",
        "plt.show()\n"
      ],
      "execution_count": 51,
      "outputs": [
        {
          "output_type": "display_data",
          "data": {
            "image/png": "[encoded data removed]",
            "text/plain": [
              "<Figure size 432x288 with 1 Axes>"
            ]
          },
          "metadata": {
            "needs_background": "light"
          }
        },
        {
          "output_type": "display_data",
          "data": {
            "image/png": "[encoded data removed]",
            "text/plain": [
              "<Figure size 432x288 with 1 Axes>"
            ]
          },
          "metadata": {
            "needs_background": "light"
          }
        }
      ]
    },
    {
      "cell_type": "markdown",
      "metadata": {
        "id": "UL8eJfdK5Ngh"
      },
      "source": [
        "## 예측 결과 그리기"
      ]
    },
    {
      "cell_type": "markdown",
      "metadata": {
        "id": "UziPpL3l5QOM"
      },
      "source": [
        "### 분류 작업"
      ]
    },
    {
      "cell_type": "code",
      "metadata": {
        "colab": {
          "base_uri": "https://localhost:8080/",
          "height": 211
        },
        "id": "WYdxYVyAr_B7",
        "outputId": "94f40727-7255-4b87-d00d-12cb92769048"
      },
      "source": [
        "# 예측\n",
        "y_ = model.predict(test_x)\n",
        "predicted = np.argmax(y_, axis=-1)\n",
        "\n",
        "\n",
        "# 예측 결과 보기\n",
        "plt.figure(figsize=(15,3))\n",
        "plt.plot(test_y[:200], \"o\")\n",
        "plt.plot(predicted[:200], \".\")\n",
        "plt.show()"
      ],
      "execution_count": 52,
      "outputs": [
        {
          "output_type": "display_data",
          "data": {
            "image/png": "[encoded data removed]",
            "text/plain": [
              "<Figure size 1080x216 with 1 Axes>"
            ]
          },
          "metadata": {
            "needs_background": "light"
          }
        }
      ]
    },
    {
      "cell_type": "markdown",
      "metadata": {
        "id": "WGBEFD7_5TDY"
      },
      "source": [
        "### 회귀 작업 "
      ]
    },
    {
      "cell_type": "code",
      "metadata": {
        "id": "xrSLAZw2t_pD"
      },
      "source": [
        "import numpy as np\n",
        "import pandas as pd\n",
        "import matplotlib.pyplot as plt\n",
        "\n",
        "import tensorflow as tf\n",
        "\n",
        "from tensorflow import keras\n",
        "from tensorflow.keras import optimizers\n",
        "from tensorflow.keras.layers import Dense, Input"
      ],
      "execution_count": 53,
      "outputs": []
    },
    {
      "cell_type": "code",
      "metadata": {
        "id": "XZl9y4jpt_pU"
      },
      "source": [
        "(train_x, train_y), (test_x, test_y) = tf.keras.datasets.boston_housing.load_data()"
      ],
      "execution_count": 54,
      "outputs": []
    },
    {
      "cell_type": "code",
      "metadata": {
        "colab": {
          "base_uri": "https://localhost:8080/"
        },
        "id": "SnjhMxQit_pV",
        "outputId": "07f4acf4-e11b-48b2-b250-7c09db21af58"
      },
      "source": [
        "# 모델 정의\n",
        "model = keras.Sequential()\n",
        "model.add(Input(13))\n",
        "model.add(Dense(10, activation='relu'))\n",
        "model.add(Dense(10, activation='relu'))\n",
        "model.add(Dense(1))\n",
        "\n",
        "\n",
        "# 모델 컴파일\n",
        "model.compile(optimizer=\"Adam\", loss=\"mse\", metrics=[\"mae\"])\n",
        "model.summary()\n",
        "\n",
        "\n",
        "# 모델 학습\n",
        "history = model.fit(train_x, train_y, epochs=100, batch_size=32, verbose=0, validation_split=0.2)"
      ],
      "execution_count": 55,
      "outputs": [
        {
          "output_type": "stream",
          "name": "stdout",
          "text": [
            "Model: \"sequential_10\"\n",
            "_________________________________________________________________\n",
            "Layer (type)                 Output Shape              Param #   \n",
            "=================================================================\n",
            "dense_30 (Dense)             (None, 10)                140       \n",
            "_________________________________________________________________\n",
            "dense_31 (Dense)             (None, 10)                110       \n",
            "_________________________________________________________________\n",
            "dense_32 (Dense)             (None, 1)                 11        \n",
            "=================================================================\n",
            "Total params: 261\n",
            "Trainable params: 261\n",
            "Non-trainable params: 0\n",
            "_________________________________________________________________\n"
          ]
        }
      ]
    },
    {
      "cell_type": "code",
      "metadata": {
        "colab": {
          "base_uri": "https://localhost:8080/",
          "height": 265
        },
        "id": "FxN_2PtCox7X",
        "outputId": "ba592735-8634-4ca3-ed79-f85e7ba1b4e9"
      },
      "source": [
        "# 예측\n",
        "y_ = model.predict(test_x)\n",
        "\n",
        "\n",
        "# 예측 결과 보기\n",
        "plt.scatter(test_y, y_)\n",
        "plt.show()\n"
      ],
      "execution_count": 56,
      "outputs": [
        {
          "output_type": "display_data",
          "data": {
            "image/png": "[encoded data removed]",
            "text/plain": [
              "<Figure size 432x288 with 1 Axes>"
            ]
          },
          "metadata": {
            "needs_background": "light"
          }
        }
      ]
    },
    {
      "cell_type": "code",
      "metadata": {
        "id": "SvxmU8l95FdF"
      },
      "source": [
        ""
      ],
      "execution_count": null,
      "outputs": []
    }
  ]
}