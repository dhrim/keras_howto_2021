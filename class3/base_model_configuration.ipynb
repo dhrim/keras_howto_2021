{
  "nbformat": 4,
  "nbformat_minor": 0,
  "metadata": {
    "colab": {
      "name": "base_model_configuration.ipynb",
      "provenance": [],
      "collapsed_sections": [],
      "toc_visible": true
    },
    "kernelspec": {
      "name": "python3",
      "display_name": "Python 3"
    },
    "language_info": {
      "name": "python"
    },
    "accelerator": "GPU"
  },
  "cells": [
    {
      "cell_type": "markdown",
      "metadata": {
        "id": "byU0eVWW47W9"
      },
      "source": [
        "# loss 설정\n",
        "\n",
        "- 회귀 작업일 경우 'mse'\n",
        "- 분류 작업일 경우 'sparse_categorical_crossentropy'\n",
        "- 2진 분류 작업일 경우 'binary_crossentropy'"
      ]
    },
    {
      "cell_type": "markdown",
      "metadata": {
        "id": "9DUGT67T5YfY"
      },
      "source": [
        "## 회귀 작업\n",
        "\n",
        "loss를 'mse'로 설정한다."
      ]
    },
    {
      "cell_type": "code",
      "metadata": {
        "id": "yRP-a2X46IEM"
      },
      "source": [
        "import numpy as np\n",
        "import pandas as pd\n",
        "import matplotlib.pyplot as plt\n",
        "\n",
        "import tensorflow as tf\n",
        "\n",
        "from tensorflow import keras\n",
        "from tensorflow.keras import optimizers\n",
        "from tensorflow.keras.layers import Dense, Input"
      ],
      "execution_count": null,
      "outputs": []
    },
    {
      "cell_type": "code",
      "metadata": {
        "id": "cDeNgK6y502w"
      },
      "source": [
        "(train_x, train_y), (test_x, test_y) = tf.keras.datasets.boston_housing.load_data()"
      ],
      "execution_count": null,
      "outputs": []
    },
    {
      "cell_type": "code",
      "metadata": {
        "colab": {
          "base_uri": "https://localhost:8080/",
          "height": 1000
        },
        "id": "G7qz-VzI52v1",
        "outputId": "91caf50f-2554-4b0c-c1e9-c57584946a05"
      },
      "source": [
        "# 모델 정의\n",
        "model = keras.Sequential()\n",
        "model.add(Input(13))\n",
        "model.add(Dense(10, activation='relu'))\n",
        "model.add(Dense(10, activation='relu'))\n",
        "model.add(Dense(1))\n",
        "\n",
        "\n",
        "# 모델 컴파일\n",
        "model.compile(optimizer=\"Adam\", loss=\"mse\", metrics=[\"mae\"])\n",
        "model.summary()\n",
        "\n",
        "\n",
        "# 모델 학습\n",
        "history = model.fit(train_x, train_y, epochs=100, batch_size=32, validation_split=0.2)\n",
        "\n",
        "\n",
        "# 학습 로스 보기\n",
        "plt.plot(history.history['loss'], label=\"loss\")\n",
        "plt.plot(history.history['val_loss'], label=\"val_loss\")\n",
        "plt.legend()\n",
        "plt.show()\n",
        "\n",
        "\n",
        "# 평가\n",
        "loss, mae = model.evaluate(test_x, test_y)\n",
        "print(\"loss=\", loss)\n",
        "print(\"mae=\", mae)\n",
        "\n",
        "\n",
        "# 예측\n",
        "y_ = model.predict(test_x)\n",
        "\n",
        "\n",
        "# 예측 결과 보기\n",
        "plt.scatter(test_y, y_)\n",
        "plt.show()\n"
      ],
      "execution_count": null,
      "outputs": [
        {
          "output_type": "stream",
          "name": "stdout",
          "text": [
            "Model: \"sequential\"\n",
            "_________________________________________________________________\n",
            "Layer (type)                 Output Shape              Param #   \n",
            "=================================================================\n",
            "dense (Dense)                (None, 10)                140       \n",
            "_________________________________________________________________\n",
            "dense_1 (Dense)              (None, 10)                110       \n",
            "_________________________________________________________________\n",
            "dense_2 (Dense)              (None, 1)                 11        \n",
            "=================================================================\n",
            "Total params: 261\n",
            "Trainable params: 261\n",
            "Non-trainable params: 0\n",
            "_________________________________________________________________\n",
            "Epoch 1/100\n",
            "11/11 [==============================] - 1s 30ms/step - loss: 7115.1851 - mae: 66.2347 - val_loss: 3790.2268 - val_mae: 43.5473\n",
            "Epoch 2/100\n",
            "11/11 [==============================] - 0s 6ms/step - loss: 3640.5132 - mae: 40.9300 - val_loss: 1750.5332 - val_mae: 26.3665\n",
            "Epoch 3/100\n",
            "11/11 [==============================] - 0s 8ms/step - loss: 1764.1041 - mae: 27.9485 - val_loss: 1004.7685 - val_mae: 24.8560\n",
            "Epoch 4/100\n",
            "11/11 [==============================] - 0s 11ms/step - loss: 1078.9087 - mae: 25.6941 - val_loss: 884.8568 - val_mae: 26.1716\n",
            "Epoch 5/100\n",
            "11/11 [==============================] - 0s 10ms/step - loss: 858.0384 - mae: 24.7785 - val_loss: 745.3983 - val_mae: 23.9527\n",
            "Epoch 6/100\n",
            "11/11 [==============================] - 0s 7ms/step - loss: 657.8652 - mae: 21.3518 - val_loss: 547.5945 - val_mae: 19.8879\n",
            "Epoch 7/100\n",
            "11/11 [==============================] - 0s 8ms/step - loss: 455.3228 - mae: 16.6897 - val_loss: 382.8490 - val_mae: 15.6157\n",
            "Epoch 8/100\n",
            "11/11 [==============================] - 0s 8ms/step - loss: 318.5205 - mae: 13.3038 - val_loss: 279.3600 - val_mae: 12.7402\n",
            "Epoch 9/100\n",
            "11/11 [==============================] - 0s 6ms/step - loss: 214.4711 - mae: 11.1260 - val_loss: 220.4409 - val_mae: 11.2682\n",
            "Epoch 10/100\n",
            "11/11 [==============================] - 0s 10ms/step - loss: 159.0346 - mae: 9.8123 - val_loss: 180.7130 - val_mae: 10.0324\n",
            "Epoch 11/100\n",
            "11/11 [==============================] - 0s 8ms/step - loss: 121.4031 - mae: 8.7785 - val_loss: 149.5737 - val_mae: 9.0261\n",
            "Epoch 12/100\n",
            "11/11 [==============================] - 0s 11ms/step - loss: 105.7980 - mae: 8.1574 - val_loss: 135.1885 - val_mae: 8.5453\n",
            "Epoch 13/100\n",
            "11/11 [==============================] - 0s 8ms/step - loss: 99.2724 - mae: 7.8621 - val_loss: 130.8971 - val_mae: 8.4013\n",
            "Epoch 14/100\n",
            "11/11 [==============================] - 0s 7ms/step - loss: 94.4452 - mae: 7.6440 - val_loss: 123.2219 - val_mae: 8.1071\n",
            "Epoch 15/100\n",
            "11/11 [==============================] - 0s 6ms/step - loss: 90.5656 - mae: 7.4549 - val_loss: 118.6988 - val_mae: 7.9283\n",
            "Epoch 16/100\n",
            "11/11 [==============================] - 0s 11ms/step - loss: 88.3333 - mae: 7.4183 - val_loss: 109.5711 - val_mae: 7.6374\n",
            "Epoch 17/100\n",
            "11/11 [==============================] - 0s 8ms/step - loss: 85.2737 - mae: 7.2382 - val_loss: 111.6115 - val_mae: 7.6314\n",
            "Epoch 18/100\n",
            "11/11 [==============================] - 0s 6ms/step - loss: 83.3693 - mae: 7.0472 - val_loss: 111.9746 - val_mae: 7.6383\n",
            "Epoch 19/100\n",
            "11/11 [==============================] - 0s 6ms/step - loss: 82.0921 - mae: 6.9784 - val_loss: 106.1521 - val_mae: 7.4391\n",
            "Epoch 20/100\n",
            "11/11 [==============================] - 0s 12ms/step - loss: 80.6563 - mae: 6.9346 - val_loss: 106.8612 - val_mae: 7.4601\n",
            "Epoch 21/100\n",
            "11/11 [==============================] - 0s 14ms/step - loss: 79.8483 - mae: 6.8562 - val_loss: 104.0578 - val_mae: 7.3737\n",
            "Epoch 22/100\n",
            "11/11 [==============================] - 0s 8ms/step - loss: 78.8716 - mae: 6.8938 - val_loss: 99.6350 - val_mae: 7.2408\n",
            "Epoch 23/100\n",
            "11/11 [==============================] - 0s 7ms/step - loss: 78.6665 - mae: 6.9431 - val_loss: 98.5568 - val_mae: 7.2054\n",
            "Epoch 24/100\n",
            "11/11 [==============================] - 0s 9ms/step - loss: 77.6039 - mae: 6.7692 - val_loss: 100.9919 - val_mae: 7.2370\n",
            "Epoch 25/100\n",
            "11/11 [==============================] - 0s 7ms/step - loss: 79.0609 - mae: 6.9364 - val_loss: 94.1062 - val_mae: 7.0875\n",
            "Epoch 26/100\n",
            "11/11 [==============================] - 0s 8ms/step - loss: 76.8354 - mae: 6.7047 - val_loss: 101.7072 - val_mae: 7.2515\n",
            "Epoch 27/100\n",
            "11/11 [==============================] - 0s 5ms/step - loss: 75.3447 - mae: 6.6334 - val_loss: 92.6860 - val_mae: 7.0050\n",
            "Epoch 28/100\n",
            "11/11 [==============================] - 0s 6ms/step - loss: 74.8729 - mae: 6.7647 - val_loss: 90.5695 - val_mae: 6.9792\n",
            "Epoch 29/100\n",
            "11/11 [==============================] - 0s 10ms/step - loss: 74.0999 - mae: 6.6842 - val_loss: 93.7488 - val_mae: 6.9648\n",
            "Epoch 30/100\n",
            "11/11 [==============================] - 0s 9ms/step - loss: 73.6898 - mae: 6.5337 - val_loss: 94.3143 - val_mae: 6.9726\n",
            "Epoch 31/100\n",
            "11/11 [==============================] - 0s 6ms/step - loss: 73.1832 - mae: 6.5221 - val_loss: 89.5459 - val_mae: 6.8416\n",
            "Epoch 32/100\n",
            "11/11 [==============================] - 0s 5ms/step - loss: 72.2657 - mae: 6.5426 - val_loss: 87.8574 - val_mae: 6.7853\n",
            "Epoch 33/100\n",
            "11/11 [==============================] - 0s 9ms/step - loss: 71.6917 - mae: 6.5669 - val_loss: 84.8652 - val_mae: 6.7094\n",
            "Epoch 34/100\n",
            "11/11 [==============================] - 0s 7ms/step - loss: 71.3782 - mae: 6.5918 - val_loss: 85.1114 - val_mae: 6.7095\n",
            "Epoch 35/100\n",
            "11/11 [==============================] - 0s 6ms/step - loss: 70.8959 - mae: 6.5344 - val_loss: 84.4292 - val_mae: 6.6738\n",
            "Epoch 36/100\n",
            "11/11 [==============================] - 0s 6ms/step - loss: 70.9942 - mae: 6.4227 - val_loss: 88.7641 - val_mae: 6.7926\n",
            "Epoch 37/100\n",
            "11/11 [==============================] - 0s 6ms/step - loss: 70.2882 - mae: 6.3883 - val_loss: 83.0286 - val_mae: 6.6079\n",
            "Epoch 38/100\n",
            "11/11 [==============================] - 0s 7ms/step - loss: 68.7724 - mae: 6.4081 - val_loss: 80.3496 - val_mae: 6.5643\n",
            "Epoch 39/100\n",
            "11/11 [==============================] - 0s 6ms/step - loss: 69.0550 - mae: 6.4583 - val_loss: 81.1651 - val_mae: 6.5472\n",
            "Epoch 40/100\n",
            "11/11 [==============================] - 0s 12ms/step - loss: 68.0350 - mae: 6.2994 - val_loss: 84.2378 - val_mae: 6.6212\n",
            "Epoch 41/100\n",
            "11/11 [==============================] - 0s 8ms/step - loss: 68.0158 - mae: 6.2283 - val_loss: 81.9926 - val_mae: 6.5423\n",
            "Epoch 42/100\n",
            "11/11 [==============================] - 0s 12ms/step - loss: 67.1179 - mae: 6.2644 - val_loss: 79.0642 - val_mae: 6.4512\n",
            "Epoch 43/100\n",
            "11/11 [==============================] - 0s 10ms/step - loss: 66.8058 - mae: 6.2897 - val_loss: 79.0782 - val_mae: 6.4401\n",
            "Epoch 44/100\n",
            "11/11 [==============================] - 0s 11ms/step - loss: 67.2632 - mae: 6.1519 - val_loss: 83.3191 - val_mae: 6.5479\n",
            "Epoch 45/100\n",
            "11/11 [==============================] - 0s 8ms/step - loss: 66.0164 - mae: 6.1197 - val_loss: 77.5818 - val_mae: 6.3885\n",
            "Epoch 46/100\n",
            "11/11 [==============================] - 0s 6ms/step - loss: 65.8179 - mae: 6.2556 - val_loss: 75.1492 - val_mae: 6.3354\n",
            "Epoch 47/100\n",
            "11/11 [==============================] - 0s 9ms/step - loss: 65.3986 - mae: 6.2419 - val_loss: 76.5889 - val_mae: 6.3332\n",
            "Epoch 48/100\n",
            "11/11 [==============================] - 0s 8ms/step - loss: 65.3049 - mae: 6.2194 - val_loss: 77.4454 - val_mae: 6.3663\n",
            "Epoch 49/100\n",
            "11/11 [==============================] - 0s 5ms/step - loss: 65.9193 - mae: 6.1744 - val_loss: 82.5285 - val_mae: 6.4641\n",
            "Epoch 50/100\n",
            "11/11 [==============================] - 0s 9ms/step - loss: 64.5938 - mae: 6.1188 - val_loss: 76.1105 - val_mae: 6.3065\n",
            "Epoch 51/100\n",
            "11/11 [==============================] - 0s 10ms/step - loss: 64.2714 - mae: 6.1573 - val_loss: 77.4091 - val_mae: 6.3061\n",
            "Epoch 52/100\n",
            "11/11 [==============================] - 0s 12ms/step - loss: 63.8733 - mae: 6.0170 - val_loss: 78.4598 - val_mae: 6.3084\n",
            "Epoch 53/100\n",
            "11/11 [==============================] - 0s 13ms/step - loss: 63.2776 - mae: 6.0241 - val_loss: 76.1939 - val_mae: 6.2548\n",
            "Epoch 54/100\n",
            "11/11 [==============================] - 0s 8ms/step - loss: 62.5472 - mae: 5.9828 - val_loss: 77.2759 - val_mae: 6.2607\n",
            "Epoch 55/100\n",
            "11/11 [==============================] - 0s 9ms/step - loss: 62.9010 - mae: 5.8616 - val_loss: 79.1929 - val_mae: 6.3049\n",
            "Epoch 56/100\n",
            "11/11 [==============================] - 0s 9ms/step - loss: 62.5948 - mae: 5.9112 - val_loss: 72.2395 - val_mae: 6.1480\n",
            "Epoch 57/100\n",
            "11/11 [==============================] - 0s 7ms/step - loss: 61.5766 - mae: 5.9384 - val_loss: 74.0147 - val_mae: 6.1222\n",
            "Epoch 58/100\n",
            "11/11 [==============================] - 0s 7ms/step - loss: 61.6893 - mae: 5.8782 - val_loss: 72.6579 - val_mae: 6.0773\n",
            "Epoch 59/100\n",
            "11/11 [==============================] - 0s 6ms/step - loss: 60.9495 - mae: 5.8658 - val_loss: 73.2577 - val_mae: 6.0818\n",
            "Epoch 60/100\n",
            "11/11 [==============================] - 0s 7ms/step - loss: 60.5079 - mae: 5.8524 - val_loss: 71.6420 - val_mae: 6.0444\n",
            "Epoch 61/100\n",
            "11/11 [==============================] - 0s 6ms/step - loss: 60.0948 - mae: 5.8328 - val_loss: 73.4395 - val_mae: 6.0669\n",
            "Epoch 62/100\n",
            "11/11 [==============================] - 0s 6ms/step - loss: 59.9505 - mae: 5.7654 - val_loss: 73.4935 - val_mae: 6.0717\n",
            "Epoch 63/100\n",
            "11/11 [==============================] - 0s 8ms/step - loss: 59.6451 - mae: 5.7874 - val_loss: 69.9723 - val_mae: 5.9773\n",
            "Epoch 64/100\n",
            "11/11 [==============================] - 0s 9ms/step - loss: 58.9750 - mae: 5.7357 - val_loss: 72.2260 - val_mae: 6.0171\n",
            "Epoch 65/100\n",
            "11/11 [==============================] - 0s 9ms/step - loss: 59.0634 - mae: 5.6763 - val_loss: 73.1076 - val_mae: 6.0408\n",
            "Epoch 66/100\n",
            "11/11 [==============================] - 0s 10ms/step - loss: 59.1372 - mae: 5.6605 - val_loss: 71.3972 - val_mae: 5.9689\n",
            "Epoch 67/100\n",
            "11/11 [==============================] - 0s 9ms/step - loss: 58.1143 - mae: 5.7068 - val_loss: 67.1966 - val_mae: 5.9104\n",
            "Epoch 68/100\n",
            "11/11 [==============================] - 0s 8ms/step - loss: 60.0378 - mae: 5.9845 - val_loss: 65.3277 - val_mae: 5.8920\n",
            "Epoch 69/100\n",
            "11/11 [==============================] - 0s 7ms/step - loss: 58.2788 - mae: 5.7162 - val_loss: 70.3676 - val_mae: 5.9251\n",
            "Epoch 70/100\n",
            "11/11 [==============================] - 0s 7ms/step - loss: 58.3732 - mae: 5.5498 - val_loss: 72.5730 - val_mae: 5.9867\n",
            "Epoch 71/100\n",
            "11/11 [==============================] - 0s 6ms/step - loss: 58.2507 - mae: 5.6855 - val_loss: 66.6692 - val_mae: 5.8934\n",
            "Epoch 72/100\n",
            "11/11 [==============================] - 0s 7ms/step - loss: 57.5779 - mae: 5.6547 - val_loss: 71.6272 - val_mae: 5.9541\n",
            "Epoch 73/100\n",
            "11/11 [==============================] - 0s 8ms/step - loss: 57.0347 - mae: 5.5489 - val_loss: 68.8398 - val_mae: 5.8617\n",
            "Epoch 74/100\n",
            "11/11 [==============================] - 0s 10ms/step - loss: 56.7417 - mae: 5.5438 - val_loss: 69.2807 - val_mae: 5.8753\n",
            "Epoch 75/100\n",
            "11/11 [==============================] - 0s 9ms/step - loss: 56.1771 - mae: 5.6026 - val_loss: 64.8312 - val_mae: 5.7913\n",
            "Epoch 76/100\n",
            "11/11 [==============================] - 0s 8ms/step - loss: 56.3281 - mae: 5.6179 - val_loss: 66.4965 - val_mae: 5.7784\n",
            "Epoch 77/100\n",
            "11/11 [==============================] - 0s 5ms/step - loss: 55.8424 - mae: 5.5436 - val_loss: 67.4516 - val_mae: 5.8098\n",
            "Epoch 78/100\n",
            "11/11 [==============================] - 0s 8ms/step - loss: 56.0191 - mae: 5.4575 - val_loss: 70.2248 - val_mae: 5.8839\n",
            "Epoch 79/100\n",
            "11/11 [==============================] - 0s 12ms/step - loss: 55.4993 - mae: 5.4313 - val_loss: 67.8490 - val_mae: 5.7993\n",
            "Epoch 80/100\n",
            "11/11 [==============================] - 0s 9ms/step - loss: 55.1207 - mae: 5.4844 - val_loss: 66.6684 - val_mae: 5.7509\n",
            "Epoch 81/100\n",
            "11/11 [==============================] - 0s 14ms/step - loss: 55.0703 - mae: 5.4214 - val_loss: 66.5353 - val_mae: 5.7338\n",
            "Epoch 82/100\n",
            "11/11 [==============================] - 0s 11ms/step - loss: 55.0453 - mae: 5.5413 - val_loss: 64.6438 - val_mae: 5.6924\n",
            "Epoch 83/100\n",
            "11/11 [==============================] - 0s 11ms/step - loss: 54.6748 - mae: 5.4633 - val_loss: 65.9028 - val_mae: 5.7122\n",
            "Epoch 84/100\n",
            "11/11 [==============================] - 0s 11ms/step - loss: 54.0509 - mae: 5.4462 - val_loss: 63.6981 - val_mae: 5.6616\n",
            "Epoch 85/100\n",
            "11/11 [==============================] - 0s 11ms/step - loss: 54.3046 - mae: 5.5138 - val_loss: 65.4178 - val_mae: 5.6867\n",
            "Epoch 86/100\n",
            "11/11 [==============================] - 0s 11ms/step - loss: 53.7864 - mae: 5.3523 - val_loss: 67.3144 - val_mae: 5.7630\n",
            "Epoch 87/100\n",
            "11/11 [==============================] - 0s 11ms/step - loss: 53.2674 - mae: 5.3703 - val_loss: 63.0753 - val_mae: 5.6516\n",
            "Epoch 88/100\n",
            "11/11 [==============================] - 0s 11ms/step - loss: 53.8562 - mae: 5.5249 - val_loss: 63.6423 - val_mae: 5.6411\n",
            "Epoch 89/100\n",
            "11/11 [==============================] - 0s 12ms/step - loss: 54.1003 - mae: 5.3051 - val_loss: 69.1558 - val_mae: 5.8053\n",
            "Epoch 90/100\n",
            "11/11 [==============================] - 0s 8ms/step - loss: 53.1353 - mae: 5.3163 - val_loss: 62.2568 - val_mae: 5.6386\n",
            "Epoch 91/100\n",
            "11/11 [==============================] - 0s 11ms/step - loss: 53.8338 - mae: 5.5509 - val_loss: 62.5914 - val_mae: 5.5911\n",
            "Epoch 92/100\n",
            "11/11 [==============================] - 0s 10ms/step - loss: 52.6257 - mae: 5.2337 - val_loss: 67.4760 - val_mae: 5.7069\n",
            "Epoch 93/100\n",
            "11/11 [==============================] - 0s 8ms/step - loss: 51.9262 - mae: 5.2115 - val_loss: 60.2431 - val_mae: 5.5782\n",
            "Epoch 94/100\n",
            "11/11 [==============================] - 0s 6ms/step - loss: 56.1347 - mae: 5.8657 - val_loss: 58.5400 - val_mae: 5.6055\n",
            "Epoch 95/100\n",
            "11/11 [==============================] - 0s 11ms/step - loss: 53.0597 - mae: 5.2424 - val_loss: 70.4172 - val_mae: 5.8611\n",
            "Epoch 96/100\n",
            "11/11 [==============================] - 0s 7ms/step - loss: 51.7555 - mae: 5.1640 - val_loss: 60.2848 - val_mae: 5.5453\n",
            "Epoch 97/100\n",
            "11/11 [==============================] - 0s 7ms/step - loss: 51.3047 - mae: 5.2714 - val_loss: 62.3259 - val_mae: 5.5578\n",
            "Epoch 98/100\n",
            "11/11 [==============================] - 0s 7ms/step - loss: 50.7476 - mae: 5.1795 - val_loss: 62.6070 - val_mae: 5.5618\n",
            "Epoch 99/100\n",
            "11/11 [==============================] - 0s 9ms/step - loss: 50.4369 - mae: 5.1501 - val_loss: 62.1976 - val_mae: 5.5445\n",
            "Epoch 100/100\n",
            "11/11 [==============================] - 0s 7ms/step - loss: 50.3574 - mae: 5.1733 - val_loss: 61.9011 - val_mae: 5.5508\n"
          ]
        },
        {
          "output_type": "display_data",
          "data": {
            "text/plain": [
              "<Figure size 432x288 with 1 Axes>"
            ],
            "image/png": "[encoded data removed]"
          },
          "metadata": {
            "needs_background": "light"
          }
        },
        {
          "output_type": "stream",
          "name": "stdout",
          "text": [
            "4/4 [==============================] - 0s 3ms/step - loss: 62.5770 - mae: 5.9316\n",
            "loss= 62.57695770263672\n",
            "mae= 5.931615352630615\n"
          ]
        },
        {
          "output_type": "display_data",
          "data": {
            "text/plain": [
              "<Figure size 432x288 with 1 Axes>"
            ],
            "image/png": "[encoded data removed]"
          },
          "metadata": {
            "needs_background": "light"
          }
        }
      ]
    },
    {
      "cell_type": "markdown",
      "metadata": {
        "id": "UA-SF_o25YWJ"
      },
      "source": [
        "## 분류 작업\n",
        "\n",
        "loss를 'sparse_categorical_crossentropy'로 설정한다.\n",
        "\n",
        "<br>\n",
        "\n",
        "출력 데이터 y의 값은 category index 이어야 한다.\n",
        "\n",
        "아래의 예에서의 train_y 값은 다음과 같다.\n",
        "```\n",
        "[1 0 2 1 1 0 1 0 1 2]\n",
        "```\n",
        "\n",
        "<br>\n",
        "\n",
        "loss 이름 'sparse_categorical_crossentropy'에서<br> 'categorical'은 분류작업임을 의미하며,<br> 'sparse'는 y의 값이 category index임을 의미한다.\n",
        "\n"
      ]
    },
    {
      "cell_type": "code",
      "metadata": {
        "id": "MrFM_IGZ6KMp"
      },
      "source": [
        "import numpy as np\n",
        "import pandas as pd\n",
        "import matplotlib.pyplot as plt\n",
        "\n",
        "import tensorflow as tf\n",
        "\n",
        "from tensorflow import keras\n",
        "from tensorflow.keras import optimizers\n",
        "from tensorflow.keras.layers import Dense, Input"
      ],
      "execution_count": null,
      "outputs": []
    },
    {
      "cell_type": "code",
      "metadata": {
        "id": "dG9eE6Zc6b32"
      },
      "source": [
        "def load_iris_data():\n",
        "\n",
        "  df = pd.read_csv(\"https://raw.githubusercontent.com/dhrim/keras_howto_2021/master/data/iris_with_category_index.csv\")\n",
        "  data = df.to_numpy()\n",
        "  np.random.shuffle(data)\n",
        "\n",
        "  x = data[:,:4]\n",
        "  y = data[:,4]\n",
        "\n",
        "  split_index = int(len(x)*0.8)\n",
        "  train_x, test_x = x[:split_index], x[split_index:]\n",
        "  train_y, test_y = y[:split_index], y[split_index:]\n",
        "\n",
        "  return (train_x, train_y), (test_x, test_y)\n"
      ],
      "execution_count": null,
      "outputs": []
    },
    {
      "cell_type": "code",
      "metadata": {
        "id": "QCha9RTF6KFX"
      },
      "source": [
        "(train_x, train_y), (test_x, test_y) = load_iris_data()"
      ],
      "execution_count": null,
      "outputs": []
    },
    {
      "cell_type": "code",
      "metadata": {
        "colab": {
          "base_uri": "https://localhost:8080/"
        },
        "id": "VeZvPn8d-CZE",
        "outputId": "fb391594-1aa2-48fe-9499-8f17fb816a66"
      },
      "source": [
        "print(train_y[:10])"
      ],
      "execution_count": null,
      "outputs": [
        {
          "output_type": "stream",
          "name": "stdout",
          "text": [
            "[1. 0. 1. 2. 1. 1. 1. 2. 2. 0.]\n"
          ]
        }
      ]
    },
    {
      "cell_type": "code",
      "metadata": {
        "colab": {
          "base_uri": "https://localhost:8080/",
          "height": 1000
        },
        "id": "sPCH4Txs6J8x",
        "outputId": "a73b4565-29c3-4c15-96ea-4e7ba017ab9e"
      },
      "source": [
        "# 모델 정의\n",
        "model = keras.Sequential()\n",
        "model.add(Input(4))\n",
        "model.add(Dense(10, activation='relu'))\n",
        "model.add(Dense(10, activation='relu'))\n",
        "# model.add(Dense(1))\n",
        "model.add(Dense(3, activation=\"softmax\"))\n",
        "\n",
        "\n",
        "# 모델 컴파일\n",
        "# model.compile(optimizer=\"Adam\", loss=\"mse\", metrics=[\"mae\"])\n",
        "model.compile(optimizer=\"Adam\", loss=\"sparse_categorical_crossentropy\", metrics=[\"acc\"])\n",
        "model.summary()\n",
        "\n",
        "\n",
        "# 모델 학습\n",
        "history = model.fit(train_x, train_y, epochs=100, batch_size=32, validation_split=0.2)\n",
        "\n",
        "\n",
        "# 학습 로스 보기\n",
        "plt.plot(history.history['loss'], label=\"loss\")\n",
        "plt.plot(history.history['val_loss'], label=\"val_loss\")\n",
        "plt.legend()\n",
        "plt.show()\n",
        "\n",
        "\n",
        "# 평가\n",
        "loss, acc = model.evaluate(test_x, test_y)\n",
        "print(\"loss=\", loss)\n",
        "print(\"acc=\", acc)\n",
        "\n",
        "\n",
        "# 예측\n",
        "y_ = model.predict(test_x)\n",
        "predicted = np.argmax(y_, axis=-1)\n",
        "\n",
        "\n",
        "# 예측 결과 보기\n",
        "plt.plot(test_y, \"o\")\n",
        "plt.plot(predicted, \".\")\n",
        "plt.show()\n"
      ],
      "execution_count": null,
      "outputs": [
        {
          "output_type": "stream",
          "name": "stdout",
          "text": [
            "Model: \"sequential_1\"\n",
            "_________________________________________________________________\n",
            "Layer (type)                 Output Shape              Param #   \n",
            "=================================================================\n",
            "dense_3 (Dense)              (None, 10)                50        \n",
            "_________________________________________________________________\n",
            "dense_4 (Dense)              (None, 10)                110       \n",
            "_________________________________________________________________\n",
            "dense_5 (Dense)              (None, 3)                 33        \n",
            "=================================================================\n",
            "Total params: 193\n",
            "Trainable params: 193\n",
            "Non-trainable params: 0\n",
            "_________________________________________________________________\n",
            "Epoch 1/100\n",
            "3/3 [==============================] - 1s 199ms/step - loss: 3.3494 - acc: 0.3026 - val_loss: 3.2936 - val_acc: 0.3000\n",
            "Epoch 2/100\n",
            "3/3 [==============================] - 0s 22ms/step - loss: 3.1626 - acc: 0.3026 - val_loss: 3.1136 - val_acc: 0.3000\n",
            "Epoch 3/100\n",
            "3/3 [==============================] - 0s 16ms/step - loss: 3.0006 - acc: 0.3026 - val_loss: 2.9464 - val_acc: 0.3000\n",
            "Epoch 4/100\n",
            "3/3 [==============================] - 0s 19ms/step - loss: 2.8349 - acc: 0.3026 - val_loss: 2.7919 - val_acc: 0.3000\n",
            "Epoch 5/100\n",
            "3/3 [==============================] - 0s 21ms/step - loss: 2.6922 - acc: 0.3421 - val_loss: 2.6430 - val_acc: 0.3500\n",
            "Epoch 6/100\n",
            "3/3 [==============================] - 0s 18ms/step - loss: 2.5455 - acc: 0.4474 - val_loss: 2.5007 - val_acc: 0.5500\n",
            "Epoch 7/100\n",
            "3/3 [==============================] - 0s 22ms/step - loss: 2.4208 - acc: 0.5526 - val_loss: 2.3636 - val_acc: 0.6500\n",
            "Epoch 8/100\n",
            "3/3 [==============================] - 0s 16ms/step - loss: 2.2775 - acc: 0.6316 - val_loss: 2.2358 - val_acc: 0.6500\n",
            "Epoch 9/100\n",
            "3/3 [==============================] - 0s 20ms/step - loss: 2.1577 - acc: 0.6579 - val_loss: 2.1092 - val_acc: 0.6500\n",
            "Epoch 10/100\n",
            "3/3 [==============================] - 0s 24ms/step - loss: 2.0465 - acc: 0.6579 - val_loss: 1.9869 - val_acc: 0.6500\n",
            "Epoch 11/100\n",
            "3/3 [==============================] - 0s 27ms/step - loss: 1.9233 - acc: 0.6579 - val_loss: 1.8753 - val_acc: 0.6500\n",
            "Epoch 12/100\n",
            "3/3 [==============================] - 0s 35ms/step - loss: 1.8108 - acc: 0.6579 - val_loss: 1.7705 - val_acc: 0.6500\n",
            "Epoch 13/100\n",
            "3/3 [==============================] - 0s 18ms/step - loss: 1.7185 - acc: 0.6579 - val_loss: 1.6685 - val_acc: 0.6500\n",
            "Epoch 14/100\n",
            "3/3 [==============================] - 0s 20ms/step - loss: 1.6207 - acc: 0.6579 - val_loss: 1.5730 - val_acc: 0.6500\n",
            "Epoch 15/100\n",
            "3/3 [==============================] - 0s 26ms/step - loss: 1.5218 - acc: 0.6579 - val_loss: 1.4858 - val_acc: 0.6500\n",
            "Epoch 16/100\n",
            "3/3 [==============================] - 0s 16ms/step - loss: 1.4424 - acc: 0.6579 - val_loss: 1.4030 - val_acc: 0.6500\n",
            "Epoch 17/100\n",
            "3/3 [==============================] - 0s 29ms/step - loss: 1.3647 - acc: 0.6579 - val_loss: 1.3267 - val_acc: 0.6500\n",
            "Epoch 18/100\n",
            "3/3 [==============================] - 0s 22ms/step - loss: 1.2935 - acc: 0.6579 - val_loss: 1.2580 - val_acc: 0.6500\n",
            "Epoch 19/100\n",
            "3/3 [==============================] - 0s 31ms/step - loss: 1.2363 - acc: 0.6579 - val_loss: 1.1974 - val_acc: 0.6500\n",
            "Epoch 20/100\n",
            "3/3 [==============================] - 0s 25ms/step - loss: 1.1778 - acc: 0.6579 - val_loss: 1.1467 - val_acc: 0.6500\n",
            "Epoch 21/100\n",
            "3/3 [==============================] - 0s 16ms/step - loss: 1.1313 - acc: 0.6579 - val_loss: 1.1036 - val_acc: 0.6500\n",
            "Epoch 22/100\n",
            "3/3 [==============================] - 0s 13ms/step - loss: 1.0910 - acc: 0.6579 - val_loss: 1.0666 - val_acc: 0.6500\n",
            "Epoch 23/100\n",
            "3/3 [==============================] - 0s 23ms/step - loss: 1.0590 - acc: 0.6579 - val_loss: 1.0339 - val_acc: 0.6500\n",
            "Epoch 24/100\n",
            "3/3 [==============================] - 0s 24ms/step - loss: 1.0265 - acc: 0.6447 - val_loss: 1.0080 - val_acc: 0.6500\n",
            "Epoch 25/100\n",
            "3/3 [==============================] - 0s 28ms/step - loss: 1.0001 - acc: 0.5789 - val_loss: 0.9881 - val_acc: 0.6000\n",
            "Epoch 26/100\n",
            "3/3 [==============================] - 0s 29ms/step - loss: 0.9837 - acc: 0.5395 - val_loss: 0.9706 - val_acc: 0.6000\n",
            "Epoch 27/100\n",
            "3/3 [==============================] - 0s 43ms/step - loss: 0.9682 - acc: 0.4868 - val_loss: 0.9572 - val_acc: 0.5000\n",
            "Epoch 28/100\n",
            "3/3 [==============================] - 0s 37ms/step - loss: 0.9558 - acc: 0.4342 - val_loss: 0.9468 - val_acc: 0.4500\n",
            "Epoch 29/100\n",
            "3/3 [==============================] - 0s 20ms/step - loss: 0.9454 - acc: 0.5132 - val_loss: 0.9376 - val_acc: 0.6000\n",
            "Epoch 30/100\n",
            "3/3 [==============================] - 0s 38ms/step - loss: 0.9389 - acc: 0.5132 - val_loss: 0.9296 - val_acc: 0.6000\n",
            "Epoch 31/100\n",
            "3/3 [==============================] - 0s 18ms/step - loss: 0.9305 - acc: 0.5395 - val_loss: 0.9213 - val_acc: 0.5500\n",
            "Epoch 32/100\n",
            "3/3 [==============================] - 0s 23ms/step - loss: 0.9221 - acc: 0.5132 - val_loss: 0.9130 - val_acc: 0.5500\n",
            "Epoch 33/100\n",
            "3/3 [==============================] - 0s 65ms/step - loss: 0.9139 - acc: 0.5132 - val_loss: 0.9047 - val_acc: 0.5500\n",
            "Epoch 34/100\n",
            "3/3 [==============================] - 0s 40ms/step - loss: 0.9058 - acc: 0.5263 - val_loss: 0.8965 - val_acc: 0.5500\n",
            "Epoch 35/100\n",
            "3/3 [==============================] - 0s 34ms/step - loss: 0.8977 - acc: 0.5132 - val_loss: 0.8884 - val_acc: 0.5500\n",
            "Epoch 36/100\n",
            "3/3 [==============================] - 0s 30ms/step - loss: 0.8898 - acc: 0.5263 - val_loss: 0.8807 - val_acc: 0.5500\n",
            "Epoch 37/100\n",
            "3/3 [==============================] - 0s 16ms/step - loss: 0.8822 - acc: 0.5000 - val_loss: 0.8731 - val_acc: 0.6500\n",
            "Epoch 38/100\n",
            "3/3 [==============================] - 0s 19ms/step - loss: 0.8753 - acc: 0.5000 - val_loss: 0.8661 - val_acc: 0.6000\n",
            "Epoch 39/100\n",
            "3/3 [==============================] - 0s 29ms/step - loss: 0.8693 - acc: 0.5000 - val_loss: 0.8594 - val_acc: 0.6000\n",
            "Epoch 40/100\n",
            "3/3 [==============================] - 0s 16ms/step - loss: 0.8621 - acc: 0.5263 - val_loss: 0.8522 - val_acc: 0.7000\n",
            "Epoch 41/100\n",
            "3/3 [==============================] - 0s 25ms/step - loss: 0.8539 - acc: 0.5395 - val_loss: 0.8444 - val_acc: 0.7500\n",
            "Epoch 42/100\n",
            "3/3 [==============================] - 0s 18ms/step - loss: 0.8460 - acc: 0.5789 - val_loss: 0.8362 - val_acc: 0.8500\n",
            "Epoch 43/100\n",
            "3/3 [==============================] - 0s 17ms/step - loss: 0.8376 - acc: 0.6579 - val_loss: 0.8288 - val_acc: 0.8500\n",
            "Epoch 44/100\n",
            "3/3 [==============================] - 0s 25ms/step - loss: 0.8311 - acc: 0.7237 - val_loss: 0.8220 - val_acc: 0.9000\n",
            "Epoch 45/100\n",
            "3/3 [==============================] - 0s 26ms/step - loss: 0.8235 - acc: 0.7763 - val_loss: 0.8153 - val_acc: 0.9500\n",
            "Epoch 46/100\n",
            "3/3 [==============================] - 0s 30ms/step - loss: 0.8172 - acc: 0.8158 - val_loss: 0.8087 - val_acc: 0.9500\n",
            "Epoch 47/100\n",
            "3/3 [==============================] - 0s 24ms/step - loss: 0.8105 - acc: 0.8816 - val_loss: 0.8016 - val_acc: 0.9500\n",
            "Epoch 48/100\n",
            "3/3 [==============================] - 0s 18ms/step - loss: 0.8032 - acc: 0.8684 - val_loss: 0.7938 - val_acc: 0.9500\n",
            "Epoch 49/100\n",
            "3/3 [==============================] - 0s 17ms/step - loss: 0.7956 - acc: 0.8684 - val_loss: 0.7865 - val_acc: 0.9000\n",
            "Epoch 50/100\n",
            "3/3 [==============================] - 0s 37ms/step - loss: 0.7883 - acc: 0.8421 - val_loss: 0.7793 - val_acc: 0.9000\n",
            "Epoch 51/100\n",
            "3/3 [==============================] - 0s 23ms/step - loss: 0.7807 - acc: 0.8421 - val_loss: 0.7721 - val_acc: 0.9000\n",
            "Epoch 52/100\n",
            "3/3 [==============================] - 0s 36ms/step - loss: 0.7740 - acc: 0.8553 - val_loss: 0.7650 - val_acc: 0.9000\n",
            "Epoch 53/100\n",
            "3/3 [==============================] - 0s 28ms/step - loss: 0.7669 - acc: 0.8421 - val_loss: 0.7579 - val_acc: 0.9000\n",
            "Epoch 54/100\n",
            "3/3 [==============================] - 0s 18ms/step - loss: 0.7598 - acc: 0.8421 - val_loss: 0.7509 - val_acc: 0.9000\n",
            "Epoch 55/100\n",
            "3/3 [==============================] - 0s 30ms/step - loss: 0.7528 - acc: 0.8421 - val_loss: 0.7439 - val_acc: 0.9000\n",
            "Epoch 56/100\n",
            "3/3 [==============================] - 0s 18ms/step - loss: 0.7458 - acc: 0.8553 - val_loss: 0.7369 - val_acc: 0.9000\n",
            "Epoch 57/100\n",
            "3/3 [==============================] - 0s 27ms/step - loss: 0.7387 - acc: 0.8553 - val_loss: 0.7299 - val_acc: 0.9000\n",
            "Epoch 58/100\n",
            "3/3 [==============================] - 0s 18ms/step - loss: 0.7319 - acc: 0.8816 - val_loss: 0.7231 - val_acc: 0.9500\n",
            "Epoch 59/100\n",
            "3/3 [==============================] - 0s 18ms/step - loss: 0.7254 - acc: 0.8947 - val_loss: 0.7162 - val_acc: 0.9500\n",
            "Epoch 60/100\n",
            "3/3 [==============================] - 0s 28ms/step - loss: 0.7180 - acc: 0.8947 - val_loss: 0.7093 - val_acc: 0.9500\n",
            "Epoch 61/100\n",
            "3/3 [==============================] - 0s 27ms/step - loss: 0.7118 - acc: 0.9211 - val_loss: 0.7026 - val_acc: 0.9500\n",
            "Epoch 62/100\n",
            "3/3 [==============================] - 0s 32ms/step - loss: 0.7050 - acc: 0.9211 - val_loss: 0.6960 - val_acc: 0.9500\n",
            "Epoch 63/100\n",
            "3/3 [==============================] - 0s 27ms/step - loss: 0.6983 - acc: 0.9211 - val_loss: 0.6893 - val_acc: 0.9500\n",
            "Epoch 64/100\n",
            "3/3 [==============================] - 0s 22ms/step - loss: 0.6916 - acc: 0.9211 - val_loss: 0.6824 - val_acc: 0.9500\n",
            "Epoch 65/100\n",
            "3/3 [==============================] - 0s 22ms/step - loss: 0.6851 - acc: 0.9211 - val_loss: 0.6756 - val_acc: 0.9500\n",
            "Epoch 66/100\n",
            "3/3 [==============================] - 0s 29ms/step - loss: 0.6780 - acc: 0.9211 - val_loss: 0.6691 - val_acc: 0.9500\n",
            "Epoch 67/100\n",
            "3/3 [==============================] - 0s 24ms/step - loss: 0.6719 - acc: 0.9211 - val_loss: 0.6626 - val_acc: 0.9500\n",
            "Epoch 68/100\n",
            "3/3 [==============================] - 0s 26ms/step - loss: 0.6654 - acc: 0.9211 - val_loss: 0.6561 - val_acc: 0.9500\n",
            "Epoch 69/100\n",
            "3/3 [==============================] - 0s 15ms/step - loss: 0.6590 - acc: 0.9211 - val_loss: 0.6493 - val_acc: 0.9500\n",
            "Epoch 70/100\n",
            "3/3 [==============================] - 0s 22ms/step - loss: 0.6525 - acc: 0.9211 - val_loss: 0.6427 - val_acc: 0.9500\n",
            "Epoch 71/100\n",
            "3/3 [==============================] - 0s 35ms/step - loss: 0.6457 - acc: 0.9211 - val_loss: 0.6363 - val_acc: 0.9500\n",
            "Epoch 72/100\n",
            "3/3 [==============================] - 0s 21ms/step - loss: 0.6394 - acc: 0.9211 - val_loss: 0.6298 - val_acc: 0.9500\n",
            "Epoch 73/100\n",
            "3/3 [==============================] - 0s 23ms/step - loss: 0.6328 - acc: 0.9211 - val_loss: 0.6233 - val_acc: 0.9500\n",
            "Epoch 74/100\n",
            "3/3 [==============================] - 0s 31ms/step - loss: 0.6264 - acc: 0.9211 - val_loss: 0.6168 - val_acc: 0.9500\n",
            "Epoch 75/100\n",
            "3/3 [==============================] - 0s 18ms/step - loss: 0.6198 - acc: 0.9211 - val_loss: 0.6105 - val_acc: 0.9500\n",
            "Epoch 76/100\n",
            "3/3 [==============================] - 0s 29ms/step - loss: 0.6140 - acc: 0.9211 - val_loss: 0.6042 - val_acc: 0.9500\n",
            "Epoch 77/100\n",
            "3/3 [==============================] - 0s 45ms/step - loss: 0.6070 - acc: 0.9211 - val_loss: 0.5980 - val_acc: 0.9500\n",
            "Epoch 78/100\n",
            "3/3 [==============================] - 0s 32ms/step - loss: 0.6009 - acc: 0.9211 - val_loss: 0.5917 - val_acc: 0.9500\n",
            "Epoch 79/100\n",
            "3/3 [==============================] - 0s 21ms/step - loss: 0.5945 - acc: 0.9211 - val_loss: 0.5855 - val_acc: 0.9500\n",
            "Epoch 80/100\n",
            "3/3 [==============================] - 0s 17ms/step - loss: 0.5891 - acc: 0.9211 - val_loss: 0.5793 - val_acc: 0.9500\n",
            "Epoch 81/100\n",
            "3/3 [==============================] - 0s 17ms/step - loss: 0.5822 - acc: 0.9211 - val_loss: 0.5735 - val_acc: 0.9500\n",
            "Epoch 82/100\n",
            "3/3 [==============================] - 0s 30ms/step - loss: 0.5762 - acc: 0.9211 - val_loss: 0.5678 - val_acc: 0.9500\n",
            "Epoch 83/100\n",
            "3/3 [==============================] - 0s 18ms/step - loss: 0.5709 - acc: 0.9211 - val_loss: 0.5624 - val_acc: 0.9500\n",
            "Epoch 84/100\n",
            "3/3 [==============================] - 0s 16ms/step - loss: 0.5655 - acc: 0.9211 - val_loss: 0.5567 - val_acc: 0.9500\n",
            "Epoch 85/100\n",
            "3/3 [==============================] - 0s 37ms/step - loss: 0.5596 - acc: 0.9211 - val_loss: 0.5509 - val_acc: 0.9500\n",
            "Epoch 86/100\n",
            "3/3 [==============================] - 0s 34ms/step - loss: 0.5534 - acc: 0.9211 - val_loss: 0.5451 - val_acc: 0.9500\n",
            "Epoch 87/100\n",
            "3/3 [==============================] - 0s 23ms/step - loss: 0.5483 - acc: 0.9211 - val_loss: 0.5406 - val_acc: 0.9500\n",
            "Epoch 88/100\n",
            "3/3 [==============================] - 0s 40ms/step - loss: 0.5429 - acc: 0.9211 - val_loss: 0.5362 - val_acc: 0.9500\n",
            "Epoch 89/100\n",
            "3/3 [==============================] - 0s 20ms/step - loss: 0.5377 - acc: 0.9342 - val_loss: 0.5318 - val_acc: 0.9500\n",
            "Epoch 90/100\n",
            "3/3 [==============================] - 0s 24ms/step - loss: 0.5331 - acc: 0.9342 - val_loss: 0.5273 - val_acc: 0.9500\n",
            "Epoch 91/100\n",
            "3/3 [==============================] - 0s 31ms/step - loss: 0.5283 - acc: 0.9342 - val_loss: 0.5225 - val_acc: 0.9500\n",
            "Epoch 92/100\n",
            "3/3 [==============================] - 0s 48ms/step - loss: 0.5232 - acc: 0.9342 - val_loss: 0.5177 - val_acc: 0.9500\n",
            "Epoch 93/100\n",
            "3/3 [==============================] - 0s 56ms/step - loss: 0.5185 - acc: 0.9342 - val_loss: 0.5130 - val_acc: 0.9500\n",
            "Epoch 94/100\n",
            "3/3 [==============================] - 0s 16ms/step - loss: 0.5131 - acc: 0.9342 - val_loss: 0.5084 - val_acc: 0.9500\n",
            "Epoch 95/100\n",
            "3/3 [==============================] - 0s 25ms/step - loss: 0.5095 - acc: 0.9211 - val_loss: 0.5042 - val_acc: 0.9500\n",
            "Epoch 96/100\n",
            "3/3 [==============================] - 0s 36ms/step - loss: 0.5043 - acc: 0.9211 - val_loss: 0.4999 - val_acc: 0.9500\n",
            "Epoch 97/100\n",
            "3/3 [==============================] - 0s 25ms/step - loss: 0.4997 - acc: 0.9211 - val_loss: 0.4956 - val_acc: 0.9500\n",
            "Epoch 98/100\n",
            "3/3 [==============================] - 0s 17ms/step - loss: 0.4956 - acc: 0.9211 - val_loss: 0.4914 - val_acc: 0.9500\n",
            "Epoch 99/100\n",
            "3/3 [==============================] - 0s 18ms/step - loss: 0.4922 - acc: 0.9211 - val_loss: 0.4874 - val_acc: 0.9500\n",
            "Epoch 100/100\n",
            "3/3 [==============================] - 0s 19ms/step - loss: 0.4869 - acc: 0.9342 - val_loss: 0.4835 - val_acc: 0.9500\n"
          ]
        },
        {
          "output_type": "display_data",
          "data": {
            "text/plain": [
              "<Figure size 432x288 with 1 Axes>"
            ],
            "image/png": "[encoded data removed]"
          },
          "metadata": {
            "needs_background": "light"
          }
        },
        {
          "output_type": "stream",
          "name": "stdout",
          "text": [
            "1/1 [==============================] - 0s 72ms/step - loss: 0.4431 - acc: 0.9583\n",
            "loss= 0.4430950880050659\n",
            "acc= 0.9583333134651184\n"
          ]
        },
        {
          "output_type": "display_data",
          "data": {
            "text/plain": [
              "<Figure size 432x288 with 1 Axes>"
            ],
            "image/png": "[encoded data removed]"
          },
          "metadata": {
            "needs_background": "light"
          }
        }
      ]
    },
    {
      "cell_type": "code",
      "metadata": {
        "id": "E8Y4NIdsywSB"
      },
      "source": [
        ""
      ],
      "execution_count": null,
      "outputs": []
    },
    {
      "cell_type": "markdown",
      "metadata": {
        "id": "aqAvsgBHywm0"
      },
      "source": [
        "## 2진 분류 작업\n",
        "\n",
        "loss를 'binary_crossentropy'로 설정한다.\n",
        "\n",
        "<br>\n",
        "출력 데이터 y의 값은 category index 이어야 한다.\n",
        "\n",
        "2개 카테고리라서 category index값은 0,1 뿐이다.\n",
        "```\n",
        "[1 0 0 1 1 0 1 0 1 0]"
      ]
    },
    {
      "cell_type": "code",
      "metadata": {
        "id": "94G9_98Aywm1"
      },
      "source": [
        "import numpy as np\n",
        "import pandas as pd\n",
        "import matplotlib.pyplot as plt\n",
        "\n",
        "import tensorflow as tf\n",
        "\n",
        "from tensorflow import keras\n",
        "from tensorflow.keras import optimizers\n",
        "from tensorflow.keras.layers import Dense, Input"
      ],
      "execution_count": null,
      "outputs": []
    },
    {
      "cell_type": "code",
      "metadata": {
        "id": "RwYRS-Ckywm2"
      },
      "source": [
        "def load_sonar_data():\n",
        "\n",
        "  df = pd.read_csv(\"https://raw.githubusercontent.com/dhrim/keras_howto_2021/master/data/sonar.csv\")\n",
        "  data = df.to_numpy()\n",
        "  np.random.shuffle(data)\n",
        "\n",
        "  x = data[:,:60]\n",
        "  y = data[:,60]\n",
        "\n",
        "  split_index = int(len(x)*0.8)\n",
        "  train_x, test_x = x[:split_index], x[split_index:]\n",
        "  train_y, test_y = y[:split_index], y[split_index:]\n",
        "\n",
        "  return (train_x, train_y), (test_x, test_y)\n"
      ],
      "execution_count": null,
      "outputs": []
    },
    {
      "cell_type": "code",
      "metadata": {
        "id": "yy1X42Qgywm2"
      },
      "source": [
        "(train_x, train_y), (test_x, test_y) = load_sonar_data()"
      ],
      "execution_count": null,
      "outputs": []
    },
    {
      "cell_type": "code",
      "metadata": {
        "colab": {
          "base_uri": "https://localhost:8080/"
        },
        "id": "mlmqvuQpywm2",
        "outputId": "aa1068bd-f96d-40be-fb7a-4f3e8b40e473"
      },
      "source": [
        "print(train_x.shape)\n",
        "print(train_y.shape)"
      ],
      "execution_count": null,
      "outputs": [
        {
          "output_type": "stream",
          "name": "stdout",
          "text": [
            "(165, 60)\n",
            "(165,)\n"
          ]
        }
      ]
    },
    {
      "cell_type": "code",
      "metadata": {
        "colab": {
          "base_uri": "https://localhost:8080/"
        },
        "id": "j8yLcnQJywm3",
        "outputId": "072bc14a-54b3-432a-91d0-cc1d576a2b24"
      },
      "source": [
        "print(train_x[0])\n",
        "print(train_y[:10])"
      ],
      "execution_count": null,
      "outputs": [
        {
          "output_type": "stream",
          "name": "stdout",
          "text": [
            "[0.0654 0.0649 0.0737 0.1132 0.2482 0.1257 0.1797 0.0989 0.246  0.3422\n",
            " 0.2128 0.1377 0.4032 0.5684 0.2398 0.4331 0.5954 0.5772 0.8176 0.8835\n",
            " 0.5248 0.6373 0.8375 0.6699 0.7756 0.875  0.83   0.6896 0.3372 0.6405\n",
            " 0.7138 0.8202 0.6657 0.5254 0.296  0.0704 0.097  0.3941 0.6028 0.3521\n",
            " 0.3924 0.4808 0.4602 0.4164 0.5438 0.5649 0.3195 0.2484 0.1299 0.0825\n",
            " 0.0243 0.021  0.0361 0.0239 0.0447 0.0394 0.0355 0.044  0.0243 0.0098]\n",
            "[1. 1. 0. 1. 0. 0. 1. 1. 1. 0.]\n"
          ]
        }
      ]
    },
    {
      "cell_type": "code",
      "metadata": {
        "colab": {
          "base_uri": "https://localhost:8080/",
          "height": 1000
        },
        "id": "djYPRxpCywm3",
        "outputId": "9eaaac6a-5753-414c-db62-eff1dfd45605"
      },
      "source": [
        "from tensorflow.keras.metrics import AUC, Precision, Recall\n",
        "\n",
        "# 모델 정의\n",
        "model = keras.Sequential()\n",
        "model.add(Input(60))\n",
        "model.add(Dense(10, activation='relu'))\n",
        "model.add(Dense(10, activation='relu'))\n",
        "# model.add(Dense(3, activation=\"softmax\"))\n",
        "model.add(Dense(1, activation=\"sigmoid\")) # 노드는 1개, activation은 \"sigmoid\"\n",
        "\n",
        "\n",
        "# 모델 컴파일\n",
        "# model.compile(optimizer=\"Adam\", loss=\"sparse_categorical_crossentropy\", metrics=[\"acc\"] )\n",
        "model.compile(optimizer=\"Adam\", loss=\"binary_crossentropy\", metrics=[\"acc\", \"AUC\", Precision(), Recall()])\n",
        "model.summary()\n",
        "\n",
        "\n",
        "# 모델 학습\n",
        "history = model.fit(train_x, train_y, epochs=100, batch_size=32, validation_split=0.2)\n",
        "\n",
        "\n",
        "# 학습 로스 보기\n",
        "plt.plot(history.history['loss'], label=\"loss\")\n",
        "plt.plot(history.history['val_loss'], label=\"val_loss\")\n",
        "plt.legend()\n",
        "plt.show()\n",
        "\n",
        "\n",
        "# 평가\n",
        "loss, acc, auc, precision, recall = model.evaluate(test_x, test_y)\n",
        "print(\"loss=\", loss)\n",
        "print(\"acc=\", acc)\n",
        "print(\"auc=\", auc)\n",
        "print(\"precision=\", precision)\n",
        "print(\"recall=\", recall)\n",
        "\n",
        "\n",
        "# 예측\n",
        "y_ = model.predict(test_x)\n",
        "predicted = (y_>0.5).astype(np.int)\n",
        "\n",
        "\n",
        "# 예측 결과 보기\n",
        "plt.plot(test_y, \"o\")\n",
        "plt.plot(predicted, \".\")\n",
        "plt.show()\n"
      ],
      "execution_count": null,
      "outputs": [
        {
          "output_type": "stream",
          "name": "stdout",
          "text": [
            "Model: \"sequential_4\"\n",
            "_________________________________________________________________\n",
            "Layer (type)                 Output Shape              Param #   \n",
            "=================================================================\n",
            "dense_12 (Dense)             (None, 10)                610       \n",
            "_________________________________________________________________\n",
            "dense_13 (Dense)             (None, 10)                110       \n",
            "_________________________________________________________________\n",
            "dense_14 (Dense)             (None, 1)                 11        \n",
            "=================================================================\n",
            "Total params: 731\n",
            "Trainable params: 731\n",
            "Non-trainable params: 0\n",
            "_________________________________________________________________\n",
            "Epoch 1/100\n",
            "5/5 [==============================] - 1s 109ms/step - loss: 0.6937 - acc: 0.5076 - auc: 0.4084 - precision: 0.5462 - recall: 0.8553 - val_loss: 0.6947 - val_acc: 0.6061 - val_auc: 0.2520 - val_precision: 0.6250 - val_recall: 0.9524\n",
            "Epoch 2/100\n",
            "5/5 [==============================] - 0s 12ms/step - loss: 0.6886 - acc: 0.5758 - auc: 0.4638 - precision: 0.5758 - recall: 1.0000 - val_loss: 0.6900 - val_acc: 0.6364 - val_auc: 0.2262 - val_precision: 0.6364 - val_recall: 1.0000\n",
            "Epoch 3/100\n",
            "5/5 [==============================] - 0s 10ms/step - loss: 0.6842 - acc: 0.5758 - auc: 0.5445 - precision: 0.5758 - recall: 1.0000 - val_loss: 0.6868 - val_acc: 0.6364 - val_auc: 0.2381 - val_precision: 0.6364 - val_recall: 1.0000\n",
            "Epoch 4/100\n",
            "5/5 [==============================] - 0s 11ms/step - loss: 0.6827 - acc: 0.5758 - auc: 0.5634 - precision: 0.5758 - recall: 1.0000 - val_loss: 0.6838 - val_acc: 0.6364 - val_auc: 0.2837 - val_precision: 0.6364 - val_recall: 1.0000\n",
            "Epoch 5/100\n",
            "5/5 [==============================] - 0s 11ms/step - loss: 0.6808 - acc: 0.5758 - auc: 0.5992 - precision: 0.5758 - recall: 1.0000 - val_loss: 0.6813 - val_acc: 0.6364 - val_auc: 0.3115 - val_precision: 0.6364 - val_recall: 1.0000\n",
            "Epoch 6/100\n",
            "5/5 [==============================] - 0s 11ms/step - loss: 0.6792 - acc: 0.5758 - auc: 0.6532 - precision: 0.5758 - recall: 1.0000 - val_loss: 0.6785 - val_acc: 0.6364 - val_auc: 0.3849 - val_precision: 0.6364 - val_recall: 1.0000\n",
            "Epoch 7/100\n",
            "5/5 [==============================] - 0s 15ms/step - loss: 0.6779 - acc: 0.5758 - auc: 0.6622 - precision: 0.5758 - recall: 1.0000 - val_loss: 0.6746 - val_acc: 0.6364 - val_auc: 0.4603 - val_precision: 0.6364 - val_recall: 1.0000\n",
            "Epoch 8/100\n",
            "5/5 [==============================] - 0s 11ms/step - loss: 0.6758 - acc: 0.5758 - auc: 0.7051 - precision: 0.5758 - recall: 1.0000 - val_loss: 0.6727 - val_acc: 0.6364 - val_auc: 0.5179 - val_precision: 0.6364 - val_recall: 1.0000\n",
            "Epoch 9/100\n",
            "5/5 [==============================] - 0s 12ms/step - loss: 0.6746 - acc: 0.5758 - auc: 0.7191 - precision: 0.5758 - recall: 1.0000 - val_loss: 0.6719 - val_acc: 0.6364 - val_auc: 0.5417 - val_precision: 0.6364 - val_recall: 1.0000\n",
            "Epoch 10/100\n",
            "5/5 [==============================] - 0s 11ms/step - loss: 0.6734 - acc: 0.5758 - auc: 0.7252 - precision: 0.5758 - recall: 1.0000 - val_loss: 0.6705 - val_acc: 0.6364 - val_auc: 0.5635 - val_precision: 0.6364 - val_recall: 1.0000\n",
            "Epoch 11/100\n",
            "5/5 [==============================] - 0s 13ms/step - loss: 0.6719 - acc: 0.5758 - auc: 0.7384 - precision: 0.5758 - recall: 1.0000 - val_loss: 0.6679 - val_acc: 0.6364 - val_auc: 0.5714 - val_precision: 0.6364 - val_recall: 1.0000\n",
            "Epoch 12/100\n",
            "5/5 [==============================] - 0s 11ms/step - loss: 0.6702 - acc: 0.5758 - auc: 0.7531 - precision: 0.5758 - recall: 1.0000 - val_loss: 0.6659 - val_acc: 0.6364 - val_auc: 0.5694 - val_precision: 0.6364 - val_recall: 1.0000\n",
            "Epoch 13/100\n",
            "5/5 [==============================] - 0s 12ms/step - loss: 0.6687 - acc: 0.5758 - auc: 0.7736 - precision: 0.5758 - recall: 1.0000 - val_loss: 0.6632 - val_acc: 0.6364 - val_auc: 0.5893 - val_precision: 0.6364 - val_recall: 1.0000\n",
            "Epoch 14/100\n",
            "5/5 [==============================] - 0s 12ms/step - loss: 0.6669 - acc: 0.5758 - auc: 0.7858 - precision: 0.5758 - recall: 1.0000 - val_loss: 0.6603 - val_acc: 0.6364 - val_auc: 0.6230 - val_precision: 0.6364 - val_recall: 1.0000\n",
            "Epoch 15/100\n",
            "5/5 [==============================] - 0s 11ms/step - loss: 0.6655 - acc: 0.5758 - auc: 0.8027 - precision: 0.5758 - recall: 1.0000 - val_loss: 0.6586 - val_acc: 0.6364 - val_auc: 0.6250 - val_precision: 0.6364 - val_recall: 1.0000\n",
            "Epoch 16/100\n",
            "5/5 [==============================] - 0s 12ms/step - loss: 0.6640 - acc: 0.5758 - auc: 0.7930 - precision: 0.5758 - recall: 1.0000 - val_loss: 0.6572 - val_acc: 0.6364 - val_auc: 0.6429 - val_precision: 0.6364 - val_recall: 1.0000\n",
            "Epoch 17/100\n",
            "5/5 [==============================] - 0s 11ms/step - loss: 0.6618 - acc: 0.5758 - auc: 0.7936 - precision: 0.5758 - recall: 1.0000 - val_loss: 0.6557 - val_acc: 0.6364 - val_auc: 0.6528 - val_precision: 0.6364 - val_recall: 1.0000\n",
            "Epoch 18/100\n",
            "5/5 [==============================] - 0s 11ms/step - loss: 0.6602 - acc: 0.5758 - auc: 0.7925 - precision: 0.5758 - recall: 1.0000 - val_loss: 0.6549 - val_acc: 0.6364 - val_auc: 0.6647 - val_precision: 0.6364 - val_recall: 1.0000\n",
            "Epoch 19/100\n",
            "5/5 [==============================] - 0s 11ms/step - loss: 0.6585 - acc: 0.5758 - auc: 0.8011 - precision: 0.5758 - recall: 1.0000 - val_loss: 0.6536 - val_acc: 0.6364 - val_auc: 0.6667 - val_precision: 0.6364 - val_recall: 1.0000\n",
            "Epoch 20/100\n",
            "5/5 [==============================] - 0s 13ms/step - loss: 0.6566 - acc: 0.5758 - auc: 0.8018 - precision: 0.5758 - recall: 1.0000 - val_loss: 0.6504 - val_acc: 0.6364 - val_auc: 0.6726 - val_precision: 0.6364 - val_recall: 1.0000\n",
            "Epoch 21/100\n",
            "5/5 [==============================] - 0s 11ms/step - loss: 0.6540 - acc: 0.5758 - auc: 0.8077 - precision: 0.5758 - recall: 1.0000 - val_loss: 0.6472 - val_acc: 0.6364 - val_auc: 0.6845 - val_precision: 0.6364 - val_recall: 1.0000\n",
            "Epoch 22/100\n",
            "5/5 [==============================] - 0s 11ms/step - loss: 0.6514 - acc: 0.5758 - auc: 0.8163 - precision: 0.5758 - recall: 1.0000 - val_loss: 0.6455 - val_acc: 0.6364 - val_auc: 0.6964 - val_precision: 0.6364 - val_recall: 1.0000\n",
            "Epoch 23/100\n",
            "5/5 [==============================] - 0s 10ms/step - loss: 0.6484 - acc: 0.5758 - auc: 0.8152 - precision: 0.5758 - recall: 1.0000 - val_loss: 0.6424 - val_acc: 0.6364 - val_auc: 0.6925 - val_precision: 0.6364 - val_recall: 1.0000\n",
            "Epoch 24/100\n",
            "5/5 [==============================] - 0s 13ms/step - loss: 0.6453 - acc: 0.5909 - auc: 0.8103 - precision: 0.5846 - recall: 1.0000 - val_loss: 0.6392 - val_acc: 0.6364 - val_auc: 0.6984 - val_precision: 0.6364 - val_recall: 1.0000\n",
            "Epoch 25/100\n",
            "5/5 [==============================] - 0s 12ms/step - loss: 0.6419 - acc: 0.6061 - auc: 0.8173 - precision: 0.5938 - recall: 1.0000 - val_loss: 0.6361 - val_acc: 0.6667 - val_auc: 0.7004 - val_precision: 0.6562 - val_recall: 1.0000\n",
            "Epoch 26/100\n",
            "5/5 [==============================] - 0s 10ms/step - loss: 0.6386 - acc: 0.6061 - auc: 0.8201 - precision: 0.5938 - recall: 1.0000 - val_loss: 0.6322 - val_acc: 0.6970 - val_auc: 0.7004 - val_precision: 0.6774 - val_recall: 1.0000\n",
            "Epoch 27/100\n",
            "5/5 [==============================] - 0s 9ms/step - loss: 0.6347 - acc: 0.6136 - auc: 0.8273 - precision: 0.5984 - recall: 1.0000 - val_loss: 0.6284 - val_acc: 0.6970 - val_auc: 0.7044 - val_precision: 0.6774 - val_recall: 1.0000\n",
            "Epoch 28/100\n",
            "5/5 [==============================] - 0s 11ms/step - loss: 0.6308 - acc: 0.6212 - auc: 0.8352 - precision: 0.6032 - recall: 1.0000 - val_loss: 0.6250 - val_acc: 0.7273 - val_auc: 0.7123 - val_precision: 0.7000 - val_recall: 1.0000\n",
            "Epoch 29/100\n",
            "5/5 [==============================] - 0s 11ms/step - loss: 0.6272 - acc: 0.6439 - auc: 0.8392 - precision: 0.6179 - recall: 1.0000 - val_loss: 0.6230 - val_acc: 0.7273 - val_auc: 0.7242 - val_precision: 0.7000 - val_recall: 1.0000\n",
            "Epoch 30/100\n",
            "5/5 [==============================] - 0s 14ms/step - loss: 0.6233 - acc: 0.7045 - auc: 0.8409 - precision: 0.6609 - recall: 1.0000 - val_loss: 0.6208 - val_acc: 0.7576 - val_auc: 0.7282 - val_precision: 0.7241 - val_recall: 1.0000\n",
            "Epoch 31/100\n",
            "5/5 [==============================] - 0s 12ms/step - loss: 0.6187 - acc: 0.7045 - auc: 0.8457 - precision: 0.6609 - recall: 1.0000 - val_loss: 0.6149 - val_acc: 0.7576 - val_auc: 0.7282 - val_precision: 0.7241 - val_recall: 1.0000\n",
            "Epoch 32/100\n",
            "5/5 [==============================] - 0s 12ms/step - loss: 0.6144 - acc: 0.6970 - auc: 0.8420 - precision: 0.6552 - recall: 1.0000 - val_loss: 0.6089 - val_acc: 0.7576 - val_auc: 0.7440 - val_precision: 0.7241 - val_recall: 1.0000\n",
            "Epoch 33/100\n",
            "5/5 [==============================] - 0s 11ms/step - loss: 0.6100 - acc: 0.6742 - auc: 0.8486 - precision: 0.6387 - recall: 1.0000 - val_loss: 0.6043 - val_acc: 0.7576 - val_auc: 0.7500 - val_precision: 0.7241 - val_recall: 1.0000\n",
            "Epoch 34/100\n",
            "5/5 [==============================] - 0s 11ms/step - loss: 0.6054 - acc: 0.6894 - auc: 0.8477 - precision: 0.6496 - recall: 1.0000 - val_loss: 0.5996 - val_acc: 0.7576 - val_auc: 0.7560 - val_precision: 0.7241 - val_recall: 1.0000\n",
            "Epoch 35/100\n",
            "5/5 [==============================] - 0s 11ms/step - loss: 0.5995 - acc: 0.7045 - auc: 0.8509 - precision: 0.6609 - recall: 1.0000 - val_loss: 0.5977 - val_acc: 0.7273 - val_auc: 0.7698 - val_precision: 0.7143 - val_recall: 0.9524\n",
            "Epoch 36/100\n",
            "5/5 [==============================] - 0s 12ms/step - loss: 0.5942 - acc: 0.7121 - auc: 0.8562 - precision: 0.6696 - recall: 0.9868 - val_loss: 0.5935 - val_acc: 0.7273 - val_auc: 0.7698 - val_precision: 0.7143 - val_recall: 0.9524\n",
            "Epoch 37/100\n",
            "5/5 [==============================] - 0s 11ms/step - loss: 0.5896 - acc: 0.7273 - auc: 0.8522 - precision: 0.6818 - recall: 0.9868 - val_loss: 0.5902 - val_acc: 0.7273 - val_auc: 0.7738 - val_precision: 0.7143 - val_recall: 0.9524\n",
            "Epoch 38/100\n",
            "5/5 [==============================] - 0s 11ms/step - loss: 0.5840 - acc: 0.7273 - auc: 0.8588 - precision: 0.6818 - recall: 0.9868 - val_loss: 0.5873 - val_acc: 0.7273 - val_auc: 0.7778 - val_precision: 0.7308 - val_recall: 0.9048\n",
            "Epoch 39/100\n",
            "5/5 [==============================] - 0s 11ms/step - loss: 0.5790 - acc: 0.7348 - auc: 0.8602 - precision: 0.6916 - recall: 0.9737 - val_loss: 0.5807 - val_acc: 0.7273 - val_auc: 0.7778 - val_precision: 0.7308 - val_recall: 0.9048\n",
            "Epoch 40/100\n",
            "5/5 [==============================] - 0s 11ms/step - loss: 0.5735 - acc: 0.7273 - auc: 0.8638 - precision: 0.6818 - recall: 0.9868 - val_loss: 0.5713 - val_acc: 0.7273 - val_auc: 0.7837 - val_precision: 0.7143 - val_recall: 0.9524\n",
            "Epoch 41/100\n",
            "5/5 [==============================] - 0s 11ms/step - loss: 0.5678 - acc: 0.7273 - auc: 0.8635 - precision: 0.6818 - recall: 0.9868 - val_loss: 0.5649 - val_acc: 0.7273 - val_auc: 0.7917 - val_precision: 0.7143 - val_recall: 0.9524\n",
            "Epoch 42/100\n",
            "5/5 [==============================] - 0s 11ms/step - loss: 0.5614 - acc: 0.7121 - auc: 0.8721 - precision: 0.6696 - recall: 0.9868 - val_loss: 0.5613 - val_acc: 0.7273 - val_auc: 0.7897 - val_precision: 0.7143 - val_recall: 0.9524\n",
            "Epoch 43/100\n",
            "5/5 [==============================] - 0s 11ms/step - loss: 0.5553 - acc: 0.7273 - auc: 0.8694 - precision: 0.6818 - recall: 0.9868 - val_loss: 0.5600 - val_acc: 0.6970 - val_auc: 0.7937 - val_precision: 0.7200 - val_recall: 0.8571\n",
            "Epoch 44/100\n",
            "5/5 [==============================] - 0s 13ms/step - loss: 0.5514 - acc: 0.7576 - auc: 0.8684 - precision: 0.7115 - recall: 0.9737 - val_loss: 0.5578 - val_acc: 0.7576 - val_auc: 0.7996 - val_precision: 0.7826 - val_recall: 0.8571\n",
            "Epoch 45/100\n",
            "5/5 [==============================] - 0s 12ms/step - loss: 0.5440 - acc: 0.7727 - auc: 0.8719 - precision: 0.7300 - recall: 0.9605 - val_loss: 0.5510 - val_acc: 0.7273 - val_auc: 0.8036 - val_precision: 0.7500 - val_recall: 0.8571\n",
            "Epoch 46/100\n",
            "5/5 [==============================] - 0s 12ms/step - loss: 0.5372 - acc: 0.7576 - auc: 0.8732 - precision: 0.7115 - recall: 0.9737 - val_loss: 0.5443 - val_acc: 0.7273 - val_auc: 0.8056 - val_precision: 0.7500 - val_recall: 0.8571\n",
            "Epoch 47/100\n",
            "5/5 [==============================] - 0s 12ms/step - loss: 0.5305 - acc: 0.7576 - auc: 0.8770 - precision: 0.7115 - recall: 0.9737 - val_loss: 0.5413 - val_acc: 0.7273 - val_auc: 0.8115 - val_precision: 0.7500 - val_recall: 0.8571\n",
            "Epoch 48/100\n",
            "5/5 [==============================] - 0s 11ms/step - loss: 0.5242 - acc: 0.7727 - auc: 0.8784 - precision: 0.7255 - recall: 0.9737 - val_loss: 0.5368 - val_acc: 0.7576 - val_auc: 0.8115 - val_precision: 0.7826 - val_recall: 0.8571\n",
            "Epoch 49/100\n",
            "5/5 [==============================] - 0s 14ms/step - loss: 0.5180 - acc: 0.7727 - auc: 0.8793 - precision: 0.7255 - recall: 0.9737 - val_loss: 0.5319 - val_acc: 0.7576 - val_auc: 0.8135 - val_precision: 0.7826 - val_recall: 0.8571\n",
            "Epoch 50/100\n",
            "5/5 [==============================] - 0s 12ms/step - loss: 0.5123 - acc: 0.7727 - auc: 0.8805 - precision: 0.7300 - recall: 0.9605 - val_loss: 0.5297 - val_acc: 0.7273 - val_auc: 0.8175 - val_precision: 0.7727 - val_recall: 0.8095\n",
            "Epoch 51/100\n",
            "5/5 [==============================] - 0s 12ms/step - loss: 0.5071 - acc: 0.7652 - auc: 0.8842 - precision: 0.7419 - recall: 0.9079 - val_loss: 0.5268 - val_acc: 0.7273 - val_auc: 0.8194 - val_precision: 0.7727 - val_recall: 0.8095\n",
            "Epoch 52/100\n",
            "5/5 [==============================] - 0s 10ms/step - loss: 0.5003 - acc: 0.7879 - auc: 0.8892 - precision: 0.7449 - recall: 0.9605 - val_loss: 0.5187 - val_acc: 0.7576 - val_auc: 0.8194 - val_precision: 0.7826 - val_recall: 0.8571\n",
            "Epoch 53/100\n",
            "5/5 [==============================] - 0s 10ms/step - loss: 0.4955 - acc: 0.7727 - auc: 0.8927 - precision: 0.7212 - recall: 0.9868 - val_loss: 0.5137 - val_acc: 0.6970 - val_auc: 0.8175 - val_precision: 0.7200 - val_recall: 0.8571\n",
            "Epoch 54/100\n",
            "5/5 [==============================] - 0s 10ms/step - loss: 0.4921 - acc: 0.7576 - auc: 0.8954 - precision: 0.7075 - recall: 0.9868 - val_loss: 0.5101 - val_acc: 0.7273 - val_auc: 0.8175 - val_precision: 0.7500 - val_recall: 0.8571\n",
            "Epoch 55/100\n",
            "5/5 [==============================] - 0s 10ms/step - loss: 0.4857 - acc: 0.7652 - auc: 0.8943 - precision: 0.7143 - recall: 0.9868 - val_loss: 0.5074 - val_acc: 0.7273 - val_auc: 0.8194 - val_precision: 0.7727 - val_recall: 0.8095\n",
            "Epoch 56/100\n",
            "5/5 [==============================] - 0s 12ms/step - loss: 0.4792 - acc: 0.7803 - auc: 0.8932 - precision: 0.7374 - recall: 0.9605 - val_loss: 0.5085 - val_acc: 0.7273 - val_auc: 0.8214 - val_precision: 0.7727 - val_recall: 0.8095\n",
            "Epoch 57/100\n",
            "5/5 [==============================] - 0s 11ms/step - loss: 0.4772 - acc: 0.7803 - auc: 0.8934 - precision: 0.7701 - recall: 0.8816 - val_loss: 0.5084 - val_acc: 0.7273 - val_auc: 0.8194 - val_precision: 0.7727 - val_recall: 0.8095\n",
            "Epoch 58/100\n",
            "5/5 [==============================] - 0s 9ms/step - loss: 0.4691 - acc: 0.7803 - auc: 0.8961 - precision: 0.7765 - recall: 0.8684 - val_loss: 0.4997 - val_acc: 0.7273 - val_auc: 0.8214 - val_precision: 0.7727 - val_recall: 0.8095\n",
            "Epoch 59/100\n",
            "5/5 [==============================] - 0s 10ms/step - loss: 0.4649 - acc: 0.7727 - auc: 0.8980 - precision: 0.7300 - recall: 0.9605 - val_loss: 0.4948 - val_acc: 0.7576 - val_auc: 0.8274 - val_precision: 0.7826 - val_recall: 0.8571\n",
            "Epoch 60/100\n",
            "5/5 [==============================] - 0s 10ms/step - loss: 0.4606 - acc: 0.7727 - auc: 0.9035 - precision: 0.7255 - recall: 0.9737 - val_loss: 0.4923 - val_acc: 0.7273 - val_auc: 0.8234 - val_precision: 0.7727 - val_recall: 0.8095\n",
            "Epoch 61/100\n",
            "5/5 [==============================] - 0s 11ms/step - loss: 0.4561 - acc: 0.8182 - auc: 0.9005 - precision: 0.7955 - recall: 0.9211 - val_loss: 0.5007 - val_acc: 0.7576 - val_auc: 0.8234 - val_precision: 0.8095 - val_recall: 0.8095\n",
            "Epoch 62/100\n",
            "5/5 [==============================] - 0s 11ms/step - loss: 0.4580 - acc: 0.8106 - auc: 0.9001 - precision: 0.8312 - recall: 0.8421 - val_loss: 0.5017 - val_acc: 0.7576 - val_auc: 0.8234 - val_precision: 0.8095 - val_recall: 0.8095\n",
            "Epoch 63/100\n",
            "5/5 [==============================] - 0s 9ms/step - loss: 0.4516 - acc: 0.8030 - auc: 0.9013 - precision: 0.8205 - recall: 0.8421 - val_loss: 0.4913 - val_acc: 0.7576 - val_auc: 0.8234 - val_precision: 0.8095 - val_recall: 0.8095\n",
            "Epoch 64/100\n",
            "5/5 [==============================] - 0s 9ms/step - loss: 0.4449 - acc: 0.7879 - auc: 0.9030 - precision: 0.7667 - recall: 0.9079 - val_loss: 0.4847 - val_acc: 0.7273 - val_auc: 0.8234 - val_precision: 0.7727 - val_recall: 0.8095\n",
            "Epoch 65/100\n",
            "5/5 [==============================] - 0s 10ms/step - loss: 0.4433 - acc: 0.7803 - auc: 0.9092 - precision: 0.7327 - recall: 0.9737 - val_loss: 0.4833 - val_acc: 0.7273 - val_auc: 0.8214 - val_precision: 0.7727 - val_recall: 0.8095\n",
            "Epoch 66/100\n",
            "5/5 [==============================] - 0s 9ms/step - loss: 0.4380 - acc: 0.7803 - auc: 0.9073 - precision: 0.7374 - recall: 0.9605 - val_loss: 0.4817 - val_acc: 0.7273 - val_auc: 0.8214 - val_precision: 0.7727 - val_recall: 0.8095\n",
            "Epoch 67/100\n",
            "5/5 [==============================] - 0s 10ms/step - loss: 0.4318 - acc: 0.8030 - auc: 0.9075 - precision: 0.7660 - recall: 0.9474 - val_loss: 0.4828 - val_acc: 0.7576 - val_auc: 0.8214 - val_precision: 0.8095 - val_recall: 0.8095\n",
            "Epoch 68/100\n",
            "5/5 [==============================] - 0s 10ms/step - loss: 0.4280 - acc: 0.8258 - auc: 0.9113 - precision: 0.8193 - recall: 0.8947 - val_loss: 0.4959 - val_acc: 0.7879 - val_auc: 0.8254 - val_precision: 0.8889 - val_recall: 0.7619\n",
            "Epoch 69/100\n",
            "5/5 [==============================] - 0s 10ms/step - loss: 0.4448 - acc: 0.8182 - auc: 0.9038 - precision: 0.8714 - recall: 0.8026 - val_loss: 0.5149 - val_acc: 0.8182 - val_auc: 0.8254 - val_precision: 0.9412 - val_recall: 0.7619\n",
            "Epoch 70/100\n",
            "5/5 [==============================] - 0s 11ms/step - loss: 0.4459 - acc: 0.8182 - auc: 0.9013 - precision: 0.8824 - recall: 0.7895 - val_loss: 0.4916 - val_acc: 0.7879 - val_auc: 0.8294 - val_precision: 0.8889 - val_recall: 0.7619\n",
            "Epoch 71/100\n",
            "5/5 [==============================] - 0s 9ms/step - loss: 0.4290 - acc: 0.8106 - auc: 0.9072 - precision: 0.8400 - recall: 0.8289 - val_loss: 0.4758 - val_acc: 0.7879 - val_auc: 0.8254 - val_precision: 0.8500 - val_recall: 0.8095\n",
            "Epoch 72/100\n",
            "5/5 [==============================] - 0s 10ms/step - loss: 0.4196 - acc: 0.8106 - auc: 0.9126 - precision: 0.7802 - recall: 0.9342 - val_loss: 0.4678 - val_acc: 0.7576 - val_auc: 0.8254 - val_precision: 0.8095 - val_recall: 0.8095\n",
            "Epoch 73/100\n",
            "5/5 [==============================] - 0s 10ms/step - loss: 0.4221 - acc: 0.7652 - auc: 0.9174 - precision: 0.7273 - recall: 0.9474 - val_loss: 0.4659 - val_acc: 0.6970 - val_auc: 0.8274 - val_precision: 0.7391 - val_recall: 0.8095\n",
            "Epoch 74/100\n",
            "5/5 [==============================] - 0s 11ms/step - loss: 0.4210 - acc: 0.7727 - auc: 0.9185 - precision: 0.7300 - recall: 0.9605 - val_loss: 0.4633 - val_acc: 0.7576 - val_auc: 0.8294 - val_precision: 0.8095 - val_recall: 0.8095\n",
            "Epoch 75/100\n",
            "5/5 [==============================] - 0s 9ms/step - loss: 0.4129 - acc: 0.7803 - auc: 0.9216 - precision: 0.7423 - recall: 0.9474 - val_loss: 0.4632 - val_acc: 0.7576 - val_auc: 0.8313 - val_precision: 0.8095 - val_recall: 0.8095\n",
            "Epoch 76/100\n",
            "5/5 [==============================] - 0s 9ms/step - loss: 0.4088 - acc: 0.8106 - auc: 0.9206 - precision: 0.7742 - recall: 0.9474 - val_loss: 0.4665 - val_acc: 0.7879 - val_auc: 0.8353 - val_precision: 0.8500 - val_recall: 0.8095\n",
            "Epoch 77/100\n",
            "5/5 [==============================] - 0s 11ms/step - loss: 0.4055 - acc: 0.8182 - auc: 0.9192 - precision: 0.7955 - recall: 0.9211 - val_loss: 0.4638 - val_acc: 0.7879 - val_auc: 0.8353 - val_precision: 0.8500 - val_recall: 0.8095\n",
            "Epoch 78/100\n",
            "5/5 [==============================] - 0s 15ms/step - loss: 0.4036 - acc: 0.8030 - auc: 0.9196 - precision: 0.7660 - recall: 0.9474 - val_loss: 0.4591 - val_acc: 0.7576 - val_auc: 0.8313 - val_precision: 0.8095 - val_recall: 0.8095\n",
            "Epoch 79/100\n",
            "5/5 [==============================] - 0s 15ms/step - loss: 0.4019 - acc: 0.7955 - auc: 0.9214 - precision: 0.7579 - recall: 0.9474 - val_loss: 0.4588 - val_acc: 0.7879 - val_auc: 0.8353 - val_precision: 0.8500 - val_recall: 0.8095\n",
            "Epoch 80/100\n",
            "5/5 [==============================] - 0s 12ms/step - loss: 0.3973 - acc: 0.8106 - auc: 0.9225 - precision: 0.7742 - recall: 0.9474 - val_loss: 0.4609 - val_acc: 0.7879 - val_auc: 0.8353 - val_precision: 0.8500 - val_recall: 0.8095\n",
            "Epoch 81/100\n",
            "5/5 [==============================] - 0s 12ms/step - loss: 0.3973 - acc: 0.8182 - auc: 0.9182 - precision: 0.7955 - recall: 0.9211 - val_loss: 0.4649 - val_acc: 0.7879 - val_auc: 0.8333 - val_precision: 0.8500 - val_recall: 0.8095\n",
            "Epoch 82/100\n",
            "5/5 [==============================] - 0s 15ms/step - loss: 0.3926 - acc: 0.8333 - auc: 0.9208 - precision: 0.8140 - recall: 0.9211 - val_loss: 0.4603 - val_acc: 0.7879 - val_auc: 0.8333 - val_precision: 0.8500 - val_recall: 0.8095\n",
            "Epoch 83/100\n",
            "5/5 [==============================] - 0s 11ms/step - loss: 0.3898 - acc: 0.8182 - auc: 0.9216 - precision: 0.7889 - recall: 0.9342 - val_loss: 0.4579 - val_acc: 0.7879 - val_auc: 0.8353 - val_precision: 0.8500 - val_recall: 0.8095\n",
            "Epoch 84/100\n",
            "5/5 [==============================] - 0s 12ms/step - loss: 0.3879 - acc: 0.8106 - auc: 0.9233 - precision: 0.7802 - recall: 0.9342 - val_loss: 0.4585 - val_acc: 0.7879 - val_auc: 0.8373 - val_precision: 0.8500 - val_recall: 0.8095\n",
            "Epoch 85/100\n",
            "5/5 [==============================] - 0s 11ms/step - loss: 0.3841 - acc: 0.8258 - auc: 0.9226 - precision: 0.8118 - recall: 0.9079 - val_loss: 0.4688 - val_acc: 0.7879 - val_auc: 0.8413 - val_precision: 0.8889 - val_recall: 0.7619\n",
            "Epoch 86/100\n",
            "5/5 [==============================] - 0s 12ms/step - loss: 0.3906 - acc: 0.8333 - auc: 0.9206 - precision: 0.8553 - recall: 0.8553 - val_loss: 0.4715 - val_acc: 0.7879 - val_auc: 0.8472 - val_precision: 0.8889 - val_recall: 0.7619\n",
            "Epoch 87/100\n",
            "5/5 [==============================] - 0s 10ms/step - loss: 0.3804 - acc: 0.8485 - auc: 0.9265 - precision: 0.8415 - recall: 0.9079 - val_loss: 0.4529 - val_acc: 0.7879 - val_auc: 0.8492 - val_precision: 0.8500 - val_recall: 0.8095\n",
            "Epoch 88/100\n",
            "5/5 [==============================] - 0s 10ms/step - loss: 0.3801 - acc: 0.8106 - auc: 0.9263 - precision: 0.7802 - recall: 0.9342 - val_loss: 0.4491 - val_acc: 0.7879 - val_auc: 0.8452 - val_precision: 0.8500 - val_recall: 0.8095\n",
            "Epoch 89/100\n",
            "5/5 [==============================] - 0s 11ms/step - loss: 0.3787 - acc: 0.8030 - auc: 0.9286 - precision: 0.7660 - recall: 0.9474 - val_loss: 0.4491 - val_acc: 0.7879 - val_auc: 0.8492 - val_precision: 0.8500 - val_recall: 0.8095\n",
            "Epoch 90/100\n",
            "5/5 [==============================] - 0s 10ms/step - loss: 0.3754 - acc: 0.8182 - auc: 0.9274 - precision: 0.7889 - recall: 0.9342 - val_loss: 0.4516 - val_acc: 0.7879 - val_auc: 0.8571 - val_precision: 0.8500 - val_recall: 0.8095\n",
            "Epoch 91/100\n",
            "5/5 [==============================] - 0s 10ms/step - loss: 0.3725 - acc: 0.8258 - auc: 0.9285 - precision: 0.7978 - recall: 0.9342 - val_loss: 0.4504 - val_acc: 0.7879 - val_auc: 0.8571 - val_precision: 0.8500 - val_recall: 0.8095\n",
            "Epoch 92/100\n",
            "5/5 [==============================] - 0s 9ms/step - loss: 0.3706 - acc: 0.8182 - auc: 0.9297 - precision: 0.7889 - recall: 0.9342 - val_loss: 0.4479 - val_acc: 0.7879 - val_auc: 0.8552 - val_precision: 0.8500 - val_recall: 0.8095\n",
            "Epoch 93/100\n",
            "5/5 [==============================] - 0s 13ms/step - loss: 0.3708 - acc: 0.8030 - auc: 0.9301 - precision: 0.7717 - recall: 0.9342 - val_loss: 0.4466 - val_acc: 0.7879 - val_auc: 0.8552 - val_precision: 0.8500 - val_recall: 0.8095\n",
            "Epoch 94/100\n",
            "5/5 [==============================] - 0s 11ms/step - loss: 0.3701 - acc: 0.7955 - auc: 0.9295 - precision: 0.7634 - recall: 0.9342 - val_loss: 0.4460 - val_acc: 0.7879 - val_auc: 0.8532 - val_precision: 0.8500 - val_recall: 0.8095\n",
            "Epoch 95/100\n",
            "5/5 [==============================] - 0s 14ms/step - loss: 0.3676 - acc: 0.8030 - auc: 0.9317 - precision: 0.7717 - recall: 0.9342 - val_loss: 0.4455 - val_acc: 0.7879 - val_auc: 0.8591 - val_precision: 0.8500 - val_recall: 0.8095\n",
            "Epoch 96/100\n",
            "5/5 [==============================] - 0s 10ms/step - loss: 0.3649 - acc: 0.8030 - auc: 0.9320 - precision: 0.7717 - recall: 0.9342 - val_loss: 0.4467 - val_acc: 0.7879 - val_auc: 0.8611 - val_precision: 0.8500 - val_recall: 0.8095\n",
            "Epoch 97/100\n",
            "5/5 [==============================] - 0s 10ms/step - loss: 0.3621 - acc: 0.8333 - auc: 0.9306 - precision: 0.8068 - recall: 0.9342 - val_loss: 0.4520 - val_acc: 0.8182 - val_auc: 0.8611 - val_precision: 0.8947 - val_recall: 0.8095\n",
            "Epoch 98/100\n",
            "5/5 [==============================] - 0s 11ms/step - loss: 0.3589 - acc: 0.8333 - auc: 0.9319 - precision: 0.8140 - recall: 0.9211 - val_loss: 0.4491 - val_acc: 0.7879 - val_auc: 0.8611 - val_precision: 0.8500 - val_recall: 0.8095\n",
            "Epoch 99/100\n",
            "5/5 [==============================] - 0s 12ms/step - loss: 0.3582 - acc: 0.8106 - auc: 0.9330 - precision: 0.7802 - recall: 0.9342 - val_loss: 0.4457 - val_acc: 0.7879 - val_auc: 0.8591 - val_precision: 0.8500 - val_recall: 0.8095\n",
            "Epoch 100/100\n",
            "5/5 [==============================] - 0s 11ms/step - loss: 0.3568 - acc: 0.8258 - auc: 0.9315 - precision: 0.8046 - recall: 0.9211 - val_loss: 0.4530 - val_acc: 0.7879 - val_auc: 0.8671 - val_precision: 0.8889 - val_recall: 0.7619\n"
          ]
        },
        {
          "output_type": "display_data",
          "data": {
            "text/plain": [
              "<Figure size 432x288 with 1 Axes>"
            ],
            "image/png": "[encoded data removed]"
          },
          "metadata": {
            "needs_background": "light"
          }
        },
        {
          "output_type": "stream",
          "name": "stdout",
          "text": [
            "2/2 [==============================] - 0s 9ms/step - loss: 0.6891 - acc: 0.6190 - auc: 0.7526 - precision: 0.4545 - recall: 0.7143\n",
            "loss= 0.6891434788703918\n",
            "acc= 0.6190476417541504\n",
            "auc= 0.7525509595870972\n",
            "precision= 0.4545454680919647\n",
            "recall= 0.7142857313156128\n",
            "WARNING:tensorflow:5 out of the last 11 calls to <function Model.make_predict_function.<locals>.predict_function at 0x7f6bb0d60680> triggered tf.function retracing. Tracing is expensive and the excessive number of tracings could be due to (1) creating @tf.function repeatedly in a loop, (2) passing tensors with different shapes, (3) passing Python objects instead of tensors. For (1), please define your @tf.function outside of the loop. For (2), @tf.function has experimental_relax_shapes=True option that relaxes argument shapes that can avoid unnecessary retracing. For (3), please refer to https://www.tensorflow.org/guide/function#controlling_retracing and https://www.tensorflow.org/api_docs/python/tf/function for  more details.\n"
          ]
        },
        {
          "output_type": "display_data",
          "data": {
            "text/plain": [
              "<Figure size 432x288 with 1 Axes>"
            ],
            "image/png": "[encoded data removed]"
          },
          "metadata": {
            "needs_background": "light"
          }
        }
      ]
    },
    {
      "cell_type": "markdown",
      "metadata": {
        "id": "WCwdsoZC47PQ"
      },
      "source": [
        "# 지표 설정"
      ]
    },
    {
      "cell_type": "markdown",
      "metadata": {
        "id": "AgYji31I5egu"
      },
      "source": [
        "## 회귀 작업\n",
        "\n",
        "\"mae\", \"mape\" 등을 설정할 수 있다.\n",
        "- 'mae' : mean absolute error\n",
        "- 'mape' : mean absolute percentage error"
      ]
    },
    {
      "cell_type": "code",
      "metadata": {
        "id": "-99ObHPL9cMv"
      },
      "source": [
        "import numpy as np\n",
        "import pandas as pd\n",
        "import matplotlib.pyplot as plt\n",
        "\n",
        "import tensorflow as tf\n",
        "\n",
        "from tensorflow import keras\n",
        "from tensorflow.keras import optimizers\n",
        "from tensorflow.keras.layers import Dense, Input"
      ],
      "execution_count": null,
      "outputs": []
    },
    {
      "cell_type": "code",
      "metadata": {
        "id": "szI-a-nq9cMv"
      },
      "source": [
        "(train_x, train_y), (test_x, test_y) = tf.keras.datasets.boston_housing.load_data()"
      ],
      "execution_count": null,
      "outputs": []
    },
    {
      "cell_type": "code",
      "metadata": {
        "colab": {
          "base_uri": "https://localhost:8080/",
          "height": 1000
        },
        "id": "mBm0twyZ9cMv",
        "outputId": "05547e42-215b-49ff-e9a6-eea7abc30adb"
      },
      "source": [
        "# 모델 정의\n",
        "model = keras.Sequential()\n",
        "model.add(Input(13))\n",
        "model.add(Dense(10, activation='relu'))\n",
        "model.add(Dense(10, activation='relu'))\n",
        "model.add(Dense(1))\n",
        "\n",
        "\n",
        "# 모델 컴파일\n",
        "model.compile(optimizer=\"Adam\", loss=\"mse\", metrics=[\"mae\", \"mape\"])\n",
        "model.summary()\n",
        "\n",
        "\n",
        "# 모델 학습\n",
        "history = model.fit(train_x, train_y, epochs=100, batch_size=32, validation_split=0.2)\n",
        "\n",
        "\n",
        "# 학습 로스 보기\n",
        "plt.plot(history.history['loss'], label=\"loss\")\n",
        "plt.plot(history.history['val_loss'], label=\"val_loss\")\n",
        "plt.legend()\n",
        "plt.show()\n",
        "\n",
        "\n",
        "# 평가\n",
        "loss, mae, mape = model.evaluate(test_x, test_y)\n",
        "print(\"loss=\", loss)\n",
        "print(\"mae=\", mae)\n",
        "print(\"mape=\", mape)\n",
        "\n",
        "\n",
        "# 예측\n",
        "y_ = model.predict(test_x)\n",
        "\n",
        "\n",
        "# 예측 결과 보기\n",
        "plt.scatter(test_y, y_)\n",
        "plt.show()\n"
      ],
      "execution_count": null,
      "outputs": [
        {
          "output_type": "stream",
          "name": "stdout",
          "text": [
            "Model: \"sequential_2\"\n",
            "_________________________________________________________________\n",
            "Layer (type)                 Output Shape              Param #   \n",
            "=================================================================\n",
            "dense_6 (Dense)              (None, 10)                140       \n",
            "_________________________________________________________________\n",
            "dense_7 (Dense)              (None, 10)                110       \n",
            "_________________________________________________________________\n",
            "dense_8 (Dense)              (None, 1)                 11        \n",
            "=================================================================\n",
            "Total params: 261\n",
            "Trainable params: 261\n",
            "Non-trainable params: 0\n",
            "_________________________________________________________________\n",
            "Epoch 1/100\n",
            "11/11 [==============================] - 1s 28ms/step - loss: 431.3896 - mae: 12.3779 - mape: 77.2216 - val_loss: 189.1593 - val_mae: 9.5992 - val_mape: 47.6948\n",
            "Epoch 2/100\n",
            "11/11 [==============================] - 0s 10ms/step - loss: 212.0603 - mae: 10.7569 - mape: 60.9391 - val_loss: 123.3233 - val_mae: 8.0960 - val_mape: 36.3577\n",
            "Epoch 3/100\n",
            "11/11 [==============================] - 0s 5ms/step - loss: 121.2019 - mae: 8.2806 - mape: 45.1667 - val_loss: 93.1257 - val_mae: 6.4908 - val_mape: 25.8476\n",
            "Epoch 4/100\n",
            "11/11 [==============================] - 0s 5ms/step - loss: 92.4068 - mae: 6.8701 - mape: 33.8166 - val_loss: 86.4839 - val_mae: 6.2705 - val_mape: 24.5685\n",
            "Epoch 5/100\n",
            "11/11 [==============================] - 0s 6ms/step - loss: 79.5723 - mae: 6.5849 - mape: 33.1083 - val_loss: 85.6697 - val_mae: 6.2672 - val_mape: 24.5916\n",
            "Epoch 6/100\n",
            "11/11 [==============================] - 0s 5ms/step - loss: 77.9329 - mae: 6.3925 - mape: 31.2696 - val_loss: 84.7792 - val_mae: 6.2237 - val_mape: 24.6013\n",
            "Epoch 7/100\n",
            "11/11 [==============================] - 0s 5ms/step - loss: 74.9399 - mae: 6.3546 - mape: 31.5272 - val_loss: 83.0803 - val_mae: 6.1414 - val_mape: 24.5685\n",
            "Epoch 8/100\n",
            "11/11 [==============================] - 0s 5ms/step - loss: 73.0046 - mae: 6.2318 - mape: 30.9652 - val_loss: 83.1021 - val_mae: 6.1691 - val_mape: 24.4961\n",
            "Epoch 9/100\n",
            "11/11 [==============================] - 0s 6ms/step - loss: 72.8994 - mae: 6.1075 - mape: 29.6816 - val_loss: 80.8785 - val_mae: 6.1969 - val_mape: 25.0369\n",
            "Epoch 10/100\n",
            "11/11 [==============================] - 0s 5ms/step - loss: 74.2220 - mae: 6.6385 - mape: 34.9878 - val_loss: 81.2114 - val_mae: 6.0944 - val_mape: 24.4062\n",
            "Epoch 11/100\n",
            "11/11 [==============================] - 0s 5ms/step - loss: 73.7460 - mae: 5.9593 - mape: 27.8848 - val_loss: 78.4211 - val_mae: 6.0945 - val_mape: 25.0838\n",
            "Epoch 12/100\n",
            "11/11 [==============================] - 0s 5ms/step - loss: 69.8966 - mae: 6.2386 - mape: 31.9157 - val_loss: 79.4540 - val_mae: 6.1189 - val_mape: 24.6674\n",
            "Epoch 13/100\n",
            "11/11 [==============================] - 0s 5ms/step - loss: 68.6367 - mae: 5.9127 - mape: 28.8998 - val_loss: 79.2680 - val_mae: 6.0913 - val_mape: 24.4553\n",
            "Epoch 14/100\n",
            "11/11 [==============================] - 0s 5ms/step - loss: 67.6290 - mae: 6.0086 - mape: 30.2735 - val_loss: 78.2614 - val_mae: 6.1800 - val_mape: 25.0947\n",
            "Epoch 15/100\n",
            "11/11 [==============================] - 0s 5ms/step - loss: 67.0614 - mae: 6.0265 - mape: 30.3550 - val_loss: 75.8085 - val_mae: 6.1164 - val_mape: 25.2774\n",
            "Epoch 16/100\n",
            "11/11 [==============================] - 0s 5ms/step - loss: 69.2435 - mae: 6.3147 - mape: 33.2850 - val_loss: 80.6139 - val_mae: 6.3225 - val_mape: 25.4512\n",
            "Epoch 17/100\n",
            "11/11 [==============================] - 0s 4ms/step - loss: 66.6702 - mae: 5.7592 - mape: 27.6573 - val_loss: 74.9279 - val_mae: 5.9609 - val_mape: 25.0666\n",
            "Epoch 18/100\n",
            "11/11 [==============================] - 0s 5ms/step - loss: 68.0999 - mae: 6.1689 - mape: 31.2566 - val_loss: 79.4629 - val_mae: 6.0678 - val_mape: 24.3319\n",
            "Epoch 19/100\n",
            "11/11 [==============================] - 0s 6ms/step - loss: 64.9631 - mae: 5.7508 - mape: 27.9471 - val_loss: 72.5278 - val_mae: 6.1774 - val_mape: 26.2226\n",
            "Epoch 20/100\n",
            "11/11 [==============================] - 0s 5ms/step - loss: 65.4403 - mae: 5.9590 - mape: 30.1905 - val_loss: 75.7143 - val_mae: 6.0958 - val_mape: 24.7521\n",
            "Epoch 21/100\n",
            "11/11 [==============================] - 0s 5ms/step - loss: 62.9834 - mae: 5.7978 - mape: 28.9240 - val_loss: 71.1215 - val_mae: 6.0384 - val_mape: 25.5232\n",
            "Epoch 22/100\n",
            "11/11 [==============================] - 0s 5ms/step - loss: 63.1390 - mae: 5.7274 - mape: 28.1412 - val_loss: 69.8535 - val_mae: 5.9989 - val_mape: 25.4463\n",
            "Epoch 23/100\n",
            "11/11 [==============================] - 0s 4ms/step - loss: 64.8065 - mae: 5.9611 - mape: 29.9874 - val_loss: 71.0353 - val_mae: 5.8543 - val_mape: 24.0664\n",
            "Epoch 24/100\n",
            "11/11 [==============================] - 0s 5ms/step - loss: 62.7541 - mae: 5.6789 - mape: 27.8092 - val_loss: 70.7865 - val_mae: 6.0997 - val_mape: 25.3305\n",
            "Epoch 25/100\n",
            "11/11 [==============================] - 0s 5ms/step - loss: 61.2131 - mae: 5.6867 - mape: 28.2698 - val_loss: 70.4423 - val_mae: 5.9728 - val_mape: 24.7496\n",
            "Epoch 26/100\n",
            "11/11 [==============================] - 0s 5ms/step - loss: 60.5686 - mae: 5.6908 - mape: 28.2217 - val_loss: 70.0786 - val_mae: 5.9249 - val_mape: 24.4887\n",
            "Epoch 27/100\n",
            "11/11 [==============================] - 0s 5ms/step - loss: 59.7614 - mae: 5.5912 - mape: 27.5995 - val_loss: 70.3969 - val_mae: 5.9955 - val_mape: 24.6061\n",
            "Epoch 28/100\n",
            "11/11 [==============================] - 0s 4ms/step - loss: 59.9163 - mae: 5.4705 - mape: 26.2518 - val_loss: 68.4679 - val_mae: 5.8696 - val_mape: 24.3244\n",
            "Epoch 29/100\n",
            "11/11 [==============================] - 0s 4ms/step - loss: 58.2606 - mae: 5.5384 - mape: 27.4345 - val_loss: 68.8392 - val_mae: 5.8287 - val_mape: 23.9028\n",
            "Epoch 30/100\n",
            "11/11 [==============================] - 0s 4ms/step - loss: 58.1324 - mae: 5.4930 - mape: 26.8770 - val_loss: 69.2027 - val_mae: 5.7391 - val_mape: 23.2704\n",
            "Epoch 31/100\n",
            "11/11 [==============================] - 0s 4ms/step - loss: 58.4923 - mae: 5.3701 - mape: 25.4766 - val_loss: 66.2793 - val_mae: 6.0657 - val_mape: 26.2080\n",
            "Epoch 32/100\n",
            "11/11 [==============================] - 0s 4ms/step - loss: 61.5230 - mae: 6.0543 - mape: 31.7150 - val_loss: 72.6463 - val_mae: 5.7547 - val_mape: 22.8155\n",
            "Epoch 33/100\n",
            "11/11 [==============================] - 0s 4ms/step - loss: 60.5310 - mae: 5.3837 - mape: 25.2940 - val_loss: 66.4076 - val_mae: 5.8551 - val_mape: 24.4005\n",
            "Epoch 34/100\n",
            "11/11 [==============================] - 0s 4ms/step - loss: 58.4070 - mae: 5.3782 - mape: 25.7664 - val_loss: 65.7360 - val_mae: 5.7655 - val_mape: 24.0951\n",
            "Epoch 35/100\n",
            "11/11 [==============================] - 0s 4ms/step - loss: 56.4674 - mae: 5.3599 - mape: 25.8987 - val_loss: 66.5517 - val_mae: 5.7368 - val_mape: 23.5438\n",
            "Epoch 36/100\n",
            "11/11 [==============================] - 0s 6ms/step - loss: 56.0926 - mae: 5.3535 - mape: 26.0985 - val_loss: 65.4944 - val_mae: 5.7525 - val_mape: 23.7559\n",
            "Epoch 37/100\n",
            "11/11 [==============================] - 0s 5ms/step - loss: 56.4756 - mae: 5.5121 - mape: 27.7942 - val_loss: 64.7651 - val_mae: 5.6950 - val_mape: 23.5880\n",
            "Epoch 38/100\n",
            "11/11 [==============================] - 0s 5ms/step - loss: 58.0100 - mae: 5.7993 - mape: 29.6373 - val_loss: 66.9895 - val_mae: 5.6506 - val_mape: 22.9455\n",
            "Epoch 39/100\n",
            "11/11 [==============================] - 0s 5ms/step - loss: 55.4952 - mae: 5.3995 - mape: 26.9024 - val_loss: 65.3460 - val_mae: 5.7606 - val_mape: 23.7386\n",
            "Epoch 40/100\n",
            "11/11 [==============================] - 0s 4ms/step - loss: 54.9959 - mae: 5.1936 - mape: 24.6921 - val_loss: 64.1281 - val_mae: 5.6886 - val_mape: 23.7080\n",
            "Epoch 41/100\n",
            "11/11 [==============================] - 0s 4ms/step - loss: 54.7242 - mae: 5.3169 - mape: 26.0742 - val_loss: 62.7230 - val_mae: 5.7900 - val_mape: 24.5340\n",
            "Epoch 42/100\n",
            "11/11 [==============================] - 0s 5ms/step - loss: 54.1587 - mae: 5.2701 - mape: 25.9465 - val_loss: 62.8312 - val_mae: 5.6681 - val_mape: 23.6162\n",
            "Epoch 43/100\n",
            "11/11 [==============================] - 0s 4ms/step - loss: 54.1571 - mae: 5.2105 - mape: 25.0824 - val_loss: 61.9828 - val_mae: 5.6210 - val_mape: 23.5642\n",
            "Epoch 44/100\n",
            "11/11 [==============================] - 0s 4ms/step - loss: 53.8152 - mae: 5.1922 - mape: 24.8948 - val_loss: 64.5028 - val_mae: 5.5506 - val_mape: 22.4761\n",
            "Epoch 45/100\n",
            "11/11 [==============================] - 0s 5ms/step - loss: 55.9750 - mae: 5.1999 - mape: 25.1785 - val_loss: 63.1232 - val_mae: 6.1503 - val_mape: 26.8603\n",
            "Epoch 46/100\n",
            "11/11 [==============================] - 0s 5ms/step - loss: 55.1449 - mae: 5.3652 - mape: 27.2469 - val_loss: 65.7050 - val_mae: 5.6019 - val_mape: 22.6282\n",
            "Epoch 47/100\n",
            "11/11 [==============================] - 0s 5ms/step - loss: 53.2625 - mae: 5.0896 - mape: 24.4223 - val_loss: 60.2170 - val_mae: 5.9029 - val_mape: 25.7319\n",
            "Epoch 48/100\n",
            "11/11 [==============================] - 0s 4ms/step - loss: 54.4638 - mae: 5.5983 - mape: 28.7975 - val_loss: 65.5508 - val_mae: 5.5189 - val_mape: 21.9603\n",
            "Epoch 49/100\n",
            "11/11 [==============================] - 0s 6ms/step - loss: 53.7238 - mae: 5.0269 - mape: 23.3703 - val_loss: 59.6691 - val_mae: 5.8686 - val_mape: 25.5821\n",
            "Epoch 50/100\n",
            "11/11 [==============================] - 0s 5ms/step - loss: 54.4379 - mae: 5.6346 - mape: 29.1806 - val_loss: 67.4444 - val_mae: 5.5884 - val_mape: 21.8645\n",
            "Epoch 51/100\n",
            "11/11 [==============================] - 0s 4ms/step - loss: 55.0790 - mae: 5.2084 - mape: 24.7581 - val_loss: 59.0479 - val_mae: 5.6924 - val_mape: 24.5189\n",
            "Epoch 52/100\n",
            "11/11 [==============================] - 0s 4ms/step - loss: 52.6784 - mae: 5.1329 - mape: 25.1114 - val_loss: 61.9126 - val_mae: 5.4297 - val_mape: 21.6453\n",
            "Epoch 53/100\n",
            "11/11 [==============================] - 0s 4ms/step - loss: 50.0634 - mae: 4.9750 - mape: 24.1549 - val_loss: 57.9843 - val_mae: 5.6627 - val_mape: 24.4473\n",
            "Epoch 54/100\n",
            "11/11 [==============================] - 0s 4ms/step - loss: 51.5410 - mae: 5.1642 - mape: 25.8208 - val_loss: 59.4063 - val_mae: 5.3911 - val_mape: 21.9659\n",
            "Epoch 55/100\n",
            "11/11 [==============================] - 0s 4ms/step - loss: 50.8170 - mae: 4.9822 - mape: 24.4224 - val_loss: 57.5487 - val_mae: 5.5404 - val_mape: 23.2342\n",
            "Epoch 56/100\n",
            "11/11 [==============================] - 0s 4ms/step - loss: 51.8894 - mae: 5.2208 - mape: 26.3394 - val_loss: 62.5931 - val_mae: 5.3289 - val_mape: 21.2893\n",
            "Epoch 57/100\n",
            "11/11 [==============================] - 0s 4ms/step - loss: 51.5101 - mae: 4.9987 - mape: 24.1421 - val_loss: 55.9331 - val_mae: 5.4810 - val_mape: 23.3257\n",
            "Epoch 58/100\n",
            "11/11 [==============================] - 0s 4ms/step - loss: 48.7870 - mae: 4.9694 - mape: 24.8664 - val_loss: 58.4195 - val_mae: 5.3918 - val_mape: 21.7185\n",
            "Epoch 59/100\n",
            "11/11 [==============================] - 0s 4ms/step - loss: 49.4850 - mae: 4.8670 - mape: 23.6350 - val_loss: 55.2264 - val_mae: 5.4416 - val_mape: 23.0546\n",
            "Epoch 60/100\n",
            "11/11 [==============================] - 0s 4ms/step - loss: 48.9572 - mae: 4.9649 - mape: 24.2476 - val_loss: 58.0109 - val_mae: 5.2895 - val_mape: 21.1573\n",
            "Epoch 61/100\n",
            "11/11 [==============================] - 0s 4ms/step - loss: 48.6547 - mae: 4.8560 - mape: 23.7257 - val_loss: 54.9111 - val_mae: 5.3849 - val_mape: 22.5494\n",
            "Epoch 62/100\n",
            "11/11 [==============================] - 0s 4ms/step - loss: 48.0720 - mae: 4.9283 - mape: 24.3154 - val_loss: 55.7632 - val_mae: 5.2091 - val_mape: 21.2743\n",
            "Epoch 63/100\n",
            "11/11 [==============================] - 0s 4ms/step - loss: 48.0950 - mae: 4.8981 - mape: 24.2054 - val_loss: 54.4504 - val_mae: 5.3154 - val_mape: 21.8913\n",
            "Epoch 64/100\n",
            "11/11 [==============================] - 0s 4ms/step - loss: 47.8532 - mae: 4.8112 - mape: 23.4363 - val_loss: 52.8639 - val_mae: 5.3954 - val_mape: 23.0664\n",
            "Epoch 65/100\n",
            "11/11 [==============================] - 0s 5ms/step - loss: 47.8480 - mae: 4.9264 - mape: 24.6152 - val_loss: 56.5179 - val_mae: 5.1548 - val_mape: 20.4900\n",
            "Epoch 66/100\n",
            "11/11 [==============================] - 0s 5ms/step - loss: 49.0084 - mae: 4.8921 - mape: 23.7174 - val_loss: 52.4207 - val_mae: 5.4012 - val_mape: 22.9378\n",
            "Epoch 67/100\n",
            "11/11 [==============================] - 0s 4ms/step - loss: 46.9479 - mae: 4.7110 - mape: 22.4550 - val_loss: 54.0199 - val_mae: 5.1891 - val_mape: 21.2774\n",
            "Epoch 68/100\n",
            "11/11 [==============================] - 0s 4ms/step - loss: 46.8287 - mae: 4.7000 - mape: 22.5749 - val_loss: 51.4328 - val_mae: 5.2445 - val_mape: 22.2153\n",
            "Epoch 69/100\n",
            "11/11 [==============================] - 0s 5ms/step - loss: 46.4189 - mae: 4.8038 - mape: 23.7706 - val_loss: 52.2442 - val_mae: 5.0584 - val_mape: 20.5760\n",
            "Epoch 70/100\n",
            "11/11 [==============================] - 0s 4ms/step - loss: 47.7882 - mae: 4.8843 - mape: 23.7088 - val_loss: 51.0578 - val_mae: 5.3163 - val_mape: 22.7859\n",
            "Epoch 71/100\n",
            "11/11 [==============================] - 0s 5ms/step - loss: 45.8102 - mae: 4.7235 - mape: 23.1666 - val_loss: 52.5852 - val_mae: 5.1190 - val_mape: 20.6769\n",
            "Epoch 72/100\n",
            "11/11 [==============================] - 0s 4ms/step - loss: 46.3239 - mae: 4.7701 - mape: 23.4245 - val_loss: 52.3745 - val_mae: 5.0331 - val_mape: 20.4435\n",
            "Epoch 73/100\n",
            "11/11 [==============================] - 0s 6ms/step - loss: 45.8691 - mae: 4.6727 - mape: 22.3719 - val_loss: 50.5025 - val_mae: 5.1540 - val_mape: 21.6405\n",
            "Epoch 74/100\n",
            "11/11 [==============================] - 0s 4ms/step - loss: 46.4676 - mae: 4.7124 - mape: 22.8676 - val_loss: 50.3001 - val_mae: 5.1407 - val_mape: 21.5287\n",
            "Epoch 75/100\n",
            "11/11 [==============================] - 0s 4ms/step - loss: 46.1205 - mae: 4.7118 - mape: 22.8896 - val_loss: 51.3725 - val_mae: 5.5664 - val_mape: 24.6009\n",
            "Epoch 76/100\n",
            "11/11 [==============================] - 0s 4ms/step - loss: 49.8364 - mae: 5.2986 - mape: 27.6544 - val_loss: 60.2966 - val_mae: 5.1644 - val_mape: 19.6265\n",
            "Epoch 77/100\n",
            "11/11 [==============================] - 0s 5ms/step - loss: 49.4625 - mae: 4.8452 - mape: 22.8486 - val_loss: 52.7318 - val_mae: 5.5065 - val_mape: 24.1448\n",
            "Epoch 78/100\n",
            "11/11 [==============================] - 0s 4ms/step - loss: 47.6789 - mae: 4.7575 - mape: 22.6215 - val_loss: 50.5453 - val_mae: 5.0610 - val_mape: 20.7521\n",
            "Epoch 79/100\n",
            "11/11 [==============================] - 0s 7ms/step - loss: 44.7289 - mae: 4.7563 - mape: 23.7375 - val_loss: 51.5192 - val_mae: 4.9595 - val_mape: 19.7710\n",
            "Epoch 80/100\n",
            "11/11 [==============================] - 0s 5ms/step - loss: 44.6591 - mae: 4.5590 - mape: 21.6442 - val_loss: 49.4639 - val_mae: 5.2603 - val_mape: 22.4981\n",
            "Epoch 81/100\n",
            "11/11 [==============================] - 0s 4ms/step - loss: 45.1389 - mae: 4.8454 - mape: 24.1063 - val_loss: 55.3631 - val_mae: 4.9570 - val_mape: 19.2435\n",
            "Epoch 82/100\n",
            "11/11 [==============================] - 0s 5ms/step - loss: 45.7557 - mae: 4.6983 - mape: 22.4760 - val_loss: 49.6716 - val_mae: 5.2082 - val_mape: 22.5025\n",
            "Epoch 83/100\n",
            "11/11 [==============================] - 0s 4ms/step - loss: 46.2005 - mae: 4.8867 - mape: 24.4669 - val_loss: 49.1199 - val_mae: 5.2229 - val_mape: 22.5108\n",
            "Epoch 84/100\n",
            "11/11 [==============================] - 0s 4ms/step - loss: 51.2022 - mae: 5.5889 - mape: 30.6190 - val_loss: 61.8398 - val_mae: 5.2744 - val_mape: 20.0139\n",
            "Epoch 85/100\n",
            "11/11 [==============================] - 0s 4ms/step - loss: 45.5142 - mae: 4.6706 - mape: 22.2654 - val_loss: 48.9108 - val_mae: 5.2231 - val_mape: 22.5008\n",
            "Epoch 86/100\n",
            "11/11 [==============================] - 0s 4ms/step - loss: 44.1035 - mae: 4.6117 - mape: 22.4134 - val_loss: 49.6358 - val_mae: 4.9834 - val_mape: 20.2755\n",
            "Epoch 87/100\n",
            "11/11 [==============================] - 0s 5ms/step - loss: 44.2081 - mae: 4.5553 - mape: 21.8962 - val_loss: 48.8874 - val_mae: 5.1795 - val_mape: 21.9093\n",
            "Epoch 88/100\n",
            "11/11 [==============================] - 0s 5ms/step - loss: 44.3264 - mae: 4.6705 - mape: 22.6479 - val_loss: 48.3101 - val_mae: 4.9196 - val_mape: 20.2095\n",
            "Epoch 89/100\n",
            "11/11 [==============================] - 0s 5ms/step - loss: 42.9127 - mae: 4.5887 - mape: 22.6050 - val_loss: 47.6808 - val_mae: 4.8879 - val_mape: 20.1347\n",
            "Epoch 90/100\n",
            "11/11 [==============================] - 0s 5ms/step - loss: 43.8057 - mae: 4.5284 - mape: 21.9376 - val_loss: 47.1218 - val_mae: 5.0977 - val_mape: 21.8799\n",
            "Epoch 91/100\n",
            "11/11 [==============================] - 0s 6ms/step - loss: 43.4164 - mae: 4.5866 - mape: 22.4343 - val_loss: 47.3723 - val_mae: 4.7520 - val_mape: 19.3357\n",
            "Epoch 92/100\n",
            "11/11 [==============================] - 0s 5ms/step - loss: 42.9429 - mae: 4.7782 - mape: 24.7421 - val_loss: 49.0474 - val_mae: 4.8116 - val_mape: 19.2399\n",
            "Epoch 93/100\n",
            "11/11 [==============================] - 0s 5ms/step - loss: 44.0397 - mae: 4.5699 - mape: 22.0776 - val_loss: 46.8473 - val_mae: 5.2526 - val_mape: 23.0355\n",
            "Epoch 94/100\n",
            "11/11 [==============================] - 0s 5ms/step - loss: 42.9309 - mae: 4.7792 - mape: 24.6305 - val_loss: 51.2217 - val_mae: 4.7390 - val_mape: 18.2365\n",
            "Epoch 95/100\n",
            "11/11 [==============================] - 0s 5ms/step - loss: 43.9800 - mae: 4.5084 - mape: 21.6830 - val_loss: 46.3607 - val_mae: 5.1734 - val_mape: 22.4365\n",
            "Epoch 96/100\n",
            "11/11 [==============================] - 0s 5ms/step - loss: 44.9072 - mae: 4.6519 - mape: 22.4129 - val_loss: 46.3481 - val_mae: 4.7496 - val_mape: 19.3478\n",
            "Epoch 97/100\n",
            "11/11 [==============================] - 0s 7ms/step - loss: 41.9602 - mae: 4.6322 - mape: 23.2370 - val_loss: 46.7374 - val_mae: 4.7197 - val_mape: 19.0133\n",
            "Epoch 98/100\n",
            "11/11 [==============================] - 0s 5ms/step - loss: 41.7937 - mae: 4.4064 - mape: 21.1840 - val_loss: 46.2637 - val_mae: 5.3254 - val_mape: 23.5312\n",
            "Epoch 99/100\n",
            "11/11 [==============================] - 0s 5ms/step - loss: 44.0744 - mae: 4.9388 - mape: 25.5183 - val_loss: 50.4674 - val_mae: 4.7725 - val_mape: 18.5518\n",
            "Epoch 100/100\n",
            "11/11 [==============================] - 0s 5ms/step - loss: 42.6762 - mae: 4.5449 - mape: 22.2483 - val_loss: 45.6232 - val_mae: 4.7354 - val_mape: 19.5939\n"
          ]
        },
        {
          "output_type": "display_data",
          "data": {
            "text/plain": [
              "<Figure size 432x288 with 1 Axes>"
            ],
            "image/png": "[encoded data removed]"
          },
          "metadata": {
            "needs_background": "light"
          }
        },
        {
          "output_type": "stream",
          "name": "stdout",
          "text": [
            "4/4 [==============================] - 0s 3ms/step - loss: 47.1403 - mae: 4.8185 - mape: 24.6284\n",
            "loss= 47.14030456542969\n",
            "mae= 4.818527698516846\n",
            "mape= 24.62841796875\n"
          ]
        },
        {
          "output_type": "display_data",
          "data": {
            "text/plain": [
              "<Figure size 432x288 with 1 Axes>"
            ],
            "image/png": "[encoded data removed]"
          },
          "metadata": {
            "needs_background": "light"
          }
        }
      ]
    },
    {
      "cell_type": "markdown",
      "metadata": {
        "id": "E3WqrBF85f6m"
      },
      "source": [
        "## 분류 작업\n",
        "일반적으로 정확도를 지표로 사용한다.\n",
        "- 'acc' : accuracy, 정확도. 예측한 것중 정확히 예측한 비율.\n"
      ]
    },
    {
      "cell_type": "code",
      "metadata": {
        "id": "wgYuro2G9iUo"
      },
      "source": [
        "import numpy as np\n",
        "import pandas as pd\n",
        "import matplotlib.pyplot as plt\n",
        "\n",
        "import tensorflow as tf\n",
        "\n",
        "from tensorflow import keras\n",
        "from tensorflow.keras import optimizers\n",
        "from tensorflow.keras.layers import Dense, Input"
      ],
      "execution_count": null,
      "outputs": []
    },
    {
      "cell_type": "code",
      "metadata": {
        "id": "l0AU0mVz9iUp"
      },
      "source": [
        "def load_iris_data():\n",
        "\n",
        "  df = pd.read_csv(\"https://raw.githubusercontent.com/dhrim/keras_howto_2021/master/data/iris_with_category_index.csv\")\n",
        "  data = df.to_numpy()\n",
        "  np.random.shuffle(data)\n",
        "\n",
        "  x = data[:,:4]\n",
        "  y = data[:,4]\n",
        "\n",
        "  split_index = int(len(x)*0.8)\n",
        "  train_x, test_x = x[:split_index], x[split_index:]\n",
        "  train_y, test_y = y[:split_index], y[split_index:]\n",
        "\n",
        "  return (train_x, train_y), (test_x, test_y)\n"
      ],
      "execution_count": null,
      "outputs": []
    },
    {
      "cell_type": "code",
      "metadata": {
        "id": "H_NAbe7m9iUq"
      },
      "source": [
        "(train_x, train_y), (test_x, test_y) = load_iris_data()"
      ],
      "execution_count": null,
      "outputs": []
    },
    {
      "cell_type": "code",
      "metadata": {
        "colab": {
          "base_uri": "https://localhost:8080/",
          "height": 1000
        },
        "id": "ERNAPqfH9iUq",
        "outputId": "028180bf-8819-47bf-b1fc-c04d66cac61d"
      },
      "source": [
        "# 모델 정의\n",
        "model = keras.Sequential()\n",
        "model.add(Input(4))\n",
        "model.add(Dense(10, activation='relu'))\n",
        "model.add(Dense(10, activation='relu'))\n",
        "model.add(Dense(3, activation=\"softmax\"))\n",
        "\n",
        "\n",
        "# 모델 컴파일\n",
        "model.compile(optimizer=\"Adam\", loss=\"sparse_categorical_crossentropy\", metrics=[\"acc\"])\n",
        "model.summary()\n",
        "\n",
        "\n",
        "# 모델 학습\n",
        "history = model.fit(train_x, train_y, epochs=100, batch_size=32, validation_split=0.2)\n",
        "\n",
        "\n",
        "# 학습 로스 보기\n",
        "plt.plot(history.history['loss'], label=\"loss\")\n",
        "plt.plot(history.history['val_loss'], label=\"val_loss\")\n",
        "plt.legend()\n",
        "plt.show()\n",
        "\n",
        "\n",
        "# 평가\n",
        "loss, acc = model.evaluate(test_x, test_y)\n",
        "print(\"loss=\", loss)\n",
        "print(\"acc=\", acc)\n",
        "\n",
        "\n",
        "# 예측\n",
        "y_ = model.predict(test_x)\n",
        "predicted = np.argmax(y_, axis=-1)\n",
        "\n",
        "\n",
        "# 예측 결과 보기\n",
        "plt.plot(test_y, \"o\")\n",
        "plt.plot(predicted, \".\")\n",
        "plt.show()\n"
      ],
      "execution_count": null,
      "outputs": [
        {
          "output_type": "stream",
          "name": "stdout",
          "text": [
            "Model: \"sequential_3\"\n",
            "_________________________________________________________________\n",
            "Layer (type)                 Output Shape              Param #   \n",
            "=================================================================\n",
            "dense_9 (Dense)              (None, 10)                50        \n",
            "_________________________________________________________________\n",
            "dense_10 (Dense)             (None, 10)                110       \n",
            "_________________________________________________________________\n",
            "dense_11 (Dense)             (None, 3)                 33        \n",
            "=================================================================\n",
            "Total params: 193\n",
            "Trainable params: 193\n",
            "Non-trainable params: 0\n",
            "_________________________________________________________________\n",
            "Epoch 1/100\n",
            "3/3 [==============================] - 0s 75ms/step - loss: 1.9523 - acc: 0.2895 - val_loss: 1.8090 - val_acc: 0.2000\n",
            "Epoch 2/100\n",
            "3/3 [==============================] - 0s 20ms/step - loss: 1.8821 - acc: 0.2632 - val_loss: 1.7285 - val_acc: 0.2000\n",
            "Epoch 3/100\n",
            "3/3 [==============================] - 0s 12ms/step - loss: 1.8160 - acc: 0.2368 - val_loss: 1.6557 - val_acc: 0.2000\n",
            "Epoch 4/100\n",
            "3/3 [==============================] - 0s 13ms/step - loss: 1.7589 - acc: 0.2105 - val_loss: 1.5910 - val_acc: 0.2000\n",
            "Epoch 5/100\n",
            "3/3 [==============================] - 0s 14ms/step - loss: 1.7048 - acc: 0.1579 - val_loss: 1.5353 - val_acc: 0.1000\n",
            "Epoch 6/100\n",
            "3/3 [==============================] - 0s 20ms/step - loss: 1.6627 - acc: 0.1316 - val_loss: 1.4939 - val_acc: 0.0500\n",
            "Epoch 7/100\n",
            "3/3 [==============================] - 0s 11ms/step - loss: 1.6167 - acc: 0.1184 - val_loss: 1.4609 - val_acc: 0.0500\n",
            "Epoch 8/100\n",
            "3/3 [==============================] - 0s 11ms/step - loss: 1.5763 - acc: 0.1184 - val_loss: 1.4276 - val_acc: 0.0500\n",
            "Epoch 9/100\n",
            "3/3 [==============================] - 0s 21ms/step - loss: 1.5383 - acc: 0.1184 - val_loss: 1.3967 - val_acc: 0.0500\n",
            "Epoch 10/100\n",
            "3/3 [==============================] - 0s 11ms/step - loss: 1.4970 - acc: 0.1184 - val_loss: 1.3688 - val_acc: 0.0500\n",
            "Epoch 11/100\n",
            "3/3 [==============================] - 0s 12ms/step - loss: 1.4591 - acc: 0.1184 - val_loss: 1.3435 - val_acc: 0.1000\n",
            "Epoch 12/100\n",
            "3/3 [==============================] - 0s 11ms/step - loss: 1.4246 - acc: 0.1316 - val_loss: 1.3199 - val_acc: 0.1500\n",
            "Epoch 13/100\n",
            "3/3 [==============================] - 0s 14ms/step - loss: 1.3883 - acc: 0.1447 - val_loss: 1.2933 - val_acc: 0.1000\n",
            "Epoch 14/100\n",
            "3/3 [==============================] - 0s 13ms/step - loss: 1.3548 - acc: 0.1447 - val_loss: 1.2665 - val_acc: 0.1000\n",
            "Epoch 15/100\n",
            "3/3 [==============================] - 0s 13ms/step - loss: 1.3255 - acc: 0.1316 - val_loss: 1.2430 - val_acc: 0.1000\n",
            "Epoch 16/100\n",
            "3/3 [==============================] - 0s 11ms/step - loss: 1.2945 - acc: 0.1184 - val_loss: 1.2209 - val_acc: 0.1000\n",
            "Epoch 17/100\n",
            "3/3 [==============================] - 0s 11ms/step - loss: 1.2670 - acc: 0.1316 - val_loss: 1.2023 - val_acc: 0.1500\n",
            "Epoch 18/100\n",
            "3/3 [==============================] - 0s 20ms/step - loss: 1.2388 - acc: 0.1447 - val_loss: 1.1889 - val_acc: 0.2000\n",
            "Epoch 19/100\n",
            "3/3 [==============================] - 0s 19ms/step - loss: 1.2127 - acc: 0.1447 - val_loss: 1.1744 - val_acc: 0.2000\n",
            "Epoch 20/100\n",
            "3/3 [==============================] - 0s 10ms/step - loss: 1.1870 - acc: 0.1579 - val_loss: 1.1600 - val_acc: 0.2000\n",
            "Epoch 21/100\n",
            "3/3 [==============================] - 0s 10ms/step - loss: 1.1625 - acc: 0.2105 - val_loss: 1.1440 - val_acc: 0.2000\n",
            "Epoch 22/100\n",
            "3/3 [==============================] - 0s 19ms/step - loss: 1.1363 - acc: 0.2105 - val_loss: 1.1239 - val_acc: 0.2000\n",
            "Epoch 23/100\n",
            "3/3 [==============================] - 0s 11ms/step - loss: 1.1087 - acc: 0.2105 - val_loss: 1.1047 - val_acc: 0.2000\n",
            "Epoch 24/100\n",
            "3/3 [==============================] - 0s 10ms/step - loss: 1.0846 - acc: 0.2368 - val_loss: 1.0849 - val_acc: 0.2000\n",
            "Epoch 25/100\n",
            "3/3 [==============================] - 0s 11ms/step - loss: 1.0573 - acc: 0.2237 - val_loss: 1.0638 - val_acc: 0.2000\n",
            "Epoch 26/100\n",
            "3/3 [==============================] - 0s 12ms/step - loss: 1.0334 - acc: 0.1974 - val_loss: 1.0428 - val_acc: 0.2000\n",
            "Epoch 27/100\n",
            "3/3 [==============================] - 0s 13ms/step - loss: 1.0091 - acc: 0.1974 - val_loss: 1.0277 - val_acc: 0.2000\n",
            "Epoch 28/100\n",
            "3/3 [==============================] - 0s 10ms/step - loss: 0.9843 - acc: 0.2368 - val_loss: 1.0154 - val_acc: 0.2000\n",
            "Epoch 29/100\n",
            "3/3 [==============================] - 0s 10ms/step - loss: 0.9643 - acc: 0.2237 - val_loss: 1.0031 - val_acc: 0.2000\n",
            "Epoch 30/100\n",
            "3/3 [==============================] - 0s 19ms/step - loss: 0.9432 - acc: 0.2632 - val_loss: 0.9868 - val_acc: 0.2000\n",
            "Epoch 31/100\n",
            "3/3 [==============================] - 0s 19ms/step - loss: 0.9297 - acc: 0.1974 - val_loss: 0.9694 - val_acc: 0.2000\n",
            "Epoch 32/100\n",
            "3/3 [==============================] - 0s 10ms/step - loss: 0.9183 - acc: 0.1711 - val_loss: 0.9560 - val_acc: 0.2500\n",
            "Epoch 33/100\n",
            "3/3 [==============================] - 0s 10ms/step - loss: 0.9085 - acc: 0.2237 - val_loss: 0.9450 - val_acc: 0.3000\n",
            "Epoch 34/100\n",
            "3/3 [==============================] - 0s 11ms/step - loss: 0.8988 - acc: 0.3421 - val_loss: 0.9366 - val_acc: 0.3000\n",
            "Epoch 35/100\n",
            "3/3 [==============================] - 0s 11ms/step - loss: 0.8892 - acc: 0.5000 - val_loss: 0.9301 - val_acc: 0.3500\n",
            "Epoch 36/100\n",
            "3/3 [==============================] - 0s 10ms/step - loss: 0.8793 - acc: 0.5526 - val_loss: 0.9207 - val_acc: 0.4000\n",
            "Epoch 37/100\n",
            "3/3 [==============================] - 0s 11ms/step - loss: 0.8698 - acc: 0.6316 - val_loss: 0.9121 - val_acc: 0.5000\n",
            "Epoch 38/100\n",
            "3/3 [==============================] - 0s 10ms/step - loss: 0.8607 - acc: 0.6316 - val_loss: 0.9032 - val_acc: 0.5000\n",
            "Epoch 39/100\n",
            "3/3 [==============================] - 0s 12ms/step - loss: 0.8507 - acc: 0.6316 - val_loss: 0.8912 - val_acc: 0.5000\n",
            "Epoch 40/100\n",
            "3/3 [==============================] - 0s 10ms/step - loss: 0.8418 - acc: 0.6053 - val_loss: 0.8791 - val_acc: 0.5000\n",
            "Epoch 41/100\n",
            "3/3 [==============================] - 0s 10ms/step - loss: 0.8340 - acc: 0.6184 - val_loss: 0.8681 - val_acc: 0.5000\n",
            "Epoch 42/100\n",
            "3/3 [==============================] - 0s 10ms/step - loss: 0.8246 - acc: 0.6184 - val_loss: 0.8611 - val_acc: 0.5000\n",
            "Epoch 43/100\n",
            "3/3 [==============================] - 0s 10ms/step - loss: 0.8151 - acc: 0.6053 - val_loss: 0.8574 - val_acc: 0.5000\n",
            "Epoch 44/100\n",
            "3/3 [==============================] - 0s 11ms/step - loss: 0.8051 - acc: 0.6579 - val_loss: 0.8548 - val_acc: 0.5000\n",
            "Epoch 45/100\n",
            "3/3 [==============================] - 0s 12ms/step - loss: 0.7960 - acc: 0.7368 - val_loss: 0.8529 - val_acc: 0.5000\n",
            "Epoch 46/100\n",
            "3/3 [==============================] - 0s 12ms/step - loss: 0.7863 - acc: 0.7237 - val_loss: 0.8488 - val_acc: 0.5500\n",
            "Epoch 47/100\n",
            "3/3 [==============================] - 0s 10ms/step - loss: 0.7773 - acc: 0.7237 - val_loss: 0.8445 - val_acc: 0.5500\n",
            "Epoch 48/100\n",
            "3/3 [==============================] - 0s 20ms/step - loss: 0.7685 - acc: 0.7368 - val_loss: 0.8391 - val_acc: 0.5500\n",
            "Epoch 49/100\n",
            "3/3 [==============================] - 0s 10ms/step - loss: 0.7595 - acc: 0.7368 - val_loss: 0.8299 - val_acc: 0.5500\n",
            "Epoch 50/100\n",
            "3/3 [==============================] - 0s 10ms/step - loss: 0.7507 - acc: 0.7368 - val_loss: 0.8223 - val_acc: 0.5500\n",
            "Epoch 51/100\n",
            "3/3 [==============================] - 0s 11ms/step - loss: 0.7413 - acc: 0.7368 - val_loss: 0.8131 - val_acc: 0.5500\n",
            "Epoch 52/100\n",
            "3/3 [==============================] - 0s 10ms/step - loss: 0.7325 - acc: 0.7368 - val_loss: 0.8023 - val_acc: 0.5500\n",
            "Epoch 53/100\n",
            "3/3 [==============================] - 0s 10ms/step - loss: 0.7237 - acc: 0.7368 - val_loss: 0.7932 - val_acc: 0.5500\n",
            "Epoch 54/100\n",
            "3/3 [==============================] - 0s 12ms/step - loss: 0.7150 - acc: 0.7368 - val_loss: 0.7860 - val_acc: 0.5500\n",
            "Epoch 55/100\n",
            "3/3 [==============================] - 0s 11ms/step - loss: 0.7070 - acc: 0.7368 - val_loss: 0.7823 - val_acc: 0.5500\n",
            "Epoch 56/100\n",
            "3/3 [==============================] - 0s 10ms/step - loss: 0.6981 - acc: 0.7368 - val_loss: 0.7738 - val_acc: 0.5500\n",
            "Epoch 57/100\n",
            "3/3 [==============================] - 0s 11ms/step - loss: 0.6892 - acc: 0.7368 - val_loss: 0.7662 - val_acc: 0.5500\n",
            "Epoch 58/100\n",
            "3/3 [==============================] - 0s 11ms/step - loss: 0.6813 - acc: 0.7368 - val_loss: 0.7566 - val_acc: 0.5500\n",
            "Epoch 59/100\n",
            "3/3 [==============================] - 0s 11ms/step - loss: 0.6731 - acc: 0.7368 - val_loss: 0.7453 - val_acc: 0.5500\n",
            "Epoch 60/100\n",
            "3/3 [==============================] - 0s 11ms/step - loss: 0.6651 - acc: 0.7368 - val_loss: 0.7380 - val_acc: 0.5500\n",
            "Epoch 61/100\n",
            "3/3 [==============================] - 0s 12ms/step - loss: 0.6570 - acc: 0.7368 - val_loss: 0.7354 - val_acc: 0.5500\n",
            "Epoch 62/100\n",
            "3/3 [==============================] - 0s 11ms/step - loss: 0.6496 - acc: 0.7368 - val_loss: 0.7313 - val_acc: 0.5500\n",
            "Epoch 63/100\n",
            "3/3 [==============================] - 0s 10ms/step - loss: 0.6435 - acc: 0.7368 - val_loss: 0.7261 - val_acc: 0.5500\n",
            "Epoch 64/100\n",
            "3/3 [==============================] - 0s 13ms/step - loss: 0.6366 - acc: 0.7368 - val_loss: 0.7160 - val_acc: 0.5500\n",
            "Epoch 65/100\n",
            "3/3 [==============================] - 0s 11ms/step - loss: 0.6294 - acc: 0.7368 - val_loss: 0.7122 - val_acc: 0.5500\n",
            "Epoch 66/100\n",
            "3/3 [==============================] - 0s 12ms/step - loss: 0.6226 - acc: 0.7368 - val_loss: 0.7079 - val_acc: 0.5500\n",
            "Epoch 67/100\n",
            "3/3 [==============================] - 0s 10ms/step - loss: 0.6154 - acc: 0.7368 - val_loss: 0.7061 - val_acc: 0.5500\n",
            "Epoch 68/100\n",
            "3/3 [==============================] - 0s 10ms/step - loss: 0.6092 - acc: 0.7368 - val_loss: 0.7049 - val_acc: 0.5500\n",
            "Epoch 69/100\n",
            "3/3 [==============================] - 0s 10ms/step - loss: 0.6028 - acc: 0.7368 - val_loss: 0.7039 - val_acc: 0.5500\n",
            "Epoch 70/100\n",
            "3/3 [==============================] - 0s 10ms/step - loss: 0.5993 - acc: 0.7368 - val_loss: 0.7044 - val_acc: 0.5500\n",
            "Epoch 71/100\n",
            "3/3 [==============================] - 0s 10ms/step - loss: 0.5910 - acc: 0.7368 - val_loss: 0.6959 - val_acc: 0.5500\n",
            "Epoch 72/100\n",
            "3/3 [==============================] - 0s 11ms/step - loss: 0.5842 - acc: 0.7368 - val_loss: 0.6834 - val_acc: 0.5500\n",
            "Epoch 73/100\n",
            "3/3 [==============================] - 0s 11ms/step - loss: 0.5777 - acc: 0.7368 - val_loss: 0.6718 - val_acc: 0.5500\n",
            "Epoch 74/100\n",
            "3/3 [==============================] - 0s 10ms/step - loss: 0.5736 - acc: 0.7500 - val_loss: 0.6593 - val_acc: 0.5500\n",
            "Epoch 75/100\n",
            "3/3 [==============================] - 0s 10ms/step - loss: 0.5674 - acc: 0.7632 - val_loss: 0.6532 - val_acc: 0.6000\n",
            "Epoch 76/100\n",
            "3/3 [==============================] - 0s 10ms/step - loss: 0.5610 - acc: 0.7632 - val_loss: 0.6521 - val_acc: 0.5500\n",
            "Epoch 77/100\n",
            "3/3 [==============================] - 0s 11ms/step - loss: 0.5553 - acc: 0.7500 - val_loss: 0.6498 - val_acc: 0.5500\n",
            "Epoch 78/100\n",
            "3/3 [==============================] - 0s 11ms/step - loss: 0.5500 - acc: 0.7368 - val_loss: 0.6474 - val_acc: 0.5500\n",
            "Epoch 79/100\n",
            "3/3 [==============================] - 0s 10ms/step - loss: 0.5442 - acc: 0.7368 - val_loss: 0.6465 - val_acc: 0.5500\n",
            "Epoch 80/100\n",
            "3/3 [==============================] - 0s 11ms/step - loss: 0.5391 - acc: 0.7368 - val_loss: 0.6462 - val_acc: 0.5500\n",
            "Epoch 81/100\n",
            "3/3 [==============================] - 0s 12ms/step - loss: 0.5356 - acc: 0.7368 - val_loss: 0.6455 - val_acc: 0.5500\n",
            "Epoch 82/100\n",
            "3/3 [==============================] - 0s 10ms/step - loss: 0.5302 - acc: 0.7368 - val_loss: 0.6388 - val_acc: 0.5500\n",
            "Epoch 83/100\n",
            "3/3 [==============================] - 0s 10ms/step - loss: 0.5248 - acc: 0.7368 - val_loss: 0.6288 - val_acc: 0.5500\n",
            "Epoch 84/100\n",
            "3/3 [==============================] - 0s 10ms/step - loss: 0.5199 - acc: 0.7368 - val_loss: 0.6178 - val_acc: 0.5500\n",
            "Epoch 85/100\n",
            "3/3 [==============================] - 0s 10ms/step - loss: 0.5152 - acc: 0.7763 - val_loss: 0.6073 - val_acc: 0.6000\n",
            "Epoch 86/100\n",
            "3/3 [==============================] - 0s 10ms/step - loss: 0.5109 - acc: 0.7895 - val_loss: 0.6002 - val_acc: 0.6500\n",
            "Epoch 87/100\n",
            "3/3 [==============================] - 0s 15ms/step - loss: 0.5070 - acc: 0.8158 - val_loss: 0.5934 - val_acc: 0.7500\n",
            "Epoch 88/100\n",
            "3/3 [==============================] - 0s 10ms/step - loss: 0.5032 - acc: 0.8553 - val_loss: 0.5899 - val_acc: 0.7500\n",
            "Epoch 89/100\n",
            "3/3 [==============================] - 0s 12ms/step - loss: 0.4990 - acc: 0.8421 - val_loss: 0.5859 - val_acc: 0.7500\n",
            "Epoch 90/100\n",
            "3/3 [==============================] - 0s 12ms/step - loss: 0.4950 - acc: 0.8421 - val_loss: 0.5818 - val_acc: 0.7500\n",
            "Epoch 91/100\n",
            "3/3 [==============================] - 0s 10ms/step - loss: 0.4909 - acc: 0.8553 - val_loss: 0.5773 - val_acc: 0.8000\n",
            "Epoch 92/100\n",
            "3/3 [==============================] - 0s 20ms/step - loss: 0.4875 - acc: 0.8553 - val_loss: 0.5741 - val_acc: 0.8000\n",
            "Epoch 93/100\n",
            "3/3 [==============================] - 0s 10ms/step - loss: 0.4841 - acc: 0.8553 - val_loss: 0.5686 - val_acc: 0.8000\n",
            "Epoch 94/100\n",
            "3/3 [==============================] - 0s 10ms/step - loss: 0.4803 - acc: 0.8553 - val_loss: 0.5660 - val_acc: 0.8000\n",
            "Epoch 95/100\n",
            "3/3 [==============================] - 0s 24ms/step - loss: 0.4769 - acc: 0.8553 - val_loss: 0.5641 - val_acc: 0.8000\n",
            "Epoch 96/100\n",
            "3/3 [==============================] - 0s 12ms/step - loss: 0.4733 - acc: 0.8553 - val_loss: 0.5614 - val_acc: 0.8000\n",
            "Epoch 97/100\n",
            "3/3 [==============================] - 0s 13ms/step - loss: 0.4707 - acc: 0.8158 - val_loss: 0.5637 - val_acc: 0.6500\n",
            "Epoch 98/100\n",
            "3/3 [==============================] - 0s 15ms/step - loss: 0.4660 - acc: 0.8158 - val_loss: 0.5619 - val_acc: 0.6500\n",
            "Epoch 99/100\n",
            "3/3 [==============================] - 0s 14ms/step - loss: 0.4623 - acc: 0.8026 - val_loss: 0.5625 - val_acc: 0.6500\n",
            "Epoch 100/100\n",
            "3/3 [==============================] - 0s 10ms/step - loss: 0.4595 - acc: 0.7763 - val_loss: 0.5613 - val_acc: 0.6000\n"
          ]
        },
        {
          "output_type": "display_data",
          "data": {
            "text/plain": [
              "<Figure size 432x288 with 1 Axes>"
            ],
            "image/png": "[encoded data removed]"
          },
          "metadata": {
            "needs_background": "light"
          }
        },
        {
          "output_type": "stream",
          "name": "stdout",
          "text": [
            "1/1 [==============================] - 0s 14ms/step - loss: 0.6298 - acc: 0.5833\n",
            "loss= 0.6297639608383179\n",
            "acc= 0.5833333134651184\n"
          ]
        },
        {
          "output_type": "display_data",
          "data": {
            "text/plain": [
              "<Figure size 432x288 with 1 Axes>"
            ],
            "image/png": "[encoded data removed]"
          },
          "metadata": {
            "needs_background": "light"
          }
        }
      ]
    },
    {
      "cell_type": "markdown",
      "metadata": {
        "id": "kW3KaX4KYy2n"
      },
      "source": [
        "## 2진 분류 작업\n",
        "\n",
        "만약 카테고리가 2개 이면 다음 지표를 설정할 수 있다.\n",
        "- 'AUC', or AUC() : area under curve, ROC 그래프의 곡선 아래 면적\n",
        "- Precision() : 정밀도. 긍정이랴 예측한 것중 정확히 예측한 비율\n",
        "- Recall() : 회수율. 긍정 정답 중에 찾아낸 비율\n"
      ]
    },
    {
      "cell_type": "code",
      "metadata": {
        "id": "xpW7fz0HY11x"
      },
      "source": [
        "import numpy as np\n",
        "import pandas as pd\n",
        "import matplotlib.pyplot as plt\n",
        "\n",
        "import tensorflow as tf\n",
        "\n",
        "from tensorflow import keras\n",
        "from tensorflow.keras import optimizers\n",
        "from tensorflow.keras.layers import Dense, Input"
      ],
      "execution_count": null,
      "outputs": []
    },
    {
      "cell_type": "code",
      "metadata": {
        "id": "fPWpuAlwY11y"
      },
      "source": [
        "def load_sonar_data():\n",
        "\n",
        "  df = pd.read_csv(\"https://raw.githubusercontent.com/dhrim/keras_howto_2021/master/data/sonar.csv\")\n",
        "  data = df.to_numpy()\n",
        "  np.random.shuffle(data)\n",
        "\n",
        "  x = data[:,:60]\n",
        "  y = data[:,60]\n",
        "\n",
        "  split_index = int(len(x)*0.8)\n",
        "  train_x, test_x = x[:split_index], x[split_index:]\n",
        "  train_y, test_y = y[:split_index], y[split_index:]\n",
        "\n",
        "  return (train_x, train_y), (test_x, test_y)\n"
      ],
      "execution_count": null,
      "outputs": []
    },
    {
      "cell_type": "code",
      "metadata": {
        "id": "try-cpkgY11z"
      },
      "source": [
        "(train_x, train_y), (test_x, test_y) = load_sonar_data()"
      ],
      "execution_count": null,
      "outputs": []
    },
    {
      "cell_type": "code",
      "metadata": {
        "colab": {
          "base_uri": "https://localhost:8080/"
        },
        "id": "lCOtjJcnaDwm",
        "outputId": "aa1068bd-f96d-40be-fb7a-4f3e8b40e473"
      },
      "source": [
        "print(train_x.shape)\n",
        "print(train_y.shape)"
      ],
      "execution_count": null,
      "outputs": [
        {
          "output_type": "stream",
          "name": "stdout",
          "text": [
            "(165, 60)\n",
            "(165,)\n"
          ]
        }
      ]
    },
    {
      "cell_type": "code",
      "metadata": {
        "colab": {
          "base_uri": "https://localhost:8080/"
        },
        "id": "Q8-llvKhaH9z",
        "outputId": "072bc14a-54b3-432a-91d0-cc1d576a2b24"
      },
      "source": [
        "print(train_x[0])\n",
        "print(train_y[:10])"
      ],
      "execution_count": null,
      "outputs": [
        {
          "output_type": "stream",
          "name": "stdout",
          "text": [
            "[0.0654 0.0649 0.0737 0.1132 0.2482 0.1257 0.1797 0.0989 0.246  0.3422\n",
            " 0.2128 0.1377 0.4032 0.5684 0.2398 0.4331 0.5954 0.5772 0.8176 0.8835\n",
            " 0.5248 0.6373 0.8375 0.6699 0.7756 0.875  0.83   0.6896 0.3372 0.6405\n",
            " 0.7138 0.8202 0.6657 0.5254 0.296  0.0704 0.097  0.3941 0.6028 0.3521\n",
            " 0.3924 0.4808 0.4602 0.4164 0.5438 0.5649 0.3195 0.2484 0.1299 0.0825\n",
            " 0.0243 0.021  0.0361 0.0239 0.0447 0.0394 0.0355 0.044  0.0243 0.0098]\n",
            "[1. 1. 0. 1. 0. 0. 1. 1. 1. 0.]\n"
          ]
        }
      ]
    },
    {
      "cell_type": "code",
      "metadata": {
        "colab": {
          "base_uri": "https://localhost:8080/",
          "height": 1000
        },
        "id": "mvfcIQNZY110",
        "outputId": "9eaaac6a-5753-414c-db62-eff1dfd45605"
      },
      "source": [
        "from tensorflow.keras.metrics import AUC, Precision, Recall\n",
        "\n",
        "# 모델 정의\n",
        "model = keras.Sequential()\n",
        "model.add(Input(60))\n",
        "model.add(Dense(10, activation='relu'))\n",
        "model.add(Dense(10, activation='relu'))\n",
        "model.add(Dense(1, activation=\"sigmoid\"))\n",
        "\n",
        "\n",
        "# 모델 컴파일\n",
        "model.compile(optimizer=\"Adam\", loss=\"binary_crossentropy\", metrics=[\"acc\", \"AUC\", Precision(), Recall()])\n",
        "model.summary()\n",
        "\n",
        "\n",
        "# 모델 학습\n",
        "history = model.fit(train_x, train_y, epochs=100, batch_size=32, validation_split=0.2)\n",
        "\n",
        "\n",
        "# 학습 로스 보기\n",
        "plt.plot(history.history['loss'], label=\"loss\")\n",
        "plt.plot(history.history['val_loss'], label=\"val_loss\")\n",
        "plt.legend()\n",
        "plt.show()\n",
        "\n",
        "\n",
        "# 평가\n",
        "loss, acc, auc, precision, recall = model.evaluate(test_x, test_y)\n",
        "print(\"loss=\", loss)\n",
        "print(\"acc=\", acc)\n",
        "print(\"auc=\", auc)\n",
        "print(\"precision=\", precision)\n",
        "print(\"recall=\", recall)\n",
        "\n",
        "\n",
        "# 예측\n",
        "y_ = model.predict(test_x)\n",
        "predicted = (y_>0.5).astype(np.int)\n",
        "\n",
        "\n",
        "# 예측 결과 보기\n",
        "plt.plot(test_y, \"o\")\n",
        "plt.plot(predicted, \".\")\n",
        "plt.show()\n"
      ],
      "execution_count": null,
      "outputs": [
        {
          "output_type": "stream",
          "name": "stdout",
          "text": [
            "Model: \"sequential_4\"\n",
            "_________________________________________________________________\n",
            "Layer (type)                 Output Shape              Param #   \n",
            "=================================================================\n",
            "dense_12 (Dense)             (None, 10)                610       \n",
            "_________________________________________________________________\n",
            "dense_13 (Dense)             (None, 10)                110       \n",
            "_________________________________________________________________\n",
            "dense_14 (Dense)             (None, 1)                 11        \n",
            "=================================================================\n",
            "Total params: 731\n",
            "Trainable params: 731\n",
            "Non-trainable params: 0\n",
            "_________________________________________________________________\n",
            "Epoch 1/100\n",
            "5/5 [==============================] - 1s 109ms/step - loss: 0.6937 - acc: 0.5076 - auc: 0.4084 - precision: 0.5462 - recall: 0.8553 - val_loss: 0.6947 - val_acc: 0.6061 - val_auc: 0.2520 - val_precision: 0.6250 - val_recall: 0.9524\n",
            "Epoch 2/100\n",
            "5/5 [==============================] - 0s 12ms/step - loss: 0.6886 - acc: 0.5758 - auc: 0.4638 - precision: 0.5758 - recall: 1.0000 - val_loss: 0.6900 - val_acc: 0.6364 - val_auc: 0.2262 - val_precision: 0.6364 - val_recall: 1.0000\n",
            "Epoch 3/100\n",
            "5/5 [==============================] - 0s 10ms/step - loss: 0.6842 - acc: 0.5758 - auc: 0.5445 - precision: 0.5758 - recall: 1.0000 - val_loss: 0.6868 - val_acc: 0.6364 - val_auc: 0.2381 - val_precision: 0.6364 - val_recall: 1.0000\n",
            "Epoch 4/100\n",
            "5/5 [==============================] - 0s 11ms/step - loss: 0.6827 - acc: 0.5758 - auc: 0.5634 - precision: 0.5758 - recall: 1.0000 - val_loss: 0.6838 - val_acc: 0.6364 - val_auc: 0.2837 - val_precision: 0.6364 - val_recall: 1.0000\n",
            "Epoch 5/100\n",
            "5/5 [==============================] - 0s 11ms/step - loss: 0.6808 - acc: 0.5758 - auc: 0.5992 - precision: 0.5758 - recall: 1.0000 - val_loss: 0.6813 - val_acc: 0.6364 - val_auc: 0.3115 - val_precision: 0.6364 - val_recall: 1.0000\n",
            "Epoch 6/100\n",
            "5/5 [==============================] - 0s 11ms/step - loss: 0.6792 - acc: 0.5758 - auc: 0.6532 - precision: 0.5758 - recall: 1.0000 - val_loss: 0.6785 - val_acc: 0.6364 - val_auc: 0.3849 - val_precision: 0.6364 - val_recall: 1.0000\n",
            "Epoch 7/100\n",
            "5/5 [==============================] - 0s 15ms/step - loss: 0.6779 - acc: 0.5758 - auc: 0.6622 - precision: 0.5758 - recall: 1.0000 - val_loss: 0.6746 - val_acc: 0.6364 - val_auc: 0.4603 - val_precision: 0.6364 - val_recall: 1.0000\n",
            "Epoch 8/100\n",
            "5/5 [==============================] - 0s 11ms/step - loss: 0.6758 - acc: 0.5758 - auc: 0.7051 - precision: 0.5758 - recall: 1.0000 - val_loss: 0.6727 - val_acc: 0.6364 - val_auc: 0.5179 - val_precision: 0.6364 - val_recall: 1.0000\n",
            "Epoch 9/100\n",
            "5/5 [==============================] - 0s 12ms/step - loss: 0.6746 - acc: 0.5758 - auc: 0.7191 - precision: 0.5758 - recall: 1.0000 - val_loss: 0.6719 - val_acc: 0.6364 - val_auc: 0.5417 - val_precision: 0.6364 - val_recall: 1.0000\n",
            "Epoch 10/100\n",
            "5/5 [==============================] - 0s 11ms/step - loss: 0.6734 - acc: 0.5758 - auc: 0.7252 - precision: 0.5758 - recall: 1.0000 - val_loss: 0.6705 - val_acc: 0.6364 - val_auc: 0.5635 - val_precision: 0.6364 - val_recall: 1.0000\n",
            "Epoch 11/100\n",
            "5/5 [==============================] - 0s 13ms/step - loss: 0.6719 - acc: 0.5758 - auc: 0.7384 - precision: 0.5758 - recall: 1.0000 - val_loss: 0.6679 - val_acc: 0.6364 - val_auc: 0.5714 - val_precision: 0.6364 - val_recall: 1.0000\n",
            "Epoch 12/100\n",
            "5/5 [==============================] - 0s 11ms/step - loss: 0.6702 - acc: 0.5758 - auc: 0.7531 - precision: 0.5758 - recall: 1.0000 - val_loss: 0.6659 - val_acc: 0.6364 - val_auc: 0.5694 - val_precision: 0.6364 - val_recall: 1.0000\n",
            "Epoch 13/100\n",
            "5/5 [==============================] - 0s 12ms/step - loss: 0.6687 - acc: 0.5758 - auc: 0.7736 - precision: 0.5758 - recall: 1.0000 - val_loss: 0.6632 - val_acc: 0.6364 - val_auc: 0.5893 - val_precision: 0.6364 - val_recall: 1.0000\n",
            "Epoch 14/100\n",
            "5/5 [==============================] - 0s 12ms/step - loss: 0.6669 - acc: 0.5758 - auc: 0.7858 - precision: 0.5758 - recall: 1.0000 - val_loss: 0.6603 - val_acc: 0.6364 - val_auc: 0.6230 - val_precision: 0.6364 - val_recall: 1.0000\n",
            "Epoch 15/100\n",
            "5/5 [==============================] - 0s 11ms/step - loss: 0.6655 - acc: 0.5758 - auc: 0.8027 - precision: 0.5758 - recall: 1.0000 - val_loss: 0.6586 - val_acc: 0.6364 - val_auc: 0.6250 - val_precision: 0.6364 - val_recall: 1.0000\n",
            "Epoch 16/100\n",
            "5/5 [==============================] - 0s 12ms/step - loss: 0.6640 - acc: 0.5758 - auc: 0.7930 - precision: 0.5758 - recall: 1.0000 - val_loss: 0.6572 - val_acc: 0.6364 - val_auc: 0.6429 - val_precision: 0.6364 - val_recall: 1.0000\n",
            "Epoch 17/100\n",
            "5/5 [==============================] - 0s 11ms/step - loss: 0.6618 - acc: 0.5758 - auc: 0.7936 - precision: 0.5758 - recall: 1.0000 - val_loss: 0.6557 - val_acc: 0.6364 - val_auc: 0.6528 - val_precision: 0.6364 - val_recall: 1.0000\n",
            "Epoch 18/100\n",
            "5/5 [==============================] - 0s 11ms/step - loss: 0.6602 - acc: 0.5758 - auc: 0.7925 - precision: 0.5758 - recall: 1.0000 - val_loss: 0.6549 - val_acc: 0.6364 - val_auc: 0.6647 - val_precision: 0.6364 - val_recall: 1.0000\n",
            "Epoch 19/100\n",
            "5/5 [==============================] - 0s 11ms/step - loss: 0.6585 - acc: 0.5758 - auc: 0.8011 - precision: 0.5758 - recall: 1.0000 - val_loss: 0.6536 - val_acc: 0.6364 - val_auc: 0.6667 - val_precision: 0.6364 - val_recall: 1.0000\n",
            "Epoch 20/100\n",
            "5/5 [==============================] - 0s 13ms/step - loss: 0.6566 - acc: 0.5758 - auc: 0.8018 - precision: 0.5758 - recall: 1.0000 - val_loss: 0.6504 - val_acc: 0.6364 - val_auc: 0.6726 - val_precision: 0.6364 - val_recall: 1.0000\n",
            "Epoch 21/100\n",
            "5/5 [==============================] - 0s 11ms/step - loss: 0.6540 - acc: 0.5758 - auc: 0.8077 - precision: 0.5758 - recall: 1.0000 - val_loss: 0.6472 - val_acc: 0.6364 - val_auc: 0.6845 - val_precision: 0.6364 - val_recall: 1.0000\n",
            "Epoch 22/100\n",
            "5/5 [==============================] - 0s 11ms/step - loss: 0.6514 - acc: 0.5758 - auc: 0.8163 - precision: 0.5758 - recall: 1.0000 - val_loss: 0.6455 - val_acc: 0.6364 - val_auc: 0.6964 - val_precision: 0.6364 - val_recall: 1.0000\n",
            "Epoch 23/100\n",
            "5/5 [==============================] - 0s 10ms/step - loss: 0.6484 - acc: 0.5758 - auc: 0.8152 - precision: 0.5758 - recall: 1.0000 - val_loss: 0.6424 - val_acc: 0.6364 - val_auc: 0.6925 - val_precision: 0.6364 - val_recall: 1.0000\n",
            "Epoch 24/100\n",
            "5/5 [==============================] - 0s 13ms/step - loss: 0.6453 - acc: 0.5909 - auc: 0.8103 - precision: 0.5846 - recall: 1.0000 - val_loss: 0.6392 - val_acc: 0.6364 - val_auc: 0.6984 - val_precision: 0.6364 - val_recall: 1.0000\n",
            "Epoch 25/100\n",
            "5/5 [==============================] - 0s 12ms/step - loss: 0.6419 - acc: 0.6061 - auc: 0.8173 - precision: 0.5938 - recall: 1.0000 - val_loss: 0.6361 - val_acc: 0.6667 - val_auc: 0.7004 - val_precision: 0.6562 - val_recall: 1.0000\n",
            "Epoch 26/100\n",
            "5/5 [==============================] - 0s 10ms/step - loss: 0.6386 - acc: 0.6061 - auc: 0.8201 - precision: 0.5938 - recall: 1.0000 - val_loss: 0.6322 - val_acc: 0.6970 - val_auc: 0.7004 - val_precision: 0.6774 - val_recall: 1.0000\n",
            "Epoch 27/100\n",
            "5/5 [==============================] - 0s 9ms/step - loss: 0.6347 - acc: 0.6136 - auc: 0.8273 - precision: 0.5984 - recall: 1.0000 - val_loss: 0.6284 - val_acc: 0.6970 - val_auc: 0.7044 - val_precision: 0.6774 - val_recall: 1.0000\n",
            "Epoch 28/100\n",
            "5/5 [==============================] - 0s 11ms/step - loss: 0.6308 - acc: 0.6212 - auc: 0.8352 - precision: 0.6032 - recall: 1.0000 - val_loss: 0.6250 - val_acc: 0.7273 - val_auc: 0.7123 - val_precision: 0.7000 - val_recall: 1.0000\n",
            "Epoch 29/100\n",
            "5/5 [==============================] - 0s 11ms/step - loss: 0.6272 - acc: 0.6439 - auc: 0.8392 - precision: 0.6179 - recall: 1.0000 - val_loss: 0.6230 - val_acc: 0.7273 - val_auc: 0.7242 - val_precision: 0.7000 - val_recall: 1.0000\n",
            "Epoch 30/100\n",
            "5/5 [==============================] - 0s 14ms/step - loss: 0.6233 - acc: 0.7045 - auc: 0.8409 - precision: 0.6609 - recall: 1.0000 - val_loss: 0.6208 - val_acc: 0.7576 - val_auc: 0.7282 - val_precision: 0.7241 - val_recall: 1.0000\n",
            "Epoch 31/100\n",
            "5/5 [==============================] - 0s 12ms/step - loss: 0.6187 - acc: 0.7045 - auc: 0.8457 - precision: 0.6609 - recall: 1.0000 - val_loss: 0.6149 - val_acc: 0.7576 - val_auc: 0.7282 - val_precision: 0.7241 - val_recall: 1.0000\n",
            "Epoch 32/100\n",
            "5/5 [==============================] - 0s 12ms/step - loss: 0.6144 - acc: 0.6970 - auc: 0.8420 - precision: 0.6552 - recall: 1.0000 - val_loss: 0.6089 - val_acc: 0.7576 - val_auc: 0.7440 - val_precision: 0.7241 - val_recall: 1.0000\n",
            "Epoch 33/100\n",
            "5/5 [==============================] - 0s 11ms/step - loss: 0.6100 - acc: 0.6742 - auc: 0.8486 - precision: 0.6387 - recall: 1.0000 - val_loss: 0.6043 - val_acc: 0.7576 - val_auc: 0.7500 - val_precision: 0.7241 - val_recall: 1.0000\n",
            "Epoch 34/100\n",
            "5/5 [==============================] - 0s 11ms/step - loss: 0.6054 - acc: 0.6894 - auc: 0.8477 - precision: 0.6496 - recall: 1.0000 - val_loss: 0.5996 - val_acc: 0.7576 - val_auc: 0.7560 - val_precision: 0.7241 - val_recall: 1.0000\n",
            "Epoch 35/100\n",
            "5/5 [==============================] - 0s 11ms/step - loss: 0.5995 - acc: 0.7045 - auc: 0.8509 - precision: 0.6609 - recall: 1.0000 - val_loss: 0.5977 - val_acc: 0.7273 - val_auc: 0.7698 - val_precision: 0.7143 - val_recall: 0.9524\n",
            "Epoch 36/100\n",
            "5/5 [==============================] - 0s 12ms/step - loss: 0.5942 - acc: 0.7121 - auc: 0.8562 - precision: 0.6696 - recall: 0.9868 - val_loss: 0.5935 - val_acc: 0.7273 - val_auc: 0.7698 - val_precision: 0.7143 - val_recall: 0.9524\n",
            "Epoch 37/100\n",
            "5/5 [==============================] - 0s 11ms/step - loss: 0.5896 - acc: 0.7273 - auc: 0.8522 - precision: 0.6818 - recall: 0.9868 - val_loss: 0.5902 - val_acc: 0.7273 - val_auc: 0.7738 - val_precision: 0.7143 - val_recall: 0.9524\n",
            "Epoch 38/100\n",
            "5/5 [==============================] - 0s 11ms/step - loss: 0.5840 - acc: 0.7273 - auc: 0.8588 - precision: 0.6818 - recall: 0.9868 - val_loss: 0.5873 - val_acc: 0.7273 - val_auc: 0.7778 - val_precision: 0.7308 - val_recall: 0.9048\n",
            "Epoch 39/100\n",
            "5/5 [==============================] - 0s 11ms/step - loss: 0.5790 - acc: 0.7348 - auc: 0.8602 - precision: 0.6916 - recall: 0.9737 - val_loss: 0.5807 - val_acc: 0.7273 - val_auc: 0.7778 - val_precision: 0.7308 - val_recall: 0.9048\n",
            "Epoch 40/100\n",
            "5/5 [==============================] - 0s 11ms/step - loss: 0.5735 - acc: 0.7273 - auc: 0.8638 - precision: 0.6818 - recall: 0.9868 - val_loss: 0.5713 - val_acc: 0.7273 - val_auc: 0.7837 - val_precision: 0.7143 - val_recall: 0.9524\n",
            "Epoch 41/100\n",
            "5/5 [==============================] - 0s 11ms/step - loss: 0.5678 - acc: 0.7273 - auc: 0.8635 - precision: 0.6818 - recall: 0.9868 - val_loss: 0.5649 - val_acc: 0.7273 - val_auc: 0.7917 - val_precision: 0.7143 - val_recall: 0.9524\n",
            "Epoch 42/100\n",
            "5/5 [==============================] - 0s 11ms/step - loss: 0.5614 - acc: 0.7121 - auc: 0.8721 - precision: 0.6696 - recall: 0.9868 - val_loss: 0.5613 - val_acc: 0.7273 - val_auc: 0.7897 - val_precision: 0.7143 - val_recall: 0.9524\n",
            "Epoch 43/100\n",
            "5/5 [==============================] - 0s 11ms/step - loss: 0.5553 - acc: 0.7273 - auc: 0.8694 - precision: 0.6818 - recall: 0.9868 - val_loss: 0.5600 - val_acc: 0.6970 - val_auc: 0.7937 - val_precision: 0.7200 - val_recall: 0.8571\n",
            "Epoch 44/100\n",
            "5/5 [==============================] - 0s 13ms/step - loss: 0.5514 - acc: 0.7576 - auc: 0.8684 - precision: 0.7115 - recall: 0.9737 - val_loss: 0.5578 - val_acc: 0.7576 - val_auc: 0.7996 - val_precision: 0.7826 - val_recall: 0.8571\n",
            "Epoch 45/100\n",
            "5/5 [==============================] - 0s 12ms/step - loss: 0.5440 - acc: 0.7727 - auc: 0.8719 - precision: 0.7300 - recall: 0.9605 - val_loss: 0.5510 - val_acc: 0.7273 - val_auc: 0.8036 - val_precision: 0.7500 - val_recall: 0.8571\n",
            "Epoch 46/100\n",
            "5/5 [==============================] - 0s 12ms/step - loss: 0.5372 - acc: 0.7576 - auc: 0.8732 - precision: 0.7115 - recall: 0.9737 - val_loss: 0.5443 - val_acc: 0.7273 - val_auc: 0.8056 - val_precision: 0.7500 - val_recall: 0.8571\n",
            "Epoch 47/100\n",
            "5/5 [==============================] - 0s 12ms/step - loss: 0.5305 - acc: 0.7576 - auc: 0.8770 - precision: 0.7115 - recall: 0.9737 - val_loss: 0.5413 - val_acc: 0.7273 - val_auc: 0.8115 - val_precision: 0.7500 - val_recall: 0.8571\n",
            "Epoch 48/100\n",
            "5/5 [==============================] - 0s 11ms/step - loss: 0.5242 - acc: 0.7727 - auc: 0.8784 - precision: 0.7255 - recall: 0.9737 - val_loss: 0.5368 - val_acc: 0.7576 - val_auc: 0.8115 - val_precision: 0.7826 - val_recall: 0.8571\n",
            "Epoch 49/100\n",
            "5/5 [==============================] - 0s 14ms/step - loss: 0.5180 - acc: 0.7727 - auc: 0.8793 - precision: 0.7255 - recall: 0.9737 - val_loss: 0.5319 - val_acc: 0.7576 - val_auc: 0.8135 - val_precision: 0.7826 - val_recall: 0.8571\n",
            "Epoch 50/100\n",
            "5/5 [==============================] - 0s 12ms/step - loss: 0.5123 - acc: 0.7727 - auc: 0.8805 - precision: 0.7300 - recall: 0.9605 - val_loss: 0.5297 - val_acc: 0.7273 - val_auc: 0.8175 - val_precision: 0.7727 - val_recall: 0.8095\n",
            "Epoch 51/100\n",
            "5/5 [==============================] - 0s 12ms/step - loss: 0.5071 - acc: 0.7652 - auc: 0.8842 - precision: 0.7419 - recall: 0.9079 - val_loss: 0.5268 - val_acc: 0.7273 - val_auc: 0.8194 - val_precision: 0.7727 - val_recall: 0.8095\n",
            "Epoch 52/100\n",
            "5/5 [==============================] - 0s 10ms/step - loss: 0.5003 - acc: 0.7879 - auc: 0.8892 - precision: 0.7449 - recall: 0.9605 - val_loss: 0.5187 - val_acc: 0.7576 - val_auc: 0.8194 - val_precision: 0.7826 - val_recall: 0.8571\n",
            "Epoch 53/100\n",
            "5/5 [==============================] - 0s 10ms/step - loss: 0.4955 - acc: 0.7727 - auc: 0.8927 - precision: 0.7212 - recall: 0.9868 - val_loss: 0.5137 - val_acc: 0.6970 - val_auc: 0.8175 - val_precision: 0.7200 - val_recall: 0.8571\n",
            "Epoch 54/100\n",
            "5/5 [==============================] - 0s 10ms/step - loss: 0.4921 - acc: 0.7576 - auc: 0.8954 - precision: 0.7075 - recall: 0.9868 - val_loss: 0.5101 - val_acc: 0.7273 - val_auc: 0.8175 - val_precision: 0.7500 - val_recall: 0.8571\n",
            "Epoch 55/100\n",
            "5/5 [==============================] - 0s 10ms/step - loss: 0.4857 - acc: 0.7652 - auc: 0.8943 - precision: 0.7143 - recall: 0.9868 - val_loss: 0.5074 - val_acc: 0.7273 - val_auc: 0.8194 - val_precision: 0.7727 - val_recall: 0.8095\n",
            "Epoch 56/100\n",
            "5/5 [==============================] - 0s 12ms/step - loss: 0.4792 - acc: 0.7803 - auc: 0.8932 - precision: 0.7374 - recall: 0.9605 - val_loss: 0.5085 - val_acc: 0.7273 - val_auc: 0.8214 - val_precision: 0.7727 - val_recall: 0.8095\n",
            "Epoch 57/100\n",
            "5/5 [==============================] - 0s 11ms/step - loss: 0.4772 - acc: 0.7803 - auc: 0.8934 - precision: 0.7701 - recall: 0.8816 - val_loss: 0.5084 - val_acc: 0.7273 - val_auc: 0.8194 - val_precision: 0.7727 - val_recall: 0.8095\n",
            "Epoch 58/100\n",
            "5/5 [==============================] - 0s 9ms/step - loss: 0.4691 - acc: 0.7803 - auc: 0.8961 - precision: 0.7765 - recall: 0.8684 - val_loss: 0.4997 - val_acc: 0.7273 - val_auc: 0.8214 - val_precision: 0.7727 - val_recall: 0.8095\n",
            "Epoch 59/100\n",
            "5/5 [==============================] - 0s 10ms/step - loss: 0.4649 - acc: 0.7727 - auc: 0.8980 - precision: 0.7300 - recall: 0.9605 - val_loss: 0.4948 - val_acc: 0.7576 - val_auc: 0.8274 - val_precision: 0.7826 - val_recall: 0.8571\n",
            "Epoch 60/100\n",
            "5/5 [==============================] - 0s 10ms/step - loss: 0.4606 - acc: 0.7727 - auc: 0.9035 - precision: 0.7255 - recall: 0.9737 - val_loss: 0.4923 - val_acc: 0.7273 - val_auc: 0.8234 - val_precision: 0.7727 - val_recall: 0.8095\n",
            "Epoch 61/100\n",
            "5/5 [==============================] - 0s 11ms/step - loss: 0.4561 - acc: 0.8182 - auc: 0.9005 - precision: 0.7955 - recall: 0.9211 - val_loss: 0.5007 - val_acc: 0.7576 - val_auc: 0.8234 - val_precision: 0.8095 - val_recall: 0.8095\n",
            "Epoch 62/100\n",
            "5/5 [==============================] - 0s 11ms/step - loss: 0.4580 - acc: 0.8106 - auc: 0.9001 - precision: 0.8312 - recall: 0.8421 - val_loss: 0.5017 - val_acc: 0.7576 - val_auc: 0.8234 - val_precision: 0.8095 - val_recall: 0.8095\n",
            "Epoch 63/100\n",
            "5/5 [==============================] - 0s 9ms/step - loss: 0.4516 - acc: 0.8030 - auc: 0.9013 - precision: 0.8205 - recall: 0.8421 - val_loss: 0.4913 - val_acc: 0.7576 - val_auc: 0.8234 - val_precision: 0.8095 - val_recall: 0.8095\n",
            "Epoch 64/100\n",
            "5/5 [==============================] - 0s 9ms/step - loss: 0.4449 - acc: 0.7879 - auc: 0.9030 - precision: 0.7667 - recall: 0.9079 - val_loss: 0.4847 - val_acc: 0.7273 - val_auc: 0.8234 - val_precision: 0.7727 - val_recall: 0.8095\n",
            "Epoch 65/100\n",
            "5/5 [==============================] - 0s 10ms/step - loss: 0.4433 - acc: 0.7803 - auc: 0.9092 - precision: 0.7327 - recall: 0.9737 - val_loss: 0.4833 - val_acc: 0.7273 - val_auc: 0.8214 - val_precision: 0.7727 - val_recall: 0.8095\n",
            "Epoch 66/100\n",
            "5/5 [==============================] - 0s 9ms/step - loss: 0.4380 - acc: 0.7803 - auc: 0.9073 - precision: 0.7374 - recall: 0.9605 - val_loss: 0.4817 - val_acc: 0.7273 - val_auc: 0.8214 - val_precision: 0.7727 - val_recall: 0.8095\n",
            "Epoch 67/100\n",
            "5/5 [==============================] - 0s 10ms/step - loss: 0.4318 - acc: 0.8030 - auc: 0.9075 - precision: 0.7660 - recall: 0.9474 - val_loss: 0.4828 - val_acc: 0.7576 - val_auc: 0.8214 - val_precision: 0.8095 - val_recall: 0.8095\n",
            "Epoch 68/100\n",
            "5/5 [==============================] - 0s 10ms/step - loss: 0.4280 - acc: 0.8258 - auc: 0.9113 - precision: 0.8193 - recall: 0.8947 - val_loss: 0.4959 - val_acc: 0.7879 - val_auc: 0.8254 - val_precision: 0.8889 - val_recall: 0.7619\n",
            "Epoch 69/100\n",
            "5/5 [==============================] - 0s 10ms/step - loss: 0.4448 - acc: 0.8182 - auc: 0.9038 - precision: 0.8714 - recall: 0.8026 - val_loss: 0.5149 - val_acc: 0.8182 - val_auc: 0.8254 - val_precision: 0.9412 - val_recall: 0.7619\n",
            "Epoch 70/100\n",
            "5/5 [==============================] - 0s 11ms/step - loss: 0.4459 - acc: 0.8182 - auc: 0.9013 - precision: 0.8824 - recall: 0.7895 - val_loss: 0.4916 - val_acc: 0.7879 - val_auc: 0.8294 - val_precision: 0.8889 - val_recall: 0.7619\n",
            "Epoch 71/100\n",
            "5/5 [==============================] - 0s 9ms/step - loss: 0.4290 - acc: 0.8106 - auc: 0.9072 - precision: 0.8400 - recall: 0.8289 - val_loss: 0.4758 - val_acc: 0.7879 - val_auc: 0.8254 - val_precision: 0.8500 - val_recall: 0.8095\n",
            "Epoch 72/100\n",
            "5/5 [==============================] - 0s 10ms/step - loss: 0.4196 - acc: 0.8106 - auc: 0.9126 - precision: 0.7802 - recall: 0.9342 - val_loss: 0.4678 - val_acc: 0.7576 - val_auc: 0.8254 - val_precision: 0.8095 - val_recall: 0.8095\n",
            "Epoch 73/100\n",
            "5/5 [==============================] - 0s 10ms/step - loss: 0.4221 - acc: 0.7652 - auc: 0.9174 - precision: 0.7273 - recall: 0.9474 - val_loss: 0.4659 - val_acc: 0.6970 - val_auc: 0.8274 - val_precision: 0.7391 - val_recall: 0.8095\n",
            "Epoch 74/100\n",
            "5/5 [==============================] - 0s 11ms/step - loss: 0.4210 - acc: 0.7727 - auc: 0.9185 - precision: 0.7300 - recall: 0.9605 - val_loss: 0.4633 - val_acc: 0.7576 - val_auc: 0.8294 - val_precision: 0.8095 - val_recall: 0.8095\n",
            "Epoch 75/100\n",
            "5/5 [==============================] - 0s 9ms/step - loss: 0.4129 - acc: 0.7803 - auc: 0.9216 - precision: 0.7423 - recall: 0.9474 - val_loss: 0.4632 - val_acc: 0.7576 - val_auc: 0.8313 - val_precision: 0.8095 - val_recall: 0.8095\n",
            "Epoch 76/100\n",
            "5/5 [==============================] - 0s 9ms/step - loss: 0.4088 - acc: 0.8106 - auc: 0.9206 - precision: 0.7742 - recall: 0.9474 - val_loss: 0.4665 - val_acc: 0.7879 - val_auc: 0.8353 - val_precision: 0.8500 - val_recall: 0.8095\n",
            "Epoch 77/100\n",
            "5/5 [==============================] - 0s 11ms/step - loss: 0.4055 - acc: 0.8182 - auc: 0.9192 - precision: 0.7955 - recall: 0.9211 - val_loss: 0.4638 - val_acc: 0.7879 - val_auc: 0.8353 - val_precision: 0.8500 - val_recall: 0.8095\n",
            "Epoch 78/100\n",
            "5/5 [==============================] - 0s 15ms/step - loss: 0.4036 - acc: 0.8030 - auc: 0.9196 - precision: 0.7660 - recall: 0.9474 - val_loss: 0.4591 - val_acc: 0.7576 - val_auc: 0.8313 - val_precision: 0.8095 - val_recall: 0.8095\n",
            "Epoch 79/100\n",
            "5/5 [==============================] - 0s 15ms/step - loss: 0.4019 - acc: 0.7955 - auc: 0.9214 - precision: 0.7579 - recall: 0.9474 - val_loss: 0.4588 - val_acc: 0.7879 - val_auc: 0.8353 - val_precision: 0.8500 - val_recall: 0.8095\n",
            "Epoch 80/100\n",
            "5/5 [==============================] - 0s 12ms/step - loss: 0.3973 - acc: 0.8106 - auc: 0.9225 - precision: 0.7742 - recall: 0.9474 - val_loss: 0.4609 - val_acc: 0.7879 - val_auc: 0.8353 - val_precision: 0.8500 - val_recall: 0.8095\n",
            "Epoch 81/100\n",
            "5/5 [==============================] - 0s 12ms/step - loss: 0.3973 - acc: 0.8182 - auc: 0.9182 - precision: 0.7955 - recall: 0.9211 - val_loss: 0.4649 - val_acc: 0.7879 - val_auc: 0.8333 - val_precision: 0.8500 - val_recall: 0.8095\n",
            "Epoch 82/100\n",
            "5/5 [==============================] - 0s 15ms/step - loss: 0.3926 - acc: 0.8333 - auc: 0.9208 - precision: 0.8140 - recall: 0.9211 - val_loss: 0.4603 - val_acc: 0.7879 - val_auc: 0.8333 - val_precision: 0.8500 - val_recall: 0.8095\n",
            "Epoch 83/100\n",
            "5/5 [==============================] - 0s 11ms/step - loss: 0.3898 - acc: 0.8182 - auc: 0.9216 - precision: 0.7889 - recall: 0.9342 - val_loss: 0.4579 - val_acc: 0.7879 - val_auc: 0.8353 - val_precision: 0.8500 - val_recall: 0.8095\n",
            "Epoch 84/100\n",
            "5/5 [==============================] - 0s 12ms/step - loss: 0.3879 - acc: 0.8106 - auc: 0.9233 - precision: 0.7802 - recall: 0.9342 - val_loss: 0.4585 - val_acc: 0.7879 - val_auc: 0.8373 - val_precision: 0.8500 - val_recall: 0.8095\n",
            "Epoch 85/100\n",
            "5/5 [==============================] - 0s 11ms/step - loss: 0.3841 - acc: 0.8258 - auc: 0.9226 - precision: 0.8118 - recall: 0.9079 - val_loss: 0.4688 - val_acc: 0.7879 - val_auc: 0.8413 - val_precision: 0.8889 - val_recall: 0.7619\n",
            "Epoch 86/100\n",
            "5/5 [==============================] - 0s 12ms/step - loss: 0.3906 - acc: 0.8333 - auc: 0.9206 - precision: 0.8553 - recall: 0.8553 - val_loss: 0.4715 - val_acc: 0.7879 - val_auc: 0.8472 - val_precision: 0.8889 - val_recall: 0.7619\n",
            "Epoch 87/100\n",
            "5/5 [==============================] - 0s 10ms/step - loss: 0.3804 - acc: 0.8485 - auc: 0.9265 - precision: 0.8415 - recall: 0.9079 - val_loss: 0.4529 - val_acc: 0.7879 - val_auc: 0.8492 - val_precision: 0.8500 - val_recall: 0.8095\n",
            "Epoch 88/100\n",
            "5/5 [==============================] - 0s 10ms/step - loss: 0.3801 - acc: 0.8106 - auc: 0.9263 - precision: 0.7802 - recall: 0.9342 - val_loss: 0.4491 - val_acc: 0.7879 - val_auc: 0.8452 - val_precision: 0.8500 - val_recall: 0.8095\n",
            "Epoch 89/100\n",
            "5/5 [==============================] - 0s 11ms/step - loss: 0.3787 - acc: 0.8030 - auc: 0.9286 - precision: 0.7660 - recall: 0.9474 - val_loss: 0.4491 - val_acc: 0.7879 - val_auc: 0.8492 - val_precision: 0.8500 - val_recall: 0.8095\n",
            "Epoch 90/100\n",
            "5/5 [==============================] - 0s 10ms/step - loss: 0.3754 - acc: 0.8182 - auc: 0.9274 - precision: 0.7889 - recall: 0.9342 - val_loss: 0.4516 - val_acc: 0.7879 - val_auc: 0.8571 - val_precision: 0.8500 - val_recall: 0.8095\n",
            "Epoch 91/100\n",
            "5/5 [==============================] - 0s 10ms/step - loss: 0.3725 - acc: 0.8258 - auc: 0.9285 - precision: 0.7978 - recall: 0.9342 - val_loss: 0.4504 - val_acc: 0.7879 - val_auc: 0.8571 - val_precision: 0.8500 - val_recall: 0.8095\n",
            "Epoch 92/100\n",
            "5/5 [==============================] - 0s 9ms/step - loss: 0.3706 - acc: 0.8182 - auc: 0.9297 - precision: 0.7889 - recall: 0.9342 - val_loss: 0.4479 - val_acc: 0.7879 - val_auc: 0.8552 - val_precision: 0.8500 - val_recall: 0.8095\n",
            "Epoch 93/100\n",
            "5/5 [==============================] - 0s 13ms/step - loss: 0.3708 - acc: 0.8030 - auc: 0.9301 - precision: 0.7717 - recall: 0.9342 - val_loss: 0.4466 - val_acc: 0.7879 - val_auc: 0.8552 - val_precision: 0.8500 - val_recall: 0.8095\n",
            "Epoch 94/100\n",
            "5/5 [==============================] - 0s 11ms/step - loss: 0.3701 - acc: 0.7955 - auc: 0.9295 - precision: 0.7634 - recall: 0.9342 - val_loss: 0.4460 - val_acc: 0.7879 - val_auc: 0.8532 - val_precision: 0.8500 - val_recall: 0.8095\n",
            "Epoch 95/100\n",
            "5/5 [==============================] - 0s 14ms/step - loss: 0.3676 - acc: 0.8030 - auc: 0.9317 - precision: 0.7717 - recall: 0.9342 - val_loss: 0.4455 - val_acc: 0.7879 - val_auc: 0.8591 - val_precision: 0.8500 - val_recall: 0.8095\n",
            "Epoch 96/100\n",
            "5/5 [==============================] - 0s 10ms/step - loss: 0.3649 - acc: 0.8030 - auc: 0.9320 - precision: 0.7717 - recall: 0.9342 - val_loss: 0.4467 - val_acc: 0.7879 - val_auc: 0.8611 - val_precision: 0.8500 - val_recall: 0.8095\n",
            "Epoch 97/100\n",
            "5/5 [==============================] - 0s 10ms/step - loss: 0.3621 - acc: 0.8333 - auc: 0.9306 - precision: 0.8068 - recall: 0.9342 - val_loss: 0.4520 - val_acc: 0.8182 - val_auc: 0.8611 - val_precision: 0.8947 - val_recall: 0.8095\n",
            "Epoch 98/100\n",
            "5/5 [==============================] - 0s 11ms/step - loss: 0.3589 - acc: 0.8333 - auc: 0.9319 - precision: 0.8140 - recall: 0.9211 - val_loss: 0.4491 - val_acc: 0.7879 - val_auc: 0.8611 - val_precision: 0.8500 - val_recall: 0.8095\n",
            "Epoch 99/100\n",
            "5/5 [==============================] - 0s 12ms/step - loss: 0.3582 - acc: 0.8106 - auc: 0.9330 - precision: 0.7802 - recall: 0.9342 - val_loss: 0.4457 - val_acc: 0.7879 - val_auc: 0.8591 - val_precision: 0.8500 - val_recall: 0.8095\n",
            "Epoch 100/100\n",
            "5/5 [==============================] - 0s 11ms/step - loss: 0.3568 - acc: 0.8258 - auc: 0.9315 - precision: 0.8046 - recall: 0.9211 - val_loss: 0.4530 - val_acc: 0.7879 - val_auc: 0.8671 - val_precision: 0.8889 - val_recall: 0.7619\n"
          ]
        },
        {
          "output_type": "display_data",
          "data": {
            "text/plain": [
              "<Figure size 432x288 with 1 Axes>"
            ],
            "image/png": "[encoded data removed]"
          },
          "metadata": {
            "needs_background": "light"
          }
        },
        {
          "output_type": "stream",
          "name": "stdout",
          "text": [
            "2/2 [==============================] - 0s 9ms/step - loss: 0.6891 - acc: 0.6190 - auc: 0.7526 - precision: 0.4545 - recall: 0.7143\n",
            "loss= 0.6891434788703918\n",
            "acc= 0.6190476417541504\n",
            "auc= 0.7525509595870972\n",
            "precision= 0.4545454680919647\n",
            "recall= 0.7142857313156128\n",
            "WARNING:tensorflow:5 out of the last 11 calls to <function Model.make_predict_function.<locals>.predict_function at 0x7f6bb0d60680> triggered tf.function retracing. Tracing is expensive and the excessive number of tracings could be due to (1) creating @tf.function repeatedly in a loop, (2) passing tensors with different shapes, (3) passing Python objects instead of tensors. For (1), please define your @tf.function outside of the loop. For (2), @tf.function has experimental_relax_shapes=True option that relaxes argument shapes that can avoid unnecessary retracing. For (3), please refer to https://www.tensorflow.org/guide/function#controlling_retracing and https://www.tensorflow.org/api_docs/python/tf/function for  more details.\n"
          ]
        },
        {
          "output_type": "display_data",
          "data": {
            "text/plain": [
              "<Figure size 432x288 with 1 Axes>"
            ],
            "image/png": "[encoded data removed]"
          },
          "metadata": {
            "needs_background": "light"
          }
        }
      ]
    },
    {
      "cell_type": "markdown",
      "metadata": {
        "id": "d4Jwyvmh47I2"
      },
      "source": [
        "# batch size 설정\n",
        "\n",
        "model.fit() 호출 시 batch_size 파라매터로 설정한다.\n",
        "\n",
        "2의 지수승의 값으로 하나씩 증가하면서 1 step의 처리 시간이 증가하기 바로 전의 batch size 값을 찾아낸다."
      ]
    },
    {
      "cell_type": "code",
      "metadata": {
        "id": "C8KPvkNabRk8"
      },
      "source": [
        "import numpy as np\n",
        "import pandas as pd\n",
        "import matplotlib.pyplot as plt\n",
        "\n",
        "import tensorflow as tf\n",
        "\n",
        "from tensorflow import keras\n",
        "from tensorflow.keras import optimizers\n",
        "from tensorflow.keras.layers import Dense, Input, Flatten"
      ],
      "execution_count": null,
      "outputs": []
    },
    {
      "cell_type": "code",
      "metadata": {
        "id": "kgdnXw0NbULv"
      },
      "source": [
        "(train_x, train_y), (test_x, test_y) = tf.keras.datasets.cifar100.load_data()"
      ],
      "execution_count": null,
      "outputs": []
    },
    {
      "cell_type": "code",
      "metadata": {
        "colab": {
          "base_uri": "https://localhost:8080/"
        },
        "id": "RkaJ3scwhvft",
        "outputId": "270322b2-02b4-40cf-a235-be2c47fb1ecf"
      },
      "source": [
        "print(train_x.shape)"
      ],
      "execution_count": null,
      "outputs": [
        {
          "output_type": "stream",
          "name": "stdout",
          "text": [
            "(50000, 32, 32, 3)\n"
          ]
        }
      ]
    },
    {
      "cell_type": "code",
      "metadata": {
        "id": "XHusjyjqbaSj"
      },
      "source": [
        "# 모델 정의\n",
        "model = keras.Sequential()\n",
        "model.add(Input((32,32,3)))\n",
        "model.add(Flatten())\n",
        "model.add(Dense(1280, activation='relu'))\n",
        "model.add(Dense(32, activation='relu'))\n",
        "model.add(Dense(100, activation=\"softmax\"))\n",
        "\n",
        "\n",
        "# 모델 컴파일\n",
        "model.compile(optimizer=\"Adam\", loss=\"sparse_categorical_crossentropy\", metrics=[\"acc\"])"
      ],
      "execution_count": null,
      "outputs": []
    },
    {
      "cell_type": "code",
      "metadata": {
        "colab": {
          "base_uri": "https://localhost:8080/"
        },
        "id": "4X4AZIE7c-Gw",
        "outputId": "1c4ea4e4-e7ae-4f70-e9ea-4d6a6fcb06d9"
      },
      "source": [
        "model.fit(train_x, train_y, epochs=3, batch_size=8, validation_split=0.2)"
      ],
      "execution_count": null,
      "outputs": [
        {
          "output_type": "stream",
          "name": "stdout",
          "text": [
            "Epoch 1/3\n",
            "5000/5000 [==============================] - 14s 3ms/step - loss: 4.8972 - acc: 0.0094 - val_loss: 4.6077 - val_acc: 0.0092\n",
            "Epoch 2/3\n",
            "5000/5000 [==============================] - 13s 3ms/step - loss: 4.6063 - acc: 0.0094 - val_loss: 4.6077 - val_acc: 0.0084\n",
            "Epoch 3/3\n",
            "5000/5000 [==============================] - 13s 3ms/step - loss: 4.6063 - acc: 0.0091 - val_loss: 4.6079 - val_acc: 0.0086\n"
          ]
        },
        {
          "output_type": "execute_result",
          "data": {
            "text/plain": [
              "<keras.callbacks.History at 0x7f6bb0d501d0>"
            ]
          },
          "metadata": {},
          "execution_count": 26
        }
      ]
    },
    {
      "cell_type": "code",
      "metadata": {
        "colab": {
          "base_uri": "https://localhost:8080/"
        },
        "id": "F26ADeM5c8Ls",
        "outputId": "9cf1cb11-9c61-4a00-8a9d-91d77c5e959d"
      },
      "source": [
        "model.fit(train_x, train_y, epochs=3, batch_size=16, validation_split=0.2)"
      ],
      "execution_count": null,
      "outputs": [
        {
          "output_type": "stream",
          "name": "stdout",
          "text": [
            "Epoch 1/3\n",
            "2500/2500 [==============================] - 8s 3ms/step - loss: 4.6058 - acc: 0.0091 - val_loss: 4.6080 - val_acc: 0.0077\n",
            "Epoch 2/3\n",
            "2500/2500 [==============================] - 8s 3ms/step - loss: 4.6059 - acc: 0.0101 - val_loss: 4.6079 - val_acc: 0.0086\n",
            "Epoch 3/3\n",
            "2500/2500 [==============================] - 8s 3ms/step - loss: 4.6059 - acc: 0.0091 - val_loss: 4.6078 - val_acc: 0.0083\n"
          ]
        },
        {
          "output_type": "execute_result",
          "data": {
            "text/plain": [
              "<keras.callbacks.History at 0x7f6bb03506d0>"
            ]
          },
          "metadata": {},
          "execution_count": 27
        }
      ]
    },
    {
      "cell_type": "code",
      "metadata": {
        "colab": {
          "base_uri": "https://localhost:8080/"
        },
        "id": "XT3VnxQ7c8E3",
        "outputId": "61ae4602-41c7-4bf6-b236-5c4a07577482"
      },
      "source": [
        "model.fit(train_x, train_y, epochs=3, batch_size=32, validation_split=0.2)"
      ],
      "execution_count": null,
      "outputs": [
        {
          "output_type": "stream",
          "name": "stdout",
          "text": [
            "Epoch 1/3\n",
            "1250/1250 [==============================] - 5s 4ms/step - loss: 4.6055 - acc: 0.0100 - val_loss: 4.6078 - val_acc: 0.0083\n",
            "Epoch 2/3\n",
            "1250/1250 [==============================] - 4s 4ms/step - loss: 4.6056 - acc: 0.0099 - val_loss: 4.6079 - val_acc: 0.0085\n",
            "Epoch 3/3\n",
            "1250/1250 [==============================] - 4s 4ms/step - loss: 4.6056 - acc: 0.0096 - val_loss: 4.6078 - val_acc: 0.0077\n"
          ]
        },
        {
          "output_type": "execute_result",
          "data": {
            "text/plain": [
              "<keras.callbacks.History at 0x7f6bb0229a10>"
            ]
          },
          "metadata": {},
          "execution_count": 28
        }
      ]
    },
    {
      "cell_type": "code",
      "metadata": {
        "colab": {
          "base_uri": "https://localhost:8080/"
        },
        "id": "beCLN2Wzc7-a",
        "outputId": "9a4d382a-1aed-4e74-d5b3-899c3d6d558a"
      },
      "source": [
        "model.fit(train_x, train_y, epochs=3, batch_size=64, validation_split=0.2)"
      ],
      "execution_count": null,
      "outputs": [
        {
          "output_type": "stream",
          "name": "stdout",
          "text": [
            "Epoch 1/3\n",
            "625/625 [==============================] - 3s 5ms/step - loss: 4.6053 - acc: 0.0101 - val_loss: 4.6079 - val_acc: 0.0077\n",
            "Epoch 2/3\n",
            "625/625 [==============================] - 2s 4ms/step - loss: 4.6053 - acc: 0.0102 - val_loss: 4.6079 - val_acc: 0.0077\n",
            "Epoch 3/3\n",
            "625/625 [==============================] - 2s 4ms/step - loss: 4.6054 - acc: 0.0103 - val_loss: 4.6080 - val_acc: 0.0083\n"
          ]
        },
        {
          "output_type": "execute_result",
          "data": {
            "text/plain": [
              "<keras.callbacks.History at 0x7f6bb02d1b50>"
            ]
          },
          "metadata": {},
          "execution_count": 29
        }
      ]
    },
    {
      "cell_type": "code",
      "metadata": {
        "colab": {
          "base_uri": "https://localhost:8080/"
        },
        "id": "GQI6NEu4c74D",
        "outputId": "aae4814b-71ff-4a76-f770-217e4e64d35e"
      },
      "source": [
        "model.fit(train_x, train_y, epochs=3, batch_size=128, validation_split=0.2)"
      ],
      "execution_count": null,
      "outputs": [
        {
          "output_type": "stream",
          "name": "stdout",
          "text": [
            "Epoch 1/3\n",
            "313/313 [==============================] - 2s 5ms/step - loss: 4.6051 - acc: 0.0103 - val_loss: 4.6080 - val_acc: 0.0077\n",
            "Epoch 2/3\n",
            "313/313 [==============================] - 1s 5ms/step - loss: 4.6052 - acc: 0.0100 - val_loss: 4.6079 - val_acc: 0.0077\n",
            "Epoch 3/3\n",
            "313/313 [==============================] - 1s 4ms/step - loss: 4.6052 - acc: 0.0095 - val_loss: 4.6079 - val_acc: 0.0077\n"
          ]
        },
        {
          "output_type": "execute_result",
          "data": {
            "text/plain": [
              "<keras.callbacks.History at 0x7f6bb030f050>"
            ]
          },
          "metadata": {},
          "execution_count": 30
        }
      ]
    },
    {
      "cell_type": "code",
      "metadata": {
        "colab": {
          "base_uri": "https://localhost:8080/"
        },
        "id": "hgsJgbFBc7ww",
        "outputId": "e8e7341a-52bb-48f9-f581-8d974b097187"
      },
      "source": [
        "model.fit(train_x, train_y, epochs=3, batch_size=256, validation_split=0.2)"
      ],
      "execution_count": null,
      "outputs": [
        {
          "output_type": "stream",
          "name": "stdout",
          "text": [
            "Epoch 1/3\n",
            "157/157 [==============================] - 1s 5ms/step - loss: 4.6050 - acc: 0.0106 - val_loss: 4.6079 - val_acc: 0.0077\n",
            "Epoch 2/3\n",
            "157/157 [==============================] - 1s 5ms/step - loss: 4.6050 - acc: 0.0106 - val_loss: 4.6079 - val_acc: 0.0077\n",
            "Epoch 3/3\n",
            "157/157 [==============================] - 1s 5ms/step - loss: 4.6050 - acc: 0.0106 - val_loss: 4.6079 - val_acc: 0.0077\n"
          ]
        },
        {
          "output_type": "execute_result",
          "data": {
            "text/plain": [
              "<keras.callbacks.History at 0x7f6bb0105150>"
            ]
          },
          "metadata": {},
          "execution_count": 31
        }
      ]
    },
    {
      "cell_type": "code",
      "metadata": {
        "colab": {
          "base_uri": "https://localhost:8080/"
        },
        "id": "u-uYbWSNnLAl",
        "outputId": "9c34386c-0f5d-447f-9ef3-e9242d34f152"
      },
      "source": [
        "model.fit(train_x, train_y, epochs=3, batch_size=512, validation_split=0.2)"
      ],
      "execution_count": null,
      "outputs": [
        {
          "output_type": "stream",
          "name": "stdout",
          "text": [
            "Epoch 1/3\n",
            "79/79 [==============================] - 1s 7ms/step - loss: 4.6049 - acc: 0.0106 - val_loss: 4.6079 - val_acc: 0.0077\n",
            "Epoch 2/3\n",
            "79/79 [==============================] - 0s 5ms/step - loss: 4.6050 - acc: 0.0106 - val_loss: 4.6079 - val_acc: 0.0077\n",
            "Epoch 3/3\n",
            "79/79 [==============================] - 0s 5ms/step - loss: 4.6049 - acc: 0.0106 - val_loss: 4.6079 - val_acc: 0.0077\n"
          ]
        },
        {
          "output_type": "execute_result",
          "data": {
            "text/plain": [
              "<keras.callbacks.History at 0x7f6bb011d950>"
            ]
          },
          "metadata": {},
          "execution_count": 32
        }
      ]
    },
    {
      "cell_type": "markdown",
      "metadata": {
        "id": "t2n64LoynN9O"
      },
      "source": [
        "batch_size 256일 때 4ms 였던 것이 512일때 8ms로 증가했다. \n",
        "\n",
        "256를 batch_size로 설정한다."
      ]
    },
    {
      "cell_type": "markdown",
      "metadata": {
        "id": "M3Dnupm-5EBv"
      },
      "source": [
        "# 기타 설정/방법"
      ]
    },
    {
      "cell_type": "markdown",
      "metadata": {
        "id": "PWkZXLXx5FhC"
      },
      "source": [
        "## verbose 설정"
      ]
    },
    {
      "cell_type": "code",
      "metadata": {
        "id": "-nHIQQSGocVu"
      },
      "source": [
        "import numpy as np\n",
        "import pandas as pd\n",
        "import matplotlib.pyplot as plt\n",
        "\n",
        "import tensorflow as tf\n",
        "\n",
        "from tensorflow import keras\n",
        "from tensorflow.keras import optimizers\n",
        "from tensorflow.keras.layers import Dense, Input, Flatten"
      ],
      "execution_count": null,
      "outputs": []
    },
    {
      "cell_type": "code",
      "metadata": {
        "id": "3xMNk85SocVu"
      },
      "source": [
        "(train_x, train_y), (test_x, test_y) = tf.keras.datasets.mnist.load_data()"
      ],
      "execution_count": null,
      "outputs": []
    },
    {
      "cell_type": "code",
      "metadata": {
        "id": "k8LU0yCrocVu"
      },
      "source": [
        "# 모델 정의\n",
        "model = keras.Sequential()\n",
        "model.add(Input((28,28)))\n",
        "model.add(Flatten())\n",
        "model.add(Dense(10, activation='relu'))\n",
        "model.add(Dense(10, activation='relu'))\n",
        "model.add(Dense(10, activation=\"softmax\"))\n",
        "\n",
        "\n",
        "# 모델 컴파일\n",
        "model.compile(optimizer=\"Adam\", loss=\"sparse_categorical_crossentropy\", metrics=[\"acc\"])"
      ],
      "execution_count": null,
      "outputs": []
    },
    {
      "cell_type": "code",
      "metadata": {
        "colab": {
          "base_uri": "https://localhost:8080/"
        },
        "id": "AAPmCl3Zo_AY",
        "outputId": "fb9b5c8b-ca7b-4b3e-c4cd-d46938a4bea6"
      },
      "source": [
        "model.fit(train_x, train_y, epochs=5, batch_size=32, validation_split=0.2)"
      ],
      "execution_count": null,
      "outputs": [
        {
          "output_type": "stream",
          "name": "stdout",
          "text": [
            "Epoch 1/5\n",
            "1500/1500 [==============================] - 4s 2ms/step - loss: 2.2412 - acc: 0.2490 - val_loss: 1.6546 - val_acc: 0.3640\n",
            "Epoch 2/5\n",
            "1500/1500 [==============================] - 4s 2ms/step - loss: 1.5498 - acc: 0.3998 - val_loss: 1.4620 - val_acc: 0.4218\n",
            "Epoch 3/5\n",
            "1500/1500 [==============================] - 3s 2ms/step - loss: 1.3655 - acc: 0.4465 - val_loss: 1.3047 - val_acc: 0.4717\n",
            "Epoch 4/5\n",
            "1500/1500 [==============================] - 3s 2ms/step - loss: 1.2683 - acc: 0.4716 - val_loss: 1.2376 - val_acc: 0.4617\n",
            "Epoch 5/5\n",
            "1500/1500 [==============================] - 3s 2ms/step - loss: 1.2150 - acc: 0.4958 - val_loss: 1.1642 - val_acc: 0.5267\n"
          ]
        },
        {
          "output_type": "execute_result",
          "data": {
            "text/plain": [
              "<keras.callbacks.History at 0x7f6bb013cfd0>"
            ]
          },
          "metadata": {},
          "execution_count": 36
        }
      ]
    },
    {
      "cell_type": "code",
      "metadata": {
        "colab": {
          "base_uri": "https://localhost:8080/"
        },
        "id": "MSApzyPJo_bB",
        "outputId": "399ab5bd-e067-4c9d-f5a0-b1e1b71b81ee"
      },
      "source": [
        "model.fit(train_x, train_y, epochs=5, batch_size=32, verbose=0, validation_split=0.2)"
      ],
      "execution_count": null,
      "outputs": [
        {
          "output_type": "execute_result",
          "data": {
            "text/plain": [
              "<keras.callbacks.History at 0x7f6bb010e850>"
            ]
          },
          "metadata": {},
          "execution_count": 37
        }
      ]
    },
    {
      "cell_type": "code",
      "metadata": {
        "colab": {
          "base_uri": "https://localhost:8080/"
        },
        "id": "g7RU6RmNpDq3",
        "outputId": "3125dd2c-3a42-42b9-9bce-7ecc6a2111c6"
      },
      "source": [
        "model.fit(train_x, train_y, epochs=5, batch_size=32, verbose=1, validation_split=0.2)"
      ],
      "execution_count": null,
      "outputs": [
        {
          "output_type": "stream",
          "name": "stdout",
          "text": [
            "Epoch 1/5\n",
            "1500/1500 [==============================] - 4s 2ms/step - loss: 1.0498 - acc: 0.5915 - val_loss: 1.0476 - val_acc: 0.6012\n",
            "Epoch 2/5\n",
            "1500/1500 [==============================] - 3s 2ms/step - loss: 1.0397 - acc: 0.5981 - val_loss: 1.0284 - val_acc: 0.6072\n",
            "Epoch 3/5\n",
            "1500/1500 [==============================] - 3s 2ms/step - loss: 1.0286 - acc: 0.6025 - val_loss: 1.0274 - val_acc: 0.6053\n",
            "Epoch 4/5\n",
            "1500/1500 [==============================] - 3s 2ms/step - loss: 1.0206 - acc: 0.6049 - val_loss: 1.0221 - val_acc: 0.6127\n",
            "Epoch 5/5\n",
            "1500/1500 [==============================] - 3s 2ms/step - loss: 1.0093 - acc: 0.6085 - val_loss: 0.9891 - val_acc: 0.6066\n"
          ]
        },
        {
          "output_type": "execute_result",
          "data": {
            "text/plain": [
              "<keras.callbacks.History at 0x7f6baffe1d50>"
            ]
          },
          "metadata": {},
          "execution_count": 38
        }
      ]
    },
    {
      "cell_type": "code",
      "metadata": {
        "colab": {
          "base_uri": "https://localhost:8080/"
        },
        "id": "ljzxv6-FpECz",
        "outputId": "d26ca2a6-a2c1-4906-bee7-3ed25dfd17f7"
      },
      "source": [
        "model.fit(train_x, train_y, epochs=5, batch_size=32, verbose=2, validation_split=0.2)"
      ],
      "execution_count": null,
      "outputs": [
        {
          "output_type": "stream",
          "name": "stdout",
          "text": [
            "Epoch 1/5\n",
            "1500/1500 - 3s - loss: 1.0069 - acc: 0.6112 - val_loss: 1.0233 - val_acc: 0.6157\n",
            "Epoch 2/5\n",
            "1500/1500 - 2s - loss: 0.9974 - acc: 0.6131 - val_loss: 0.9922 - val_acc: 0.6133\n",
            "Epoch 3/5\n",
            "1500/1500 - 2s - loss: 0.9899 - acc: 0.6164 - val_loss: 0.9718 - val_acc: 0.6143\n",
            "Epoch 4/5\n",
            "1500/1500 - 2s - loss: 0.9847 - acc: 0.6193 - val_loss: 0.9745 - val_acc: 0.6149\n",
            "Epoch 5/5\n",
            "1500/1500 - 3s - loss: 0.9647 - acc: 0.6242 - val_loss: 0.9697 - val_acc: 0.6264\n"
          ]
        },
        {
          "output_type": "execute_result",
          "data": {
            "text/plain": [
              "<keras.callbacks.History at 0x7f6bb007c810>"
            ]
          },
          "metadata": {},
          "execution_count": 39
        }
      ]
    },
    {
      "cell_type": "markdown",
      "metadata": {
        "id": "uXMPW1wK5IWV"
      },
      "source": [
        "## loss, 성능지표 그리기"
      ]
    },
    {
      "cell_type": "code",
      "metadata": {
        "id": "Tcs2tLmppzn8"
      },
      "source": [
        "import numpy as np\n",
        "import pandas as pd\n",
        "import matplotlib.pyplot as plt\n",
        "\n",
        "import tensorflow as tf\n",
        "\n",
        "from tensorflow import keras\n",
        "from tensorflow.keras import optimizers\n",
        "from tensorflow.keras.layers import Dense, Input, Flatten"
      ],
      "execution_count": null,
      "outputs": []
    },
    {
      "cell_type": "code",
      "metadata": {
        "id": "wYCOu9GGpzn8"
      },
      "source": [
        "(train_x, train_y), (test_x, test_y) = tf.keras.datasets.mnist.load_data()"
      ],
      "execution_count": null,
      "outputs": []
    },
    {
      "cell_type": "code",
      "metadata": {
        "colab": {
          "base_uri": "https://localhost:8080/"
        },
        "id": "VgHSv7LVp1o2",
        "outputId": "20994b94-6bb4-4ec4-99cc-c85080392aec"
      },
      "source": [
        "# 모델 정의\n",
        "model = keras.Sequential()\n",
        "model.add(Input((28,28)))\n",
        "model.add(Flatten())\n",
        "model.add(Dense(10, activation='relu'))\n",
        "model.add(Dense(10, activation='relu'))\n",
        "model.add(Dense(10, activation=\"softmax\"))\n",
        "\n",
        "\n",
        "# 모델 컴파일\n",
        "model.compile(optimizer=\"Adam\", loss=\"sparse_categorical_crossentropy\", metrics=[\"acc\"])\n",
        "model.summary()\n",
        "\n",
        "\n",
        "# 모델 학습\n",
        "history = model.fit(train_x, train_y, epochs=50, batch_size=256, validation_split=0.2)\n"
      ],
      "execution_count": null,
      "outputs": [
        {
          "output_type": "stream",
          "name": "stdout",
          "text": [
            "Model: \"sequential_11\"\n",
            "_________________________________________________________________\n",
            "Layer (type)                 Output Shape              Param #   \n",
            "=================================================================\n",
            "flatten_5 (Flatten)          (None, 784)               0         \n",
            "_________________________________________________________________\n",
            "dense_33 (Dense)             (None, 10)                7850      \n",
            "_________________________________________________________________\n",
            "dense_34 (Dense)             (None, 10)                110       \n",
            "_________________________________________________________________\n",
            "dense_35 (Dense)             (None, 10)                110       \n",
            "=================================================================\n",
            "Total params: 8,070\n",
            "Trainable params: 8,070\n",
            "Non-trainable params: 0\n",
            "_________________________________________________________________\n",
            "Epoch 1/50\n",
            "188/188 [==============================] - 1s 4ms/step - loss: 6.3067 - acc: 0.1307 - val_loss: 2.2138 - val_acc: 0.1602\n",
            "Epoch 2/50\n",
            "188/188 [==============================] - 1s 3ms/step - loss: 2.1422 - acc: 0.1862 - val_loss: 2.1142 - val_acc: 0.1980\n",
            "Epoch 3/50\n",
            "188/188 [==============================] - 1s 3ms/step - loss: 2.0714 - acc: 0.2115 - val_loss: 2.0379 - val_acc: 0.2240\n",
            "Epoch 4/50\n",
            "188/188 [==============================] - 1s 3ms/step - loss: 2.0293 - acc: 0.2243 - val_loss: 2.0057 - val_acc: 0.2342\n",
            "Epoch 5/50\n",
            "188/188 [==============================] - 1s 3ms/step - loss: 1.9944 - acc: 0.2338 - val_loss: 1.9797 - val_acc: 0.2448\n",
            "Epoch 6/50\n",
            "188/188 [==============================] - 1s 3ms/step - loss: 1.9527 - acc: 0.2497 - val_loss: 1.9297 - val_acc: 0.2668\n",
            "Epoch 7/50\n",
            "188/188 [==============================] - 1s 3ms/step - loss: 1.9021 - acc: 0.2636 - val_loss: 1.9035 - val_acc: 0.2718\n",
            "Epoch 8/50\n",
            "188/188 [==============================] - 1s 3ms/step - loss: 1.8763 - acc: 0.2701 - val_loss: 1.8897 - val_acc: 0.2693\n",
            "Epoch 9/50\n",
            "188/188 [==============================] - 1s 3ms/step - loss: 1.8565 - acc: 0.2750 - val_loss: 1.8787 - val_acc: 0.2738\n",
            "Epoch 10/50\n",
            "188/188 [==============================] - 1s 3ms/step - loss: 1.8361 - acc: 0.2791 - val_loss: 1.8708 - val_acc: 0.2826\n",
            "Epoch 11/50\n",
            "188/188 [==============================] - 1s 3ms/step - loss: 1.8206 - acc: 0.2809 - val_loss: 1.8682 - val_acc: 0.2876\n",
            "Epoch 12/50\n",
            "188/188 [==============================] - 1s 3ms/step - loss: 1.8108 - acc: 0.2844 - val_loss: 1.8571 - val_acc: 0.2855\n",
            "Epoch 13/50\n",
            "188/188 [==============================] - 1s 3ms/step - loss: 1.8045 - acc: 0.2863 - val_loss: 1.8657 - val_acc: 0.2871\n",
            "Epoch 14/50\n",
            "188/188 [==============================] - 1s 3ms/step - loss: 1.7957 - acc: 0.2844 - val_loss: 1.8438 - val_acc: 0.2874\n",
            "Epoch 15/50\n",
            "188/188 [==============================] - 0s 2ms/step - loss: 1.7890 - acc: 0.2880 - val_loss: 1.8445 - val_acc: 0.2841\n",
            "Epoch 16/50\n",
            "188/188 [==============================] - 1s 3ms/step - loss: 1.7835 - acc: 0.2855 - val_loss: 1.8259 - val_acc: 0.2947\n",
            "Epoch 17/50\n",
            "188/188 [==============================] - 0s 3ms/step - loss: 1.7001 - acc: 0.3284 - val_loss: 1.6447 - val_acc: 0.3616\n",
            "Epoch 18/50\n",
            "188/188 [==============================] - 1s 3ms/step - loss: 1.5205 - acc: 0.3878 - val_loss: 1.5402 - val_acc: 0.3899\n",
            "Epoch 19/50\n",
            "188/188 [==============================] - 1s 3ms/step - loss: 1.4446 - acc: 0.4191 - val_loss: 1.4541 - val_acc: 0.4296\n",
            "Epoch 20/50\n",
            "188/188 [==============================] - 1s 3ms/step - loss: 1.3824 - acc: 0.4362 - val_loss: 1.3946 - val_acc: 0.4405\n",
            "Epoch 21/50\n",
            "188/188 [==============================] - 1s 3ms/step - loss: 1.3405 - acc: 0.4484 - val_loss: 1.3526 - val_acc: 0.4562\n",
            "Epoch 22/50\n",
            "188/188 [==============================] - 1s 3ms/step - loss: 1.3158 - acc: 0.4584 - val_loss: 1.3264 - val_acc: 0.4718\n",
            "Epoch 23/50\n",
            "188/188 [==============================] - 1s 3ms/step - loss: 1.2952 - acc: 0.4698 - val_loss: 1.3134 - val_acc: 0.4754\n",
            "Epoch 24/50\n",
            "188/188 [==============================] - 0s 3ms/step - loss: 1.2728 - acc: 0.4775 - val_loss: 1.2826 - val_acc: 0.4865\n",
            "Epoch 25/50\n",
            "188/188 [==============================] - 1s 3ms/step - loss: 1.2519 - acc: 0.4891 - val_loss: 1.2464 - val_acc: 0.5104\n",
            "Epoch 26/50\n",
            "188/188 [==============================] - 1s 3ms/step - loss: 1.2023 - acc: 0.5286 - val_loss: 1.1636 - val_acc: 0.5640\n",
            "Epoch 27/50\n",
            "188/188 [==============================] - 1s 3ms/step - loss: 1.1175 - acc: 0.5819 - val_loss: 1.0832 - val_acc: 0.5960\n",
            "Epoch 28/50\n",
            "188/188 [==============================] - 1s 3ms/step - loss: 1.0545 - acc: 0.6157 - val_loss: 1.0276 - val_acc: 0.6282\n",
            "Epoch 29/50\n",
            "188/188 [==============================] - 0s 3ms/step - loss: 1.0026 - acc: 0.6434 - val_loss: 0.9862 - val_acc: 0.6465\n",
            "Epoch 30/50\n",
            "188/188 [==============================] - 1s 3ms/step - loss: 0.9551 - acc: 0.6664 - val_loss: 0.9673 - val_acc: 0.6717\n",
            "Epoch 31/50\n",
            "188/188 [==============================] - 1s 3ms/step - loss: 0.9141 - acc: 0.6916 - val_loss: 0.9187 - val_acc: 0.7036\n",
            "Epoch 32/50\n",
            "188/188 [==============================] - 1s 3ms/step - loss: 0.8707 - acc: 0.7125 - val_loss: 0.8702 - val_acc: 0.7260\n",
            "Epoch 33/50\n",
            "188/188 [==============================] - 1s 3ms/step - loss: 0.8365 - acc: 0.7261 - val_loss: 0.8358 - val_acc: 0.7362\n",
            "Epoch 34/50\n",
            "188/188 [==============================] - 1s 3ms/step - loss: 0.8037 - acc: 0.7419 - val_loss: 0.7848 - val_acc: 0.7551\n",
            "Epoch 35/50\n",
            "188/188 [==============================] - 1s 3ms/step - loss: 0.7668 - acc: 0.7602 - val_loss: 0.7503 - val_acc: 0.7547\n",
            "Epoch 36/50\n",
            "188/188 [==============================] - 1s 5ms/step - loss: 0.7447 - acc: 0.7655 - val_loss: 0.7223 - val_acc: 0.7788\n",
            "Epoch 37/50\n",
            "188/188 [==============================] - 1s 4ms/step - loss: 0.7168 - acc: 0.7772 - val_loss: 0.7377 - val_acc: 0.7712\n",
            "Epoch 38/50\n",
            "188/188 [==============================] - 1s 4ms/step - loss: 0.7036 - acc: 0.7798 - val_loss: 0.6799 - val_acc: 0.7920\n",
            "Epoch 39/50\n",
            "188/188 [==============================] - 1s 5ms/step - loss: 0.6899 - acc: 0.7885 - val_loss: 0.6796 - val_acc: 0.7872\n",
            "Epoch 40/50\n",
            "188/188 [==============================] - 1s 3ms/step - loss: 0.6763 - acc: 0.7935 - val_loss: 0.6694 - val_acc: 0.7958\n",
            "Epoch 41/50\n",
            "188/188 [==============================] - 1s 3ms/step - loss: 0.6652 - acc: 0.7990 - val_loss: 0.6482 - val_acc: 0.7979\n",
            "Epoch 42/50\n",
            "188/188 [==============================] - 1s 3ms/step - loss: 0.6586 - acc: 0.8023 - val_loss: 0.6456 - val_acc: 0.8025\n",
            "Epoch 43/50\n",
            "188/188 [==============================] - 1s 3ms/step - loss: 0.6454 - acc: 0.8080 - val_loss: 0.6324 - val_acc: 0.8074\n",
            "Epoch 44/50\n",
            "188/188 [==============================] - 1s 3ms/step - loss: 0.6356 - acc: 0.8101 - val_loss: 0.6257 - val_acc: 0.8242\n",
            "Epoch 45/50\n",
            "188/188 [==============================] - 1s 3ms/step - loss: 0.6052 - acc: 0.8229 - val_loss: 0.5764 - val_acc: 0.8338\n",
            "Epoch 46/50\n",
            "188/188 [==============================] - 1s 3ms/step - loss: 0.5841 - acc: 0.8302 - val_loss: 0.5800 - val_acc: 0.8353\n",
            "Epoch 47/50\n",
            "188/188 [==============================] - 0s 3ms/step - loss: 0.5700 - acc: 0.8357 - val_loss: 0.5755 - val_acc: 0.8334\n",
            "Epoch 48/50\n",
            "188/188 [==============================] - 1s 3ms/step - loss: 0.5490 - acc: 0.8399 - val_loss: 0.5397 - val_acc: 0.8445\n",
            "Epoch 49/50\n",
            "188/188 [==============================] - 1s 3ms/step - loss: 0.5390 - acc: 0.8436 - val_loss: 0.5579 - val_acc: 0.8383\n",
            "Epoch 50/50\n",
            "188/188 [==============================] - 1s 3ms/step - loss: 0.5277 - acc: 0.8479 - val_loss: 0.5191 - val_acc: 0.8537\n"
          ]
        }
      ]
    },
    {
      "cell_type": "code",
      "metadata": {
        "colab": {
          "base_uri": "https://localhost:8080/"
        },
        "id": "gV1VDYxisFiK",
        "outputId": "b7be6244-29b9-405f-b90e-2e70eeca9b2d"
      },
      "source": [
        "# 평가\n",
        "loss, acc = model.evaluate(test_x, test_y)\n",
        "print(\"loss=\", loss)\n",
        "print(\"acc=\", acc)"
      ],
      "execution_count": null,
      "outputs": [
        {
          "output_type": "stream",
          "name": "stdout",
          "text": [
            "313/313 [==============================] - 1s 2ms/step - loss: 0.5471 - acc: 0.8438\n",
            "loss= 0.5471357107162476\n",
            "acc= 0.8438000082969666\n"
          ]
        }
      ]
    },
    {
      "cell_type": "code",
      "metadata": {
        "colab": {
          "base_uri": "https://localhost:8080/",
          "height": 513
        },
        "id": "rvR2feuaqCbk",
        "outputId": "ee6b4ea1-aa14-45b5-98c5-74a9ef7283a3"
      },
      "source": [
        "# 학습 로스 보기\n",
        "plt.plot(history.history['loss'], label=\"loss\")\n",
        "plt.plot(history.history['val_loss'], label=\"val_loss\")\n",
        "plt.legend()\n",
        "plt.show()\n",
        "\n",
        "# 학습 로스 보기\n",
        "plt.plot(history.history['acc'], label=\"acc\")\n",
        "plt.plot(history.history['val_acc'], label=\"val_acc\")\n",
        "plt.legend()\n",
        "plt.show()\n"
      ],
      "execution_count": null,
      "outputs": [
        {
          "output_type": "display_data",
          "data": {
            "text/plain": [
              "<Figure size 432x288 with 1 Axes>"
            ],
            "image/png": "[encoded data removed]"
          },
          "metadata": {
            "needs_background": "light"
          }
        },
        {
          "output_type": "display_data",
          "data": {
            "text/plain": [
              "<Figure size 432x288 with 1 Axes>"
            ],
            "image/png": "[encoded data removed]"
          },
          "metadata": {
            "needs_background": "light"
          }
        }
      ]
    },
    {
      "cell_type": "markdown",
      "metadata": {
        "id": "UL8eJfdK5Ngh"
      },
      "source": [
        "## 예측 결과 그리기"
      ]
    },
    {
      "cell_type": "markdown",
      "metadata": {
        "id": "UziPpL3l5QOM"
      },
      "source": [
        "### 분류 작업"
      ]
    },
    {
      "cell_type": "code",
      "metadata": {
        "colab": {
          "base_uri": "https://localhost:8080/",
          "height": 249
        },
        "id": "WYdxYVyAr_B7",
        "outputId": "7ccf6400-17ab-4fed-c671-181f07f0d607"
      },
      "source": [
        "# 예측\n",
        "y_ = model.predict(test_x)\n",
        "predicted = np.argmax(y_, axis=-1)\n",
        "\n",
        "\n",
        "# 예측 결과 보기\n",
        "plt.figure(figsize=(15,3))\n",
        "plt.plot(test_y[:200], \"o\")\n",
        "plt.plot(predicted[:200], \".\")\n",
        "plt.show()"
      ],
      "execution_count": null,
      "outputs": [
        {
          "output_type": "stream",
          "name": "stdout",
          "text": [
            "WARNING:tensorflow:6 out of the last 13 calls to <function Model.make_predict_function.<locals>.predict_function at 0x7f6bc111ccb0> triggered tf.function retracing. Tracing is expensive and the excessive number of tracings could be due to (1) creating @tf.function repeatedly in a loop, (2) passing tensors with different shapes, (3) passing Python objects instead of tensors. For (1), please define your @tf.function outside of the loop. For (2), @tf.function has experimental_relax_shapes=True option that relaxes argument shapes that can avoid unnecessary retracing. For (3), please refer to https://www.tensorflow.org/guide/function#controlling_retracing and https://www.tensorflow.org/api_docs/python/tf/function for  more details.\n"
          ]
        },
        {
          "output_type": "display_data",
          "data": {
            "text/plain": [
              "<Figure size 1080x216 with 1 Axes>"
            ],
            "image/png": "[encoded data removed]"
          },
          "metadata": {
            "needs_background": "light"
          }
        }
      ]
    },
    {
      "cell_type": "markdown",
      "metadata": {
        "id": "WGBEFD7_5TDY"
      },
      "source": [
        "### 회귀 작업 "
      ]
    },
    {
      "cell_type": "code",
      "metadata": {
        "id": "xrSLAZw2t_pD"
      },
      "source": [
        "import numpy as np\n",
        "import pandas as pd\n",
        "import matplotlib.pyplot as plt\n",
        "\n",
        "import tensorflow as tf\n",
        "\n",
        "from tensorflow import keras\n",
        "from tensorflow.keras import optimizers\n",
        "from tensorflow.keras.layers import Dense, Input"
      ],
      "execution_count": null,
      "outputs": []
    },
    {
      "cell_type": "code",
      "metadata": {
        "id": "XZl9y4jpt_pU"
      },
      "source": [
        "(train_x, train_y), (test_x, test_y) = tf.keras.datasets.boston_housing.load_data()"
      ],
      "execution_count": null,
      "outputs": []
    },
    {
      "cell_type": "code",
      "metadata": {
        "colab": {
          "base_uri": "https://localhost:8080/"
        },
        "id": "SnjhMxQit_pV",
        "outputId": "0bc6a167-86c8-470a-90c2-2c72386b06f6"
      },
      "source": [
        "# 모델 정의\n",
        "model = keras.Sequential()\n",
        "model.add(Input(13))\n",
        "model.add(Dense(10, activation='relu'))\n",
        "model.add(Dense(10, activation='relu'))\n",
        "model.add(Dense(1))\n",
        "\n",
        "\n",
        "# 모델 컴파일\n",
        "model.compile(optimizer=\"Adam\", loss=\"mse\", metrics=[\"mae\"])\n",
        "model.summary()\n",
        "\n",
        "\n",
        "# 모델 학습\n",
        "history = model.fit(train_x, train_y, epochs=100, batch_size=32, verbose=0, validation_split=0.2)"
      ],
      "execution_count": null,
      "outputs": [
        {
          "output_type": "stream",
          "name": "stdout",
          "text": [
            "Model: \"sequential_8\"\n",
            "_________________________________________________________________\n",
            "Layer (type)                 Output Shape              Param #   \n",
            "=================================================================\n",
            "dense_24 (Dense)             (None, 10)                140       \n",
            "_________________________________________________________________\n",
            "dense_25 (Dense)             (None, 10)                110       \n",
            "_________________________________________________________________\n",
            "dense_26 (Dense)             (None, 1)                 11        \n",
            "=================================================================\n",
            "Total params: 261\n",
            "Trainable params: 261\n",
            "Non-trainable params: 0\n",
            "_________________________________________________________________\n"
          ]
        }
      ]
    },
    {
      "cell_type": "code",
      "metadata": {
        "colab": {
          "base_uri": "https://localhost:8080/",
          "height": 265
        },
        "id": "FxN_2PtCox7X",
        "outputId": "24e13c64-b7ac-4dbd-d416-abecbd184b5a"
      },
      "source": [
        "# 예측\n",
        "y_ = model.predict(test_x)\n",
        "\n",
        "\n",
        "# 예측 결과 보기\n",
        "plt.scatter(test_y, y_)\n",
        "plt.show()\n"
      ],
      "execution_count": null,
      "outputs": [
        {
          "output_type": "display_data",
          "data": {
            "text/plain": [
              "<Figure size 432x288 with 1 Axes>"
            ],
            "image/png": "[encoded data removed]"
          },
          "metadata": {
            "needs_background": "light"
          }
        }
      ]
    }
  ]
}