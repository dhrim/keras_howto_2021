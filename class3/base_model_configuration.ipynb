{
  "nbformat": 4,
  "nbformat_minor": 0,
  "metadata": {
    "colab": {
      "name": "base_model_configuration.ipynb",
      "provenance": [],
      "collapsed_sections": []
    },
    "kernelspec": {
      "name": "python3",
      "display_name": "Python 3"
    },
    "language_info": {
      "name": "python"
    },
    "accelerator": "GPU"
  },
  "cells": [
    {
      "cell_type": "markdown",
      "metadata": {
        "id": "byU0eVWW47W9"
      },
      "source": [
        "# loss 설정\n",
        "\n",
        "- 회귀 작업일 경우 'mse'\n",
        "- 분류 작업일 경우 'sparse_categorical_crossentropy'\n",
        "- 2진 분류 작업일 경우 'binary_crossentropy'"
      ]
    },
    {
      "cell_type": "markdown",
      "metadata": {
        "id": "9DUGT67T5YfY"
      },
      "source": [
        "## 회귀 작업\n",
        "\n",
        "loss를 'mse'로 설정한다."
      ]
    },
    {
      "cell_type": "code",
      "metadata": {
        "id": "yRP-a2X46IEM"
      },
      "source": [
        "import numpy as np\n",
        "import pandas as pd\n",
        "import matplotlib.pyplot as plt\n",
        "\n",
        "import tensorflow as tf\n",
        "\n",
        "from tensorflow import keras\n",
        "from tensorflow.keras import optimizers\n",
        "from tensorflow.keras.layers import Dense, Input"
      ],
      "execution_count": 1,
      "outputs": []
    },
    {
      "cell_type": "code",
      "metadata": {
        "id": "cDeNgK6y502w",
        "outputId": "39e88122-e486-477e-c543-fda315a304a8",
        "colab": {
          "base_uri": "https://localhost:8080/"
        }
      },
      "source": [
        "(train_x, train_y), (test_x, test_y) = tf.keras.datasets.boston_housing.load_data()"
      ],
      "execution_count": 2,
      "outputs": [
        {
          "output_type": "stream",
          "name": "stdout",
          "text": [
            "Downloading data from https://storage.googleapis.com/tensorflow/tf-keras-datasets/boston_housing.npz\n",
            "57344/57026 [==============================] - 0s 0us/step\n",
            "65536/57026 [==================================] - 0s 0us/step\n"
          ]
        }
      ]
    },
    {
      "cell_type": "code",
      "metadata": {
        "colab": {
          "base_uri": "https://localhost:8080/",
          "height": 1000
        },
        "id": "G7qz-VzI52v1",
        "outputId": "de1449d2-e32a-4c0b-cee7-4b2bb9233aae"
      },
      "source": [
        "# 모델 정의\n",
        "model = keras.Sequential()\n",
        "model.add(Input(13))\n",
        "model.add(Dense(10, activation='relu'))\n",
        "model.add(Dense(10, activation='relu'))\n",
        "model.add(Dense(1))\n",
        "\n",
        "\n",
        "# 모델 컴파일\n",
        "model.compile(optimizer=\"Adam\", loss=\"mse\", metrics=[\"mae\"])\n",
        "model.summary()\n",
        "\n",
        "\n",
        "# 모델 학습\n",
        "history = model.fit(train_x, train_y, epochs=100, batch_size=32, validation_split=0.2)\n",
        "\n",
        "\n",
        "# 학습 로스 보기\n",
        "plt.plot(history.history['loss'], label=\"loss\")\n",
        "plt.plot(history.history['val_loss'], label=\"val_loss\")\n",
        "plt.legend()\n",
        "plt.show()\n",
        "\n",
        "\n",
        "# 평가\n",
        "loss, mae = model.evaluate(test_x, test_y)\n",
        "print(\"loss=\", loss)\n",
        "print(\"mae=\", mae)\n",
        "\n",
        "\n",
        "# 예측\n",
        "y_ = model.predict(test_x)\n",
        "\n",
        "\n",
        "# 예측 결과 보기\n",
        "plt.scatter(test_y, y_)\n",
        "plt.show()\n"
      ],
      "execution_count": 3,
      "outputs": [
        {
          "output_type": "stream",
          "name": "stdout",
          "text": [
            "Model: \"sequential\"\n",
            "_________________________________________________________________\n",
            "Layer (type)                 Output Shape              Param #   \n",
            "=================================================================\n",
            "dense (Dense)                (None, 10)                140       \n",
            "_________________________________________________________________\n",
            "dense_1 (Dense)              (None, 10)                110       \n",
            "_________________________________________________________________\n",
            "dense_2 (Dense)              (None, 1)                 11        \n",
            "=================================================================\n",
            "Total params: 261\n",
            "Trainable params: 261\n",
            "Non-trainable params: 0\n",
            "_________________________________________________________________\n",
            "Epoch 1/100\n",
            "11/11 [==============================] - 2s 15ms/step - loss: 1642.1499 - mae: 37.7453 - val_loss: 825.4892 - val_mae: 25.4496\n",
            "Epoch 2/100\n",
            "11/11 [==============================] - 0s 4ms/step - loss: 701.6769 - mae: 23.0600 - val_loss: 335.9022 - val_mae: 14.6862\n",
            "Epoch 3/100\n",
            "11/11 [==============================] - 0s 4ms/step - loss: 307.1463 - mae: 13.8609 - val_loss: 178.2319 - val_mae: 10.0527\n",
            "Epoch 4/100\n",
            "11/11 [==============================] - 0s 4ms/step - loss: 178.0235 - mae: 9.9575 - val_loss: 132.7435 - val_mae: 8.8404\n",
            "Epoch 5/100\n",
            "11/11 [==============================] - 0s 4ms/step - loss: 137.2296 - mae: 8.8353 - val_loss: 122.6633 - val_mae: 8.5074\n",
            "Epoch 6/100\n",
            "11/11 [==============================] - 0s 4ms/step - loss: 124.3082 - mae: 8.3181 - val_loss: 110.5180 - val_mae: 8.3541\n",
            "Epoch 7/100\n",
            "11/11 [==============================] - 0s 4ms/step - loss: 114.1814 - mae: 7.9826 - val_loss: 107.1367 - val_mae: 8.1591\n",
            "Epoch 8/100\n",
            "11/11 [==============================] - 0s 4ms/step - loss: 108.1733 - mae: 7.7315 - val_loss: 106.2410 - val_mae: 8.0237\n",
            "Epoch 9/100\n",
            "11/11 [==============================] - 0s 6ms/step - loss: 103.9636 - mae: 7.5396 - val_loss: 98.8190 - val_mae: 7.8182\n",
            "Epoch 10/100\n",
            "11/11 [==============================] - 0s 4ms/step - loss: 97.7363 - mae: 7.2665 - val_loss: 96.8116 - val_mae: 7.6105\n",
            "Epoch 11/100\n",
            "11/11 [==============================] - 0s 4ms/step - loss: 92.9236 - mae: 7.0011 - val_loss: 91.7877 - val_mae: 7.3685\n",
            "Epoch 12/100\n",
            "11/11 [==============================] - 0s 4ms/step - loss: 87.2745 - mae: 6.7223 - val_loss: 88.6225 - val_mae: 7.1077\n",
            "Epoch 13/100\n",
            "11/11 [==============================] - 0s 5ms/step - loss: 82.1948 - mae: 6.4880 - val_loss: 85.1737 - val_mae: 6.8813\n",
            "Epoch 14/100\n",
            "11/11 [==============================] - 0s 4ms/step - loss: 77.9838 - mae: 6.3445 - val_loss: 82.7917 - val_mae: 6.6802\n",
            "Epoch 15/100\n",
            "11/11 [==============================] - 0s 4ms/step - loss: 74.9785 - mae: 6.0927 - val_loss: 81.7816 - val_mae: 6.5048\n",
            "Epoch 16/100\n",
            "11/11 [==============================] - 0s 4ms/step - loss: 72.6267 - mae: 5.9521 - val_loss: 78.6990 - val_mae: 6.3665\n",
            "Epoch 17/100\n",
            "11/11 [==============================] - 0s 4ms/step - loss: 70.6953 - mae: 5.9188 - val_loss: 76.6329 - val_mae: 6.2871\n",
            "Epoch 18/100\n",
            "11/11 [==============================] - 0s 5ms/step - loss: 68.6683 - mae: 5.7744 - val_loss: 77.0823 - val_mae: 6.1216\n",
            "Epoch 19/100\n",
            "11/11 [==============================] - 0s 4ms/step - loss: 67.5305 - mae: 5.7016 - val_loss: 74.8904 - val_mae: 6.1176\n",
            "Epoch 20/100\n",
            "11/11 [==============================] - 0s 4ms/step - loss: 66.2294 - mae: 5.5876 - val_loss: 73.6913 - val_mae: 5.9999\n",
            "Epoch 21/100\n",
            "11/11 [==============================] - 0s 4ms/step - loss: 65.7304 - mae: 5.7225 - val_loss: 71.7816 - val_mae: 6.0321\n",
            "Epoch 22/100\n",
            "11/11 [==============================] - 0s 4ms/step - loss: 63.3376 - mae: 5.4737 - val_loss: 73.8242 - val_mae: 5.8349\n",
            "Epoch 23/100\n",
            "11/11 [==============================] - 0s 4ms/step - loss: 63.0032 - mae: 5.4583 - val_loss: 70.7018 - val_mae: 5.9084\n",
            "Epoch 24/100\n",
            "11/11 [==============================] - 0s 4ms/step - loss: 61.8720 - mae: 5.5140 - val_loss: 70.4422 - val_mae: 5.8082\n",
            "Epoch 25/100\n",
            "11/11 [==============================] - 0s 4ms/step - loss: 60.5604 - mae: 5.3695 - val_loss: 70.0514 - val_mae: 5.7401\n",
            "Epoch 26/100\n",
            "11/11 [==============================] - 0s 4ms/step - loss: 60.2120 - mae: 5.2761 - val_loss: 69.6127 - val_mae: 5.6733\n",
            "Epoch 27/100\n",
            "11/11 [==============================] - 0s 4ms/step - loss: 59.4129 - mae: 5.2727 - val_loss: 68.2402 - val_mae: 5.7002\n",
            "Epoch 28/100\n",
            "11/11 [==============================] - 0s 4ms/step - loss: 58.8185 - mae: 5.2969 - val_loss: 68.5966 - val_mae: 5.6085\n",
            "Epoch 29/100\n",
            "11/11 [==============================] - 0s 4ms/step - loss: 58.7507 - mae: 5.1430 - val_loss: 68.3198 - val_mae: 5.5689\n",
            "Epoch 30/100\n",
            "11/11 [==============================] - 0s 4ms/step - loss: 58.1168 - mae: 5.2523 - val_loss: 67.2140 - val_mae: 5.6435\n",
            "Epoch 31/100\n",
            "11/11 [==============================] - 0s 4ms/step - loss: 58.4813 - mae: 5.1191 - val_loss: 68.9790 - val_mae: 5.4941\n",
            "Epoch 32/100\n",
            "11/11 [==============================] - 0s 4ms/step - loss: 57.6222 - mae: 5.1763 - val_loss: 67.0305 - val_mae: 5.6150\n",
            "Epoch 33/100\n",
            "11/11 [==============================] - 0s 6ms/step - loss: 57.2222 - mae: 5.0734 - val_loss: 68.8579 - val_mae: 5.4639\n",
            "Epoch 34/100\n",
            "11/11 [==============================] - 0s 4ms/step - loss: 56.8274 - mae: 5.0658 - val_loss: 66.6311 - val_mae: 5.6344\n",
            "Epoch 35/100\n",
            "11/11 [==============================] - 0s 4ms/step - loss: 56.3721 - mae: 5.2087 - val_loss: 67.6323 - val_mae: 5.4618\n",
            "Epoch 36/100\n",
            "11/11 [==============================] - 0s 4ms/step - loss: 57.1790 - mae: 4.9551 - val_loss: 68.1067 - val_mae: 5.4294\n",
            "Epoch 37/100\n",
            "11/11 [==============================] - 0s 4ms/step - loss: 55.8997 - mae: 5.0879 - val_loss: 66.3195 - val_mae: 5.5525\n",
            "Epoch 38/100\n",
            "11/11 [==============================] - 0s 4ms/step - loss: 55.3616 - mae: 5.0661 - val_loss: 66.8381 - val_mae: 5.4621\n",
            "Epoch 39/100\n",
            "11/11 [==============================] - 0s 4ms/step - loss: 55.2752 - mae: 5.0546 - val_loss: 66.5482 - val_mae: 5.4615\n",
            "Epoch 40/100\n",
            "11/11 [==============================] - 0s 4ms/step - loss: 54.9799 - mae: 5.0213 - val_loss: 66.3683 - val_mae: 5.4974\n",
            "Epoch 41/100\n",
            "11/11 [==============================] - 0s 4ms/step - loss: 54.8724 - mae: 5.0622 - val_loss: 66.3300 - val_mae: 5.4796\n",
            "Epoch 42/100\n",
            "11/11 [==============================] - 0s 4ms/step - loss: 54.5580 - mae: 4.9622 - val_loss: 66.3417 - val_mae: 5.3983\n",
            "Epoch 43/100\n",
            "11/11 [==============================] - 0s 4ms/step - loss: 54.9497 - mae: 4.8747 - val_loss: 66.1363 - val_mae: 5.3940\n",
            "Epoch 44/100\n",
            "11/11 [==============================] - 0s 4ms/step - loss: 54.9138 - mae: 5.0440 - val_loss: 65.4197 - val_mae: 5.4600\n",
            "Epoch 45/100\n",
            "11/11 [==============================] - 0s 4ms/step - loss: 54.1475 - mae: 5.0075 - val_loss: 66.2310 - val_mae: 5.3961\n",
            "Epoch 46/100\n",
            "11/11 [==============================] - 0s 4ms/step - loss: 55.0863 - mae: 4.8479 - val_loss: 66.3008 - val_mae: 5.3946\n",
            "Epoch 47/100\n",
            "11/11 [==============================] - 0s 4ms/step - loss: 54.1308 - mae: 5.0750 - val_loss: 65.5223 - val_mae: 5.5609\n",
            "Epoch 48/100\n",
            "11/11 [==============================] - 0s 4ms/step - loss: 54.0024 - mae: 5.0740 - val_loss: 65.8558 - val_mae: 5.4109\n",
            "Epoch 49/100\n",
            "11/11 [==============================] - 0s 5ms/step - loss: 54.0998 - mae: 4.9020 - val_loss: 66.0432 - val_mae: 5.3806\n",
            "Epoch 50/100\n",
            "11/11 [==============================] - 0s 4ms/step - loss: 54.7928 - mae: 4.8546 - val_loss: 65.4707 - val_mae: 5.4075\n",
            "Epoch 51/100\n",
            "11/11 [==============================] - 0s 4ms/step - loss: 54.4941 - mae: 5.1344 - val_loss: 64.9743 - val_mae: 5.5061\n",
            "Epoch 52/100\n",
            "11/11 [==============================] - 0s 5ms/step - loss: 54.1986 - mae: 4.9399 - val_loss: 66.1919 - val_mae: 5.3516\n",
            "Epoch 53/100\n",
            "11/11 [==============================] - 0s 4ms/step - loss: 54.2046 - mae: 4.8471 - val_loss: 64.9360 - val_mae: 5.4325\n",
            "Epoch 54/100\n",
            "11/11 [==============================] - 0s 4ms/step - loss: 53.7194 - mae: 4.9548 - val_loss: 64.9131 - val_mae: 5.4542\n",
            "Epoch 55/100\n",
            "11/11 [==============================] - 0s 4ms/step - loss: 53.9998 - mae: 5.1238 - val_loss: 65.0481 - val_mae: 5.4468\n",
            "Epoch 56/100\n",
            "11/11 [==============================] - 0s 4ms/step - loss: 53.5147 - mae: 4.9424 - val_loss: 65.4097 - val_mae: 5.4090\n",
            "Epoch 57/100\n",
            "11/11 [==============================] - 0s 4ms/step - loss: 53.7339 - mae: 4.9020 - val_loss: 65.4219 - val_mae: 5.4059\n",
            "Epoch 58/100\n",
            "11/11 [==============================] - 0s 4ms/step - loss: 53.4006 - mae: 4.9357 - val_loss: 65.1819 - val_mae: 5.4392\n",
            "Epoch 59/100\n",
            "11/11 [==============================] - 0s 5ms/step - loss: 53.5088 - mae: 4.9312 - val_loss: 64.9774 - val_mae: 5.4141\n",
            "Epoch 60/100\n",
            "11/11 [==============================] - 0s 4ms/step - loss: 53.4220 - mae: 4.9378 - val_loss: 64.7971 - val_mae: 5.4734\n",
            "Epoch 61/100\n",
            "11/11 [==============================] - 0s 4ms/step - loss: 53.5240 - mae: 5.0915 - val_loss: 64.7928 - val_mae: 5.4499\n",
            "Epoch 62/100\n",
            "11/11 [==============================] - 0s 4ms/step - loss: 53.3177 - mae: 4.9198 - val_loss: 65.2352 - val_mae: 5.4025\n",
            "Epoch 63/100\n",
            "11/11 [==============================] - 0s 4ms/step - loss: 53.1953 - mae: 5.0019 - val_loss: 65.4831 - val_mae: 5.5188\n",
            "Epoch 64/100\n",
            "11/11 [==============================] - 0s 4ms/step - loss: 53.3168 - mae: 5.0276 - val_loss: 65.9202 - val_mae: 5.4454\n",
            "Epoch 65/100\n",
            "11/11 [==============================] - 0s 4ms/step - loss: 53.5049 - mae: 4.8721 - val_loss: 66.2535 - val_mae: 5.3798\n",
            "Epoch 66/100\n",
            "11/11 [==============================] - 0s 4ms/step - loss: 53.0747 - mae: 4.9107 - val_loss: 65.2528 - val_mae: 5.4507\n",
            "Epoch 67/100\n",
            "11/11 [==============================] - 0s 4ms/step - loss: 53.0696 - mae: 4.8902 - val_loss: 65.8570 - val_mae: 5.3884\n",
            "Epoch 68/100\n",
            "11/11 [==============================] - 0s 4ms/step - loss: 53.0582 - mae: 4.9197 - val_loss: 65.2352 - val_mae: 5.4627\n",
            "Epoch 69/100\n",
            "11/11 [==============================] - 0s 5ms/step - loss: 52.8457 - mae: 4.9637 - val_loss: 65.3712 - val_mae: 5.4145\n",
            "Epoch 70/100\n",
            "11/11 [==============================] - 0s 5ms/step - loss: 52.8862 - mae: 4.9261 - val_loss: 64.8991 - val_mae: 5.4560\n",
            "Epoch 71/100\n",
            "11/11 [==============================] - 0s 4ms/step - loss: 52.7432 - mae: 4.9289 - val_loss: 65.5224 - val_mae: 5.3787\n",
            "Epoch 72/100\n",
            "11/11 [==============================] - 0s 5ms/step - loss: 52.8714 - mae: 4.8551 - val_loss: 65.1555 - val_mae: 5.3938\n",
            "Epoch 73/100\n",
            "11/11 [==============================] - 0s 4ms/step - loss: 52.8532 - mae: 4.9870 - val_loss: 64.6762 - val_mae: 5.4295\n",
            "Epoch 74/100\n",
            "11/11 [==============================] - 0s 5ms/step - loss: 53.3636 - mae: 4.7640 - val_loss: 66.8000 - val_mae: 5.2598\n",
            "Epoch 75/100\n",
            "11/11 [==============================] - 0s 4ms/step - loss: 53.3171 - mae: 4.8263 - val_loss: 64.0251 - val_mae: 5.4683\n",
            "Epoch 76/100\n",
            "11/11 [==============================] - 0s 4ms/step - loss: 53.7488 - mae: 5.2088 - val_loss: 64.7590 - val_mae: 5.3710\n",
            "Epoch 77/100\n",
            "11/11 [==============================] - 0s 4ms/step - loss: 54.0307 - mae: 4.7705 - val_loss: 66.0266 - val_mae: 5.2843\n",
            "Epoch 78/100\n",
            "11/11 [==============================] - 0s 4ms/step - loss: 52.6135 - mae: 4.8957 - val_loss: 64.2254 - val_mae: 5.4945\n",
            "Epoch 79/100\n",
            "11/11 [==============================] - 0s 4ms/step - loss: 52.6863 - mae: 4.9469 - val_loss: 64.6579 - val_mae: 5.3832\n",
            "Epoch 80/100\n",
            "11/11 [==============================] - 0s 4ms/step - loss: 52.3255 - mae: 4.9228 - val_loss: 64.2508 - val_mae: 5.4251\n",
            "Epoch 81/100\n",
            "11/11 [==============================] - 0s 4ms/step - loss: 52.9900 - mae: 4.8457 - val_loss: 64.6013 - val_mae: 5.3760\n",
            "Epoch 82/100\n",
            "11/11 [==============================] - 0s 5ms/step - loss: 52.6375 - mae: 4.9937 - val_loss: 64.4282 - val_mae: 5.4035\n",
            "Epoch 83/100\n",
            "11/11 [==============================] - 0s 4ms/step - loss: 53.2980 - mae: 4.7474 - val_loss: 66.3824 - val_mae: 5.2662\n",
            "Epoch 84/100\n",
            "11/11 [==============================] - 0s 4ms/step - loss: 52.4074 - mae: 4.7440 - val_loss: 64.2437 - val_mae: 5.4713\n",
            "Epoch 85/100\n",
            "11/11 [==============================] - 0s 5ms/step - loss: 52.7669 - mae: 5.1394 - val_loss: 64.6540 - val_mae: 5.4677\n",
            "Epoch 86/100\n",
            "11/11 [==============================] - 0s 4ms/step - loss: 52.8455 - mae: 4.8396 - val_loss: 65.4098 - val_mae: 5.3098\n",
            "Epoch 87/100\n",
            "11/11 [==============================] - 0s 4ms/step - loss: 51.8914 - mae: 4.8108 - val_loss: 63.8648 - val_mae: 5.4899\n",
            "Epoch 88/100\n",
            "11/11 [==============================] - 0s 4ms/step - loss: 53.8704 - mae: 5.3814 - val_loss: 63.4397 - val_mae: 5.5036\n",
            "Epoch 89/100\n",
            "11/11 [==============================] - 0s 4ms/step - loss: 53.7187 - mae: 4.7709 - val_loss: 67.1138 - val_mae: 5.2248\n",
            "Epoch 90/100\n",
            "11/11 [==============================] - 0s 5ms/step - loss: 52.9539 - mae: 4.9736 - val_loss: 64.0082 - val_mae: 5.6750\n",
            "Epoch 91/100\n",
            "11/11 [==============================] - 0s 4ms/step - loss: 53.5848 - mae: 5.3511 - val_loss: 63.9130 - val_mae: 5.4025\n",
            "Epoch 92/100\n",
            "11/11 [==============================] - 0s 4ms/step - loss: 52.8195 - mae: 4.7534 - val_loss: 65.7779 - val_mae: 5.2406\n",
            "Epoch 93/100\n",
            "11/11 [==============================] - 0s 4ms/step - loss: 51.9997 - mae: 4.8163 - val_loss: 63.6042 - val_mae: 5.4413\n",
            "Epoch 94/100\n",
            "11/11 [==============================] - 0s 4ms/step - loss: 52.0913 - mae: 4.8502 - val_loss: 63.6904 - val_mae: 5.3286\n",
            "Epoch 95/100\n",
            "11/11 [==============================] - 0s 4ms/step - loss: 51.7449 - mae: 4.8284 - val_loss: 63.3774 - val_mae: 5.3556\n",
            "Epoch 96/100\n",
            "11/11 [==============================] - 0s 5ms/step - loss: 51.7635 - mae: 4.7899 - val_loss: 63.8173 - val_mae: 5.3144\n",
            "Epoch 97/100\n",
            "11/11 [==============================] - 0s 4ms/step - loss: 51.5265 - mae: 4.8004 - val_loss: 63.5795 - val_mae: 5.3437\n",
            "Epoch 98/100\n",
            "11/11 [==============================] - 0s 4ms/step - loss: 51.5570 - mae: 4.8207 - val_loss: 62.8257 - val_mae: 5.3631\n",
            "Epoch 99/100\n",
            "11/11 [==============================] - 0s 4ms/step - loss: 51.3297 - mae: 4.8881 - val_loss: 63.0102 - val_mae: 5.3340\n",
            "Epoch 100/100\n",
            "11/11 [==============================] - 0s 4ms/step - loss: 51.4500 - mae: 4.7740 - val_loss: 63.4702 - val_mae: 5.2928\n"
          ]
        },
        {
          "output_type": "display_data",
          "data": {
            "image/png": "[encoded data removed]",
            "text/plain": [
              "<Figure size 432x288 with 1 Axes>"
            ]
          },
          "metadata": {
            "needs_background": "light"
          }
        },
        {
          "output_type": "stream",
          "name": "stdout",
          "text": [
            "4/4 [==============================] - 0s 4ms/step - loss: 60.1239 - mae: 5.6164\n",
            "loss= 60.12385559082031\n",
            "mae= 5.616390228271484\n"
          ]
        },
        {
          "output_type": "display_data",
          "data": {
            "image/png": "[encoded data removed]",
            "text/plain": [
              "<Figure size 432x288 with 1 Axes>"
            ]
          },
          "metadata": {
            "needs_background": "light"
          }
        }
      ]
    },
    {
      "cell_type": "markdown",
      "metadata": {
        "id": "UA-SF_o25YWJ"
      },
      "source": [
        "## 분류 작업\n",
        "\n",
        "loss를 'sparse_categorical_crossentropy'로 설정한다.\n",
        "\n",
        "<br>\n",
        "\n",
        "출력 데이터 y의 값은 category index 이어야 한다.\n",
        "\n",
        "아래의 예에서의 train_y 값은 다음과 같다.\n",
        "```\n",
        "[1 0 2 0 1 0 1 0 1 2]\n",
        "```\n",
        "\n",
        "<br>\n",
        "\n",
        "loss 이름 'sparse_categorical_crossentropy'에서<br> 'categorical'은 분류작업임을 의미하며,<br> 'sparse'는 y의 값이 category index임을 의미한다.\n",
        "\n"
      ]
    },
    {
      "cell_type": "code",
      "metadata": {
        "id": "MrFM_IGZ6KMp"
      },
      "source": [
        "import numpy as np\n",
        "import pandas as pd\n",
        "import matplotlib.pyplot as plt\n",
        "\n",
        "import tensorflow as tf\n",
        "\n",
        "from tensorflow import keras\n",
        "from tensorflow.keras import optimizers\n",
        "from tensorflow.keras.layers import Dense, Input"
      ],
      "execution_count": null,
      "outputs": []
    },
    {
      "cell_type": "code",
      "metadata": {
        "id": "dG9eE6Zc6b32"
      },
      "source": [
        "def load_iris_data():\n",
        "\n",
        "  df = pd.read_csv(\"https://raw.githubusercontent.com/dhrim/keras_howto_2021/master/data/iris_with_category_index.csv\")\n",
        "  data = df.to_numpy()\n",
        "  np.random.shuffle(data)\n",
        "\n",
        "  x = data[:,:4]\n",
        "  y = data[:,4]\n",
        "\n",
        "  split_index = int(len(x)*0.8)\n",
        "  train_x, test_x = x[:split_index], x[split_index:]\n",
        "  train_y, test_y = y[:split_index], y[split_index:]\n",
        "\n",
        "  return (train_x, train_y), (test_x, test_y)\n"
      ],
      "execution_count": null,
      "outputs": []
    },
    {
      "cell_type": "code",
      "metadata": {
        "id": "QCha9RTF6KFX"
      },
      "source": [
        "(train_x, train_y), (test_x, test_y) = load_iris_data()"
      ],
      "execution_count": null,
      "outputs": []
    },
    {
      "cell_type": "code",
      "metadata": {
        "colab": {
          "base_uri": "https://localhost:8080/"
        },
        "id": "VeZvPn8d-CZE",
        "outputId": "fb391594-1aa2-48fe-9499-8f17fb816a66"
      },
      "source": [
        "print(train_y[:10])"
      ],
      "execution_count": null,
      "outputs": [
        {
          "output_type": "stream",
          "name": "stdout",
          "text": [
            "[1. 0. 1. 2. 1. 1. 1. 2. 2. 0.]\n"
          ]
        }
      ]
    },
    {
      "cell_type": "code",
      "metadata": {
        "colab": {
          "base_uri": "https://localhost:8080/",
          "height": 1000
        },
        "id": "sPCH4Txs6J8x",
        "outputId": "a73b4565-29c3-4c15-96ea-4e7ba017ab9e"
      },
      "source": [
        "# 모델 정의\n",
        "model = keras.Sequential()\n",
        "model.add(Input(4))\n",
        "model.add(Dense(10, activation='relu'))\n",
        "model.add(Dense(10, activation='relu'))\n",
        "# model.add(Dense(1))\n",
        "model.add(Dense(3, activation=\"softmax\"))  # 출력 노드의 수가 카테고리 갯수, activation은 \"softmax\"\n",
        "\n",
        "\n",
        "# 모델 컴파일\n",
        "# model.compile(optimizer=\"Adam\", loss=\"mse\", metrics=[\"mae\"])\n",
        "model.compile(optimizer=\"Adam\", loss=\"sparse_categorical_crossentropy\", metrics=[\"acc\"])\n",
        "model.summary()\n",
        "\n",
        "\n",
        "# 모델 학습\n",
        "history = model.fit(train_x, train_y, epochs=100, batch_size=32, validation_split=0.2)\n",
        "\n",
        "\n",
        "# 학습 로스 보기\n",
        "plt.plot(history.history['loss'], label=\"loss\")\n",
        "plt.plot(history.history['val_loss'], label=\"val_loss\")\n",
        "plt.legend()\n",
        "plt.show()\n",
        "\n",
        "\n",
        "# 평가\n",
        "loss, acc = model.evaluate(test_x, test_y)\n",
        "print(\"loss=\", loss)\n",
        "print(\"acc=\", acc)\n",
        "\n",
        "\n",
        "# 예측\n",
        "y_ = model.predict(test_x)\n",
        "predicted = np.argmax(y_, axis=-1)\n",
        "\n",
        "\n",
        "# 예측 결과 보기\n",
        "plt.plot(test_y, \"o\")\n",
        "plt.plot(predicted, \".\")\n",
        "plt.show()\n"
      ],
      "execution_count": null,
      "outputs": [
        {
          "output_type": "stream",
          "name": "stdout",
          "text": [
            "Model: \"sequential_1\"\n",
            "_________________________________________________________________\n",
            "Layer (type)                 Output Shape              Param #   \n",
            "=================================================================\n",
            "dense_3 (Dense)              (None, 10)                50        \n",
            "_________________________________________________________________\n",
            "dense_4 (Dense)              (None, 10)                110       \n",
            "_________________________________________________________________\n",
            "dense_5 (Dense)              (None, 3)                 33        \n",
            "=================================================================\n",
            "Total params: 193\n",
            "Trainable params: 193\n",
            "Non-trainable params: 0\n",
            "_________________________________________________________________\n",
            "Epoch 1/100\n",
            "3/3 [==============================] - 1s 199ms/step - loss: 3.3494 - acc: 0.3026 - val_loss: 3.2936 - val_acc: 0.3000\n",
            "Epoch 2/100\n",
            "3/3 [==============================] - 0s 22ms/step - loss: 3.1626 - acc: 0.3026 - val_loss: 3.1136 - val_acc: 0.3000\n",
            "Epoch 3/100\n",
            "3/3 [==============================] - 0s 16ms/step - loss: 3.0006 - acc: 0.3026 - val_loss: 2.9464 - val_acc: 0.3000\n",
            "Epoch 4/100\n",
            "3/3 [==============================] - 0s 19ms/step - loss: 2.8349 - acc: 0.3026 - val_loss: 2.7919 - val_acc: 0.3000\n",
            "Epoch 5/100\n",
            "3/3 [==============================] - 0s 21ms/step - loss: 2.6922 - acc: 0.3421 - val_loss: 2.6430 - val_acc: 0.3500\n",
            "Epoch 6/100\n",
            "3/3 [==============================] - 0s 18ms/step - loss: 2.5455 - acc: 0.4474 - val_loss: 2.5007 - val_acc: 0.5500\n",
            "Epoch 7/100\n",
            "3/3 [==============================] - 0s 22ms/step - loss: 2.4208 - acc: 0.5526 - val_loss: 2.3636 - val_acc: 0.6500\n",
            "Epoch 8/100\n",
            "3/3 [==============================] - 0s 16ms/step - loss: 2.2775 - acc: 0.6316 - val_loss: 2.2358 - val_acc: 0.6500\n",
            "Epoch 9/100\n",
            "3/3 [==============================] - 0s 20ms/step - loss: 2.1577 - acc: 0.6579 - val_loss: 2.1092 - val_acc: 0.6500\n",
            "Epoch 10/100\n",
            "3/3 [==============================] - 0s 24ms/step - loss: 2.0465 - acc: 0.6579 - val_loss: 1.9869 - val_acc: 0.6500\n",
            "Epoch 11/100\n",
            "3/3 [==============================] - 0s 27ms/step - loss: 1.9233 - acc: 0.6579 - val_loss: 1.8753 - val_acc: 0.6500\n",
            "Epoch 12/100\n",
            "3/3 [==============================] - 0s 35ms/step - loss: 1.8108 - acc: 0.6579 - val_loss: 1.7705 - val_acc: 0.6500\n",
            "Epoch 13/100\n",
            "3/3 [==============================] - 0s 18ms/step - loss: 1.7185 - acc: 0.6579 - val_loss: 1.6685 - val_acc: 0.6500\n",
            "Epoch 14/100\n",
            "3/3 [==============================] - 0s 20ms/step - loss: 1.6207 - acc: 0.6579 - val_loss: 1.5730 - val_acc: 0.6500\n",
            "Epoch 15/100\n",
            "3/3 [==============================] - 0s 26ms/step - loss: 1.5218 - acc: 0.6579 - val_loss: 1.4858 - val_acc: 0.6500\n",
            "Epoch 16/100\n",
            "3/3 [==============================] - 0s 16ms/step - loss: 1.4424 - acc: 0.6579 - val_loss: 1.4030 - val_acc: 0.6500\n",
            "Epoch 17/100\n",
            "3/3 [==============================] - 0s 29ms/step - loss: 1.3647 - acc: 0.6579 - val_loss: 1.3267 - val_acc: 0.6500\n",
            "Epoch 18/100\n",
            "3/3 [==============================] - 0s 22ms/step - loss: 1.2935 - acc: 0.6579 - val_loss: 1.2580 - val_acc: 0.6500\n",
            "Epoch 19/100\n",
            "3/3 [==============================] - 0s 31ms/step - loss: 1.2363 - acc: 0.6579 - val_loss: 1.1974 - val_acc: 0.6500\n",
            "Epoch 20/100\n",
            "3/3 [==============================] - 0s 25ms/step - loss: 1.1778 - acc: 0.6579 - val_loss: 1.1467 - val_acc: 0.6500\n",
            "Epoch 21/100\n",
            "3/3 [==============================] - 0s 16ms/step - loss: 1.1313 - acc: 0.6579 - val_loss: 1.1036 - val_acc: 0.6500\n",
            "Epoch 22/100\n",
            "3/3 [==============================] - 0s 13ms/step - loss: 1.0910 - acc: 0.6579 - val_loss: 1.0666 - val_acc: 0.6500\n",
            "Epoch 23/100\n",
            "3/3 [==============================] - 0s 23ms/step - loss: 1.0590 - acc: 0.6579 - val_loss: 1.0339 - val_acc: 0.6500\n",
            "Epoch 24/100\n",
            "3/3 [==============================] - 0s 24ms/step - loss: 1.0265 - acc: 0.6447 - val_loss: 1.0080 - val_acc: 0.6500\n",
            "Epoch 25/100\n",
            "3/3 [==============================] - 0s 28ms/step - loss: 1.0001 - acc: 0.5789 - val_loss: 0.9881 - val_acc: 0.6000\n",
            "Epoch 26/100\n",
            "3/3 [==============================] - 0s 29ms/step - loss: 0.9837 - acc: 0.5395 - val_loss: 0.9706 - val_acc: 0.6000\n",
            "Epoch 27/100\n",
            "3/3 [==============================] - 0s 43ms/step - loss: 0.9682 - acc: 0.4868 - val_loss: 0.9572 - val_acc: 0.5000\n",
            "Epoch 28/100\n",
            "3/3 [==============================] - 0s 37ms/step - loss: 0.9558 - acc: 0.4342 - val_loss: 0.9468 - val_acc: 0.4500\n",
            "Epoch 29/100\n",
            "3/3 [==============================] - 0s 20ms/step - loss: 0.9454 - acc: 0.5132 - val_loss: 0.9376 - val_acc: 0.6000\n",
            "Epoch 30/100\n",
            "3/3 [==============================] - 0s 38ms/step - loss: 0.9389 - acc: 0.5132 - val_loss: 0.9296 - val_acc: 0.6000\n",
            "Epoch 31/100\n",
            "3/3 [==============================] - 0s 18ms/step - loss: 0.9305 - acc: 0.5395 - val_loss: 0.9213 - val_acc: 0.5500\n",
            "Epoch 32/100\n",
            "3/3 [==============================] - 0s 23ms/step - loss: 0.9221 - acc: 0.5132 - val_loss: 0.9130 - val_acc: 0.5500\n",
            "Epoch 33/100\n",
            "3/3 [==============================] - 0s 65ms/step - loss: 0.9139 - acc: 0.5132 - val_loss: 0.9047 - val_acc: 0.5500\n",
            "Epoch 34/100\n",
            "3/3 [==============================] - 0s 40ms/step - loss: 0.9058 - acc: 0.5263 - val_loss: 0.8965 - val_acc: 0.5500\n",
            "Epoch 35/100\n",
            "3/3 [==============================] - 0s 34ms/step - loss: 0.8977 - acc: 0.5132 - val_loss: 0.8884 - val_acc: 0.5500\n",
            "Epoch 36/100\n",
            "3/3 [==============================] - 0s 30ms/step - loss: 0.8898 - acc: 0.5263 - val_loss: 0.8807 - val_acc: 0.5500\n",
            "Epoch 37/100\n",
            "3/3 [==============================] - 0s 16ms/step - loss: 0.8822 - acc: 0.5000 - val_loss: 0.8731 - val_acc: 0.6500\n",
            "Epoch 38/100\n",
            "3/3 [==============================] - 0s 19ms/step - loss: 0.8753 - acc: 0.5000 - val_loss: 0.8661 - val_acc: 0.6000\n",
            "Epoch 39/100\n",
            "3/3 [==============================] - 0s 29ms/step - loss: 0.8693 - acc: 0.5000 - val_loss: 0.8594 - val_acc: 0.6000\n",
            "Epoch 40/100\n",
            "3/3 [==============================] - 0s 16ms/step - loss: 0.8621 - acc: 0.5263 - val_loss: 0.8522 - val_acc: 0.7000\n",
            "Epoch 41/100\n",
            "3/3 [==============================] - 0s 25ms/step - loss: 0.8539 - acc: 0.5395 - val_loss: 0.8444 - val_acc: 0.7500\n",
            "Epoch 42/100\n",
            "3/3 [==============================] - 0s 18ms/step - loss: 0.8460 - acc: 0.5789 - val_loss: 0.8362 - val_acc: 0.8500\n",
            "Epoch 43/100\n",
            "3/3 [==============================] - 0s 17ms/step - loss: 0.8376 - acc: 0.6579 - val_loss: 0.8288 - val_acc: 0.8500\n",
            "Epoch 44/100\n",
            "3/3 [==============================] - 0s 25ms/step - loss: 0.8311 - acc: 0.7237 - val_loss: 0.8220 - val_acc: 0.9000\n",
            "Epoch 45/100\n",
            "3/3 [==============================] - 0s 26ms/step - loss: 0.8235 - acc: 0.7763 - val_loss: 0.8153 - val_acc: 0.9500\n",
            "Epoch 46/100\n",
            "3/3 [==============================] - 0s 30ms/step - loss: 0.8172 - acc: 0.8158 - val_loss: 0.8087 - val_acc: 0.9500\n",
            "Epoch 47/100\n",
            "3/3 [==============================] - 0s 24ms/step - loss: 0.8105 - acc: 0.8816 - val_loss: 0.8016 - val_acc: 0.9500\n",
            "Epoch 48/100\n",
            "3/3 [==============================] - 0s 18ms/step - loss: 0.8032 - acc: 0.8684 - val_loss: 0.7938 - val_acc: 0.9500\n",
            "Epoch 49/100\n",
            "3/3 [==============================] - 0s 17ms/step - loss: 0.7956 - acc: 0.8684 - val_loss: 0.7865 - val_acc: 0.9000\n",
            "Epoch 50/100\n",
            "3/3 [==============================] - 0s 37ms/step - loss: 0.7883 - acc: 0.8421 - val_loss: 0.7793 - val_acc: 0.9000\n",
            "Epoch 51/100\n",
            "3/3 [==============================] - 0s 23ms/step - loss: 0.7807 - acc: 0.8421 - val_loss: 0.7721 - val_acc: 0.9000\n",
            "Epoch 52/100\n",
            "3/3 [==============================] - 0s 36ms/step - loss: 0.7740 - acc: 0.8553 - val_loss: 0.7650 - val_acc: 0.9000\n",
            "Epoch 53/100\n",
            "3/3 [==============================] - 0s 28ms/step - loss: 0.7669 - acc: 0.8421 - val_loss: 0.7579 - val_acc: 0.9000\n",
            "Epoch 54/100\n",
            "3/3 [==============================] - 0s 18ms/step - loss: 0.7598 - acc: 0.8421 - val_loss: 0.7509 - val_acc: 0.9000\n",
            "Epoch 55/100\n",
            "3/3 [==============================] - 0s 30ms/step - loss: 0.7528 - acc: 0.8421 - val_loss: 0.7439 - val_acc: 0.9000\n",
            "Epoch 56/100\n",
            "3/3 [==============================] - 0s 18ms/step - loss: 0.7458 - acc: 0.8553 - val_loss: 0.7369 - val_acc: 0.9000\n",
            "Epoch 57/100\n",
            "3/3 [==============================] - 0s 27ms/step - loss: 0.7387 - acc: 0.8553 - val_loss: 0.7299 - val_acc: 0.9000\n",
            "Epoch 58/100\n",
            "3/3 [==============================] - 0s 18ms/step - loss: 0.7319 - acc: 0.8816 - val_loss: 0.7231 - val_acc: 0.9500\n",
            "Epoch 59/100\n",
            "3/3 [==============================] - 0s 18ms/step - loss: 0.7254 - acc: 0.8947 - val_loss: 0.7162 - val_acc: 0.9500\n",
            "Epoch 60/100\n",
            "3/3 [==============================] - 0s 28ms/step - loss: 0.7180 - acc: 0.8947 - val_loss: 0.7093 - val_acc: 0.9500\n",
            "Epoch 61/100\n",
            "3/3 [==============================] - 0s 27ms/step - loss: 0.7118 - acc: 0.9211 - val_loss: 0.7026 - val_acc: 0.9500\n",
            "Epoch 62/100\n",
            "3/3 [==============================] - 0s 32ms/step - loss: 0.7050 - acc: 0.9211 - val_loss: 0.6960 - val_acc: 0.9500\n",
            "Epoch 63/100\n",
            "3/3 [==============================] - 0s 27ms/step - loss: 0.6983 - acc: 0.9211 - val_loss: 0.6893 - val_acc: 0.9500\n",
            "Epoch 64/100\n",
            "3/3 [==============================] - 0s 22ms/step - loss: 0.6916 - acc: 0.9211 - val_loss: 0.6824 - val_acc: 0.9500\n",
            "Epoch 65/100\n",
            "3/3 [==============================] - 0s 22ms/step - loss: 0.6851 - acc: 0.9211 - val_loss: 0.6756 - val_acc: 0.9500\n",
            "Epoch 66/100\n",
            "3/3 [==============================] - 0s 29ms/step - loss: 0.6780 - acc: 0.9211 - val_loss: 0.6691 - val_acc: 0.9500\n",
            "Epoch 67/100\n",
            "3/3 [==============================] - 0s 24ms/step - loss: 0.6719 - acc: 0.9211 - val_loss: 0.6626 - val_acc: 0.9500\n",
            "Epoch 68/100\n",
            "3/3 [==============================] - 0s 26ms/step - loss: 0.6654 - acc: 0.9211 - val_loss: 0.6561 - val_acc: 0.9500\n",
            "Epoch 69/100\n",
            "3/3 [==============================] - 0s 15ms/step - loss: 0.6590 - acc: 0.9211 - val_loss: 0.6493 - val_acc: 0.9500\n",
            "Epoch 70/100\n",
            "3/3 [==============================] - 0s 22ms/step - loss: 0.6525 - acc: 0.9211 - val_loss: 0.6427 - val_acc: 0.9500\n",
            "Epoch 71/100\n",
            "3/3 [==============================] - 0s 35ms/step - loss: 0.6457 - acc: 0.9211 - val_loss: 0.6363 - val_acc: 0.9500\n",
            "Epoch 72/100\n",
            "3/3 [==============================] - 0s 21ms/step - loss: 0.6394 - acc: 0.9211 - val_loss: 0.6298 - val_acc: 0.9500\n",
            "Epoch 73/100\n",
            "3/3 [==============================] - 0s 23ms/step - loss: 0.6328 - acc: 0.9211 - val_loss: 0.6233 - val_acc: 0.9500\n",
            "Epoch 74/100\n",
            "3/3 [==============================] - 0s 31ms/step - loss: 0.6264 - acc: 0.9211 - val_loss: 0.6168 - val_acc: 0.9500\n",
            "Epoch 75/100\n",
            "3/3 [==============================] - 0s 18ms/step - loss: 0.6198 - acc: 0.9211 - val_loss: 0.6105 - val_acc: 0.9500\n",
            "Epoch 76/100\n",
            "3/3 [==============================] - 0s 29ms/step - loss: 0.6140 - acc: 0.9211 - val_loss: 0.6042 - val_acc: 0.9500\n",
            "Epoch 77/100\n",
            "3/3 [==============================] - 0s 45ms/step - loss: 0.6070 - acc: 0.9211 - val_loss: 0.5980 - val_acc: 0.9500\n",
            "Epoch 78/100\n",
            "3/3 [==============================] - 0s 32ms/step - loss: 0.6009 - acc: 0.9211 - val_loss: 0.5917 - val_acc: 0.9500\n",
            "Epoch 79/100\n",
            "3/3 [==============================] - 0s 21ms/step - loss: 0.5945 - acc: 0.9211 - val_loss: 0.5855 - val_acc: 0.9500\n",
            "Epoch 80/100\n",
            "3/3 [==============================] - 0s 17ms/step - loss: 0.5891 - acc: 0.9211 - val_loss: 0.5793 - val_acc: 0.9500\n",
            "Epoch 81/100\n",
            "3/3 [==============================] - 0s 17ms/step - loss: 0.5822 - acc: 0.9211 - val_loss: 0.5735 - val_acc: 0.9500\n",
            "Epoch 82/100\n",
            "3/3 [==============================] - 0s 30ms/step - loss: 0.5762 - acc: 0.9211 - val_loss: 0.5678 - val_acc: 0.9500\n",
            "Epoch 83/100\n",
            "3/3 [==============================] - 0s 18ms/step - loss: 0.5709 - acc: 0.9211 - val_loss: 0.5624 - val_acc: 0.9500\n",
            "Epoch 84/100\n",
            "3/3 [==============================] - 0s 16ms/step - loss: 0.5655 - acc: 0.9211 - val_loss: 0.5567 - val_acc: 0.9500\n",
            "Epoch 85/100\n",
            "3/3 [==============================] - 0s 37ms/step - loss: 0.5596 - acc: 0.9211 - val_loss: 0.5509 - val_acc: 0.9500\n",
            "Epoch 86/100\n",
            "3/3 [==============================] - 0s 34ms/step - loss: 0.5534 - acc: 0.9211 - val_loss: 0.5451 - val_acc: 0.9500\n",
            "Epoch 87/100\n",
            "3/3 [==============================] - 0s 23ms/step - loss: 0.5483 - acc: 0.9211 - val_loss: 0.5406 - val_acc: 0.9500\n",
            "Epoch 88/100\n",
            "3/3 [==============================] - 0s 40ms/step - loss: 0.5429 - acc: 0.9211 - val_loss: 0.5362 - val_acc: 0.9500\n",
            "Epoch 89/100\n",
            "3/3 [==============================] - 0s 20ms/step - loss: 0.5377 - acc: 0.9342 - val_loss: 0.5318 - val_acc: 0.9500\n",
            "Epoch 90/100\n",
            "3/3 [==============================] - 0s 24ms/step - loss: 0.5331 - acc: 0.9342 - val_loss: 0.5273 - val_acc: 0.9500\n",
            "Epoch 91/100\n",
            "3/3 [==============================] - 0s 31ms/step - loss: 0.5283 - acc: 0.9342 - val_loss: 0.5225 - val_acc: 0.9500\n",
            "Epoch 92/100\n",
            "3/3 [==============================] - 0s 48ms/step - loss: 0.5232 - acc: 0.9342 - val_loss: 0.5177 - val_acc: 0.9500\n",
            "Epoch 93/100\n",
            "3/3 [==============================] - 0s 56ms/step - loss: 0.5185 - acc: 0.9342 - val_loss: 0.5130 - val_acc: 0.9500\n",
            "Epoch 94/100\n",
            "3/3 [==============================] - 0s 16ms/step - loss: 0.5131 - acc: 0.9342 - val_loss: 0.5084 - val_acc: 0.9500\n",
            "Epoch 95/100\n",
            "3/3 [==============================] - 0s 25ms/step - loss: 0.5095 - acc: 0.9211 - val_loss: 0.5042 - val_acc: 0.9500\n",
            "Epoch 96/100\n",
            "3/3 [==============================] - 0s 36ms/step - loss: 0.5043 - acc: 0.9211 - val_loss: 0.4999 - val_acc: 0.9500\n",
            "Epoch 97/100\n",
            "3/3 [==============================] - 0s 25ms/step - loss: 0.4997 - acc: 0.9211 - val_loss: 0.4956 - val_acc: 0.9500\n",
            "Epoch 98/100\n",
            "3/3 [==============================] - 0s 17ms/step - loss: 0.4956 - acc: 0.9211 - val_loss: 0.4914 - val_acc: 0.9500\n",
            "Epoch 99/100\n",
            "3/3 [==============================] - 0s 18ms/step - loss: 0.4922 - acc: 0.9211 - val_loss: 0.4874 - val_acc: 0.9500\n",
            "Epoch 100/100\n",
            "3/3 [==============================] - 0s 19ms/step - loss: 0.4869 - acc: 0.9342 - val_loss: 0.4835 - val_acc: 0.9500\n"
          ]
        },
        {
          "output_type": "display_data",
          "data": {
            "text/plain": [
              "<Figure size 432x288 with 1 Axes>"
            ],
            "image/png": "[encoded data removed]"
          },
          "metadata": {
            "needs_background": "light"
          }
        },
        {
          "output_type": "stream",
          "name": "stdout",
          "text": [
            "1/1 [==============================] - 0s 72ms/step - loss: 0.4431 - acc: 0.9583\n",
            "loss= 0.4430950880050659\n",
            "acc= 0.9583333134651184\n"
          ]
        },
        {
          "output_type": "display_data",
          "data": {
            "text/plain": [
              "<Figure size 432x288 with 1 Axes>"
            ],
            "image/png": "[encoded data removed]"
          },
          "metadata": {
            "needs_background": "light"
          }
        }
      ]
    },
    {
      "cell_type": "markdown",
      "metadata": {
        "id": "DMF70UmLvm6q"
      },
      "source": [
        "## 2진 분류 작업\n",
        "\n",
        "loss를 'binary_crossentropy'로 설정한다.\n",
        "\n",
        "출력 데이터 y의 값은 category index 이어야 한다.\n",
        "\n",
        "category가 2개라서 0과 1의 값만 갖는다.\n",
        "```\n",
        "[1 0 1 0 1 0 1 0 1 1]\n",
        "```\n",
        "\n"
      ]
    },
    {
      "cell_type": "code",
      "metadata": {
        "id": "lmchiwgfwMpD"
      },
      "source": [
        "import numpy as np\n",
        "import pandas as pd\n",
        "import matplotlib.pyplot as plt\n",
        "\n",
        "import tensorflow as tf\n",
        "\n",
        "from tensorflow import keras\n",
        "from tensorflow.keras import optimizers\n",
        "from tensorflow.keras.layers import Dense, Input"
      ],
      "execution_count": 9,
      "outputs": []
    },
    {
      "cell_type": "code",
      "metadata": {
        "id": "PpQRpR_FwMpD"
      },
      "source": [
        "def load_sonar_data():\n",
        "\n",
        "  df = pd.read_csv(\"https://raw.githubusercontent.com/dhrim/keras_howto_2021/master/data/sonar.csv\")\n",
        "  data = df.to_numpy()\n",
        "  np.random.shuffle(data)\n",
        "\n",
        "  x = data[:,:60]\n",
        "  y = data[:,60]\n",
        "\n",
        "  split_index = int(len(x)*0.8)\n",
        "  train_x, test_x = x[:split_index], x[split_index:]\n",
        "  train_y, test_y = y[:split_index], y[split_index:]\n",
        "\n",
        "  return (train_x, train_y), (test_x, test_y)\n"
      ],
      "execution_count": 10,
      "outputs": []
    },
    {
      "cell_type": "code",
      "metadata": {
        "id": "GZD7janYwMpD"
      },
      "source": [
        "(train_x, train_y), (test_x, test_y) = load_sonar_data()"
      ],
      "execution_count": 11,
      "outputs": []
    },
    {
      "cell_type": "code",
      "metadata": {
        "colab": {
          "base_uri": "https://localhost:8080/"
        },
        "id": "5mhB6xhTwMpE",
        "outputId": "81b50fe9-58db-4880-d5c5-9c506651f547"
      },
      "source": [
        "print(train_x.shape)\n",
        "print(train_y.shape)"
      ],
      "execution_count": 12,
      "outputs": [
        {
          "output_type": "stream",
          "name": "stdout",
          "text": [
            "(165, 60)\n",
            "(165,)\n"
          ]
        }
      ]
    },
    {
      "cell_type": "code",
      "metadata": {
        "colab": {
          "base_uri": "https://localhost:8080/"
        },
        "id": "xMZozcMJwMpE",
        "outputId": "fdb2b853-b2a4-496f-92f7-8b0a68c5fc97"
      },
      "source": [
        "print(train_x[0])\n",
        "print(train_y[:10])"
      ],
      "execution_count": 13,
      "outputs": [
        {
          "output_type": "stream",
          "name": "stdout",
          "text": [
            "[0.0231 0.0351 0.003  0.0304 0.0339 0.086  0.1738 0.1351 0.1063 0.0347\n",
            " 0.0575 0.1382 0.2274 0.4038 0.5223 0.6847 0.7521 0.776  0.7708 0.8627\n",
            " 1.     0.8873 0.8057 0.876  0.9066 0.943  0.8846 0.65   0.297  0.2423\n",
            " 0.2992 0.2285 0.2277 0.1529 0.1037 0.0352 0.1073 0.1373 0.1331 0.1454\n",
            " 0.1115 0.044  0.0762 0.1381 0.0831 0.0654 0.0844 0.0595 0.0497 0.0313\n",
            " 0.0154 0.0106 0.0097 0.0022 0.0052 0.0072 0.0056 0.0038 0.0043 0.003 ]\n",
            "[0. 0. 0. 1. 0. 1. 1. 0. 1. 0.]\n"
          ]
        }
      ]
    },
    {
      "cell_type": "code",
      "metadata": {
        "colab": {
          "base_uri": "https://localhost:8080/",
          "height": 1000
        },
        "id": "_dioBuG0wMpE",
        "outputId": "d47688c3-2c3b-43ee-c8e3-1f70fbb7025d"
      },
      "source": [
        "# 모델 정의\n",
        "model = keras.Sequential()\n",
        "model.add(Input(60))\n",
        "model.add(Dense(10, activation='relu'))\n",
        "model.add(Dense(10, activation='relu'))\n",
        "# model.add(Dense(3, activation=\"softmax\"))\n",
        "model.add(Dense(1, activation=\"sigmoid\")) # 출력 노드는 1개, activation은 \"sigmoid\"\n",
        "\n",
        "\n",
        "# 모델 컴파일\n",
        "# model.compile(optimizer=\"Adam\", loss=\"sparse_categorical_crossentropy\", metrics=[\"acc\"])\n",
        "model.compile(optimizer=\"Adam\", loss=\"binary_crossentropy\", metrics=[\"acc\"])\n",
        "\n",
        "\n",
        "# 모델 학습\n",
        "history = model.fit(train_x, train_y, epochs=100, batch_size=32, validation_split=0.2)\n",
        "\n",
        "\n",
        "# 학습 로스 보기\n",
        "plt.plot(history.history['loss'], label=\"loss\")\n",
        "plt.plot(history.history['val_loss'], label=\"val_loss\")\n",
        "plt.legend()\n",
        "plt.show()\n",
        "\n",
        "\n",
        "# 평가\n",
        "loss, acc = model.evaluate(test_x, test_y)\n",
        "print(\"loss=\", loss)\n",
        "print(\"acc=\", acc)\n",
        "\n",
        "\n",
        "# 예측\n",
        "y_ = model.predict(test_x)\n",
        "predicted = (y_>0.5).astype(np.int)\n",
        "\n",
        "# 예측 결과 보기\n",
        "plt.plot(test_y, \"o\")\n",
        "plt.plot(predicted, \".\")\n",
        "plt.show()\n"
      ],
      "execution_count": 19,
      "outputs": [
        {
          "output_type": "stream",
          "name": "stdout",
          "text": [
            "Epoch 1/100\n",
            "5/5 [==============================] - 0s 34ms/step - loss: 0.6910 - acc: 0.5758 - val_loss: 0.6873 - val_acc: 0.6667\n",
            "Epoch 2/100\n",
            "5/5 [==============================] - 0s 7ms/step - loss: 0.6870 - acc: 0.5909 - val_loss: 0.6806 - val_acc: 0.6061\n",
            "Epoch 3/100\n",
            "5/5 [==============================] - 0s 6ms/step - loss: 0.6839 - acc: 0.5985 - val_loss: 0.6783 - val_acc: 0.5455\n",
            "Epoch 4/100\n",
            "5/5 [==============================] - 0s 7ms/step - loss: 0.6827 - acc: 0.5985 - val_loss: 0.6753 - val_acc: 0.5758\n",
            "Epoch 5/100\n",
            "5/5 [==============================] - 0s 6ms/step - loss: 0.6803 - acc: 0.6439 - val_loss: 0.6713 - val_acc: 0.6061\n",
            "Epoch 6/100\n",
            "5/5 [==============================] - 0s 7ms/step - loss: 0.6775 - acc: 0.6364 - val_loss: 0.6669 - val_acc: 0.6061\n",
            "Epoch 7/100\n",
            "5/5 [==============================] - 0s 6ms/step - loss: 0.6745 - acc: 0.6364 - val_loss: 0.6619 - val_acc: 0.6364\n",
            "Epoch 8/100\n",
            "5/5 [==============================] - 0s 6ms/step - loss: 0.6705 - acc: 0.6515 - val_loss: 0.6572 - val_acc: 0.6970\n",
            "Epoch 9/100\n",
            "5/5 [==============================] - 0s 6ms/step - loss: 0.6671 - acc: 0.6818 - val_loss: 0.6544 - val_acc: 0.6970\n",
            "Epoch 10/100\n",
            "5/5 [==============================] - 0s 6ms/step - loss: 0.6640 - acc: 0.7121 - val_loss: 0.6514 - val_acc: 0.7273\n",
            "Epoch 11/100\n",
            "5/5 [==============================] - 0s 6ms/step - loss: 0.6597 - acc: 0.7273 - val_loss: 0.6461 - val_acc: 0.6970\n",
            "Epoch 12/100\n",
            "5/5 [==============================] - 0s 9ms/step - loss: 0.6557 - acc: 0.7348 - val_loss: 0.6422 - val_acc: 0.6970\n",
            "Epoch 13/100\n",
            "5/5 [==============================] - 0s 7ms/step - loss: 0.6523 - acc: 0.6818 - val_loss: 0.6390 - val_acc: 0.6970\n",
            "Epoch 14/100\n",
            "5/5 [==============================] - 0s 7ms/step - loss: 0.6504 - acc: 0.6288 - val_loss: 0.6368 - val_acc: 0.6970\n",
            "Epoch 15/100\n",
            "5/5 [==============================] - 0s 7ms/step - loss: 0.6476 - acc: 0.6364 - val_loss: 0.6344 - val_acc: 0.6970\n",
            "Epoch 16/100\n",
            "5/5 [==============================] - 0s 7ms/step - loss: 0.6440 - acc: 0.6742 - val_loss: 0.6321 - val_acc: 0.7576\n",
            "Epoch 17/100\n",
            "5/5 [==============================] - 0s 7ms/step - loss: 0.6399 - acc: 0.6894 - val_loss: 0.6306 - val_acc: 0.7273\n",
            "Epoch 18/100\n",
            "5/5 [==============================] - 0s 6ms/step - loss: 0.6365 - acc: 0.7273 - val_loss: 0.6277 - val_acc: 0.7273\n",
            "Epoch 19/100\n",
            "5/5 [==============================] - 0s 11ms/step - loss: 0.6324 - acc: 0.7121 - val_loss: 0.6239 - val_acc: 0.7576\n",
            "Epoch 20/100\n",
            "5/5 [==============================] - 0s 6ms/step - loss: 0.6308 - acc: 0.6742 - val_loss: 0.6212 - val_acc: 0.7273\n",
            "Epoch 21/100\n",
            "5/5 [==============================] - 0s 11ms/step - loss: 0.6294 - acc: 0.6667 - val_loss: 0.6188 - val_acc: 0.7273\n",
            "Epoch 22/100\n",
            "5/5 [==============================] - 0s 6ms/step - loss: 0.6270 - acc: 0.6591 - val_loss: 0.6161 - val_acc: 0.7273\n",
            "Epoch 23/100\n",
            "5/5 [==============================] - 0s 11ms/step - loss: 0.6220 - acc: 0.6818 - val_loss: 0.6139 - val_acc: 0.7576\n",
            "Epoch 24/100\n",
            "5/5 [==============================] - 0s 6ms/step - loss: 0.6177 - acc: 0.7197 - val_loss: 0.6127 - val_acc: 0.8182\n",
            "Epoch 25/100\n",
            "5/5 [==============================] - 0s 11ms/step - loss: 0.6142 - acc: 0.7424 - val_loss: 0.6106 - val_acc: 0.7879\n",
            "Epoch 26/100\n",
            "5/5 [==============================] - 0s 7ms/step - loss: 0.6107 - acc: 0.7424 - val_loss: 0.6072 - val_acc: 0.8182\n",
            "Epoch 27/100\n",
            "5/5 [==============================] - 0s 6ms/step - loss: 0.6075 - acc: 0.7500 - val_loss: 0.6053 - val_acc: 0.8182\n",
            "Epoch 28/100\n",
            "5/5 [==============================] - 0s 7ms/step - loss: 0.6043 - acc: 0.7727 - val_loss: 0.6037 - val_acc: 0.7879\n",
            "Epoch 29/100\n",
            "5/5 [==============================] - 0s 6ms/step - loss: 0.6008 - acc: 0.7652 - val_loss: 0.5999 - val_acc: 0.8485\n",
            "Epoch 30/100\n",
            "5/5 [==============================] - 0s 7ms/step - loss: 0.5979 - acc: 0.7500 - val_loss: 0.5960 - val_acc: 0.8485\n",
            "Epoch 31/100\n",
            "5/5 [==============================] - 0s 7ms/step - loss: 0.5936 - acc: 0.7424 - val_loss: 0.5930 - val_acc: 0.8485\n",
            "Epoch 32/100\n",
            "5/5 [==============================] - 0s 7ms/step - loss: 0.5909 - acc: 0.7652 - val_loss: 0.5910 - val_acc: 0.8485\n",
            "Epoch 33/100\n",
            "5/5 [==============================] - 0s 7ms/step - loss: 0.5868 - acc: 0.7652 - val_loss: 0.5870 - val_acc: 0.8182\n",
            "Epoch 34/100\n",
            "5/5 [==============================] - 0s 6ms/step - loss: 0.5834 - acc: 0.7500 - val_loss: 0.5831 - val_acc: 0.8485\n",
            "Epoch 35/100\n",
            "5/5 [==============================] - 0s 6ms/step - loss: 0.5801 - acc: 0.7424 - val_loss: 0.5803 - val_acc: 0.8485\n",
            "Epoch 36/100\n",
            "5/5 [==============================] - 0s 7ms/step - loss: 0.5769 - acc: 0.7500 - val_loss: 0.5777 - val_acc: 0.8485\n",
            "Epoch 37/100\n",
            "5/5 [==============================] - 0s 6ms/step - loss: 0.5745 - acc: 0.7652 - val_loss: 0.5756 - val_acc: 0.8182\n",
            "Epoch 38/100\n",
            "5/5 [==============================] - 0s 6ms/step - loss: 0.5709 - acc: 0.7727 - val_loss: 0.5725 - val_acc: 0.8182\n",
            "Epoch 39/100\n",
            "5/5 [==============================] - 0s 8ms/step - loss: 0.5670 - acc: 0.7576 - val_loss: 0.5693 - val_acc: 0.8182\n",
            "Epoch 40/100\n",
            "5/5 [==============================] - 0s 7ms/step - loss: 0.5635 - acc: 0.7652 - val_loss: 0.5657 - val_acc: 0.8182\n",
            "Epoch 41/100\n",
            "5/5 [==============================] - 0s 7ms/step - loss: 0.5606 - acc: 0.7727 - val_loss: 0.5631 - val_acc: 0.8485\n",
            "Epoch 42/100\n",
            "5/5 [==============================] - 0s 7ms/step - loss: 0.5606 - acc: 0.7652 - val_loss: 0.5606 - val_acc: 0.8182\n",
            "Epoch 43/100\n",
            "5/5 [==============================] - 0s 6ms/step - loss: 0.5549 - acc: 0.7652 - val_loss: 0.5566 - val_acc: 0.8485\n",
            "Epoch 44/100\n",
            "5/5 [==============================] - 0s 6ms/step - loss: 0.5491 - acc: 0.7879 - val_loss: 0.5531 - val_acc: 0.8182\n",
            "Epoch 45/100\n",
            "5/5 [==============================] - 0s 6ms/step - loss: 0.5473 - acc: 0.7803 - val_loss: 0.5506 - val_acc: 0.8182\n",
            "Epoch 46/100\n",
            "5/5 [==============================] - 0s 6ms/step - loss: 0.5424 - acc: 0.7803 - val_loss: 0.5496 - val_acc: 0.8788\n",
            "Epoch 47/100\n",
            "5/5 [==============================] - 0s 11ms/step - loss: 0.5398 - acc: 0.7652 - val_loss: 0.5485 - val_acc: 0.8182\n",
            "Epoch 48/100\n",
            "5/5 [==============================] - 0s 6ms/step - loss: 0.5393 - acc: 0.7879 - val_loss: 0.5492 - val_acc: 0.7879\n",
            "Epoch 49/100\n",
            "5/5 [==============================] - 0s 6ms/step - loss: 0.5358 - acc: 0.7727 - val_loss: 0.5443 - val_acc: 0.8788\n",
            "Epoch 50/100\n",
            "5/5 [==============================] - 0s 6ms/step - loss: 0.5282 - acc: 0.7879 - val_loss: 0.5396 - val_acc: 0.8485\n",
            "Epoch 51/100\n",
            "5/5 [==============================] - 0s 6ms/step - loss: 0.5248 - acc: 0.8030 - val_loss: 0.5364 - val_acc: 0.8485\n",
            "Epoch 52/100\n",
            "5/5 [==============================] - 0s 6ms/step - loss: 0.5215 - acc: 0.7955 - val_loss: 0.5344 - val_acc: 0.8788\n",
            "Epoch 53/100\n",
            "5/5 [==============================] - 0s 7ms/step - loss: 0.5177 - acc: 0.7803 - val_loss: 0.5351 - val_acc: 0.7879\n",
            "Epoch 54/100\n",
            "5/5 [==============================] - 0s 6ms/step - loss: 0.5211 - acc: 0.7727 - val_loss: 0.5376 - val_acc: 0.7576\n",
            "Epoch 55/100\n",
            "5/5 [==============================] - 0s 6ms/step - loss: 0.5215 - acc: 0.7652 - val_loss: 0.5323 - val_acc: 0.7576\n",
            "Epoch 56/100\n",
            "5/5 [==============================] - 0s 7ms/step - loss: 0.5151 - acc: 0.7879 - val_loss: 0.5279 - val_acc: 0.7879\n",
            "Epoch 57/100\n",
            "5/5 [==============================] - 0s 7ms/step - loss: 0.5127 - acc: 0.7727 - val_loss: 0.5201 - val_acc: 0.8788\n",
            "Epoch 58/100\n",
            "5/5 [==============================] - 0s 7ms/step - loss: 0.5035 - acc: 0.7879 - val_loss: 0.5174 - val_acc: 0.8788\n",
            "Epoch 59/100\n",
            "5/5 [==============================] - 0s 7ms/step - loss: 0.5005 - acc: 0.7879 - val_loss: 0.5155 - val_acc: 0.8485\n",
            "Epoch 60/100\n",
            "5/5 [==============================] - 0s 8ms/step - loss: 0.4979 - acc: 0.7879 - val_loss: 0.5125 - val_acc: 0.8485\n",
            "Epoch 61/100\n",
            "5/5 [==============================] - 0s 7ms/step - loss: 0.4944 - acc: 0.8030 - val_loss: 0.5107 - val_acc: 0.8485\n",
            "Epoch 62/100\n",
            "5/5 [==============================] - 0s 7ms/step - loss: 0.4908 - acc: 0.7879 - val_loss: 0.5097 - val_acc: 0.8485\n",
            "Epoch 63/100\n",
            "5/5 [==============================] - 0s 8ms/step - loss: 0.4875 - acc: 0.7879 - val_loss: 0.5082 - val_acc: 0.8485\n",
            "Epoch 64/100\n",
            "5/5 [==============================] - 0s 7ms/step - loss: 0.4875 - acc: 0.7955 - val_loss: 0.5086 - val_acc: 0.8485\n",
            "Epoch 65/100\n",
            "5/5 [==============================] - 0s 7ms/step - loss: 0.4832 - acc: 0.7955 - val_loss: 0.5044 - val_acc: 0.8485\n",
            "Epoch 66/100\n",
            "5/5 [==============================] - 0s 7ms/step - loss: 0.4792 - acc: 0.7879 - val_loss: 0.5007 - val_acc: 0.8485\n",
            "Epoch 67/100\n",
            "5/5 [==============================] - 0s 8ms/step - loss: 0.4771 - acc: 0.7879 - val_loss: 0.4981 - val_acc: 0.8485\n",
            "Epoch 68/100\n",
            "5/5 [==============================] - 0s 7ms/step - loss: 0.4749 - acc: 0.7727 - val_loss: 0.4948 - val_acc: 0.8485\n",
            "Epoch 69/100\n",
            "5/5 [==============================] - 0s 6ms/step - loss: 0.4703 - acc: 0.8106 - val_loss: 0.4928 - val_acc: 0.8485\n",
            "Epoch 70/100\n",
            "5/5 [==============================] - 0s 8ms/step - loss: 0.4675 - acc: 0.7879 - val_loss: 0.4917 - val_acc: 0.8485\n",
            "Epoch 71/100\n",
            "5/5 [==============================] - 0s 7ms/step - loss: 0.4640 - acc: 0.8030 - val_loss: 0.4901 - val_acc: 0.8485\n",
            "Epoch 72/100\n",
            "5/5 [==============================] - 0s 7ms/step - loss: 0.4624 - acc: 0.8106 - val_loss: 0.4885 - val_acc: 0.8485\n",
            "Epoch 73/100\n",
            "5/5 [==============================] - 0s 7ms/step - loss: 0.4590 - acc: 0.8030 - val_loss: 0.4856 - val_acc: 0.8485\n",
            "Epoch 74/100\n",
            "5/5 [==============================] - 0s 11ms/step - loss: 0.4562 - acc: 0.7955 - val_loss: 0.4822 - val_acc: 0.8485\n",
            "Epoch 75/100\n",
            "5/5 [==============================] - 0s 7ms/step - loss: 0.4521 - acc: 0.8106 - val_loss: 0.4803 - val_acc: 0.8485\n",
            "Epoch 76/100\n",
            "5/5 [==============================] - 0s 11ms/step - loss: 0.4530 - acc: 0.8106 - val_loss: 0.4797 - val_acc: 0.8485\n",
            "Epoch 77/100\n",
            "5/5 [==============================] - 0s 7ms/step - loss: 0.4475 - acc: 0.8106 - val_loss: 0.4765 - val_acc: 0.8485\n",
            "Epoch 78/100\n",
            "5/5 [==============================] - 0s 12ms/step - loss: 0.4450 - acc: 0.7955 - val_loss: 0.4756 - val_acc: 0.8485\n",
            "Epoch 79/100\n",
            "5/5 [==============================] - 0s 6ms/step - loss: 0.4429 - acc: 0.8030 - val_loss: 0.4741 - val_acc: 0.8788\n",
            "Epoch 80/100\n",
            "5/5 [==============================] - 0s 7ms/step - loss: 0.4417 - acc: 0.7879 - val_loss: 0.4742 - val_acc: 0.8485\n",
            "Epoch 81/100\n",
            "5/5 [==============================] - 0s 7ms/step - loss: 0.4376 - acc: 0.8030 - val_loss: 0.4718 - val_acc: 0.8485\n",
            "Epoch 82/100\n",
            "5/5 [==============================] - 0s 7ms/step - loss: 0.4359 - acc: 0.8106 - val_loss: 0.4705 - val_acc: 0.8485\n",
            "Epoch 83/100\n",
            "5/5 [==============================] - 0s 7ms/step - loss: 0.4330 - acc: 0.8030 - val_loss: 0.4692 - val_acc: 0.8485\n",
            "Epoch 84/100\n",
            "5/5 [==============================] - 0s 7ms/step - loss: 0.4300 - acc: 0.8106 - val_loss: 0.4700 - val_acc: 0.8182\n",
            "Epoch 85/100\n",
            "5/5 [==============================] - 0s 7ms/step - loss: 0.4318 - acc: 0.8258 - val_loss: 0.4713 - val_acc: 0.7879\n",
            "Epoch 86/100\n",
            "5/5 [==============================] - 0s 7ms/step - loss: 0.4308 - acc: 0.8258 - val_loss: 0.4682 - val_acc: 0.8485\n",
            "Epoch 87/100\n",
            "5/5 [==============================] - 0s 7ms/step - loss: 0.4276 - acc: 0.8106 - val_loss: 0.4641 - val_acc: 0.8788\n",
            "Epoch 88/100\n",
            "5/5 [==============================] - 0s 8ms/step - loss: 0.4215 - acc: 0.8182 - val_loss: 0.4627 - val_acc: 0.8788\n",
            "Epoch 89/100\n",
            "5/5 [==============================] - 0s 7ms/step - loss: 0.4193 - acc: 0.8182 - val_loss: 0.4613 - val_acc: 0.8788\n",
            "Epoch 90/100\n",
            "5/5 [==============================] - 0s 7ms/step - loss: 0.4165 - acc: 0.8182 - val_loss: 0.4600 - val_acc: 0.8485\n",
            "Epoch 91/100\n",
            "5/5 [==============================] - 0s 6ms/step - loss: 0.4147 - acc: 0.8030 - val_loss: 0.4588 - val_acc: 0.8788\n",
            "Epoch 92/100\n",
            "5/5 [==============================] - 0s 7ms/step - loss: 0.4123 - acc: 0.8182 - val_loss: 0.4578 - val_acc: 0.8788\n",
            "Epoch 93/100\n",
            "5/5 [==============================] - 0s 9ms/step - loss: 0.4104 - acc: 0.8182 - val_loss: 0.4570 - val_acc: 0.8788\n",
            "Epoch 94/100\n",
            "5/5 [==============================] - 0s 7ms/step - loss: 0.4093 - acc: 0.8030 - val_loss: 0.4589 - val_acc: 0.7879\n",
            "Epoch 95/100\n",
            "5/5 [==============================] - 0s 7ms/step - loss: 0.4084 - acc: 0.8258 - val_loss: 0.4564 - val_acc: 0.8182\n",
            "Epoch 96/100\n",
            "5/5 [==============================] - 0s 7ms/step - loss: 0.4056 - acc: 0.8258 - val_loss: 0.4565 - val_acc: 0.8182\n",
            "Epoch 97/100\n",
            "5/5 [==============================] - 0s 6ms/step - loss: 0.4039 - acc: 0.8258 - val_loss: 0.4540 - val_acc: 0.8182\n",
            "Epoch 98/100\n",
            "5/5 [==============================] - 0s 7ms/step - loss: 0.3997 - acc: 0.8333 - val_loss: 0.4510 - val_acc: 0.8485\n",
            "Epoch 99/100\n",
            "5/5 [==============================] - 0s 7ms/step - loss: 0.3997 - acc: 0.8333 - val_loss: 0.4517 - val_acc: 0.8485\n",
            "Epoch 100/100\n",
            "5/5 [==============================] - 0s 11ms/step - loss: 0.4025 - acc: 0.8258 - val_loss: 0.4569 - val_acc: 0.7879\n"
          ]
        },
        {
          "output_type": "display_data",
          "data": {
            "image/png": "[encoded data removed]",
            "text/plain": [
              "<Figure size 432x288 with 1 Axes>"
            ]
          },
          "metadata": {
            "needs_background": "light"
          }
        },
        {
          "output_type": "stream",
          "name": "stdout",
          "text": [
            "2/2 [==============================] - 0s 5ms/step - loss: 0.5142 - acc: 0.8095\n",
            "loss= 0.5142420530319214\n",
            "acc= 0.8095238208770752\n"
          ]
        },
        {
          "output_type": "display_data",
          "data": {
            "image/png": "[encoded data removed]",
            "text/plain": [
              "<Figure size 432x288 with 1 Axes>"
            ]
          },
          "metadata": {
            "needs_background": "light"
          }
        }
      ]
    },
    {
      "cell_type": "markdown",
      "metadata": {
        "id": "WCwdsoZC47PQ"
      },
      "source": [
        "# metric 설정"
      ]
    },
    {
      "cell_type": "markdown",
      "metadata": {
        "id": "AgYji31I5egu"
      },
      "source": [
        "## 회귀 작업\n",
        "\n",
        "\"mae\", \"mape\" 등을 설정할 수 있다.\n",
        "- 'mae' : mean absolute error\n",
        "- 'mape' : mean absolute percentage error"
      ]
    },
    {
      "cell_type": "code",
      "metadata": {
        "id": "-99ObHPL9cMv"
      },
      "source": [
        "import numpy as np\n",
        "import pandas as pd\n",
        "import matplotlib.pyplot as plt\n",
        "\n",
        "import tensorflow as tf\n",
        "\n",
        "from tensorflow import keras\n",
        "from tensorflow.keras import optimizers\n",
        "from tensorflow.keras.layers import Dense, Input"
      ],
      "execution_count": null,
      "outputs": []
    },
    {
      "cell_type": "code",
      "metadata": {
        "id": "szI-a-nq9cMv"
      },
      "source": [
        "(train_x, train_y), (test_x, test_y) = tf.keras.datasets.boston_housing.load_data()"
      ],
      "execution_count": null,
      "outputs": []
    },
    {
      "cell_type": "code",
      "metadata": {
        "colab": {
          "base_uri": "https://localhost:8080/",
          "height": 1000
        },
        "id": "mBm0twyZ9cMv",
        "outputId": "05547e42-215b-49ff-e9a6-eea7abc30adb"
      },
      "source": [
        "# 모델 정의\n",
        "model = keras.Sequential()\n",
        "model.add(Input(13))\n",
        "model.add(Dense(10, activation='relu'))\n",
        "model.add(Dense(10, activation='relu'))\n",
        "model.add(Dense(1))\n",
        "\n",
        "\n",
        "# 모델 컴파일\n",
        "model.compile(optimizer=\"Adam\", loss=\"mse\", metrics=[\"mae\", \"mape\"])\n",
        "model.summary()\n",
        "\n",
        "\n",
        "# 모델 학습\n",
        "history = model.fit(train_x, train_y, epochs=100, batch_size=32, validation_split=0.2)\n",
        "\n",
        "\n",
        "# 학습 로스 보기\n",
        "plt.plot(history.history['loss'], label=\"loss\")\n",
        "plt.plot(history.history['val_loss'], label=\"val_loss\")\n",
        "plt.legend()\n",
        "plt.show()\n",
        "\n",
        "\n",
        "# 평가\n",
        "loss, mae, mape = model.evaluate(test_x, test_y)\n",
        "print(\"loss=\", loss)\n",
        "print(\"mae=\", mae)\n",
        "print(\"mape=\", mape)\n",
        "\n",
        "\n",
        "# 예측\n",
        "y_ = model.predict(test_x)\n",
        "\n",
        "\n",
        "# 예측 결과 보기\n",
        "plt.scatter(test_y, y_)\n",
        "plt.show()\n"
      ],
      "execution_count": null,
      "outputs": [
        {
          "output_type": "stream",
          "name": "stdout",
          "text": [
            "Model: \"sequential_2\"\n",
            "_________________________________________________________________\n",
            "Layer (type)                 Output Shape              Param #   \n",
            "=================================================================\n",
            "dense_6 (Dense)              (None, 10)                140       \n",
            "_________________________________________________________________\n",
            "dense_7 (Dense)              (None, 10)                110       \n",
            "_________________________________________________________________\n",
            "dense_8 (Dense)              (None, 1)                 11        \n",
            "=================================================================\n",
            "Total params: 261\n",
            "Trainable params: 261\n",
            "Non-trainable params: 0\n",
            "_________________________________________________________________\n",
            "Epoch 1/100\n",
            "11/11 [==============================] - 1s 28ms/step - loss: 431.3896 - mae: 12.3779 - mape: 77.2216 - val_loss: 189.1593 - val_mae: 9.5992 - val_mape: 47.6948\n",
            "Epoch 2/100\n",
            "11/11 [==============================] - 0s 10ms/step - loss: 212.0603 - mae: 10.7569 - mape: 60.9391 - val_loss: 123.3233 - val_mae: 8.0960 - val_mape: 36.3577\n",
            "Epoch 3/100\n",
            "11/11 [==============================] - 0s 5ms/step - loss: 121.2019 - mae: 8.2806 - mape: 45.1667 - val_loss: 93.1257 - val_mae: 6.4908 - val_mape: 25.8476\n",
            "Epoch 4/100\n",
            "11/11 [==============================] - 0s 5ms/step - loss: 92.4068 - mae: 6.8701 - mape: 33.8166 - val_loss: 86.4839 - val_mae: 6.2705 - val_mape: 24.5685\n",
            "Epoch 5/100\n",
            "11/11 [==============================] - 0s 6ms/step - loss: 79.5723 - mae: 6.5849 - mape: 33.1083 - val_loss: 85.6697 - val_mae: 6.2672 - val_mape: 24.5916\n",
            "Epoch 6/100\n",
            "11/11 [==============================] - 0s 5ms/step - loss: 77.9329 - mae: 6.3925 - mape: 31.2696 - val_loss: 84.7792 - val_mae: 6.2237 - val_mape: 24.6013\n",
            "Epoch 7/100\n",
            "11/11 [==============================] - 0s 5ms/step - loss: 74.9399 - mae: 6.3546 - mape: 31.5272 - val_loss: 83.0803 - val_mae: 6.1414 - val_mape: 24.5685\n",
            "Epoch 8/100\n",
            "11/11 [==============================] - 0s 5ms/step - loss: 73.0046 - mae: 6.2318 - mape: 30.9652 - val_loss: 83.1021 - val_mae: 6.1691 - val_mape: 24.4961\n",
            "Epoch 9/100\n",
            "11/11 [==============================] - 0s 6ms/step - loss: 72.8994 - mae: 6.1075 - mape: 29.6816 - val_loss: 80.8785 - val_mae: 6.1969 - val_mape: 25.0369\n",
            "Epoch 10/100\n",
            "11/11 [==============================] - 0s 5ms/step - loss: 74.2220 - mae: 6.6385 - mape: 34.9878 - val_loss: 81.2114 - val_mae: 6.0944 - val_mape: 24.4062\n",
            "Epoch 11/100\n",
            "11/11 [==============================] - 0s 5ms/step - loss: 73.7460 - mae: 5.9593 - mape: 27.8848 - val_loss: 78.4211 - val_mae: 6.0945 - val_mape: 25.0838\n",
            "Epoch 12/100\n",
            "11/11 [==============================] - 0s 5ms/step - loss: 69.8966 - mae: 6.2386 - mape: 31.9157 - val_loss: 79.4540 - val_mae: 6.1189 - val_mape: 24.6674\n",
            "Epoch 13/100\n",
            "11/11 [==============================] - 0s 5ms/step - loss: 68.6367 - mae: 5.9127 - mape: 28.8998 - val_loss: 79.2680 - val_mae: 6.0913 - val_mape: 24.4553\n",
            "Epoch 14/100\n",
            "11/11 [==============================] - 0s 5ms/step - loss: 67.6290 - mae: 6.0086 - mape: 30.2735 - val_loss: 78.2614 - val_mae: 6.1800 - val_mape: 25.0947\n",
            "Epoch 15/100\n",
            "11/11 [==============================] - 0s 5ms/step - loss: 67.0614 - mae: 6.0265 - mape: 30.3550 - val_loss: 75.8085 - val_mae: 6.1164 - val_mape: 25.2774\n",
            "Epoch 16/100\n",
            "11/11 [==============================] - 0s 5ms/step - loss: 69.2435 - mae: 6.3147 - mape: 33.2850 - val_loss: 80.6139 - val_mae: 6.3225 - val_mape: 25.4512\n",
            "Epoch 17/100\n",
            "11/11 [==============================] - 0s 4ms/step - loss: 66.6702 - mae: 5.7592 - mape: 27.6573 - val_loss: 74.9279 - val_mae: 5.9609 - val_mape: 25.0666\n",
            "Epoch 18/100\n",
            "11/11 [==============================] - 0s 5ms/step - loss: 68.0999 - mae: 6.1689 - mape: 31.2566 - val_loss: 79.4629 - val_mae: 6.0678 - val_mape: 24.3319\n",
            "Epoch 19/100\n",
            "11/11 [==============================] - 0s 6ms/step - loss: 64.9631 - mae: 5.7508 - mape: 27.9471 - val_loss: 72.5278 - val_mae: 6.1774 - val_mape: 26.2226\n",
            "Epoch 20/100\n",
            "11/11 [==============================] - 0s 5ms/step - loss: 65.4403 - mae: 5.9590 - mape: 30.1905 - val_loss: 75.7143 - val_mae: 6.0958 - val_mape: 24.7521\n",
            "Epoch 21/100\n",
            "11/11 [==============================] - 0s 5ms/step - loss: 62.9834 - mae: 5.7978 - mape: 28.9240 - val_loss: 71.1215 - val_mae: 6.0384 - val_mape: 25.5232\n",
            "Epoch 22/100\n",
            "11/11 [==============================] - 0s 5ms/step - loss: 63.1390 - mae: 5.7274 - mape: 28.1412 - val_loss: 69.8535 - val_mae: 5.9989 - val_mape: 25.4463\n",
            "Epoch 23/100\n",
            "11/11 [==============================] - 0s 4ms/step - loss: 64.8065 - mae: 5.9611 - mape: 29.9874 - val_loss: 71.0353 - val_mae: 5.8543 - val_mape: 24.0664\n",
            "Epoch 24/100\n",
            "11/11 [==============================] - 0s 5ms/step - loss: 62.7541 - mae: 5.6789 - mape: 27.8092 - val_loss: 70.7865 - val_mae: 6.0997 - val_mape: 25.3305\n",
            "Epoch 25/100\n",
            "11/11 [==============================] - 0s 5ms/step - loss: 61.2131 - mae: 5.6867 - mape: 28.2698 - val_loss: 70.4423 - val_mae: 5.9728 - val_mape: 24.7496\n",
            "Epoch 26/100\n",
            "11/11 [==============================] - 0s 5ms/step - loss: 60.5686 - mae: 5.6908 - mape: 28.2217 - val_loss: 70.0786 - val_mae: 5.9249 - val_mape: 24.4887\n",
            "Epoch 27/100\n",
            "11/11 [==============================] - 0s 5ms/step - loss: 59.7614 - mae: 5.5912 - mape: 27.5995 - val_loss: 70.3969 - val_mae: 5.9955 - val_mape: 24.6061\n",
            "Epoch 28/100\n",
            "11/11 [==============================] - 0s 4ms/step - loss: 59.9163 - mae: 5.4705 - mape: 26.2518 - val_loss: 68.4679 - val_mae: 5.8696 - val_mape: 24.3244\n",
            "Epoch 29/100\n",
            "11/11 [==============================] - 0s 4ms/step - loss: 58.2606 - mae: 5.5384 - mape: 27.4345 - val_loss: 68.8392 - val_mae: 5.8287 - val_mape: 23.9028\n",
            "Epoch 30/100\n",
            "11/11 [==============================] - 0s 4ms/step - loss: 58.1324 - mae: 5.4930 - mape: 26.8770 - val_loss: 69.2027 - val_mae: 5.7391 - val_mape: 23.2704\n",
            "Epoch 31/100\n",
            "11/11 [==============================] - 0s 4ms/step - loss: 58.4923 - mae: 5.3701 - mape: 25.4766 - val_loss: 66.2793 - val_mae: 6.0657 - val_mape: 26.2080\n",
            "Epoch 32/100\n",
            "11/11 [==============================] - 0s 4ms/step - loss: 61.5230 - mae: 6.0543 - mape: 31.7150 - val_loss: 72.6463 - val_mae: 5.7547 - val_mape: 22.8155\n",
            "Epoch 33/100\n",
            "11/11 [==============================] - 0s 4ms/step - loss: 60.5310 - mae: 5.3837 - mape: 25.2940 - val_loss: 66.4076 - val_mae: 5.8551 - val_mape: 24.4005\n",
            "Epoch 34/100\n",
            "11/11 [==============================] - 0s 4ms/step - loss: 58.4070 - mae: 5.3782 - mape: 25.7664 - val_loss: 65.7360 - val_mae: 5.7655 - val_mape: 24.0951\n",
            "Epoch 35/100\n",
            "11/11 [==============================] - 0s 4ms/step - loss: 56.4674 - mae: 5.3599 - mape: 25.8987 - val_loss: 66.5517 - val_mae: 5.7368 - val_mape: 23.5438\n",
            "Epoch 36/100\n",
            "11/11 [==============================] - 0s 6ms/step - loss: 56.0926 - mae: 5.3535 - mape: 26.0985 - val_loss: 65.4944 - val_mae: 5.7525 - val_mape: 23.7559\n",
            "Epoch 37/100\n",
            "11/11 [==============================] - 0s 5ms/step - loss: 56.4756 - mae: 5.5121 - mape: 27.7942 - val_loss: 64.7651 - val_mae: 5.6950 - val_mape: 23.5880\n",
            "Epoch 38/100\n",
            "11/11 [==============================] - 0s 5ms/step - loss: 58.0100 - mae: 5.7993 - mape: 29.6373 - val_loss: 66.9895 - val_mae: 5.6506 - val_mape: 22.9455\n",
            "Epoch 39/100\n",
            "11/11 [==============================] - 0s 5ms/step - loss: 55.4952 - mae: 5.3995 - mape: 26.9024 - val_loss: 65.3460 - val_mae: 5.7606 - val_mape: 23.7386\n",
            "Epoch 40/100\n",
            "11/11 [==============================] - 0s 4ms/step - loss: 54.9959 - mae: 5.1936 - mape: 24.6921 - val_loss: 64.1281 - val_mae: 5.6886 - val_mape: 23.7080\n",
            "Epoch 41/100\n",
            "11/11 [==============================] - 0s 4ms/step - loss: 54.7242 - mae: 5.3169 - mape: 26.0742 - val_loss: 62.7230 - val_mae: 5.7900 - val_mape: 24.5340\n",
            "Epoch 42/100\n",
            "11/11 [==============================] - 0s 5ms/step - loss: 54.1587 - mae: 5.2701 - mape: 25.9465 - val_loss: 62.8312 - val_mae: 5.6681 - val_mape: 23.6162\n",
            "Epoch 43/100\n",
            "11/11 [==============================] - 0s 4ms/step - loss: 54.1571 - mae: 5.2105 - mape: 25.0824 - val_loss: 61.9828 - val_mae: 5.6210 - val_mape: 23.5642\n",
            "Epoch 44/100\n",
            "11/11 [==============================] - 0s 4ms/step - loss: 53.8152 - mae: 5.1922 - mape: 24.8948 - val_loss: 64.5028 - val_mae: 5.5506 - val_mape: 22.4761\n",
            "Epoch 45/100\n",
            "11/11 [==============================] - 0s 5ms/step - loss: 55.9750 - mae: 5.1999 - mape: 25.1785 - val_loss: 63.1232 - val_mae: 6.1503 - val_mape: 26.8603\n",
            "Epoch 46/100\n",
            "11/11 [==============================] - 0s 5ms/step - loss: 55.1449 - mae: 5.3652 - mape: 27.2469 - val_loss: 65.7050 - val_mae: 5.6019 - val_mape: 22.6282\n",
            "Epoch 47/100\n",
            "11/11 [==============================] - 0s 5ms/step - loss: 53.2625 - mae: 5.0896 - mape: 24.4223 - val_loss: 60.2170 - val_mae: 5.9029 - val_mape: 25.7319\n",
            "Epoch 48/100\n",
            "11/11 [==============================] - 0s 4ms/step - loss: 54.4638 - mae: 5.5983 - mape: 28.7975 - val_loss: 65.5508 - val_mae: 5.5189 - val_mape: 21.9603\n",
            "Epoch 49/100\n",
            "11/11 [==============================] - 0s 6ms/step - loss: 53.7238 - mae: 5.0269 - mape: 23.3703 - val_loss: 59.6691 - val_mae: 5.8686 - val_mape: 25.5821\n",
            "Epoch 50/100\n",
            "11/11 [==============================] - 0s 5ms/step - loss: 54.4379 - mae: 5.6346 - mape: 29.1806 - val_loss: 67.4444 - val_mae: 5.5884 - val_mape: 21.8645\n",
            "Epoch 51/100\n",
            "11/11 [==============================] - 0s 4ms/step - loss: 55.0790 - mae: 5.2084 - mape: 24.7581 - val_loss: 59.0479 - val_mae: 5.6924 - val_mape: 24.5189\n",
            "Epoch 52/100\n",
            "11/11 [==============================] - 0s 4ms/step - loss: 52.6784 - mae: 5.1329 - mape: 25.1114 - val_loss: 61.9126 - val_mae: 5.4297 - val_mape: 21.6453\n",
            "Epoch 53/100\n",
            "11/11 [==============================] - 0s 4ms/step - loss: 50.0634 - mae: 4.9750 - mape: 24.1549 - val_loss: 57.9843 - val_mae: 5.6627 - val_mape: 24.4473\n",
            "Epoch 54/100\n",
            "11/11 [==============================] - 0s 4ms/step - loss: 51.5410 - mae: 5.1642 - mape: 25.8208 - val_loss: 59.4063 - val_mae: 5.3911 - val_mape: 21.9659\n",
            "Epoch 55/100\n",
            "11/11 [==============================] - 0s 4ms/step - loss: 50.8170 - mae: 4.9822 - mape: 24.4224 - val_loss: 57.5487 - val_mae: 5.5404 - val_mape: 23.2342\n",
            "Epoch 56/100\n",
            "11/11 [==============================] - 0s 4ms/step - loss: 51.8894 - mae: 5.2208 - mape: 26.3394 - val_loss: 62.5931 - val_mae: 5.3289 - val_mape: 21.2893\n",
            "Epoch 57/100\n",
            "11/11 [==============================] - 0s 4ms/step - loss: 51.5101 - mae: 4.9987 - mape: 24.1421 - val_loss: 55.9331 - val_mae: 5.4810 - val_mape: 23.3257\n",
            "Epoch 58/100\n",
            "11/11 [==============================] - 0s 4ms/step - loss: 48.7870 - mae: 4.9694 - mape: 24.8664 - val_loss: 58.4195 - val_mae: 5.3918 - val_mape: 21.7185\n",
            "Epoch 59/100\n",
            "11/11 [==============================] - 0s 4ms/step - loss: 49.4850 - mae: 4.8670 - mape: 23.6350 - val_loss: 55.2264 - val_mae: 5.4416 - val_mape: 23.0546\n",
            "Epoch 60/100\n",
            "11/11 [==============================] - 0s 4ms/step - loss: 48.9572 - mae: 4.9649 - mape: 24.2476 - val_loss: 58.0109 - val_mae: 5.2895 - val_mape: 21.1573\n",
            "Epoch 61/100\n",
            "11/11 [==============================] - 0s 4ms/step - loss: 48.6547 - mae: 4.8560 - mape: 23.7257 - val_loss: 54.9111 - val_mae: 5.3849 - val_mape: 22.5494\n",
            "Epoch 62/100\n",
            "11/11 [==============================] - 0s 4ms/step - loss: 48.0720 - mae: 4.9283 - mape: 24.3154 - val_loss: 55.7632 - val_mae: 5.2091 - val_mape: 21.2743\n",
            "Epoch 63/100\n",
            "11/11 [==============================] - 0s 4ms/step - loss: 48.0950 - mae: 4.8981 - mape: 24.2054 - val_loss: 54.4504 - val_mae: 5.3154 - val_mape: 21.8913\n",
            "Epoch 64/100\n",
            "11/11 [==============================] - 0s 4ms/step - loss: 47.8532 - mae: 4.8112 - mape: 23.4363 - val_loss: 52.8639 - val_mae: 5.3954 - val_mape: 23.0664\n",
            "Epoch 65/100\n",
            "11/11 [==============================] - 0s 5ms/step - loss: 47.8480 - mae: 4.9264 - mape: 24.6152 - val_loss: 56.5179 - val_mae: 5.1548 - val_mape: 20.4900\n",
            "Epoch 66/100\n",
            "11/11 [==============================] - 0s 5ms/step - loss: 49.0084 - mae: 4.8921 - mape: 23.7174 - val_loss: 52.4207 - val_mae: 5.4012 - val_mape: 22.9378\n",
            "Epoch 67/100\n",
            "11/11 [==============================] - 0s 4ms/step - loss: 46.9479 - mae: 4.7110 - mape: 22.4550 - val_loss: 54.0199 - val_mae: 5.1891 - val_mape: 21.2774\n",
            "Epoch 68/100\n",
            "11/11 [==============================] - 0s 4ms/step - loss: 46.8287 - mae: 4.7000 - mape: 22.5749 - val_loss: 51.4328 - val_mae: 5.2445 - val_mape: 22.2153\n",
            "Epoch 69/100\n",
            "11/11 [==============================] - 0s 5ms/step - loss: 46.4189 - mae: 4.8038 - mape: 23.7706 - val_loss: 52.2442 - val_mae: 5.0584 - val_mape: 20.5760\n",
            "Epoch 70/100\n",
            "11/11 [==============================] - 0s 4ms/step - loss: 47.7882 - mae: 4.8843 - mape: 23.7088 - val_loss: 51.0578 - val_mae: 5.3163 - val_mape: 22.7859\n",
            "Epoch 71/100\n",
            "11/11 [==============================] - 0s 5ms/step - loss: 45.8102 - mae: 4.7235 - mape: 23.1666 - val_loss: 52.5852 - val_mae: 5.1190 - val_mape: 20.6769\n",
            "Epoch 72/100\n",
            "11/11 [==============================] - 0s 4ms/step - loss: 46.3239 - mae: 4.7701 - mape: 23.4245 - val_loss: 52.3745 - val_mae: 5.0331 - val_mape: 20.4435\n",
            "Epoch 73/100\n",
            "11/11 [==============================] - 0s 6ms/step - loss: 45.8691 - mae: 4.6727 - mape: 22.3719 - val_loss: 50.5025 - val_mae: 5.1540 - val_mape: 21.6405\n",
            "Epoch 74/100\n",
            "11/11 [==============================] - 0s 4ms/step - loss: 46.4676 - mae: 4.7124 - mape: 22.8676 - val_loss: 50.3001 - val_mae: 5.1407 - val_mape: 21.5287\n",
            "Epoch 75/100\n",
            "11/11 [==============================] - 0s 4ms/step - loss: 46.1205 - mae: 4.7118 - mape: 22.8896 - val_loss: 51.3725 - val_mae: 5.5664 - val_mape: 24.6009\n",
            "Epoch 76/100\n",
            "11/11 [==============================] - 0s 4ms/step - loss: 49.8364 - mae: 5.2986 - mape: 27.6544 - val_loss: 60.2966 - val_mae: 5.1644 - val_mape: 19.6265\n",
            "Epoch 77/100\n",
            "11/11 [==============================] - 0s 5ms/step - loss: 49.4625 - mae: 4.8452 - mape: 22.8486 - val_loss: 52.7318 - val_mae: 5.5065 - val_mape: 24.1448\n",
            "Epoch 78/100\n",
            "11/11 [==============================] - 0s 4ms/step - loss: 47.6789 - mae: 4.7575 - mape: 22.6215 - val_loss: 50.5453 - val_mae: 5.0610 - val_mape: 20.7521\n",
            "Epoch 79/100\n",
            "11/11 [==============================] - 0s 7ms/step - loss: 44.7289 - mae: 4.7563 - mape: 23.7375 - val_loss: 51.5192 - val_mae: 4.9595 - val_mape: 19.7710\n",
            "Epoch 80/100\n",
            "11/11 [==============================] - 0s 5ms/step - loss: 44.6591 - mae: 4.5590 - mape: 21.6442 - val_loss: 49.4639 - val_mae: 5.2603 - val_mape: 22.4981\n",
            "Epoch 81/100\n",
            "11/11 [==============================] - 0s 4ms/step - loss: 45.1389 - mae: 4.8454 - mape: 24.1063 - val_loss: 55.3631 - val_mae: 4.9570 - val_mape: 19.2435\n",
            "Epoch 82/100\n",
            "11/11 [==============================] - 0s 5ms/step - loss: 45.7557 - mae: 4.6983 - mape: 22.4760 - val_loss: 49.6716 - val_mae: 5.2082 - val_mape: 22.5025\n",
            "Epoch 83/100\n",
            "11/11 [==============================] - 0s 4ms/step - loss: 46.2005 - mae: 4.8867 - mape: 24.4669 - val_loss: 49.1199 - val_mae: 5.2229 - val_mape: 22.5108\n",
            "Epoch 84/100\n",
            "11/11 [==============================] - 0s 4ms/step - loss: 51.2022 - mae: 5.5889 - mape: 30.6190 - val_loss: 61.8398 - val_mae: 5.2744 - val_mape: 20.0139\n",
            "Epoch 85/100\n",
            "11/11 [==============================] - 0s 4ms/step - loss: 45.5142 - mae: 4.6706 - mape: 22.2654 - val_loss: 48.9108 - val_mae: 5.2231 - val_mape: 22.5008\n",
            "Epoch 86/100\n",
            "11/11 [==============================] - 0s 4ms/step - loss: 44.1035 - mae: 4.6117 - mape: 22.4134 - val_loss: 49.6358 - val_mae: 4.9834 - val_mape: 20.2755\n",
            "Epoch 87/100\n",
            "11/11 [==============================] - 0s 5ms/step - loss: 44.2081 - mae: 4.5553 - mape: 21.8962 - val_loss: 48.8874 - val_mae: 5.1795 - val_mape: 21.9093\n",
            "Epoch 88/100\n",
            "11/11 [==============================] - 0s 5ms/step - loss: 44.3264 - mae: 4.6705 - mape: 22.6479 - val_loss: 48.3101 - val_mae: 4.9196 - val_mape: 20.2095\n",
            "Epoch 89/100\n",
            "11/11 [==============================] - 0s 5ms/step - loss: 42.9127 - mae: 4.5887 - mape: 22.6050 - val_loss: 47.6808 - val_mae: 4.8879 - val_mape: 20.1347\n",
            "Epoch 90/100\n",
            "11/11 [==============================] - 0s 5ms/step - loss: 43.8057 - mae: 4.5284 - mape: 21.9376 - val_loss: 47.1218 - val_mae: 5.0977 - val_mape: 21.8799\n",
            "Epoch 91/100\n",
            "11/11 [==============================] - 0s 6ms/step - loss: 43.4164 - mae: 4.5866 - mape: 22.4343 - val_loss: 47.3723 - val_mae: 4.7520 - val_mape: 19.3357\n",
            "Epoch 92/100\n",
            "11/11 [==============================] - 0s 5ms/step - loss: 42.9429 - mae: 4.7782 - mape: 24.7421 - val_loss: 49.0474 - val_mae: 4.8116 - val_mape: 19.2399\n",
            "Epoch 93/100\n",
            "11/11 [==============================] - 0s 5ms/step - loss: 44.0397 - mae: 4.5699 - mape: 22.0776 - val_loss: 46.8473 - val_mae: 5.2526 - val_mape: 23.0355\n",
            "Epoch 94/100\n",
            "11/11 [==============================] - 0s 5ms/step - loss: 42.9309 - mae: 4.7792 - mape: 24.6305 - val_loss: 51.2217 - val_mae: 4.7390 - val_mape: 18.2365\n",
            "Epoch 95/100\n",
            "11/11 [==============================] - 0s 5ms/step - loss: 43.9800 - mae: 4.5084 - mape: 21.6830 - val_loss: 46.3607 - val_mae: 5.1734 - val_mape: 22.4365\n",
            "Epoch 96/100\n",
            "11/11 [==============================] - 0s 5ms/step - loss: 44.9072 - mae: 4.6519 - mape: 22.4129 - val_loss: 46.3481 - val_mae: 4.7496 - val_mape: 19.3478\n",
            "Epoch 97/100\n",
            "11/11 [==============================] - 0s 7ms/step - loss: 41.9602 - mae: 4.6322 - mape: 23.2370 - val_loss: 46.7374 - val_mae: 4.7197 - val_mape: 19.0133\n",
            "Epoch 98/100\n",
            "11/11 [==============================] - 0s 5ms/step - loss: 41.7937 - mae: 4.4064 - mape: 21.1840 - val_loss: 46.2637 - val_mae: 5.3254 - val_mape: 23.5312\n",
            "Epoch 99/100\n",
            "11/11 [==============================] - 0s 5ms/step - loss: 44.0744 - mae: 4.9388 - mape: 25.5183 - val_loss: 50.4674 - val_mae: 4.7725 - val_mape: 18.5518\n",
            "Epoch 100/100\n",
            "11/11 [==============================] - 0s 5ms/step - loss: 42.6762 - mae: 4.5449 - mape: 22.2483 - val_loss: 45.6232 - val_mae: 4.7354 - val_mape: 19.5939\n"
          ]
        },
        {
          "output_type": "display_data",
          "data": {
            "text/plain": [
              "<Figure size 432x288 with 1 Axes>"
            ],
            "image/png": "[encoded data removed]"
          },
          "metadata": {
            "needs_background": "light"
          }
        },
        {
          "output_type": "stream",
          "name": "stdout",
          "text": [
            "4/4 [==============================] - 0s 3ms/step - loss: 47.1403 - mae: 4.8185 - mape: 24.6284\n",
            "loss= 47.14030456542969\n",
            "mae= 4.818527698516846\n",
            "mape= 24.62841796875\n"
          ]
        },
        {
          "output_type": "display_data",
          "data": {
            "text/plain": [
              "<Figure size 432x288 with 1 Axes>"
            ],
            "image/png": "[encoded data removed]"
          },
          "metadata": {
            "needs_background": "light"
          }
        }
      ]
    },
    {
      "cell_type": "markdown",
      "metadata": {
        "id": "E3WqrBF85f6m"
      },
      "source": [
        "## 분류 작업\n",
        "일반적으로 정확도를 지표로 사용한다.\n",
        "- 'acc' : accuracy, 정확도. 예측한 것중 정확히 예측한 비율.\n"
      ]
    },
    {
      "cell_type": "code",
      "metadata": {
        "id": "wgYuro2G9iUo"
      },
      "source": [
        "import numpy as np\n",
        "import pandas as pd\n",
        "import matplotlib.pyplot as plt\n",
        "\n",
        "import tensorflow as tf\n",
        "\n",
        "from tensorflow import keras\n",
        "from tensorflow.keras import optimizers\n",
        "from tensorflow.keras.layers import Dense, Input"
      ],
      "execution_count": null,
      "outputs": []
    },
    {
      "cell_type": "code",
      "metadata": {
        "id": "l0AU0mVz9iUp"
      },
      "source": [
        "def load_iris_data():\n",
        "\n",
        "  df = pd.read_csv(\"https://raw.githubusercontent.com/dhrim/keras_howto_2021/master/data/iris_with_category_index.csv\")\n",
        "  data = df.to_numpy()\n",
        "  np.random.shuffle(data)\n",
        "\n",
        "  x = data[:,:4]\n",
        "  y = data[:,4]\n",
        "\n",
        "  split_index = int(len(x)*0.8)\n",
        "  train_x, test_x = x[:split_index], x[split_index:]\n",
        "  train_y, test_y = y[:split_index], y[split_index:]\n",
        "\n",
        "  return (train_x, train_y), (test_x, test_y)\n"
      ],
      "execution_count": null,
      "outputs": []
    },
    {
      "cell_type": "code",
      "metadata": {
        "id": "H_NAbe7m9iUq"
      },
      "source": [
        "(train_x, train_y), (test_x, test_y) = load_iris_data()"
      ],
      "execution_count": null,
      "outputs": []
    },
    {
      "cell_type": "code",
      "metadata": {
        "colab": {
          "base_uri": "https://localhost:8080/",
          "height": 1000
        },
        "id": "ERNAPqfH9iUq",
        "outputId": "028180bf-8819-47bf-b1fc-c04d66cac61d"
      },
      "source": [
        "# 모델 정의\n",
        "model = keras.Sequential()\n",
        "model.add(Input(4))\n",
        "model.add(Dense(10, activation='relu'))\n",
        "model.add(Dense(10, activation='relu'))\n",
        "model.add(Dense(3, activation=\"softmax\"))\n",
        "\n",
        "\n",
        "# 모델 컴파일\n",
        "model.compile(optimizer=\"Adam\", loss=\"sparse_categorical_crossentropy\", metrics=[\"acc\"])\n",
        "model.summary()\n",
        "\n",
        "\n",
        "# 모델 학습\n",
        "history = model.fit(train_x, train_y, epochs=100, batch_size=32, validation_split=0.2)\n",
        "\n",
        "\n",
        "# 학습 로스 보기\n",
        "plt.plot(history.history['loss'], label=\"loss\")\n",
        "plt.plot(history.history['val_loss'], label=\"val_loss\")\n",
        "plt.legend()\n",
        "plt.show()\n",
        "\n",
        "\n",
        "# 평가\n",
        "loss, acc = model.evaluate(test_x, test_y)\n",
        "print(\"loss=\", loss)\n",
        "print(\"acc=\", acc)\n",
        "\n",
        "\n",
        "# 예측\n",
        "y_ = model.predict(test_x)\n",
        "predicted = np.argmax(y_, axis=-1)\n",
        "\n",
        "\n",
        "# 예측 결과 보기\n",
        "plt.plot(test_y, \"o\")\n",
        "plt.plot(predicted, \".\")\n",
        "plt.show()\n"
      ],
      "execution_count": null,
      "outputs": [
        {
          "output_type": "stream",
          "name": "stdout",
          "text": [
            "Model: \"sequential_3\"\n",
            "_________________________________________________________________\n",
            "Layer (type)                 Output Shape              Param #   \n",
            "=================================================================\n",
            "dense_9 (Dense)              (None, 10)                50        \n",
            "_________________________________________________________________\n",
            "dense_10 (Dense)             (None, 10)                110       \n",
            "_________________________________________________________________\n",
            "dense_11 (Dense)             (None, 3)                 33        \n",
            "=================================================================\n",
            "Total params: 193\n",
            "Trainable params: 193\n",
            "Non-trainable params: 0\n",
            "_________________________________________________________________\n",
            "Epoch 1/100\n",
            "3/3 [==============================] - 0s 75ms/step - loss: 1.9523 - acc: 0.2895 - val_loss: 1.8090 - val_acc: 0.2000\n",
            "Epoch 2/100\n",
            "3/3 [==============================] - 0s 20ms/step - loss: 1.8821 - acc: 0.2632 - val_loss: 1.7285 - val_acc: 0.2000\n",
            "Epoch 3/100\n",
            "3/3 [==============================] - 0s 12ms/step - loss: 1.8160 - acc: 0.2368 - val_loss: 1.6557 - val_acc: 0.2000\n",
            "Epoch 4/100\n",
            "3/3 [==============================] - 0s 13ms/step - loss: 1.7589 - acc: 0.2105 - val_loss: 1.5910 - val_acc: 0.2000\n",
            "Epoch 5/100\n",
            "3/3 [==============================] - 0s 14ms/step - loss: 1.7048 - acc: 0.1579 - val_loss: 1.5353 - val_acc: 0.1000\n",
            "Epoch 6/100\n",
            "3/3 [==============================] - 0s 20ms/step - loss: 1.6627 - acc: 0.1316 - val_loss: 1.4939 - val_acc: 0.0500\n",
            "Epoch 7/100\n",
            "3/3 [==============================] - 0s 11ms/step - loss: 1.6167 - acc: 0.1184 - val_loss: 1.4609 - val_acc: 0.0500\n",
            "Epoch 8/100\n",
            "3/3 [==============================] - 0s 11ms/step - loss: 1.5763 - acc: 0.1184 - val_loss: 1.4276 - val_acc: 0.0500\n",
            "Epoch 9/100\n",
            "3/3 [==============================] - 0s 21ms/step - loss: 1.5383 - acc: 0.1184 - val_loss: 1.3967 - val_acc: 0.0500\n",
            "Epoch 10/100\n",
            "3/3 [==============================] - 0s 11ms/step - loss: 1.4970 - acc: 0.1184 - val_loss: 1.3688 - val_acc: 0.0500\n",
            "Epoch 11/100\n",
            "3/3 [==============================] - 0s 12ms/step - loss: 1.4591 - acc: 0.1184 - val_loss: 1.3435 - val_acc: 0.1000\n",
            "Epoch 12/100\n",
            "3/3 [==============================] - 0s 11ms/step - loss: 1.4246 - acc: 0.1316 - val_loss: 1.3199 - val_acc: 0.1500\n",
            "Epoch 13/100\n",
            "3/3 [==============================] - 0s 14ms/step - loss: 1.3883 - acc: 0.1447 - val_loss: 1.2933 - val_acc: 0.1000\n",
            "Epoch 14/100\n",
            "3/3 [==============================] - 0s 13ms/step - loss: 1.3548 - acc: 0.1447 - val_loss: 1.2665 - val_acc: 0.1000\n",
            "Epoch 15/100\n",
            "3/3 [==============================] - 0s 13ms/step - loss: 1.3255 - acc: 0.1316 - val_loss: 1.2430 - val_acc: 0.1000\n",
            "Epoch 16/100\n",
            "3/3 [==============================] - 0s 11ms/step - loss: 1.2945 - acc: 0.1184 - val_loss: 1.2209 - val_acc: 0.1000\n",
            "Epoch 17/100\n",
            "3/3 [==============================] - 0s 11ms/step - loss: 1.2670 - acc: 0.1316 - val_loss: 1.2023 - val_acc: 0.1500\n",
            "Epoch 18/100\n",
            "3/3 [==============================] - 0s 20ms/step - loss: 1.2388 - acc: 0.1447 - val_loss: 1.1889 - val_acc: 0.2000\n",
            "Epoch 19/100\n",
            "3/3 [==============================] - 0s 19ms/step - loss: 1.2127 - acc: 0.1447 - val_loss: 1.1744 - val_acc: 0.2000\n",
            "Epoch 20/100\n",
            "3/3 [==============================] - 0s 10ms/step - loss: 1.1870 - acc: 0.1579 - val_loss: 1.1600 - val_acc: 0.2000\n",
            "Epoch 21/100\n",
            "3/3 [==============================] - 0s 10ms/step - loss: 1.1625 - acc: 0.2105 - val_loss: 1.1440 - val_acc: 0.2000\n",
            "Epoch 22/100\n",
            "3/3 [==============================] - 0s 19ms/step - loss: 1.1363 - acc: 0.2105 - val_loss: 1.1239 - val_acc: 0.2000\n",
            "Epoch 23/100\n",
            "3/3 [==============================] - 0s 11ms/step - loss: 1.1087 - acc: 0.2105 - val_loss: 1.1047 - val_acc: 0.2000\n",
            "Epoch 24/100\n",
            "3/3 [==============================] - 0s 10ms/step - loss: 1.0846 - acc: 0.2368 - val_loss: 1.0849 - val_acc: 0.2000\n",
            "Epoch 25/100\n",
            "3/3 [==============================] - 0s 11ms/step - loss: 1.0573 - acc: 0.2237 - val_loss: 1.0638 - val_acc: 0.2000\n",
            "Epoch 26/100\n",
            "3/3 [==============================] - 0s 12ms/step - loss: 1.0334 - acc: 0.1974 - val_loss: 1.0428 - val_acc: 0.2000\n",
            "Epoch 27/100\n",
            "3/3 [==============================] - 0s 13ms/step - loss: 1.0091 - acc: 0.1974 - val_loss: 1.0277 - val_acc: 0.2000\n",
            "Epoch 28/100\n",
            "3/3 [==============================] - 0s 10ms/step - loss: 0.9843 - acc: 0.2368 - val_loss: 1.0154 - val_acc: 0.2000\n",
            "Epoch 29/100\n",
            "3/3 [==============================] - 0s 10ms/step - loss: 0.9643 - acc: 0.2237 - val_loss: 1.0031 - val_acc: 0.2000\n",
            "Epoch 30/100\n",
            "3/3 [==============================] - 0s 19ms/step - loss: 0.9432 - acc: 0.2632 - val_loss: 0.9868 - val_acc: 0.2000\n",
            "Epoch 31/100\n",
            "3/3 [==============================] - 0s 19ms/step - loss: 0.9297 - acc: 0.1974 - val_loss: 0.9694 - val_acc: 0.2000\n",
            "Epoch 32/100\n",
            "3/3 [==============================] - 0s 10ms/step - loss: 0.9183 - acc: 0.1711 - val_loss: 0.9560 - val_acc: 0.2500\n",
            "Epoch 33/100\n",
            "3/3 [==============================] - 0s 10ms/step - loss: 0.9085 - acc: 0.2237 - val_loss: 0.9450 - val_acc: 0.3000\n",
            "Epoch 34/100\n",
            "3/3 [==============================] - 0s 11ms/step - loss: 0.8988 - acc: 0.3421 - val_loss: 0.9366 - val_acc: 0.3000\n",
            "Epoch 35/100\n",
            "3/3 [==============================] - 0s 11ms/step - loss: 0.8892 - acc: 0.5000 - val_loss: 0.9301 - val_acc: 0.3500\n",
            "Epoch 36/100\n",
            "3/3 [==============================] - 0s 10ms/step - loss: 0.8793 - acc: 0.5526 - val_loss: 0.9207 - val_acc: 0.4000\n",
            "Epoch 37/100\n",
            "3/3 [==============================] - 0s 11ms/step - loss: 0.8698 - acc: 0.6316 - val_loss: 0.9121 - val_acc: 0.5000\n",
            "Epoch 38/100\n",
            "3/3 [==============================] - 0s 10ms/step - loss: 0.8607 - acc: 0.6316 - val_loss: 0.9032 - val_acc: 0.5000\n",
            "Epoch 39/100\n",
            "3/3 [==============================] - 0s 12ms/step - loss: 0.8507 - acc: 0.6316 - val_loss: 0.8912 - val_acc: 0.5000\n",
            "Epoch 40/100\n",
            "3/3 [==============================] - 0s 10ms/step - loss: 0.8418 - acc: 0.6053 - val_loss: 0.8791 - val_acc: 0.5000\n",
            "Epoch 41/100\n",
            "3/3 [==============================] - 0s 10ms/step - loss: 0.8340 - acc: 0.6184 - val_loss: 0.8681 - val_acc: 0.5000\n",
            "Epoch 42/100\n",
            "3/3 [==============================] - 0s 10ms/step - loss: 0.8246 - acc: 0.6184 - val_loss: 0.8611 - val_acc: 0.5000\n",
            "Epoch 43/100\n",
            "3/3 [==============================] - 0s 10ms/step - loss: 0.8151 - acc: 0.6053 - val_loss: 0.8574 - val_acc: 0.5000\n",
            "Epoch 44/100\n",
            "3/3 [==============================] - 0s 11ms/step - loss: 0.8051 - acc: 0.6579 - val_loss: 0.8548 - val_acc: 0.5000\n",
            "Epoch 45/100\n",
            "3/3 [==============================] - 0s 12ms/step - loss: 0.7960 - acc: 0.7368 - val_loss: 0.8529 - val_acc: 0.5000\n",
            "Epoch 46/100\n",
            "3/3 [==============================] - 0s 12ms/step - loss: 0.7863 - acc: 0.7237 - val_loss: 0.8488 - val_acc: 0.5500\n",
            "Epoch 47/100\n",
            "3/3 [==============================] - 0s 10ms/step - loss: 0.7773 - acc: 0.7237 - val_loss: 0.8445 - val_acc: 0.5500\n",
            "Epoch 48/100\n",
            "3/3 [==============================] - 0s 20ms/step - loss: 0.7685 - acc: 0.7368 - val_loss: 0.8391 - val_acc: 0.5500\n",
            "Epoch 49/100\n",
            "3/3 [==============================] - 0s 10ms/step - loss: 0.7595 - acc: 0.7368 - val_loss: 0.8299 - val_acc: 0.5500\n",
            "Epoch 50/100\n",
            "3/3 [==============================] - 0s 10ms/step - loss: 0.7507 - acc: 0.7368 - val_loss: 0.8223 - val_acc: 0.5500\n",
            "Epoch 51/100\n",
            "3/3 [==============================] - 0s 11ms/step - loss: 0.7413 - acc: 0.7368 - val_loss: 0.8131 - val_acc: 0.5500\n",
            "Epoch 52/100\n",
            "3/3 [==============================] - 0s 10ms/step - loss: 0.7325 - acc: 0.7368 - val_loss: 0.8023 - val_acc: 0.5500\n",
            "Epoch 53/100\n",
            "3/3 [==============================] - 0s 10ms/step - loss: 0.7237 - acc: 0.7368 - val_loss: 0.7932 - val_acc: 0.5500\n",
            "Epoch 54/100\n",
            "3/3 [==============================] - 0s 12ms/step - loss: 0.7150 - acc: 0.7368 - val_loss: 0.7860 - val_acc: 0.5500\n",
            "Epoch 55/100\n",
            "3/3 [==============================] - 0s 11ms/step - loss: 0.7070 - acc: 0.7368 - val_loss: 0.7823 - val_acc: 0.5500\n",
            "Epoch 56/100\n",
            "3/3 [==============================] - 0s 10ms/step - loss: 0.6981 - acc: 0.7368 - val_loss: 0.7738 - val_acc: 0.5500\n",
            "Epoch 57/100\n",
            "3/3 [==============================] - 0s 11ms/step - loss: 0.6892 - acc: 0.7368 - val_loss: 0.7662 - val_acc: 0.5500\n",
            "Epoch 58/100\n",
            "3/3 [==============================] - 0s 11ms/step - loss: 0.6813 - acc: 0.7368 - val_loss: 0.7566 - val_acc: 0.5500\n",
            "Epoch 59/100\n",
            "3/3 [==============================] - 0s 11ms/step - loss: 0.6731 - acc: 0.7368 - val_loss: 0.7453 - val_acc: 0.5500\n",
            "Epoch 60/100\n",
            "3/3 [==============================] - 0s 11ms/step - loss: 0.6651 - acc: 0.7368 - val_loss: 0.7380 - val_acc: 0.5500\n",
            "Epoch 61/100\n",
            "3/3 [==============================] - 0s 12ms/step - loss: 0.6570 - acc: 0.7368 - val_loss: 0.7354 - val_acc: 0.5500\n",
            "Epoch 62/100\n",
            "3/3 [==============================] - 0s 11ms/step - loss: 0.6496 - acc: 0.7368 - val_loss: 0.7313 - val_acc: 0.5500\n",
            "Epoch 63/100\n",
            "3/3 [==============================] - 0s 10ms/step - loss: 0.6435 - acc: 0.7368 - val_loss: 0.7261 - val_acc: 0.5500\n",
            "Epoch 64/100\n",
            "3/3 [==============================] - 0s 13ms/step - loss: 0.6366 - acc: 0.7368 - val_loss: 0.7160 - val_acc: 0.5500\n",
            "Epoch 65/100\n",
            "3/3 [==============================] - 0s 11ms/step - loss: 0.6294 - acc: 0.7368 - val_loss: 0.7122 - val_acc: 0.5500\n",
            "Epoch 66/100\n",
            "3/3 [==============================] - 0s 12ms/step - loss: 0.6226 - acc: 0.7368 - val_loss: 0.7079 - val_acc: 0.5500\n",
            "Epoch 67/100\n",
            "3/3 [==============================] - 0s 10ms/step - loss: 0.6154 - acc: 0.7368 - val_loss: 0.7061 - val_acc: 0.5500\n",
            "Epoch 68/100\n",
            "3/3 [==============================] - 0s 10ms/step - loss: 0.6092 - acc: 0.7368 - val_loss: 0.7049 - val_acc: 0.5500\n",
            "Epoch 69/100\n",
            "3/3 [==============================] - 0s 10ms/step - loss: 0.6028 - acc: 0.7368 - val_loss: 0.7039 - val_acc: 0.5500\n",
            "Epoch 70/100\n",
            "3/3 [==============================] - 0s 10ms/step - loss: 0.5993 - acc: 0.7368 - val_loss: 0.7044 - val_acc: 0.5500\n",
            "Epoch 71/100\n",
            "3/3 [==============================] - 0s 10ms/step - loss: 0.5910 - acc: 0.7368 - val_loss: 0.6959 - val_acc: 0.5500\n",
            "Epoch 72/100\n",
            "3/3 [==============================] - 0s 11ms/step - loss: 0.5842 - acc: 0.7368 - val_loss: 0.6834 - val_acc: 0.5500\n",
            "Epoch 73/100\n",
            "3/3 [==============================] - 0s 11ms/step - loss: 0.5777 - acc: 0.7368 - val_loss: 0.6718 - val_acc: 0.5500\n",
            "Epoch 74/100\n",
            "3/3 [==============================] - 0s 10ms/step - loss: 0.5736 - acc: 0.7500 - val_loss: 0.6593 - val_acc: 0.5500\n",
            "Epoch 75/100\n",
            "3/3 [==============================] - 0s 10ms/step - loss: 0.5674 - acc: 0.7632 - val_loss: 0.6532 - val_acc: 0.6000\n",
            "Epoch 76/100\n",
            "3/3 [==============================] - 0s 10ms/step - loss: 0.5610 - acc: 0.7632 - val_loss: 0.6521 - val_acc: 0.5500\n",
            "Epoch 77/100\n",
            "3/3 [==============================] - 0s 11ms/step - loss: 0.5553 - acc: 0.7500 - val_loss: 0.6498 - val_acc: 0.5500\n",
            "Epoch 78/100\n",
            "3/3 [==============================] - 0s 11ms/step - loss: 0.5500 - acc: 0.7368 - val_loss: 0.6474 - val_acc: 0.5500\n",
            "Epoch 79/100\n",
            "3/3 [==============================] - 0s 10ms/step - loss: 0.5442 - acc: 0.7368 - val_loss: 0.6465 - val_acc: 0.5500\n",
            "Epoch 80/100\n",
            "3/3 [==============================] - 0s 11ms/step - loss: 0.5391 - acc: 0.7368 - val_loss: 0.6462 - val_acc: 0.5500\n",
            "Epoch 81/100\n",
            "3/3 [==============================] - 0s 12ms/step - loss: 0.5356 - acc: 0.7368 - val_loss: 0.6455 - val_acc: 0.5500\n",
            "Epoch 82/100\n",
            "3/3 [==============================] - 0s 10ms/step - loss: 0.5302 - acc: 0.7368 - val_loss: 0.6388 - val_acc: 0.5500\n",
            "Epoch 83/100\n",
            "3/3 [==============================] - 0s 10ms/step - loss: 0.5248 - acc: 0.7368 - val_loss: 0.6288 - val_acc: 0.5500\n",
            "Epoch 84/100\n",
            "3/3 [==============================] - 0s 10ms/step - loss: 0.5199 - acc: 0.7368 - val_loss: 0.6178 - val_acc: 0.5500\n",
            "Epoch 85/100\n",
            "3/3 [==============================] - 0s 10ms/step - loss: 0.5152 - acc: 0.7763 - val_loss: 0.6073 - val_acc: 0.6000\n",
            "Epoch 86/100\n",
            "3/3 [==============================] - 0s 10ms/step - loss: 0.5109 - acc: 0.7895 - val_loss: 0.6002 - val_acc: 0.6500\n",
            "Epoch 87/100\n",
            "3/3 [==============================] - 0s 15ms/step - loss: 0.5070 - acc: 0.8158 - val_loss: 0.5934 - val_acc: 0.7500\n",
            "Epoch 88/100\n",
            "3/3 [==============================] - 0s 10ms/step - loss: 0.5032 - acc: 0.8553 - val_loss: 0.5899 - val_acc: 0.7500\n",
            "Epoch 89/100\n",
            "3/3 [==============================] - 0s 12ms/step - loss: 0.4990 - acc: 0.8421 - val_loss: 0.5859 - val_acc: 0.7500\n",
            "Epoch 90/100\n",
            "3/3 [==============================] - 0s 12ms/step - loss: 0.4950 - acc: 0.8421 - val_loss: 0.5818 - val_acc: 0.7500\n",
            "Epoch 91/100\n",
            "3/3 [==============================] - 0s 10ms/step - loss: 0.4909 - acc: 0.8553 - val_loss: 0.5773 - val_acc: 0.8000\n",
            "Epoch 92/100\n",
            "3/3 [==============================] - 0s 20ms/step - loss: 0.4875 - acc: 0.8553 - val_loss: 0.5741 - val_acc: 0.8000\n",
            "Epoch 93/100\n",
            "3/3 [==============================] - 0s 10ms/step - loss: 0.4841 - acc: 0.8553 - val_loss: 0.5686 - val_acc: 0.8000\n",
            "Epoch 94/100\n",
            "3/3 [==============================] - 0s 10ms/step - loss: 0.4803 - acc: 0.8553 - val_loss: 0.5660 - val_acc: 0.8000\n",
            "Epoch 95/100\n",
            "3/3 [==============================] - 0s 24ms/step - loss: 0.4769 - acc: 0.8553 - val_loss: 0.5641 - val_acc: 0.8000\n",
            "Epoch 96/100\n",
            "3/3 [==============================] - 0s 12ms/step - loss: 0.4733 - acc: 0.8553 - val_loss: 0.5614 - val_acc: 0.8000\n",
            "Epoch 97/100\n",
            "3/3 [==============================] - 0s 13ms/step - loss: 0.4707 - acc: 0.8158 - val_loss: 0.5637 - val_acc: 0.6500\n",
            "Epoch 98/100\n",
            "3/3 [==============================] - 0s 15ms/step - loss: 0.4660 - acc: 0.8158 - val_loss: 0.5619 - val_acc: 0.6500\n",
            "Epoch 99/100\n",
            "3/3 [==============================] - 0s 14ms/step - loss: 0.4623 - acc: 0.8026 - val_loss: 0.5625 - val_acc: 0.6500\n",
            "Epoch 100/100\n",
            "3/3 [==============================] - 0s 10ms/step - loss: 0.4595 - acc: 0.7763 - val_loss: 0.5613 - val_acc: 0.6000\n"
          ]
        },
        {
          "output_type": "display_data",
          "data": {
            "text/plain": [
              "<Figure size 432x288 with 1 Axes>"
            ],
            "image/png": "[encoded data removed]"
          },
          "metadata": {
            "needs_background": "light"
          }
        },
        {
          "output_type": "stream",
          "name": "stdout",
          "text": [
            "1/1 [==============================] - 0s 14ms/step - loss: 0.6298 - acc: 0.5833\n",
            "loss= 0.6297639608383179\n",
            "acc= 0.5833333134651184\n"
          ]
        },
        {
          "output_type": "display_data",
          "data": {
            "text/plain": [
              "<Figure size 432x288 with 1 Axes>"
            ],
            "image/png": "[encoded data removed]"
          },
          "metadata": {
            "needs_background": "light"
          }
        }
      ]
    },
    {
      "cell_type": "markdown",
      "metadata": {
        "id": "kW3KaX4KYy2n"
      },
      "source": [
        "## 2진 분류 작업\n",
        "\n",
        "만약 카테고리가 2개 이면 다음 지표를 설정할 수 있다.\n",
        "- 'AUC', or AUC() : area under curve, ROC 그래프의 곡선 아래 면적\n",
        "- Precision() : 정밀도. 긍정이랴 예측한 것중 정확히 예측한 비율\n",
        "- Recall() : 회수율. 긍정 정답 중에 찾아낸 비율\n"
      ]
    },
    {
      "cell_type": "code",
      "metadata": {
        "id": "xpW7fz0HY11x"
      },
      "source": [
        "import numpy as np\n",
        "import pandas as pd\n",
        "import matplotlib.pyplot as plt\n",
        "\n",
        "import tensorflow as tf\n",
        "\n",
        "from tensorflow import keras\n",
        "from tensorflow.keras import optimizers\n",
        "from tensorflow.keras.layers import Dense, Input"
      ],
      "execution_count": null,
      "outputs": []
    },
    {
      "cell_type": "code",
      "metadata": {
        "id": "fPWpuAlwY11y"
      },
      "source": [
        "def load_sonar_data():\n",
        "\n",
        "  df = pd.read_csv(\"https://raw.githubusercontent.com/dhrim/keras_howto_2021/master/data/sonar.csv\")\n",
        "  data = df.to_numpy()\n",
        "  np.random.shuffle(data)\n",
        "\n",
        "  x = data[:,:60]\n",
        "  y = data[:,60]\n",
        "\n",
        "  split_index = int(len(x)*0.8)\n",
        "  train_x, test_x = x[:split_index], x[split_index:]\n",
        "  train_y, test_y = y[:split_index], y[split_index:]\n",
        "\n",
        "  return (train_x, train_y), (test_x, test_y)\n"
      ],
      "execution_count": null,
      "outputs": []
    },
    {
      "cell_type": "code",
      "metadata": {
        "id": "try-cpkgY11z"
      },
      "source": [
        "(train_x, train_y), (test_x, test_y) = load_sonar_data()"
      ],
      "execution_count": null,
      "outputs": []
    },
    {
      "cell_type": "code",
      "metadata": {
        "colab": {
          "base_uri": "https://localhost:8080/"
        },
        "id": "lCOtjJcnaDwm",
        "outputId": "aa1068bd-f96d-40be-fb7a-4f3e8b40e473"
      },
      "source": [
        "print(train_x.shape)\n",
        "print(train_y.shape)"
      ],
      "execution_count": null,
      "outputs": [
        {
          "output_type": "stream",
          "name": "stdout",
          "text": [
            "(165, 60)\n",
            "(165,)\n"
          ]
        }
      ]
    },
    {
      "cell_type": "code",
      "metadata": {
        "colab": {
          "base_uri": "https://localhost:8080/"
        },
        "id": "Q8-llvKhaH9z",
        "outputId": "072bc14a-54b3-432a-91d0-cc1d576a2b24"
      },
      "source": [
        "print(train_x[0])\n",
        "print(train_y[:10])"
      ],
      "execution_count": null,
      "outputs": [
        {
          "output_type": "stream",
          "name": "stdout",
          "text": [
            "[0.0654 0.0649 0.0737 0.1132 0.2482 0.1257 0.1797 0.0989 0.246  0.3422\n",
            " 0.2128 0.1377 0.4032 0.5684 0.2398 0.4331 0.5954 0.5772 0.8176 0.8835\n",
            " 0.5248 0.6373 0.8375 0.6699 0.7756 0.875  0.83   0.6896 0.3372 0.6405\n",
            " 0.7138 0.8202 0.6657 0.5254 0.296  0.0704 0.097  0.3941 0.6028 0.3521\n",
            " 0.3924 0.4808 0.4602 0.4164 0.5438 0.5649 0.3195 0.2484 0.1299 0.0825\n",
            " 0.0243 0.021  0.0361 0.0239 0.0447 0.0394 0.0355 0.044  0.0243 0.0098]\n",
            "[1. 1. 0. 1. 0. 0. 1. 1. 1. 0.]\n"
          ]
        }
      ]
    },
    {
      "cell_type": "code",
      "metadata": {
        "colab": {
          "base_uri": "https://localhost:8080/",
          "height": 1000
        },
        "id": "mvfcIQNZY110",
        "outputId": "614e66dc-1f82-4ece-f93a-16f352bcae25"
      },
      "source": [
        "from tensorflow.keras.metrics import AUC, Precision, Recall\n",
        "\n",
        "# 모델 정의\n",
        "model = keras.Sequential()\n",
        "model.add(Input(60))\n",
        "model.add(Dense(10, activation='relu'))\n",
        "model.add(Dense(10, activation='relu'))\n",
        "model.add(Dense(1, activation=\"sigmoid\"))\n",
        "\n",
        "\n",
        "# 모델 컴파일\n",
        "model.compile(optimizer=\"Adam\", loss=\"binary_crossentropy\", metrics=[\"acc\", \"AUC\", Precision(), Recall()])\n",
        "model.summary()\n",
        "\n",
        "\n",
        "# 모델 학습\n",
        "history = model.fit(train_x, train_y, epochs=100, batch_size=32, validation_split=0.2)\n",
        "\n",
        "\n",
        "# 학습 로스 보기\n",
        "plt.plot(history.history['loss'], label=\"loss\")\n",
        "plt.plot(history.history['val_loss'], label=\"val_loss\")\n",
        "plt.legend()\n",
        "plt.show()\n",
        "\n",
        "\n",
        "# 평가\n",
        "loss, acc, auc, precision, recall = model.evaluate(test_x, test_y)\n",
        "print(\"loss=\", loss)\n",
        "print(\"acc=\", acc)\n",
        "print(\"auc=\", auc)\n",
        "print(\"precision=\", precision)\n",
        "print(\"recall=\", recall)\n",
        "\n",
        "\n",
        "# 예측\n",
        "y_ = model.predict(test_x)\n",
        "predicted = (y_>0.5).astype(np.int)\n",
        "\n",
        "\n",
        "# 예측 결과 보기\n",
        "plt.plot(test_y, \"o\")\n",
        "plt.plot(predicted, \".\")\n",
        "plt.show()\n"
      ],
      "execution_count": 20,
      "outputs": [
        {
          "output_type": "stream",
          "name": "stdout",
          "text": [
            "Model: \"sequential_5\"\n",
            "_________________________________________________________________\n",
            "Layer (type)                 Output Shape              Param #   \n",
            "=================================================================\n",
            "dense_15 (Dense)             (None, 10)                610       \n",
            "_________________________________________________________________\n",
            "dense_16 (Dense)             (None, 10)                110       \n",
            "_________________________________________________________________\n",
            "dense_17 (Dense)             (None, 1)                 11        \n",
            "=================================================================\n",
            "Total params: 731\n",
            "Trainable params: 731\n",
            "Non-trainable params: 0\n",
            "_________________________________________________________________\n",
            "Epoch 1/100\n",
            "5/5 [==============================] - 1s 97ms/step - loss: 0.7001 - acc: 0.4621 - auc: 0.5675 - precision: 0.3333 - recall: 0.0758 - val_loss: 0.6895 - val_acc: 0.4545 - val_auc: 0.6241 - val_precision: 0.5000 - val_recall: 0.2222\n",
            "Epoch 2/100\n",
            "5/5 [==============================] - 0s 11ms/step - loss: 0.6925 - acc: 0.6061 - auc: 0.6028 - precision: 0.7059 - recall: 0.3636 - val_loss: 0.6869 - val_acc: 0.6061 - val_auc: 0.6019 - val_precision: 0.6667 - val_recall: 0.5556\n",
            "Epoch 3/100\n",
            "5/5 [==============================] - 0s 9ms/step - loss: 0.6866 - acc: 0.6439 - auc: 0.6329 - precision: 0.6667 - recall: 0.5758 - val_loss: 0.6853 - val_acc: 0.6364 - val_auc: 0.5741 - val_precision: 0.6667 - val_recall: 0.6667\n",
            "Epoch 4/100\n",
            "5/5 [==============================] - 0s 9ms/step - loss: 0.6825 - acc: 0.6742 - auc: 0.6461 - precision: 0.6620 - recall: 0.7121 - val_loss: 0.6838 - val_acc: 0.6061 - val_auc: 0.5815 - val_precision: 0.6190 - val_recall: 0.7222\n",
            "Epoch 5/100\n",
            "5/5 [==============================] - 0s 10ms/step - loss: 0.6780 - acc: 0.6970 - auc: 0.6556 - precision: 0.6667 - recall: 0.7879 - val_loss: 0.6818 - val_acc: 0.6061 - val_auc: 0.5907 - val_precision: 0.6190 - val_recall: 0.7222\n",
            "Epoch 6/100\n",
            "5/5 [==============================] - 0s 9ms/step - loss: 0.6753 - acc: 0.6894 - auc: 0.6645 - precision: 0.6582 - recall: 0.7879 - val_loss: 0.6796 - val_acc: 0.6061 - val_auc: 0.5981 - val_precision: 0.6087 - val_recall: 0.7778\n",
            "Epoch 7/100\n",
            "5/5 [==============================] - 0s 9ms/step - loss: 0.6734 - acc: 0.6591 - auc: 0.6648 - precision: 0.6265 - recall: 0.7879 - val_loss: 0.6778 - val_acc: 0.6364 - val_auc: 0.6056 - val_precision: 0.6250 - val_recall: 0.8333\n",
            "Epoch 8/100\n",
            "5/5 [==============================] - 0s 10ms/step - loss: 0.6716 - acc: 0.6515 - auc: 0.6663 - precision: 0.6163 - recall: 0.8030 - val_loss: 0.6769 - val_acc: 0.6061 - val_auc: 0.6019 - val_precision: 0.6000 - val_recall: 0.8333\n",
            "Epoch 9/100\n",
            "5/5 [==============================] - 0s 9ms/step - loss: 0.6703 - acc: 0.6515 - auc: 0.6723 - precision: 0.6163 - recall: 0.8030 - val_loss: 0.6762 - val_acc: 0.5758 - val_auc: 0.6000 - val_precision: 0.5769 - val_recall: 0.8333\n",
            "Epoch 10/100\n",
            "5/5 [==============================] - 0s 10ms/step - loss: 0.6683 - acc: 0.6591 - auc: 0.6773 - precision: 0.6207 - recall: 0.8182 - val_loss: 0.6755 - val_acc: 0.5758 - val_auc: 0.6019 - val_precision: 0.5769 - val_recall: 0.8333\n",
            "Epoch 11/100\n",
            "5/5 [==============================] - 0s 9ms/step - loss: 0.6662 - acc: 0.6364 - auc: 0.6825 - precision: 0.6000 - recall: 0.8182 - val_loss: 0.6747 - val_acc: 0.6061 - val_auc: 0.6074 - val_precision: 0.5926 - val_recall: 0.8889\n",
            "Epoch 12/100\n",
            "5/5 [==============================] - 0s 9ms/step - loss: 0.6650 - acc: 0.6364 - auc: 0.6917 - precision: 0.6000 - recall: 0.8182 - val_loss: 0.6738 - val_acc: 0.6061 - val_auc: 0.6185 - val_precision: 0.5926 - val_recall: 0.8889\n",
            "Epoch 13/100\n",
            "5/5 [==============================] - 0s 9ms/step - loss: 0.6634 - acc: 0.6364 - auc: 0.6988 - precision: 0.6000 - recall: 0.8182 - val_loss: 0.6728 - val_acc: 0.6061 - val_auc: 0.6167 - val_precision: 0.5926 - val_recall: 0.8889\n",
            "Epoch 14/100\n",
            "5/5 [==============================] - 0s 9ms/step - loss: 0.6614 - acc: 0.6364 - auc: 0.7051 - precision: 0.6000 - recall: 0.8182 - val_loss: 0.6719 - val_acc: 0.6061 - val_auc: 0.6130 - val_precision: 0.5926 - val_recall: 0.8889\n",
            "Epoch 15/100\n",
            "5/5 [==============================] - 0s 9ms/step - loss: 0.6592 - acc: 0.6364 - auc: 0.7148 - precision: 0.6000 - recall: 0.8182 - val_loss: 0.6711 - val_acc: 0.6061 - val_auc: 0.6167 - val_precision: 0.5926 - val_recall: 0.8889\n",
            "Epoch 16/100\n",
            "5/5 [==============================] - 0s 10ms/step - loss: 0.6577 - acc: 0.6364 - auc: 0.7168 - precision: 0.6000 - recall: 0.8182 - val_loss: 0.6696 - val_acc: 0.6061 - val_auc: 0.6259 - val_precision: 0.5926 - val_recall: 0.8889\n",
            "Epoch 17/100\n",
            "5/5 [==============================] - 0s 9ms/step - loss: 0.6564 - acc: 0.6364 - auc: 0.7181 - precision: 0.6000 - recall: 0.8182 - val_loss: 0.6682 - val_acc: 0.6061 - val_auc: 0.6278 - val_precision: 0.5926 - val_recall: 0.8889\n",
            "Epoch 18/100\n",
            "5/5 [==============================] - 0s 11ms/step - loss: 0.6540 - acc: 0.6439 - auc: 0.7208 - precision: 0.6067 - recall: 0.8182 - val_loss: 0.6664 - val_acc: 0.6061 - val_auc: 0.6537 - val_precision: 0.5926 - val_recall: 0.8889\n",
            "Epoch 19/100\n",
            "5/5 [==============================] - 0s 9ms/step - loss: 0.6515 - acc: 0.6667 - auc: 0.7287 - precision: 0.6279 - recall: 0.8182 - val_loss: 0.6649 - val_acc: 0.6364 - val_auc: 0.6537 - val_precision: 0.6250 - val_recall: 0.8333\n",
            "Epoch 20/100\n",
            "5/5 [==============================] - 0s 9ms/step - loss: 0.6494 - acc: 0.6591 - auc: 0.7326 - precision: 0.6235 - recall: 0.8030 - val_loss: 0.6639 - val_acc: 0.6667 - val_auc: 0.6611 - val_precision: 0.6400 - val_recall: 0.8889\n",
            "Epoch 21/100\n",
            "5/5 [==============================] - 0s 9ms/step - loss: 0.6471 - acc: 0.6667 - auc: 0.7375 - precision: 0.6310 - recall: 0.8030 - val_loss: 0.6626 - val_acc: 0.6364 - val_auc: 0.6593 - val_precision: 0.6250 - val_recall: 0.8333\n",
            "Epoch 22/100\n",
            "5/5 [==============================] - 0s 11ms/step - loss: 0.6452 - acc: 0.6970 - auc: 0.7414 - precision: 0.6625 - recall: 0.8030 - val_loss: 0.6613 - val_acc: 0.6667 - val_auc: 0.6593 - val_precision: 0.6522 - val_recall: 0.8333\n",
            "Epoch 23/100\n",
            "5/5 [==============================] - 0s 9ms/step - loss: 0.6431 - acc: 0.7045 - auc: 0.7462 - precision: 0.6709 - recall: 0.8030 - val_loss: 0.6593 - val_acc: 0.6667 - val_auc: 0.6685 - val_precision: 0.6522 - val_recall: 0.8333\n",
            "Epoch 24/100\n",
            "5/5 [==============================] - 0s 10ms/step - loss: 0.6426 - acc: 0.6894 - auc: 0.7386 - precision: 0.6543 - recall: 0.8030 - val_loss: 0.6577 - val_acc: 0.6667 - val_auc: 0.6759 - val_precision: 0.6400 - val_recall: 0.8889\n",
            "Epoch 25/100\n",
            "5/5 [==============================] - 0s 12ms/step - loss: 0.6392 - acc: 0.6742 - auc: 0.7508 - precision: 0.6386 - recall: 0.8030 - val_loss: 0.6559 - val_acc: 0.6364 - val_auc: 0.6778 - val_precision: 0.6154 - val_recall: 0.8889\n",
            "Epoch 26/100\n",
            "5/5 [==============================] - 0s 9ms/step - loss: 0.6377 - acc: 0.6667 - auc: 0.7528 - precision: 0.6310 - recall: 0.8030 - val_loss: 0.6539 - val_acc: 0.6364 - val_auc: 0.6852 - val_precision: 0.6154 - val_recall: 0.8889\n",
            "Epoch 27/100\n",
            "5/5 [==============================] - 0s 9ms/step - loss: 0.6349 - acc: 0.6742 - auc: 0.7571 - precision: 0.6386 - recall: 0.8030 - val_loss: 0.6513 - val_acc: 0.6364 - val_auc: 0.6852 - val_precision: 0.6154 - val_recall: 0.8889\n",
            "Epoch 28/100\n",
            "5/5 [==============================] - 0s 9ms/step - loss: 0.6322 - acc: 0.6894 - auc: 0.7615 - precision: 0.6543 - recall: 0.8030 - val_loss: 0.6486 - val_acc: 0.6364 - val_auc: 0.7074 - val_precision: 0.6154 - val_recall: 0.8889\n",
            "Epoch 29/100\n",
            "5/5 [==============================] - 0s 9ms/step - loss: 0.6287 - acc: 0.6970 - auc: 0.7652 - precision: 0.6625 - recall: 0.8030 - val_loss: 0.6460 - val_acc: 0.6970 - val_auc: 0.7241 - val_precision: 0.6818 - val_recall: 0.8333\n",
            "Epoch 30/100\n",
            "5/5 [==============================] - 0s 9ms/step - loss: 0.6264 - acc: 0.7121 - auc: 0.7666 - precision: 0.6795 - recall: 0.8030 - val_loss: 0.6438 - val_acc: 0.6970 - val_auc: 0.7278 - val_precision: 0.6818 - val_recall: 0.8333\n",
            "Epoch 31/100\n",
            "5/5 [==============================] - 0s 9ms/step - loss: 0.6245 - acc: 0.7197 - auc: 0.7639 - precision: 0.6933 - recall: 0.7879 - val_loss: 0.6414 - val_acc: 0.7576 - val_auc: 0.7407 - val_precision: 0.7500 - val_recall: 0.8333\n",
            "Epoch 32/100\n",
            "5/5 [==============================] - 0s 10ms/step - loss: 0.6216 - acc: 0.7348 - auc: 0.7684 - precision: 0.7183 - recall: 0.7727 - val_loss: 0.6378 - val_acc: 0.7879 - val_auc: 0.7407 - val_precision: 0.7895 - val_recall: 0.8333\n",
            "Epoch 33/100\n",
            "5/5 [==============================] - 0s 9ms/step - loss: 0.6183 - acc: 0.7424 - auc: 0.7750 - precision: 0.7353 - recall: 0.7576 - val_loss: 0.6333 - val_acc: 0.7273 - val_auc: 0.7593 - val_precision: 0.7647 - val_recall: 0.7222\n",
            "Epoch 34/100\n",
            "5/5 [==============================] - 0s 10ms/step - loss: 0.6167 - acc: 0.6970 - auc: 0.7802 - precision: 0.7167 - recall: 0.6515 - val_loss: 0.6301 - val_acc: 0.7273 - val_auc: 0.7630 - val_precision: 0.7647 - val_recall: 0.7222\n",
            "Epoch 35/100\n",
            "5/5 [==============================] - 0s 9ms/step - loss: 0.6146 - acc: 0.7045 - auc: 0.7826 - precision: 0.7213 - recall: 0.6667 - val_loss: 0.6260 - val_acc: 0.7273 - val_auc: 0.7685 - val_precision: 0.7647 - val_recall: 0.7222\n",
            "Epoch 36/100\n",
            "5/5 [==============================] - 0s 10ms/step - loss: 0.6103 - acc: 0.6970 - auc: 0.7889 - precision: 0.7167 - recall: 0.6515 - val_loss: 0.6227 - val_acc: 0.7273 - val_auc: 0.7722 - val_precision: 0.7647 - val_recall: 0.7222\n",
            "Epoch 37/100\n",
            "5/5 [==============================] - 0s 9ms/step - loss: 0.6070 - acc: 0.7045 - auc: 0.7914 - precision: 0.7213 - recall: 0.6667 - val_loss: 0.6182 - val_acc: 0.7879 - val_auc: 0.7722 - val_precision: 0.7895 - val_recall: 0.8333\n",
            "Epoch 38/100\n",
            "5/5 [==============================] - 0s 10ms/step - loss: 0.6038 - acc: 0.7045 - auc: 0.7917 - precision: 0.7213 - recall: 0.6667 - val_loss: 0.6144 - val_acc: 0.7879 - val_auc: 0.7741 - val_precision: 0.7895 - val_recall: 0.8333\n",
            "Epoch 39/100\n",
            "5/5 [==============================] - 0s 9ms/step - loss: 0.6010 - acc: 0.7273 - auc: 0.7920 - precision: 0.7344 - recall: 0.7121 - val_loss: 0.6097 - val_acc: 0.8182 - val_auc: 0.7722 - val_precision: 0.8000 - val_recall: 0.8889\n",
            "Epoch 40/100\n",
            "5/5 [==============================] - 0s 9ms/step - loss: 0.5965 - acc: 0.7273 - auc: 0.7956 - precision: 0.7273 - recall: 0.7273 - val_loss: 0.6070 - val_acc: 0.7879 - val_auc: 0.7722 - val_precision: 0.7895 - val_recall: 0.8333\n",
            "Epoch 41/100\n",
            "5/5 [==============================] - 0s 9ms/step - loss: 0.5929 - acc: 0.7500 - auc: 0.7975 - precision: 0.7463 - recall: 0.7576 - val_loss: 0.6029 - val_acc: 0.8182 - val_auc: 0.7759 - val_precision: 0.8000 - val_recall: 0.8889\n",
            "Epoch 42/100\n",
            "5/5 [==============================] - 0s 12ms/step - loss: 0.5892 - acc: 0.7273 - auc: 0.7998 - precision: 0.7083 - recall: 0.7727 - val_loss: 0.5996 - val_acc: 0.7576 - val_auc: 0.7778 - val_precision: 0.7273 - val_recall: 0.8889\n",
            "Epoch 43/100\n",
            "5/5 [==============================] - 0s 14ms/step - loss: 0.5858 - acc: 0.6970 - auc: 0.8022 - precision: 0.6667 - recall: 0.7879 - val_loss: 0.5983 - val_acc: 0.6970 - val_auc: 0.7815 - val_precision: 0.6667 - val_recall: 0.8889\n",
            "Epoch 44/100\n",
            "5/5 [==============================] - 0s 9ms/step - loss: 0.5863 - acc: 0.6667 - auc: 0.8033 - precision: 0.6310 - recall: 0.8030 - val_loss: 0.5985 - val_acc: 0.6970 - val_auc: 0.7870 - val_precision: 0.6667 - val_recall: 0.8889\n",
            "Epoch 45/100\n",
            "5/5 [==============================] - 0s 9ms/step - loss: 0.5845 - acc: 0.6742 - auc: 0.8108 - precision: 0.6292 - recall: 0.8485 - val_loss: 0.5941 - val_acc: 0.6970 - val_auc: 0.7870 - val_precision: 0.6667 - val_recall: 0.8889\n",
            "Epoch 46/100\n",
            "5/5 [==============================] - 0s 9ms/step - loss: 0.5789 - acc: 0.6818 - auc: 0.8132 - precision: 0.6395 - recall: 0.8333 - val_loss: 0.5872 - val_acc: 0.6970 - val_auc: 0.7963 - val_precision: 0.6667 - val_recall: 0.8889\n",
            "Epoch 47/100\n",
            "5/5 [==============================] - 0s 9ms/step - loss: 0.5733 - acc: 0.6894 - auc: 0.8183 - precision: 0.6471 - recall: 0.8333 - val_loss: 0.5825 - val_acc: 0.6970 - val_auc: 0.8000 - val_precision: 0.6667 - val_recall: 0.8889\n",
            "Epoch 48/100\n",
            "5/5 [==============================] - 0s 9ms/step - loss: 0.5690 - acc: 0.7045 - auc: 0.8168 - precision: 0.6667 - recall: 0.8182 - val_loss: 0.5764 - val_acc: 0.8182 - val_auc: 0.8037 - val_precision: 0.8000 - val_recall: 0.8889\n",
            "Epoch 49/100\n",
            "5/5 [==============================] - 0s 9ms/step - loss: 0.5655 - acc: 0.7348 - auc: 0.8242 - precision: 0.7123 - recall: 0.7879 - val_loss: 0.5716 - val_acc: 0.8182 - val_auc: 0.8074 - val_precision: 0.8000 - val_recall: 0.8889\n",
            "Epoch 50/100\n",
            "5/5 [==============================] - 0s 9ms/step - loss: 0.5602 - acc: 0.7424 - auc: 0.8305 - precision: 0.7162 - recall: 0.8030 - val_loss: 0.5674 - val_acc: 0.7879 - val_auc: 0.8148 - val_precision: 0.7619 - val_recall: 0.8889\n",
            "Epoch 51/100\n",
            "5/5 [==============================] - 0s 10ms/step - loss: 0.5567 - acc: 0.7197 - auc: 0.8345 - precision: 0.6790 - recall: 0.8333 - val_loss: 0.5653 - val_acc: 0.7879 - val_auc: 0.8148 - val_precision: 0.7619 - val_recall: 0.8889\n",
            "Epoch 52/100\n",
            "5/5 [==============================] - 0s 11ms/step - loss: 0.5531 - acc: 0.7045 - auc: 0.8364 - precision: 0.6627 - recall: 0.8333 - val_loss: 0.5616 - val_acc: 0.7576 - val_auc: 0.8167 - val_precision: 0.7273 - val_recall: 0.8889\n",
            "Epoch 53/100\n",
            "5/5 [==============================] - 0s 9ms/step - loss: 0.5486 - acc: 0.7121 - auc: 0.8413 - precision: 0.6707 - recall: 0.8333 - val_loss: 0.5570 - val_acc: 0.7879 - val_auc: 0.8222 - val_precision: 0.7619 - val_recall: 0.8889\n",
            "Epoch 54/100\n",
            "5/5 [==============================] - 0s 10ms/step - loss: 0.5447 - acc: 0.7121 - auc: 0.8463 - precision: 0.6667 - recall: 0.8485 - val_loss: 0.5531 - val_acc: 0.7273 - val_auc: 0.8222 - val_precision: 0.6957 - val_recall: 0.8889\n",
            "Epoch 55/100\n",
            "5/5 [==============================] - 0s 9ms/step - loss: 0.5403 - acc: 0.7197 - auc: 0.8470 - precision: 0.6747 - recall: 0.8485 - val_loss: 0.5465 - val_acc: 0.8182 - val_auc: 0.8352 - val_precision: 0.8000 - val_recall: 0.8889\n",
            "Epoch 56/100\n",
            "5/5 [==============================] - 0s 9ms/step - loss: 0.5344 - acc: 0.7424 - auc: 0.8554 - precision: 0.6951 - recall: 0.8636 - val_loss: 0.5407 - val_acc: 0.8182 - val_auc: 0.8537 - val_precision: 0.8000 - val_recall: 0.8889\n",
            "Epoch 57/100\n",
            "5/5 [==============================] - 0s 9ms/step - loss: 0.5311 - acc: 0.7727 - auc: 0.8607 - precision: 0.7368 - recall: 0.8485 - val_loss: 0.5361 - val_acc: 0.8182 - val_auc: 0.8500 - val_precision: 0.8000 - val_recall: 0.8889\n",
            "Epoch 58/100\n",
            "5/5 [==============================] - 0s 9ms/step - loss: 0.5280 - acc: 0.7576 - auc: 0.8586 - precision: 0.7361 - recall: 0.8030 - val_loss: 0.5318 - val_acc: 0.8182 - val_auc: 0.8481 - val_precision: 0.8000 - val_recall: 0.8889\n",
            "Epoch 59/100\n",
            "5/5 [==============================] - 0s 9ms/step - loss: 0.5232 - acc: 0.7576 - auc: 0.8579 - precision: 0.7179 - recall: 0.8485 - val_loss: 0.5300 - val_acc: 0.8182 - val_auc: 0.8407 - val_precision: 0.8000 - val_recall: 0.8889\n",
            "Epoch 60/100\n",
            "5/5 [==============================] - 0s 9ms/step - loss: 0.5188 - acc: 0.7803 - auc: 0.8597 - precision: 0.7284 - recall: 0.8939 - val_loss: 0.5261 - val_acc: 0.8182 - val_auc: 0.8444 - val_precision: 0.8000 - val_recall: 0.8889\n",
            "Epoch 61/100\n",
            "5/5 [==============================] - 0s 12ms/step - loss: 0.5142 - acc: 0.7727 - auc: 0.8679 - precision: 0.7195 - recall: 0.8939 - val_loss: 0.5252 - val_acc: 0.8182 - val_auc: 0.8556 - val_precision: 0.7727 - val_recall: 0.9444\n",
            "Epoch 62/100\n",
            "5/5 [==============================] - 0s 9ms/step - loss: 0.5117 - acc: 0.7424 - auc: 0.8693 - precision: 0.6860 - recall: 0.8939 - val_loss: 0.5188 - val_acc: 0.8485 - val_auc: 0.8685 - val_precision: 0.8095 - val_recall: 0.9444\n",
            "Epoch 63/100\n",
            "5/5 [==============================] - 0s 13ms/step - loss: 0.5071 - acc: 0.7652 - auc: 0.8716 - precision: 0.7160 - recall: 0.8788 - val_loss: 0.5114 - val_acc: 0.8485 - val_auc: 0.8667 - val_precision: 0.8095 - val_recall: 0.9444\n",
            "Epoch 64/100\n",
            "5/5 [==============================] - 0s 9ms/step - loss: 0.5081 - acc: 0.7803 - auc: 0.8662 - precision: 0.7937 - recall: 0.7576 - val_loss: 0.5087 - val_acc: 0.8182 - val_auc: 0.8667 - val_precision: 0.8333 - val_recall: 0.8333\n",
            "Epoch 65/100\n",
            "5/5 [==============================] - 0s 9ms/step - loss: 0.5021 - acc: 0.7803 - auc: 0.8725 - precision: 0.8033 - recall: 0.7424 - val_loss: 0.5038 - val_acc: 0.8485 - val_auc: 0.8722 - val_precision: 0.8095 - val_recall: 0.9444\n",
            "Epoch 66/100\n",
            "5/5 [==============================] - 0s 9ms/step - loss: 0.4967 - acc: 0.7727 - auc: 0.8710 - precision: 0.7500 - recall: 0.8182 - val_loss: 0.5065 - val_acc: 0.8485 - val_auc: 0.8685 - val_precision: 0.8095 - val_recall: 0.9444\n",
            "Epoch 67/100\n",
            "5/5 [==============================] - 0s 9ms/step - loss: 0.4943 - acc: 0.7273 - auc: 0.8778 - precision: 0.6744 - recall: 0.8788 - val_loss: 0.5040 - val_acc: 0.8182 - val_auc: 0.8741 - val_precision: 0.7727 - val_recall: 0.9444\n",
            "Epoch 68/100\n",
            "5/5 [==============================] - 0s 10ms/step - loss: 0.4926 - acc: 0.7121 - auc: 0.8784 - precision: 0.6591 - recall: 0.8788 - val_loss: 0.5040 - val_acc: 0.8182 - val_auc: 0.8759 - val_precision: 0.7727 - val_recall: 0.9444\n",
            "Epoch 69/100\n",
            "5/5 [==============================] - 0s 10ms/step - loss: 0.4895 - acc: 0.7197 - auc: 0.8804 - precision: 0.6667 - recall: 0.8788 - val_loss: 0.4937 - val_acc: 0.8485 - val_auc: 0.8815 - val_precision: 0.8095 - val_recall: 0.9444\n",
            "Epoch 70/100\n",
            "5/5 [==============================] - 0s 9ms/step - loss: 0.4852 - acc: 0.8030 - auc: 0.8780 - precision: 0.7941 - recall: 0.8182 - val_loss: 0.4876 - val_acc: 0.8182 - val_auc: 0.8907 - val_precision: 0.8333 - val_recall: 0.8333\n",
            "Epoch 71/100\n",
            "5/5 [==============================] - 0s 9ms/step - loss: 0.4828 - acc: 0.7955 - auc: 0.8804 - precision: 0.8197 - recall: 0.7576 - val_loss: 0.4844 - val_acc: 0.8182 - val_auc: 0.8907 - val_precision: 0.8000 - val_recall: 0.8889\n",
            "Epoch 72/100\n",
            "5/5 [==============================] - 0s 9ms/step - loss: 0.4764 - acc: 0.7955 - auc: 0.8856 - precision: 0.7826 - recall: 0.8182 - val_loss: 0.4915 - val_acc: 0.8182 - val_auc: 0.8778 - val_precision: 0.7727 - val_recall: 0.9444\n",
            "Epoch 73/100\n",
            "5/5 [==============================] - 0s 10ms/step - loss: 0.4824 - acc: 0.7348 - auc: 0.8840 - precision: 0.6703 - recall: 0.9242 - val_loss: 0.5026 - val_acc: 0.7879 - val_auc: 0.8722 - val_precision: 0.7200 - val_recall: 1.0000\n",
            "Epoch 74/100\n",
            "5/5 [==============================] - 0s 10ms/step - loss: 0.4831 - acc: 0.7348 - auc: 0.8877 - precision: 0.6703 - recall: 0.9242 - val_loss: 0.4932 - val_acc: 0.8485 - val_auc: 0.8778 - val_precision: 0.7826 - val_recall: 1.0000\n",
            "Epoch 75/100\n",
            "5/5 [==============================] - 0s 10ms/step - loss: 0.4709 - acc: 0.7500 - auc: 0.8893 - precision: 0.6897 - recall: 0.9091 - val_loss: 0.4756 - val_acc: 0.8485 - val_auc: 0.8889 - val_precision: 0.8095 - val_recall: 0.9444\n",
            "Epoch 76/100\n",
            "5/5 [==============================] - 0s 10ms/step - loss: 0.4642 - acc: 0.7955 - auc: 0.8876 - precision: 0.8000 - recall: 0.7879 - val_loss: 0.4719 - val_acc: 0.8182 - val_auc: 0.8981 - val_precision: 0.8333 - val_recall: 0.8333\n",
            "Epoch 77/100\n",
            "5/5 [==============================] - 0s 10ms/step - loss: 0.4757 - acc: 0.7955 - auc: 0.8828 - precision: 0.8679 - recall: 0.6970 - val_loss: 0.4764 - val_acc: 0.8182 - val_auc: 0.9000 - val_precision: 0.8750 - val_recall: 0.7778\n",
            "Epoch 78/100\n",
            "5/5 [==============================] - 0s 10ms/step - loss: 0.4779 - acc: 0.7727 - auc: 0.8822 - precision: 0.8750 - recall: 0.6364 - val_loss: 0.4688 - val_acc: 0.8182 - val_auc: 0.9019 - val_precision: 0.8333 - val_recall: 0.8333\n",
            "Epoch 79/100\n",
            "5/5 [==============================] - 0s 9ms/step - loss: 0.4672 - acc: 0.7803 - auc: 0.8857 - precision: 0.8136 - recall: 0.7273 - val_loss: 0.4647 - val_acc: 0.8485 - val_auc: 0.8944 - val_precision: 0.8421 - val_recall: 0.8889\n",
            "Epoch 80/100\n",
            "5/5 [==============================] - 0s 15ms/step - loss: 0.4556 - acc: 0.7955 - auc: 0.8904 - precision: 0.7746 - recall: 0.8333 - val_loss: 0.4658 - val_acc: 0.8485 - val_auc: 0.8907 - val_precision: 0.8095 - val_recall: 0.9444\n",
            "Epoch 81/100\n",
            "5/5 [==============================] - 0s 10ms/step - loss: 0.4545 - acc: 0.7955 - auc: 0.8887 - precision: 0.7746 - recall: 0.8333 - val_loss: 0.4614 - val_acc: 0.8485 - val_auc: 0.8944 - val_precision: 0.8095 - val_recall: 0.9444\n",
            "Epoch 82/100\n",
            "5/5 [==============================] - 0s 10ms/step - loss: 0.4504 - acc: 0.7955 - auc: 0.8930 - precision: 0.7746 - recall: 0.8333 - val_loss: 0.4602 - val_acc: 0.8485 - val_auc: 0.8944 - val_precision: 0.8095 - val_recall: 0.9444\n",
            "Epoch 83/100\n",
            "5/5 [==============================] - 0s 9ms/step - loss: 0.4486 - acc: 0.7879 - auc: 0.8949 - precision: 0.7568 - recall: 0.8485 - val_loss: 0.4636 - val_acc: 0.8485 - val_auc: 0.8907 - val_precision: 0.8095 - val_recall: 0.9444\n",
            "Epoch 84/100\n",
            "5/5 [==============================] - 0s 9ms/step - loss: 0.4475 - acc: 0.7879 - auc: 0.8976 - precision: 0.7436 - recall: 0.8788 - val_loss: 0.4632 - val_acc: 0.8788 - val_auc: 0.8889 - val_precision: 0.8182 - val_recall: 1.0000\n",
            "Epoch 85/100\n",
            "5/5 [==============================] - 0s 10ms/step - loss: 0.4476 - acc: 0.7652 - auc: 0.8966 - precision: 0.7160 - recall: 0.8788 - val_loss: 0.4629 - val_acc: 0.8788 - val_auc: 0.8889 - val_precision: 0.8182 - val_recall: 1.0000\n",
            "Epoch 86/100\n",
            "5/5 [==============================] - 0s 11ms/step - loss: 0.4443 - acc: 0.7879 - auc: 0.8939 - precision: 0.7500 - recall: 0.8636 - val_loss: 0.4536 - val_acc: 0.8788 - val_auc: 0.8926 - val_precision: 0.8500 - val_recall: 0.9444\n",
            "Epoch 87/100\n",
            "5/5 [==============================] - 0s 10ms/step - loss: 0.4391 - acc: 0.8258 - auc: 0.8978 - precision: 0.8116 - recall: 0.8485 - val_loss: 0.4511 - val_acc: 0.8788 - val_auc: 0.8963 - val_precision: 0.8500 - val_recall: 0.9444\n",
            "Epoch 88/100\n",
            "5/5 [==============================] - 0s 10ms/step - loss: 0.4367 - acc: 0.8182 - auc: 0.8983 - precision: 0.8088 - recall: 0.8333 - val_loss: 0.4482 - val_acc: 0.8788 - val_auc: 0.8926 - val_precision: 0.8500 - val_recall: 0.9444\n",
            "Epoch 89/100\n",
            "5/5 [==============================] - 0s 10ms/step - loss: 0.4363 - acc: 0.8182 - auc: 0.8974 - precision: 0.8281 - recall: 0.8030 - val_loss: 0.4461 - val_acc: 0.8485 - val_auc: 0.8926 - val_precision: 0.8421 - val_recall: 0.8889\n",
            "Epoch 90/100\n",
            "5/5 [==============================] - 0s 10ms/step - loss: 0.4338 - acc: 0.7955 - auc: 0.8970 - precision: 0.7826 - recall: 0.8182 - val_loss: 0.4510 - val_acc: 0.8485 - val_auc: 0.8889 - val_precision: 0.8095 - val_recall: 0.9444\n",
            "Epoch 91/100\n",
            "5/5 [==============================] - 0s 10ms/step - loss: 0.4325 - acc: 0.7879 - auc: 0.9020 - precision: 0.7500 - recall: 0.8636 - val_loss: 0.4537 - val_acc: 0.8788 - val_auc: 0.8889 - val_precision: 0.8182 - val_recall: 1.0000\n",
            "Epoch 92/100\n",
            "5/5 [==============================] - 0s 10ms/step - loss: 0.4312 - acc: 0.7803 - auc: 0.9032 - precision: 0.7403 - recall: 0.8636 - val_loss: 0.4525 - val_acc: 0.8788 - val_auc: 0.8889 - val_precision: 0.8182 - val_recall: 1.0000\n",
            "Epoch 93/100\n",
            "5/5 [==============================] - 0s 9ms/step - loss: 0.4275 - acc: 0.7879 - auc: 0.9047 - precision: 0.7500 - recall: 0.8636 - val_loss: 0.4411 - val_acc: 0.8788 - val_auc: 0.9019 - val_precision: 0.8500 - val_recall: 0.9444\n",
            "Epoch 94/100\n",
            "5/5 [==============================] - 0s 10ms/step - loss: 0.4259 - acc: 0.8258 - auc: 0.9037 - precision: 0.8413 - recall: 0.8030 - val_loss: 0.4401 - val_acc: 0.8485 - val_auc: 0.9037 - val_precision: 0.8421 - val_recall: 0.8889\n",
            "Epoch 95/100\n",
            "5/5 [==============================] - 0s 10ms/step - loss: 0.4317 - acc: 0.7955 - auc: 0.9001 - precision: 0.8421 - recall: 0.7273 - val_loss: 0.4371 - val_acc: 0.8182 - val_auc: 0.9056 - val_precision: 0.8333 - val_recall: 0.8333\n",
            "Epoch 96/100\n",
            "5/5 [==============================] - 0s 10ms/step - loss: 0.4246 - acc: 0.8106 - auc: 0.9037 - precision: 0.8475 - recall: 0.7576 - val_loss: 0.4358 - val_acc: 0.8485 - val_auc: 0.9056 - val_precision: 0.8421 - val_recall: 0.8889\n",
            "Epoch 97/100\n",
            "5/5 [==============================] - 0s 10ms/step - loss: 0.4174 - acc: 0.8106 - auc: 0.9082 - precision: 0.8060 - recall: 0.8182 - val_loss: 0.4415 - val_acc: 0.9091 - val_auc: 0.9037 - val_precision: 0.8571 - val_recall: 1.0000\n",
            "Epoch 98/100\n",
            "5/5 [==============================] - 0s 11ms/step - loss: 0.4161 - acc: 0.8030 - auc: 0.9107 - precision: 0.7703 - recall: 0.8636 - val_loss: 0.4436 - val_acc: 0.9091 - val_auc: 0.9019 - val_precision: 0.8571 - val_recall: 1.0000\n",
            "Epoch 99/100\n",
            "5/5 [==============================] - 0s 10ms/step - loss: 0.4134 - acc: 0.8106 - auc: 0.9124 - precision: 0.7808 - recall: 0.8636 - val_loss: 0.4329 - val_acc: 0.9091 - val_auc: 0.9056 - val_precision: 0.8571 - val_recall: 1.0000\n",
            "Epoch 100/100\n",
            "5/5 [==============================] - 0s 9ms/step - loss: 0.4199 - acc: 0.7955 - auc: 0.9038 - precision: 0.8095 - recall: 0.7727 - val_loss: 0.4292 - val_acc: 0.7879 - val_auc: 0.9037 - val_precision: 0.8235 - val_recall: 0.7778\n"
          ]
        },
        {
          "output_type": "display_data",
          "data": {
            "image/png": "[encoded data removed]",
            "text/plain": [
              "<Figure size 432x288 with 1 Axes>"
            ]
          },
          "metadata": {
            "needs_background": "light"
          }
        },
        {
          "output_type": "stream",
          "name": "stdout",
          "text": [
            "2/2 [==============================] - 0s 7ms/step - loss: 0.4736 - acc: 0.7857 - auc: 0.8432 - precision: 0.8214 - recall: 0.8519\n",
            "loss= 0.47359052300453186\n",
            "acc= 0.7857142686843872\n",
            "auc= 0.8432099223136902\n",
            "precision= 0.8214285969734192\n",
            "recall= 0.8518518805503845\n",
            "WARNING:tensorflow:5 out of the last 11 calls to <function Model.make_predict_function.<locals>.predict_function at 0x7f39e18184d0> triggered tf.function retracing. Tracing is expensive and the excessive number of tracings could be due to (1) creating @tf.function repeatedly in a loop, (2) passing tensors with different shapes, (3) passing Python objects instead of tensors. For (1), please define your @tf.function outside of the loop. For (2), @tf.function has experimental_relax_shapes=True option that relaxes argument shapes that can avoid unnecessary retracing. For (3), please refer to https://www.tensorflow.org/guide/function#controlling_retracing and https://www.tensorflow.org/api_docs/python/tf/function for  more details.\n"
          ]
        },
        {
          "output_type": "display_data",
          "data": {
            "image/png": "[encoded data removed]",
            "text/plain": [
              "<Figure size 432x288 with 1 Axes>"
            ]
          },
          "metadata": {
            "needs_background": "light"
          }
        }
      ]
    },
    {
      "cell_type": "markdown",
      "metadata": {
        "id": "d4Jwyvmh47I2"
      },
      "source": [
        "# batch size 설정\n",
        "\n",
        "model.fit() 호출 시 batch_size 파라매터로 설정한다.\n",
        "\n",
        "2의 지수승의 값으로 하나씩 증가하면서 1 step의 처리 시간이 증가하기 바로 전의 batch size 값을 찾아낸다."
      ]
    },
    {
      "cell_type": "code",
      "metadata": {
        "id": "C8KPvkNabRk8"
      },
      "source": [
        "import numpy as np\n",
        "import pandas as pd\n",
        "import matplotlib.pyplot as plt\n",
        "\n",
        "import tensorflow as tf\n",
        "\n",
        "from tensorflow import keras\n",
        "from tensorflow.keras import optimizers\n",
        "from tensorflow.keras.layers import Dense, Input, Flatten"
      ],
      "execution_count": null,
      "outputs": []
    },
    {
      "cell_type": "code",
      "metadata": {
        "id": "kgdnXw0NbULv"
      },
      "source": [
        "(train_x, train_y), (test_x, test_y) = tf.keras.datasets.cifar100.load_data()"
      ],
      "execution_count": null,
      "outputs": []
    },
    {
      "cell_type": "code",
      "metadata": {
        "colab": {
          "base_uri": "https://localhost:8080/"
        },
        "id": "RkaJ3scwhvft",
        "outputId": "270322b2-02b4-40cf-a235-be2c47fb1ecf"
      },
      "source": [
        "print(train_x.shape)"
      ],
      "execution_count": null,
      "outputs": [
        {
          "output_type": "stream",
          "name": "stdout",
          "text": [
            "(50000, 32, 32, 3)\n"
          ]
        }
      ]
    },
    {
      "cell_type": "code",
      "metadata": {
        "id": "XHusjyjqbaSj"
      },
      "source": [
        "# 모델 정의\n",
        "model = keras.Sequential()\n",
        "model.add(Input((32,32,3)))\n",
        "model.add(Flatten())\n",
        "model.add(Dense(1280, activation='relu'))\n",
        "model.add(Dense(32, activation='relu'))\n",
        "model.add(Dense(100, activation=\"softmax\"))\n",
        "\n",
        "\n",
        "# 모델 컴파일\n",
        "model.compile(optimizer=\"Adam\", loss=\"sparse_categorical_crossentropy\", metrics=[\"acc\"])"
      ],
      "execution_count": null,
      "outputs": []
    },
    {
      "cell_type": "code",
      "metadata": {
        "colab": {
          "base_uri": "https://localhost:8080/"
        },
        "id": "4X4AZIE7c-Gw",
        "outputId": "1c4ea4e4-e7ae-4f70-e9ea-4d6a6fcb06d9"
      },
      "source": [
        "model.fit(train_x, train_y, epochs=3, batch_size=8, validation_split=0.2)"
      ],
      "execution_count": null,
      "outputs": [
        {
          "output_type": "stream",
          "name": "stdout",
          "text": [
            "Epoch 1/3\n",
            "5000/5000 [==============================] - 14s 3ms/step - loss: 4.8972 - acc: 0.0094 - val_loss: 4.6077 - val_acc: 0.0092\n",
            "Epoch 2/3\n",
            "5000/5000 [==============================] - 13s 3ms/step - loss: 4.6063 - acc: 0.0094 - val_loss: 4.6077 - val_acc: 0.0084\n",
            "Epoch 3/3\n",
            "5000/5000 [==============================] - 13s 3ms/step - loss: 4.6063 - acc: 0.0091 - val_loss: 4.6079 - val_acc: 0.0086\n"
          ]
        },
        {
          "output_type": "execute_result",
          "data": {
            "text/plain": [
              "<keras.callbacks.History at 0x7f6bb0d501d0>"
            ]
          },
          "metadata": {},
          "execution_count": 26
        }
      ]
    },
    {
      "cell_type": "code",
      "metadata": {
        "colab": {
          "base_uri": "https://localhost:8080/"
        },
        "id": "F26ADeM5c8Ls",
        "outputId": "9cf1cb11-9c61-4a00-8a9d-91d77c5e959d"
      },
      "source": [
        "model.fit(train_x, train_y, epochs=3, batch_size=16, validation_split=0.2)"
      ],
      "execution_count": null,
      "outputs": [
        {
          "output_type": "stream",
          "name": "stdout",
          "text": [
            "Epoch 1/3\n",
            "2500/2500 [==============================] - 8s 3ms/step - loss: 4.6058 - acc: 0.0091 - val_loss: 4.6080 - val_acc: 0.0077\n",
            "Epoch 2/3\n",
            "2500/2500 [==============================] - 8s 3ms/step - loss: 4.6059 - acc: 0.0101 - val_loss: 4.6079 - val_acc: 0.0086\n",
            "Epoch 3/3\n",
            "2500/2500 [==============================] - 8s 3ms/step - loss: 4.6059 - acc: 0.0091 - val_loss: 4.6078 - val_acc: 0.0083\n"
          ]
        },
        {
          "output_type": "execute_result",
          "data": {
            "text/plain": [
              "<keras.callbacks.History at 0x7f6bb03506d0>"
            ]
          },
          "metadata": {},
          "execution_count": 27
        }
      ]
    },
    {
      "cell_type": "code",
      "metadata": {
        "colab": {
          "base_uri": "https://localhost:8080/"
        },
        "id": "XT3VnxQ7c8E3",
        "outputId": "61ae4602-41c7-4bf6-b236-5c4a07577482"
      },
      "source": [
        "model.fit(train_x, train_y, epochs=3, batch_size=32, validation_split=0.2)"
      ],
      "execution_count": null,
      "outputs": [
        {
          "output_type": "stream",
          "name": "stdout",
          "text": [
            "Epoch 1/3\n",
            "1250/1250 [==============================] - 5s 4ms/step - loss: 4.6055 - acc: 0.0100 - val_loss: 4.6078 - val_acc: 0.0083\n",
            "Epoch 2/3\n",
            "1250/1250 [==============================] - 4s 4ms/step - loss: 4.6056 - acc: 0.0099 - val_loss: 4.6079 - val_acc: 0.0085\n",
            "Epoch 3/3\n",
            "1250/1250 [==============================] - 4s 4ms/step - loss: 4.6056 - acc: 0.0096 - val_loss: 4.6078 - val_acc: 0.0077\n"
          ]
        },
        {
          "output_type": "execute_result",
          "data": {
            "text/plain": [
              "<keras.callbacks.History at 0x7f6bb0229a10>"
            ]
          },
          "metadata": {},
          "execution_count": 28
        }
      ]
    },
    {
      "cell_type": "code",
      "metadata": {
        "colab": {
          "base_uri": "https://localhost:8080/"
        },
        "id": "beCLN2Wzc7-a",
        "outputId": "9a4d382a-1aed-4e74-d5b3-899c3d6d558a"
      },
      "source": [
        "model.fit(train_x, train_y, epochs=3, batch_size=64, validation_split=0.2)"
      ],
      "execution_count": null,
      "outputs": [
        {
          "output_type": "stream",
          "name": "stdout",
          "text": [
            "Epoch 1/3\n",
            "625/625 [==============================] - 3s 5ms/step - loss: 4.6053 - acc: 0.0101 - val_loss: 4.6079 - val_acc: 0.0077\n",
            "Epoch 2/3\n",
            "625/625 [==============================] - 2s 4ms/step - loss: 4.6053 - acc: 0.0102 - val_loss: 4.6079 - val_acc: 0.0077\n",
            "Epoch 3/3\n",
            "625/625 [==============================] - 2s 4ms/step - loss: 4.6054 - acc: 0.0103 - val_loss: 4.6080 - val_acc: 0.0083\n"
          ]
        },
        {
          "output_type": "execute_result",
          "data": {
            "text/plain": [
              "<keras.callbacks.History at 0x7f6bb02d1b50>"
            ]
          },
          "metadata": {},
          "execution_count": 29
        }
      ]
    },
    {
      "cell_type": "code",
      "metadata": {
        "colab": {
          "base_uri": "https://localhost:8080/"
        },
        "id": "GQI6NEu4c74D",
        "outputId": "aae4814b-71ff-4a76-f770-217e4e64d35e"
      },
      "source": [
        "model.fit(train_x, train_y, epochs=3, batch_size=128, validation_split=0.2)"
      ],
      "execution_count": null,
      "outputs": [
        {
          "output_type": "stream",
          "name": "stdout",
          "text": [
            "Epoch 1/3\n",
            "313/313 [==============================] - 2s 5ms/step - loss: 4.6051 - acc: 0.0103 - val_loss: 4.6080 - val_acc: 0.0077\n",
            "Epoch 2/3\n",
            "313/313 [==============================] - 1s 5ms/step - loss: 4.6052 - acc: 0.0100 - val_loss: 4.6079 - val_acc: 0.0077\n",
            "Epoch 3/3\n",
            "313/313 [==============================] - 1s 4ms/step - loss: 4.6052 - acc: 0.0095 - val_loss: 4.6079 - val_acc: 0.0077\n"
          ]
        },
        {
          "output_type": "execute_result",
          "data": {
            "text/plain": [
              "<keras.callbacks.History at 0x7f6bb030f050>"
            ]
          },
          "metadata": {},
          "execution_count": 30
        }
      ]
    },
    {
      "cell_type": "code",
      "metadata": {
        "colab": {
          "base_uri": "https://localhost:8080/"
        },
        "id": "hgsJgbFBc7ww",
        "outputId": "e8e7341a-52bb-48f9-f581-8d974b097187"
      },
      "source": [
        "model.fit(train_x, train_y, epochs=3, batch_size=256, validation_split=0.2)"
      ],
      "execution_count": null,
      "outputs": [
        {
          "output_type": "stream",
          "name": "stdout",
          "text": [
            "Epoch 1/3\n",
            "157/157 [==============================] - 1s 5ms/step - loss: 4.6050 - acc: 0.0106 - val_loss: 4.6079 - val_acc: 0.0077\n",
            "Epoch 2/3\n",
            "157/157 [==============================] - 1s 5ms/step - loss: 4.6050 - acc: 0.0106 - val_loss: 4.6079 - val_acc: 0.0077\n",
            "Epoch 3/3\n",
            "157/157 [==============================] - 1s 5ms/step - loss: 4.6050 - acc: 0.0106 - val_loss: 4.6079 - val_acc: 0.0077\n"
          ]
        },
        {
          "output_type": "execute_result",
          "data": {
            "text/plain": [
              "<keras.callbacks.History at 0x7f6bb0105150>"
            ]
          },
          "metadata": {},
          "execution_count": 31
        }
      ]
    },
    {
      "cell_type": "code",
      "metadata": {
        "colab": {
          "base_uri": "https://localhost:8080/"
        },
        "id": "u-uYbWSNnLAl",
        "outputId": "9c34386c-0f5d-447f-9ef3-e9242d34f152"
      },
      "source": [
        "model.fit(train_x, train_y, epochs=3, batch_size=512, validation_split=0.2)"
      ],
      "execution_count": null,
      "outputs": [
        {
          "output_type": "stream",
          "name": "stdout",
          "text": [
            "Epoch 1/3\n",
            "79/79 [==============================] - 1s 7ms/step - loss: 4.6049 - acc: 0.0106 - val_loss: 4.6079 - val_acc: 0.0077\n",
            "Epoch 2/3\n",
            "79/79 [==============================] - 0s 5ms/step - loss: 4.6050 - acc: 0.0106 - val_loss: 4.6079 - val_acc: 0.0077\n",
            "Epoch 3/3\n",
            "79/79 [==============================] - 0s 5ms/step - loss: 4.6049 - acc: 0.0106 - val_loss: 4.6079 - val_acc: 0.0077\n"
          ]
        },
        {
          "output_type": "execute_result",
          "data": {
            "text/plain": [
              "<keras.callbacks.History at 0x7f6bb011d950>"
            ]
          },
          "metadata": {},
          "execution_count": 32
        }
      ]
    },
    {
      "cell_type": "markdown",
      "metadata": {
        "id": "t2n64LoynN9O"
      },
      "source": [
        "batch_size 256일 때 4ms 였던 것이 512일때 8ms로 증가했다. \n",
        "\n",
        "256를 batch_size로 설정한다."
      ]
    },
    {
      "cell_type": "markdown",
      "metadata": {
        "id": "M3Dnupm-5EBv"
      },
      "source": [
        "# 기타 설정/방법"
      ]
    },
    {
      "cell_type": "markdown",
      "metadata": {
        "id": "PWkZXLXx5FhC"
      },
      "source": [
        "## verbose 설정"
      ]
    },
    {
      "cell_type": "code",
      "metadata": {
        "id": "-nHIQQSGocVu"
      },
      "source": [
        "import numpy as np\n",
        "import pandas as pd\n",
        "import matplotlib.pyplot as plt\n",
        "\n",
        "import tensorflow as tf\n",
        "\n",
        "from tensorflow import keras\n",
        "from tensorflow.keras import optimizers\n",
        "from tensorflow.keras.layers import Dense, Input, Flatten"
      ],
      "execution_count": null,
      "outputs": []
    },
    {
      "cell_type": "code",
      "metadata": {
        "id": "3xMNk85SocVu"
      },
      "source": [
        "(train_x, train_y), (test_x, test_y) = tf.keras.datasets.mnist.load_data()"
      ],
      "execution_count": null,
      "outputs": []
    },
    {
      "cell_type": "code",
      "metadata": {
        "id": "k8LU0yCrocVu"
      },
      "source": [
        "# 모델 정의\n",
        "model = keras.Sequential()\n",
        "model.add(Input((28,28)))\n",
        "model.add(Flatten())\n",
        "model.add(Dense(10, activation='relu'))\n",
        "model.add(Dense(10, activation='relu'))\n",
        "model.add(Dense(10, activation=\"softmax\"))\n",
        "\n",
        "\n",
        "# 모델 컴파일\n",
        "model.compile(optimizer=\"Adam\", loss=\"sparse_categorical_crossentropy\", metrics=[\"acc\"])"
      ],
      "execution_count": null,
      "outputs": []
    },
    {
      "cell_type": "code",
      "metadata": {
        "colab": {
          "base_uri": "https://localhost:8080/"
        },
        "id": "AAPmCl3Zo_AY",
        "outputId": "fb9b5c8b-ca7b-4b3e-c4cd-d46938a4bea6"
      },
      "source": [
        "model.fit(train_x, train_y, epochs=5, batch_size=32, validation_split=0.2)"
      ],
      "execution_count": null,
      "outputs": [
        {
          "output_type": "stream",
          "name": "stdout",
          "text": [
            "Epoch 1/5\n",
            "1500/1500 [==============================] - 4s 2ms/step - loss: 2.2412 - acc: 0.2490 - val_loss: 1.6546 - val_acc: 0.3640\n",
            "Epoch 2/5\n",
            "1500/1500 [==============================] - 4s 2ms/step - loss: 1.5498 - acc: 0.3998 - val_loss: 1.4620 - val_acc: 0.4218\n",
            "Epoch 3/5\n",
            "1500/1500 [==============================] - 3s 2ms/step - loss: 1.3655 - acc: 0.4465 - val_loss: 1.3047 - val_acc: 0.4717\n",
            "Epoch 4/5\n",
            "1500/1500 [==============================] - 3s 2ms/step - loss: 1.2683 - acc: 0.4716 - val_loss: 1.2376 - val_acc: 0.4617\n",
            "Epoch 5/5\n",
            "1500/1500 [==============================] - 3s 2ms/step - loss: 1.2150 - acc: 0.4958 - val_loss: 1.1642 - val_acc: 0.5267\n"
          ]
        },
        {
          "output_type": "execute_result",
          "data": {
            "text/plain": [
              "<keras.callbacks.History at 0x7f6bb013cfd0>"
            ]
          },
          "metadata": {},
          "execution_count": 36
        }
      ]
    },
    {
      "cell_type": "code",
      "metadata": {
        "colab": {
          "base_uri": "https://localhost:8080/"
        },
        "id": "MSApzyPJo_bB",
        "outputId": "399ab5bd-e067-4c9d-f5a0-b1e1b71b81ee"
      },
      "source": [
        "model.fit(train_x, train_y, epochs=5, batch_size=32, verbose=0, validation_split=0.2)"
      ],
      "execution_count": null,
      "outputs": [
        {
          "output_type": "execute_result",
          "data": {
            "text/plain": [
              "<keras.callbacks.History at 0x7f6bb010e850>"
            ]
          },
          "metadata": {},
          "execution_count": 37
        }
      ]
    },
    {
      "cell_type": "code",
      "metadata": {
        "colab": {
          "base_uri": "https://localhost:8080/"
        },
        "id": "g7RU6RmNpDq3",
        "outputId": "3125dd2c-3a42-42b9-9bce-7ecc6a2111c6"
      },
      "source": [
        "model.fit(train_x, train_y, epochs=5, batch_size=32, verbose=1, validation_split=0.2)"
      ],
      "execution_count": null,
      "outputs": [
        {
          "output_type": "stream",
          "name": "stdout",
          "text": [
            "Epoch 1/5\n",
            "1500/1500 [==============================] - 4s 2ms/step - loss: 1.0498 - acc: 0.5915 - val_loss: 1.0476 - val_acc: 0.6012\n",
            "Epoch 2/5\n",
            "1500/1500 [==============================] - 3s 2ms/step - loss: 1.0397 - acc: 0.5981 - val_loss: 1.0284 - val_acc: 0.6072\n",
            "Epoch 3/5\n",
            "1500/1500 [==============================] - 3s 2ms/step - loss: 1.0286 - acc: 0.6025 - val_loss: 1.0274 - val_acc: 0.6053\n",
            "Epoch 4/5\n",
            "1500/1500 [==============================] - 3s 2ms/step - loss: 1.0206 - acc: 0.6049 - val_loss: 1.0221 - val_acc: 0.6127\n",
            "Epoch 5/5\n",
            "1500/1500 [==============================] - 3s 2ms/step - loss: 1.0093 - acc: 0.6085 - val_loss: 0.9891 - val_acc: 0.6066\n"
          ]
        },
        {
          "output_type": "execute_result",
          "data": {
            "text/plain": [
              "<keras.callbacks.History at 0x7f6baffe1d50>"
            ]
          },
          "metadata": {},
          "execution_count": 38
        }
      ]
    },
    {
      "cell_type": "code",
      "metadata": {
        "colab": {
          "base_uri": "https://localhost:8080/"
        },
        "id": "ljzxv6-FpECz",
        "outputId": "d26ca2a6-a2c1-4906-bee7-3ed25dfd17f7"
      },
      "source": [
        "model.fit(train_x, train_y, epochs=5, batch_size=32, verbose=2, validation_split=0.2)"
      ],
      "execution_count": null,
      "outputs": [
        {
          "output_type": "stream",
          "name": "stdout",
          "text": [
            "Epoch 1/5\n",
            "1500/1500 - 3s - loss: 1.0069 - acc: 0.6112 - val_loss: 1.0233 - val_acc: 0.6157\n",
            "Epoch 2/5\n",
            "1500/1500 - 2s - loss: 0.9974 - acc: 0.6131 - val_loss: 0.9922 - val_acc: 0.6133\n",
            "Epoch 3/5\n",
            "1500/1500 - 2s - loss: 0.9899 - acc: 0.6164 - val_loss: 0.9718 - val_acc: 0.6143\n",
            "Epoch 4/5\n",
            "1500/1500 - 2s - loss: 0.9847 - acc: 0.6193 - val_loss: 0.9745 - val_acc: 0.6149\n",
            "Epoch 5/5\n",
            "1500/1500 - 3s - loss: 0.9647 - acc: 0.6242 - val_loss: 0.9697 - val_acc: 0.6264\n"
          ]
        },
        {
          "output_type": "execute_result",
          "data": {
            "text/plain": [
              "<keras.callbacks.History at 0x7f6bb007c810>"
            ]
          },
          "metadata": {},
          "execution_count": 39
        }
      ]
    },
    {
      "cell_type": "markdown",
      "metadata": {
        "id": "uXMPW1wK5IWV"
      },
      "source": [
        "## loss, 성능지표 그리기"
      ]
    },
    {
      "cell_type": "code",
      "metadata": {
        "id": "Tcs2tLmppzn8"
      },
      "source": [
        "import numpy as np\n",
        "import pandas as pd\n",
        "import matplotlib.pyplot as plt\n",
        "\n",
        "import tensorflow as tf\n",
        "\n",
        "from tensorflow import keras\n",
        "from tensorflow.keras import optimizers\n",
        "from tensorflow.keras.layers import Dense, Input, Flatten"
      ],
      "execution_count": null,
      "outputs": []
    },
    {
      "cell_type": "code",
      "metadata": {
        "id": "wYCOu9GGpzn8"
      },
      "source": [
        "(train_x, train_y), (test_x, test_y) = tf.keras.datasets.mnist.load_data()"
      ],
      "execution_count": null,
      "outputs": []
    },
    {
      "cell_type": "code",
      "metadata": {
        "colab": {
          "base_uri": "https://localhost:8080/"
        },
        "id": "VgHSv7LVp1o2",
        "outputId": "20994b94-6bb4-4ec4-99cc-c85080392aec"
      },
      "source": [
        "# 모델 정의\n",
        "model = keras.Sequential()\n",
        "model.add(Input((28,28)))\n",
        "model.add(Flatten())\n",
        "model.add(Dense(10, activation='relu'))\n",
        "model.add(Dense(10, activation='relu'))\n",
        "model.add(Dense(10, activation=\"softmax\"))\n",
        "\n",
        "\n",
        "# 모델 컴파일\n",
        "model.compile(optimizer=\"Adam\", loss=\"sparse_categorical_crossentropy\", metrics=[\"acc\"])\n",
        "model.summary()\n",
        "\n",
        "\n",
        "# 모델 학습\n",
        "history = model.fit(train_x, train_y, epochs=50, batch_size=256, validation_split=0.2)\n"
      ],
      "execution_count": null,
      "outputs": [
        {
          "output_type": "stream",
          "name": "stdout",
          "text": [
            "Model: \"sequential_11\"\n",
            "_________________________________________________________________\n",
            "Layer (type)                 Output Shape              Param #   \n",
            "=================================================================\n",
            "flatten_5 (Flatten)          (None, 784)               0         \n",
            "_________________________________________________________________\n",
            "dense_33 (Dense)             (None, 10)                7850      \n",
            "_________________________________________________________________\n",
            "dense_34 (Dense)             (None, 10)                110       \n",
            "_________________________________________________________________\n",
            "dense_35 (Dense)             (None, 10)                110       \n",
            "=================================================================\n",
            "Total params: 8,070\n",
            "Trainable params: 8,070\n",
            "Non-trainable params: 0\n",
            "_________________________________________________________________\n",
            "Epoch 1/50\n",
            "188/188 [==============================] - 1s 4ms/step - loss: 6.3067 - acc: 0.1307 - val_loss: 2.2138 - val_acc: 0.1602\n",
            "Epoch 2/50\n",
            "188/188 [==============================] - 1s 3ms/step - loss: 2.1422 - acc: 0.1862 - val_loss: 2.1142 - val_acc: 0.1980\n",
            "Epoch 3/50\n",
            "188/188 [==============================] - 1s 3ms/step - loss: 2.0714 - acc: 0.2115 - val_loss: 2.0379 - val_acc: 0.2240\n",
            "Epoch 4/50\n",
            "188/188 [==============================] - 1s 3ms/step - loss: 2.0293 - acc: 0.2243 - val_loss: 2.0057 - val_acc: 0.2342\n",
            "Epoch 5/50\n",
            "188/188 [==============================] - 1s 3ms/step - loss: 1.9944 - acc: 0.2338 - val_loss: 1.9797 - val_acc: 0.2448\n",
            "Epoch 6/50\n",
            "188/188 [==============================] - 1s 3ms/step - loss: 1.9527 - acc: 0.2497 - val_loss: 1.9297 - val_acc: 0.2668\n",
            "Epoch 7/50\n",
            "188/188 [==============================] - 1s 3ms/step - loss: 1.9021 - acc: 0.2636 - val_loss: 1.9035 - val_acc: 0.2718\n",
            "Epoch 8/50\n",
            "188/188 [==============================] - 1s 3ms/step - loss: 1.8763 - acc: 0.2701 - val_loss: 1.8897 - val_acc: 0.2693\n",
            "Epoch 9/50\n",
            "188/188 [==============================] - 1s 3ms/step - loss: 1.8565 - acc: 0.2750 - val_loss: 1.8787 - val_acc: 0.2738\n",
            "Epoch 10/50\n",
            "188/188 [==============================] - 1s 3ms/step - loss: 1.8361 - acc: 0.2791 - val_loss: 1.8708 - val_acc: 0.2826\n",
            "Epoch 11/50\n",
            "188/188 [==============================] - 1s 3ms/step - loss: 1.8206 - acc: 0.2809 - val_loss: 1.8682 - val_acc: 0.2876\n",
            "Epoch 12/50\n",
            "188/188 [==============================] - 1s 3ms/step - loss: 1.8108 - acc: 0.2844 - val_loss: 1.8571 - val_acc: 0.2855\n",
            "Epoch 13/50\n",
            "188/188 [==============================] - 1s 3ms/step - loss: 1.8045 - acc: 0.2863 - val_loss: 1.8657 - val_acc: 0.2871\n",
            "Epoch 14/50\n",
            "188/188 [==============================] - 1s 3ms/step - loss: 1.7957 - acc: 0.2844 - val_loss: 1.8438 - val_acc: 0.2874\n",
            "Epoch 15/50\n",
            "188/188 [==============================] - 0s 2ms/step - loss: 1.7890 - acc: 0.2880 - val_loss: 1.8445 - val_acc: 0.2841\n",
            "Epoch 16/50\n",
            "188/188 [==============================] - 1s 3ms/step - loss: 1.7835 - acc: 0.2855 - val_loss: 1.8259 - val_acc: 0.2947\n",
            "Epoch 17/50\n",
            "188/188 [==============================] - 0s 3ms/step - loss: 1.7001 - acc: 0.3284 - val_loss: 1.6447 - val_acc: 0.3616\n",
            "Epoch 18/50\n",
            "188/188 [==============================] - 1s 3ms/step - loss: 1.5205 - acc: 0.3878 - val_loss: 1.5402 - val_acc: 0.3899\n",
            "Epoch 19/50\n",
            "188/188 [==============================] - 1s 3ms/step - loss: 1.4446 - acc: 0.4191 - val_loss: 1.4541 - val_acc: 0.4296\n",
            "Epoch 20/50\n",
            "188/188 [==============================] - 1s 3ms/step - loss: 1.3824 - acc: 0.4362 - val_loss: 1.3946 - val_acc: 0.4405\n",
            "Epoch 21/50\n",
            "188/188 [==============================] - 1s 3ms/step - loss: 1.3405 - acc: 0.4484 - val_loss: 1.3526 - val_acc: 0.4562\n",
            "Epoch 22/50\n",
            "188/188 [==============================] - 1s 3ms/step - loss: 1.3158 - acc: 0.4584 - val_loss: 1.3264 - val_acc: 0.4718\n",
            "Epoch 23/50\n",
            "188/188 [==============================] - 1s 3ms/step - loss: 1.2952 - acc: 0.4698 - val_loss: 1.3134 - val_acc: 0.4754\n",
            "Epoch 24/50\n",
            "188/188 [==============================] - 0s 3ms/step - loss: 1.2728 - acc: 0.4775 - val_loss: 1.2826 - val_acc: 0.4865\n",
            "Epoch 25/50\n",
            "188/188 [==============================] - 1s 3ms/step - loss: 1.2519 - acc: 0.4891 - val_loss: 1.2464 - val_acc: 0.5104\n",
            "Epoch 26/50\n",
            "188/188 [==============================] - 1s 3ms/step - loss: 1.2023 - acc: 0.5286 - val_loss: 1.1636 - val_acc: 0.5640\n",
            "Epoch 27/50\n",
            "188/188 [==============================] - 1s 3ms/step - loss: 1.1175 - acc: 0.5819 - val_loss: 1.0832 - val_acc: 0.5960\n",
            "Epoch 28/50\n",
            "188/188 [==============================] - 1s 3ms/step - loss: 1.0545 - acc: 0.6157 - val_loss: 1.0276 - val_acc: 0.6282\n",
            "Epoch 29/50\n",
            "188/188 [==============================] - 0s 3ms/step - loss: 1.0026 - acc: 0.6434 - val_loss: 0.9862 - val_acc: 0.6465\n",
            "Epoch 30/50\n",
            "188/188 [==============================] - 1s 3ms/step - loss: 0.9551 - acc: 0.6664 - val_loss: 0.9673 - val_acc: 0.6717\n",
            "Epoch 31/50\n",
            "188/188 [==============================] - 1s 3ms/step - loss: 0.9141 - acc: 0.6916 - val_loss: 0.9187 - val_acc: 0.7036\n",
            "Epoch 32/50\n",
            "188/188 [==============================] - 1s 3ms/step - loss: 0.8707 - acc: 0.7125 - val_loss: 0.8702 - val_acc: 0.7260\n",
            "Epoch 33/50\n",
            "188/188 [==============================] - 1s 3ms/step - loss: 0.8365 - acc: 0.7261 - val_loss: 0.8358 - val_acc: 0.7362\n",
            "Epoch 34/50\n",
            "188/188 [==============================] - 1s 3ms/step - loss: 0.8037 - acc: 0.7419 - val_loss: 0.7848 - val_acc: 0.7551\n",
            "Epoch 35/50\n",
            "188/188 [==============================] - 1s 3ms/step - loss: 0.7668 - acc: 0.7602 - val_loss: 0.7503 - val_acc: 0.7547\n",
            "Epoch 36/50\n",
            "188/188 [==============================] - 1s 5ms/step - loss: 0.7447 - acc: 0.7655 - val_loss: 0.7223 - val_acc: 0.7788\n",
            "Epoch 37/50\n",
            "188/188 [==============================] - 1s 4ms/step - loss: 0.7168 - acc: 0.7772 - val_loss: 0.7377 - val_acc: 0.7712\n",
            "Epoch 38/50\n",
            "188/188 [==============================] - 1s 4ms/step - loss: 0.7036 - acc: 0.7798 - val_loss: 0.6799 - val_acc: 0.7920\n",
            "Epoch 39/50\n",
            "188/188 [==============================] - 1s 5ms/step - loss: 0.6899 - acc: 0.7885 - val_loss: 0.6796 - val_acc: 0.7872\n",
            "Epoch 40/50\n",
            "188/188 [==============================] - 1s 3ms/step - loss: 0.6763 - acc: 0.7935 - val_loss: 0.6694 - val_acc: 0.7958\n",
            "Epoch 41/50\n",
            "188/188 [==============================] - 1s 3ms/step - loss: 0.6652 - acc: 0.7990 - val_loss: 0.6482 - val_acc: 0.7979\n",
            "Epoch 42/50\n",
            "188/188 [==============================] - 1s 3ms/step - loss: 0.6586 - acc: 0.8023 - val_loss: 0.6456 - val_acc: 0.8025\n",
            "Epoch 43/50\n",
            "188/188 [==============================] - 1s 3ms/step - loss: 0.6454 - acc: 0.8080 - val_loss: 0.6324 - val_acc: 0.8074\n",
            "Epoch 44/50\n",
            "188/188 [==============================] - 1s 3ms/step - loss: 0.6356 - acc: 0.8101 - val_loss: 0.6257 - val_acc: 0.8242\n",
            "Epoch 45/50\n",
            "188/188 [==============================] - 1s 3ms/step - loss: 0.6052 - acc: 0.8229 - val_loss: 0.5764 - val_acc: 0.8338\n",
            "Epoch 46/50\n",
            "188/188 [==============================] - 1s 3ms/step - loss: 0.5841 - acc: 0.8302 - val_loss: 0.5800 - val_acc: 0.8353\n",
            "Epoch 47/50\n",
            "188/188 [==============================] - 0s 3ms/step - loss: 0.5700 - acc: 0.8357 - val_loss: 0.5755 - val_acc: 0.8334\n",
            "Epoch 48/50\n",
            "188/188 [==============================] - 1s 3ms/step - loss: 0.5490 - acc: 0.8399 - val_loss: 0.5397 - val_acc: 0.8445\n",
            "Epoch 49/50\n",
            "188/188 [==============================] - 1s 3ms/step - loss: 0.5390 - acc: 0.8436 - val_loss: 0.5579 - val_acc: 0.8383\n",
            "Epoch 50/50\n",
            "188/188 [==============================] - 1s 3ms/step - loss: 0.5277 - acc: 0.8479 - val_loss: 0.5191 - val_acc: 0.8537\n"
          ]
        }
      ]
    },
    {
      "cell_type": "code",
      "metadata": {
        "colab": {
          "base_uri": "https://localhost:8080/"
        },
        "id": "gV1VDYxisFiK",
        "outputId": "b7be6244-29b9-405f-b90e-2e70eeca9b2d"
      },
      "source": [
        "# 평가\n",
        "loss, acc = model.evaluate(test_x, test_y)\n",
        "print(\"loss=\", loss)\n",
        "print(\"acc=\", acc)"
      ],
      "execution_count": null,
      "outputs": [
        {
          "output_type": "stream",
          "name": "stdout",
          "text": [
            "313/313 [==============================] - 1s 2ms/step - loss: 0.5471 - acc: 0.8438\n",
            "loss= 0.5471357107162476\n",
            "acc= 0.8438000082969666\n"
          ]
        }
      ]
    },
    {
      "cell_type": "code",
      "metadata": {
        "colab": {
          "base_uri": "https://localhost:8080/",
          "height": 513
        },
        "id": "rvR2feuaqCbk",
        "outputId": "ee6b4ea1-aa14-45b5-98c5-74a9ef7283a3"
      },
      "source": [
        "# 학습 로스 보기\n",
        "plt.plot(history.history['loss'], label=\"loss\")\n",
        "plt.plot(history.history['val_loss'], label=\"val_loss\")\n",
        "plt.legend()\n",
        "plt.show()\n",
        "\n",
        "# 학습 로스 보기\n",
        "plt.plot(history.history['acc'], label=\"acc\")\n",
        "plt.plot(history.history['val_acc'], label=\"val_acc\")\n",
        "plt.legend()\n",
        "plt.show()\n"
      ],
      "execution_count": null,
      "outputs": [
        {
          "output_type": "display_data",
          "data": {
            "text/plain": [
              "<Figure size 432x288 with 1 Axes>"
            ],
            "image/png": "[encoded data removed]"
          },
          "metadata": {
            "needs_background": "light"
          }
        },
        {
          "output_type": "display_data",
          "data": {
            "text/plain": [
              "<Figure size 432x288 with 1 Axes>"
            ],
            "image/png": "[encoded data removed]"
          },
          "metadata": {
            "needs_background": "light"
          }
        }
      ]
    },
    {
      "cell_type": "markdown",
      "metadata": {
        "id": "UL8eJfdK5Ngh"
      },
      "source": [
        "## 예측 결과 그리기"
      ]
    },
    {
      "cell_type": "markdown",
      "metadata": {
        "id": "UziPpL3l5QOM"
      },
      "source": [
        "### 분류 작업"
      ]
    },
    {
      "cell_type": "code",
      "metadata": {
        "colab": {
          "base_uri": "https://localhost:8080/",
          "height": 249
        },
        "id": "WYdxYVyAr_B7",
        "outputId": "7ccf6400-17ab-4fed-c671-181f07f0d607"
      },
      "source": [
        "# 예측\n",
        "y_ = model.predict(test_x)\n",
        "predicted = np.argmax(y_, axis=-1)\n",
        "\n",
        "\n",
        "# 예측 결과 보기\n",
        "plt.figure(figsize=(15,3))\n",
        "plt.plot(test_y[:200], \"o\")\n",
        "plt.plot(predicted[:200], \".\")\n",
        "plt.show()"
      ],
      "execution_count": null,
      "outputs": [
        {
          "output_type": "stream",
          "name": "stdout",
          "text": [
            "WARNING:tensorflow:6 out of the last 13 calls to <function Model.make_predict_function.<locals>.predict_function at 0x7f6bc111ccb0> triggered tf.function retracing. Tracing is expensive and the excessive number of tracings could be due to (1) creating @tf.function repeatedly in a loop, (2) passing tensors with different shapes, (3) passing Python objects instead of tensors. For (1), please define your @tf.function outside of the loop. For (2), @tf.function has experimental_relax_shapes=True option that relaxes argument shapes that can avoid unnecessary retracing. For (3), please refer to https://www.tensorflow.org/guide/function#controlling_retracing and https://www.tensorflow.org/api_docs/python/tf/function for  more details.\n"
          ]
        },
        {
          "output_type": "display_data",
          "data": {
            "text/plain": [
              "<Figure size 1080x216 with 1 Axes>"
            ],
            "image/png": "[encoded data removed]"
          },
          "metadata": {
            "needs_background": "light"
          }
        }
      ]
    },
    {
      "cell_type": "markdown",
      "metadata": {
        "id": "WGBEFD7_5TDY"
      },
      "source": [
        "### 회귀 작업 "
      ]
    },
    {
      "cell_type": "code",
      "metadata": {
        "id": "xrSLAZw2t_pD"
      },
      "source": [
        "import numpy as np\n",
        "import pandas as pd\n",
        "import matplotlib.pyplot as plt\n",
        "\n",
        "import tensorflow as tf\n",
        "\n",
        "from tensorflow import keras\n",
        "from tensorflow.keras import optimizers\n",
        "from tensorflow.keras.layers import Dense, Input"
      ],
      "execution_count": null,
      "outputs": []
    },
    {
      "cell_type": "code",
      "metadata": {
        "id": "XZl9y4jpt_pU"
      },
      "source": [
        "(train_x, train_y), (test_x, test_y) = tf.keras.datasets.boston_housing.load_data()"
      ],
      "execution_count": null,
      "outputs": []
    },
    {
      "cell_type": "code",
      "metadata": {
        "colab": {
          "base_uri": "https://localhost:8080/"
        },
        "id": "SnjhMxQit_pV",
        "outputId": "0bc6a167-86c8-470a-90c2-2c72386b06f6"
      },
      "source": [
        "# 모델 정의\n",
        "model = keras.Sequential()\n",
        "model.add(Input(13))\n",
        "model.add(Dense(10, activation='relu'))\n",
        "model.add(Dense(10, activation='relu'))\n",
        "model.add(Dense(1))\n",
        "\n",
        "\n",
        "# 모델 컴파일\n",
        "model.compile(optimizer=\"Adam\", loss=\"mse\", metrics=[\"mae\"])\n",
        "model.summary()\n",
        "\n",
        "\n",
        "# 모델 학습\n",
        "history = model.fit(train_x, train_y, epochs=100, batch_size=32, verbose=0, validation_split=0.2)"
      ],
      "execution_count": null,
      "outputs": [
        {
          "output_type": "stream",
          "name": "stdout",
          "text": [
            "Model: \"sequential_8\"\n",
            "_________________________________________________________________\n",
            "Layer (type)                 Output Shape              Param #   \n",
            "=================================================================\n",
            "dense_24 (Dense)             (None, 10)                140       \n",
            "_________________________________________________________________\n",
            "dense_25 (Dense)             (None, 10)                110       \n",
            "_________________________________________________________________\n",
            "dense_26 (Dense)             (None, 1)                 11        \n",
            "=================================================================\n",
            "Total params: 261\n",
            "Trainable params: 261\n",
            "Non-trainable params: 0\n",
            "_________________________________________________________________\n"
          ]
        }
      ]
    },
    {
      "cell_type": "code",
      "metadata": {
        "colab": {
          "base_uri": "https://localhost:8080/",
          "height": 265
        },
        "id": "FxN_2PtCox7X",
        "outputId": "24e13c64-b7ac-4dbd-d416-abecbd184b5a"
      },
      "source": [
        "# 예측\n",
        "y_ = model.predict(test_x)\n",
        "\n",
        "\n",
        "# 예측 결과 보기\n",
        "plt.scatter(test_y, y_)\n",
        "plt.show()\n"
      ],
      "execution_count": null,
      "outputs": [
        {
          "output_type": "display_data",
          "data": {
            "text/plain": [
              "<Figure size 432x288 with 1 Axes>"
            ],
            "image/png": "[encoded data removed]"
          },
          "metadata": {
            "needs_background": "light"
          }
        }
      ]
    }
  ]
}