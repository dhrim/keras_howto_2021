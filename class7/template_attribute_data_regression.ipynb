{
  "nbformat": 4,
  "nbformat_minor": 0,
  "metadata": {
    "colab": {
      "name": "template_attribute_data_regression.ipynb",
      "provenance": [],
      "collapsed_sections": []
    },
    "kernelspec": {
      "name": "python3",
      "display_name": "Python 3"
    },
    "accelerator": "GPU"
  },
  "cells": [
    {
      "cell_type": "markdown",
      "metadata": {
        "id": "giMgHzNY8861"
      },
      "source": [
        "# 속성 데이터 회귀 Template"
      ]
    },
    {
      "cell_type": "markdown",
      "metadata": {
        "id": "qDu8wpKXq7kV"
      },
      "source": [
        "# 데이터 준비"
      ]
    },
    {
      "cell_type": "code",
      "metadata": {
        "id": "ROMsisKxw8MC"
      },
      "source": [
        "import numpy as np\n",
        "import pandas as pd\n",
        "import matplotlib.pyplot as plt"
      ],
      "execution_count": 1,
      "outputs": []
    },
    {
      "cell_type": "code",
      "metadata": {
        "colab": {
          "base_uri": "https://localhost:8080/"
        },
        "id": "gwMz9NaYwx5e",
        "outputId": "97cc5d42-dde3-4cdc-feb7-bd50a8c217e5"
      },
      "source": [
        "!wget https://raw.githubusercontent.com/dhrim/keras_howto_2021/master/data/car_regression.csv"
      ],
      "execution_count": 2,
      "outputs": [
        {
          "output_type": "stream",
          "name": "stdout",
          "text": [
            "--2021-09-23 04:01:54--  https://raw.githubusercontent.com/dhrim/keras_howto_2021/master/data/car_regression.csv\n",
            "Resolving raw.githubusercontent.com (raw.githubusercontent.com)... 185.199.108.133, 185.199.109.133, 185.199.110.133, ...\n",
            "Connecting to raw.githubusercontent.com (raw.githubusercontent.com)|185.199.108.133|:443... connected.\n",
            "HTTP request sent, awaiting response... 200 OK\n",
            "Length: 58697 (57K) [text/plain]\n",
            "Saving to: ‘car_regression.csv’\n",
            "\n",
            "\rcar_regression.csv    0%[                    ]       0  --.-KB/s               \rcar_regression.csv  100%[===================>]  57.32K  --.-KB/s    in 0.001s  \n",
            "\n",
            "2021-09-23 04:01:54 (40.5 MB/s) - ‘car_regression.csv’ saved [58697/58697]\n",
            "\n"
          ]
        }
      ]
    },
    {
      "cell_type": "code",
      "metadata": {
        "id": "VckhCYiwxAZj"
      },
      "source": [
        "raw_data = pd.read_csv(\"car_regression.csv\")\n",
        "data = raw_data.to_numpy()\n",
        "np.random.shuffle(data)\n",
        "\n",
        "x = data[:,1:]\n",
        "y = data[:,:1]\n",
        "\n",
        "split_index = int(len(x)*0.8)\n",
        "train_x, test_x = x[:split_index], x[split_index:]\n",
        "train_y, test_y = y[:split_index], y[split_index:]"
      ],
      "execution_count": 3,
      "outputs": []
    },
    {
      "cell_type": "code",
      "metadata": {
        "colab": {
          "base_uri": "https://localhost:8080/"
        },
        "id": "JskspNe2Z5F5",
        "outputId": "ca44bc65-8146-4e7f-ac2a-5ef0d6a9dd45"
      },
      "source": [
        "print(train_x[:5])\n",
        "print(train_y[:5])"
      ],
      "execution_count": 4,
      "outputs": [
        {
          "output_type": "stream",
          "name": "stdout",
          "text": [
            "[[ 1.48205303  1.18103289  0.923085    1.29787202 -0.66742197  0.54846706\n",
            "   1.          0.          0.        ]\n",
            " [-0.86291079 -0.41485406 -0.37591457 -0.49633025 -0.84865598  0.81993056\n",
            "   1.          0.          0.        ]\n",
            " [-0.86291079 -0.93088936 -0.42787455 -0.99785923 -0.37744756 -1.35177741\n",
            "   0.          0.          1.        ]\n",
            " [ 1.48205303  1.02813354  0.923085    1.54981381  0.16625446 -1.08031391\n",
            "   1.          0.          0.        ]\n",
            " [-0.86291079 -0.83532727 -0.76561444 -0.90367538 -0.41369436  1.36285755\n",
            "   0.          0.          1.        ]]\n",
            "[[-0.76180816]\n",
            " [ 1.28815785]\n",
            " [ 0.45535916]\n",
            " [-1.3383611 ]\n",
            " [ 1.31378242]]\n"
          ]
        }
      ]
    },
    {
      "cell_type": "code",
      "metadata": {
        "colab": {
          "base_uri": "https://localhost:8080/"
        },
        "id": "XR8Ck1Er6HmY",
        "outputId": "45054edc-fc65-46ca-aefc-79d610d4a37d"
      },
      "source": [
        "print(train_x.shape)\n",
        "print(train_y.shape)\n",
        "print(test_x.shape)\n",
        "print(test_y.shape)"
      ],
      "execution_count": 5,
      "outputs": [
        {
          "output_type": "stream",
          "name": "stdout",
          "text": [
            "(313, 9)\n",
            "(313, 1)\n",
            "(79, 9)\n",
            "(79, 1)\n"
          ]
        }
      ]
    },
    {
      "cell_type": "markdown",
      "metadata": {
        "id": "PvaZhPiSq5Gc"
      },
      "source": [
        "# Template"
      ]
    },
    {
      "cell_type": "code",
      "metadata": {
        "id": "S-wBUWBH_mTQ",
        "colab": {
          "base_uri": "https://localhost:8080/",
          "height": 822
        },
        "outputId": "70a4828b-f263-4a18-afde-efe9e0dc328c"
      },
      "source": [
        "import numpy as np\n",
        "import pandas as pd\n",
        "import matplotlib.pyplot as plt\n",
        "\n",
        "import tensorflow as tf\n",
        "\n",
        "from tensorflow import keras\n",
        "from tensorflow.keras import optimizers\n",
        "from tensorflow.keras.layers import Dense\n",
        "\n",
        "model = keras.Sequential()\n",
        "model.add(Dense(10, activation='relu', input_shape=(9,)))\n",
        "model.add(Dense(10, activation='relu'))\n",
        "model.add(Dense(1))\n",
        "\n",
        "model.compile(optimizer=\"SGD\", loss=\"mse\", metrics=[\"mae\"])\n",
        "model.summary()\n",
        "\n",
        "history = model.fit(train_x, train_y, epochs=1000, verbose=0, batch_size=128, validation_split=0.1)\n",
        "\n",
        "plt.plot(history.history['loss'])\n",
        "plt.plot(history.history['val_loss'])\n",
        "plt.show()\n",
        "\n",
        "\n",
        "\n",
        "loss, mae = model.evaluate(test_x, test_y)\n",
        "print(\"loss=\", loss)\n",
        "print(\"mae=\", mae)\n",
        "\n",
        "y_ = model.predict(test_x)\n",
        "\n",
        "plt.scatter(test_y, y_)\n",
        "plt.show()"
      ],
      "execution_count": 6,
      "outputs": [
        {
          "output_type": "stream",
          "name": "stdout",
          "text": [
            "Model: \"sequential\"\n",
            "_________________________________________________________________\n",
            "Layer (type)                 Output Shape              Param #   \n",
            "=================================================================\n",
            "dense (Dense)                (None, 10)                100       \n",
            "_________________________________________________________________\n",
            "dense_1 (Dense)              (None, 10)                110       \n",
            "_________________________________________________________________\n",
            "dense_2 (Dense)              (None, 1)                 11        \n",
            "=================================================================\n",
            "Total params: 221\n",
            "Trainable params: 221\n",
            "Non-trainable params: 0\n",
            "_________________________________________________________________\n"
          ]
        },
        {
          "output_type": "display_data",
          "data": {
            "image/png": "[encoded data removed]",
            "text/plain": [
              "<Figure size 432x288 with 1 Axes>"
            ]
          },
          "metadata": {
            "needs_background": "light"
          }
        },
        {
          "output_type": "stream",
          "name": "stdout",
          "text": [
            "3/3 [==============================] - 0s 4ms/step - loss: 0.0807 - mae: 0.2008\n",
            "loss= 0.0806688517332077\n",
            "mae= 0.20084083080291748\n"
          ]
        },
        {
          "output_type": "display_data",
          "data": {
            "image/png": "[encoded data removed]",
            "text/plain": [
              "<Figure size 432x288 with 1 Axes>"
            ]
          },
          "metadata": {
            "needs_background": "light"
          }
        }
      ]
    },
    {
      "cell_type": "code",
      "metadata": {
        "id": "-OlstKv7zLpI"
      },
      "source": [
        ""
      ],
      "execution_count": 6,
      "outputs": []
    }
  ]
}