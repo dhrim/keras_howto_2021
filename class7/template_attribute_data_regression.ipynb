{
  "nbformat": 4,
  "nbformat_minor": 0,
  "metadata": {
    "colab": {
      "name": "template_attribute_data_regression.ipynb",
      "provenance": [],
      "collapsed_sections": [],
      "toc_visible": true
    },
    "kernelspec": {
      "name": "python3",
      "display_name": "Python 3"
    },
    "accelerator": "GPU"
  },
  "cells": [
    {
      "cell_type": "markdown",
      "metadata": {
        "id": "giMgHzNY8861"
      },
      "source": [
        "# 속성 데이터 회귀 Template"
      ]
    },
    {
      "cell_type": "markdown",
      "metadata": {
        "id": "qDu8wpKXq7kV"
      },
      "source": [
        "# 데이터 준비"
      ]
    },
    {
      "cell_type": "code",
      "metadata": {
        "id": "ROMsisKxw8MC"
      },
      "source": [
        "import numpy as np\n",
        "import pandas as pd\n",
        "import matplotlib.pyplot as plt"
      ],
      "execution_count": 1,
      "outputs": []
    },
    {
      "cell_type": "code",
      "metadata": {
        "colab": {
          "base_uri": "https://localhost:8080/"
        },
        "id": "gwMz9NaYwx5e",
        "outputId": "010195a5-acbd-4371-846c-1e99c09225d2"
      },
      "source": [
        "!wget https://raw.githubusercontent.com/dhrim/keras_howto_2021/master/data/car_regression.csv"
      ],
      "execution_count": 2,
      "outputs": [
        {
          "output_type": "stream",
          "name": "stdout",
          "text": [
            "--2021-12-09 11:02:29--  https://raw.githubusercontent.com/dhrim/keras_howto_2021/master/data/car_regression.csv\n",
            "Resolving raw.githubusercontent.com (raw.githubusercontent.com)... 185.199.111.133, 185.199.110.133, 185.199.109.133, ...\n",
            "Connecting to raw.githubusercontent.com (raw.githubusercontent.com)|185.199.111.133|:443... connected.\n",
            "HTTP request sent, awaiting response... 200 OK\n",
            "Length: 58697 (57K) [text/plain]\n",
            "Saving to: ‘car_regression.csv’\n",
            "\n",
            "car_regression.csv  100%[===================>]  57.32K  --.-KB/s    in 0.007s  \n",
            "\n",
            "2021-12-09 11:02:29 (8.18 MB/s) - ‘car_regression.csv’ saved [58697/58697]\n",
            "\n"
          ]
        }
      ]
    },
    {
      "cell_type": "code",
      "metadata": {
        "id": "VckhCYiwxAZj"
      },
      "source": [
        "raw_data = pd.read_csv(\"car_regression.csv\")\n",
        "data = raw_data.to_numpy()\n",
        "np.random.shuffle(data)\n",
        "\n",
        "x = data[:,1:]\n",
        "y = data[:,:1]\n",
        "\n",
        "split_index = int(len(x)*0.8)\n",
        "train_x, test_x = x[:split_index], x[split_index:]\n",
        "train_y, test_y = y[:split_index], y[split_index:]"
      ],
      "execution_count": 3,
      "outputs": []
    },
    {
      "cell_type": "code",
      "metadata": {
        "colab": {
          "base_uri": "https://localhost:8080/",
          "height": 204
        },
        "id": "xt8KI8yi9h2Y",
        "outputId": "740da6af-ed37-4963-ded1-897b399c6f04"
      },
      "source": [
        "raw_data.head()"
      ],
      "execution_count": 4,
      "outputs": [
        {
          "output_type": "execute_result",
          "data": {
            "text/html": [
              "<div>\n",
              "<style scoped>\n",
              "    .dataframe tbody tr th:only-of-type {\n",
              "        vertical-align: middle;\n",
              "    }\n",
              "\n",
              "    .dataframe tbody tr th {\n",
              "        vertical-align: top;\n",
              "    }\n",
              "\n",
              "    .dataframe thead th {\n",
              "        text-align: right;\n",
              "    }\n",
              "</style>\n",
              "<table border=\"1\" class=\"dataframe\">\n",
              "  <thead>\n",
              "    <tr style=\"text-align: right;\">\n",
              "      <th></th>\n",
              "      <th>MPG</th>\n",
              "      <th>Cylinders</th>\n",
              "      <th>Displacement</th>\n",
              "      <th>Horsepower</th>\n",
              "      <th>Weight</th>\n",
              "      <th>Acceleration</th>\n",
              "      <th>Model Year</th>\n",
              "      <th>USA</th>\n",
              "      <th>Europe</th>\n",
              "      <th>Japan</th>\n",
              "    </tr>\n",
              "  </thead>\n",
              "  <tbody>\n",
              "    <tr>\n",
              "      <th>0</th>\n",
              "      <td>1.031912</td>\n",
              "      <td>-0.862911</td>\n",
              "      <td>-1.007339</td>\n",
              "      <td>-0.869534</td>\n",
              "      <td>-1.162681</td>\n",
              "      <td>-0.232460</td>\n",
              "      <td>0.548467</td>\n",
              "      <td>0.0</td>\n",
              "      <td>1.0</td>\n",
              "      <td>0.0</td>\n",
              "    </tr>\n",
              "    <tr>\n",
              "      <th>1</th>\n",
              "      <td>1.864711</td>\n",
              "      <td>0.309571</td>\n",
              "      <td>0.645885</td>\n",
              "      <td>-0.505815</td>\n",
              "      <td>0.044050</td>\n",
              "      <td>0.528722</td>\n",
              "      <td>1.634321</td>\n",
              "      <td>1.0</td>\n",
              "      <td>0.0</td>\n",
              "      <td>0.0</td>\n",
              "    </tr>\n",
              "    <tr>\n",
              "      <th>2</th>\n",
              "      <td>0.327236</td>\n",
              "      <td>-0.862911</td>\n",
              "      <td>-0.930889</td>\n",
              "      <td>-0.765614</td>\n",
              "      <td>-0.838924</td>\n",
              "      <td>0.963684</td>\n",
              "      <td>0.277004</td>\n",
              "      <td>0.0</td>\n",
              "      <td>0.0</td>\n",
              "      <td>1.0</td>\n",
              "    </tr>\n",
              "    <tr>\n",
              "      <th>3</th>\n",
              "      <td>0.263175</td>\n",
              "      <td>-0.862911</td>\n",
              "      <td>-0.519972</td>\n",
              "      <td>-0.401895</td>\n",
              "      <td>-0.262048</td>\n",
              "      <td>0.093761</td>\n",
              "      <td>0.277004</td>\n",
              "      <td>1.0</td>\n",
              "      <td>0.0</td>\n",
              "      <td>0.0</td>\n",
              "    </tr>\n",
              "    <tr>\n",
              "      <th>4</th>\n",
              "      <td>0.583482</td>\n",
              "      <td>-0.862911</td>\n",
              "      <td>-0.787546</td>\n",
              "      <td>-0.427875</td>\n",
              "      <td>-0.438643</td>\n",
              "      <td>1.471139</td>\n",
              "      <td>1.634321</td>\n",
              "      <td>1.0</td>\n",
              "      <td>0.0</td>\n",
              "      <td>0.0</td>\n",
              "    </tr>\n",
              "  </tbody>\n",
              "</table>\n",
              "</div>"
            ],
            "text/plain": [
              "        MPG  Cylinders  Displacement  ...  USA  Europe  Japan\n",
              "0  1.031912  -0.862911     -1.007339  ...  0.0     1.0    0.0\n",
              "1  1.864711   0.309571      0.645885  ...  1.0     0.0    0.0\n",
              "2  0.327236  -0.862911     -0.930889  ...  0.0     0.0    1.0\n",
              "3  0.263175  -0.862911     -0.519972  ...  1.0     0.0    0.0\n",
              "4  0.583482  -0.862911     -0.787546  ...  1.0     0.0    0.0\n",
              "\n",
              "[5 rows x 10 columns]"
            ]
          },
          "metadata": {},
          "execution_count": 4
        }
      ]
    },
    {
      "cell_type": "code",
      "metadata": {
        "colab": {
          "base_uri": "https://localhost:8080/"
        },
        "id": "JskspNe2Z5F5",
        "outputId": "78069905-8383-4928-f505-45a20c9fdf65"
      },
      "source": [
        "print(train_x[:5])\n",
        "print(train_y[:5])"
      ],
      "execution_count": 5,
      "outputs": [
        {
          "output_type": "stream",
          "name": "stdout",
          "text": [
            "[[-0.86291079 -1.00733903 -0.8695344  -1.16268096 -0.23246035  0.54846706\n",
            "   0.          1.          0.        ]\n",
            " [ 0.30957112  0.64588517 -0.50581452  0.04404957  0.52872248  1.63432105\n",
            "   1.          0.          0.        ]\n",
            " [-0.86291079 -0.93088936 -0.76561444 -0.83892399  0.96368409  0.27700357\n",
            "   0.          0.          1.        ]\n",
            " [-0.86291079 -0.51997236 -0.40189456 -0.26204793  0.09376086  0.27700357\n",
            "   1.          0.          0.        ]\n",
            " [-0.86291079 -0.78754622 -0.42787455 -0.43864264  1.47113931  1.63432105\n",
            "   1.          0.          0.        ]]\n",
            "[[1.0319121 ]\n",
            " [1.86471078]\n",
            " [0.32723628]\n",
            " [0.26317484]\n",
            " [0.58348203]]\n"
          ]
        }
      ]
    },
    {
      "cell_type": "code",
      "metadata": {
        "colab": {
          "base_uri": "https://localhost:8080/"
        },
        "id": "XR8Ck1Er6HmY",
        "outputId": "a75a3925-c5d1-496a-d2d4-021bbbedd770"
      },
      "source": [
        "print(train_x.shape)\n",
        "print(train_y.shape)\n",
        "print(test_x.shape)\n",
        "print(test_y.shape)"
      ],
      "execution_count": 6,
      "outputs": [
        {
          "output_type": "stream",
          "name": "stdout",
          "text": [
            "(313, 9)\n",
            "(313, 1)\n",
            "(79, 9)\n",
            "(79, 1)\n"
          ]
        }
      ]
    },
    {
      "cell_type": "markdown",
      "metadata": {
        "id": "PvaZhPiSq5Gc"
      },
      "source": [
        "# Template\n",
        "- 출력값 혹은 레이블링 값은 0.3, -1.7과 같은 숫자 값\n",
        "- 입력층 노드 수는 특질 수\n",
        "- 출력층 노드 수는 1개\n",
        "- 출력층 활성화 함수는 없다.\n",
        "- 사용하는 loss는 ‘mse’\n"
      ]
    },
    {
      "cell_type": "code",
      "metadata": {
        "id": "S-wBUWBH_mTQ",
        "colab": {
          "base_uri": "https://localhost:8080/",
          "height": 837
        },
        "outputId": "243e66a7-3b44-42db-b898-d5c044b8de47"
      },
      "source": [
        "import numpy as np\n",
        "import pandas as pd\n",
        "import matplotlib.pyplot as plt\n",
        "\n",
        "import tensorflow as tf\n",
        "\n",
        "from tensorflow import keras\n",
        "from tensorflow.keras import optimizers\n",
        "from tensorflow.keras.layers import Input, Dense\n",
        "\n",
        "model = keras.Sequential()\n",
        "model.add(Input(9)) # 수정할 곳. 노드수를 입력 데이터 특질 수로 설정.\n",
        "model.add(Dense(10, activation='relu'))\n",
        "model.add(Dense(10, activation='relu'))\n",
        "model.add(Dense(1)) \n",
        "\n",
        "model.compile(optimizer=\"SGD\", loss=\"mse\", metrics=[\"mae\"]) # loss는 mse를 사용\n",
        "model.summary()\n",
        "\n",
        "history = model.fit(train_x, train_y, epochs=1000, verbose=0, batch_size=128, validation_split=0.1)\n",
        "\n",
        "plt.plot(history.history['loss'])\n",
        "plt.plot(history.history['val_loss'])\n",
        "plt.show()\n",
        "\n",
        "\n",
        "\n",
        "loss, mae = model.evaluate(test_x, test_y)\n",
        "print(\"loss=\", loss)\n",
        "print(\"mae=\", mae)\n",
        "\n",
        "y_ = model.predict(test_x)\n",
        "\n",
        "plt.scatter(test_y, y_)\n",
        "plt.show()"
      ],
      "execution_count": 7,
      "outputs": [
        {
          "output_type": "stream",
          "name": "stdout",
          "text": [
            "Model: \"sequential\"\n",
            "_________________________________________________________________\n",
            " Layer (type)                Output Shape              Param #   \n",
            "=================================================================\n",
            " dense (Dense)               (None, 10)                100       \n",
            "                                                                 \n",
            " dense_1 (Dense)             (None, 10)                110       \n",
            "                                                                 \n",
            " dense_2 (Dense)             (None, 1)                 11        \n",
            "                                                                 \n",
            "=================================================================\n",
            "Total params: 221\n",
            "Trainable params: 221\n",
            "Non-trainable params: 0\n",
            "_________________________________________________________________\n"
          ]
        },
        {
          "output_type": "display_data",
          "data": {
            "image/png": "[encoded data removed]",
            "text/plain": [
              "<Figure size 432x288 with 1 Axes>"
            ]
          },
          "metadata": {
            "needs_background": "light"
          }
        },
        {
          "output_type": "stream",
          "name": "stdout",
          "text": [
            "3/3 [==============================] - 0s 5ms/step - loss: 0.1515 - mae: 0.2648\n",
            "loss= 0.15147528052330017\n",
            "mae= 0.2648463249206543\n"
          ]
        },
        {
          "output_type": "display_data",
          "data": {
            "image/png": "[encoded data removed]",
            "text/plain": [
              "<Figure size 432x288 with 1 Axes>"
            ]
          },
          "metadata": {
            "needs_background": "light"
          }
        }
      ]
    },
    {
      "cell_type": "markdown",
      "source": [
        "#Template 상세"
      ],
      "metadata": {
        "id": "XyqMJVD-2RN2"
      }
    },
    {
      "cell_type": "markdown",
      "source": [
        "## 임포팅"
      ],
      "metadata": {
        "id": "fY99SJs9wLsA"
      }
    },
    {
      "cell_type": "code",
      "source": [
        "import numpy as np\n",
        "import pandas as pd\n",
        "import matplotlib.pyplot as plt\n",
        "\n",
        "import tensorflow as tf\n",
        "\n",
        "from tensorflow import keras\n",
        "from tensorflow.keras import optimizers\n",
        "from tensorflow.keras.layers import Input, Dense"
      ],
      "metadata": {
        "id": "v_f-koiCwLKU"
      },
      "execution_count": 8,
      "outputs": []
    },
    {
      "cell_type": "markdown",
      "source": [
        "## 모델 정의\n"
      ],
      "metadata": {
        "id": "lF49uSjOwUXS"
      }
    },
    {
      "cell_type": "code",
      "source": [
        "model = keras.Sequential()\n",
        "model.add(Input(9)) # 수정할 곳. 노드수를 입력 데이터 특질 수로 설정.\n",
        "model.add(Dense(10, activation='relu'))\n",
        "model.add(Dense(10, activation='relu'))\n",
        "model.add(Dense(1)) "
      ],
      "metadata": {
        "id": "pf3IrW6JwUEe"
      },
      "execution_count": 9,
      "outputs": []
    },
    {
      "cell_type": "markdown",
      "source": [
        "## loss, optimizer 설정"
      ],
      "metadata": {
        "id": "tc1Z5u63wZFu"
      }
    },
    {
      "cell_type": "code",
      "source": [
        "model.compile(optimizer=\"SGD\", loss=\"mse\", metrics=[\"mae\"]) # loss는 mse를 사용"
      ],
      "metadata": {
        "id": "LHnarxV_waeg"
      },
      "execution_count": 10,
      "outputs": []
    },
    {
      "cell_type": "markdown",
      "source": [
        "## 모델 보기"
      ],
      "metadata": {
        "id": "6Mgl38sYwcV-"
      }
    },
    {
      "cell_type": "code",
      "source": [
        "model.summary()"
      ],
      "metadata": {
        "colab": {
          "base_uri": "https://localhost:8080/"
        },
        "id": "YV9Bpxg9wdb3",
        "outputId": "cc76f05a-b028-47a2-e35a-5a54e18ce5b6"
      },
      "execution_count": 11,
      "outputs": [
        {
          "output_type": "stream",
          "name": "stdout",
          "text": [
            "Model: \"sequential_1\"\n",
            "_________________________________________________________________\n",
            " Layer (type)                Output Shape              Param #   \n",
            "=================================================================\n",
            " dense_3 (Dense)             (None, 10)                100       \n",
            "                                                                 \n",
            " dense_4 (Dense)             (None, 10)                110       \n",
            "                                                                 \n",
            " dense_5 (Dense)             (None, 1)                 11        \n",
            "                                                                 \n",
            "=================================================================\n",
            "Total params: 221\n",
            "Trainable params: 221\n",
            "Non-trainable params: 0\n",
            "_________________________________________________________________\n"
          ]
        }
      ]
    },
    {
      "cell_type": "markdown",
      "source": [
        "## 모델 학습"
      ],
      "metadata": {
        "id": "pzAoLoXjwuZ4"
      }
    },
    {
      "cell_type": "code",
      "source": [
        "history = model.fit(train_x, train_y, epochs=1000, verbose=0, batch_size=128, validation_split=0.1)"
      ],
      "metadata": {
        "id": "5wGzg6lYwxAa"
      },
      "execution_count": 12,
      "outputs": []
    },
    {
      "cell_type": "markdown",
      "source": [
        "## loss  그리기"
      ],
      "metadata": {
        "id": "-tW41ximwyl0"
      }
    },
    {
      "cell_type": "code",
      "source": [
        "plt.plot(history.history['loss'])\n",
        "plt.plot(history.history['val_loss'])\n",
        "plt.show()"
      ],
      "metadata": {
        "colab": {
          "base_uri": "https://localhost:8080/",
          "height": 267
        },
        "id": "TNbnTyDrwyVv",
        "outputId": "e7627a9b-d1eb-40f3-f8bd-87f46ba2c308"
      },
      "execution_count": 13,
      "outputs": [
        {
          "output_type": "display_data",
          "data": {
            "image/png": "[encoded data removed]",
            "text/plain": [
              "<Figure size 432x288 with 1 Axes>"
            ]
          },
          "metadata": {
            "needs_background": "light"
          }
        }
      ]
    },
    {
      "cell_type": "markdown",
      "source": [
        "## 평가"
      ],
      "metadata": {
        "id": "qPM_wBHFw084"
      }
    },
    {
      "cell_type": "code",
      "source": [
        "loss, mae = model.evaluate(test_x, test_y)\n",
        "print(\"loss=\", loss)\n",
        "print(\"mae=\", mae)"
      ],
      "metadata": {
        "colab": {
          "base_uri": "https://localhost:8080/"
        },
        "id": "v_MjbbHVw0wG",
        "outputId": "b9249b2a-90a6-4d76-d0b7-09acb7a739b3"
      },
      "execution_count": 14,
      "outputs": [
        {
          "output_type": "stream",
          "name": "stdout",
          "text": [
            "3/3 [==============================] - 0s 4ms/step - loss: 0.1541 - mae: 0.2644\n",
            "loss= 0.15408970415592194\n",
            "mae= 0.2644175887107849\n"
          ]
        }
      ]
    },
    {
      "cell_type": "markdown",
      "source": [
        "## 예측"
      ],
      "metadata": {
        "id": "2e2E4tAvw36u"
      }
    },
    {
      "cell_type": "code",
      "source": [
        "y_ = model.predict(test_x)\n"
      ],
      "metadata": {
        "id": "cr4NoFLDw3lW"
      },
      "execution_count": 15,
      "outputs": []
    },
    {
      "cell_type": "markdown",
      "source": [
        "## 속성 회귀 결과 그리기"
      ],
      "metadata": {
        "id": "ozcBPXF7w7B1"
      }
    },
    {
      "cell_type": "code",
      "source": [
        "\n",
        "plt.scatter(test_y, y_)\n",
        "plt.show()"
      ],
      "metadata": {
        "colab": {
          "base_uri": "https://localhost:8080/",
          "height": 265
        },
        "id": "tb6M8URBw6wK",
        "outputId": "2c15f191-4b65-44f2-bdf1-f2a25f18e455"
      },
      "execution_count": 16,
      "outputs": [
        {
          "output_type": "display_data",
          "data": {
            "image/png": "[encoded data removed]",
            "text/plain": [
              "<Figure size 432x288 with 1 Axes>"
            ]
          },
          "metadata": {
            "needs_background": "light"
          }
        }
      ]
    }
  ]
}