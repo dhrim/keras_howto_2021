{
  "nbformat": 4,
  "nbformat_minor": 0,
  "metadata": {
    "colab": {
      "name": "normalization_and_standardization.ipynb",
      "provenance": [],
      "collapsed_sections": [],
      "toc_visible": true
    },
    "kernelspec": {
      "name": "python3",
      "display_name": "Python 3"
    },
    "accelerator": "GPU"
  },
  "cells": [
    {
      "cell_type": "markdown",
      "metadata": {
        "id": "9yXOlKhmgPkB"
      },
      "source": [
        "# 기반 준비"
      ]
    },
    {
      "cell_type": "markdown",
      "metadata": {
        "id": "pMZ7No6QgT0o"
      },
      "source": [
        "## 모듈 임포팅"
      ]
    },
    {
      "cell_type": "code",
      "metadata": {
        "id": "pH--ADDvhXQM"
      },
      "source": [
        "import numpy as np\n",
        "import pandas as pd\n",
        "import matplotlib.pyplot as plt\n",
        "\n",
        "import tensorflow as tf\n",
        "from tensorflow import keras\n",
        "from tensorflow.keras import optimizers\n",
        "from tensorflow.keras.layers import Dense, Flatten"
      ],
      "execution_count": 1,
      "outputs": []
    },
    {
      "cell_type": "markdown",
      "metadata": {
        "id": "_cIXGNBpkD13"
      },
      "source": [
        "## 속성 데이터 준비"
      ]
    },
    {
      "cell_type": "markdown",
      "metadata": {
        "id": "kpizcbIn5CK6"
      },
      "source": [
        "### 데이터 다운로드"
      ]
    },
    {
      "cell_type": "code",
      "metadata": {
        "id": "is1Jygwv8leP",
        "colab": {
          "base_uri": "https://localhost:8080/"
        },
        "outputId": "2417556d-cbaa-4dcf-e84c-fed78d3becc6"
      },
      "source": [
        "!wget https://github.com/dhrim/keras_howto_2021/raw/master/common/iris.csv"
      ],
      "execution_count": 2,
      "outputs": [
        {
          "output_type": "stream",
          "text": [
            "--2021-07-25 13:17:39--  https://github.com/dhrim/keras_howto_2021/raw/master/common/iris.csv\n",
            "Resolving github.com (github.com)... 140.82.114.4\n",
            "Connecting to github.com (github.com)|140.82.114.4|:443... connected.\n",
            "HTTP request sent, awaiting response... 302 Found\n",
            "Location: https://raw.githubusercontent.com/dhrim/keras_howto_2021/master/common/iris.csv [following]\n",
            "--2021-07-25 13:17:40--  https://raw.githubusercontent.com/dhrim/keras_howto_2021/master/common/iris.csv\n",
            "Resolving raw.githubusercontent.com (raw.githubusercontent.com)... 185.199.108.133, 185.199.109.133, 185.199.110.133, ...\n",
            "Connecting to raw.githubusercontent.com (raw.githubusercontent.com)|185.199.108.133|:443... connected.\n",
            "HTTP request sent, awaiting response... 200 OK\n",
            "Length: 2218 (2.2K) [text/plain]\n",
            "Saving to: ‘iris.csv.6’\n",
            "\n",
            "iris.csv.6          100%[===================>]   2.17K  --.-KB/s    in 0s      \n",
            "\n",
            "2021-07-25 13:17:40 (7.64 MB/s) - ‘iris.csv.6’ saved [2218/2218]\n",
            "\n"
          ],
          "name": "stdout"
        }
      ]
    },
    {
      "cell_type": "code",
      "metadata": {
        "id": "7Uw1AwaxbTm7",
        "colab": {
          "base_uri": "https://localhost:8080/"
        },
        "outputId": "4eba95db-a113-415b-ac7a-98c4ececcb0b"
      },
      "source": [
        "!head iris.csv"
      ],
      "execution_count": 3,
      "outputs": [
        {
          "output_type": "stream",
          "text": [
            "septal_length,septal_width,petal_length,petal_width,class\n",
            "6.4,2.8,5.6,2.2,2\n",
            "5.0,2.3,3.3,1.0,1\n",
            "4.9,2.5,4.5,1.7,2\n",
            "4.9,3.1,1.5,0.1,0\n",
            "5.7,3.8,1.7,0.3,0\n",
            "4.4,3.2,1.3,0.2,0\n",
            "5.4,3.4,1.5,0.4,0\n",
            "6.9,3.1,5.1,2.3,2\n",
            "6.7,3.1,4.4,1.4,1\n"
          ],
          "name": "stdout"
        }
      ]
    },
    {
      "cell_type": "markdown",
      "metadata": {
        "id": "a8JBf-TC5AWk"
      },
      "source": [
        "### 데이터 로딩"
      ]
    },
    {
      "cell_type": "code",
      "metadata": {
        "id": "J1fqqYEm8n2t",
        "colab": {
          "base_uri": "https://localhost:8080/",
          "height": 204
        },
        "outputId": "4f6af4ad-a53e-4861-df0b-13522eef54ca"
      },
      "source": [
        "iris = pd.read_csv(\"iris.csv\")\n",
        "iris.head()"
      ],
      "execution_count": 4,
      "outputs": [
        {
          "output_type": "execute_result",
          "data": {
            "text/html": [
              "<div>\n",
              "<style scoped>\n",
              "    .dataframe tbody tr th:only-of-type {\n",
              "        vertical-align: middle;\n",
              "    }\n",
              "\n",
              "    .dataframe tbody tr th {\n",
              "        vertical-align: top;\n",
              "    }\n",
              "\n",
              "    .dataframe thead th {\n",
              "        text-align: right;\n",
              "    }\n",
              "</style>\n",
              "<table border=\"1\" class=\"dataframe\">\n",
              "  <thead>\n",
              "    <tr style=\"text-align: right;\">\n",
              "      <th></th>\n",
              "      <th>septal_length</th>\n",
              "      <th>septal_width</th>\n",
              "      <th>petal_length</th>\n",
              "      <th>petal_width</th>\n",
              "      <th>class</th>\n",
              "    </tr>\n",
              "  </thead>\n",
              "  <tbody>\n",
              "    <tr>\n",
              "      <th>0</th>\n",
              "      <td>6.4</td>\n",
              "      <td>2.8</td>\n",
              "      <td>5.6</td>\n",
              "      <td>2.2</td>\n",
              "      <td>2</td>\n",
              "    </tr>\n",
              "    <tr>\n",
              "      <th>1</th>\n",
              "      <td>5.0</td>\n",
              "      <td>2.3</td>\n",
              "      <td>3.3</td>\n",
              "      <td>1.0</td>\n",
              "      <td>1</td>\n",
              "    </tr>\n",
              "    <tr>\n",
              "      <th>2</th>\n",
              "      <td>4.9</td>\n",
              "      <td>2.5</td>\n",
              "      <td>4.5</td>\n",
              "      <td>1.7</td>\n",
              "      <td>2</td>\n",
              "    </tr>\n",
              "    <tr>\n",
              "      <th>3</th>\n",
              "      <td>4.9</td>\n",
              "      <td>3.1</td>\n",
              "      <td>1.5</td>\n",
              "      <td>0.1</td>\n",
              "      <td>0</td>\n",
              "    </tr>\n",
              "    <tr>\n",
              "      <th>4</th>\n",
              "      <td>5.7</td>\n",
              "      <td>3.8</td>\n",
              "      <td>1.7</td>\n",
              "      <td>0.3</td>\n",
              "      <td>0</td>\n",
              "    </tr>\n",
              "  </tbody>\n",
              "</table>\n",
              "</div>"
            ],
            "text/plain": [
              "   septal_length  septal_width  petal_length  petal_width  class\n",
              "0            6.4           2.8           5.6          2.2      2\n",
              "1            5.0           2.3           3.3          1.0      1\n",
              "2            4.9           2.5           4.5          1.7      2\n",
              "3            4.9           3.1           1.5          0.1      0\n",
              "4            5.7           3.8           1.7          0.3      0"
            ]
          },
          "metadata": {
            "tags": []
          },
          "execution_count": 4
        }
      ]
    },
    {
      "cell_type": "code",
      "metadata": {
        "id": "4-ZtqXYD8s1O",
        "colab": {
          "base_uri": "https://localhost:8080/"
        },
        "outputId": "13df04a0-9f61-4040-a9ff-a87ea93cff5d"
      },
      "source": [
        "iris_data = iris.to_numpy()\n",
        "print(iris_data.shape)\n",
        "print(iris_data[:5])"
      ],
      "execution_count": 5,
      "outputs": [
        {
          "output_type": "stream",
          "text": [
            "(120, 5)\n",
            "[[6.4 2.8 5.6 2.2 2. ]\n",
            " [5.  2.3 3.3 1.  1. ]\n",
            " [4.9 2.5 4.5 1.7 2. ]\n",
            " [4.9 3.1 1.5 0.1 0. ]\n",
            " [5.7 3.8 1.7 0.3 0. ]]\n"
          ],
          "name": "stdout"
        }
      ]
    },
    {
      "cell_type": "markdown",
      "metadata": {
        "id": "sfiCFU6gQpKT"
      },
      "source": [
        "### x, y 분리 전에 섞기"
      ]
    },
    {
      "cell_type": "code",
      "metadata": {
        "colab": {
          "base_uri": "https://localhost:8080/"
        },
        "id": "DO5ECbO1Qg2j",
        "outputId": "1f463bd1-bcac-4fdf-e98f-c336f621cedd"
      },
      "source": [
        "np.random.shuffle(iris_data)\n",
        "print(iris_data[:5])"
      ],
      "execution_count": 6,
      "outputs": [
        {
          "output_type": "stream",
          "text": [
            "[[6.8 2.8 4.8 1.4 1. ]\n",
            " [4.6 3.4 1.4 0.3 0. ]\n",
            " [4.8 3.1 1.6 0.2 0. ]\n",
            " [6.3 2.7 4.9 1.8 2. ]\n",
            " [4.6 3.2 1.4 0.2 0. ]]\n"
          ],
          "name": "stdout"
        }
      ]
    },
    {
      "cell_type": "markdown",
      "metadata": {
        "id": "Xae8So1p507Y"
      },
      "source": [
        "### x, y로 분리"
      ]
    },
    {
      "cell_type": "code",
      "metadata": {
        "id": "QJcOQ_2l5z9Y"
      },
      "source": [
        "iris_raw_x = iris_data[:,:4]\n",
        "iris_raw_y = iris_data[:,4:]"
      ],
      "execution_count": 7,
      "outputs": []
    },
    {
      "cell_type": "code",
      "metadata": {
        "colab": {
          "base_uri": "https://localhost:8080/"
        },
        "id": "rXRphvub54dh",
        "outputId": "8d5aa10b-3cd1-49ec-cea0-54d396565c5c"
      },
      "source": [
        "print(iris_raw_x.shape)\n",
        "print(iris_raw_y.shape)"
      ],
      "execution_count": 8,
      "outputs": [
        {
          "output_type": "stream",
          "text": [
            "(120, 4)\n",
            "(120, 1)\n"
          ],
          "name": "stdout"
        }
      ]
    },
    {
      "cell_type": "code",
      "metadata": {
        "colab": {
          "base_uri": "https://localhost:8080/"
        },
        "id": "0EqgDbXI5-vj",
        "outputId": "1906b657-e5cc-4f30-b026-3156b07ff3f2"
      },
      "source": [
        "print(iris_raw_x[:5])\n",
        "print(iris_raw_y[:5])"
      ],
      "execution_count": 9,
      "outputs": [
        {
          "output_type": "stream",
          "text": [
            "[[6.8 2.8 4.8 1.4]\n",
            " [4.6 3.4 1.4 0.3]\n",
            " [4.8 3.1 1.6 0.2]\n",
            " [6.3 2.7 4.9 1.8]\n",
            " [4.6 3.2 1.4 0.2]]\n",
            "[[1.]\n",
            " [0.]\n",
            " [0.]\n",
            " [2.]\n",
            " [0.]]\n"
          ],
          "name": "stdout"
        }
      ]
    },
    {
      "cell_type": "markdown",
      "metadata": {
        "id": "IjJwImlTvEMZ"
      },
      "source": [
        "# 속성 데이터"
      ]
    },
    {
      "cell_type": "markdown",
      "metadata": {
        "id": "c8WtAbpQuQjK"
      },
      "source": [
        "## 아무것도 적용 하지 않은"
      ]
    },
    {
      "cell_type": "code",
      "metadata": {
        "id": "tQkgY4QcoIVI"
      },
      "source": [
        "x = iris_raw_x\n",
        "y = iris_raw_y"
      ],
      "execution_count": 10,
      "outputs": []
    },
    {
      "cell_type": "code",
      "metadata": {
        "colab": {
          "base_uri": "https://localhost:8080/",
          "height": 265
        },
        "id": "RrrrAmDty0PX",
        "outputId": "35649b28-b91b-4f84-e556-1b6855384e15"
      },
      "source": [
        "plt.hist(x[:,0], bins=100)\n",
        "plt.show()"
      ],
      "execution_count": 11,
      "outputs": [
        {
          "output_type": "display_data",
          "data": {
            "image/png": "[encoded data removed]",
            "text/plain": [
              "<Figure size 432x288 with 1 Axes>"
            ]
          },
          "metadata": {
            "tags": [],
            "needs_background": "light"
          }
        }
      ]
    },
    {
      "cell_type": "code",
      "metadata": {
        "id": "7OuxU3Z98L8w"
      },
      "source": [
        "from sklearn.model_selection import train_test_split\n",
        "\n",
        "train_x, test_x, train_y, test_y = train_test_split(x, y, test_size=0.1, shuffle=True)\n"
      ],
      "execution_count": 12,
      "outputs": []
    },
    {
      "cell_type": "code",
      "metadata": {
        "id": "Mtq7nWpj-isQ",
        "colab": {
          "base_uri": "https://localhost:8080/"
        },
        "outputId": "be8f4bf6-d36b-430a-8576-199de84f9ef1"
      },
      "source": [
        "model = keras.Sequential([\n",
        "    keras.layers.Dense(10, activation='relu', input_shape=(4,)),\n",
        "    keras.layers.Dense(10, activation='relu'),\n",
        "    keras.layers.Dense(3, activation='softmax')\n",
        "])\n",
        "\n",
        "model.compile(optimizer='adam',\n",
        "              loss='sparse_categorical_crossentropy',\n",
        "              metrics=['accuracy'])\n",
        "\n",
        "model.fit(train_x, train_y, epochs=10, validation_split=0.2)\n",
        "\n",
        "loss, acc = model.evaluate(test_x, test_y)\n",
        "\n",
        "print(\"loss :\", loss)\n",
        "print(\"acc :\", acc)"
      ],
      "execution_count": 13,
      "outputs": [
        {
          "output_type": "stream",
          "text": [
            "Epoch 1/10\n",
            "3/3 [==============================] - 1s 86ms/step - loss: 3.4487 - accuracy: 0.3256 - val_loss: 3.1297 - val_accuracy: 0.3636\n",
            "Epoch 2/10\n",
            "3/3 [==============================] - 0s 10ms/step - loss: 3.2798 - accuracy: 0.3256 - val_loss: 2.9740 - val_accuracy: 0.3636\n",
            "Epoch 3/10\n",
            "3/3 [==============================] - 0s 10ms/step - loss: 3.1059 - accuracy: 0.3256 - val_loss: 2.8211 - val_accuracy: 0.3636\n",
            "Epoch 4/10\n",
            "3/3 [==============================] - 0s 10ms/step - loss: 2.9338 - accuracy: 0.3256 - val_loss: 2.6644 - val_accuracy: 0.3636\n",
            "Epoch 5/10\n",
            "3/3 [==============================] - 0s 11ms/step - loss: 2.7636 - accuracy: 0.3256 - val_loss: 2.5066 - val_accuracy: 0.3636\n",
            "Epoch 6/10\n",
            "3/3 [==============================] - 0s 11ms/step - loss: 2.6018 - accuracy: 0.3256 - val_loss: 2.3509 - val_accuracy: 0.3636\n",
            "Epoch 7/10\n",
            "3/3 [==============================] - 0s 10ms/step - loss: 2.4347 - accuracy: 0.3256 - val_loss: 2.2018 - val_accuracy: 0.3636\n",
            "Epoch 8/10\n",
            "3/3 [==============================] - 0s 10ms/step - loss: 2.2679 - accuracy: 0.3256 - val_loss: 2.0611 - val_accuracy: 0.3636\n",
            "Epoch 9/10\n",
            "3/3 [==============================] - 0s 10ms/step - loss: 2.1175 - accuracy: 0.3256 - val_loss: 1.9277 - val_accuracy: 0.3636\n",
            "Epoch 10/10\n",
            "3/3 [==============================] - 0s 10ms/step - loss: 1.9709 - accuracy: 0.3256 - val_loss: 1.8040 - val_accuracy: 0.3636\n",
            "1/1 [==============================] - 0s 14ms/step - loss: 2.3616 - accuracy: 0.1667\n",
            "loss : 2.3616445064544678\n",
            "acc : 0.1666666716337204\n"
          ],
          "name": "stdout"
        }
      ]
    },
    {
      "cell_type": "code",
      "metadata": {
        "id": "qT9WCz-xuXPD"
      },
      "source": [
        ""
      ],
      "execution_count": 13,
      "outputs": []
    },
    {
      "cell_type": "markdown",
      "metadata": {
        "id": "nXhrrOwgjcB9"
      },
      "source": [
        "## Normalization 적용\n",
        "\n",
        "각 속성 별로 개별 데이터 이다. 각 컬럼 별로 해주어야 한다."
      ]
    },
    {
      "cell_type": "code",
      "metadata": {
        "id": "jX667dX-nWXn"
      },
      "source": [
        "df_x = pd.DataFrame(iris_raw_x)\n",
        "df_x_scaled = (df_x - df_x.min()) / (df_x.max() - df_x.min())\n",
        "x = df_x_scaled.to_numpy()\n",
        "\n",
        "y = iris_raw_y"
      ],
      "execution_count": 14,
      "outputs": []
    },
    {
      "cell_type": "code",
      "metadata": {
        "colab": {
          "base_uri": "https://localhost:8080/",
          "height": 265
        },
        "id": "JiMQF8JfzBOg",
        "outputId": "342aff10-f456-42e1-dcae-795bcd75c4d1"
      },
      "source": [
        "plt.hist(x[:,0], bins=100)\n",
        "plt.show()"
      ],
      "execution_count": 15,
      "outputs": [
        {
          "output_type": "display_data",
          "data": {
            "image/png": "[encoded data removed]",
            "text/plain": [
              "<Figure size 432x288 with 1 Axes>"
            ]
          },
          "metadata": {
            "tags": [],
            "needs_background": "light"
          }
        }
      ]
    },
    {
      "cell_type": "code",
      "metadata": {
        "id": "S1xoEqGEllHS"
      },
      "source": [
        "from sklearn.model_selection import train_test_split\n",
        "\n",
        "train_x, test_x, train_y, test_y = train_test_split(x, y, test_size=0.1, shuffle=True)\n"
      ],
      "execution_count": 16,
      "outputs": []
    },
    {
      "cell_type": "code",
      "metadata": {
        "colab": {
          "base_uri": "https://localhost:8080/"
        },
        "id": "IJB-iQVyllHb",
        "outputId": "0676f731-ad8b-462f-a288-2ff4fb6f10c4"
      },
      "source": [
        "model = keras.Sequential([\n",
        "    keras.layers.Dense(10, activation='relu', input_shape=(4,)),\n",
        "    keras.layers.Dense(10, activation='relu'),\n",
        "    keras.layers.Dense(3, activation='softmax')\n",
        "])\n",
        "\n",
        "model.compile(optimizer='adam',\n",
        "              loss='sparse_categorical_crossentropy',\n",
        "              metrics=['accuracy'])\n",
        "\n",
        "model.fit(train_x, train_y, epochs=10, validation_split=0.2)\n",
        "\n",
        "loss, acc = model.evaluate(test_x, test_y)\n",
        "\n",
        "print(\"loss :\", loss)\n",
        "print(\"acc :\", acc)"
      ],
      "execution_count": 17,
      "outputs": [
        {
          "output_type": "stream",
          "text": [
            "Epoch 1/10\n",
            "3/3 [==============================] - 1s 125ms/step - loss: 1.1513 - accuracy: 0.0116 - val_loss: 1.1387 - val_accuracy: 0.0455\n",
            "Epoch 2/10\n",
            "3/3 [==============================] - 0s 13ms/step - loss: 1.1434 - accuracy: 0.0349 - val_loss: 1.1325 - val_accuracy: 0.0909\n",
            "Epoch 3/10\n",
            "3/3 [==============================] - 0s 11ms/step - loss: 1.1356 - accuracy: 0.0465 - val_loss: 1.1266 - val_accuracy: 0.0909\n",
            "Epoch 4/10\n",
            "3/3 [==============================] - 0s 11ms/step - loss: 1.1280 - accuracy: 0.1163 - val_loss: 1.1207 - val_accuracy: 0.0909\n",
            "Epoch 5/10\n",
            "3/3 [==============================] - 0s 13ms/step - loss: 1.1203 - accuracy: 0.1512 - val_loss: 1.1147 - val_accuracy: 0.2273\n",
            "Epoch 6/10\n",
            "3/3 [==============================] - 0s 14ms/step - loss: 1.1131 - accuracy: 0.1744 - val_loss: 1.1090 - val_accuracy: 0.3182\n",
            "Epoch 7/10\n",
            "3/3 [==============================] - 0s 11ms/step - loss: 1.1055 - accuracy: 0.2093 - val_loss: 1.1033 - val_accuracy: 0.3182\n",
            "Epoch 8/10\n",
            "3/3 [==============================] - 0s 11ms/step - loss: 1.0985 - accuracy: 0.2442 - val_loss: 1.0977 - val_accuracy: 0.3182\n",
            "Epoch 9/10\n",
            "3/3 [==============================] - 0s 10ms/step - loss: 1.0914 - accuracy: 0.3372 - val_loss: 1.0921 - val_accuracy: 0.4091\n",
            "Epoch 10/10\n",
            "3/3 [==============================] - 0s 12ms/step - loss: 1.0847 - accuracy: 0.4070 - val_loss: 1.0870 - val_accuracy: 0.5000\n",
            "1/1 [==============================] - 0s 19ms/step - loss: 1.0866 - accuracy: 0.5000\n",
            "loss : 1.0866397619247437\n",
            "acc : 0.5\n"
          ],
          "name": "stdout"
        }
      ]
    },
    {
      "cell_type": "markdown",
      "metadata": {
        "id": "6EgZXbG_qJnF"
      },
      "source": [
        "## Standardization 적용\n",
        "\n",
        "column 별로 해주기 위해 pandas를 사용한다.\n"
      ]
    },
    {
      "cell_type": "code",
      "metadata": {
        "id": "l1wmuZGWqaoh"
      },
      "source": [
        "df_x = pd.DataFrame(iris_raw_x)\n",
        "df_x_scaled = (df_x - df_x.mean()) / (df_x.std())\n",
        "x = df_x_scaled.to_numpy()\n",
        "\n",
        "y = iris_raw_y"
      ],
      "execution_count": 18,
      "outputs": []
    },
    {
      "cell_type": "code",
      "metadata": {
        "colab": {
          "base_uri": "https://localhost:8080/",
          "height": 265
        },
        "id": "oxNxAeFSzE7d",
        "outputId": "86b846ef-c96a-44b8-f593-808c7848087f"
      },
      "source": [
        "plt.hist(x[:,0], bins=100)\n",
        "plt.show()"
      ],
      "execution_count": 19,
      "outputs": [
        {
          "output_type": "display_data",
          "data": {
            "image/png": "[encoded data removed]",
            "text/plain": [
              "<Figure size 432x288 with 1 Axes>"
            ]
          },
          "metadata": {
            "tags": [],
            "needs_background": "light"
          }
        }
      ]
    },
    {
      "cell_type": "code",
      "metadata": {
        "id": "Aw5HQaQVqaoh"
      },
      "source": [
        "from sklearn.model_selection import train_test_split\n",
        "\n",
        "train_x, test_x, train_y, test_y = train_test_split(x, y, test_size=0.1, shuffle=True)\n"
      ],
      "execution_count": 20,
      "outputs": []
    },
    {
      "cell_type": "code",
      "metadata": {
        "colab": {
          "base_uri": "https://localhost:8080/"
        },
        "id": "92nWewufqaoi",
        "outputId": "e02d28be-2aa7-46c2-eb81-c72cff33352c"
      },
      "source": [
        "model = keras.Sequential([\n",
        "    keras.layers.Dense(10, activation='relu', input_shape=(4,)),\n",
        "    keras.layers.Dense(10, activation='relu'),\n",
        "    keras.layers.Dense(3, activation='softmax')\n",
        "])\n",
        "\n",
        "model.compile(optimizer='adam',\n",
        "              loss='sparse_categorical_crossentropy',\n",
        "              metrics=['accuracy'])\n",
        "\n",
        "\n",
        "model.fit(train_x, train_y, epochs=10, validation_split=0.2)\n",
        "\n",
        "loss, acc = model.evaluate(test_x, test_y)\n",
        "\n",
        "print(\"loss :\", loss)\n",
        "print(\"acc :\", acc)"
      ],
      "execution_count": 21,
      "outputs": [
        {
          "output_type": "stream",
          "text": [
            "Epoch 1/10\n",
            "3/3 [==============================] - 0s 74ms/step - loss: 1.0780 - accuracy: 0.4535 - val_loss: 1.0634 - val_accuracy: 0.4545\n",
            "Epoch 2/10\n",
            "3/3 [==============================] - 0s 13ms/step - loss: 1.0595 - accuracy: 0.4535 - val_loss: 1.0447 - val_accuracy: 0.4545\n",
            "Epoch 3/10\n",
            "3/3 [==============================] - 0s 12ms/step - loss: 1.0448 - accuracy: 0.4767 - val_loss: 1.0276 - val_accuracy: 0.4545\n",
            "Epoch 4/10\n",
            "3/3 [==============================] - 0s 11ms/step - loss: 1.0309 - accuracy: 0.4884 - val_loss: 1.0119 - val_accuracy: 0.4545\n",
            "Epoch 5/10\n",
            "3/3 [==============================] - 0s 12ms/step - loss: 1.0187 - accuracy: 0.4767 - val_loss: 0.9971 - val_accuracy: 0.4545\n",
            "Epoch 6/10\n",
            "3/3 [==============================] - 0s 12ms/step - loss: 1.0051 - accuracy: 0.4767 - val_loss: 0.9833 - val_accuracy: 0.4545\n",
            "Epoch 7/10\n",
            "3/3 [==============================] - 0s 13ms/step - loss: 0.9935 - accuracy: 0.4535 - val_loss: 0.9700 - val_accuracy: 0.5455\n",
            "Epoch 8/10\n",
            "3/3 [==============================] - 0s 10ms/step - loss: 0.9824 - accuracy: 0.4419 - val_loss: 0.9573 - val_accuracy: 0.5455\n",
            "Epoch 9/10\n",
            "3/3 [==============================] - 0s 10ms/step - loss: 0.9714 - accuracy: 0.4651 - val_loss: 0.9453 - val_accuracy: 0.6364\n",
            "Epoch 10/10\n",
            "3/3 [==============================] - 0s 11ms/step - loss: 0.9614 - accuracy: 0.4884 - val_loss: 0.9336 - val_accuracy: 0.6818\n",
            "1/1 [==============================] - 0s 13ms/step - loss: 0.9393 - accuracy: 0.5833\n",
            "loss : 0.9392518997192383\n",
            "acc : 0.5833333134651184\n"
          ],
          "name": "stdout"
        }
      ]
    },
    {
      "cell_type": "code",
      "metadata": {
        "id": "LcQhBruYrXFo"
      },
      "source": [
        ""
      ],
      "execution_count": 21,
      "outputs": []
    },
    {
      "cell_type": "markdown",
      "metadata": {
        "id": "_kRQaCx2vPjQ"
      },
      "source": [
        "# 영상 데이터"
      ]
    },
    {
      "cell_type": "markdown",
      "metadata": {
        "id": "nFXaPJzruUZz"
      },
      "source": [
        "## 아무것도 적용 하지 않은"
      ]
    },
    {
      "cell_type": "code",
      "metadata": {
        "id": "PY0r4eraifEQ"
      },
      "source": [
        "(train_x, train_y), (test_x, test_y) = tf.keras.datasets.mnist.load_data()\n"
      ],
      "execution_count": 22,
      "outputs": []
    },
    {
      "cell_type": "code",
      "metadata": {
        "colab": {
          "base_uri": "https://localhost:8080/",
          "height": 276
        },
        "id": "q3evvo7JzIAZ",
        "outputId": "355651c0-7dd0-4a85-d1c6-80af4a646446"
      },
      "source": [
        "plt.hist(train_x.reshape((60000*28*28,)), bins=100)\n",
        "plt.show()"
      ],
      "execution_count": 23,
      "outputs": [
        {
          "output_type": "display_data",
          "data": {
            "image/png": "[encoded data removed]",
            "text/plain": [
              "<Figure size 432x288 with 1 Axes>"
            ]
          },
          "metadata": {
            "tags": [],
            "needs_background": "light"
          }
        }
      ]
    },
    {
      "cell_type": "code",
      "metadata": {
        "colab": {
          "base_uri": "https://localhost:8080/"
        },
        "id": "hNTFGiwCih07",
        "outputId": "da936a73-42f3-4f1f-cec5-a6a5343a9d96"
      },
      "source": [
        "model = keras.Sequential()\n",
        "model.add(Flatten(input_shape=(28, 28)))\n",
        "model.add(Dense(10, activation='relu'))\n",
        "model.add(Dense(10, activation='relu'))\n",
        "model.add(Dense(10, activation='softmax'))\n",
        "\n",
        "model.compile(optimizer=\"adam\", loss=\"sparse_categorical_crossentropy\", metrics=[\"accuracy\"])\n",
        "model.summary()\n",
        "\n",
        "model.fit(train_x, train_y, epochs=5, verbose=1, batch_size=128)\n",
        "\n",
        "loss, acc = model.evaluate(test_x, test_y)\n",
        "print(\"loss=\",loss)\n",
        "print(\"acc=\",acc)"
      ],
      "execution_count": 24,
      "outputs": [
        {
          "output_type": "stream",
          "text": [
            "Model: \"sequential_3\"\n",
            "_________________________________________________________________\n",
            "Layer (type)                 Output Shape              Param #   \n",
            "=================================================================\n",
            "flatten (Flatten)            (None, 784)               0         \n",
            "_________________________________________________________________\n",
            "dense_9 (Dense)              (None, 10)                7850      \n",
            "_________________________________________________________________\n",
            "dense_10 (Dense)             (None, 10)                110       \n",
            "_________________________________________________________________\n",
            "dense_11 (Dense)             (None, 10)                110       \n",
            "=================================================================\n",
            "Total params: 8,070\n",
            "Trainable params: 8,070\n",
            "Non-trainable params: 0\n",
            "_________________________________________________________________\n",
            "Epoch 1/5\n",
            "469/469 [==============================] - 1s 2ms/step - loss: 2.6062 - accuracy: 0.1514\n",
            "Epoch 2/5\n",
            "469/469 [==============================] - 1s 2ms/step - loss: 1.9148 - accuracy: 0.2634\n",
            "Epoch 3/5\n",
            "469/469 [==============================] - 1s 2ms/step - loss: 1.7198 - accuracy: 0.3180\n",
            "Epoch 4/5\n",
            "469/469 [==============================] - 1s 2ms/step - loss: 1.6189 - accuracy: 0.3630\n",
            "Epoch 5/5\n",
            "469/469 [==============================] - 1s 2ms/step - loss: 1.4532 - accuracy: 0.4335\n",
            "313/313 [==============================] - 1s 2ms/step - loss: 1.3586 - accuracy: 0.4450\n",
            "loss= 1.358643889427185\n",
            "acc= 0.4449999928474426\n"
          ],
          "name": "stdout"
        }
      ]
    },
    {
      "cell_type": "code",
      "metadata": {
        "id": "UTsMt1dluXxE"
      },
      "source": [
        ""
      ],
      "execution_count": 24,
      "outputs": []
    },
    {
      "cell_type": "markdown",
      "metadata": {
        "id": "PZRtMNZUgaA8"
      },
      "source": [
        "## Normalization 적용\n",
        "\n",
        "0 ~ 1 사이의 값으로 변경한다."
      ]
    },
    {
      "cell_type": "code",
      "metadata": {
        "id": "hl6MZdmzhmmJ"
      },
      "source": [
        "(train_x, train_y), (test_x, test_y) = tf.keras.datasets.mnist.load_data()\n",
        "\n",
        "all_x = np.vstack([train_x, test_x])\n",
        "max = np.max(all_x)\n",
        "min = np.min(all_x)\n",
        "\n",
        "train_x = (train_x - min) / (max - min)\n",
        "test_x = (test_x - min) / (max - min)"
      ],
      "execution_count": 25,
      "outputs": []
    },
    {
      "cell_type": "code",
      "metadata": {
        "colab": {
          "base_uri": "https://localhost:8080/",
          "height": 276
        },
        "id": "eY0VKCdHzob3",
        "outputId": "580cc274-696d-4b17-d588-7942bd1f0d0b"
      },
      "source": [
        "plt.hist(train_x.reshape((60000*28*28,)), bins=100)\n",
        "plt.show()"
      ],
      "execution_count": 26,
      "outputs": [
        {
          "output_type": "display_data",
          "data": {
            "image/png": "[encoded data removed]",
            "text/plain": [
              "<Figure size 432x288 with 1 Axes>"
            ]
          },
          "metadata": {
            "tags": [],
            "needs_background": "light"
          }
        }
      ]
    },
    {
      "cell_type": "code",
      "metadata": {
        "colab": {
          "base_uri": "https://localhost:8080/"
        },
        "id": "jCyyrKxtgdlc",
        "outputId": "d9a26fa0-2dea-4786-a9d8-289caed304a3"
      },
      "source": [
        "model = keras.Sequential()\n",
        "model.add(Flatten(input_shape=(28, 28)))\n",
        "model.add(Dense(10, activation='relu'))\n",
        "model.add(Dense(10, activation='relu'))\n",
        "model.add(Dense(10, activation='softmax'))\n",
        "\n",
        "model.compile(optimizer=\"adam\", loss=\"sparse_categorical_crossentropy\", metrics=[\"accuracy\"])\n",
        "model.summary()\n",
        "\n",
        "model.fit(train_x, train_y, epochs=5, verbose=1, batch_size=128)\n",
        "\n",
        "loss, acc = model.evaluate(test_x, test_y)\n",
        "print(\"loss=\",loss)\n",
        "print(\"acc=\",acc)"
      ],
      "execution_count": 27,
      "outputs": [
        {
          "output_type": "stream",
          "text": [
            "Model: \"sequential_4\"\n",
            "_________________________________________________________________\n",
            "Layer (type)                 Output Shape              Param #   \n",
            "=================================================================\n",
            "flatten_1 (Flatten)          (None, 784)               0         \n",
            "_________________________________________________________________\n",
            "dense_12 (Dense)             (None, 10)                7850      \n",
            "_________________________________________________________________\n",
            "dense_13 (Dense)             (None, 10)                110       \n",
            "_________________________________________________________________\n",
            "dense_14 (Dense)             (None, 10)                110       \n",
            "=================================================================\n",
            "Total params: 8,070\n",
            "Trainable params: 8,070\n",
            "Non-trainable params: 0\n",
            "_________________________________________________________________\n",
            "Epoch 1/5\n",
            "469/469 [==============================] - 1s 2ms/step - loss: 0.8325 - accuracy: 0.7479\n",
            "Epoch 2/5\n",
            "469/469 [==============================] - 1s 2ms/step - loss: 0.3799 - accuracy: 0.8884\n",
            "Epoch 3/5\n",
            "469/469 [==============================] - 1s 2ms/step - loss: 0.3283 - accuracy: 0.9058\n",
            "Epoch 4/5\n",
            "469/469 [==============================] - 1s 2ms/step - loss: 0.3004 - accuracy: 0.9145\n",
            "Epoch 5/5\n",
            "469/469 [==============================] - 1s 2ms/step - loss: 0.2823 - accuracy: 0.9190\n",
            "313/313 [==============================] - 1s 2ms/step - loss: 0.2823 - accuracy: 0.9178\n",
            "loss= 0.28226789832115173\n",
            "acc= 0.9178000092506409\n"
          ],
          "name": "stdout"
        }
      ]
    },
    {
      "cell_type": "markdown",
      "metadata": {
        "id": "B8woQFKAqL2v"
      },
      "source": [
        "## Standardization 적용"
      ]
    },
    {
      "cell_type": "code",
      "metadata": {
        "id": "agXf0GBHsZ6w"
      },
      "source": [
        "(train_x, train_y), (test_x, test_y) = tf.keras.datasets.mnist.load_data()\n",
        "\n",
        "all_x = np.vstack([train_x, test_x])\n",
        "mean = np.mean(all_x)\n",
        "std = np.std(all_x)\n",
        "\n",
        "train_x = (train_x - mean) / std\n",
        "test_x = (test_x - mean) / std"
      ],
      "execution_count": 28,
      "outputs": []
    },
    {
      "cell_type": "code",
      "metadata": {
        "colab": {
          "base_uri": "https://localhost:8080/",
          "height": 276
        },
        "id": "Dc2rU807zqu9",
        "outputId": "d46c210d-78ed-4d06-c2c3-5195c92f260e"
      },
      "source": [
        "plt.hist(train_x.reshape((60000*28*28,)), bins=100)\n",
        "plt.show()"
      ],
      "execution_count": 29,
      "outputs": [
        {
          "output_type": "display_data",
          "data": {
            "image/png": "[encoded data removed]",
            "text/plain": [
              "<Figure size 432x288 with 1 Axes>"
            ]
          },
          "metadata": {
            "tags": [],
            "needs_background": "light"
          }
        }
      ]
    },
    {
      "cell_type": "code",
      "metadata": {
        "colab": {
          "base_uri": "https://localhost:8080/"
        },
        "id": "7bsJoPFCsZ67",
        "outputId": "da03a31a-c5f6-4509-9fb1-db5d2ced5dc7"
      },
      "source": [
        "model = keras.Sequential()\n",
        "model.add(Flatten(input_shape=(28, 28)))\n",
        "model.add(Dense(10, activation='relu'))\n",
        "model.add(Dense(10, activation='relu'))\n",
        "model.add(Dense(10, activation='softmax'))\n",
        "\n",
        "model.compile(optimizer=\"adam\", loss=\"sparse_categorical_crossentropy\", metrics=[\"accuracy\"])\n",
        "model.summary()\n",
        "\n",
        "model.fit(train_x, train_y, epochs=5, verbose=1, batch_size=128)\n",
        "\n",
        "loss, acc = model.evaluate(test_x, test_y)\n",
        "print(\"loss=\",loss)\n",
        "print(\"acc=\",acc)"
      ],
      "execution_count": 30,
      "outputs": [
        {
          "output_type": "stream",
          "text": [
            "Model: \"sequential_5\"\n",
            "_________________________________________________________________\n",
            "Layer (type)                 Output Shape              Param #   \n",
            "=================================================================\n",
            "flatten_2 (Flatten)          (None, 784)               0         \n",
            "_________________________________________________________________\n",
            "dense_15 (Dense)             (None, 10)                7850      \n",
            "_________________________________________________________________\n",
            "dense_16 (Dense)             (None, 10)                110       \n",
            "_________________________________________________________________\n",
            "dense_17 (Dense)             (None, 10)                110       \n",
            "=================================================================\n",
            "Total params: 8,070\n",
            "Trainable params: 8,070\n",
            "Non-trainable params: 0\n",
            "_________________________________________________________________\n",
            "Epoch 1/5\n",
            "469/469 [==============================] - 1s 2ms/step - loss: 0.7579 - accuracy: 0.7571\n",
            "Epoch 2/5\n",
            "469/469 [==============================] - 1s 2ms/step - loss: 0.3089 - accuracy: 0.9115\n",
            "Epoch 3/5\n",
            "469/469 [==============================] - 1s 2ms/step - loss: 0.2700 - accuracy: 0.9210\n",
            "Epoch 4/5\n",
            "469/469 [==============================] - 1s 2ms/step - loss: 0.2501 - accuracy: 0.9263\n",
            "Epoch 5/5\n",
            "469/469 [==============================] - 1s 2ms/step - loss: 0.2384 - accuracy: 0.9289\n",
            "313/313 [==============================] - 1s 2ms/step - loss: 0.2387 - accuracy: 0.9299\n",
            "loss= 0.2386600822210312\n",
            "acc= 0.9298999905586243\n"
          ],
          "name": "stdout"
        }
      ]
    },
    {
      "cell_type": "code",
      "metadata": {
        "id": "qtntCeHWW42I"
      },
      "source": [
        ""
      ],
      "execution_count": 30,
      "outputs": []
    }
  ]
}