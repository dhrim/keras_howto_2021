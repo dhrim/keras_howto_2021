{
  "nbformat": 4,
  "nbformat_minor": 0,
  "metadata": {
    "colab": {
      "name": "normalization_and_standardization.ipynb",
      "provenance": [],
      "collapsed_sections": [],
      "toc_visible": true
    },
    "kernelspec": {
      "name": "python3",
      "display_name": "Python 3"
    },
    "accelerator": "GPU"
  },
  "cells": [
    {
      "cell_type": "markdown",
      "metadata": {
        "id": "9yXOlKhmgPkB"
      },
      "source": [
        "# 기반 준비"
      ]
    },
    {
      "cell_type": "markdown",
      "metadata": {
        "id": "pMZ7No6QgT0o"
      },
      "source": [
        "## 모듈 임포팅"
      ]
    },
    {
      "cell_type": "code",
      "metadata": {
        "id": "pH--ADDvhXQM"
      },
      "source": [
        "import numpy as np\n",
        "import pandas as pd\n",
        "import matplotlib.pyplot as plt\n",
        "\n",
        "import tensorflow as tf\n",
        "from tensorflow import keras\n",
        "from tensorflow.keras import optimizers\n",
        "from tensorflow.keras.layers import Dense, Flatten"
      ],
      "execution_count": 1,
      "outputs": []
    },
    {
      "cell_type": "markdown",
      "metadata": {
        "id": "_cIXGNBpkD13"
      },
      "source": [
        "## 속성 데이터 준비"
      ]
    },
    {
      "cell_type": "markdown",
      "metadata": {
        "id": "kpizcbIn5CK6"
      },
      "source": [
        "### 데이터 다운로드"
      ]
    },
    {
      "cell_type": "code",
      "metadata": {
        "id": "is1Jygwv8leP",
        "colab": {
          "base_uri": "https://localhost:8080/"
        },
        "outputId": "63db8184-3352-4b64-c3ae-fed87fc758dd"
      },
      "source": [
        "!wget https://github.com/dhrim/keras_howto_2021/raw/master/common/iris.csv"
      ],
      "execution_count": 2,
      "outputs": [
        {
          "output_type": "stream",
          "text": [
            "--2021-07-25 12:57:29--  https://github.com/dhrim/keras_howto_2021/raw/master/common/iris.csv\n",
            "Resolving github.com (github.com)... 140.82.113.4\n",
            "Connecting to github.com (github.com)|140.82.113.4|:443... connected.\n",
            "HTTP request sent, awaiting response... 302 Found\n",
            "Location: https://raw.githubusercontent.com/dhrim/keras_howto_2021/master/common/iris.csv [following]\n",
            "--2021-07-25 12:57:29--  https://raw.githubusercontent.com/dhrim/keras_howto_2021/master/common/iris.csv\n",
            "Resolving raw.githubusercontent.com (raw.githubusercontent.com)... 185.199.108.133, 185.199.109.133, 185.199.110.133, ...\n",
            "Connecting to raw.githubusercontent.com (raw.githubusercontent.com)|185.199.108.133|:443... connected.\n",
            "HTTP request sent, awaiting response... 200 OK\n",
            "Length: 2218 (2.2K) [text/plain]\n",
            "Saving to: ‘iris.csv.5’\n",
            "\n",
            "iris.csv.5          100%[===================>]   2.17K  --.-KB/s    in 0s      \n",
            "\n",
            "2021-07-25 12:57:29 (37.2 MB/s) - ‘iris.csv.5’ saved [2218/2218]\n",
            "\n"
          ],
          "name": "stdout"
        }
      ]
    },
    {
      "cell_type": "code",
      "metadata": {
        "id": "7Uw1AwaxbTm7",
        "colab": {
          "base_uri": "https://localhost:8080/"
        },
        "outputId": "342e56de-41a4-440d-ea73-c6688857ab8b"
      },
      "source": [
        "!head iris.csv"
      ],
      "execution_count": 3,
      "outputs": [
        {
          "output_type": "stream",
          "text": [
            "septal_length,septal_width,petal_length,petal_width,class\n",
            "6.4,2.8,5.6,2.2,2\n",
            "5.0,2.3,3.3,1.0,1\n",
            "4.9,2.5,4.5,1.7,2\n",
            "4.9,3.1,1.5,0.1,0\n",
            "5.7,3.8,1.7,0.3,0\n",
            "4.4,3.2,1.3,0.2,0\n",
            "5.4,3.4,1.5,0.4,0\n",
            "6.9,3.1,5.1,2.3,2\n",
            "6.7,3.1,4.4,1.4,1\n"
          ],
          "name": "stdout"
        }
      ]
    },
    {
      "cell_type": "markdown",
      "metadata": {
        "id": "a8JBf-TC5AWk"
      },
      "source": [
        "### 데이터 로딩"
      ]
    },
    {
      "cell_type": "code",
      "metadata": {
        "id": "J1fqqYEm8n2t",
        "colab": {
          "base_uri": "https://localhost:8080/",
          "height": 204
        },
        "outputId": "0fb3659b-b491-4aa4-ef95-5e5c5ccdab28"
      },
      "source": [
        "iris = pd.read_csv(\"iris.csv\")\n",
        "iris.head()"
      ],
      "execution_count": 4,
      "outputs": [
        {
          "output_type": "execute_result",
          "data": {
            "text/html": [
              "<div>\n",
              "<style scoped>\n",
              "    .dataframe tbody tr th:only-of-type {\n",
              "        vertical-align: middle;\n",
              "    }\n",
              "\n",
              "    .dataframe tbody tr th {\n",
              "        vertical-align: top;\n",
              "    }\n",
              "\n",
              "    .dataframe thead th {\n",
              "        text-align: right;\n",
              "    }\n",
              "</style>\n",
              "<table border=\"1\" class=\"dataframe\">\n",
              "  <thead>\n",
              "    <tr style=\"text-align: right;\">\n",
              "      <th></th>\n",
              "      <th>septal_length</th>\n",
              "      <th>septal_width</th>\n",
              "      <th>petal_length</th>\n",
              "      <th>petal_width</th>\n",
              "      <th>class</th>\n",
              "    </tr>\n",
              "  </thead>\n",
              "  <tbody>\n",
              "    <tr>\n",
              "      <th>0</th>\n",
              "      <td>6.4</td>\n",
              "      <td>2.8</td>\n",
              "      <td>5.6</td>\n",
              "      <td>2.2</td>\n",
              "      <td>2</td>\n",
              "    </tr>\n",
              "    <tr>\n",
              "      <th>1</th>\n",
              "      <td>5.0</td>\n",
              "      <td>2.3</td>\n",
              "      <td>3.3</td>\n",
              "      <td>1.0</td>\n",
              "      <td>1</td>\n",
              "    </tr>\n",
              "    <tr>\n",
              "      <th>2</th>\n",
              "      <td>4.9</td>\n",
              "      <td>2.5</td>\n",
              "      <td>4.5</td>\n",
              "      <td>1.7</td>\n",
              "      <td>2</td>\n",
              "    </tr>\n",
              "    <tr>\n",
              "      <th>3</th>\n",
              "      <td>4.9</td>\n",
              "      <td>3.1</td>\n",
              "      <td>1.5</td>\n",
              "      <td>0.1</td>\n",
              "      <td>0</td>\n",
              "    </tr>\n",
              "    <tr>\n",
              "      <th>4</th>\n",
              "      <td>5.7</td>\n",
              "      <td>3.8</td>\n",
              "      <td>1.7</td>\n",
              "      <td>0.3</td>\n",
              "      <td>0</td>\n",
              "    </tr>\n",
              "  </tbody>\n",
              "</table>\n",
              "</div>"
            ],
            "text/plain": [
              "   septal_length  septal_width  petal_length  petal_width  class\n",
              "0            6.4           2.8           5.6          2.2      2\n",
              "1            5.0           2.3           3.3          1.0      1\n",
              "2            4.9           2.5           4.5          1.7      2\n",
              "3            4.9           3.1           1.5          0.1      0\n",
              "4            5.7           3.8           1.7          0.3      0"
            ]
          },
          "metadata": {
            "tags": []
          },
          "execution_count": 4
        }
      ]
    },
    {
      "cell_type": "code",
      "metadata": {
        "id": "4-ZtqXYD8s1O",
        "colab": {
          "base_uri": "https://localhost:8080/"
        },
        "outputId": "b88269d8-4d1f-49d4-c59d-3e653dba6109"
      },
      "source": [
        "iris_data = iris.to_numpy()\n",
        "print(iris_data.shape)\n",
        "print(iris_data[:5])"
      ],
      "execution_count": 5,
      "outputs": [
        {
          "output_type": "stream",
          "text": [
            "(120, 5)\n",
            "[[6.4 2.8 5.6 2.2 2. ]\n",
            " [5.  2.3 3.3 1.  1. ]\n",
            " [4.9 2.5 4.5 1.7 2. ]\n",
            " [4.9 3.1 1.5 0.1 0. ]\n",
            " [5.7 3.8 1.7 0.3 0. ]]\n"
          ],
          "name": "stdout"
        }
      ]
    },
    {
      "cell_type": "markdown",
      "metadata": {
        "id": "sfiCFU6gQpKT"
      },
      "source": [
        "### x, y 분리 전에 섞기"
      ]
    },
    {
      "cell_type": "code",
      "metadata": {
        "colab": {
          "base_uri": "https://localhost:8080/"
        },
        "id": "DO5ECbO1Qg2j",
        "outputId": "b3d7dbf5-e683-49c1-c336-b9dbcd27bec9"
      },
      "source": [
        "np.random.shuffle(iris_data)\n",
        "print(iris_data[:5])"
      ],
      "execution_count": 6,
      "outputs": [
        {
          "output_type": "stream",
          "text": [
            "[[4.6 3.6 1.  0.2 0. ]\n",
            " [6.5 3.2 5.1 2.  2. ]\n",
            " [4.8 3.4 1.6 0.2 0. ]\n",
            " [5.  3.5 1.6 0.6 0. ]\n",
            " [6.5 3.  5.8 2.2 2. ]]\n"
          ],
          "name": "stdout"
        }
      ]
    },
    {
      "cell_type": "markdown",
      "metadata": {
        "id": "Xae8So1p507Y"
      },
      "source": [
        "### x, y로 분리"
      ]
    },
    {
      "cell_type": "code",
      "metadata": {
        "id": "QJcOQ_2l5z9Y"
      },
      "source": [
        "iris_raw_x = iris_data[:,:4]\n",
        "iris_raw_y = iris_data[:,4:]"
      ],
      "execution_count": 7,
      "outputs": []
    },
    {
      "cell_type": "code",
      "metadata": {
        "colab": {
          "base_uri": "https://localhost:8080/"
        },
        "id": "rXRphvub54dh",
        "outputId": "eb081500-ab2f-407d-9681-6284f38f1e99"
      },
      "source": [
        "print(iris_raw_x.shape)\n",
        "print(iris_raw_y.shape)"
      ],
      "execution_count": 8,
      "outputs": [
        {
          "output_type": "stream",
          "text": [
            "(120, 4)\n",
            "(120, 1)\n"
          ],
          "name": "stdout"
        }
      ]
    },
    {
      "cell_type": "code",
      "metadata": {
        "colab": {
          "base_uri": "https://localhost:8080/"
        },
        "id": "0EqgDbXI5-vj",
        "outputId": "c00e3d66-d9a1-4ece-d4ad-ab92b7d2efc6"
      },
      "source": [
        "print(iris_raw_x[:5])\n",
        "print(iris_raw_y[:5])"
      ],
      "execution_count": 9,
      "outputs": [
        {
          "output_type": "stream",
          "text": [
            "[[4.6 3.6 1.  0.2]\n",
            " [6.5 3.2 5.1 2. ]\n",
            " [4.8 3.4 1.6 0.2]\n",
            " [5.  3.5 1.6 0.6]\n",
            " [6.5 3.  5.8 2.2]]\n",
            "[[0.]\n",
            " [2.]\n",
            " [0.]\n",
            " [0.]\n",
            " [2.]]\n"
          ],
          "name": "stdout"
        }
      ]
    },
    {
      "cell_type": "markdown",
      "metadata": {
        "id": "IjJwImlTvEMZ"
      },
      "source": [
        "# 속성 데이터"
      ]
    },
    {
      "cell_type": "markdown",
      "metadata": {
        "id": "c8WtAbpQuQjK"
      },
      "source": [
        "## 아무것도 적용 하지 않은"
      ]
    },
    {
      "cell_type": "code",
      "metadata": {
        "id": "tQkgY4QcoIVI"
      },
      "source": [
        "x = iris_raw_x\n",
        "y = iris_raw_y"
      ],
      "execution_count": 25,
      "outputs": []
    },
    {
      "cell_type": "code",
      "metadata": {
        "id": "7OuxU3Z98L8w"
      },
      "source": [
        "from sklearn.model_selection import train_test_split\n",
        "\n",
        "train_x, test_x, train_y, test_y = train_test_split(x, y, test_size=0.1, shuffle=True)\n"
      ],
      "execution_count": 26,
      "outputs": []
    },
    {
      "cell_type": "code",
      "metadata": {
        "id": "Mtq7nWpj-isQ",
        "colab": {
          "base_uri": "https://localhost:8080/"
        },
        "outputId": "67514bdd-35cd-47f8-c165-9230fdea18f6"
      },
      "source": [
        "model = keras.Sequential([\n",
        "    keras.layers.Dense(10, activation='relu', input_shape=(4,)),\n",
        "    keras.layers.Dense(10, activation='relu'),\n",
        "    keras.layers.Dense(3, activation='softmax')\n",
        "])\n",
        "\n",
        "model.compile(optimizer='adam',\n",
        "              loss='sparse_categorical_crossentropy',\n",
        "              metrics=['accuracy'])\n",
        "\n",
        "model.fit(train_x, train_y, epochs=10, validation_split=0.2)\n",
        "\n",
        "loss, acc = model.evaluate(test_x, test_y)\n",
        "\n",
        "print(\"loss :\", loss)\n",
        "print(\"acc :\", acc)"
      ],
      "execution_count": 27,
      "outputs": [
        {
          "output_type": "stream",
          "text": [
            "Epoch 1/10\n",
            "3/3 [==============================] - 0s 62ms/step - loss: 1.2098 - accuracy: 0.4535 - val_loss: 1.2716 - val_accuracy: 0.4545\n",
            "Epoch 2/10\n",
            "3/3 [==============================] - 0s 15ms/step - loss: 1.1802 - accuracy: 0.5000 - val_loss: 1.2332 - val_accuracy: 0.3636\n",
            "Epoch 3/10\n",
            "3/3 [==============================] - 0s 11ms/step - loss: 1.1546 - accuracy: 0.3488 - val_loss: 1.2000 - val_accuracy: 0.3636\n",
            "Epoch 4/10\n",
            "3/3 [==============================] - 0s 11ms/step - loss: 1.1337 - accuracy: 0.3488 - val_loss: 1.1693 - val_accuracy: 0.3636\n",
            "Epoch 5/10\n",
            "3/3 [==============================] - 0s 10ms/step - loss: 1.1189 - accuracy: 0.3488 - val_loss: 1.1423 - val_accuracy: 0.3636\n",
            "Epoch 6/10\n",
            "3/3 [==============================] - 0s 11ms/step - loss: 1.1008 - accuracy: 0.3488 - val_loss: 1.1216 - val_accuracy: 0.3636\n",
            "Epoch 7/10\n",
            "3/3 [==============================] - 0s 11ms/step - loss: 1.0870 - accuracy: 0.3488 - val_loss: 1.1036 - val_accuracy: 0.3636\n",
            "Epoch 8/10\n",
            "3/3 [==============================] - 0s 10ms/step - loss: 1.0732 - accuracy: 0.3488 - val_loss: 1.0883 - val_accuracy: 0.3636\n",
            "Epoch 9/10\n",
            "3/3 [==============================] - 0s 10ms/step - loss: 1.0613 - accuracy: 0.3488 - val_loss: 1.0738 - val_accuracy: 0.3636\n",
            "Epoch 10/10\n",
            "3/3 [==============================] - 0s 11ms/step - loss: 1.0498 - accuracy: 0.3488 - val_loss: 1.0605 - val_accuracy: 0.3636\n",
            "1/1 [==============================] - 0s 22ms/step - loss: 1.1593 - accuracy: 0.1667\n",
            "loss : 1.159281849861145\n",
            "acc : 0.1666666716337204\n"
          ],
          "name": "stdout"
        }
      ]
    },
    {
      "cell_type": "code",
      "metadata": {
        "id": "qT9WCz-xuXPD"
      },
      "source": [
        ""
      ],
      "execution_count": 27,
      "outputs": []
    },
    {
      "cell_type": "markdown",
      "metadata": {
        "id": "nXhrrOwgjcB9"
      },
      "source": [
        "## Normalization 적용\n",
        "\n",
        "각 속성 별로 개별 데이터 이다. 각 컬럼 별로 해주어야 한다."
      ]
    },
    {
      "cell_type": "code",
      "metadata": {
        "id": "jX667dX-nWXn"
      },
      "source": [
        "df_x = pd.DataFrame(iris_raw_x)\n",
        "df_x_scaled = (df_x - df_x.min()) / (df_x.max() - df_x.min())\n",
        "x = df_x_scaled.to_numpy()\n",
        "\n",
        "y = iris_raw_y"
      ],
      "execution_count": 28,
      "outputs": []
    },
    {
      "cell_type": "code",
      "metadata": {
        "id": "S1xoEqGEllHS"
      },
      "source": [
        "from sklearn.model_selection import train_test_split\n",
        "\n",
        "train_x, test_x, train_y, test_y = train_test_split(x, y, test_size=0.1, shuffle=True)\n"
      ],
      "execution_count": 29,
      "outputs": []
    },
    {
      "cell_type": "code",
      "metadata": {
        "colab": {
          "base_uri": "https://localhost:8080/"
        },
        "id": "IJB-iQVyllHb",
        "outputId": "876b8451-ed0b-4dd7-819d-bb8df3cf6c8c"
      },
      "source": [
        "model = keras.Sequential([\n",
        "    keras.layers.Dense(10, activation='relu', input_shape=(4,)),\n",
        "    keras.layers.Dense(10, activation='relu'),\n",
        "    keras.layers.Dense(3, activation='softmax')\n",
        "])\n",
        "\n",
        "model.compile(optimizer='adam',\n",
        "              loss='sparse_categorical_crossentropy',\n",
        "              metrics=['accuracy'])\n",
        "\n",
        "model.fit(train_x, train_y, epochs=10, validation_split=0.2)\n",
        "\n",
        "loss, acc = model.evaluate(test_x, test_y)\n",
        "\n",
        "print(\"loss :\", loss)\n",
        "print(\"acc :\", acc)"
      ],
      "execution_count": 30,
      "outputs": [
        {
          "output_type": "stream",
          "text": [
            "Epoch 1/10\n",
            "3/3 [==============================] - 0s 60ms/step - loss: 1.1848 - accuracy: 0.3256 - val_loss: 1.1449 - val_accuracy: 0.3636\n",
            "Epoch 2/10\n",
            "3/3 [==============================] - 0s 10ms/step - loss: 1.1731 - accuracy: 0.3256 - val_loss: 1.1369 - val_accuracy: 0.3636\n",
            "Epoch 3/10\n",
            "3/3 [==============================] - 0s 10ms/step - loss: 1.1616 - accuracy: 0.3256 - val_loss: 1.1293 - val_accuracy: 0.3636\n",
            "Epoch 4/10\n",
            "3/3 [==============================] - 0s 16ms/step - loss: 1.1515 - accuracy: 0.3256 - val_loss: 1.1221 - val_accuracy: 0.3636\n",
            "Epoch 5/10\n",
            "3/3 [==============================] - 0s 19ms/step - loss: 1.1420 - accuracy: 0.3140 - val_loss: 1.1153 - val_accuracy: 0.3636\n",
            "Epoch 6/10\n",
            "3/3 [==============================] - 0s 10ms/step - loss: 1.1314 - accuracy: 0.3140 - val_loss: 1.1087 - val_accuracy: 0.3636\n",
            "Epoch 7/10\n",
            "3/3 [==============================] - 0s 9ms/step - loss: 1.1238 - accuracy: 0.3140 - val_loss: 1.1024 - val_accuracy: 0.3636\n",
            "Epoch 8/10\n",
            "3/3 [==============================] - 0s 10ms/step - loss: 1.1151 - accuracy: 0.3140 - val_loss: 1.0964 - val_accuracy: 0.3636\n",
            "Epoch 9/10\n",
            "3/3 [==============================] - 0s 11ms/step - loss: 1.1076 - accuracy: 0.3140 - val_loss: 1.0905 - val_accuracy: 0.3636\n",
            "Epoch 10/10\n",
            "3/3 [==============================] - 0s 10ms/step - loss: 1.1002 - accuracy: 0.3256 - val_loss: 1.0848 - val_accuracy: 0.3636\n",
            "1/1 [==============================] - 0s 15ms/step - loss: 1.0720 - accuracy: 0.5833\n",
            "loss : 1.0720347166061401\n",
            "acc : 0.5833333134651184\n"
          ],
          "name": "stdout"
        }
      ]
    },
    {
      "cell_type": "markdown",
      "metadata": {
        "id": "6EgZXbG_qJnF"
      },
      "source": [
        "## Standardization 적용\n",
        "\n",
        "column 별로 해주기 위해 pandas를 사용한다.\n"
      ]
    },
    {
      "cell_type": "code",
      "metadata": {
        "id": "l1wmuZGWqaoh"
      },
      "source": [
        "df_x = pd.DataFrame(iris_raw_x)\n",
        "df_x_scaled = (df_x - df_x.mean()) / (df_x.std())\n",
        "x = df_x_scaled.to_numpy()\n",
        "\n",
        "y = iris_raw_y"
      ],
      "execution_count": 31,
      "outputs": []
    },
    {
      "cell_type": "code",
      "metadata": {
        "id": "Aw5HQaQVqaoh"
      },
      "source": [
        "from sklearn.model_selection import train_test_split\n",
        "\n",
        "train_x, test_x, train_y, test_y = train_test_split(x, y, test_size=0.1, shuffle=True)\n"
      ],
      "execution_count": 32,
      "outputs": []
    },
    {
      "cell_type": "code",
      "metadata": {
        "colab": {
          "base_uri": "https://localhost:8080/"
        },
        "id": "92nWewufqaoi",
        "outputId": "276781c9-ebe3-43f6-8e09-909e53c33243"
      },
      "source": [
        "model = keras.Sequential([\n",
        "    keras.layers.Dense(10, activation='relu', input_shape=(4,)),\n",
        "    keras.layers.Dense(10, activation='relu'),\n",
        "    keras.layers.Dense(3, activation='softmax')\n",
        "])\n",
        "\n",
        "model.compile(optimizer='adam',\n",
        "              loss='sparse_categorical_crossentropy',\n",
        "              metrics=['accuracy'])\n",
        "\n",
        "\n",
        "model.fit(train_x, train_y, epochs=10, validation_split=0.2)\n",
        "\n",
        "loss, acc = model.evaluate(test_x, test_y)\n",
        "\n",
        "print(\"loss :\", loss)\n",
        "print(\"acc :\", acc)"
      ],
      "execution_count": 33,
      "outputs": [
        {
          "output_type": "stream",
          "text": [
            "Epoch 1/10\n",
            "3/3 [==============================] - 0s 72ms/step - loss: 0.9853 - accuracy: 0.3372 - val_loss: 0.8864 - val_accuracy: 0.6818\n",
            "Epoch 2/10\n",
            "3/3 [==============================] - 0s 10ms/step - loss: 0.9656 - accuracy: 0.3721 - val_loss: 0.8773 - val_accuracy: 0.6818\n",
            "Epoch 3/10\n",
            "3/3 [==============================] - 0s 11ms/step - loss: 0.9469 - accuracy: 0.4070 - val_loss: 0.8672 - val_accuracy: 0.6818\n",
            "Epoch 4/10\n",
            "3/3 [==============================] - 0s 10ms/step - loss: 0.9291 - accuracy: 0.4767 - val_loss: 0.8569 - val_accuracy: 0.6818\n",
            "Epoch 5/10\n",
            "3/3 [==============================] - 0s 10ms/step - loss: 0.9119 - accuracy: 0.5698 - val_loss: 0.8475 - val_accuracy: 0.6818\n",
            "Epoch 6/10\n",
            "3/3 [==============================] - 0s 10ms/step - loss: 0.8950 - accuracy: 0.6279 - val_loss: 0.8383 - val_accuracy: 0.6818\n",
            "Epoch 7/10\n",
            "3/3 [==============================] - 0s 10ms/step - loss: 0.8794 - accuracy: 0.6395 - val_loss: 0.8293 - val_accuracy: 0.6818\n",
            "Epoch 8/10\n",
            "3/3 [==============================] - 0s 10ms/step - loss: 0.8631 - accuracy: 0.6628 - val_loss: 0.8196 - val_accuracy: 0.6818\n",
            "Epoch 9/10\n",
            "3/3 [==============================] - 0s 22ms/step - loss: 0.8475 - accuracy: 0.6744 - val_loss: 0.8099 - val_accuracy: 0.6364\n",
            "Epoch 10/10\n",
            "3/3 [==============================] - 0s 11ms/step - loss: 0.8331 - accuracy: 0.6860 - val_loss: 0.8009 - val_accuracy: 0.6364\n",
            "1/1 [==============================] - 0s 14ms/step - loss: 0.9685 - accuracy: 0.5000\n",
            "loss : 0.9685394167900085\n",
            "acc : 0.5\n"
          ],
          "name": "stdout"
        }
      ]
    },
    {
      "cell_type": "code",
      "metadata": {
        "id": "LcQhBruYrXFo"
      },
      "source": [
        ""
      ],
      "execution_count": 18,
      "outputs": []
    },
    {
      "cell_type": "markdown",
      "metadata": {
        "id": "_kRQaCx2vPjQ"
      },
      "source": [
        "# 영상 데이터"
      ]
    },
    {
      "cell_type": "markdown",
      "metadata": {
        "id": "nFXaPJzruUZz"
      },
      "source": [
        "## 아무것도 적용 하지 않은"
      ]
    },
    {
      "cell_type": "code",
      "metadata": {
        "id": "PY0r4eraifEQ"
      },
      "source": [
        "(train_x, train_y), (test_x, test_y) = tf.keras.datasets.mnist.load_data()\n"
      ],
      "execution_count": 19,
      "outputs": []
    },
    {
      "cell_type": "code",
      "metadata": {
        "colab": {
          "base_uri": "https://localhost:8080/"
        },
        "id": "hNTFGiwCih07",
        "outputId": "5bf461b1-52af-4212-99b1-5ee94a782687"
      },
      "source": [
        "model = keras.Sequential()\n",
        "model.add(Flatten(input_shape=(28, 28)))\n",
        "model.add(Dense(10, activation='relu'))\n",
        "model.add(Dense(10, activation='relu'))\n",
        "model.add(Dense(10, activation='softmax'))\n",
        "\n",
        "model.compile(optimizer=\"adam\", loss=\"sparse_categorical_crossentropy\", metrics=[\"accuracy\"])\n",
        "model.summary()\n",
        "\n",
        "model.fit(train_x, train_y, epochs=5, verbose=1, batch_size=128)\n",
        "\n",
        "loss, acc = model.evaluate(test_x, test_y)\n",
        "print(\"loss=\",loss)\n",
        "print(\"acc=\",acc)"
      ],
      "execution_count": 20,
      "outputs": [
        {
          "output_type": "stream",
          "text": [
            "Model: \"sequential_3\"\n",
            "_________________________________________________________________\n",
            "Layer (type)                 Output Shape              Param #   \n",
            "=================================================================\n",
            "flatten (Flatten)            (None, 784)               0         \n",
            "_________________________________________________________________\n",
            "dense_9 (Dense)              (None, 10)                7850      \n",
            "_________________________________________________________________\n",
            "dense_10 (Dense)             (None, 10)                110       \n",
            "_________________________________________________________________\n",
            "dense_11 (Dense)             (None, 10)                110       \n",
            "=================================================================\n",
            "Total params: 8,070\n",
            "Trainable params: 8,070\n",
            "Non-trainable params: 0\n",
            "_________________________________________________________________\n",
            "Epoch 1/5\n",
            "469/469 [==============================] - 1s 2ms/step - loss: 3.5980 - accuracy: 0.1125\n",
            "Epoch 2/5\n",
            "469/469 [==============================] - 1s 2ms/step - loss: 2.2947 - accuracy: 0.1183\n",
            "Epoch 3/5\n",
            "469/469 [==============================] - 1s 2ms/step - loss: 2.1455 - accuracy: 0.1860\n",
            "Epoch 4/5\n",
            "469/469 [==============================] - 1s 2ms/step - loss: 1.9988 - accuracy: 0.2305\n",
            "Epoch 5/5\n",
            "469/469 [==============================] - 1s 2ms/step - loss: 1.8794 - accuracy: 0.2645\n",
            "313/313 [==============================] - 1s 2ms/step - loss: 1.8452 - accuracy: 0.2966\n",
            "loss= 1.8452115058898926\n",
            "acc= 0.29660001397132874\n"
          ],
          "name": "stdout"
        }
      ]
    },
    {
      "cell_type": "code",
      "metadata": {
        "id": "UTsMt1dluXxE"
      },
      "source": [
        ""
      ],
      "execution_count": 20,
      "outputs": []
    },
    {
      "cell_type": "markdown",
      "metadata": {
        "id": "PZRtMNZUgaA8"
      },
      "source": [
        "## Normalization 적용\n",
        "\n",
        "0 ~ 1 사이의 값으로 변경한다."
      ]
    },
    {
      "cell_type": "code",
      "metadata": {
        "id": "hl6MZdmzhmmJ"
      },
      "source": [
        "(train_x, train_y), (test_x, test_y) = tf.keras.datasets.mnist.load_data()\n",
        "\n",
        "all_x = np.vstack([train_x, test_x])\n",
        "max = np.max(all_x)\n",
        "min = np.min(all_x)\n",
        "\n",
        "train_x = (train_x - min) / (max - min)\n",
        "test_x = (test_x - min) / (max - min)"
      ],
      "execution_count": 21,
      "outputs": []
    },
    {
      "cell_type": "code",
      "metadata": {
        "colab": {
          "base_uri": "https://localhost:8080/"
        },
        "id": "jCyyrKxtgdlc",
        "outputId": "855aeb5f-2865-4778-f8bb-fb308853281b"
      },
      "source": [
        "model = keras.Sequential()\n",
        "model.add(Flatten(input_shape=(28, 28)))\n",
        "model.add(Dense(10, activation='relu'))\n",
        "model.add(Dense(10, activation='relu'))\n",
        "model.add(Dense(10, activation='softmax'))\n",
        "\n",
        "model.compile(optimizer=\"adam\", loss=\"sparse_categorical_crossentropy\", metrics=[\"accuracy\"])\n",
        "model.summary()\n",
        "\n",
        "model.fit(train_x, train_y, epochs=5, verbose=1, batch_size=128)\n",
        "\n",
        "loss, acc = model.evaluate(test_x, test_y)\n",
        "print(\"loss=\",loss)\n",
        "print(\"acc=\",acc)"
      ],
      "execution_count": 22,
      "outputs": [
        {
          "output_type": "stream",
          "text": [
            "Model: \"sequential_4\"\n",
            "_________________________________________________________________\n",
            "Layer (type)                 Output Shape              Param #   \n",
            "=================================================================\n",
            "flatten_1 (Flatten)          (None, 784)               0         \n",
            "_________________________________________________________________\n",
            "dense_12 (Dense)             (None, 10)                7850      \n",
            "_________________________________________________________________\n",
            "dense_13 (Dense)             (None, 10)                110       \n",
            "_________________________________________________________________\n",
            "dense_14 (Dense)             (None, 10)                110       \n",
            "=================================================================\n",
            "Total params: 8,070\n",
            "Trainable params: 8,070\n",
            "Non-trainable params: 0\n",
            "_________________________________________________________________\n",
            "Epoch 1/5\n",
            "469/469 [==============================] - 1s 2ms/step - loss: 0.8530 - accuracy: 0.7452\n",
            "Epoch 2/5\n",
            "469/469 [==============================] - 1s 2ms/step - loss: 0.3590 - accuracy: 0.8968\n",
            "Epoch 3/5\n",
            "469/469 [==============================] - 1s 2ms/step - loss: 0.3059 - accuracy: 0.9118\n",
            "Epoch 4/5\n",
            "469/469 [==============================] - 1s 2ms/step - loss: 0.2792 - accuracy: 0.9201\n",
            "Epoch 5/5\n",
            "469/469 [==============================] - 1s 2ms/step - loss: 0.2635 - accuracy: 0.9250\n",
            "313/313 [==============================] - 1s 2ms/step - loss: 0.2540 - accuracy: 0.9278\n",
            "loss= 0.25403323769569397\n",
            "acc= 0.9277999997138977\n"
          ],
          "name": "stdout"
        }
      ]
    },
    {
      "cell_type": "markdown",
      "metadata": {
        "id": "B8woQFKAqL2v"
      },
      "source": [
        "## Standardization 적용"
      ]
    },
    {
      "cell_type": "code",
      "metadata": {
        "id": "agXf0GBHsZ6w"
      },
      "source": [
        "(train_x, train_y), (test_x, test_y) = tf.keras.datasets.mnist.load_data()\n",
        "\n",
        "all_x = np.vstack([train_x, test_x])\n",
        "max = np.max(all_x)\n",
        "min = np.min(all_x)\n",
        "\n",
        "train_x = (train_x - min) / (max - min)\n",
        "test_x = (test_x - min) / (max - min)"
      ],
      "execution_count": 23,
      "outputs": []
    },
    {
      "cell_type": "code",
      "metadata": {
        "colab": {
          "base_uri": "https://localhost:8080/"
        },
        "id": "7bsJoPFCsZ67",
        "outputId": "048fd884-12ea-459e-ab6d-00512b992c36"
      },
      "source": [
        "model = keras.Sequential()\n",
        "model.add(Flatten(input_shape=(28, 28)))\n",
        "model.add(Dense(10, activation='relu'))\n",
        "model.add(Dense(10, activation='relu'))\n",
        "model.add(Dense(10, activation='softmax'))\n",
        "\n",
        "model.compile(optimizer=\"adam\", loss=\"sparse_categorical_crossentropy\", metrics=[\"accuracy\"])\n",
        "model.summary()\n",
        "\n",
        "model.fit(train_x, train_y, epochs=5, verbose=1, batch_size=128)\n",
        "\n",
        "loss, acc = model.evaluate(test_x, test_y)\n",
        "print(\"loss=\",loss)\n",
        "print(\"acc=\",acc)"
      ],
      "execution_count": 24,
      "outputs": [
        {
          "output_type": "stream",
          "text": [
            "Model: \"sequential_5\"\n",
            "_________________________________________________________________\n",
            "Layer (type)                 Output Shape              Param #   \n",
            "=================================================================\n",
            "flatten_2 (Flatten)          (None, 784)               0         \n",
            "_________________________________________________________________\n",
            "dense_15 (Dense)             (None, 10)                7850      \n",
            "_________________________________________________________________\n",
            "dense_16 (Dense)             (None, 10)                110       \n",
            "_________________________________________________________________\n",
            "dense_17 (Dense)             (None, 10)                110       \n",
            "=================================================================\n",
            "Total params: 8,070\n",
            "Trainable params: 8,070\n",
            "Non-trainable params: 0\n",
            "_________________________________________________________________\n",
            "Epoch 1/5\n",
            "469/469 [==============================] - 1s 2ms/step - loss: 0.8849 - accuracy: 0.7304\n",
            "Epoch 2/5\n",
            "469/469 [==============================] - 1s 2ms/step - loss: 0.3647 - accuracy: 0.8979\n",
            "Epoch 3/5\n",
            "469/469 [==============================] - 1s 2ms/step - loss: 0.3161 - accuracy: 0.9118\n",
            "Epoch 4/5\n",
            "469/469 [==============================] - 1s 2ms/step - loss: 0.2947 - accuracy: 0.9174\n",
            "Epoch 5/5\n",
            "469/469 [==============================] - 1s 2ms/step - loss: 0.2806 - accuracy: 0.9211\n",
            "313/313 [==============================] - 1s 2ms/step - loss: 0.2741 - accuracy: 0.9213\n",
            "loss= 0.27409493923187256\n",
            "acc= 0.9212999939918518\n"
          ],
          "name": "stdout"
        }
      ]
    },
    {
      "cell_type": "code",
      "metadata": {
        "id": "qtntCeHWW42I"
      },
      "source": [
        ""
      ],
      "execution_count": 24,
      "outputs": []
    }
  ]
}