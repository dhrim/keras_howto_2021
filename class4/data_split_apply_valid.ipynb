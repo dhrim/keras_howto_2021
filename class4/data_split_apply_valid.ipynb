{
  "nbformat": 4,
  "nbformat_minor": 0,
  "metadata": {
    "colab": {
      "name": "data_split_apply_valid.ipynb",
      "provenance": [],
      "collapsed_sections": [],
      "toc_visible": true
    },
    "kernelspec": {
      "name": "python3",
      "display_name": "Python 3"
    },
    "accelerator": "GPU"
  },
  "cells": [
    {
      "cell_type": "markdown",
      "metadata": {
        "id": "61m6MyO78ny1"
      },
      "source": [
        "# 기반 준비"
      ]
    },
    {
      "cell_type": "markdown",
      "metadata": {
        "id": "agjGts-O30S0"
      },
      "source": [
        "## 모듈 임포팅"
      ]
    },
    {
      "cell_type": "code",
      "metadata": {
        "id": "ID7lfGHi8g6u"
      },
      "source": [
        "import numpy as np\n",
        "import pandas as pd\n",
        "import matplotlib.pyplot as plt\n",
        "\n",
        "import tensorflow as tf\n",
        "\n",
        "from tensorflow import keras\n",
        "from tensorflow.keras import optimizers\n",
        "from tensorflow.keras.layers import Dense"
      ],
      "execution_count": 28,
      "outputs": []
    },
    {
      "cell_type": "markdown",
      "metadata": {
        "id": "kpizcbIn5CK6"
      },
      "source": [
        "## 데이터 다운로드"
      ]
    },
    {
      "cell_type": "code",
      "metadata": {
        "id": "is1Jygwv8leP",
        "colab": {
          "base_uri": "https://localhost:8080/"
        },
        "outputId": "95b95e6c-80e2-467f-e5c9-0714bb81d858"
      },
      "source": [
        "!wget https://github.com/dhrim/keras_howto_2021/raw/master/common/iris.csv"
      ],
      "execution_count": 29,
      "outputs": [
        {
          "output_type": "stream",
          "text": [
            "--2021-07-25 10:41:39--  https://github.com/dhrim/keras_howto_2021/raw/master/common/iris.csv\n",
            "Resolving github.com (github.com)... 140.82.112.4\n",
            "Connecting to github.com (github.com)|140.82.112.4|:443... connected.\n",
            "HTTP request sent, awaiting response... 302 Found\n",
            "Location: https://raw.githubusercontent.com/dhrim/keras_howto_2021/master/common/iris.csv [following]\n",
            "--2021-07-25 10:41:39--  https://raw.githubusercontent.com/dhrim/keras_howto_2021/master/common/iris.csv\n",
            "Resolving raw.githubusercontent.com (raw.githubusercontent.com)... 185.199.108.133, 185.199.109.133, 185.199.110.133, ...\n",
            "Connecting to raw.githubusercontent.com (raw.githubusercontent.com)|185.199.108.133|:443... connected.\n",
            "HTTP request sent, awaiting response... 200 OK\n",
            "Length: 2218 (2.2K) [text/plain]\n",
            "Saving to: ‘iris.csv.1’\n",
            "\n",
            "\riris.csv.1            0%[                    ]       0  --.-KB/s               \riris.csv.1          100%[===================>]   2.17K  --.-KB/s    in 0s      \n",
            "\n",
            "2021-07-25 10:41:40 (34.1 MB/s) - ‘iris.csv.1’ saved [2218/2218]\n",
            "\n"
          ],
          "name": "stdout"
        }
      ]
    },
    {
      "cell_type": "code",
      "metadata": {
        "id": "7Uw1AwaxbTm7",
        "colab": {
          "base_uri": "https://localhost:8080/"
        },
        "outputId": "2b91f9f8-3f67-498e-ce91-daaed4bcc8de"
      },
      "source": [
        "!head iris.csv"
      ],
      "execution_count": 30,
      "outputs": [
        {
          "output_type": "stream",
          "text": [
            "septal_length,septal_width,petal_length,petal_width,class\n",
            "6.4,2.8,5.6,2.2,2\n",
            "5.0,2.3,3.3,1.0,1\n",
            "4.9,2.5,4.5,1.7,2\n",
            "4.9,3.1,1.5,0.1,0\n",
            "5.7,3.8,1.7,0.3,0\n",
            "4.4,3.2,1.3,0.2,0\n",
            "5.4,3.4,1.5,0.4,0\n",
            "6.9,3.1,5.1,2.3,2\n",
            "6.7,3.1,4.4,1.4,1\n"
          ],
          "name": "stdout"
        }
      ]
    },
    {
      "cell_type": "markdown",
      "metadata": {
        "id": "a8JBf-TC5AWk"
      },
      "source": [
        "## 데이터 로딩"
      ]
    },
    {
      "cell_type": "code",
      "metadata": {
        "id": "J1fqqYEm8n2t",
        "colab": {
          "base_uri": "https://localhost:8080/",
          "height": 204
        },
        "outputId": "c12ec139-4d09-4d1e-f32f-bacddf879496"
      },
      "source": [
        "iris = pd.read_csv(\"iris.csv\")\n",
        "iris.head()"
      ],
      "execution_count": 31,
      "outputs": [
        {
          "output_type": "execute_result",
          "data": {
            "text/html": [
              "<div>\n",
              "<style scoped>\n",
              "    .dataframe tbody tr th:only-of-type {\n",
              "        vertical-align: middle;\n",
              "    }\n",
              "\n",
              "    .dataframe tbody tr th {\n",
              "        vertical-align: top;\n",
              "    }\n",
              "\n",
              "    .dataframe thead th {\n",
              "        text-align: right;\n",
              "    }\n",
              "</style>\n",
              "<table border=\"1\" class=\"dataframe\">\n",
              "  <thead>\n",
              "    <tr style=\"text-align: right;\">\n",
              "      <th></th>\n",
              "      <th>septal_length</th>\n",
              "      <th>septal_width</th>\n",
              "      <th>petal_length</th>\n",
              "      <th>petal_width</th>\n",
              "      <th>class</th>\n",
              "    </tr>\n",
              "  </thead>\n",
              "  <tbody>\n",
              "    <tr>\n",
              "      <th>0</th>\n",
              "      <td>6.4</td>\n",
              "      <td>2.8</td>\n",
              "      <td>5.6</td>\n",
              "      <td>2.2</td>\n",
              "      <td>2</td>\n",
              "    </tr>\n",
              "    <tr>\n",
              "      <th>1</th>\n",
              "      <td>5.0</td>\n",
              "      <td>2.3</td>\n",
              "      <td>3.3</td>\n",
              "      <td>1.0</td>\n",
              "      <td>1</td>\n",
              "    </tr>\n",
              "    <tr>\n",
              "      <th>2</th>\n",
              "      <td>4.9</td>\n",
              "      <td>2.5</td>\n",
              "      <td>4.5</td>\n",
              "      <td>1.7</td>\n",
              "      <td>2</td>\n",
              "    </tr>\n",
              "    <tr>\n",
              "      <th>3</th>\n",
              "      <td>4.9</td>\n",
              "      <td>3.1</td>\n",
              "      <td>1.5</td>\n",
              "      <td>0.1</td>\n",
              "      <td>0</td>\n",
              "    </tr>\n",
              "    <tr>\n",
              "      <th>4</th>\n",
              "      <td>5.7</td>\n",
              "      <td>3.8</td>\n",
              "      <td>1.7</td>\n",
              "      <td>0.3</td>\n",
              "      <td>0</td>\n",
              "    </tr>\n",
              "  </tbody>\n",
              "</table>\n",
              "</div>"
            ],
            "text/plain": [
              "   septal_length  septal_width  petal_length  petal_width  class\n",
              "0            6.4           2.8           5.6          2.2      2\n",
              "1            5.0           2.3           3.3          1.0      1\n",
              "2            4.9           2.5           4.5          1.7      2\n",
              "3            4.9           3.1           1.5          0.1      0\n",
              "4            5.7           3.8           1.7          0.3      0"
            ]
          },
          "metadata": {
            "tags": []
          },
          "execution_count": 31
        }
      ]
    },
    {
      "cell_type": "code",
      "metadata": {
        "id": "4-ZtqXYD8s1O",
        "colab": {
          "base_uri": "https://localhost:8080/"
        },
        "outputId": "058809b3-0b4c-4029-9bfd-0cf9d43eae58"
      },
      "source": [
        "data = iris.to_numpy()\n",
        "print(data.shape)\n",
        "print(data[:5])"
      ],
      "execution_count": 32,
      "outputs": [
        {
          "output_type": "stream",
          "text": [
            "(120, 5)\n",
            "[[6.4 2.8 5.6 2.2 2. ]\n",
            " [5.  2.3 3.3 1.  1. ]\n",
            " [4.9 2.5 4.5 1.7 2. ]\n",
            " [4.9 3.1 1.5 0.1 0. ]\n",
            " [5.7 3.8 1.7 0.3 0. ]]\n"
          ],
          "name": "stdout"
        }
      ]
    },
    {
      "cell_type": "markdown",
      "metadata": {
        "id": "sfiCFU6gQpKT"
      },
      "source": [
        "## x, y 분리 전에 섞기"
      ]
    },
    {
      "cell_type": "code",
      "metadata": {
        "colab": {
          "base_uri": "https://localhost:8080/"
        },
        "id": "DO5ECbO1Qg2j",
        "outputId": "d152b920-be8f-4004-d090-489e24d5e270"
      },
      "source": [
        "np.random.shuffle(data)\n",
        "print(data[:5])"
      ],
      "execution_count": 33,
      "outputs": [
        {
          "output_type": "stream",
          "text": [
            "[[5.8 2.7 5.1 1.9 2. ]\n",
            " [7.7 2.6 6.9 2.3 2. ]\n",
            " [6.8 3.  5.5 2.  1. ]\n",
            " [5.7 2.8 4.1 1.3 1. ]\n",
            " [6.8 3.2 5.9 2.3 2. ]]\n"
          ],
          "name": "stdout"
        }
      ]
    },
    {
      "cell_type": "markdown",
      "metadata": {
        "id": "Xae8So1p507Y"
      },
      "source": [
        "## x, y로 분리"
      ]
    },
    {
      "cell_type": "code",
      "metadata": {
        "id": "QJcOQ_2l5z9Y"
      },
      "source": [
        "x = data[:,:4]\n",
        "y = data[:,4:]"
      ],
      "execution_count": 6,
      "outputs": []
    },
    {
      "cell_type": "code",
      "metadata": {
        "colab": {
          "base_uri": "https://localhost:8080/"
        },
        "id": "rXRphvub54dh",
        "outputId": "2be008d3-fba2-4f99-c259-aefd29dd7cb1"
      },
      "source": [
        "print(x.shape)\n",
        "print(y.shape)"
      ],
      "execution_count": 7,
      "outputs": [
        {
          "output_type": "stream",
          "text": [
            "(120, 4)\n",
            "(120, 1)\n"
          ],
          "name": "stdout"
        }
      ]
    },
    {
      "cell_type": "code",
      "metadata": {
        "colab": {
          "base_uri": "https://localhost:8080/"
        },
        "id": "0EqgDbXI5-vj",
        "outputId": "9ed06f15-b54b-4dae-dda0-8d44ff8e2317"
      },
      "source": [
        "print(x[:5])\n",
        "print(y[:5])"
      ],
      "execution_count": 8,
      "outputs": [
        {
          "output_type": "stream",
          "text": [
            "[[6.4 2.8 5.6 2.2]\n",
            " [5.  2.3 3.3 1. ]\n",
            " [4.9 2.5 4.5 1.7]\n",
            " [4.9 3.1 1.5 0.1]\n",
            " [5.7 3.8 1.7 0.3]]\n",
            "[[2.]\n",
            " [1.]\n",
            " [2.]\n",
            " [0.]\n",
            " [0.]]\n"
          ],
          "name": "stdout"
        }
      ]
    },
    {
      "cell_type": "markdown",
      "metadata": {
        "id": "cuHu0EKcRD27"
      },
      "source": [
        "## x, y 쌍을 섞기"
      ]
    },
    {
      "cell_type": "code",
      "metadata": {
        "colab": {
          "base_uri": "https://localhost:8080/"
        },
        "id": "XRu3SjIIQ0So",
        "outputId": "8ac2b57d-9e86-43fa-a087-2e10ad182488"
      },
      "source": [
        "indexes = np.arange(x.shape[0])\n",
        "np.random.shuffle(indexes)\n",
        "\n",
        "x = x[indexes]\n",
        "y = y[indexes]"
      ],
      "execution_count": 37,
      "outputs": [
        {
          "output_type": "stream",
          "text": [
            "[0 1 2 3 4 5 6 7 8 9]\n",
            "[118  68  13   6  77  71   1 110  41  23]\n"
          ],
          "name": "stdout"
        }
      ]
    },
    {
      "cell_type": "markdown",
      "metadata": {
        "id": "giMgHzNY8861"
      },
      "source": [
        "# 데이터 분리"
      ]
    },
    {
      "cell_type": "markdown",
      "metadata": {
        "id": "smFdOX0J5JML"
      },
      "source": [
        "## 수작업으로 데이터 분리\n",
        "\n",
        "train:valid:test를 8:1:1로 쪼갬\n",
        "\n",
        "우선 8:2로 먼저 쪼개고, 나머지 2를 1:1:로 쪼갬"
      ]
    },
    {
      "cell_type": "code",
      "metadata": {
        "id": "YUqZeQAm8s3t",
        "colab": {
          "base_uri": "https://localhost:8080/"
        },
        "outputId": "a70588db-37fd-4088-e5a6-ba77965fa732"
      },
      "source": [
        "# train과 remain로 쪼개기\n",
        "split_index = int(len(x)*0.8)\n",
        "\n",
        "train_x, remain_x = x[:split_index], x[split_index:]\n",
        "train_y, remain_y = y[:split_index], y[split_index:]\n",
        "\n",
        "\n",
        "# reamin을 validation과 test로 쪼개기\n",
        "split_index = int(len(remain_x)*0.5)\n",
        "print(split_index)\n",
        "\n",
        "valid_x, test_x = remain_x[:split_index], remain_x[split_index:]\n",
        "valid_y, test_y = remain_y[:split_index], remain_y[split_index:]"
      ],
      "execution_count": 9,
      "outputs": [
        {
          "output_type": "stream",
          "text": [
            "12\n"
          ],
          "name": "stdout"
        }
      ]
    },
    {
      "cell_type": "code",
      "metadata": {
        "colab": {
          "base_uri": "https://localhost:8080/"
        },
        "id": "YvwuD4kw6Gmp",
        "outputId": "184c7525-311e-4fef-81b7-b2356a552fbc"
      },
      "source": [
        "print(train_x.shape)\n",
        "print(valid_x.shape)\n",
        "print(test_x.shape)"
      ],
      "execution_count": 10,
      "outputs": [
        {
          "output_type": "stream",
          "text": [
            "(96, 4)\n",
            "(12, 4)\n",
            "(12, 4)\n"
          ],
          "name": "stdout"
        }
      ]
    },
    {
      "cell_type": "markdown",
      "metadata": {
        "id": "F7LLvEfI7hEx"
      },
      "source": [
        "## scikit의 train_test_split()으로 분리"
      ]
    },
    {
      "cell_type": "code",
      "metadata": {
        "id": "cZDAl0wN7yhr"
      },
      "source": [
        "from sklearn.model_selection import train_test_split\n",
        "\n",
        "train_x, remain_x, train_y, remain_y = train_test_split(x, y, test_size=0.2, shuffle=True)\n",
        "\n",
        "valid_x, test_x, valid_y, test_y = train_test_split(remain_x, remain_y, test_size=0.5, shuffle=True)\n"
      ],
      "execution_count": 11,
      "outputs": []
    },
    {
      "cell_type": "code",
      "metadata": {
        "colab": {
          "base_uri": "https://localhost:8080/"
        },
        "id": "5X02mkBQ8KoY",
        "outputId": "f024f06d-7913-4c89-a6e8-bc8fac63a923"
      },
      "source": [
        "print(train_x.shape)\n",
        "print(valid_x.shape)\n",
        "print(test_x.shape)"
      ],
      "execution_count": 12,
      "outputs": [
        {
          "output_type": "stream",
          "text": [
            "(96, 4)\n",
            "(12, 4)\n",
            "(12, 4)\n"
          ],
          "name": "stdout"
        }
      ]
    },
    {
      "cell_type": "markdown",
      "metadata": {
        "id": "2plLac1J9JH7"
      },
      "source": [
        "# validation 데이터 적용"
      ]
    },
    {
      "cell_type": "markdown",
      "metadata": {
        "id": "n5cJVAUC9Lf2"
      },
      "source": [
        "## fit()의 validation_data 사용"
      ]
    },
    {
      "cell_type": "code",
      "metadata": {
        "id": "-5OcKWiQ-UAs"
      },
      "source": [
        "from sklearn.model_selection import train_test_split\n",
        "\n",
        "train_x, remain_x, train_y, remain_y = train_test_split(x, y, test_size=0.2, shuffle=True)\n",
        "\n",
        "valid_x, test_x, valid_y, test_y = train_test_split(remain_x, remain_y, test_size=0.5, shuffle=True)\n"
      ],
      "execution_count": 13,
      "outputs": []
    },
    {
      "cell_type": "code",
      "metadata": {
        "id": "V8bnB60N8O63"
      },
      "source": [
        "model = keras.Sequential([\n",
        "    keras.layers.Dense(10, activation='relu', input_shape=(4,)),\n",
        "    keras.layers.Dense(10, activation='relu'),\n",
        "    keras.layers.Dense(3, activation='softmax')\n",
        "])"
      ],
      "execution_count": 14,
      "outputs": []
    },
    {
      "cell_type": "code",
      "metadata": {
        "id": "KYHa8jO_8O63"
      },
      "source": [
        "model.compile(optimizer='adam',\n",
        "              loss='sparse_categorical_crossentropy',\n",
        "              metrics=['accuracy'])"
      ],
      "execution_count": 15,
      "outputs": []
    },
    {
      "cell_type": "code",
      "metadata": {
        "colab": {
          "base_uri": "https://localhost:8080/"
        },
        "id": "cMv-Gdra8O64",
        "outputId": "c0b9d53d-bafa-4519-9db5-e78172f78c85"
      },
      "source": [
        "model.fit(train_x, train_y, epochs=100, validation_data=(valid_x, valid_y) )"
      ],
      "execution_count": 16,
      "outputs": [
        {
          "output_type": "stream",
          "text": [
            "Epoch 1/100\n",
            "3/3 [==============================] - 3s 74ms/step - loss: 1.0485 - accuracy: 0.4583 - val_loss: 1.0031 - val_accuracy: 0.5000\n",
            "Epoch 2/100\n",
            "3/3 [==============================] - 0s 12ms/step - loss: 1.0373 - accuracy: 0.5208 - val_loss: 0.9941 - val_accuracy: 0.5000\n",
            "Epoch 3/100\n",
            "3/3 [==============================] - 0s 11ms/step - loss: 1.0272 - accuracy: 0.5729 - val_loss: 0.9850 - val_accuracy: 0.5000\n",
            "Epoch 4/100\n",
            "3/3 [==============================] - 0s 10ms/step - loss: 1.0159 - accuracy: 0.5938 - val_loss: 0.9751 - val_accuracy: 0.5000\n",
            "Epoch 5/100\n",
            "3/3 [==============================] - 0s 10ms/step - loss: 1.0053 - accuracy: 0.6458 - val_loss: 0.9639 - val_accuracy: 0.6667\n",
            "Epoch 6/100\n",
            "3/3 [==============================] - 0s 9ms/step - loss: 0.9936 - accuracy: 0.6771 - val_loss: 0.9510 - val_accuracy: 0.6667\n",
            "Epoch 7/100\n",
            "3/3 [==============================] - 0s 10ms/step - loss: 0.9801 - accuracy: 0.6771 - val_loss: 0.9366 - val_accuracy: 0.6667\n",
            "Epoch 8/100\n",
            "3/3 [==============================] - 0s 10ms/step - loss: 0.9631 - accuracy: 0.6875 - val_loss: 0.9226 - val_accuracy: 0.7500\n",
            "Epoch 9/100\n",
            "3/3 [==============================] - 0s 10ms/step - loss: 0.9469 - accuracy: 0.6875 - val_loss: 0.9083 - val_accuracy: 0.7500\n",
            "Epoch 10/100\n",
            "3/3 [==============================] - 0s 10ms/step - loss: 0.9310 - accuracy: 0.6875 - val_loss: 0.8932 - val_accuracy: 0.7500\n",
            "Epoch 11/100\n",
            "3/3 [==============================] - 0s 11ms/step - loss: 0.9142 - accuracy: 0.6875 - val_loss: 0.8769 - val_accuracy: 0.7500\n",
            "Epoch 12/100\n",
            "3/3 [==============================] - 0s 10ms/step - loss: 0.8979 - accuracy: 0.6875 - val_loss: 0.8617 - val_accuracy: 0.7500\n",
            "Epoch 13/100\n",
            "3/3 [==============================] - 0s 10ms/step - loss: 0.8820 - accuracy: 0.6875 - val_loss: 0.8466 - val_accuracy: 0.7500\n",
            "Epoch 14/100\n",
            "3/3 [==============================] - 0s 11ms/step - loss: 0.8669 - accuracy: 0.6875 - val_loss: 0.8321 - val_accuracy: 0.7500\n",
            "Epoch 15/100\n",
            "3/3 [==============================] - 0s 11ms/step - loss: 0.8521 - accuracy: 0.6875 - val_loss: 0.8182 - val_accuracy: 0.7500\n",
            "Epoch 16/100\n",
            "3/3 [==============================] - 0s 14ms/step - loss: 0.8382 - accuracy: 0.6875 - val_loss: 0.8047 - val_accuracy: 0.7500\n",
            "Epoch 17/100\n",
            "3/3 [==============================] - 0s 12ms/step - loss: 0.8237 - accuracy: 0.6875 - val_loss: 0.7909 - val_accuracy: 0.7500\n",
            "Epoch 18/100\n",
            "3/3 [==============================] - 0s 11ms/step - loss: 0.8096 - accuracy: 0.6875 - val_loss: 0.7774 - val_accuracy: 0.7500\n",
            "Epoch 19/100\n",
            "3/3 [==============================] - 0s 11ms/step - loss: 0.7947 - accuracy: 0.6875 - val_loss: 0.7637 - val_accuracy: 0.7500\n",
            "Epoch 20/100\n",
            "3/3 [==============================] - 0s 10ms/step - loss: 0.7803 - accuracy: 0.6875 - val_loss: 0.7501 - val_accuracy: 0.7500\n",
            "Epoch 21/100\n",
            "3/3 [==============================] - 0s 10ms/step - loss: 0.7657 - accuracy: 0.6875 - val_loss: 0.7367 - val_accuracy: 0.7500\n",
            "Epoch 22/100\n",
            "3/3 [==============================] - 0s 12ms/step - loss: 0.7512 - accuracy: 0.6875 - val_loss: 0.7233 - val_accuracy: 0.8333\n",
            "Epoch 23/100\n",
            "3/3 [==============================] - 0s 13ms/step - loss: 0.7369 - accuracy: 0.6979 - val_loss: 0.7101 - val_accuracy: 0.8333\n",
            "Epoch 24/100\n",
            "3/3 [==============================] - 0s 10ms/step - loss: 0.7235 - accuracy: 0.6979 - val_loss: 0.6971 - val_accuracy: 0.8333\n",
            "Epoch 25/100\n",
            "3/3 [==============================] - 0s 20ms/step - loss: 0.7098 - accuracy: 0.6979 - val_loss: 0.6841 - val_accuracy: 0.8333\n",
            "Epoch 26/100\n",
            "3/3 [==============================] - 0s 10ms/step - loss: 0.6969 - accuracy: 0.7292 - val_loss: 0.6708 - val_accuracy: 0.8333\n",
            "Epoch 27/100\n",
            "3/3 [==============================] - 0s 10ms/step - loss: 0.6840 - accuracy: 0.7396 - val_loss: 0.6582 - val_accuracy: 0.9167\n",
            "Epoch 28/100\n",
            "3/3 [==============================] - 0s 11ms/step - loss: 0.6718 - accuracy: 0.7708 - val_loss: 0.6472 - val_accuracy: 0.9167\n",
            "Epoch 29/100\n",
            "3/3 [==============================] - 0s 11ms/step - loss: 0.6605 - accuracy: 0.7604 - val_loss: 0.6372 - val_accuracy: 1.0000\n",
            "Epoch 30/100\n",
            "3/3 [==============================] - 0s 12ms/step - loss: 0.6492 - accuracy: 0.7917 - val_loss: 0.6272 - val_accuracy: 1.0000\n",
            "Epoch 31/100\n",
            "3/3 [==============================] - 0s 10ms/step - loss: 0.6389 - accuracy: 0.8125 - val_loss: 0.6173 - val_accuracy: 1.0000\n",
            "Epoch 32/100\n",
            "3/3 [==============================] - 0s 11ms/step - loss: 0.6291 - accuracy: 0.8438 - val_loss: 0.6078 - val_accuracy: 1.0000\n",
            "Epoch 33/100\n",
            "3/3 [==============================] - 0s 11ms/step - loss: 0.6194 - accuracy: 0.8542 - val_loss: 0.5989 - val_accuracy: 0.9167\n",
            "Epoch 34/100\n",
            "3/3 [==============================] - 0s 10ms/step - loss: 0.6106 - accuracy: 0.8958 - val_loss: 0.5902 - val_accuracy: 0.9167\n",
            "Epoch 35/100\n",
            "3/3 [==============================] - 0s 10ms/step - loss: 0.6020 - accuracy: 0.8958 - val_loss: 0.5821 - val_accuracy: 0.9167\n",
            "Epoch 36/100\n",
            "3/3 [==============================] - 0s 11ms/step - loss: 0.5935 - accuracy: 0.9167 - val_loss: 0.5739 - val_accuracy: 0.9167\n",
            "Epoch 37/100\n",
            "3/3 [==============================] - 0s 11ms/step - loss: 0.5859 - accuracy: 0.9167 - val_loss: 0.5660 - val_accuracy: 0.9167\n",
            "Epoch 38/100\n",
            "3/3 [==============================] - 0s 10ms/step - loss: 0.5782 - accuracy: 0.9167 - val_loss: 0.5581 - val_accuracy: 0.9167\n",
            "Epoch 39/100\n",
            "3/3 [==============================] - 0s 13ms/step - loss: 0.5705 - accuracy: 0.9167 - val_loss: 0.5506 - val_accuracy: 0.9167\n",
            "Epoch 40/100\n",
            "3/3 [==============================] - 0s 12ms/step - loss: 0.5635 - accuracy: 0.9167 - val_loss: 0.5433 - val_accuracy: 0.9167\n",
            "Epoch 41/100\n",
            "3/3 [==============================] - 0s 11ms/step - loss: 0.5567 - accuracy: 0.9167 - val_loss: 0.5359 - val_accuracy: 0.9167\n",
            "Epoch 42/100\n",
            "3/3 [==============================] - 0s 12ms/step - loss: 0.5503 - accuracy: 0.9167 - val_loss: 0.5288 - val_accuracy: 0.9167\n",
            "Epoch 43/100\n",
            "3/3 [==============================] - 0s 13ms/step - loss: 0.5440 - accuracy: 0.8958 - val_loss: 0.5220 - val_accuracy: 0.9167\n",
            "Epoch 44/100\n",
            "3/3 [==============================] - 0s 10ms/step - loss: 0.5378 - accuracy: 0.8854 - val_loss: 0.5155 - val_accuracy: 0.9167\n",
            "Epoch 45/100\n",
            "3/3 [==============================] - 0s 11ms/step - loss: 0.5322 - accuracy: 0.8750 - val_loss: 0.5089 - val_accuracy: 0.9167\n",
            "Epoch 46/100\n",
            "3/3 [==============================] - 0s 11ms/step - loss: 0.5263 - accuracy: 0.8750 - val_loss: 0.5030 - val_accuracy: 0.9167\n",
            "Epoch 47/100\n",
            "3/3 [==============================] - 0s 12ms/step - loss: 0.5208 - accuracy: 0.8646 - val_loss: 0.4970 - val_accuracy: 0.9167\n",
            "Epoch 48/100\n",
            "3/3 [==============================] - 0s 12ms/step - loss: 0.5152 - accuracy: 0.8646 - val_loss: 0.4907 - val_accuracy: 0.9167\n",
            "Epoch 49/100\n",
            "3/3 [==============================] - 0s 11ms/step - loss: 0.5090 - accuracy: 0.8646 - val_loss: 0.4839 - val_accuracy: 0.9167\n",
            "Epoch 50/100\n",
            "3/3 [==============================] - 0s 13ms/step - loss: 0.5027 - accuracy: 0.8958 - val_loss: 0.4777 - val_accuracy: 0.9167\n",
            "Epoch 51/100\n",
            "3/3 [==============================] - 0s 10ms/step - loss: 0.4965 - accuracy: 0.8958 - val_loss: 0.4717 - val_accuracy: 0.9167\n",
            "Epoch 52/100\n",
            "3/3 [==============================] - 0s 10ms/step - loss: 0.4906 - accuracy: 0.9062 - val_loss: 0.4656 - val_accuracy: 0.9167\n",
            "Epoch 53/100\n",
            "3/3 [==============================] - 0s 11ms/step - loss: 0.4852 - accuracy: 0.9167 - val_loss: 0.4587 - val_accuracy: 0.9167\n",
            "Epoch 54/100\n",
            "3/3 [==============================] - 0s 12ms/step - loss: 0.4805 - accuracy: 0.9167 - val_loss: 0.4522 - val_accuracy: 0.9167\n",
            "Epoch 55/100\n",
            "3/3 [==============================] - 0s 13ms/step - loss: 0.4757 - accuracy: 0.9271 - val_loss: 0.4462 - val_accuracy: 0.9167\n",
            "Epoch 56/100\n",
            "3/3 [==============================] - 0s 11ms/step - loss: 0.4712 - accuracy: 0.9271 - val_loss: 0.4406 - val_accuracy: 0.9167\n",
            "Epoch 57/100\n",
            "3/3 [==============================] - 0s 12ms/step - loss: 0.4668 - accuracy: 0.9167 - val_loss: 0.4352 - val_accuracy: 0.9167\n",
            "Epoch 58/100\n",
            "3/3 [==============================] - 0s 10ms/step - loss: 0.4625 - accuracy: 0.9167 - val_loss: 0.4303 - val_accuracy: 0.9167\n",
            "Epoch 59/100\n",
            "3/3 [==============================] - 0s 10ms/step - loss: 0.4586 - accuracy: 0.9167 - val_loss: 0.4252 - val_accuracy: 0.9167\n",
            "Epoch 60/100\n",
            "3/3 [==============================] - 0s 14ms/step - loss: 0.4550 - accuracy: 0.9167 - val_loss: 0.4208 - val_accuracy: 0.9167\n",
            "Epoch 61/100\n",
            "3/3 [==============================] - 0s 14ms/step - loss: 0.4510 - accuracy: 0.9167 - val_loss: 0.4163 - val_accuracy: 0.9167\n",
            "Epoch 62/100\n",
            "3/3 [==============================] - 0s 10ms/step - loss: 0.4477 - accuracy: 0.9167 - val_loss: 0.4116 - val_accuracy: 0.9167\n",
            "Epoch 63/100\n",
            "3/3 [==============================] - 0s 11ms/step - loss: 0.4443 - accuracy: 0.9271 - val_loss: 0.4072 - val_accuracy: 0.9167\n",
            "Epoch 64/100\n",
            "3/3 [==============================] - 0s 11ms/step - loss: 0.4407 - accuracy: 0.9271 - val_loss: 0.4032 - val_accuracy: 0.9167\n",
            "Epoch 65/100\n",
            "3/3 [==============================] - 0s 10ms/step - loss: 0.4376 - accuracy: 0.9271 - val_loss: 0.3988 - val_accuracy: 0.9167\n",
            "Epoch 66/100\n",
            "3/3 [==============================] - 0s 10ms/step - loss: 0.4342 - accuracy: 0.9375 - val_loss: 0.3946 - val_accuracy: 0.9167\n",
            "Epoch 67/100\n",
            "3/3 [==============================] - 0s 11ms/step - loss: 0.4311 - accuracy: 0.9375 - val_loss: 0.3904 - val_accuracy: 0.9167\n",
            "Epoch 68/100\n",
            "3/3 [==============================] - 0s 11ms/step - loss: 0.4280 - accuracy: 0.9375 - val_loss: 0.3863 - val_accuracy: 0.9167\n",
            "Epoch 69/100\n",
            "3/3 [==============================] - 0s 17ms/step - loss: 0.4250 - accuracy: 0.9271 - val_loss: 0.3825 - val_accuracy: 0.9167\n",
            "Epoch 70/100\n",
            "3/3 [==============================] - 0s 15ms/step - loss: 0.4220 - accuracy: 0.9271 - val_loss: 0.3787 - val_accuracy: 0.9167\n",
            "Epoch 71/100\n",
            "3/3 [==============================] - 0s 11ms/step - loss: 0.4191 - accuracy: 0.9271 - val_loss: 0.3751 - val_accuracy: 0.9167\n",
            "Epoch 72/100\n",
            "3/3 [==============================] - 0s 11ms/step - loss: 0.4161 - accuracy: 0.9271 - val_loss: 0.3716 - val_accuracy: 0.9167\n",
            "Epoch 73/100\n",
            "3/3 [==============================] - 0s 11ms/step - loss: 0.4135 - accuracy: 0.9271 - val_loss: 0.3681 - val_accuracy: 0.9167\n",
            "Epoch 74/100\n",
            "3/3 [==============================] - 0s 11ms/step - loss: 0.4108 - accuracy: 0.9271 - val_loss: 0.3647 - val_accuracy: 0.9167\n",
            "Epoch 75/100\n",
            "3/3 [==============================] - 0s 10ms/step - loss: 0.4087 - accuracy: 0.9271 - val_loss: 0.3610 - val_accuracy: 0.9167\n",
            "Epoch 76/100\n",
            "3/3 [==============================] - 0s 11ms/step - loss: 0.4055 - accuracy: 0.9271 - val_loss: 0.3583 - val_accuracy: 0.9167\n",
            "Epoch 77/100\n",
            "3/3 [==============================] - 0s 11ms/step - loss: 0.4029 - accuracy: 0.9271 - val_loss: 0.3551 - val_accuracy: 0.9167\n",
            "Epoch 78/100\n",
            "3/3 [==============================] - 0s 11ms/step - loss: 0.4003 - accuracy: 0.9271 - val_loss: 0.3521 - val_accuracy: 0.9167\n",
            "Epoch 79/100\n",
            "3/3 [==============================] - 0s 12ms/step - loss: 0.3980 - accuracy: 0.9271 - val_loss: 0.3492 - val_accuracy: 0.9167\n",
            "Epoch 80/100\n",
            "3/3 [==============================] - 0s 16ms/step - loss: 0.3959 - accuracy: 0.9271 - val_loss: 0.3467 - val_accuracy: 0.9167\n",
            "Epoch 81/100\n",
            "3/3 [==============================] - 0s 13ms/step - loss: 0.3933 - accuracy: 0.9375 - val_loss: 0.3440 - val_accuracy: 0.9167\n",
            "Epoch 82/100\n",
            "3/3 [==============================] - 0s 11ms/step - loss: 0.3909 - accuracy: 0.9375 - val_loss: 0.3408 - val_accuracy: 0.9167\n",
            "Epoch 83/100\n",
            "3/3 [==============================] - 0s 11ms/step - loss: 0.3887 - accuracy: 0.9271 - val_loss: 0.3373 - val_accuracy: 0.9167\n",
            "Epoch 84/100\n",
            "3/3 [==============================] - 0s 13ms/step - loss: 0.3864 - accuracy: 0.9271 - val_loss: 0.3344 - val_accuracy: 0.9167\n",
            "Epoch 85/100\n",
            "3/3 [==============================] - 0s 12ms/step - loss: 0.3843 - accuracy: 0.9375 - val_loss: 0.3312 - val_accuracy: 0.9167\n",
            "Epoch 86/100\n",
            "3/3 [==============================] - 0s 11ms/step - loss: 0.3819 - accuracy: 0.9271 - val_loss: 0.3287 - val_accuracy: 0.9167\n",
            "Epoch 87/100\n",
            "3/3 [==============================] - 0s 12ms/step - loss: 0.3805 - accuracy: 0.9271 - val_loss: 0.3268 - val_accuracy: 0.9167\n",
            "Epoch 88/100\n",
            "3/3 [==============================] - 0s 12ms/step - loss: 0.3779 - accuracy: 0.9271 - val_loss: 0.3238 - val_accuracy: 0.9167\n",
            "Epoch 89/100\n",
            "3/3 [==============================] - 0s 11ms/step - loss: 0.3758 - accuracy: 0.9271 - val_loss: 0.3218 - val_accuracy: 0.9167\n",
            "Epoch 90/100\n",
            "3/3 [==============================] - 0s 12ms/step - loss: 0.3737 - accuracy: 0.9271 - val_loss: 0.3195 - val_accuracy: 0.9167\n",
            "Epoch 91/100\n",
            "3/3 [==============================] - 0s 11ms/step - loss: 0.3719 - accuracy: 0.9271 - val_loss: 0.3171 - val_accuracy: 0.9167\n",
            "Epoch 92/100\n",
            "3/3 [==============================] - 0s 12ms/step - loss: 0.3697 - accuracy: 0.9271 - val_loss: 0.3139 - val_accuracy: 0.9167\n",
            "Epoch 93/100\n",
            "3/3 [==============================] - 0s 12ms/step - loss: 0.3683 - accuracy: 0.9271 - val_loss: 0.3119 - val_accuracy: 0.9167\n",
            "Epoch 94/100\n",
            "3/3 [==============================] - 0s 12ms/step - loss: 0.3659 - accuracy: 0.9375 - val_loss: 0.3089 - val_accuracy: 0.9167\n",
            "Epoch 95/100\n",
            "3/3 [==============================] - 0s 11ms/step - loss: 0.3642 - accuracy: 0.9375 - val_loss: 0.3065 - val_accuracy: 0.9167\n",
            "Epoch 96/100\n",
            "3/3 [==============================] - 0s 10ms/step - loss: 0.3621 - accuracy: 0.9375 - val_loss: 0.3038 - val_accuracy: 0.9167\n",
            "Epoch 97/100\n",
            "3/3 [==============================] - 0s 15ms/step - loss: 0.3607 - accuracy: 0.9271 - val_loss: 0.3009 - val_accuracy: 0.9167\n",
            "Epoch 98/100\n",
            "3/3 [==============================] - 0s 11ms/step - loss: 0.3587 - accuracy: 0.9271 - val_loss: 0.2993 - val_accuracy: 0.9167\n",
            "Epoch 99/100\n",
            "3/3 [==============================] - 0s 11ms/step - loss: 0.3569 - accuracy: 0.9271 - val_loss: 0.2969 - val_accuracy: 0.9167\n",
            "Epoch 100/100\n",
            "3/3 [==============================] - 0s 13ms/step - loss: 0.3552 - accuracy: 0.9271 - val_loss: 0.2947 - val_accuracy: 0.9167\n"
          ],
          "name": "stdout"
        },
        {
          "output_type": "execute_result",
          "data": {
            "text/plain": [
              "<tensorflow.python.keras.callbacks.History at 0x7f0e7617ed90>"
            ]
          },
          "metadata": {
            "tags": []
          },
          "execution_count": 16
        }
      ]
    },
    {
      "cell_type": "code",
      "metadata": {
        "colab": {
          "base_uri": "https://localhost:8080/"
        },
        "id": "hfiTogJU8O64",
        "outputId": "0fd22187-93cf-4494-84b2-e65587719ae7"
      },
      "source": [
        "loss, acc = model.evaluate(test_x, test_y)\n",
        "\n",
        "print(\"loss :\", loss)\n",
        "print(\"acc :\", acc)\n"
      ],
      "execution_count": 17,
      "outputs": [
        {
          "output_type": "stream",
          "text": [
            "1/1 [==============================] - 0s 14ms/step - loss: 0.3897 - accuracy: 1.0000\n",
            "loss : 0.3896573781967163\n",
            "acc : 1.0\n"
          ],
          "name": "stdout"
        }
      ]
    },
    {
      "cell_type": "markdown",
      "metadata": {
        "id": "I67s099Q-YJd"
      },
      "source": [
        "## fit()의 validation_split 사용\n"
      ]
    },
    {
      "cell_type": "code",
      "metadata": {
        "id": "7OuxU3Z98L8w"
      },
      "source": [
        "from sklearn.model_selection import train_test_split\n",
        "\n",
        "train_x, test_x, train_y, test_y = train_test_split(x, y, test_size=0.1, shuffle=True)\n"
      ],
      "execution_count": 23,
      "outputs": []
    },
    {
      "cell_type": "code",
      "metadata": {
        "id": "Mtq7nWpj-isQ"
      },
      "source": [
        "model = keras.Sequential([\n",
        "    keras.layers.Dense(10, activation='relu', input_shape=(4,)),\n",
        "    keras.layers.Dense(10, activation='relu'),\n",
        "    keras.layers.Dense(3, activation='softmax')\n",
        "])"
      ],
      "execution_count": 24,
      "outputs": []
    },
    {
      "cell_type": "code",
      "metadata": {
        "id": "pWEO6Qur-isQ"
      },
      "source": [
        "model.compile(optimizer='adam',\n",
        "              loss='sparse_categorical_crossentropy',\n",
        "              metrics=['accuracy'])"
      ],
      "execution_count": 25,
      "outputs": []
    },
    {
      "cell_type": "code",
      "metadata": {
        "colab": {
          "base_uri": "https://localhost:8080/"
        },
        "id": "xiQsU0jA-isR",
        "outputId": "65444fdb-5285-4d09-a2ad-75ea14598b99"
      },
      "source": [
        "model.fit(train_x, train_y, epochs=100, validation_split=0.2)"
      ],
      "execution_count": 26,
      "outputs": [
        {
          "output_type": "stream",
          "text": [
            "Epoch 1/100\n",
            "3/3 [==============================] - 0s 63ms/step - loss: 2.4790 - accuracy: 0.0000e+00 - val_loss: 2.2041 - val_accuracy: 0.0000e+00\n",
            "Epoch 2/100\n",
            "3/3 [==============================] - 0s 12ms/step - loss: 2.3824 - accuracy: 0.0000e+00 - val_loss: 2.1222 - val_accuracy: 0.0000e+00\n",
            "Epoch 3/100\n",
            "3/3 [==============================] - 0s 10ms/step - loss: 2.2936 - accuracy: 0.0000e+00 - val_loss: 2.0452 - val_accuracy: 0.0000e+00\n",
            "Epoch 4/100\n",
            "3/3 [==============================] - 0s 10ms/step - loss: 2.2006 - accuracy: 0.0000e+00 - val_loss: 1.9714 - val_accuracy: 0.0000e+00\n",
            "Epoch 5/100\n",
            "3/3 [==============================] - 0s 9ms/step - loss: 2.1272 - accuracy: 0.0000e+00 - val_loss: 1.8979 - val_accuracy: 0.0000e+00\n",
            "Epoch 6/100\n",
            "3/3 [==============================] - 0s 10ms/step - loss: 2.0416 - accuracy: 0.0000e+00 - val_loss: 1.8277 - val_accuracy: 0.0000e+00\n",
            "Epoch 7/100\n",
            "3/3 [==============================] - 0s 12ms/step - loss: 1.9654 - accuracy: 0.0465 - val_loss: 1.7595 - val_accuracy: 0.0000e+00\n",
            "Epoch 8/100\n",
            "3/3 [==============================] - 0s 12ms/step - loss: 1.8896 - accuracy: 0.0698 - val_loss: 1.6930 - val_accuracy: 0.0000e+00\n",
            "Epoch 9/100\n",
            "3/3 [==============================] - 0s 11ms/step - loss: 1.8123 - accuracy: 0.0930 - val_loss: 1.6288 - val_accuracy: 0.0455\n",
            "Epoch 10/100\n",
            "3/3 [==============================] - 0s 10ms/step - loss: 1.7430 - accuracy: 0.1047 - val_loss: 1.5659 - val_accuracy: 0.0455\n",
            "Epoch 11/100\n",
            "3/3 [==============================] - 0s 10ms/step - loss: 1.6732 - accuracy: 0.1163 - val_loss: 1.5062 - val_accuracy: 0.0909\n",
            "Epoch 12/100\n",
            "3/3 [==============================] - 0s 10ms/step - loss: 1.6050 - accuracy: 0.1395 - val_loss: 1.4488 - val_accuracy: 0.0909\n",
            "Epoch 13/100\n",
            "3/3 [==============================] - 0s 10ms/step - loss: 1.5403 - accuracy: 0.2093 - val_loss: 1.3941 - val_accuracy: 0.0909\n",
            "Epoch 14/100\n",
            "3/3 [==============================] - 0s 11ms/step - loss: 1.4805 - accuracy: 0.2558 - val_loss: 1.3421 - val_accuracy: 0.2727\n",
            "Epoch 15/100\n",
            "3/3 [==============================] - 0s 11ms/step - loss: 1.4220 - accuracy: 0.2791 - val_loss: 1.2935 - val_accuracy: 0.2727\n",
            "Epoch 16/100\n",
            "3/3 [==============================] - 0s 10ms/step - loss: 1.3650 - accuracy: 0.3140 - val_loss: 1.2482 - val_accuracy: 0.3636\n",
            "Epoch 17/100\n",
            "3/3 [==============================] - 0s 10ms/step - loss: 1.3143 - accuracy: 0.3837 - val_loss: 1.2059 - val_accuracy: 0.4545\n",
            "Epoch 18/100\n",
            "3/3 [==============================] - 0s 10ms/step - loss: 1.2699 - accuracy: 0.4535 - val_loss: 1.1665 - val_accuracy: 0.5455\n",
            "Epoch 19/100\n",
            "3/3 [==============================] - 0s 10ms/step - loss: 1.2241 - accuracy: 0.5349 - val_loss: 1.1302 - val_accuracy: 0.5909\n",
            "Epoch 20/100\n",
            "3/3 [==============================] - 0s 10ms/step - loss: 1.1869 - accuracy: 0.5581 - val_loss: 1.0968 - val_accuracy: 0.6818\n",
            "Epoch 21/100\n",
            "3/3 [==============================] - 0s 10ms/step - loss: 1.1465 - accuracy: 0.6163 - val_loss: 1.0665 - val_accuracy: 0.6818\n",
            "Epoch 22/100\n",
            "3/3 [==============================] - 0s 10ms/step - loss: 1.1135 - accuracy: 0.6279 - val_loss: 1.0385 - val_accuracy: 0.6818\n",
            "Epoch 23/100\n",
            "3/3 [==============================] - 0s 10ms/step - loss: 1.0827 - accuracy: 0.6395 - val_loss: 1.0133 - val_accuracy: 0.6818\n",
            "Epoch 24/100\n",
            "3/3 [==============================] - 0s 12ms/step - loss: 1.0522 - accuracy: 0.6395 - val_loss: 0.9905 - val_accuracy: 0.6818\n",
            "Epoch 25/100\n",
            "3/3 [==============================] - 0s 10ms/step - loss: 1.0287 - accuracy: 0.6395 - val_loss: 0.9707 - val_accuracy: 0.6818\n",
            "Epoch 26/100\n",
            "3/3 [==============================] - 0s 11ms/step - loss: 1.0057 - accuracy: 0.6395 - val_loss: 0.9536 - val_accuracy: 0.6818\n",
            "Epoch 27/100\n",
            "3/3 [==============================] - 0s 10ms/step - loss: 0.9868 - accuracy: 0.6395 - val_loss: 0.9390 - val_accuracy: 0.6818\n",
            "Epoch 28/100\n",
            "3/3 [==============================] - 0s 10ms/step - loss: 0.9715 - accuracy: 0.6395 - val_loss: 0.9242 - val_accuracy: 0.6818\n",
            "Epoch 29/100\n",
            "3/3 [==============================] - 0s 10ms/step - loss: 0.9565 - accuracy: 0.6512 - val_loss: 0.9084 - val_accuracy: 0.6818\n",
            "Epoch 30/100\n",
            "3/3 [==============================] - 0s 10ms/step - loss: 0.9411 - accuracy: 0.6512 - val_loss: 0.8922 - val_accuracy: 0.6818\n",
            "Epoch 31/100\n",
            "3/3 [==============================] - 0s 10ms/step - loss: 0.9256 - accuracy: 0.6512 - val_loss: 0.8763 - val_accuracy: 0.6818\n",
            "Epoch 32/100\n",
            "3/3 [==============================] - 0s 10ms/step - loss: 0.9124 - accuracy: 0.6512 - val_loss: 0.8615 - val_accuracy: 0.6818\n",
            "Epoch 33/100\n",
            "3/3 [==============================] - 0s 11ms/step - loss: 0.8975 - accuracy: 0.6512 - val_loss: 0.8478 - val_accuracy: 0.6818\n",
            "Epoch 34/100\n",
            "3/3 [==============================] - 0s 10ms/step - loss: 0.8837 - accuracy: 0.6512 - val_loss: 0.8345 - val_accuracy: 0.6818\n",
            "Epoch 35/100\n",
            "3/3 [==============================] - 0s 10ms/step - loss: 0.8712 - accuracy: 0.6512 - val_loss: 0.8217 - val_accuracy: 0.6818\n",
            "Epoch 36/100\n",
            "3/3 [==============================] - 0s 10ms/step - loss: 0.8578 - accuracy: 0.6512 - val_loss: 0.8094 - val_accuracy: 0.6818\n",
            "Epoch 37/100\n",
            "3/3 [==============================] - 0s 10ms/step - loss: 0.8461 - accuracy: 0.6512 - val_loss: 0.7970 - val_accuracy: 0.6818\n",
            "Epoch 38/100\n",
            "3/3 [==============================] - 0s 11ms/step - loss: 0.8336 - accuracy: 0.6512 - val_loss: 0.7852 - val_accuracy: 0.6818\n",
            "Epoch 39/100\n",
            "3/3 [==============================] - 0s 10ms/step - loss: 0.8222 - accuracy: 0.6512 - val_loss: 0.7734 - val_accuracy: 0.6818\n",
            "Epoch 40/100\n",
            "3/3 [==============================] - 0s 10ms/step - loss: 0.8101 - accuracy: 0.6512 - val_loss: 0.7618 - val_accuracy: 0.7273\n",
            "Epoch 41/100\n",
            "3/3 [==============================] - 0s 10ms/step - loss: 0.7985 - accuracy: 0.6512 - val_loss: 0.7500 - val_accuracy: 0.7273\n",
            "Epoch 42/100\n",
            "3/3 [==============================] - 0s 10ms/step - loss: 0.7872 - accuracy: 0.6628 - val_loss: 0.7386 - val_accuracy: 0.7273\n",
            "Epoch 43/100\n",
            "3/3 [==============================] - 0s 10ms/step - loss: 0.7762 - accuracy: 0.6628 - val_loss: 0.7279 - val_accuracy: 0.7273\n",
            "Epoch 44/100\n",
            "3/3 [==============================] - 0s 10ms/step - loss: 0.7657 - accuracy: 0.6628 - val_loss: 0.7180 - val_accuracy: 0.7273\n",
            "Epoch 45/100\n",
            "3/3 [==============================] - 0s 12ms/step - loss: 0.7557 - accuracy: 0.6628 - val_loss: 0.7090 - val_accuracy: 0.7273\n",
            "Epoch 46/100\n",
            "3/3 [==============================] - 0s 12ms/step - loss: 0.7454 - accuracy: 0.6860 - val_loss: 0.7004 - val_accuracy: 0.7273\n",
            "Epoch 47/100\n",
            "3/3 [==============================] - 0s 13ms/step - loss: 0.7357 - accuracy: 0.6860 - val_loss: 0.6920 - val_accuracy: 0.7273\n",
            "Epoch 48/100\n",
            "3/3 [==============================] - 0s 10ms/step - loss: 0.7268 - accuracy: 0.6860 - val_loss: 0.6841 - val_accuracy: 0.7273\n",
            "Epoch 49/100\n",
            "3/3 [==============================] - 0s 10ms/step - loss: 0.7173 - accuracy: 0.6977 - val_loss: 0.6766 - val_accuracy: 0.7727\n",
            "Epoch 50/100\n",
            "3/3 [==============================] - 0s 10ms/step - loss: 0.7087 - accuracy: 0.6977 - val_loss: 0.6688 - val_accuracy: 0.7727\n",
            "Epoch 51/100\n",
            "3/3 [==============================] - 0s 10ms/step - loss: 0.6999 - accuracy: 0.6977 - val_loss: 0.6605 - val_accuracy: 0.7727\n",
            "Epoch 52/100\n",
            "3/3 [==============================] - 0s 12ms/step - loss: 0.6910 - accuracy: 0.7326 - val_loss: 0.6525 - val_accuracy: 0.7727\n",
            "Epoch 53/100\n",
            "3/3 [==============================] - 0s 10ms/step - loss: 0.6827 - accuracy: 0.7442 - val_loss: 0.6447 - val_accuracy: 0.7727\n",
            "Epoch 54/100\n",
            "3/3 [==============================] - 0s 10ms/step - loss: 0.6745 - accuracy: 0.7674 - val_loss: 0.6373 - val_accuracy: 0.8182\n",
            "Epoch 55/100\n",
            "3/3 [==============================] - 0s 10ms/step - loss: 0.6664 - accuracy: 0.8140 - val_loss: 0.6300 - val_accuracy: 0.8182\n",
            "Epoch 56/100\n",
            "3/3 [==============================] - 0s 10ms/step - loss: 0.6583 - accuracy: 0.8256 - val_loss: 0.6222 - val_accuracy: 0.8636\n",
            "Epoch 57/100\n",
            "3/3 [==============================] - 0s 11ms/step - loss: 0.6502 - accuracy: 0.8256 - val_loss: 0.6144 - val_accuracy: 0.8182\n",
            "Epoch 58/100\n",
            "3/3 [==============================] - 0s 19ms/step - loss: 0.6424 - accuracy: 0.8256 - val_loss: 0.6071 - val_accuracy: 0.8182\n",
            "Epoch 59/100\n",
            "3/3 [==============================] - 0s 11ms/step - loss: 0.6347 - accuracy: 0.8256 - val_loss: 0.6005 - val_accuracy: 0.8636\n",
            "Epoch 60/100\n",
            "3/3 [==============================] - 0s 11ms/step - loss: 0.6269 - accuracy: 0.8488 - val_loss: 0.5937 - val_accuracy: 0.8636\n",
            "Epoch 61/100\n",
            "3/3 [==============================] - 0s 12ms/step - loss: 0.6196 - accuracy: 0.8605 - val_loss: 0.5872 - val_accuracy: 0.9091\n",
            "Epoch 62/100\n",
            "3/3 [==============================] - 0s 11ms/step - loss: 0.6119 - accuracy: 0.8721 - val_loss: 0.5804 - val_accuracy: 0.9091\n",
            "Epoch 63/100\n",
            "3/3 [==============================] - 0s 12ms/step - loss: 0.6052 - accuracy: 0.8721 - val_loss: 0.5734 - val_accuracy: 0.9091\n",
            "Epoch 64/100\n",
            "3/3 [==============================] - 0s 20ms/step - loss: 0.5975 - accuracy: 0.8721 - val_loss: 0.5672 - val_accuracy: 0.9091\n",
            "Epoch 65/100\n",
            "3/3 [==============================] - 0s 10ms/step - loss: 0.5905 - accuracy: 0.8837 - val_loss: 0.5612 - val_accuracy: 0.9091\n",
            "Epoch 66/100\n",
            "3/3 [==============================] - 0s 10ms/step - loss: 0.5838 - accuracy: 0.9070 - val_loss: 0.5552 - val_accuracy: 0.9091\n",
            "Epoch 67/100\n",
            "3/3 [==============================] - 0s 10ms/step - loss: 0.5769 - accuracy: 0.9186 - val_loss: 0.5488 - val_accuracy: 0.9091\n",
            "Epoch 68/100\n",
            "3/3 [==============================] - 0s 10ms/step - loss: 0.5704 - accuracy: 0.9186 - val_loss: 0.5426 - val_accuracy: 0.9091\n",
            "Epoch 69/100\n",
            "3/3 [==============================] - 0s 10ms/step - loss: 0.5636 - accuracy: 0.9186 - val_loss: 0.5369 - val_accuracy: 0.9091\n",
            "Epoch 70/100\n",
            "3/3 [==============================] - 0s 10ms/step - loss: 0.5570 - accuracy: 0.9186 - val_loss: 0.5313 - val_accuracy: 0.9091\n",
            "Epoch 71/100\n",
            "3/3 [==============================] - 0s 12ms/step - loss: 0.5510 - accuracy: 0.9186 - val_loss: 0.5259 - val_accuracy: 0.9091\n",
            "Epoch 72/100\n",
            "3/3 [==============================] - 0s 10ms/step - loss: 0.5448 - accuracy: 0.9186 - val_loss: 0.5202 - val_accuracy: 0.9091\n",
            "Epoch 73/100\n",
            "3/3 [==============================] - 0s 14ms/step - loss: 0.5386 - accuracy: 0.9302 - val_loss: 0.5152 - val_accuracy: 0.9091\n",
            "Epoch 74/100\n",
            "3/3 [==============================] - 0s 13ms/step - loss: 0.5331 - accuracy: 0.9302 - val_loss: 0.5103 - val_accuracy: 0.9091\n",
            "Epoch 75/100\n",
            "3/3 [==============================] - 0s 10ms/step - loss: 0.5274 - accuracy: 0.9419 - val_loss: 0.5048 - val_accuracy: 0.9091\n",
            "Epoch 76/100\n",
            "3/3 [==============================] - 0s 10ms/step - loss: 0.5214 - accuracy: 0.9302 - val_loss: 0.4991 - val_accuracy: 0.9091\n",
            "Epoch 77/100\n",
            "3/3 [==============================] - 0s 10ms/step - loss: 0.5160 - accuracy: 0.9302 - val_loss: 0.4944 - val_accuracy: 0.9091\n",
            "Epoch 78/100\n",
            "3/3 [==============================] - 0s 10ms/step - loss: 0.5106 - accuracy: 0.9419 - val_loss: 0.4896 - val_accuracy: 0.9091\n",
            "Epoch 79/100\n",
            "3/3 [==============================] - 0s 10ms/step - loss: 0.5054 - accuracy: 0.9302 - val_loss: 0.4849 - val_accuracy: 0.9091\n",
            "Epoch 80/100\n",
            "3/3 [==============================] - 0s 10ms/step - loss: 0.5003 - accuracy: 0.9302 - val_loss: 0.4804 - val_accuracy: 0.9091\n",
            "Epoch 81/100\n",
            "3/3 [==============================] - 0s 10ms/step - loss: 0.4961 - accuracy: 0.9302 - val_loss: 0.4763 - val_accuracy: 0.9091\n",
            "Epoch 82/100\n",
            "3/3 [==============================] - 0s 15ms/step - loss: 0.4905 - accuracy: 0.9419 - val_loss: 0.4722 - val_accuracy: 0.9091\n",
            "Epoch 83/100\n",
            "3/3 [==============================] - 0s 11ms/step - loss: 0.4858 - accuracy: 0.9419 - val_loss: 0.4684 - val_accuracy: 0.9091\n",
            "Epoch 84/100\n",
            "3/3 [==============================] - 0s 10ms/step - loss: 0.4815 - accuracy: 0.9419 - val_loss: 0.4643 - val_accuracy: 0.9091\n",
            "Epoch 85/100\n",
            "3/3 [==============================] - 0s 10ms/step - loss: 0.4772 - accuracy: 0.9419 - val_loss: 0.4611 - val_accuracy: 0.9091\n",
            "Epoch 86/100\n",
            "3/3 [==============================] - 0s 10ms/step - loss: 0.4722 - accuracy: 0.9419 - val_loss: 0.4574 - val_accuracy: 0.9091\n",
            "Epoch 87/100\n",
            "3/3 [==============================] - 0s 11ms/step - loss: 0.4688 - accuracy: 0.9419 - val_loss: 0.4532 - val_accuracy: 0.9091\n",
            "Epoch 88/100\n",
            "3/3 [==============================] - 0s 10ms/step - loss: 0.4635 - accuracy: 0.9419 - val_loss: 0.4498 - val_accuracy: 0.9091\n",
            "Epoch 89/100\n",
            "3/3 [==============================] - 0s 10ms/step - loss: 0.4594 - accuracy: 0.9419 - val_loss: 0.4461 - val_accuracy: 0.9091\n",
            "Epoch 90/100\n",
            "3/3 [==============================] - 0s 10ms/step - loss: 0.4551 - accuracy: 0.9419 - val_loss: 0.4426 - val_accuracy: 0.9091\n",
            "Epoch 91/100\n",
            "3/3 [==============================] - 0s 13ms/step - loss: 0.4511 - accuracy: 0.9419 - val_loss: 0.4388 - val_accuracy: 0.9091\n",
            "Epoch 92/100\n",
            "3/3 [==============================] - 0s 13ms/step - loss: 0.4471 - accuracy: 0.9419 - val_loss: 0.4353 - val_accuracy: 0.9091\n",
            "Epoch 93/100\n",
            "3/3 [==============================] - 0s 11ms/step - loss: 0.4448 - accuracy: 0.9419 - val_loss: 0.4319 - val_accuracy: 0.9091\n",
            "Epoch 94/100\n",
            "3/3 [==============================] - 0s 10ms/step - loss: 0.4391 - accuracy: 0.9419 - val_loss: 0.4290 - val_accuracy: 0.9091\n",
            "Epoch 95/100\n",
            "3/3 [==============================] - 0s 10ms/step - loss: 0.4354 - accuracy: 0.9419 - val_loss: 0.4266 - val_accuracy: 0.9091\n",
            "Epoch 96/100\n",
            "3/3 [==============================] - 0s 20ms/step - loss: 0.4323 - accuracy: 0.9419 - val_loss: 0.4239 - val_accuracy: 0.9091\n",
            "Epoch 97/100\n",
            "3/3 [==============================] - 0s 20ms/step - loss: 0.4287 - accuracy: 0.9535 - val_loss: 0.4204 - val_accuracy: 0.9091\n",
            "Epoch 98/100\n",
            "3/3 [==============================] - 0s 10ms/step - loss: 0.4248 - accuracy: 0.9535 - val_loss: 0.4166 - val_accuracy: 0.9091\n",
            "Epoch 99/100\n",
            "3/3 [==============================] - 0s 11ms/step - loss: 0.4212 - accuracy: 0.9419 - val_loss: 0.4131 - val_accuracy: 0.9091\n",
            "Epoch 100/100\n",
            "3/3 [==============================] - 0s 10ms/step - loss: 0.4177 - accuracy: 0.9419 - val_loss: 0.4102 - val_accuracy: 0.9091\n"
          ],
          "name": "stdout"
        },
        {
          "output_type": "execute_result",
          "data": {
            "text/plain": [
              "<tensorflow.python.keras.callbacks.History at 0x7f0e64510c10>"
            ]
          },
          "metadata": {
            "tags": []
          },
          "execution_count": 26
        }
      ]
    },
    {
      "cell_type": "code",
      "metadata": {
        "colab": {
          "base_uri": "https://localhost:8080/"
        },
        "id": "Z0oSxP9q-isR",
        "outputId": "4001ee7e-0764-496e-96e0-b94952cda775"
      },
      "source": [
        "loss, acc = model.evaluate(test_x, test_y)\n",
        "\n",
        "print(\"loss :\", loss)\n",
        "print(\"acc :\", acc)\n"
      ],
      "execution_count": 27,
      "outputs": [
        {
          "output_type": "stream",
          "text": [
            "1/1 [==============================] - 0s 17ms/step - loss: 0.5014 - accuracy: 0.9167\n",
            "loss : 0.5014492869377136\n",
            "acc : 0.9166666865348816\n"
          ],
          "name": "stdout"
        }
      ]
    },
    {
      "cell_type": "code",
      "metadata": {
        "id": "NOFfOGap8L52"
      },
      "source": [
        ""
      ],
      "execution_count": 22,
      "outputs": []
    },
    {
      "cell_type": "code",
      "metadata": {
        "id": "VhrTS4Zb_u8G"
      },
      "source": [
        ""
      ],
      "execution_count": 22,
      "outputs": []
    }
  ]
}